{
 "cells": [
  {
   "cell_type": "code",
   "execution_count": 1,
   "metadata": {
    "ExecuteTime": {
     "end_time": "2019-11-22T06:57:19.989743Z",
     "start_time": "2019-11-22T06:57:19.012397Z"
    }
   },
   "outputs": [],
   "source": [
    "import numpy as np\n",
    "import matplotlib.pyplot as plt\n",
    "%matplotlib inline\n",
    "%config InlineBackend.figure_format='retina'"
   ]
  },
  {
   "cell_type": "code",
   "execution_count": 18,
   "metadata": {
    "ExecuteTime": {
     "end_time": "2019-11-22T07:17:30.433015Z",
     "start_time": "2019-11-22T07:17:30.429003Z"
    }
   },
   "outputs": [],
   "source": [
    "width = 300\n",
    "height = 300\n",
    "max_iters = 300\n",
    "limit = 2"
   ]
  },
  {
   "cell_type": "code",
   "execution_count": 24,
   "metadata": {
    "ExecuteTime": {
     "end_time": "2019-11-22T07:25:44.268963Z",
     "start_time": "2019-11-22T07:25:40.784920Z"
    }
   },
   "outputs": [
    {
     "data": {
      "text/plain": [
       "<matplotlib.image.AxesImage at 0x1ea577edc18>"
      ]
     },
     "execution_count": 24,
     "metadata": {},
     "output_type": "execute_result"
    },
    {
     "data": {
      "image/png": "[encoded data removed]",
      "text/plain": [
       "<Figure size 432x288 with 1 Axes>"
      ]
     },
     "metadata": {
      "image/png": {
       "height": 235,
       "width": 235
      }
     },
     "output_type": "display_data"
    }
   ],
   "source": [
    "image = np.zeros((width, height))\n",
    "\n",
    "for ix, x in enumerate(np.linspace(-3, 3, width)):\n",
    "    for iy, y in enumerate(np.linspace(-3, 3, height)):\n",
    "        \n",
    "        c = x + y * 1j\n",
    "        \n",
    "        z = 0\n",
    "        \n",
    "        for n in range(max_iters):\n",
    "            z = z ** 2 + c\n",
    "            \n",
    "            if abs(z) > limit:\n",
    "                \n",
    "                image[ix, iy] = 1\n",
    "                break\n",
    "        \n",
    "\n",
    "\n",
    "plt.xticks([])\n",
    "plt.yticks([])\n",
    "\n",
    "plt.imshow(-image.T, cmap='Greys') # Greys or flag"
   ]
  }
 ],
 "metadata": {
  "kernelspec": {
   "display_name": "Python 3",
   "language": "python",
   "name": "python3"
  },
  "language_info": {
   "codemirror_mode": {
    "name": "ipython",
    "version": 3
   },
   "file_extension": ".py",
   "mimetype": "text/x-python",
   "name": "python",
   "nbconvert_exporter": "python",
   "pygments_lexer": "ipython3",
   "version": "3.7.3"
  }
 },
 "nbformat": 4,
 "nbformat_minor": 2
}
