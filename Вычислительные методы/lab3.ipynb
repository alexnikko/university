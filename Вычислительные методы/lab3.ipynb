{
 "cells": [
  {
   "cell_type": "markdown",
   "metadata": {},
   "source": [
    "## Теоритическая справка\n",
    "Пусть дано равномерное разбиение отрезка интегрирование (на $n$ частей), где $x_i=a+ih$, где $h=\\frac{b-a}{n}$ - шаг сетки  \n",
    "Тогда формула левых прямоугольноков имеет следующий вид: $$\\int_a^b f(x)\\,dx \\approx h\\sum_{i=0}^{n-1}f_i=h\\,(f_0+f_1+\\cdots+f_{n-1}) $$  \n",
    "\n",
    "\n",
    "Формула трапеций примет следующий вид (формула Котеса): $$\\int_a^b f(x)\\,dx \\approx h\\,\\bigg(\\frac{f_0+f_n}{2}+\\sum_{i=1}^{n-1}f_i\\bigg)$$\n",
    "\n",
    "\n",
    "Формула Симпсона примет следующий вид (тоже формула Котеса): $$\\int_a^b f(x)\\,dx \\approx \\frac{h}{3}\\bigg[f(x_0) + 2\\,\\sum_{j=1}^{n-1}f(x_{2j})+4\\,\\sum_{j=1}^nf(x_{2j-1})+f(x_n)\\bigg]$$  \n",
    "При этом в данной формуле, следует учесть, что $n$ - **четное число**, то есть интервал интегрирования разбивают на четное число элементарных отрезков "
   ]
  },
  {
   "cell_type": "code",
   "execution_count": 56,
   "metadata": {
    "ExecuteTime": {
     "end_time": "2019-09-12T08:59:30.893394Z",
     "start_time": "2019-09-12T08:59:30.889492Z"
    }
   },
   "outputs": [],
   "source": [
    "import pandas as pd\n",
    "import numpy as np\n",
    "from scipy import integrate"
   ]
  },
  {
   "cell_type": "code",
   "execution_count": 57,
   "metadata": {
    "ExecuteTime": {
     "end_time": "2019-09-12T08:59:35.406104Z",
     "start_time": "2019-09-12T08:59:35.402348Z"
    }
   },
   "outputs": [],
   "source": [
    "n = 100 # количество отрезков разбиения (должно быть четным для формулы симпсона)\n",
    "a = 0 # отрезок интегрирования\n",
    "b = 2"
   ]
  },
  {
   "cell_type": "code",
   "execution_count": 58,
   "metadata": {
    "ExecuteTime": {
     "end_time": "2019-09-12T08:59:47.358031Z",
     "start_time": "2019-09-12T08:59:47.352017Z"
    }
   },
   "outputs": [],
   "source": [
    "# def f(x): # функция интегрирования\n",
    "#     return x * x\n",
    "def f(x):\n",
    "    return np.sqrt(x) - np.cos(0.1 * x) if x >= 0 and x <= 2 else None\n",
    "\n",
    "\n",
    "def integral(a, b): # точное значение определенного интеграла на отрезке интегрирования\n",
    "    return integrate.quad(f, 0, 2)\n",
    "res = integral(a, b)"
   ]
  },
  {
   "cell_type": "code",
   "execution_count": 59,
   "metadata": {
    "ExecuteTime": {
     "end_time": "2019-09-12T08:59:52.464390Z",
     "start_time": "2019-09-12T08:59:52.456768Z"
    }
   },
   "outputs": [],
   "source": [
    "h = (b - a) / n # шаг разбиения\n",
    "# список узлов\n",
    "X = [a] \n",
    "\n",
    "for i in range(1, n):\n",
    "    X.append(a + i * h)\n",
    "X.append(b)"
   ]
  },
  {
   "cell_type": "code",
   "execution_count": 60,
   "metadata": {
    "ExecuteTime": {
     "end_time": "2019-09-12T08:59:56.176281Z",
     "start_time": "2019-09-12T08:59:56.168275Z"
    }
   },
   "outputs": [],
   "source": [
    "def rect(X): # метод левых прямоугольников\n",
    "    ans = 0\n",
    "    for i in range(len(X) - 1):\n",
    "        ans += f(X[i])\n",
    "    ans *= (X[-1] - X[0]) / n\n",
    "    return ans\n"
   ]
  },
  {
   "cell_type": "code",
   "execution_count": 61,
   "metadata": {
    "ExecuteTime": {
     "end_time": "2019-09-12T08:59:57.098189Z",
     "start_time": "2019-09-12T08:59:57.089878Z"
    }
   },
   "outputs": [
    {
     "data": {
      "text/plain": [
       "(-0.11599223833995566, (-0.101, 0.000))"
      ]
     },
     "execution_count": 61,
     "metadata": {},
     "output_type": "execute_result"
    }
   ],
   "source": [
    "rect(X), res"
   ]
  },
  {
   "cell_type": "code",
   "execution_count": 51,
   "metadata": {
    "ExecuteTime": {
     "end_time": "2019-09-12T08:50:44.924291Z",
     "start_time": "2019-09-12T08:50:44.914075Z"
    }
   },
   "outputs": [],
   "source": [
    "def trap(X): # метод трапеция\n",
    "    ans = (f(X[0]) + f(X[-1]))/2\n",
    "    for i in range(1, len(X) - 1):\n",
    "        ans += f(X[i])\n",
    "    ans *= (X[-1] - X[0]) / n\n",
    "    return ans"
   ]
  },
  {
   "cell_type": "code",
   "execution_count": 52,
   "metadata": {
    "ExecuteTime": {
     "end_time": "2019-09-12T08:50:52.108451Z",
     "start_time": "2019-09-12T08:50:52.100060Z"
    }
   },
   "outputs": [
    {
     "data": {
      "text/plain": [
       "(-0.10165076849463688, (-0.101, 0.000))"
      ]
     },
     "execution_count": 52,
     "metadata": {},
     "output_type": "execute_result"
    }
   ],
   "source": [
    "trap(X), res"
   ]
  },
  {
   "cell_type": "code",
   "execution_count": 53,
   "metadata": {
    "ExecuteTime": {
     "end_time": "2019-09-12T08:50:52.627601Z",
     "start_time": "2019-09-12T08:50:52.618209Z"
    }
   },
   "outputs": [],
   "source": [
    "def simpson(X): # метод симпсона\n",
    "    ans = f(X[0]) + f(X[-1])\n",
    "    for i in range(1, len(X) - 1, 2):\n",
    "        ans += 4 * f(X[i])\n",
    "    for i in range(2, len(X) - 1, 2):\n",
    "        ans += 2 * f(X[i])\n",
    "    ans *= h / 3\n",
    "    return ans"
   ]
  },
  {
   "cell_type": "code",
   "execution_count": 54,
   "metadata": {
    "ExecuteTime": {
     "end_time": "2019-09-12T08:50:57.322153Z",
     "start_time": "2019-09-12T08:50:57.314685Z"
    }
   },
   "outputs": [
    {
     "data": {
      "text/plain": [
       "(-0.10130484951125243, (-0.101, 0.000))"
      ]
     },
     "execution_count": 54,
     "metadata": {},
     "output_type": "execute_result"
    }
   ],
   "source": [
    "simpson(X), res"
   ]
  },
  {
   "cell_type": "code",
   "execution_count": 55,
   "metadata": {
    "ExecuteTime": {
     "end_time": "2019-09-12T08:51:00.947182Z",
     "start_time": "2019-09-12T08:51:00.938748Z"
    }
   },
   "outputs": [
    {
     "data": {
      "text/plain": [
       "(100,\n",
       " -0.11599223833995566,\n",
       " -0.10165076849463688,\n",
       " -0.10130484951125243,\n",
       " (-0.101, 0.000))"
      ]
     },
     "execution_count": 55,
     "metadata": {},
     "output_type": "execute_result"
    }
   ],
   "source": [
    "%precision 3\n",
    "n, rect(X), trap(X), simpson(X), res"
   ]
  },
  {
   "cell_type": "code",
   "execution_count": null,
   "metadata": {},
   "outputs": [],
   "source": []
  },
  {
   "cell_type": "code",
   "execution_count": null,
   "metadata": {},
   "outputs": [],
   "source": []
  }
 ],
 "metadata": {
  "kernelspec": {
   "display_name": "Python 3",
   "language": "python",
   "name": "python3"
  },
  "language_info": {
   "codemirror_mode": {
    "name": "ipython",
    "version": 3
   },
   "file_extension": ".py",
   "mimetype": "text/x-python",
   "name": "python",
   "nbconvert_exporter": "python",
   "pygments_lexer": "ipython3",
   "version": "3.7.3"
  }
 },
 "nbformat": 4,
 "nbformat_minor": 2
}
