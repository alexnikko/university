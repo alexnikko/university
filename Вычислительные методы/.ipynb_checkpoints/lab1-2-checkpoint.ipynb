{
 "cells": [
  {
   "cell_type": "code",
   "execution_count": 1,
   "metadata": {},
   "outputs": [],
   "source": [
    "import numpy as np\n",
    "import pandas as pd\n",
    "pd.set_option('precision', 3)"
   ]
  },
  {
   "cell_type": "code",
   "execution_count": 2,
   "metadata": {},
   "outputs": [],
   "source": [
    "# sqrt(x) - cos(0.1*x), x = [0, 2]\n",
    "def f(x):\n",
    "    return np.sqrt(x) - np.cos(0.1 * x) if x >= 0 and x <= 2 else None"
   ]
  },
  {
   "cell_type": "code",
   "execution_count": 3,
   "metadata": {},
   "outputs": [
    {
     "data": {
      "text/plain": [
       "(-1.0, 0.4341469845318535, None)"
      ]
     },
     "execution_count": 3,
     "metadata": {},
     "output_type": "execute_result"
    }
   ],
   "source": [
    "f(0), f(2), f(3)"
   ]
  },
  {
   "cell_type": "code",
   "execution_count": 4,
   "metadata": {},
   "outputs": [],
   "source": [
    "def frag(a, b, n):\n",
    "    d = (b - a) / n # step\n",
    "    arr = [a]\n",
    "    for i in range(n):\n",
    "        #arr.append(round(arr[i] + d, 5))\n",
    "        arr.append(arr[i] + d)\n",
    "    return arr"
   ]
  },
  {
   "cell_type": "code",
   "execution_count": 5,
   "metadata": {},
   "outputs": [
    {
     "data": {
      "text/plain": [
       "[0,\n",
       " 0.02,\n",
       " 0.04,\n",
       " 0.06,\n",
       " 0.08,\n",
       " 0.1,\n",
       " 0.12000000000000001,\n",
       " 0.14,\n",
       " 0.16,\n",
       " 0.18,\n",
       " 0.19999999999999998,\n",
       " 0.21999999999999997,\n",
       " 0.23999999999999996,\n",
       " 0.25999999999999995,\n",
       " 0.27999999999999997,\n",
       " 0.3,\n",
       " 0.32,\n",
       " 0.34,\n",
       " 0.36000000000000004,\n",
       " 0.38000000000000006,\n",
       " 0.4000000000000001,\n",
       " 0.4200000000000001,\n",
       " 0.4400000000000001,\n",
       " 0.46000000000000013,\n",
       " 0.48000000000000015,\n",
       " 0.5000000000000001,\n",
       " 0.5200000000000001,\n",
       " 0.5400000000000001,\n",
       " 0.5600000000000002,\n",
       " 0.5800000000000002,\n",
       " 0.6000000000000002,\n",
       " 0.6200000000000002,\n",
       " 0.6400000000000002,\n",
       " 0.6600000000000003,\n",
       " 0.6800000000000003,\n",
       " 0.7000000000000003,\n",
       " 0.7200000000000003,\n",
       " 0.7400000000000003,\n",
       " 0.7600000000000003,\n",
       " 0.7800000000000004,\n",
       " 0.8000000000000004,\n",
       " 0.8200000000000004,\n",
       " 0.8400000000000004,\n",
       " 0.8600000000000004,\n",
       " 0.8800000000000004,\n",
       " 0.9000000000000005,\n",
       " 0.9200000000000005,\n",
       " 0.9400000000000005,\n",
       " 0.9600000000000005,\n",
       " 0.9800000000000005,\n",
       " 1.0000000000000004,\n",
       " 1.0200000000000005,\n",
       " 1.0400000000000005,\n",
       " 1.0600000000000005,\n",
       " 1.0800000000000005,\n",
       " 1.1000000000000005,\n",
       " 1.1200000000000006,\n",
       " 1.1400000000000006,\n",
       " 1.1600000000000006,\n",
       " 1.1800000000000006,\n",
       " 1.2000000000000006,\n",
       " 1.2200000000000006,\n",
       " 1.2400000000000007,\n",
       " 1.2600000000000007,\n",
       " 1.2800000000000007,\n",
       " 1.3000000000000007,\n",
       " 1.3200000000000007,\n",
       " 1.3400000000000007,\n",
       " 1.3600000000000008,\n",
       " 1.3800000000000008,\n",
       " 1.4000000000000008,\n",
       " 1.4200000000000008,\n",
       " 1.4400000000000008,\n",
       " 1.4600000000000009,\n",
       " 1.4800000000000009,\n",
       " 1.5000000000000009,\n",
       " 1.520000000000001,\n",
       " 1.540000000000001,\n",
       " 1.560000000000001,\n",
       " 1.580000000000001,\n",
       " 1.600000000000001,\n",
       " 1.620000000000001,\n",
       " 1.640000000000001,\n",
       " 1.660000000000001,\n",
       " 1.680000000000001,\n",
       " 1.700000000000001,\n",
       " 1.720000000000001,\n",
       " 1.740000000000001,\n",
       " 1.7600000000000011,\n",
       " 1.7800000000000011,\n",
       " 1.8000000000000012,\n",
       " 1.8200000000000012,\n",
       " 1.8400000000000012,\n",
       " 1.8600000000000012,\n",
       " 1.8800000000000012,\n",
       " 1.9000000000000012,\n",
       " 1.9200000000000013,\n",
       " 1.9400000000000013,\n",
       " 1.9600000000000013,\n",
       " 1.9800000000000013,\n",
       " 2.0000000000000013]"
      ]
     },
     "execution_count": 5,
     "metadata": {},
     "output_type": "execute_result"
    }
   ],
   "source": [
    "n = 100\n",
    "a = 0\n",
    "b = 2\n",
    "x = frag(a, b, n)\n",
    "x"
   ]
  },
  {
   "cell_type": "code",
   "execution_count": 6,
   "metadata": {},
   "outputs": [],
   "source": [
    "def calc(arr):\n",
    "    y = []\n",
    "    for value in arr:\n",
    "        y.append(f(value))\n",
    "    return y\n",
    "y = calc(x)"
   ]
  },
  {
   "cell_type": "code",
   "execution_count": 7,
   "metadata": {},
   "outputs": [
    {
     "data": {
      "text/plain": [
       "[-1.0,\n",
       " -0.8585766437633571,\n",
       " -0.7999920000106666,\n",
       " -0.7550330257756821,\n",
       " -0.7171252876960473,\n",
       " -0.6837222343998273,\n",
       " -0.6535178393502203,\n",
       " -0.6257362629232621,\n",
       " -0.5998720027306433,\n",
       " -0.5755739356620242,\n",
       " -0.5525864111666199,\n",
       " -0.5307164337781662,\n",
       " -0.5098140652670989,\n",
       " -0.48976006768095925,\n",
       " -0.47045776339707934,\n",
       " -0.45182747624382147,\n",
       " -0.4338026187399374,\n",
       " -0.41632686619399106,\n",
       " -0.3993520699809767,\n",
       " -0.38283668657958725,\n",
       " -0.36674457462730203,\n",
       " -0.3510440598055905,\n",
       " -0.3357071980895088,\n",
       " -0.3207091882349815,\n",
       " -0.30602789813946274,\n",
       " -0.2916434792084187,\n",
       " -0.27753804953041095,\n",
       " -0.2636954314246108,\n",
       " -0.2501009323730461,\n",
       " -0.23674116088140562,\n",
       " -0.22360387069372067,\n",
       " -0.21067782820060166,\n",
       " -0.19795269895522982,\n",
       " -0.1854189500356156,\n",
       " -0.17306776562982984,\n",
       " -0.1608909737192039,\n",
       " -0.1488809821266689,\n",
       " -0.13703072250836157,\n",
       " -0.12533360111492065,\n",
       " -0.1137834553484719,\n",
       " -0.10237451530270325,\n",
       " -0.09110136960474402,\n",
       " -0.0799589349849793,\n",
       " -0.0689424290892714,\n",
       " -0.05804734612106399,\n",
       " -0.04726943496148028,\n",
       " -0.03660467946609003,\n",
       " -0.026049280679399267,\n",
       " -0.015599640743743759,\n",
       " -0.005252348309374155,\n",
       " 0.0049958347219745125,\n",
       " 0.015147985266032005,\n",
       " 0.02520703006493874,\n",
       " 0.03517575574780374,\n",
       " 0.045056818040859814,\n",
       " 0.05485275021345504,\n",
       " 0.06456597083597626,\n",
       " 0.0741987909169971,\n",
       " 0.08375342047930512,\n",
       " 0.09323197462780386,\n",
       " 0.10263647915646634,\n",
       " 0.11196887573643144,\n",
       " 0.12123102672286179,\n",
       " 0.13042471961425195,\n",
       " 0.1395516711944207,\n",
       " 0.1486135313843503,\n",
       " 0.15761188682833838,\n",
       " 0.16654826423652358,\n",
       " 0.17542413350371244,\n",
       " 0.18424091062253745,\n",
       " 0.1929999604072865,\n",
       " 0.20170259904322496,\n",
       " 0.2103500964748889,\n",
       " 0.21894367864560293,\n",
       " 0.22748452959940224,\n",
       " 0.23597379345554714,\n",
       " 0.2444125762649465,\n",
       " 0.25280194775700926,\n",
       " 0.2611429429847256,\n",
       " 0.26943656387513115,\n",
       " 0.2776837806917253,\n",
       " 0.2858855334148719,\n",
       " 0.294042733045744,\n",
       " 0.30215626283891706,\n",
       " 0.3102269794683309,\n",
       " 0.31825571413096954,\n",
       " 0.32624327359227423,\n",
       " 0.3341904411770117,\n",
       " 0.34209797770903083,\n",
       " 0.3499666224030964,\n",
       " 0.35779709371175294,\n",
       " 0.36559009012995836,\n",
       " 0.3733462909600367,\n",
       " 0.38106635703930924,\n",
       " 0.3887509314326134,\n",
       " 0.39640064009175224,\n",
       " 0.4040160924837888,\n",
       " 0.4115978821899612,\n",
       " 0.41914658747688505,\n",
       " 0.4266627718415923,\n",
       " None]"
      ]
     },
     "execution_count": 7,
     "metadata": {},
     "output_type": "execute_result"
    }
   ],
   "source": [
    "y"
   ]
  },
  {
   "cell_type": "code",
   "execution_count": 8,
   "metadata": {},
   "outputs": [],
   "source": [
    "def l(x, pX, pY):\n",
    "    ans = 0\n",
    "    n = len(pX)\n",
    "    for i in range(n):\n",
    "        koef = 1\n",
    "        for j in range(n):\n",
    "            if i != j:\n",
    "                koef = koef * (x - pX[j]) / (pX[i] - pX[j])\n",
    "        ans += pY[i] * koef\n",
    "    return ans\n"
   ]
  },
  {
   "cell_type": "code",
   "execution_count": 9,
   "metadata": {},
   "outputs": [
    {
     "ename": "TypeError",
     "evalue": "unsupported operand type(s) for *: 'NoneType' and 'float'",
     "output_type": "error",
     "traceback": [
      "\u001b[1;31m---------------------------------------------------------------------------\u001b[0m",
      "\u001b[1;31mTypeError\u001b[0m                                 Traceback (most recent call last)",
      "\u001b[1;32m<ipython-input-9-f4548e0d291e>\u001b[0m in \u001b[0;36m<module>\u001b[1;34m\u001b[0m\n\u001b[0;32m      4\u001b[0m \u001b[1;32mfor\u001b[0m \u001b[0mi\u001b[0m \u001b[1;32min\u001b[0m \u001b[0mrange\u001b[0m\u001b[1;33m(\u001b[0m\u001b[0mm\u001b[0m\u001b[1;33m+\u001b[0m\u001b[1;36m1\u001b[0m\u001b[1;33m)\u001b[0m\u001b[1;33m:\u001b[0m\u001b[1;33m\u001b[0m\u001b[1;33m\u001b[0m\u001b[0m\n\u001b[0;32m      5\u001b[0m     \u001b[0mxx\u001b[0m \u001b[1;33m=\u001b[0m \u001b[0mnewX\u001b[0m\u001b[1;33m[\u001b[0m\u001b[0mi\u001b[0m\u001b[1;33m]\u001b[0m\u001b[1;33m\u001b[0m\u001b[1;33m\u001b[0m\u001b[0m\n\u001b[1;32m----> 6\u001b[1;33m     \u001b[0mres\u001b[0m\u001b[1;33m.\u001b[0m\u001b[0mappend\u001b[0m\u001b[1;33m(\u001b[0m\u001b[1;33m[\u001b[0m\u001b[0mxx\u001b[0m\u001b[1;33m,\u001b[0m \u001b[0mf\u001b[0m\u001b[1;33m(\u001b[0m\u001b[0mxx\u001b[0m\u001b[1;33m)\u001b[0m\u001b[1;33m,\u001b[0m \u001b[0ml\u001b[0m\u001b[1;33m(\u001b[0m\u001b[0mxx\u001b[0m\u001b[1;33m,\u001b[0m \u001b[0mx\u001b[0m\u001b[1;33m,\u001b[0m \u001b[0my\u001b[0m\u001b[1;33m)\u001b[0m\u001b[1;33m]\u001b[0m\u001b[1;33m)\u001b[0m\u001b[1;33m\u001b[0m\u001b[1;33m\u001b[0m\u001b[0m\n\u001b[0m",
      "\u001b[1;32m<ipython-input-8-237fb0374dfb>\u001b[0m in \u001b[0;36ml\u001b[1;34m(x, pX, pY)\u001b[0m\n\u001b[0;32m      7\u001b[0m             \u001b[1;32mif\u001b[0m \u001b[0mi\u001b[0m \u001b[1;33m!=\u001b[0m \u001b[0mj\u001b[0m\u001b[1;33m:\u001b[0m\u001b[1;33m\u001b[0m\u001b[1;33m\u001b[0m\u001b[0m\n\u001b[0;32m      8\u001b[0m                 \u001b[0mkoef\u001b[0m \u001b[1;33m=\u001b[0m \u001b[0mkoef\u001b[0m \u001b[1;33m*\u001b[0m \u001b[1;33m(\u001b[0m\u001b[0mx\u001b[0m \u001b[1;33m-\u001b[0m \u001b[0mpX\u001b[0m\u001b[1;33m[\u001b[0m\u001b[0mj\u001b[0m\u001b[1;33m]\u001b[0m\u001b[1;33m)\u001b[0m \u001b[1;33m/\u001b[0m \u001b[1;33m(\u001b[0m\u001b[0mpX\u001b[0m\u001b[1;33m[\u001b[0m\u001b[0mi\u001b[0m\u001b[1;33m]\u001b[0m \u001b[1;33m-\u001b[0m \u001b[0mpX\u001b[0m\u001b[1;33m[\u001b[0m\u001b[0mj\u001b[0m\u001b[1;33m]\u001b[0m\u001b[1;33m)\u001b[0m\u001b[1;33m\u001b[0m\u001b[1;33m\u001b[0m\u001b[0m\n\u001b[1;32m----> 9\u001b[1;33m         \u001b[0mans\u001b[0m \u001b[1;33m+=\u001b[0m \u001b[0mpY\u001b[0m\u001b[1;33m[\u001b[0m\u001b[0mi\u001b[0m\u001b[1;33m]\u001b[0m \u001b[1;33m*\u001b[0m \u001b[0mkoef\u001b[0m\u001b[1;33m\u001b[0m\u001b[1;33m\u001b[0m\u001b[0m\n\u001b[0m\u001b[0;32m     10\u001b[0m     \u001b[1;32mreturn\u001b[0m \u001b[0mans\u001b[0m\u001b[1;33m\u001b[0m\u001b[1;33m\u001b[0m\u001b[0m\n",
      "\u001b[1;31mTypeError\u001b[0m: unsupported operand type(s) for *: 'NoneType' and 'float'"
     ]
    }
   ],
   "source": [
    "m = 4 * n\n",
    "newX = frag(a, b, m)\n",
    "res = []\n",
    "for i in range(m+1):\n",
    "    xx = newX[i] \n",
    "    res.append([xx, f(xx), l(xx, x, y)])"
   ]
  },
  {
   "cell_type": "code",
   "execution_count": null,
   "metadata": {},
   "outputs": [],
   "source": [
    "res"
   ]
  },
  {
   "cell_type": "code",
   "execution_count": null,
   "metadata": {},
   "outputs": [],
   "source": [
    "mydf = pd.DataFrame(res, columns=['x', 'f(x)', 'l(x)'], index=range(m+1))\n",
    "mydf\n"
   ]
  },
  {
   "cell_type": "code",
   "execution_count": null,
   "metadata": {},
   "outputs": [],
   "source": [
    "import scipy.interpolate"
   ]
  },
  {
   "cell_type": "code",
   "execution_count": null,
   "metadata": {},
   "outputs": [],
   "source": [
    "lg = scipy.interpolate.lagrange(x, y)\n",
    "lg(1), l(1, x, y), f(1)"
   ]
  },
  {
   "cell_type": "code",
   "execution_count": null,
   "metadata": {},
   "outputs": [],
   "source": [
    "newX = np.array(newX)\n",
    "vfunc = np.vectorize(lg)\n",
    "vfunc(newX)\n",
    "dat2 = pd.DataFrame(vfunc(newX), columns=['lagrange'], index=range(m+1))\n",
    "mydf.join(dat2)"
   ]
  },
  {
   "cell_type": "code",
   "execution_count": null,
   "metadata": {},
   "outputs": [],
   "source": []
  },
  {
   "cell_type": "code",
   "execution_count": null,
   "metadata": {},
   "outputs": [],
   "source": []
  },
  {
   "cell_type": "code",
   "execution_count": null,
   "metadata": {},
   "outputs": [],
   "source": [
    "#X = [1, 3, 4]\n",
    "#Y = [6, 24, 45]\n",
    "def difff(xP, yP):\n",
    "    ans = 0\n",
    "    n = len(xP)\n",
    "    koef = 1\n",
    "    for i in range(n):\n",
    "        for j in range(n):\n",
    "            if i != j:\n",
    "                koef *= xP[i] - xP[j]\n",
    "        ans += yP[i] / koef\n",
    "        koef = 1\n",
    "    return ans\n",
    "#difff(X, Y)"
   ]
  },
  {
   "cell_type": "code",
   "execution_count": null,
   "metadata": {},
   "outputs": [],
   "source": [
    "def P(x, xP, yP):\n",
    "    ans = yP[0]\n",
    "    koef = 1\n",
    "    for i in range(n):\n",
    "        koef *= x - xP[i]\n",
    "        dif = difff(xP[:i+2], yP[:i+2])\n",
    "        ans += dif * koef\n",
    "    return ans"
   ]
  },
  {
   "cell_type": "code",
   "execution_count": null,
   "metadata": {},
   "outputs": [],
   "source": [
    "bynewton = [P(value, x, y) for value in newX]\n",
    "mydf['lagrange'] = vfunc(newX)\n",
    "mydf['newton'] = bynewton\n",
    "mydf"
   ]
  },
  {
   "cell_type": "code",
   "execution_count": null,
   "metadata": {},
   "outputs": [],
   "source": [
    "\n",
    "mydf"
   ]
  },
  {
   "cell_type": "code",
   "execution_count": null,
   "metadata": {},
   "outputs": [],
   "source": [
    "%matplotlib notebook\n",
    "import matplotlib.pyplot as plt\n",
    "plt.plot(mydf['x'], mydf['f(x)'], label='function')\n",
    "plt.plot(mydf['x'], mydf['l(x)'], 'r', label='lagrange')\n",
    "plt.plot(mydf['x'], mydf['newton'], 'y', label='newton')\n",
    "plt.legend()\n",
    "plt.show()"
   ]
  },
  {
   "cell_type": "code",
   "execution_count": null,
   "metadata": {},
   "outputs": [],
   "source": []
  },
  {
   "cell_type": "code",
   "execution_count": null,
   "metadata": {},
   "outputs": [],
   "source": []
  }
 ],
 "metadata": {
  "kernelspec": {
   "display_name": "Python 3",
   "language": "python",
   "name": "python3"
  },
  "language_info": {
   "codemirror_mode": {
    "name": "ipython",
    "version": 3
   },
   "file_extension": ".py",
   "mimetype": "text/x-python",
   "name": "python",
   "nbconvert_exporter": "python",
   "pygments_lexer": "ipython3",
   "version": "3.7.3"
  }
 },
 "nbformat": 4,
 "nbformat_minor": 2
}
