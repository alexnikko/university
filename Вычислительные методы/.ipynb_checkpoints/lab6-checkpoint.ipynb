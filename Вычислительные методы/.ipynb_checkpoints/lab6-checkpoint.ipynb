{
 "cells": [
  {
   "cell_type": "markdown",
   "metadata": {},
   "source": [
    "## Теоритическая справка\n",
    "**LU-разложение** - представление матрицы $A$ в виде произведения двух матриц, $A = LU\\,где\\,L\\,-\\,нижняя\\, треугольная\\, матрица,\\,а\\,-\\,U\\,-\\,верхняя\\, треугольная\\, матрица.$  \n",
    "Используется для решения систем линейных уравнений (см. лаба 7)\n",
    "\n",
    "Важное условие: матрицу можно разложить только тогда, когда матрица $A$ обратима, а все главные миноры матрицы $A$ невырождены. Для проверки этого условия во время разложения матрицы (выполнения алгоритма) будем просто проверять случай деления на ноль\n",
    "\n",
    "Для нахождения матриц $L$ и $U$ воспользуемся следующем алгоритмом (шаги необходимо выполнять строго по порядку):   \n",
    "\n",
    "1. $u_{1j} = a_{1j},\\,j=1,\\ldots, n$\n",
    "2. $l_{j1} = \\frac{a_{j1}}{u_{11}},\\,j=1,\\ldots, n\\,(u_{11}\\neq 0)$  \n",
    "\n",
    "Для $i=2,\\ldots,n$  \n",
    "1. $u_{ij}=a_{ij} - \\sum\\limits_{k=1}^{i-1} l_{ik}u_{kj},\\,j=i,\\ldots,n$  \n",
    "2. $l_{ji}=\\frac{1}{u_{ii}}(a_{ji} - \\sum\\limits_{k=1}^{i-1} l_{jk}u_{ki}),\\,j=i,\\ldots,n$\n",
    "\n",
    "Получаем матрицы $L$ и $U$. Их можно хранить в виде одной матрицы $LU$ следующим образом (например, если размех $3\\times3$):  \n",
    "$$\\begin{equation*} LU = \\begin{pmatrix}\n",
    "u_{11}&u_{12}&u_{13}\\\\\n",
    "l_{21}&u_{22}&u_{23}\\\\\n",
    "l_{31}&l_{32}&u_{33}\n",
    "\\end{pmatrix}\\end{equation*}\n",
    "$$"
   ]
  },
  {
   "cell_type": "code",
   "execution_count": 1,
   "metadata": {},
   "outputs": [],
   "source": [
    "import pandas as pd\n",
    "import numpy as np"
   ]
  },
  {
   "cell_type": "code",
   "execution_count": 2,
   "metadata": {},
   "outputs": [
    {
     "name": "stdout",
     "output_type": "stream",
     "text": [
      "[[ 1.     0.     0.     0.   ]\n",
      " [-5.     1.     0.     0.   ]\n",
      " [-9.     0.     1.     0.   ]\n",
      " [ 3.     0.    -2.125  1.   ]]\n",
      "[[ 3.     4.    -9.     5.   ]\n",
      " [ 0.     8.     5.     9.   ]\n",
      " [ 0.     0.    -8.    53.   ]\n",
      " [ 0.     0.     0.    81.625]]\n"
     ]
    }
   ],
   "source": [
    "# A = np.array([[10, -7, 0],\n",
    "#             [-3, 6, 2],\n",
    "#             [5, -1, 5]])\n",
    "A = np.array([[3, 4, -9, 5],\n",
    "            [-15, -12, 50, -16],\n",
    "            [-27, -36, 73, 8],\n",
    "             [9, 12, -10, -16]])\n",
    "n = 4\n",
    "L = np.zeros([n, n])\n",
    "U = np.zeros([n, n])\n",
    "\n",
    "if A[0][0] == 0:\n",
    "    print('Не существует разложения, т.к. главный уголовой минор = 0')\n",
    "    raise\n",
    "\n",
    "for j in range(n):\n",
    "    U[0][j] = A[0][j]\n",
    "    L[j][0] = A[j][0]/U[0][0]\n",
    "\n",
    "for i in range(1, n):\n",
    "    for j in range(i, n):\n",
    "        s1 = 0\n",
    "        s2 = 0\n",
    "        \n",
    "        for k in range(i):\n",
    "            s1 += L[i][k]*U[k][j]\n",
    "        U[i][j] = A[i][j] - s1\n",
    "        \n",
    "        \n",
    "        if U[i][i] == 0:\n",
    "            print('Не существует разложения, т.к. главный уголовой минор = 0')\n",
    "            raise\n",
    "        \n",
    "        for k in range(i):\n",
    "            s2 += L[j][k]*U[k][i]\n",
    "        L[j][i] = (A[j][i] - s2)/U[i][i]\n",
    "print(L)\n",
    "print(U)"
   ]
  },
  {
   "cell_type": "code",
   "execution_count": 3,
   "metadata": {},
   "outputs": [],
   "source": [
    "LU = np.zeros([n, n])\n",
    "for i in range(n):\n",
    "    for j in range(i, n):\n",
    "        if i == j:\n",
    "            LU[i][i] = U[i][i]\n",
    "            continue\n",
    "        LU[i][j] = U[i][j]\n",
    "        LU[j][i] = L[j][i]\n",
    "B = L.dot(U) - A"
   ]
  },
  {
   "cell_type": "code",
   "execution_count": 4,
   "metadata": {},
   "outputs": [
    {
     "name": "stdout",
     "output_type": "stream",
     "text": [
      " 3.0   4.0   -9.0    5.0   \n",
      " -5.0  8.0   5.0     9.0   \n",
      " -9.0  0.0   -8.0    53.0  \n",
      " 3.0   0.0  -2.125  81.625 \n"
     ]
    }
   ],
   "source": [
    "from prettytable import PrettyTable\n",
    "p = PrettyTable()\n",
    "for row in LU:\n",
    "    p.add_row(row)\n",
    "    \n",
    "print(p.get_string(header=False, border=False))"
   ]
  },
  {
   "cell_type": "code",
   "execution_count": 5,
   "metadata": {},
   "outputs": [
    {
     "name": "stdout",
     "output_type": "stream",
     "text": [
      " 1.0   0.0   0.0    0.0 \n",
      " -5.0  1.0   0.0    0.0 \n",
      " -9.0  0.0   1.0    0.0 \n",
      " 3.0   0.0  -2.125  1.0 \n",
      "\n",
      " 3.0  4.0  -9.0   5.0   \n",
      " 0.0  8.0  5.0    9.0   \n",
      " 0.0  0.0  -8.0   53.0  \n",
      " 0.0  0.0  0.0   81.625 \n",
      "\n",
      " 0.0  0.0  0.0  0.0 \n",
      " 0.0  0.0  0.0  0.0 \n",
      " 0.0  0.0  0.0  0.0 \n",
      " 0.0  0.0  0.0  0.0 \n"
     ]
    }
   ],
   "source": [
    "p1, p2, p3 = PrettyTable(), PrettyTable(), PrettyTable()\n",
    "for i in range(n):\n",
    "    p1.add_row(L[i])\n",
    "    p2.add_row(U[i])\n",
    "    p3.add_row(B[i])\n",
    "\n",
    "print(p1.get_string(header=False, border=False), end=\"\\n\\n\")\n",
    "print(p2.get_string(header=False, border=False), end=\"\\n\\n\")\n",
    "print(p3.get_string(header=False, border=False))\n"
   ]
  },
  {
   "cell_type": "code",
   "execution_count": null,
   "metadata": {},
   "outputs": [],
   "source": []
  }
 ],
 "metadata": {
  "kernelspec": {
   "display_name": "Python 3",
   "language": "python",
   "name": "python3"
  },
  "language_info": {
   "codemirror_mode": {
    "name": "ipython",
    "version": 3
   },
   "file_extension": ".py",
   "mimetype": "text/x-python",
   "name": "python",
   "nbconvert_exporter": "python",
   "pygments_lexer": "ipython3",
   "version": "3.7.3"
  }
 },
 "nbformat": 4,
 "nbformat_minor": 2
}
