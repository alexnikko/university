{
 "cells": [
  {
   "cell_type": "markdown",
   "metadata": {},
   "source": [
    "## Теоритическая справка\n",
    "Пусть дано равномерное разбиение отрезка интегрирование (на $n$ частей), где $x_i=a+ih$, где $h=\\frac{b-a}{n}$ - шаг сетки  \n",
    "Тогда формула левых прямоугольноков имеет следующий вид: $$\\int_a^b f(x)\\,dx \\approx h\\sum_{i=0}^{n-1}f_i=h\\,(f_0+f_1+\\cdots+f_{n-1}) $$  \n",
    "\n",
    "\n",
    "Формула трапеций примет следующий вид (формула Котеса): $$\\int_a^b f(x)\\,dx \\approx h\\,\\bigg(\\frac{f_0+f_n}{2}+\\sum_{i=1}^{n-1}f_i\\bigg)$$\n",
    "\n",
    "\n",
    "Формула Симпсона примет следующий вид (тоже формула Котеса): $$\\int_a^b f(x)\\,dx \\approx \\frac{h}{3}\\bigg[f(x_0) + 2\\,\\sum_{j=1}^{n-1}f(x_{2j})+4\\,\\sum_{j=1}^nf(x_{2j-1})+f(x_n)\\bigg]$$  \n",
    "При этом в данной формуле, следует учесть, что $n$ - **четное число**, то есть интервал интегрирования разбивают на четное число элементарных отрезков "
   ]
  },
  {
   "cell_type": "code",
   "execution_count": 2,
   "metadata": {},
   "outputs": [],
   "source": [
    "import pandas as pd\n",
    "import numpy as np"
   ]
  },
  {
   "cell_type": "code",
   "execution_count": 3,
   "metadata": {},
   "outputs": [],
   "source": [
    "n = 100 # количество отрезков разбиения (должно быть четным для формулы симпсона)\n",
    "a = 0 # отрезок интегрирования\n",
    "b = 10"
   ]
  },
  {
   "cell_type": "code",
   "execution_count": 4,
   "metadata": {},
   "outputs": [],
   "source": [
    "def f(x): # функция интегрирования\n",
    "    return x * x\n",
    "\n",
    "\n",
    "def integral(a, b): # точное значение определенного интеграла на отрезке интегрирования\n",
    "    return (b * b * b - a * a * a) / 3"
   ]
  },
  {
   "cell_type": "code",
   "execution_count": 5,
   "metadata": {},
   "outputs": [],
   "source": [
    "h = (b - a) / n # шаг разбиения\n",
    "# список узлов\n",
    "X = [a] \n",
    "\n",
    "for i in range(1, n+1):\n",
    "    X.append(a + i * h)"
   ]
  },
  {
   "cell_type": "code",
   "execution_count": 6,
   "metadata": {},
   "outputs": [],
   "source": [
    "def rect(X): # метод левых прямоугольников\n",
    "    ans = 0\n",
    "    for i in range(len(X) - 1):\n",
    "        ans += f(X[i])\n",
    "    ans *= (X[-1] - X[0]) / n\n",
    "    return ans\n"
   ]
  },
  {
   "cell_type": "code",
   "execution_count": 7,
   "metadata": {},
   "outputs": [
    {
     "data": {
      "text/plain": [
       "(328.3500000000001, 333.3333333333333)"
      ]
     },
     "execution_count": 7,
     "metadata": {},
     "output_type": "execute_result"
    }
   ],
   "source": [
    "rect(X), integral(0, 10)"
   ]
  },
  {
   "cell_type": "code",
   "execution_count": 8,
   "metadata": {},
   "outputs": [],
   "source": [
    "def trap(X): # метод трапеция\n",
    "    ans = (f(X[0]) + f(X[-1]))/2\n",
    "    for i in range(1, len(X) - 1):\n",
    "        ans += f(X[i])\n",
    "    ans *= (X[-1] - X[0]) / n\n",
    "    return ans"
   ]
  },
  {
   "cell_type": "code",
   "execution_count": 9,
   "metadata": {},
   "outputs": [
    {
     "data": {
      "text/plain": [
       "(333.3500000000001, 333.3333333333333)"
      ]
     },
     "execution_count": 9,
     "metadata": {},
     "output_type": "execute_result"
    }
   ],
   "source": [
    "trap(X), integral(0, 10)"
   ]
  },
  {
   "cell_type": "code",
   "execution_count": 10,
   "metadata": {},
   "outputs": [],
   "source": [
    "def simpson(X): # метод симпсона\n",
    "    ans = f(X[0]) + f(X[-1])\n",
    "    for i in range(1, len(X) - 1, 2):\n",
    "        ans += 4 * f(X[i])\n",
    "    for i in range(2, len(X) - 1, 2):\n",
    "        ans += 2 * f(X[i])\n",
    "    ans *= h / 3\n",
    "    return ans"
   ]
  },
  {
   "cell_type": "code",
   "execution_count": 11,
   "metadata": {},
   "outputs": [
    {
     "data": {
      "text/plain": [
       "(333.3333333333333, 333.3333333333333)"
      ]
     },
     "execution_count": 11,
     "metadata": {},
     "output_type": "execute_result"
    }
   ],
   "source": [
    "simpson(X), integral(0, 10)"
   ]
  },
  {
   "cell_type": "code",
   "execution_count": 12,
   "metadata": {},
   "outputs": [
    {
     "data": {
      "text/plain": [
       "(100, 328.350, 333.350, 333.333)"
      ]
     },
     "execution_count": 12,
     "metadata": {},
     "output_type": "execute_result"
    }
   ],
   "source": [
    "%precision 3\n",
    "n, rect(X), trap(X), simpson(X)"
   ]
  },
  {
   "cell_type": "code",
   "execution_count": null,
   "metadata": {},
   "outputs": [],
   "source": []
  },
  {
   "cell_type": "code",
   "execution_count": null,
   "metadata": {},
   "outputs": [],
   "source": []
  }
 ],
 "metadata": {
  "kernelspec": {
   "display_name": "Python 3",
   "language": "python",
   "name": "python3"
  },
  "language_info": {
   "codemirror_mode": {
    "name": "ipython",
    "version": 3
   },
   "file_extension": ".py",
   "mimetype": "text/x-python",
   "name": "python",
   "nbconvert_exporter": "python",
   "pygments_lexer": "ipython3",
   "version": "3.7.3"
  }
 },
 "nbformat": 4,
 "nbformat_minor": 2
}
