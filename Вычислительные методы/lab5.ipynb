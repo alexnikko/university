{
 "cells": [
  {
   "cell_type": "markdown",
   "metadata": {},
   "source": [
    "## Теоритическая справка\n",
    "Пусть задана задача Коши в следующем виде: $$\\begin{cases}\n",
    "y\\,'=f\\,(x,y)   &x\\in[a,b]\\\\\n",
    "y(x_0)=y_0 &x_0 = a\n",
    "\\end{cases}$$  \n",
    "\n",
    "Как и в предыдущих задачах, задано разбиение отрезка: $$ a = x_0 < x_1 < \\cdots < x_n = b$$\n",
    "\n",
    "Модифицированный метод Эйлера с пересчетом (метод Рунге-Кутты 2го порядка): $$\n",
    "\\begin{equation*}\n",
    "y_{i+1} = y_i + \\Delta y_i\\;\\;\\;\\;\\;\\; \\Delta y_i = hf\\bigg(x_i + \\frac{h}{2};\\,y_i+\\frac{h}{2}f(x_i;y_i)\\bigg)\n",
    "\\end{equation*}$$"
   ]
  },
  {
   "cell_type": "code",
   "execution_count": 2,
   "metadata": {
    "ExecuteTime": {
     "end_time": "2019-09-12T09:12:40.491139Z",
     "start_time": "2019-09-12T09:12:40.484628Z"
    }
   },
   "outputs": [],
   "source": [
    "import pandas as pd\n",
    "import numpy as np"
   ]
  },
  {
   "cell_type": "code",
   "execution_count": 3,
   "metadata": {
    "ExecuteTime": {
     "end_time": "2019-09-12T09:12:41.995185Z",
     "start_time": "2019-09-12T09:12:41.891215Z"
    }
   },
   "outputs": [
    {
     "data": {
      "text/html": [
       "<div>\n",
       "<style scoped>\n",
       "    .dataframe tbody tr th:only-of-type {\n",
       "        vertical-align: middle;\n",
       "    }\n",
       "\n",
       "    .dataframe tbody tr th {\n",
       "        vertical-align: top;\n",
       "    }\n",
       "\n",
       "    .dataframe thead th {\n",
       "        text-align: right;\n",
       "    }\n",
       "</style>\n",
       "<table border=\"1\" class=\"dataframe\">\n",
       "  <thead>\n",
       "    <tr style=\"text-align: right;\">\n",
       "      <th></th>\n",
       "      <th>X[i]</th>\n",
       "      <th>Y[i]</th>\n",
       "      <th>Y[i] by runt</th>\n",
       "      <th>delta</th>\n",
       "    </tr>\n",
       "  </thead>\n",
       "  <tbody>\n",
       "    <tr>\n",
       "      <th>0</th>\n",
       "      <td>0.000000</td>\n",
       "      <td>1.000000</td>\n",
       "      <td>1.000000</td>\n",
       "      <td>0.000000</td>\n",
       "    </tr>\n",
       "    <tr>\n",
       "      <th>1</th>\n",
       "      <td>0.333333</td>\n",
       "      <td>0.523952</td>\n",
       "      <td>0.564815</td>\n",
       "      <td>0.040863</td>\n",
       "    </tr>\n",
       "    <tr>\n",
       "      <th>2</th>\n",
       "      <td>0.666667</td>\n",
       "      <td>0.336587</td>\n",
       "      <td>0.384774</td>\n",
       "      <td>0.048187</td>\n",
       "    </tr>\n",
       "    <tr>\n",
       "      <th>3</th>\n",
       "      <td>1.000000</td>\n",
       "      <td>0.351501</td>\n",
       "      <td>0.395862</td>\n",
       "      <td>0.044360</td>\n",
       "    </tr>\n",
       "  </tbody>\n",
       "</table>\n",
       "</div>"
      ],
      "text/plain": [
       "       X[i]      Y[i]  Y[i] by runt     delta\n",
       "0  0.000000  1.000000      1.000000  0.000000\n",
       "1  0.333333  0.523952      0.564815  0.040863\n",
       "2  0.666667  0.336587      0.384774  0.048187\n",
       "3  1.000000  0.351501      0.395862  0.044360"
      ]
     },
     "execution_count": 3,
     "metadata": {},
     "output_type": "execute_result"
    }
   ],
   "source": [
    "%precision 5\n",
    "# y' = x^2 - 2y\n",
    "# y(x0) = 1\n",
    "# [0;1], h = 0.1\n",
    "def reshenie(x):\n",
    "    return 3/4 * np.exp(-2*x) + 1/2 *x*x - 1/2 * x + 1/4\n",
    "\n",
    "\n",
    "def f(x, y):\n",
    "    return x*x - 2 * y\n",
    "\n",
    "\n",
    "def eu(a, b, n):\n",
    "    h = (b-a)/n\n",
    "    X = [a]\n",
    "    Y = [1]\n",
    "    ans = [1]\n",
    "    delta = [0]\n",
    "    for i in range(1, n+1):\n",
    "        X.append(a + i * h)\n",
    "        ans.append(reshenie(X[i]))\n",
    "    for i in range(n):\n",
    "        value = Y[i] + h * f(X[i] + h/2, Y[i] + h/2 * f(X[i], Y[i]))\n",
    "        Y.append(value)\n",
    "        delta.append(np.abs(value - ans[i+1]))\n",
    "    return X, ans, Y, delta\n",
    "\n",
    "\n",
    "a = 0\n",
    "b = 1\n",
    "n = 3\n",
    "\n",
    "X, ans, Y, delta = eu(a, b, n)\n",
    "df1 = pd.DataFrame()\n",
    "df1['X[i]'], df1['Y[i]'], df1['Y[i] by runt'], df1['delta'] = X, ans, Y, delta\n",
    "\n",
    "\n",
    "def srav(delta, eps):\n",
    "    for x in delta:\n",
    "        if x >= eps:\n",
    "            return True\n",
    "    return False\n",
    "\n",
    "\n",
    "eps = 0.01\n",
    "while srav(delta, eps):\n",
    "    n *= 2\n",
    "    X, ans, Y, delta = eu(a, b, n)\n",
    "    df = pd.DataFrame()\n",
    "    df['X[i]'], df['Y[i]'], df['Y[i] by runt'], df['delta'] = X, ans, Y, delta\n",
    "df1"
   ]
  },
  {
   "cell_type": "code",
   "execution_count": 4,
   "metadata": {
    "ExecuteTime": {
     "end_time": "2019-09-12T09:12:42.875978Z",
     "start_time": "2019-09-12T09:12:42.859549Z"
    }
   },
   "outputs": [
    {
     "data": {
      "text/html": [
       "<div>\n",
       "<style scoped>\n",
       "    .dataframe tbody tr th:only-of-type {\n",
       "        vertical-align: middle;\n",
       "    }\n",
       "\n",
       "    .dataframe tbody tr th {\n",
       "        vertical-align: top;\n",
       "    }\n",
       "\n",
       "    .dataframe thead th {\n",
       "        text-align: right;\n",
       "    }\n",
       "</style>\n",
       "<table border=\"1\" class=\"dataframe\">\n",
       "  <thead>\n",
       "    <tr style=\"text-align: right;\">\n",
       "      <th></th>\n",
       "      <th>X[i]</th>\n",
       "      <th>Y[i]</th>\n",
       "      <th>Y[i] by runt</th>\n",
       "      <th>delta</th>\n",
       "    </tr>\n",
       "  </thead>\n",
       "  <tbody>\n",
       "    <tr>\n",
       "      <th>0</th>\n",
       "      <td>0.000000</td>\n",
       "      <td>1.000000</td>\n",
       "      <td>1.000000</td>\n",
       "      <td>0.000000</td>\n",
       "    </tr>\n",
       "    <tr>\n",
       "      <th>1</th>\n",
       "      <td>0.166667</td>\n",
       "      <td>0.717954</td>\n",
       "      <td>0.723380</td>\n",
       "      <td>0.005426</td>\n",
       "    </tr>\n",
       "    <tr>\n",
       "      <th>2</th>\n",
       "      <td>0.333333</td>\n",
       "      <td>0.523952</td>\n",
       "      <td>0.532086</td>\n",
       "      <td>0.008134</td>\n",
       "    </tr>\n",
       "    <tr>\n",
       "      <th>3</th>\n",
       "      <td>0.500000</td>\n",
       "      <td>0.400910</td>\n",
       "      <td>0.410133</td>\n",
       "      <td>0.009223</td>\n",
       "    </tr>\n",
       "    <tr>\n",
       "      <th>4</th>\n",
       "      <td>0.666667</td>\n",
       "      <td>0.336587</td>\n",
       "      <td>0.345976</td>\n",
       "      <td>0.009389</td>\n",
       "    </tr>\n",
       "    <tr>\n",
       "      <th>5</th>\n",
       "      <td>0.833333</td>\n",
       "      <td>0.322212</td>\n",
       "      <td>0.331276</td>\n",
       "      <td>0.009063</td>\n",
       "    </tr>\n",
       "    <tr>\n",
       "      <th>6</th>\n",
       "      <td>1.000000</td>\n",
       "      <td>0.351501</td>\n",
       "      <td>0.360011</td>\n",
       "      <td>0.008509</td>\n",
       "    </tr>\n",
       "  </tbody>\n",
       "</table>\n",
       "</div>"
      ],
      "text/plain": [
       "       X[i]      Y[i]  Y[i] by runt     delta\n",
       "0  0.000000  1.000000      1.000000  0.000000\n",
       "1  0.166667  0.717954      0.723380  0.005426\n",
       "2  0.333333  0.523952      0.532086  0.008134\n",
       "3  0.500000  0.400910      0.410133  0.009223\n",
       "4  0.666667  0.336587      0.345976  0.009389\n",
       "5  0.833333  0.322212      0.331276  0.009063\n",
       "6  1.000000  0.351501      0.360011  0.008509"
      ]
     },
     "execution_count": 4,
     "metadata": {},
     "output_type": "execute_result"
    }
   ],
   "source": [
    "df"
   ]
  },
  {
   "cell_type": "code",
   "execution_count": null,
   "metadata": {},
   "outputs": [],
   "source": []
  }
 ],
 "metadata": {
  "kernelspec": {
   "display_name": "Python 3",
   "language": "python",
   "name": "python3"
  },
  "language_info": {
   "codemirror_mode": {
    "name": "ipython",
    "version": 3
   },
   "file_extension": ".py",
   "mimetype": "text/x-python",
   "name": "python",
   "nbconvert_exporter": "python",
   "pygments_lexer": "ipython3",
   "version": "3.7.3"
  }
 },
 "nbformat": 4,
 "nbformat_minor": 2
}
