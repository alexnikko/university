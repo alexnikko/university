{
 "cells": [
  {
   "cell_type": "markdown",
   "metadata": {},
   "source": [
    "## Теоритическая справка\n",
    "Зная $LU$ разложение матрицы $A$ можно решать системы линейных уравнений.\n",
    "\n",
    "Пусть задано следующее уравнение: $\\begin{equation*}Ax=b\\end{equation*}$, где $A$ - матрица коэффициентов системы, $b$ - вектор правой части.   \n",
    "Если известно $LU$-разложение матрицы $A$, то есть $A=LU$, исходная система может быть записана как:$$LUx=b.$$   \n",
    "Эта система может быть решена в два шага. На первом шаге решается система $$Ly=b.$$  \n",
    "Эта система решается прямой подстановкой, т.к. $L$ - нижняя треугольная матрица  \n",
    "На втором шаге решается система $$Ux = y.$$  \n",
    "Решается обратной подстановкой (верхняя треугольная матрица).\n",
    "\n",
    "Общие формулы: \n",
    "$$\\begin{cases}\n",
    "y_1=b_1,\\\\\n",
    "l_{21}y_1+y_2=b_2,\\\\\n",
    "l_{31}y_1+l_{32}y_2+y_3=b_3,\\\\\n",
    "..................................\\\\\n",
    "l_{n1}y_1+l_{n2}y_2+l_{n3}y_3+ \\cdots +y_n=b_n.\n",
    "\\end{cases}$$\n",
    "\n",
    "$$y_i = b_i-\\sum_{p=1}^{i-1} l_{ip}y_p,\\,\\,\\,\\,i=1,2,\\ldots,n$$  \n",
    "\n",
    "$$\\begin{cases}\n",
    "u_{11}x_1+u_{12}x_2+u_{13}x_3+\\cdots+u_{1n}x_n=y_1,\\\\\n",
    "\\;\\;\\;\\;\\;\\;\\;\\;\\;\\;\\;u_{22}x_2+u_{23}x_3+\\cdots+u_{2n}x_n=y_2,\\\\\n",
    "\\;\\;\\;\\;\\;\\;\\;\\;\\;\\;\\;\\;\\;\\;\\;\\;\\;\\;\\;\\;\\;\\;u_{33}x_3+\\cdots+u_{3n}x_n=y_3,\\\\\n",
    "........................................ \\\\\n",
    "\\;\\;\\;\\;\\;\\;\\;\\;\\;\\;\\;\\;\\;\\;\\;\\;\\;\\;\\;\\;\\;\\;\\;\\;\\;\\;\\;\\;\\;\\;\\;\\;\\;\\;\\;\\;\\;\\;\\;\\;u_{nn}x_n=y_n.\n",
    "\\end{cases}$$\n",
    "\n",
    "$$x_{n-i}=\\frac{1}{u_{n-i,n-i}}\\bigg(y_{n-i}-\\sum_{p=0}^{i-1} u_{n-i,n-p}x_{n-p}\\bigg)$$"
   ]
  },
  {
   "cell_type": "code",
   "execution_count": 1,
   "metadata": {
    "ExecuteTime": {
     "end_time": "2019-09-12T09:24:55.170177Z",
     "start_time": "2019-09-12T09:24:54.430954Z"
    }
   },
   "outputs": [],
   "source": [
    "import pandas as pd\n",
    "import numpy as np"
   ]
  },
  {
   "cell_type": "code",
   "execution_count": 2,
   "metadata": {
    "ExecuteTime": {
     "end_time": "2019-09-12T09:24:55.210056Z",
     "start_time": "2019-09-12T09:24:55.175004Z"
    }
   },
   "outputs": [
    {
     "name": "stdout",
     "output_type": "stream",
     "text": [
      "4\n",
      "[[ 1.     0.     0.     0.   ]\n",
      " [-5.     1.     0.     0.   ]\n",
      " [-9.     0.     1.     0.   ]\n",
      " [ 3.     0.    -2.125  1.   ]]\n",
      "[[ 3.     4.    -9.     5.   ]\n",
      " [ 0.     8.     5.     9.   ]\n",
      " [ 0.     0.    -8.    53.   ]\n",
      " [ 0.     0.     0.    81.625]]\n"
     ]
    }
   ],
   "source": [
    "# пример взят с сайта http://old.exponenta.ru/educat/class/courses/vvm/theme_4/example.asp\n",
    "# A = np.array([[10, -7, 0],\n",
    "#             [-3, 6, 2],\n",
    "#             [5, -1, 5]])\n",
    "A = np.array([[3, 4, -9, 5],\n",
    "            [-15, -12, 50, -16],\n",
    "            [-27, -36, 73, 8],\n",
    "             [9, 12, -10, -16]])\n",
    "\n",
    "def makeLU(A):\n",
    "    n = A.shape[0]\n",
    "    print(n)\n",
    "    L = np.zeros([n, n])\n",
    "    U = np.zeros([n, n])\n",
    "\n",
    "    if A[0][0] == 0:\n",
    "        print('Не существует разложения, т.к. главный уголовой минор = 0')\n",
    "        raise\n",
    "\n",
    "    for j in range(n):\n",
    "        U[0][j] = A[0][j]\n",
    "        L[j][0] = A[j][0]/U[0][0]\n",
    "\n",
    "    for i in range(1, n):\n",
    "        for j in range(i, n):\n",
    "            s1 = 0\n",
    "            s2 = 0\n",
    "\n",
    "            for k in range(i):\n",
    "                s1 += L[i][k]*U[k][j]\n",
    "            U[i][j] = A[i][j] - s1\n",
    "\n",
    "\n",
    "            if U[i][i] == 0:\n",
    "                print('Не существует разложения, т.к. главный уголовой минор = 0')\n",
    "                raise\n",
    "\n",
    "            for k in range(i):\n",
    "                s2 += L[j][k]*U[k][i]\n",
    "            L[j][i] = (A[j][i] - s2)/U[i][i]\n",
    "    return L, U\n",
    "L, U = makeLU(A)\n",
    "print(L)\n",
    "print(U)"
   ]
  },
  {
   "cell_type": "code",
   "execution_count": 3,
   "metadata": {
    "ExecuteTime": {
     "end_time": "2019-09-12T09:24:56.202549Z",
     "start_time": "2019-09-12T09:24:56.197775Z"
    }
   },
   "outputs": [],
   "source": [
    "b = np.array([-14, 44, 142, -76])\n",
    "n = len(b)"
   ]
  },
  {
   "cell_type": "code",
   "execution_count": 4,
   "metadata": {
    "ExecuteTime": {
     "end_time": "2019-09-12T09:24:56.895675Z",
     "start_time": "2019-09-12T09:24:56.876490Z"
    }
   },
   "outputs": [
    {
     "data": {
      "text/plain": [
       "[-14, -26.0, 16.0, 0.0]"
      ]
     },
     "execution_count": 4,
     "metadata": {},
     "output_type": "execute_result"
    }
   ],
   "source": [
    "y = []\n",
    "x = np.zeros(n)\n",
    "for i in range(n):\n",
    "    s = 0\n",
    "    for j in range(i):\n",
    "        s += L[i][j]*y[j]\n",
    "    y.append(b[i] - s)\n",
    "y"
   ]
  },
  {
   "cell_type": "code",
   "execution_count": 5,
   "metadata": {
    "ExecuteTime": {
     "end_time": "2019-09-12T09:25:02.217097Z",
     "start_time": "2019-09-12T09:25:02.205142Z"
    }
   },
   "outputs": [
    {
     "data": {
      "text/plain": [
       "array([-8., -2., -2.,  0.])"
      ]
     },
     "execution_count": 5,
     "metadata": {},
     "output_type": "execute_result"
    }
   ],
   "source": [
    "for i in range(n):\n",
    "    s = 0\n",
    "    for j in range(i):\n",
    "        s += U[n-1-i][n-1-j]*x[n-1-j]\n",
    "    x[n-1-i] = (y[n-1-i] - s)/U[n-1-i][n-1-i]\n",
    "x"
   ]
  },
  {
   "cell_type": "code",
   "execution_count": null,
   "metadata": {},
   "outputs": [],
   "source": []
  },
  {
   "cell_type": "code",
   "execution_count": null,
   "metadata": {},
   "outputs": [],
   "source": []
  }
 ],
 "metadata": {
  "kernelspec": {
   "display_name": "Python 3",
   "language": "python",
   "name": "python3"
  },
  "language_info": {
   "codemirror_mode": {
    "name": "ipython",
    "version": 3
   },
   "file_extension": ".py",
   "mimetype": "text/x-python",
   "name": "python",
   "nbconvert_exporter": "python",
   "pygments_lexer": "ipython3",
   "version": "3.7.3"
  }
 },
 "nbformat": 4,
 "nbformat_minor": 2
}
