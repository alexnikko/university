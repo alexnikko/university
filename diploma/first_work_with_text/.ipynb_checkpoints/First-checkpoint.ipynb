{
 "cells": [
  {
   "cell_type": "markdown",
   "metadata": {},
   "source": [
    "Read data to the whole df"
   ]
  },
  {
   "cell_type": "code",
   "execution_count": 42,
   "metadata": {
    "ExecuteTime": {
     "end_time": "2020-08-24T15:09:46.940885Z",
     "start_time": "2020-08-24T15:09:46.923496Z"
    }
   },
   "outputs": [],
   "source": [
    "import pandas as pd\n",
    "import numpy as np\n",
    "import os\n",
    "import codecs"
   ]
  },
  {
   "cell_type": "code",
   "execution_count": 51,
   "metadata": {
    "ExecuteTime": {
     "end_time": "2020-08-24T15:11:26.244610Z",
     "start_time": "2020-08-24T15:11:23.944037Z"
    }
   },
   "outputs": [],
   "source": [
    "data = pd.read_csv('springermad/articles_meta.csv')\n",
    "\n",
    "texts = {}\n",
    "for file in os.listdir('springermad/fulltexts/'):\n",
    "    f = codecs.open('springermad/fulltexts/' + file, 'r', 'utf_8')\n",
    "    texts[file] = f.read()\n",
    "    f.close()\n",
    "\n",
    "new_texts = {}\n",
    "for key, value in texts.items():\n",
    "    new_key = int(key[:key.find('.txt')])\n",
    "    new_texts[new_key] = value\n",
    "\n",
    "data = pd.merge(data, pd.Series(new_texts, name='text').reset_index(), left_on='article_no', right_on='index')\n",
    "data.drop(columns='index', inplace=True)\n",
    "del texts, new_texts\n",
    "\n",
    "data.to_csv('data.csv', index=False)"
   ]
  }
 ],
 "metadata": {
  "kernelspec": {
   "display_name": "Python 3",
   "language": "python",
   "name": "python3"
  },
  "language_info": {
   "codemirror_mode": {
    "name": "ipython",
    "version": 3
   },
   "file_extension": ".py",
   "mimetype": "text/x-python",
   "name": "python",
   "nbconvert_exporter": "python",
   "pygments_lexer": "ipython3",
   "version": "3.7.3"
  }
 },
 "nbformat": 4,
 "nbformat_minor": 4
}
