{
 "cells": [
  {
   "cell_type": "code",
   "execution_count": 1,
   "metadata": {},
   "outputs": [],
   "source": [
    "import numpy as np\n",
    "import pandas as pd\n",
    "import torch"
   ]
  },
  {
   "cell_type": "code",
   "execution_count": 2,
   "metadata": {},
   "outputs": [],
   "source": [
    "data = pd.read_csv('data.csv')"
   ]
  },
  {
   "cell_type": "code",
   "execution_count": 3,
   "metadata": {},
   "outputs": [
    {
     "data": {
      "text/html": [
       "<div>\n",
       "<style scoped>\n",
       "    .dataframe tbody tr th:only-of-type {\n",
       "        vertical-align: middle;\n",
       "    }\n",
       "\n",
       "    .dataframe tbody tr th {\n",
       "        vertical-align: top;\n",
       "    }\n",
       "\n",
       "    .dataframe thead th {\n",
       "        text-align: right;\n",
       "    }\n",
       "</style>\n",
       "<table border=\"1\" class=\"dataframe\">\n",
       "  <thead>\n",
       "    <tr style=\"text-align: right;\">\n",
       "      <th></th>\n",
       "      <th>article_no</th>\n",
       "      <th>discipline</th>\n",
       "      <th>subdiscipline</th>\n",
       "      <th>journal_title</th>\n",
       "      <th>journal_url</th>\n",
       "      <th>volume</th>\n",
       "      <th>issue</th>\n",
       "      <th>month</th>\n",
       "      <th>year</th>\n",
       "      <th>issue_url</th>\n",
       "      <th>type</th>\n",
       "      <th>title</th>\n",
       "      <th>article_url</th>\n",
       "      <th>text</th>\n",
       "    </tr>\n",
       "  </thead>\n",
       "  <tbody>\n",
       "    <tr>\n",
       "      <th>0</th>\n",
       "      <td>1892</td>\n",
       "      <td>Biomedicine</td>\n",
       "      <td>Neurology</td>\n",
       "      <td>Neurotherapeutics</td>\n",
       "      <td>http://link.springer.com/journal/13311</td>\n",
       "      <td>16</td>\n",
       "      <td>2</td>\n",
       "      <td>April</td>\n",
       "      <td>2019</td>\n",
       "      <td>https://link.springer.com/journal/13311/16/2</td>\n",
       "      <td>Original Article</td>\n",
       "      <td>TET1 Overexpression Mitigates Neuropathic Pain...</td>\n",
       "      <td>https://link.springer.com/article/10.1007/s133...</td>\n",
       "      <td>Introduction\\nApproximately 7% of the world’s ...</td>\n",
       "    </tr>\n",
       "    <tr>\n",
       "      <th>1</th>\n",
       "      <td>586</td>\n",
       "      <td>Medicine &amp; Public Health</td>\n",
       "      <td>Cardiology</td>\n",
       "      <td>Clinical Autonomic Research</td>\n",
       "      <td>http://link.springer.com/journal/10286</td>\n",
       "      <td>29</td>\n",
       "      <td>2</td>\n",
       "      <td>April</td>\n",
       "      <td>2019</td>\n",
       "      <td>https://link.springer.com/journal/10286/29/2</td>\n",
       "      <td>Review Article</td>\n",
       "      <td>The renin–angiotensin system in cardiovascular...</td>\n",
       "      <td>https://link.springer.com/article/10.1007/s102...</td>\n",
       "      <td>Introduction\\nCardiovascular disease remains t...</td>\n",
       "    </tr>\n",
       "    <tr>\n",
       "      <th>2</th>\n",
       "      <td>1603</td>\n",
       "      <td>Biomedicine</td>\n",
       "      <td>Immunology</td>\n",
       "      <td>Inflammation and Regeneration</td>\n",
       "      <td>http://link.springer.com/journal/41232</td>\n",
       "      <td>38</td>\n",
       "      <td>1</td>\n",
       "      <td>December</td>\n",
       "      <td>2018</td>\n",
       "      <td>https://link.springer.com/journal/41232/38/1</td>\n",
       "      <td>Review</td>\n",
       "      <td>New application of anti-TLR monoclonal antibod...</td>\n",
       "      <td>https://link.springer.com/article/10.1186/s412...</td>\n",
       "      <td>Background\\nToll-like receptors (TLRs) recogni...</td>\n",
       "    </tr>\n",
       "    <tr>\n",
       "      <th>3</th>\n",
       "      <td>3341</td>\n",
       "      <td>Biomedicine</td>\n",
       "      <td>Pharmacology-Toxicology</td>\n",
       "      <td>Cardiovascular Toxicology</td>\n",
       "      <td>http://link.springer.com/journal/12012</td>\n",
       "      <td>18</td>\n",
       "      <td>3</td>\n",
       "      <td>June</td>\n",
       "      <td>2018</td>\n",
       "      <td>https://link.springer.com/journal/12012/18/3</td>\n",
       "      <td>Original Paper</td>\n",
       "      <td>Alleviation of Cardiac Damage by Dietary Fenug...</td>\n",
       "      <td>https://link.springer.com/article/10.1007/s120...</td>\n",
       "      <td>Introduction\\nDiabetes mellitus (DM) is the mo...</td>\n",
       "    </tr>\n",
       "    <tr>\n",
       "      <th>4</th>\n",
       "      <td>2561</td>\n",
       "      <td>Biomedicine</td>\n",
       "      <td>Neurology</td>\n",
       "      <td>Metabolic Brain Disease</td>\n",
       "      <td>http://link.springer.com/journal/11011</td>\n",
       "      <td>31</td>\n",
       "      <td>6</td>\n",
       "      <td>December</td>\n",
       "      <td>2016</td>\n",
       "      <td>https://link.springer.com/journal/11011/31/6</td>\n",
       "      <td>Original Article</td>\n",
       "      <td>Agomelatine reduces brain, kidney and liver ox...</td>\n",
       "      <td>https://link.springer.com/article/10.1007/s110...</td>\n",
       "      <td>Introduction\\nOxidative stress occurs in the b...</td>\n",
       "    </tr>\n",
       "  </tbody>\n",
       "</table>\n",
       "</div>"
      ],
      "text/plain": [
       "   article_no                discipline            subdiscipline  \\\n",
       "0        1892               Biomedicine                Neurology   \n",
       "1         586  Medicine & Public Health               Cardiology   \n",
       "2        1603               Biomedicine               Immunology   \n",
       "3        3341               Biomedicine  Pharmacology-Toxicology   \n",
       "4        2561               Biomedicine                Neurology   \n",
       "\n",
       "                   journal_title                             journal_url  \\\n",
       "0              Neurotherapeutics  http://link.springer.com/journal/13311   \n",
       "1    Clinical Autonomic Research  http://link.springer.com/journal/10286   \n",
       "2  Inflammation and Regeneration  http://link.springer.com/journal/41232   \n",
       "3      Cardiovascular Toxicology  http://link.springer.com/journal/12012   \n",
       "4        Metabolic Brain Disease  http://link.springer.com/journal/11011   \n",
       "\n",
       "   volume issue     month  year                                     issue_url  \\\n",
       "0      16     2     April  2019  https://link.springer.com/journal/13311/16/2   \n",
       "1      29     2     April  2019  https://link.springer.com/journal/10286/29/2   \n",
       "2      38     1  December  2018  https://link.springer.com/journal/41232/38/1   \n",
       "3      18     3      June  2018  https://link.springer.com/journal/12012/18/3   \n",
       "4      31     6  December  2016  https://link.springer.com/journal/11011/31/6   \n",
       "\n",
       "               type                                              title  \\\n",
       "0  Original Article  TET1 Overexpression Mitigates Neuropathic Pain...   \n",
       "1    Review Article  The renin–angiotensin system in cardiovascular...   \n",
       "2            Review  New application of anti-TLR monoclonal antibod...   \n",
       "3    Original Paper  Alleviation of Cardiac Damage by Dietary Fenug...   \n",
       "4  Original Article  Agomelatine reduces brain, kidney and liver ox...   \n",
       "\n",
       "                                         article_url  \\\n",
       "0  https://link.springer.com/article/10.1007/s133...   \n",
       "1  https://link.springer.com/article/10.1007/s102...   \n",
       "2  https://link.springer.com/article/10.1186/s412...   \n",
       "3  https://link.springer.com/article/10.1007/s120...   \n",
       "4  https://link.springer.com/article/10.1007/s110...   \n",
       "\n",
       "                                                text  \n",
       "0  Introduction\\nApproximately 7% of the world’s ...  \n",
       "1  Introduction\\nCardiovascular disease remains t...  \n",
       "2  Background\\nToll-like receptors (TLRs) recogni...  \n",
       "3  Introduction\\nDiabetes mellitus (DM) is the mo...  \n",
       "4  Introduction\\nOxidative stress occurs in the b...  "
      ]
     },
     "execution_count": 3,
     "metadata": {},
     "output_type": "execute_result"
    }
   ],
   "source": [
    "data.head()"
   ]
  },
  {
   "cell_type": "code",
   "execution_count": null,
   "metadata": {},
   "outputs": [],
   "source": [
    "from transformers import pipeline, AutoModelForTokenClassification, AutoTokenizer\n",
    "\n",
    "\n",
    "pipeline('sentiment-analysis')\n",
    "\n",
    "\n",
    "pipeline('question-answering', model='distilbert-base-cased-distilled-squad', tokenizer='bert-base-cased')\n",
    "\n",
    "model = AutoModelForTokenClassification.from_pretrained(\"dbmdz/bert-large-cased-finetuned-conll03-english\")\n",
    "tokenizer = AutoTokenizer.from_pretrained(\"bert-base-cased\")\n",
    "pipeline('ner', model=model, tokenizer=tokenizer)"
   ]
  },
  {
   "cell_type": "code",
   "execution_count": 6,
   "metadata": {},
   "outputs": [],
   "source": [
    "from transformers import FeatureExtractionPipeline"
   ]
  },
  {
   "cell_type": "code",
   "execution_count": 13,
   "metadata": {},
   "outputs": [],
   "source": [
    "from transformers import DistilBertModel, DistilBertConfig, DistilBertTokenizer"
   ]
  },
  {
   "cell_type": "code",
   "execution_count": 8,
   "metadata": {},
   "outputs": [],
   "source": [
    "# Initializing a DistilBERT configuration\n",
    "configuration = DistilBertConfig()\n",
    "\n",
    "# Initializing a model from the configuration\n",
    "model = DistilBertModel(`configuration)\n",
    "\n",
    "# Accessing the model configuration\n",
    "configuration = model.config"
   ]
  },
  {
   "cell_type": "code",
   "execution_count": 110,
   "metadata": {},
   "outputs": [],
   "source": [
    "tokenizer = DistilBertTokenizer.from_pretrained('distilbert-base-uncased')\n",
    "model = DistilBertModel.from_pretrained('distilbert-base-uncased', return_dict=True)\n",
    "fep = FeatureExtractionPipeline(model, tokenizer, framework='pt')"
   ]
  },
  {
   "cell_type": "code",
   "execution_count": 118,
   "metadata": {},
   "outputs": [],
   "source": [
    "res = fep(text[512:1024])"
   ]
  },
  {
   "cell_type": "code",
   "execution_count": null,
   "metadata": {},
   "outputs": [],
   "source": [
    " "
   ]
  },
  {
   "cell_type": "code",
   "execution_count": 119,
   "metadata": {},
   "outputs": [
    {
     "data": {
      "text/plain": [
       "1"
      ]
     },
     "execution_count": 119,
     "metadata": {},
     "output_type": "execute_result"
    }
   ],
   "source": [
    "len(res)"
   ]
  },
  {
   "cell_type": "code",
   "execution_count": 120,
   "metadata": {},
   "outputs": [
    {
     "data": {
      "text/plain": [
       "122"
      ]
     },
     "execution_count": 120,
     "metadata": {},
     "output_type": "execute_result"
    }
   ],
   "source": [
    "len(res[0])"
   ]
  },
  {
   "cell_type": "code",
   "execution_count": 121,
   "metadata": {},
   "outputs": [
    {
     "data": {
      "text/plain": [
       "768"
      ]
     },
     "execution_count": 121,
     "metadata": {},
     "output_type": "execute_result"
    }
   ],
   "source": [
    "len(res[0][0])"
   ]
  },
  {
   "cell_type": "code",
   "execution_count": 14,
   "metadata": {},
   "outputs": [
    {
     "data": {
      "application/vnd.jupyter.widget-view+json": {
       "model_id": "5a0c189e14c14af6b63ca1267c675adb",
       "version_major": 2,
       "version_minor": 0
      },
      "text/plain": [
       "HBox(children=(FloatProgress(value=0.0, description='Downloading', max=231508.0, style=ProgressStyle(descripti…"
      ]
     },
     "metadata": {},
     "output_type": "display_data"
    },
    {
     "name": "stdout",
     "output_type": "stream",
     "text": [
      "\n"
     ]
    },
    {
     "data": {
      "application/vnd.jupyter.widget-view+json": {
       "model_id": "16cabde60ba8447e875ecbaf58c538be",
       "version_major": 2,
       "version_minor": 0
      },
      "text/plain": [
       "HBox(children=(FloatProgress(value=0.0, description='Downloading', max=442.0, style=ProgressStyle(description_…"
      ]
     },
     "metadata": {},
     "output_type": "display_data"
    },
    {
     "name": "stdout",
     "output_type": "stream",
     "text": [
      "\n"
     ]
    },
    {
     "data": {
      "application/vnd.jupyter.widget-view+json": {
       "model_id": "280011f26850431ea8b66325e28279dc",
       "version_major": 2,
       "version_minor": 0
      },
      "text/plain": [
       "HBox(children=(FloatProgress(value=0.0, description='Downloading', max=267967963.0, style=ProgressStyle(descri…"
      ]
     },
     "metadata": {},
     "output_type": "display_data"
    },
    {
     "name": "stdout",
     "output_type": "stream",
     "text": [
      "\n"
     ]
    }
   ],
   "source": [
    "tokenizer = DistilBertTokenizer.from_pretrained('distilbert-base-uncased')\n",
    "model = DistilBertModel.from_pretrained('distilbert-base-uncased', return_dict=True)\n",
    "\n",
    "inputs = tokenizer(\"Hello, my dog is cute\", return_tensors=\"pt\")\n",
    "outputs = model(**inputs)\n",
    "\n",
    "last_hidden_states = outputs.last_hidden_state"
   ]
  },
  {
   "cell_type": "code",
   "execution_count": 18,
   "metadata": {},
   "outputs": [
    {
     "data": {
      "text/plain": [
       "torch.Size([1, 8, 768])"
      ]
     },
     "execution_count": 18,
     "metadata": {},
     "output_type": "execute_result"
    }
   ],
   "source": [
    "last_hidden_states.shape"
   ]
  },
  {
   "cell_type": "code",
   "execution_count": 29,
   "metadata": {},
   "outputs": [
    {
     "data": {
      "text/plain": [
       "tensor([[-1.0054e-01,  1.5748e-01,  1.7083e-01, -1.8576e-01,  1.7439e-01,\n",
       "         -1.4498e-01,  1.6639e-01,  5.7514e-01, -2.2247e-01, -6.5292e-02,\n",
       "         -3.7159e-02, -4.3940e-01, -2.3237e-01,  2.0634e-01, -4.1484e-01,\n",
       "          2.2525e-01,  6.6294e-02,  1.5739e-01, -6.7144e-03,  4.6207e-01,\n",
       "         -3.3887e-02, -4.5765e-01, -1.0550e-01,  2.6666e-02,  2.3136e-01,\n",
       "          1.8010e-03,  1.4070e-01,  2.9723e-01,  4.4649e-02, -3.7194e-01,\n",
       "          3.8288e-01, -1.7556e-01, -6.8761e-02,  1.9092e-01, -1.1435e-01,\n",
       "          3.2770e-02, -1.3181e-01, -4.2276e-02, -4.9715e-01,  2.4427e-01,\n",
       "         -2.0258e-01, -3.6683e-01,  2.2469e-01,  9.9785e-02, -2.2608e-01,\n",
       "         -6.2989e-01, -1.2931e-01, -9.5305e-02,  4.8629e-01, -3.3055e-01,\n",
       "          2.0269e-01,  1.5501e-01, -3.7417e-01, -2.3776e-02,  1.0042e-01,\n",
       "          3.2745e-01, -1.1665e-01, -3.8806e-01, -7.1975e-02,  1.4425e-01,\n",
       "         -1.2578e-01,  2.7368e-02,  2.8910e-01, -3.1163e-01, -2.3590e-01,\n",
       "          5.1001e-01, -6.8705e-02,  1.7380e-01, -5.0837e-01,  2.1985e-01,\n",
       "         -1.4119e-02, -3.2264e-01,  9.6034e-02,  7.1186e-02, -3.5165e-02,\n",
       "         -9.4188e-02,  9.2257e-02,  4.0637e-01, -6.6071e-02,  2.4212e-01,\n",
       "          1.9140e-02,  4.7698e-01,  2.9996e-01,  4.4539e-01,  8.2942e-02,\n",
       "         -1.4417e-02, -1.5194e-01,  2.8950e-01, -1.4620e-01,  2.3860e-01,\n",
       "          6.2209e-02, -2.8875e-01, -1.6015e-01, -7.2387e-03,  2.3622e-01,\n",
       "         -4.7337e-01, -2.0746e-05, -2.3689e-02, -5.1988e-02,  7.9495e-03,\n",
       "         -7.8024e-02, -2.5097e-01,  1.6903e-01,  3.5064e-01, -3.9030e-01,\n",
       "         -2.5578e-01,  4.0677e-01, -2.8911e-01, -5.9876e-02, -1.1555e-01,\n",
       "          3.8114e-01, -4.3348e-01,  8.0811e-02, -2.4341e-01, -1.6498e-01,\n",
       "          6.4031e-01,  3.2121e-01,  1.0648e-02, -2.9062e-01, -3.8763e-02,\n",
       "         -4.0300e-02, -2.4491e-01,  4.8262e-02,  3.6112e-01,  1.8710e-01,\n",
       "          2.0260e-01, -1.7423e-01, -2.8378e-02,  1.3675e-01, -3.9245e-01,\n",
       "          1.8020e-01,  3.1958e-01,  3.6796e-01, -3.1598e-01, -5.7687e-02,\n",
       "          2.4752e-01,  1.8077e-01, -3.4651e-01, -2.5361e-01, -8.0863e-02,\n",
       "          1.6956e-01,  3.4609e-01, -3.1107e-01,  8.7659e-02,  2.6659e-01,\n",
       "          5.5754e-02, -4.0782e-01,  3.1448e-02,  1.0007e-01, -8.3804e-02,\n",
       "          7.4181e-02, -1.1441e-02, -1.7218e-01, -7.8259e-02, -3.2378e-01,\n",
       "         -2.6607e-01, -5.2403e-01,  1.8847e-01,  2.4903e-01,  4.1227e-01,\n",
       "          4.1203e-01, -1.5092e-01, -2.2774e-02,  5.2344e-01, -2.7332e-01,\n",
       "          1.2979e-01,  3.0449e-01,  2.5254e-01, -1.3605e-01,  1.7557e-01,\n",
       "         -1.7902e-02, -1.9591e-01,  7.2451e-01,  1.2466e-01,  2.5918e-01,\n",
       "         -6.4573e-03,  4.6731e-01, -1.8981e-01, -1.7818e-01, -1.3851e-01,\n",
       "         -1.4485e+00, -9.4548e-02,  2.1040e-01,  1.5420e-01,  3.1538e-01,\n",
       "         -1.1346e-01,  3.0179e-01, -5.1134e-01,  7.1061e-02, -1.0690e-01,\n",
       "         -2.4556e-01, -3.4312e-01, -1.9330e-01,  1.8581e-01,  4.0241e-01,\n",
       "         -1.5674e-01,  5.8628e-02, -6.7464e-01, -3.7123e-02,  4.8198e-03,\n",
       "          9.4733e-02, -1.5920e-01,  2.3776e-01,  4.0309e-01, -6.6199e-02,\n",
       "          3.3453e-01, -1.3144e-01, -4.6430e-02,  1.9332e-02,  4.8450e-01,\n",
       "         -2.5255e-01,  3.5417e-01,  2.3951e-01,  5.5508e-02,  1.8280e-01,\n",
       "         -3.3906e-03,  2.9059e-01, -2.8395e-01, -3.5936e-01,  1.5667e-01,\n",
       "         -1.2086e-01,  2.5534e-02, -6.9074e-01,  3.3300e-01,  8.0425e-02,\n",
       "          1.8783e-01,  6.5605e-01, -3.6299e-02,  1.8901e-01,  2.6961e-01,\n",
       "         -5.1472e-02, -4.4762e-01,  2.4811e-01,  5.1381e-02, -2.8056e-01,\n",
       "          2.8693e-01, -5.5062e-02, -3.9351e-01,  1.8745e-01, -5.0894e-02,\n",
       "         -2.7702e-01,  3.8646e-01,  2.3089e-01,  1.6666e-02, -3.1207e-01,\n",
       "         -1.6502e-01,  1.2709e-01,  6.8654e-02, -6.4445e-02, -1.8465e-01,\n",
       "         -1.9217e-01, -8.1558e-01,  2.2971e-01, -4.6066e-01,  2.0392e-01,\n",
       "         -2.0023e-01, -1.6157e-01,  3.0518e-01,  2.9164e-03, -4.6590e-02,\n",
       "          4.1849e-01,  3.8875e-02,  3.7275e-01,  4.5620e-02, -4.0303e-01,\n",
       "          4.0824e-02,  8.5225e-02,  1.9806e-01, -1.3602e-02,  1.2295e-01,\n",
       "          1.3403e-01,  6.2553e-02,  8.5413e-02,  6.4348e-02, -1.2504e-01,\n",
       "         -4.4733e-01,  4.6750e-01,  1.3092e-01,  4.8040e-02, -6.1429e-01,\n",
       "          5.2643e-02,  5.8080e-01, -7.8112e-01,  6.8115e-02, -1.6218e-02,\n",
       "         -2.1473e-01,  4.9225e-02, -1.2839e-01, -1.6918e-01, -6.0274e-02,\n",
       "         -9.8333e-02,  8.5234e-02, -1.6627e-01, -3.1769e-02,  2.0310e-01,\n",
       "         -4.2036e-02,  5.1334e-01,  6.2849e-02, -3.4228e-02, -2.1886e-01,\n",
       "          2.7188e-01, -1.9940e-01,  1.3582e-01, -2.2847e-02, -2.1385e-02,\n",
       "          1.8663e-01, -1.3738e-01, -6.6355e-01, -3.2707e+00, -1.3355e-01,\n",
       "          1.7041e-01, -3.1337e-01,  1.8696e-01, -1.1614e-01,  2.4518e-01,\n",
       "         -1.3997e-01, -3.1225e-01,  1.4338e-01, -9.8387e-02, -2.4280e-01,\n",
       "          3.5468e-01, -1.0830e-01,  1.8005e-01, -5.0173e-01,  2.0227e-01,\n",
       "         -3.8010e-01, -3.1903e-01,  4.6740e-01, -7.3991e-02, -1.2739e-01,\n",
       "          4.1716e-02, -3.0947e-01,  5.7999e-01,  5.4599e-01,  2.9886e-02,\n",
       "         -2.1635e-01, -3.3038e-01,  1.7029e-01, -2.2439e-01, -2.2829e-01,\n",
       "          5.9267e-02,  1.2677e-01,  4.2296e-02,  5.0591e-02,  2.8941e-01,\n",
       "         -7.9569e-02, -4.3511e-02, -4.5193e-02,  1.9922e-01, -2.3497e-01,\n",
       "          6.0809e-02, -1.1072e-01,  2.4376e-01, -1.2605e-01, -2.1377e-01,\n",
       "         -5.6207e-01,  4.2469e-02,  1.4755e-01,  4.6163e-03,  7.5324e-02,\n",
       "         -6.5565e-02, -2.0730e-01,  3.3520e-01, -1.3574e-01,  3.5779e-01,\n",
       "          3.4281e-01, -1.9622e-01, -5.1255e-01,  2.4188e-01,  5.6577e-02,\n",
       "         -3.0094e-01, -5.8850e-02, -1.1763e-01, -3.2293e-01, -4.1244e-01,\n",
       "         -2.9520e-01, -1.6424e-01,  2.2462e-01,  3.5083e-02, -1.2860e-01,\n",
       "         -2.2860e-01, -1.0139e+00, -2.6265e-01, -4.0801e-03, -1.9674e-01,\n",
       "         -2.8155e-01,  4.4889e-02, -5.3827e-02, -2.9495e-01, -3.9173e-01,\n",
       "          1.1540e-01,  2.8956e-01, -2.3761e-01, -4.7568e-01, -1.3801e-01,\n",
       "         -1.2967e-01, -2.6306e-02, -3.0710e-02,  3.2199e-01,  1.0828e-01,\n",
       "         -9.8926e-02,  3.5100e-01,  2.1748e-01, -2.2962e-01,  2.6710e-01,\n",
       "         -1.4896e-01,  1.8179e-01, -1.2322e-01,  6.1572e-02,  1.2071e-01,\n",
       "          4.5446e-01,  6.7947e-02,  4.0748e-01,  9.0980e-02, -4.5939e-01,\n",
       "          1.3442e-01,  2.3504e-01,  2.3512e-01,  1.3653e-01, -7.1423e-01,\n",
       "          6.1283e-02, -1.7842e-01,  3.5264e-02, -4.4807e-02,  2.5175e-01,\n",
       "          6.0391e-01, -1.4787e-01,  1.8437e-01, -4.2336e-02,  4.5216e-01,\n",
       "         -1.7437e-01, -1.4455e-01, -2.1055e-01, -6.4128e-03, -1.5856e-02,\n",
       "         -1.7232e-01, -1.7207e-01, -2.1940e-02,  3.9808e-01, -7.5150e-03,\n",
       "         -3.9281e-01, -1.1955e-01,  2.9345e-01,  7.0814e-02, -2.9452e-01,\n",
       "         -6.3172e-01,  8.8506e-02,  1.1845e-01, -7.6899e-03,  4.0309e-01,\n",
       "         -1.4530e-01,  2.1979e-01,  1.5677e-01,  3.8409e-01, -1.4473e-01,\n",
       "         -2.4472e-01,  1.0862e-01,  7.8287e-02, -1.0030e-01, -2.9768e-01,\n",
       "          6.6766e-02, -3.9493e-01,  1.7060e-01, -5.8962e-02,  2.6721e-01,\n",
       "         -9.5717e-02, -4.3635e-01, -1.8486e-01, -2.0427e-03, -3.7204e-03,\n",
       "          2.8914e-02,  3.7734e-01, -2.2132e-01,  2.8724e-01,  2.0843e-01,\n",
       "         -9.5123e-02, -1.4307e-01,  7.5826e-02,  6.2814e-02,  3.1244e-02,\n",
       "         -3.8329e-02, -6.6039e-02, -2.8574e-01,  1.9430e-01, -8.3354e-02,\n",
       "         -2.2983e-01,  1.0387e-01, -1.1810e-01, -5.9219e-02, -3.5600e-01,\n",
       "         -8.7776e-03,  1.5118e-01,  2.8155e-01,  2.0227e-01,  1.3073e-01,\n",
       "         -3.3011e-01,  2.6914e-01,  9.3762e-02, -1.0046e-01,  3.8498e-01,\n",
       "         -2.3532e-01, -2.4449e-01, -6.3254e-01, -3.1858e-01,  3.3432e-01,\n",
       "         -4.5581e-01,  6.4635e-02,  2.4394e-01, -4.7681e-02,  1.7792e-01,\n",
       "         -2.7514e-01, -8.7414e-03,  1.0570e-02, -3.0520e-01,  7.6853e-02,\n",
       "          1.7968e-01, -1.2521e-01,  2.3052e-01, -1.4909e-01, -5.2770e-01,\n",
       "         -1.3775e-02, -3.4046e-01,  6.2165e-02, -5.0671e-02, -2.9785e-02,\n",
       "         -6.0213e-02, -1.2191e-01,  1.1129e-01, -5.4156e-01, -4.3641e-02,\n",
       "         -1.5842e-01, -1.1200e-01, -3.6497e-01, -3.6413e-01, -4.6465e-01,\n",
       "          1.1415e-02, -3.3867e-01, -3.7101e-01,  1.6680e-01, -3.7303e-01,\n",
       "          2.5884e-01, -1.4862e-02, -1.1867e-01,  3.1315e-02, -8.8043e-02,\n",
       "          1.2907e-01,  9.1227e-02,  4.3126e-01,  3.2420e-01, -8.1145e-02,\n",
       "          4.3151e-02, -3.9254e-01,  7.7522e-02,  3.1220e-02, -2.5267e-01,\n",
       "          3.5163e-01, -1.1747e-01,  1.0488e-01,  8.2764e-03,  3.7977e-01,\n",
       "          1.6688e-01, -7.9362e-02,  1.7268e-02, -4.0078e-01, -5.6720e-01,\n",
       "          3.6834e-01, -8.6556e-02, -7.8857e-02, -1.8347e-01, -8.5524e-03,\n",
       "          9.8809e-02,  2.5747e-01,  2.7781e-01, -2.5836e-02,  4.6270e-03,\n",
       "         -3.3321e-02,  2.4482e-02,  9.6236e-02, -3.1256e-01, -8.5329e-04,\n",
       "          2.7794e-01, -1.4084e-01, -1.9791e-01, -6.5583e-02, -1.0347e-01,\n",
       "         -4.2157e-01, -1.7536e-01, -3.6509e-01,  2.1660e-01,  6.4924e-01,\n",
       "         -2.1229e-01, -1.6287e-01,  1.7463e-01, -3.5020e-01, -3.3771e-02,\n",
       "          3.1061e-01, -1.8735e-01,  3.8008e-01,  1.1799e-01,  3.7346e-01,\n",
       "         -5.8958e-02,  1.9816e-01,  4.8908e-02,  3.1326e-01,  3.2017e-01,\n",
       "          3.8835e-01, -2.4726e-01,  9.9776e-02, -1.3490e-01,  3.1239e-01,\n",
       "          1.7294e-01,  5.3747e-02, -1.7270e-01,  4.1383e-02,  1.0252e-01,\n",
       "         -1.6376e-01, -1.9602e-01,  1.1862e-01, -1.8407e-01, -2.4814e-01,\n",
       "          3.7339e-01,  4.9141e-01, -4.0741e-01,  9.6477e-02,  1.4477e-01,\n",
       "         -3.6605e-01, -1.5496e-01,  2.8763e-01,  1.4351e-01, -1.9313e-01,\n",
       "          2.9397e-01,  7.2876e-02,  7.2113e-02,  3.3995e-01, -7.6434e-01,\n",
       "          5.3465e-02,  2.8302e-01,  6.1348e-01, -1.2019e-01,  4.5538e-03,\n",
       "         -1.0880e-01,  5.5682e-01,  6.7386e-02, -9.6235e-02,  1.8410e-01,\n",
       "         -3.1556e-01,  1.1974e-02,  1.1208e-01, -1.7293e-01,  8.5728e-02,\n",
       "          1.4517e-01,  5.1135e-01,  2.9617e-01,  1.0192e-01,  1.2377e-02,\n",
       "         -1.5822e-01,  5.8574e-01,  1.0652e-01,  2.4096e-01,  3.4597e-01,\n",
       "         -6.3172e-02, -2.2455e-01,  1.1489e-01,  6.4690e-02,  1.2809e-01,\n",
       "         -3.4990e-02,  2.4340e-02, -2.7437e-01, -1.2981e-01, -3.5894e-02,\n",
       "          1.2217e-01, -3.0848e-02,  8.6349e-02,  3.5352e-01,  3.5138e-01,\n",
       "         -2.6073e-01, -1.9159e-01,  2.8505e-01, -1.5677e-03,  3.0138e-01,\n",
       "          1.4501e-02,  3.0035e-01, -4.3556e-02,  4.6402e-01, -1.2570e-01,\n",
       "         -4.0169e-01, -2.1088e-01, -6.4088e-02, -3.2653e-02,  4.0793e-01,\n",
       "         -2.4326e-01, -3.4463e-01,  9.8199e-02, -2.4175e-01, -3.0602e-01,\n",
       "         -5.4663e-01, -2.3399e-02, -8.8993e-02,  2.4669e-01, -5.6708e-01,\n",
       "         -1.3340e-02, -2.7602e-01,  1.6601e-01, -5.3372e-01,  3.2600e-01,\n",
       "          3.0493e-01,  4.4400e-01,  2.2925e-02,  6.4694e-01, -1.5645e-01,\n",
       "         -1.3691e-01,  1.0082e-01,  1.3268e-01, -1.8737e-04,  1.6616e-01,\n",
       "          1.0817e-01,  1.3656e-01, -3.4215e-01,  1.3354e-01,  5.6404e-01,\n",
       "         -6.9325e-01,  3.0425e-02, -2.5876e-02,  9.3391e-02,  1.5765e-02,\n",
       "         -9.7943e-02, -4.4981e-01, -1.9871e-01,  6.8673e-02, -2.7460e-01,\n",
       "          9.1204e-02,  2.4209e-01, -1.3044e-01, -2.5575e-02,  1.8710e-01,\n",
       "          1.4738e-01, -1.7530e-01, -4.1363e-01,  1.4339e-01,  4.0172e-01,\n",
       "          2.0356e-01, -1.1766e-01,  1.0457e-01, -2.6730e-01, -4.1158e-03,\n",
       "         -1.0947e-01,  1.9621e-02, -4.7895e-01,  3.5377e-01,  1.1917e-01,\n",
       "         -2.9074e-02,  4.8070e-02, -9.7760e-01,  1.0558e-01,  2.7446e-01,\n",
       "         -2.8905e-01, -1.0499e-01, -6.3510e-01,  6.4869e-02, -1.5509e-01,\n",
       "          2.7440e-02, -3.1434e-01, -1.0997e-02, -1.7106e-01,  1.2286e-02,\n",
       "         -1.8594e-01,  2.3752e-01,  3.0647e-01]], grad_fn=<MeanBackward1>)"
      ]
     },
     "execution_count": 29,
     "metadata": {},
     "output_type": "execute_result"
    }
   ],
   "source": [
    "last_hidden_states.mean(axis=1)"
   ]
  },
  {
   "cell_type": "code",
   "execution_count": 30,
   "metadata": {},
   "outputs": [],
   "source": [
    "text = data.text.iloc[0]"
   ]
  },
  {
   "cell_type": "code",
   "execution_count": 32,
   "metadata": {},
   "outputs": [
    {
     "name": "stderr",
     "output_type": "stream",
     "text": [
      "Token indices sequence length is longer than the specified maximum sequence length for this model (12869 > 512). Running this sequence through the model will result in indexing errors\n"
     ]
    }
   ],
   "source": [
    "inputs = tokenizer(text, return_tensors=\"pt\")"
   ]
  },
  {
   "cell_type": "code",
   "execution_count": 33,
   "metadata": {},
   "outputs": [
    {
     "data": {
      "text/plain": [
       "{'input_ids': tensor([[ 101, 4955, 3155,  ..., 1033, 1012,  102]]), 'attention_mask': tensor([[1, 1, 1,  ..., 1, 1, 1]])}"
      ]
     },
     "execution_count": 33,
     "metadata": {},
     "output_type": "execute_result"
    }
   ],
   "source": [
    "inputs"
   ]
  },
  {
   "cell_type": "code",
   "execution_count": 36,
   "metadata": {},
   "outputs": [
    {
     "data": {
      "text/plain": [
       "torch.Size([1, 12869])"
      ]
     },
     "execution_count": 36,
     "metadata": {},
     "output_type": "execute_result"
    }
   ],
   "source": [
    "inputs['input_ids'].shape"
   ]
  },
  {
   "cell_type": "code",
   "execution_count": 81,
   "metadata": {},
   "outputs": [],
   "source": [
    "inputs = tokenizer(data.text.iloc[:2].tolist(), return_tensors=\"pt\", padding=True)"
   ]
  },
  {
   "cell_type": "code",
   "execution_count": 82,
   "metadata": {},
   "outputs": [
    {
     "data": {
      "text/plain": [
       "torch.Size([2, 12869])"
      ]
     },
     "execution_count": 82,
     "metadata": {},
     "output_type": "execute_result"
    }
   ],
   "source": [
    "inputs['input_ids'].shape"
   ]
  },
  {
   "cell_type": "code",
   "execution_count": 85,
   "metadata": {},
   "outputs": [
    {
     "data": {
      "text/plain": [
       "{'input_ids': tensor([[  101,  4955,  3155,  ...,  1033,  1012,   102],\n",
       "        [  101,  4955, 22935,  ...,     0,     0,     0]]), 'attention_mask': tensor([[1, 1, 1,  ..., 1, 1, 1],\n",
       "        [1, 1, 1,  ..., 0, 0, 0]])}"
      ]
     },
     "execution_count": 85,
     "metadata": {},
     "output_type": "execute_result"
    }
   ],
   "source": [
    "get_tokens(data.text.iloc[:2].tolist())"
   ]
  },
  {
   "cell_type": "code",
   "execution_count": 88,
   "metadata": {},
   "outputs": [
    {
     "data": {
      "text/plain": [
       "torch.Size([2, 512])"
      ]
     },
     "execution_count": 88,
     "metadata": {},
     "output_type": "execute_result"
    }
   ],
   "source": [
    "split_tokens(get_tokens(data.text.iloc[:2].tolist()))[0]['input_ids'].shape"
   ]
  },
  {
   "cell_type": "code",
   "execution_count": 95,
   "metadata": {},
   "outputs": [
    {
     "data": {
      "text/plain": [
       "array([[-3.65491539e-01,  2.68735856e-01,  2.81266958e-01,\n",
       "        -4.36679199e-02,  2.48239622e-01,  5.51003329e-02,\n",
       "         2.06220388e-01,  6.03218563e-02, -8.39516986e-03,\n",
       "         3.30531015e-03, -1.07072279e-01, -8.39443356e-02,\n",
       "        -1.62238166e-01,  2.20025733e-01,  2.29168385e-01,\n",
       "         4.59649086e-01,  4.03089285e-01,  1.26033768e-01,\n",
       "        -1.95978526e-02,  2.34778047e-01,  4.55874950e-01,\n",
       "         2.35314411e-03,  1.74211770e-01,  4.70979899e-01,\n",
       "         3.32118005e-01, -2.10533768e-01,  7.00107822e-03,\n",
       "        -1.15879223e-01,  3.69000435e-02,  6.28628880e-02,\n",
       "         1.59018233e-01,  1.06984526e-01, -2.26293415e-01,\n",
       "        -1.09240867e-01, -9.46860537e-02,  1.45582497e-01,\n",
       "         8.84514675e-02, -2.76475430e-01,  8.12252238e-02,\n",
       "         1.87979177e-01, -6.47739053e-01, -1.43296465e-01,\n",
       "        -2.68980682e-01,  2.11763158e-01, -8.05090442e-02,\n",
       "        -4.45513837e-02,  3.32733363e-01, -4.01404221e-03,\n",
       "         1.24501467e-01, -8.22341740e-02, -4.40479726e-01,\n",
       "         4.37783182e-01,  1.96000692e-02, -3.62031311e-02,\n",
       "         3.61863226e-01,  4.01560873e-01, -2.39780724e-01,\n",
       "        -2.88698196e-01, -2.58564442e-01, -4.46522772e-01,\n",
       "        -1.73218194e-02, -1.74849071e-02,  2.85076033e-02,\n",
       "        -3.96037519e-01,  2.19033614e-01,  7.87199661e-02,\n",
       "        -9.91373286e-02,  3.62785727e-01, -5.97133875e-01,\n",
       "        -1.06989287e-01, -3.98322046e-01,  1.20166190e-01,\n",
       "        -1.49158940e-01,  2.57098466e-01,  2.69073877e-03,\n",
       "         1.41487196e-01, -2.49355748e-01,  3.06859404e-01,\n",
       "        -3.85148376e-02, -1.23983160e-01, -1.26438022e-01,\n",
       "         1.36235997e-01, -1.15434110e-01,  2.57389605e-01,\n",
       "        -4.21351679e-02,  6.40259087e-02,  1.84348393e-02,\n",
       "         3.93600971e-01, -3.74089926e-01,  3.15647900e-01,\n",
       "         1.31797984e-01,  5.25021404e-02,  1.24506935e-01,\n",
       "        -1.06119610e-01,  2.70606756e-01,  1.91351071e-01,\n",
       "         3.64155799e-01, -3.12493797e-02, -5.75974941e-01,\n",
       "         9.00992304e-02, -1.26400858e-01, -5.99598698e-02,\n",
       "         3.74759167e-01, -4.16281298e-02, -5.04192486e-02,\n",
       "        -1.83663219e-01,  2.12568507e-01, -2.85871439e-02,\n",
       "        -5.83652966e-02,  5.52410722e-01,  2.00607345e-01,\n",
       "        -2.01373309e-01, -4.09240097e-01, -3.26888710e-01,\n",
       "         2.60003954e-02, -2.06471607e-01, -2.24194169e-01,\n",
       "         6.34292653e-03,  1.58631817e-01, -8.19380302e-03,\n",
       "         6.56820834e-02,  9.28414539e-02,  1.60951167e-02,\n",
       "         5.67883849e-01,  1.28086163e-02, -1.51392013e-01,\n",
       "        -1.64297923e-01, -2.28288800e-01,  4.65179943e-02,\n",
       "         2.15200096e-01,  1.38824984e-01,  2.42806792e-01,\n",
       "         2.21867114e-01, -1.27230108e-01, -3.55241716e-01,\n",
       "         3.25199038e-01, -3.90721895e-02, -1.04953781e-01,\n",
       "        -1.24088429e-01,  2.09073827e-01,  4.37964834e-02,\n",
       "        -5.42885602e-01,  4.69932169e-01, -1.59906700e-01,\n",
       "         2.61657953e-01, -3.77398320e-02,  1.64302140e-02,\n",
       "        -6.09144531e-02,  2.56481558e-01,  3.63249391e-01,\n",
       "         8.81969463e-03, -4.63239551e-02, -5.28671108e-02,\n",
       "        -1.49733067e-01, -4.56453823e-02, -2.15873614e-01,\n",
       "        -1.22053973e-01,  2.39601418e-01,  4.18328214e-03,\n",
       "        -2.15673298e-01,  2.34075770e-01, -7.53931031e-02,\n",
       "        -1.01057149e-01,  3.45903903e-01, -5.77763394e-02,\n",
       "         3.87590319e-01,  1.65392727e-01,  6.31063104e-01,\n",
       "        -3.49055409e-01,  5.89996763e-02, -1.44069716e-01,\n",
       "        -4.12880689e-01,  7.57029176e-01, -5.86224310e-02,\n",
       "         7.74508342e-02, -6.82335421e-02,  1.75474554e-01,\n",
       "        -1.24275155e-01,  3.26902837e-01, -1.25060380e-01,\n",
       "        -7.71037877e-01,  2.18670622e-01, -1.00401238e-01,\n",
       "        -1.43737555e-01,  3.13903540e-01, -1.20600387e-01,\n",
       "         4.33583856e-01, -2.26639822e-01,  1.12329006e-01,\n",
       "        -2.63489187e-01, -4.21637781e-02, -4.89135683e-02,\n",
       "        -6.60829991e-02,  7.49248117e-02,  3.99463683e-01,\n",
       "        -3.88549105e-03, -1.74177542e-01, -4.97015007e-02,\n",
       "        -3.07988256e-01, -2.37541720e-01, -2.28391290e-01,\n",
       "         7.70116877e-03,  3.79022770e-02,  1.74332261e-01,\n",
       "        -5.42951934e-02, -6.63224399e-01, -8.09484050e-02,\n",
       "        -4.02905583e-01, -4.27886397e-02,  1.91259831e-01,\n",
       "        -1.54807389e-01,  7.50402287e-02, -1.35172352e-01,\n",
       "         8.13901499e-02,  8.25777277e-02, -3.12002033e-01,\n",
       "        -3.15455571e-02,  4.67696078e-02, -2.50465780e-01,\n",
       "         1.33069709e-01, -3.05756181e-01, -1.00171275e-01,\n",
       "        -1.53463483e-01,  6.25382900e-01, -1.11865975e-01,\n",
       "         9.19668376e-01,  5.90935014e-02, -3.52300227e-01,\n",
       "         7.08824992e-02,  6.98442817e-01,  1.73644200e-01,\n",
       "        -3.55459780e-01,  8.05712521e-01, -1.85606509e-01,\n",
       "        -2.05255896e-01, -7.00776801e-02, -2.59218067e-01,\n",
       "        -1.90268323e-01,  5.24723269e-02, -7.16851056e-01,\n",
       "        -4.73022610e-01,  5.64318776e-01,  4.65705097e-02,\n",
       "        -1.70257866e-01, -1.66247878e-02, -1.93179548e-01,\n",
       "         1.64695531e-02,  1.32851630e-01, -4.99712944e-01,\n",
       "        -1.68880880e-01, -3.54266554e-01, -1.71367586e-01,\n",
       "        -6.00517504e-02, -3.75836283e-01,  1.28008217e-01,\n",
       "        -4.01264578e-01, -8.90881345e-02, -3.04981083e-01,\n",
       "        -8.56245384e-02, -1.44802496e-01,  3.28013718e-01,\n",
       "         1.47907615e-01,  1.73692852e-01, -4.44353148e-02,\n",
       "        -1.15919918e-01, -4.37282860e-01, -6.45522624e-02,\n",
       "         2.66361207e-01,  4.80269879e-01,  1.37187630e-01,\n",
       "         3.72321308e-01, -8.38229880e-02, -4.44216430e-01,\n",
       "         5.00038326e-01, -2.24799916e-01, -6.66297898e-02,\n",
       "        -1.98889598e-02, -2.83667725e-02,  1.24927945e-01,\n",
       "         5.09677716e-02,  2.76679724e-01,  3.68233502e-01,\n",
       "         1.09915785e-01,  1.21285103e-01, -3.10701281e-01,\n",
       "        -7.83267431e-03,  8.28019064e-03, -8.89035165e-02,\n",
       "         6.67559877e-02, -2.19020486e-01, -9.37859789e-02,\n",
       "         2.19707638e-01, -3.84664625e-01, -2.01103881e-01,\n",
       "        -1.41939461e-01,  1.03590570e-01,  1.99453875e-01,\n",
       "         2.36479253e-01,  1.66398644e-01, -9.79804322e-02,\n",
       "        -1.21174157e-01, -2.89786339e-01,  2.48032644e-01,\n",
       "         1.81278199e-01,  5.15986755e-02,  1.45234853e-01,\n",
       "         1.00393118e-02, -2.39021227e-01, -4.10102797e+00,\n",
       "         1.50444373e-01,  3.01644027e-01, -2.36683920e-01,\n",
       "         4.41687524e-01, -3.54264788e-02, -2.10374463e-02,\n",
       "         1.78381056e-01, -2.28598043e-01,  3.33604842e-01,\n",
       "        -2.31976628e-01, -4.76417929e-01, -1.45565150e-02,\n",
       "         3.60237330e-01, -1.23625614e-01, -5.31540990e-01,\n",
       "        -2.10116103e-01, -2.11867660e-01,  1.33663699e-01,\n",
       "         3.09029073e-01,  7.28288665e-02, -4.81930733e-01,\n",
       "         1.59890279e-01, -7.42961839e-02,  1.45868108e-01,\n",
       "         3.05960476e-01, -3.41754466e-01, -3.33252668e-01,\n",
       "         1.57249216e-02, -3.63236219e-01,  2.25091772e-03,\n",
       "        -2.20894113e-01, -2.18663607e-02,  1.46974683e-01,\n",
       "         2.25578532e-01,  2.08277136e-01, -2.27717757e-01,\n",
       "        -2.34723926e-01, -4.60868962e-02, -5.85044503e-01,\n",
       "         2.43660584e-02, -6.17444813e-01, -1.79966241e-01,\n",
       "        -1.40503630e-01,  5.28787017e-01,  1.47464663e-01,\n",
       "        -5.97088598e-02,  2.93212056e-01, -6.69035465e-02,\n",
       "        -2.63100490e-02, -2.66916472e-02, -6.61075711e-02,\n",
       "        -3.43229920e-01, -7.63036534e-02,  2.23914951e-01,\n",
       "        -3.06977723e-02,  9.00837630e-02,  1.30945966e-01,\n",
       "        -2.02782795e-01, -2.34797597e-01,  6.50543952e-03,\n",
       "        -6.50722394e-03, -7.14853883e-01,  5.07144704e-02,\n",
       "        -6.52496377e-03, -3.04118633e-01, -4.65540886e-01,\n",
       "         1.36149004e-01,  7.72511661e-02,  4.93365638e-02,\n",
       "        -7.36347213e-02,  4.33600724e-01, -3.98734868e-01,\n",
       "         2.34823897e-01,  1.22537486e-01, -5.30810535e-01,\n",
       "         3.16050589e-01, -1.66329876e-01,  9.83362570e-02,\n",
       "         8.50507319e-02, -1.85097367e-01, -2.90956795e-01,\n",
       "         1.16529606e-01, -7.15643018e-02, -1.25680387e-01,\n",
       "        -1.23627789e-01, -1.98078036e-01,  5.80448546e-02,\n",
       "        -2.70990580e-01, -1.44651070e-01,  2.49876797e-01,\n",
       "         4.78345677e-02,  2.09356427e-01,  1.37025386e-01,\n",
       "        -6.23047724e-02, -2.80986607e-01,  1.60770640e-01,\n",
       "         2.77010530e-01,  2.41768539e-01, -1.92655280e-01,\n",
       "         1.13980807e-01, -7.94298127e-02,  3.29477370e-01,\n",
       "        -2.66721129e-01, -1.79611564e-01,  5.94821982e-02,\n",
       "        -3.08851987e-01, -2.59044319e-02,  1.84423432e-01,\n",
       "        -7.94807747e-02, -1.73212454e-01, -4.84560020e-02,\n",
       "         4.24000889e-01, -2.42134571e-01,  2.73978263e-01,\n",
       "        -1.67031154e-01, -1.67910419e-02,  4.49305892e-01,\n",
       "         2.53371567e-01, -4.31693465e-01, -2.02029705e-01,\n",
       "         5.44682682e-01, -3.07458013e-01, -6.77862614e-02,\n",
       "        -1.28971599e-02,  2.04561755e-01, -1.40144423e-01,\n",
       "         2.24773914e-01, -6.16403893e-02, -7.73629546e-02,\n",
       "         9.40671191e-03, -2.69147195e-02, -3.44579905e-01,\n",
       "         2.99913049e-01,  1.37071624e-01, -1.91600651e-01,\n",
       "        -2.22318456e-01, -1.57119229e-01, -2.38328930e-02,\n",
       "         5.83622158e-01, -2.23061591e-02,  1.50684685e-01,\n",
       "        -1.53407648e-01, -2.50590801e-01, -1.12326480e-01,\n",
       "         2.74197906e-01, -1.48068339e-01,  1.54664693e-02,\n",
       "        -2.60624021e-01, -2.68119257e-02, -3.68733615e-01,\n",
       "        -3.26633215e-01, -3.31100464e-01, -2.42731288e-01,\n",
       "         4.50373083e-01,  3.74710470e-01, -1.15600713e-02,\n",
       "         1.42690435e-01,  1.93212122e-01, -8.34889531e-01,\n",
       "         3.55342478e-01,  1.12708606e-01,  1.58189878e-01,\n",
       "         7.87104964e-02, -6.56147540e-01,  4.04122502e-01,\n",
       "        -6.28534183e-02,  4.70865630e-02,  2.89571881e-02,\n",
       "        -1.40938029e-01, -1.01802520e-01, -1.58008724e-01,\n",
       "         1.51881650e-01, -1.69474170e-01, -2.34126195e-01,\n",
       "         3.52647960e-01, -4.49874848e-02, -1.97562367e-01,\n",
       "        -2.83708274e-01,  1.43202573e-01,  1.34245738e-01,\n",
       "        -3.20617974e-01, -7.04837069e-02, -2.82643497e-01,\n",
       "         7.04480112e-02,  5.37514687e-02,  3.99827242e-01,\n",
       "        -1.66604057e-01,  1.00717470e-01, -9.27129313e-02,\n",
       "        -1.35001674e-01,  9.47097987e-02, -1.97564796e-01,\n",
       "        -3.80089164e-01, -1.04134165e-01,  4.75155599e-02,\n",
       "         2.97188669e-01, -2.29061563e-02, -1.79101862e-02,\n",
       "        -1.27423003e-01,  2.06816643e-01, -1.59415543e-01,\n",
       "        -3.81555669e-02,  9.33177918e-02,  1.37715682e-01,\n",
       "        -1.26413673e-01, -2.07081720e-01,  2.85787672e-01,\n",
       "        -1.61238819e-01, -2.86409762e-02, -2.21887589e-01,\n",
       "        -2.75272101e-01, -1.48212239e-01,  1.23810403e-01,\n",
       "        -7.79325329e-03, -1.85575113e-01, -9.04145911e-02,\n",
       "        -1.47179002e-02, -5.36117554e-01,  3.88570458e-01,\n",
       "         1.04438998e-01, -3.54136527e-02,  2.52788603e-01,\n",
       "        -1.09945156e-01, -5.78197181e-01, -3.93543005e-01,\n",
       "         2.27978349e-01,  1.42654544e-02,  2.54436463e-01,\n",
       "        -2.12763160e-01,  2.69434541e-01, -7.17307806e-01,\n",
       "        -1.48373738e-01,  2.21407160e-01,  1.80410460e-01,\n",
       "        -2.38252040e-02, -2.36989617e-01, -3.87056202e-01,\n",
       "         3.60455327e-02, -9.38578397e-02,  2.99955793e-02,\n",
       "         2.82710075e-01, -6.15639761e-02, -1.09093919e-01,\n",
       "         2.19825491e-01,  2.69849658e-01, -1.87807679e-02,\n",
       "         1.23647787e-01,  1.02093488e-01,  1.08185641e-01,\n",
       "         3.02313596e-01, -7.12291673e-02,  2.16140926e-01,\n",
       "         8.38099234e-03,  1.03779502e-01, -3.21037382e-01,\n",
       "        -3.43534082e-01,  9.97410994e-03, -3.57635826e-01,\n",
       "         6.68529794e-02, -7.69308880e-02,  1.02730565e-01,\n",
       "         6.04864433e-02,  2.36862615e-01,  2.55059391e-01,\n",
       "        -1.04375169e-01, -1.72681808e-02,  2.04507887e-01,\n",
       "         1.72546327e-01, -2.66779423e-01,  1.91384241e-01,\n",
       "        -4.49975759e-01, -1.21163316e-01, -2.65985876e-01,\n",
       "        -1.38002366e-01,  3.50161850e-01,  3.19619119e-01,\n",
       "        -3.25073838e-01,  1.03045084e-01, -5.21981001e-01,\n",
       "        -3.54948133e-01, -2.12981999e-01,  1.98833033e-01,\n",
       "        -1.29362389e-01,  1.18090726e-01, -8.08777869e-01,\n",
       "        -7.50952736e-02,  4.03296947e-02,  1.33210853e-01,\n",
       "        -1.96602941e-01,  2.65455812e-01, -1.10828973e-01,\n",
       "        -1.25158712e-01, -2.71617442e-01, -2.24902526e-01,\n",
       "         3.05631131e-01,  3.14457029e-01,  5.31300068e-01,\n",
       "        -7.70848095e-02, -9.80426297e-02, -2.18293786e-01,\n",
       "        -1.12395823e-01,  2.57420927e-01, -1.44230202e-02,\n",
       "        -1.84693620e-01,  1.55892625e-01,  1.87307253e-01,\n",
       "        -5.90385199e-01, -5.86455762e-01, -1.87296748e-01,\n",
       "        -3.41494918e-01, -1.77620962e-01,  6.70488238e-01,\n",
       "        -2.73029715e-01, -1.47114083e-01, -3.24193425e-02,\n",
       "        -6.33702502e-02,  1.23430192e-01, -3.72757912e-02,\n",
       "         2.34796271e-01,  2.67352372e-01,  2.95816272e-01,\n",
       "         5.93478680e-01,  1.32958606e-01,  2.56778330e-01,\n",
       "         1.39170215e-01,  1.71778217e-01, -2.09144995e-01,\n",
       "        -4.22961963e-03,  8.02221537e-01,  1.17978565e-02,\n",
       "         8.64820257e-02,  2.80098692e-02,  4.19184119e-01,\n",
       "         1.47815481e-01, -5.49288616e-02,  4.02997434e-03,\n",
       "         8.58548880e-02, -2.01411724e-01, -1.97261080e-01,\n",
       "         1.53662875e-01,  1.19187757e-01,  1.88382030e-01,\n",
       "         2.81169802e-01,  3.22374254e-01,  1.55576304e-01,\n",
       "         2.95491189e-01, -1.50296874e-02,  4.03224945e-01,\n",
       "         3.91602308e-01,  3.25245947e-01,  7.70104025e-03,\n",
       "        -1.58938020e-02,  2.50517130e-01, -9.37098861e-02,\n",
       "         1.43016219e-01,  5.43392539e-01,  3.15627575e-01,\n",
       "        -7.22583989e-03,  4.22423571e-01, -2.69187093e-01,\n",
       "         3.81178886e-01,  4.97481257e-01, -1.41017631e-01,\n",
       "        -1.05911158e-01,  3.76832187e-02,  4.49897468e-01,\n",
       "        -2.48510882e-01,  2.95770727e-02, -7.17755333e-02,\n",
       "        -1.04556657e-01,  2.39974529e-01, -1.70174465e-01,\n",
       "        -3.49737078e-01, -8.25620666e-02,  3.81814390e-01,\n",
       "        -2.67318785e-01, -3.04034889e-01, -3.87788899e-02,\n",
       "        -6.67625889e-02, -3.46984923e-01,  9.03484672e-02,\n",
       "        -1.04655087e-01, -1.59318388e-01, -2.49462306e-01,\n",
       "        -4.55736648e-03, -3.27180594e-01, -2.86084235e-01,\n",
       "        -3.40150923e-01, -1.67747866e-02,  2.35873505e-01,\n",
       "         3.34896967e-02,  3.84198815e-01, -2.62478262e-01,\n",
       "        -7.66489208e-02,  8.00164342e-02,  3.54582161e-01,\n",
       "        -1.52920142e-01,  6.34590328e-01, -1.53623924e-01,\n",
       "        -1.64877698e-01,  6.78487793e-02, -1.75097629e-01,\n",
       "         1.11491702e-01,  2.20544368e-01, -1.24054760e-01,\n",
       "        -6.86707050e-02,  1.89582035e-01,  5.79802804e-02,\n",
       "        -6.78586438e-02,  2.04261467e-01,  3.20346177e-01,\n",
       "        -2.68682271e-01,  1.51627421e-01,  6.65518343e-02,\n",
       "         1.29987374e-02,  7.56385922e-02,  1.27213284e-01,\n",
       "        -2.56036013e-01, -2.26204202e-01, -2.42758170e-01,\n",
       "        -2.47380510e-01,  2.34290853e-01, -1.65456876e-01,\n",
       "        -3.61788511e-01,  7.62532577e-02,  4.27327305e-01,\n",
       "         2.38814428e-01, -6.43520951e-02, -1.08335949e-01,\n",
       "        -3.61527354e-01,  2.05913335e-01, -1.60461783e-01,\n",
       "         2.37238109e-01, -7.59686977e-02, -3.58473867e-01,\n",
       "        -2.64284700e-01,  2.41693750e-01, -3.22702974e-01,\n",
       "         2.13360235e-01,  2.69880742e-01,  4.37742680e-01,\n",
       "         9.21259075e-02, -1.59305304e-01,  8.17505360e-01,\n",
       "        -2.38417670e-01, -2.78651565e-02, -4.99156445e-01,\n",
       "        -5.01056351e-02, -4.06657189e-01, -2.13824704e-01,\n",
       "        -1.38983905e-01,  3.45917940e-02,  6.65013166e-03,\n",
       "        -7.59762973e-02, -4.00509715e-01, -2.72575114e-02,\n",
       "         4.49506054e-03, -1.71565354e-01,  1.90479666e-01]], dtype=float32)"
      ]
     },
     "execution_count": 95,
     "metadata": {},
     "output_type": "execute_result"
    }
   ],
   "source": [
    "get_emb(data.text.iloc[1])"
   ]
  },
  {
   "cell_type": "code",
   "execution_count": 94,
   "metadata": {},
   "outputs": [],
   "source": [
    "def get_tokens(text):\n",
    "    return tokenizer(text, return_tensors='pt')\n",
    "\n",
    "\n",
    "def split_tokens(inputs):\n",
    "    new_inputs = []\n",
    "    for i in range(0, inputs['input_ids'].shape[1], 512):\n",
    "        input_ids = inputs['input_ids'][:, i:i+512]\n",
    "        attention_mask = inputs['attention_mask'][:, i:i+512]\n",
    "        new_inputs.append({'input_ids': input_ids, 'attention_mask': attention_mask})\n",
    "    return new_inputs\n",
    "\n",
    "\n",
    "def get_emb(text):\n",
    "    emb = torch.zeros(1, 768)\n",
    "#     emb = torch.zeros(len(text), 768)\n",
    "    inputs = get_tokens(text)\n",
    "    new_inputs = split_tokens(inputs)\n",
    "    for inp in new_inputs:\n",
    "        outputs = model(**inp)\n",
    "        last_hidden_states = outputs.last_hidden_state\n",
    "        emb += last_hidden_states.mean(axis=1)\n",
    "    emb /= len(new_inputs)\n",
    "    return emb.data.numpy()"
   ]
  },
  {
   "cell_type": "code",
   "execution_count": 47,
   "metadata": {},
   "outputs": [],
   "source": [
    "new_inputs = []\n",
    "for i in range(0, inputs['input_ids'].shape[1], 512):\n",
    "    input_ids = inputs['input_ids'][:, i:i+512]\n",
    "    attention_mask = inputs['attention_mask'][:, i:i+512]\n",
    "    new_inputs.append({'input_ids': input_ids, 'attention_mask': attention_mask})"
   ]
  },
  {
   "cell_type": "code",
   "execution_count": 49,
   "metadata": {},
   "outputs": [],
   "source": [
    "check = 0\n",
    "for inp in new_inputs:\n",
    "    check += inp['input_ids'].shape[1]"
   ]
  },
  {
   "cell_type": "code",
   "execution_count": 77,
   "metadata": {},
   "outputs": [
    {
     "data": {
      "text/plain": [
       "torch.Size([1, 12869])"
      ]
     },
     "execution_count": 77,
     "metadata": {},
     "output_type": "execute_result"
    }
   ],
   "source": [
    "inputs['input_ids'].shape"
   ]
  },
  {
   "cell_type": "code",
   "execution_count": null,
   "metadata": {},
   "outputs": [],
   "source": []
  },
  {
   "cell_type": "code",
   "execution_count": 61,
   "metadata": {},
   "outputs": [
    {
     "data": {
      "text/plain": [
       "tensor([[-8.7796e+00,  3.9975e+00,  5.2408e+00,  1.4720e+00,  3.7497e+00,\n",
       "          3.6517e+00,  5.6874e+00, -6.4418e-01, -6.8508e-01,  1.0185e+00,\n",
       "          1.6157e+00, -5.8436e+00, -8.1801e+00,  5.8365e+00, -4.3690e-01,\n",
       "          1.2110e+01,  8.8047e+00,  4.9305e-01, -1.2687e+00,  5.5927e+00,\n",
       "          1.2775e+01, -1.2908e+00,  1.3705e+00,  1.3356e+01,  5.9281e+00,\n",
       "         -4.1365e+00,  3.9571e+00, -1.7874e+00, -5.5498e-01,  1.9831e+00,\n",
       "          6.5446e+00, -2.1814e-01, -4.0232e+00, -4.5829e+00,  4.7118e-03,\n",
       "          4.4475e+00,  3.8051e+00, -3.7360e+00, -2.1668e-01,  5.4760e+00,\n",
       "         -1.6906e+01, -5.5565e+00, -6.2093e+00,  3.2338e+00, -1.2379e+00,\n",
       "         -3.1291e+00,  1.1838e+01,  1.1656e+00,  1.5878e+00, -2.4583e+00,\n",
       "         -1.2132e+01,  8.3161e+00,  3.0254e+00,  2.1665e+00,  4.4214e+00,\n",
       "          9.9880e+00, -6.0608e+00, -8.5030e+00, -9.8097e+00, -1.1179e+01,\n",
       "         -2.6321e+00, -3.0147e+00,  1.2790e+00, -7.4835e+00,  2.3285e+00,\n",
       "          2.3925e+00, -1.9196e+00,  1.4166e+01, -1.5468e+01, -3.4393e+00,\n",
       "         -7.0385e+00,  8.3779e-01,  5.7768e-01,  6.8936e+00, -4.0251e-01,\n",
       "          3.5783e+00, -7.5859e+00,  6.9284e+00,  2.5384e+00, -9.2481e-01,\n",
       "         -3.1280e+00,  3.3789e+00, -5.2622e+00,  5.9904e+00,  1.8061e+00,\n",
       "          1.9593e+00,  1.6323e+00,  5.0001e+00, -1.0958e+01,  8.1019e+00,\n",
       "          2.3281e+00, -1.1728e-01,  4.5973e+00,  7.0528e-01,  3.0598e+00,\n",
       "          5.5252e+00,  4.8863e+00,  4.9926e-01, -1.3001e+01,  2.9601e+00,\n",
       "         -2.7072e+00, -3.1137e+00,  1.2810e+01,  1.0995e+00,  2.1587e+00,\n",
       "         -6.6562e+00,  2.3574e+00, -2.5355e+00, -1.7745e+00,  1.3355e+01,\n",
       "          1.9005e+00, -3.6519e+00, -7.2682e+00, -5.2429e+00, -1.3751e+00,\n",
       "         -1.7212e+00, -5.5822e+00, -8.4154e-01,  4.3894e+00,  1.1252e+00,\n",
       "          1.1911e-01, -5.5873e-02,  2.0429e+00,  1.1103e+01,  2.5557e+00,\n",
       "         -6.7316e-01, -5.3796e+00, -1.4637e+00, -2.3062e+00,  4.3260e+00,\n",
       "          5.2190e+00,  5.4914e+00,  9.2733e+00, -3.8662e+00, -8.1046e+00,\n",
       "          6.8517e+00, -2.7156e+00, -3.8758e+00, -6.0775e+00,  6.5394e+00,\n",
       "          4.0818e+00, -1.1569e+01,  1.1969e+01, -2.3531e+00,  5.5085e+00,\n",
       "          5.2390e-01,  2.1879e+00, -1.8485e+00,  2.5334e+00,  9.2004e+00,\n",
       "         -2.8884e+00, -3.7557e-01,  7.3027e-01, -8.1177e+00,  9.5630e-01,\n",
       "         -6.8655e+00, -7.4463e+00,  7.6664e+00, -4.4309e+00, -6.2601e+00,\n",
       "          8.8597e+00,  4.2249e+00, -2.8534e+00,  9.4549e+00,  1.8840e+00,\n",
       "          8.6746e+00,  9.6655e-01,  1.4265e+01, -1.0658e+01,  3.8541e+00,\n",
       "         -2.2245e+00, -1.0535e+01,  1.7688e+01, -5.4199e-01,  1.7154e+00,\n",
       "         -5.7781e-01,  3.0205e+00, -5.6184e+00,  8.1155e+00, -1.7230e+00,\n",
       "         -1.7444e+01,  8.4101e+00, -2.8577e+00,  1.9343e-01,  8.0455e+00,\n",
       "         -2.8470e+00,  1.0369e+01, -6.9896e+00, -4.6016e-01, -5.9148e+00,\n",
       "         -6.2177e+00, -4.2906e-01, -1.4456e+00, -2.8932e+00,  1.0031e+01,\n",
       "         -4.2745e-01, -5.5685e+00, -3.1580e+00, -8.8942e+00, -6.9139e+00,\n",
       "         -2.2968e+00,  3.0534e+00,  3.1755e+00,  2.3328e+00,  2.0383e+00,\n",
       "         -1.3500e+01,  3.7744e-01, -1.2587e+01, -4.5174e-01,  5.2472e+00,\n",
       "         -5.0879e+00,  2.6983e+00, -3.4355e+00,  6.7092e+00,  7.8065e-01,\n",
       "         -5.4516e+00,  1.6144e+00, -2.8991e+00,  1.3490e+00, -4.1452e-01,\n",
       "         -4.9940e+00, -4.5337e+00, -3.6592e+00,  1.4747e+01, -3.1754e+00,\n",
       "          2.4004e+01,  3.0409e+00, -7.3240e+00,  3.4672e+00,  1.6681e+01,\n",
       "          1.7387e+00, -8.1946e+00,  2.2974e+01, -6.6809e+00, -3.9258e+00,\n",
       "          1.4133e+00, -9.8335e+00, -3.9407e+00,  2.5184e+00, -1.5782e+01,\n",
       "         -8.9560e+00,  1.4030e+01,  5.2376e+00, -4.9381e+00,  4.5395e-01,\n",
       "         -2.0218e+00,  2.5415e+00,  3.3765e-01, -1.0598e+01, -5.6986e+00,\n",
       "         -8.0904e+00, -4.8300e+00,  2.9383e+00, -8.0922e+00,  7.8867e-03,\n",
       "         -1.0511e+01, -2.6632e+00, -1.1454e+01, -2.4556e+00, -3.0981e+00,\n",
       "          7.5663e+00,  6.5666e-01,  9.0882e+00,  6.8403e-01, -5.0976e+00,\n",
       "         -9.7813e+00, -1.1549e-01,  4.8638e+00,  7.6820e+00,  5.2998e+00,\n",
       "          5.1328e+00, -2.2099e+00, -1.0295e+01,  1.6738e+01, -6.6473e+00,\n",
       "         -5.7426e-02,  7.9976e-01, -1.6815e+00,  9.2652e-01, -1.8083e+00,\n",
       "          7.0321e+00,  7.5814e+00,  2.1910e-01,  1.3668e+00, -4.8289e+00,\n",
       "         -2.5251e+00,  7.2700e-01,  1.7342e-01,  1.8203e-01, -9.0301e+00,\n",
       "         -1.2462e+00,  8.3938e+00, -6.8446e+00, -8.2245e+00, -1.1752e+00,\n",
       "          2.0984e+00,  2.2933e+00,  5.9877e+00,  8.4667e+00, -2.9741e+00,\n",
       "         -6.3131e+00, -4.3947e+00,  3.6379e+00,  2.4430e+00, -2.9147e+00,\n",
       "          2.8717e+00, -3.1235e-01, -7.8136e+00, -1.0900e+02,  5.9118e+00,\n",
       "          7.3461e+00, -4.1790e+00,  7.7405e+00, -3.8882e-02,  7.7591e-02,\n",
       "          4.7710e+00, -8.4406e+00,  8.4315e+00, -4.6059e+00, -1.1498e+01,\n",
       "          1.9184e+00,  7.8803e+00,  1.5819e+00, -9.5893e+00, -3.3064e+00,\n",
       "         -7.8736e+00,  1.4713e+00,  1.1435e+01,  1.6774e+00, -1.3109e+01,\n",
       "          2.9000e+00, -3.7517e+00,  7.9799e+00,  8.7137e+00, -6.4659e+00,\n",
       "         -7.2459e+00, -1.9447e+00, -9.6232e+00,  3.5573e+00, -1.0495e+01,\n",
       "         -4.7478e-01,  3.2399e+00,  4.0254e+00,  6.5693e+00, -1.8331e+00,\n",
       "         -8.7171e+00, -3.8238e+00, -1.1591e+01,  2.9070e+00, -1.5379e+01,\n",
       "         -5.5420e-01, -4.5640e+00,  1.2937e+01,  4.6633e+00, -2.2175e+00,\n",
       "          3.4413e+00, -1.3264e+00,  3.0084e+00,  3.2423e+00, -1.3426e-01,\n",
       "         -9.6360e+00, -4.5812e-01,  3.1603e+00,  9.0998e-01,  5.3451e+00,\n",
       "          9.6020e+00, -6.2682e+00, -7.9651e+00, -1.0760e+00, -3.7901e+00,\n",
       "         -1.8427e+01, -7.6778e-01, -2.5524e-01, -7.3961e+00, -7.0612e+00,\n",
       "          7.4402e+00, -2.6282e+00,  2.5305e+00, -8.8121e-01,  7.2217e+00,\n",
       "         -1.1083e+01,  7.1260e+00,  2.4725e+00, -1.3011e+01,  9.0791e+00,\n",
       "         -4.5349e+00,  1.0207e+00,  3.3471e+00, -4.6664e+00, -1.2914e+01,\n",
       "          2.1680e+00,  2.6234e+00, -3.3312e+00, -2.7648e-01, -3.0237e+00,\n",
       "          9.5075e-01, -7.2209e+00, -5.7320e+00,  6.1405e+00, -5.2136e-01,\n",
       "          2.7434e+00,  1.9332e+00,  1.2204e+00, -9.4961e+00,  6.0631e+00,\n",
       "          4.4454e+00,  6.8141e+00, -6.7015e+00,  3.6992e-02,  1.9932e-01,\n",
       "          6.6724e+00, -3.4648e+00, -3.7347e+00,  1.2765e+00, -8.3226e+00,\n",
       "         -2.0186e+00, -1.1042e-02, -2.4777e-01, -1.7136e+00, -3.5908e+00,\n",
       "          1.0746e+01, -2.0893e+00,  4.8318e+00, -2.6116e+00,  3.2973e+00,\n",
       "          7.7118e+00,  4.0819e+00, -8.2844e+00, -7.1600e+00,  1.2573e+01,\n",
       "         -9.7506e+00, -2.7857e+00, -1.5902e+00, -6.5045e-01, -2.1483e+00,\n",
       "          1.9664e+00, -1.2870e+00, -9.4434e-01, -4.8295e+00, -2.0405e-01,\n",
       "         -8.1035e+00,  8.1032e+00,  3.9383e+00, -4.5341e+00, -6.9592e+00,\n",
       "         -1.0577e+01,  1.5539e-01,  1.2931e+01,  1.1133e+00,  3.6446e+00,\n",
       "         -2.7536e+00, -6.8006e+00, -3.5862e+00,  8.9587e+00, -1.2592e-01,\n",
       "         -3.8832e-01, -7.8798e+00, -3.1137e-01, -9.5112e+00, -7.1039e+00,\n",
       "         -4.3917e+00, -6.5108e+00,  7.1952e+00,  9.0841e+00, -2.3423e+00,\n",
       "          1.0798e+00,  5.1848e+00, -2.2748e+01,  7.1765e+00,  3.7961e+00,\n",
       "          6.4767e+00,  5.2509e-01, -1.4777e+01,  1.2112e+01,  2.3063e+00,\n",
       "          4.2502e-01,  2.7275e+00, -3.2521e+00, -4.5800e+00, -6.2027e+00,\n",
       "          4.5557e+00, -2.6761e+00, -6.2432e+00,  1.5434e+01,  1.5603e+00,\n",
       "         -1.0573e+01, -8.6354e+00,  7.3619e+00,  4.2238e+00, -6.7646e+00,\n",
       "         -1.7678e+00, -4.0183e+00,  5.9052e+00,  6.3035e+00,  6.3409e+00,\n",
       "         -1.1355e+00,  3.1934e+00, -2.2702e-02, -4.9635e+00,  5.2395e+00,\n",
       "         -1.8623e+00, -5.7642e+00, -5.8748e+00, -2.9139e+00,  9.5557e+00,\n",
       "         -8.5695e-01, -1.2403e+00, -2.2280e+00,  4.2760e+00, -4.9334e+00,\n",
       "         -9.8317e-01,  3.6093e+00,  3.3605e+00, -3.0574e+00, -5.0354e+00,\n",
       "          4.4284e+00, -2.2605e+00, -2.9692e+00, -5.7863e+00, -7.1697e+00,\n",
       "         -6.9595e+00,  2.8470e+00, -1.4516e+00, -5.4961e+00, -2.9462e+00,\n",
       "          2.3636e-01, -8.6504e+00,  9.3789e+00, -1.5738e+00, -9.4250e-01,\n",
       "          7.4231e+00, -2.9022e+00, -1.3494e+01, -7.5463e+00,  3.9558e+00,\n",
       "          9.0692e-02,  1.1049e+00, -6.8253e+00,  8.7879e+00, -1.7627e+01,\n",
       "         -3.5108e+00,  2.8263e+00,  5.9790e-01,  1.0332e+00, -4.3732e+00,\n",
       "         -1.1583e+01,  2.5892e+00, -2.7815e+00, -1.1555e+00,  9.1949e+00,\n",
       "         -3.2192e+00, -3.1595e+00,  6.5349e+00,  4.4269e+00, -2.9140e+00,\n",
       "          5.1939e+00,  1.8934e+00,  5.1818e+00,  7.1218e+00,  1.2119e+00,\n",
       "          5.0986e+00, -1.8213e+00,  3.1411e+00, -7.7120e+00, -7.4567e+00,\n",
       "         -1.1353e+00, -7.4468e+00,  4.6484e-01, -2.2481e+00,  4.7054e+00,\n",
       "          2.9123e+00,  2.1972e+00,  5.9565e+00, -8.3177e-01, -8.6809e-02,\n",
       "          8.0577e+00,  2.4885e+00, -7.9212e+00,  4.9680e+00, -1.0222e+01,\n",
       "         -2.7077e+00, -8.8201e+00, -3.9139e+00,  9.0188e+00,  3.4777e+00,\n",
       "         -1.0432e+01,  2.6089e+00, -1.2959e+01, -1.0663e+01, -6.5443e+00,\n",
       "          4.0537e+00, -1.1017e+00, -2.1587e+00, -1.3643e+01, -2.5119e+00,\n",
       "         -8.7618e-01,  1.9702e+00, -5.9643e+00,  6.8407e+00, -1.5706e-01,\n",
       "         -5.5477e+00, -5.6405e+00, -1.7000e+00,  5.4540e+00,  8.8574e+00,\n",
       "          1.2846e+01,  9.0125e-01, -1.3968e+00, -4.6082e+00, -2.5340e+00,\n",
       "          8.0871e+00, -4.7293e-02, -2.7354e+00,  3.5932e+00,  7.3224e+00,\n",
       "         -1.4197e+01, -1.1770e+01, -5.9268e+00, -5.4409e+00, -1.7052e+00,\n",
       "          1.5387e+01, -6.0240e+00, -3.3421e+00, -4.3929e+00, -4.9807e+00,\n",
       "          1.6264e+00, -4.7466e+00,  5.2151e+00,  7.4169e+00,  8.6567e+00,\n",
       "          1.8255e+01,  2.0924e+00,  5.6517e+00,  4.8185e+00,  6.9970e+00,\n",
       "         -3.6222e+00, -1.6443e+00,  1.5144e+01, -2.3180e+00, -8.6226e-01,\n",
       "         -1.3152e+00,  8.8919e+00,  1.3518e+00, -1.7893e-01, -4.0451e+00,\n",
       "          8.0999e+00, -2.4369e+00, -4.7445e+00,  2.7960e+00,  3.2400e+00,\n",
       "          6.8074e+00,  6.4621e+00,  8.7083e+00,  3.0808e+00,  4.4151e+00,\n",
       "         -2.1990e+00,  1.5231e+01,  1.0009e+01,  7.7018e+00,  1.9112e-01,\n",
       "         -1.1413e+00,  3.5730e+00, -9.6807e-01,  3.5436e+00,  1.2628e+01,\n",
       "          7.7113e+00, -2.7246e+00,  1.6338e+01, -4.0232e+00,  1.1706e+01,\n",
       "          1.1282e+01, -3.9397e+00, -7.0414e+00, -1.1366e+00,  8.5384e+00,\n",
       "         -6.1006e+00, -2.8079e+00, -6.3183e-01, -1.7081e+00,  5.5101e+00,\n",
       "         -1.4016e+00, -8.2979e+00, -2.0859e+00,  1.3642e+01, -4.9878e+00,\n",
       "         -6.3752e+00, -1.8411e+00,  2.3696e-01, -8.7910e+00,  5.6825e-01,\n",
       "         -1.7461e+00, -1.9766e-01, -7.0432e+00,  1.7652e+00, -5.9737e+00,\n",
       "         -5.2693e+00, -3.5460e+00, -6.4324e-01,  7.0032e+00, -2.7837e+00,\n",
       "          9.8708e+00, -7.5593e+00, -2.4249e+00,  3.7076e-01,  7.4369e+00,\n",
       "         -3.6884e+00,  1.9153e+01,  4.0738e-01, -4.2769e+00,  3.8484e-01,\n",
       "          2.9393e-01,  1.8785e+00,  7.2050e+00, -2.3473e+00, -2.7350e-01,\n",
       "          1.1002e+01, -4.6218e-01, -3.0225e-02,  3.6952e+00,  8.2100e+00,\n",
       "         -9.0223e+00,  2.2103e+00,  6.6863e-02, -2.4574e-01,  1.3541e+00,\n",
       "          9.1752e-01, -6.3690e+00, -5.9620e+00, -1.0680e+01, -9.5536e+00,\n",
       "          3.6176e+00, -3.3503e+00, -9.1909e+00,  2.0503e-01,  8.4228e+00,\n",
       "          8.3398e+00, -1.3096e+00, -5.8783e-01, -4.2337e+00,  5.4905e+00,\n",
       "          5.8568e-01,  4.2077e+00, -2.5278e+00, -8.7872e+00, -7.5296e+00,\n",
       "          6.8414e+00, -1.0462e+01,  9.2341e+00,  9.7143e+00,  6.5510e+00,\n",
       "         -1.2052e-01, -3.2785e+00,  1.9624e+01, -6.1423e+00,  1.2673e+00,\n",
       "         -1.0157e+01, -6.7049e+00, -1.0958e+01, -6.5941e+00, -1.4160e+00,\n",
       "          1.1351e+00, -2.6190e+00, -4.7217e+00, -1.4972e+01, -1.8458e+00,\n",
       "          3.5755e-01, -1.8442e+00,  1.7778e+00]], grad_fn=<AddBackward0>)"
      ]
     },
     "execution_count": 61,
     "metadata": {},
     "output_type": "execute_result"
    }
   ],
   "source": [
    "emb = torch.zeros(1, 768)\n",
    "for inp in new_inputs:\n",
    "    outputs = model(**inp)\n",
    "    last_hidden_states = outputs.last_hidden_state\n",
    "    emb += last_hidden_states.mean(axis=1)\n",
    "emb"
   ]
  },
  {
   "cell_type": "code",
   "execution_count": 62,
   "metadata": {},
   "outputs": [],
   "source": [
    "emb /= len(new_inputs)"
   ]
  },
  {
   "cell_type": "code",
   "execution_count": 69,
   "metadata": {},
   "outputs": [
    {
     "data": {
      "text/html": [
       "<div>\n",
       "<style scoped>\n",
       "    .dataframe tbody tr th:only-of-type {\n",
       "        vertical-align: middle;\n",
       "    }\n",
       "\n",
       "    .dataframe tbody tr th {\n",
       "        vertical-align: top;\n",
       "    }\n",
       "\n",
       "    .dataframe thead th {\n",
       "        text-align: right;\n",
       "    }\n",
       "</style>\n",
       "<table border=\"1\" class=\"dataframe\">\n",
       "  <thead>\n",
       "    <tr style=\"text-align: right;\">\n",
       "      <th></th>\n",
       "      <th>0</th>\n",
       "      <th>1</th>\n",
       "      <th>2</th>\n",
       "      <th>3</th>\n",
       "      <th>4</th>\n",
       "      <th>5</th>\n",
       "      <th>6</th>\n",
       "      <th>7</th>\n",
       "      <th>8</th>\n",
       "      <th>9</th>\n",
       "      <th>...</th>\n",
       "      <th>758</th>\n",
       "      <th>759</th>\n",
       "      <th>760</th>\n",
       "      <th>761</th>\n",
       "      <th>762</th>\n",
       "      <th>763</th>\n",
       "      <th>764</th>\n",
       "      <th>765</th>\n",
       "      <th>766</th>\n",
       "      <th>767</th>\n",
       "    </tr>\n",
       "  </thead>\n",
       "  <tbody>\n",
       "    <tr>\n",
       "      <th>0</th>\n",
       "      <td>-0.337677</td>\n",
       "      <td>0.153751</td>\n",
       "      <td>0.201571</td>\n",
       "      <td>0.056614</td>\n",
       "      <td>0.14422</td>\n",
       "      <td>0.14045</td>\n",
       "      <td>0.218748</td>\n",
       "      <td>-0.024776</td>\n",
       "      <td>-0.026349</td>\n",
       "      <td>0.039172</td>\n",
       "      <td>...</td>\n",
       "      <td>-0.253621</td>\n",
       "      <td>-0.054461</td>\n",
       "      <td>0.043656</td>\n",
       "      <td>-0.100731</td>\n",
       "      <td>-0.181603</td>\n",
       "      <td>-0.575831</td>\n",
       "      <td>-0.070994</td>\n",
       "      <td>0.013752</td>\n",
       "      <td>-0.07093</td>\n",
       "      <td>0.068375</td>\n",
       "    </tr>\n",
       "  </tbody>\n",
       "</table>\n",
       "<p>1 rows × 768 columns</p>\n",
       "</div>"
      ],
      "text/plain": [
       "        0         1         2         3        4        5         6    \\\n",
       "0 -0.337677  0.153751  0.201571  0.056614  0.14422  0.14045  0.218748   \n",
       "\n",
       "        7         8         9    ...       758       759       760       761  \\\n",
       "0 -0.024776 -0.026349  0.039172  ... -0.253621 -0.054461  0.043656 -0.100731   \n",
       "\n",
       "        762       763       764       765      766       767  \n",
       "0 -0.181603 -0.575831 -0.070994  0.013752 -0.07093  0.068375  \n",
       "\n",
       "[1 rows x 768 columns]"
      ]
     },
     "execution_count": 69,
     "metadata": {},
     "output_type": "execute_result"
    }
   ],
   "source": [
    "pd.DataFrame(emb.data.numpy())"
   ]
  },
  {
   "cell_type": "code",
   "execution_count": 72,
   "metadata": {},
   "outputs": [
    {
     "name": "stdout",
     "output_type": "stream",
     "text": [
      "CPU times: user 17.4 s, sys: 5.08 s, total: 22.4 s\n",
      "Wall time: 20.2 s\n"
     ]
    },
    {
     "data": {
      "text/plain": [
       "array([[-3.37676883e-01,  1.53750524e-01,  2.01570958e-01,\n",
       "         5.66141419e-02,  1.44220442e-01,  1.40449733e-01,\n",
       "         2.18747512e-01, -2.47760527e-02, -2.63493992e-02,\n",
       "         3.91723290e-02,  6.21437170e-02, -2.24752679e-01,\n",
       "        -3.14618886e-01,  2.24482596e-01, -1.68038160e-02,\n",
       "         4.65776503e-01,  3.38642478e-01,  1.89633965e-02,\n",
       "        -4.87960912e-02,  2.15103611e-01,  4.91347194e-01,\n",
       "        -4.96479422e-02,  5.27107380e-02,  5.13691127e-01,\n",
       "         2.28004515e-01, -1.59097642e-01,  1.52194411e-01,\n",
       "        -6.87452257e-02, -2.13451944e-02,  7.62742832e-02,\n",
       "         2.51713842e-01, -8.38991441e-03, -1.54737070e-01,\n",
       "        -1.76266849e-01,  1.81223339e-04,  1.71057776e-01,\n",
       "         1.46350488e-01, -1.43693775e-01, -8.33366998e-03,\n",
       "         2.10615963e-01, -6.50244653e-01, -2.13712782e-01,\n",
       "        -2.38819510e-01,  1.24378003e-01, -4.76108715e-02,\n",
       "        -1.20350786e-01,  4.55290854e-01,  4.48289104e-02,\n",
       "         6.10709563e-02, -9.45498571e-02, -4.66621250e-01,\n",
       "         3.19850296e-01,  1.16362646e-01,  8.33259076e-02,\n",
       "         1.70052931e-01,  3.84153485e-01, -2.33108118e-01,\n",
       "        -3.27037662e-01, -3.77297044e-01, -4.29968834e-01,\n",
       "        -1.01235628e-01, -1.15950175e-01,  4.91941832e-02,\n",
       "        -2.87825763e-01,  8.95566121e-02,  9.20203552e-02,\n",
       "        -7.38302320e-02,  5.44856250e-01, -5.94924212e-01,\n",
       "        -1.32280216e-01, -2.70713210e-01,  3.22228111e-02,\n",
       "         2.22185832e-02,  2.65137285e-01, -1.54809766e-02,\n",
       "         1.37625143e-01, -2.91764289e-01,  2.66476184e-01,\n",
       "         9.76311043e-02, -3.55694778e-02, -1.20308474e-01,\n",
       "         1.29957214e-01, -2.02390462e-01,  2.30400950e-01,\n",
       "         6.94658533e-02,  7.53558204e-02,  6.27808347e-02,\n",
       "         1.92309916e-01, -4.21455503e-01,  3.11610073e-01,\n",
       "         8.95406380e-02, -4.51063132e-03,  1.76820144e-01,\n",
       "         2.71261968e-02,  1.17684312e-01,  2.12505981e-01,\n",
       "         1.87935621e-01,  1.92024577e-02, -5.00022531e-01,\n",
       "         1.13849983e-01, -1.04124293e-01, -1.19757928e-01,\n",
       "         4.92700458e-01,  4.22900580e-02,  8.30275640e-02,\n",
       "        -2.56006092e-01,  9.06685293e-02, -9.75183770e-02,\n",
       "        -6.82516396e-02,  5.13662755e-01,  7.30947331e-02,\n",
       "        -1.40456855e-01, -2.79545933e-01, -2.01650172e-01,\n",
       "        -5.28874584e-02, -6.62009418e-02, -2.14699581e-01,\n",
       "        -3.23670730e-02,  1.68823630e-01,  4.32758778e-02,\n",
       "         4.58125304e-03, -2.14897678e-03,  7.85718039e-02,\n",
       "         4.27024782e-01,  9.82947052e-02, -2.58907750e-02,\n",
       "        -2.06907511e-01, -5.62942438e-02, -8.87006894e-02,\n",
       "         1.66385114e-01,  2.00731054e-01,  2.11206660e-01,\n",
       "         3.56663972e-01, -1.48700789e-01, -3.11715871e-01,\n",
       "         2.63526499e-01, -1.04445562e-01, -1.49070591e-01,\n",
       "        -2.33748347e-01,  2.51515657e-01,  1.56994164e-01,\n",
       "        -4.44979459e-01,  4.60347295e-01, -9.05035734e-02,\n",
       "         2.11866826e-01,  2.01501474e-02,  8.41518268e-02,\n",
       "        -7.10946247e-02,  9.74403471e-02,  3.53863209e-01,\n",
       "        -1.11091442e-01, -1.44451661e-02,  2.80872565e-02,\n",
       "        -3.12220722e-01,  3.67805883e-02, -2.64058858e-01,\n",
       "        -2.86395520e-01,  2.94862092e-01, -1.70420378e-01,\n",
       "        -2.40774542e-01,  3.40757400e-01,  1.62494928e-01,\n",
       "        -1.09744459e-01,  3.63650769e-01,  7.24599510e-02,\n",
       "         3.33637357e-01,  3.71749029e-02,  5.48652530e-01,\n",
       "        -4.09938633e-01,  1.48235142e-01, -8.55582878e-02,\n",
       "        -4.05205578e-01,  6.80310309e-01, -2.08458118e-02,\n",
       "         6.59777597e-02, -2.22233757e-02,  1.16174653e-01,\n",
       "        -2.16092974e-01,  3.12134743e-01, -6.62673786e-02,\n",
       "        -6.70916796e-01,  3.23465675e-01, -1.09909974e-01,\n",
       "         7.43972277e-03,  3.09443027e-01, -1.09498449e-01,\n",
       "         3.98810565e-01, -2.68830091e-01, -1.76982917e-02,\n",
       "        -2.27492675e-01, -2.39140406e-01, -1.65021904e-02,\n",
       "        -5.55991121e-02, -1.11275144e-01,  3.85805309e-01,\n",
       "        -1.64405499e-02, -2.14173853e-01, -1.21460930e-01,\n",
       "        -3.42085958e-01, -2.65920341e-01, -8.83395821e-02,\n",
       "         1.17437333e-01,  1.22136481e-01,  8.97226036e-02,\n",
       "         7.83947855e-02, -5.19230425e-01,  1.45170344e-02,\n",
       "        -4.84130323e-01, -1.73746366e-02,  2.01814070e-01,\n",
       "        -1.95689201e-01,  1.03781499e-01, -1.32134438e-01,\n",
       "         2.58044332e-01,  3.00248768e-02, -2.09676534e-01,\n",
       "         6.20915890e-02, -1.11505397e-01,  5.18859699e-02,\n",
       "        -1.59430392e-02, -1.92077294e-01, -1.74373001e-01,\n",
       "        -1.40737742e-01,  5.67206383e-01, -1.22130632e-01,\n",
       "         9.23222303e-01,  1.16956659e-01, -2.81691819e-01,\n",
       "         1.33354187e-01,  6.41578555e-01,  6.68717697e-02,\n",
       "        -3.15178841e-01,  8.83615613e-01, -2.56956846e-01,\n",
       "        -1.50991902e-01,  5.43565601e-02, -3.78212601e-01,\n",
       "        -1.51565015e-01,  9.68604758e-02, -6.06994152e-01,\n",
       "        -3.44460636e-01,  5.39602041e-01,  2.01447815e-01,\n",
       "        -1.89926788e-01,  1.74597409e-02, -7.77618438e-02,\n",
       "         9.77485254e-02,  1.29863760e-02, -4.07631040e-01,\n",
       "        -2.19177067e-01, -3.11170220e-01, -1.85767487e-01,\n",
       "         1.13011725e-01, -3.11237335e-01,  3.03333509e-04,\n",
       "        -4.04283255e-01, -1.02430545e-01, -4.40525174e-01,\n",
       "        -9.44446251e-02, -1.19156331e-01,  2.91012317e-01,\n",
       "         2.52562650e-02,  3.49547029e-01,  2.63088755e-02,\n",
       "        -1.96062341e-01, -3.76205325e-01, -4.44173254e-03,\n",
       "         1.87068000e-01,  2.95462877e-01,  2.03838512e-01,\n",
       "         1.97413549e-01, -8.49947855e-02, -3.95957291e-01,\n",
       "         6.43777490e-01, -2.55664468e-01, -2.20870739e-03,\n",
       "         3.07599623e-02, -6.46725520e-02,  3.56353857e-02,\n",
       "        -6.95508495e-02,  2.70464957e-01,  2.91592389e-01,\n",
       "         8.42685811e-03,  5.25703654e-02, -1.85726538e-01,\n",
       "        -9.71184298e-02,  2.79615689e-02,  6.67007221e-03,\n",
       "         7.00101722e-03, -3.47313136e-01, -4.79312129e-02,\n",
       "         3.22837532e-01, -2.63252079e-01, -3.16327840e-01,\n",
       "        -4.51982170e-02,  8.07090253e-02,  8.82025808e-02,\n",
       "         2.30297774e-01,  3.25641811e-01, -1.14389606e-01,\n",
       "        -2.42813200e-01, -1.69028550e-01,  1.39919102e-01,\n",
       "         9.39614326e-02, -1.12103648e-01,  1.10449798e-01,\n",
       "        -1.20134614e-02, -3.00522923e-01, -4.19245481e+00,\n",
       "         2.27376536e-01,  2.82541722e-01, -1.60731331e-01,\n",
       "         2.97710538e-01, -1.49545062e-03,  2.98426813e-03,\n",
       "         1.83499992e-01, -3.24637562e-01,  3.24288219e-01,\n",
       "        -1.77150011e-01, -4.42247361e-01,  7.37858266e-02,\n",
       "         3.03088874e-01,  6.08406514e-02, -3.68819773e-01,\n",
       "        -1.27167821e-01, -3.02832365e-01,  5.65900169e-02,\n",
       "         4.39821362e-01,  6.45157620e-02, -5.04199386e-01,\n",
       "         1.11539051e-01, -1.44296348e-01,  3.06920171e-01,\n",
       "         3.35141599e-01, -2.48686627e-01, -2.78689831e-01,\n",
       "        -7.47971386e-02, -3.70121330e-01,  1.36819839e-01,\n",
       "        -4.03646678e-01, -1.82609092e-02,  1.24612331e-01,\n",
       "         1.54823393e-01,  2.52664089e-01, -7.05019385e-02,\n",
       "        -3.35272282e-01, -1.47069708e-01, -4.45817798e-01,\n",
       "         1.11807898e-01, -5.91483057e-01, -2.13152729e-02,\n",
       "        -1.75538406e-01,  4.97562230e-01,  1.79356009e-01,\n",
       "        -8.52875039e-02,  1.32358372e-01, -5.10167889e-02,\n",
       "         1.15707606e-01,  1.24704368e-01, -5.16394852e-03,\n",
       "        -3.70616078e-01, -1.76199507e-02,  1.21548481e-01,\n",
       "         3.49993035e-02,  2.05581352e-01,  3.69306684e-01,\n",
       "        -2.41085231e-01, -3.06351066e-01, -4.13850397e-02,\n",
       "        -1.45772427e-01, -7.08712935e-01, -2.95301192e-02,\n",
       "        -9.81691852e-03, -2.84464985e-01, -2.71586150e-01,\n",
       "         2.86159813e-01, -1.01083487e-01,  9.73270461e-02,\n",
       "        -3.38925198e-02,  2.77756572e-01, -4.26257342e-01,\n",
       "         2.74075866e-01,  9.50969532e-02, -5.00418365e-01,\n",
       "         3.49195838e-01, -1.74418658e-01,  3.92586179e-02,\n",
       "         1.28735960e-01, -1.79475248e-01, -4.96676415e-01,\n",
       "         8.33863467e-02,  1.00900486e-01, -1.28123909e-01,\n",
       "        -1.06336987e-02, -1.16295889e-01,  3.65672968e-02,\n",
       "        -2.77727395e-01, -2.20461532e-01,  2.36171708e-01,\n",
       "        -2.00521834e-02,  1.05516635e-01,  7.43549317e-02,\n",
       "         4.69385535e-02, -3.65234584e-01,  2.33197927e-01,\n",
       "         1.70978710e-01,  2.62080491e-01, -2.57748485e-01,\n",
       "         1.42277975e-03,  7.66597921e-03,  2.56632388e-01,\n",
       "        -1.33261785e-01, -1.43643811e-01,  4.90951985e-02,\n",
       "        -3.20099622e-01, -7.76367858e-02, -4.24680795e-04,\n",
       "        -9.52973403e-03, -6.59071282e-02, -1.38108671e-01,\n",
       "         4.13315266e-01, -8.03575590e-02,  1.85836941e-01,\n",
       "        -1.00444429e-01,  1.26817435e-01,  2.96609372e-01,\n",
       "         1.56997040e-01, -3.18630815e-01, -2.75384128e-01,\n",
       "         4.83593524e-01, -3.75021577e-01, -1.07140914e-01,\n",
       "        -6.11617118e-02, -2.50172112e-02, -8.26278478e-02,\n",
       "         7.56322369e-02, -4.95000146e-02, -3.63209248e-02,\n",
       "        -1.85748249e-01, -7.84795173e-03, -3.11673760e-01,\n",
       "         3.11660886e-01,  1.51474759e-01, -1.74389228e-01,\n",
       "        -2.67660499e-01, -4.06789899e-01,  5.97661920e-03,\n",
       "         4.97331440e-01,  4.28192094e-02,  1.40177399e-01,\n",
       "        -1.05907574e-01, -2.61560529e-01, -1.37931526e-01,\n",
       "         3.44566792e-01, -4.84296633e-03, -1.49355736e-02,\n",
       "        -3.03067714e-01, -1.19759180e-02, -3.65813673e-01,\n",
       "        -2.73225486e-01, -1.68913379e-01, -2.50413954e-01,\n",
       "         2.76738167e-01,  3.49386752e-01, -9.00901183e-02,\n",
       "         4.15288880e-02,  1.99414834e-01, -8.74941528e-01,\n",
       "         2.76019037e-01,  1.46004334e-01,  2.49104321e-01,\n",
       "         2.01958157e-02, -5.68364561e-01,  4.65829074e-01,\n",
       "         8.87050480e-02,  1.63469799e-02,  1.04905620e-01,\n",
       "        -1.25080466e-01, -1.76153481e-01, -2.38567099e-01,\n",
       "         1.75219044e-01, -1.02928400e-01, -2.40122795e-01,\n",
       "         5.93599319e-01,  6.00098521e-02, -4.06669170e-01,\n",
       "        -3.32129359e-01,  2.83149600e-01,  1.62454933e-01,\n",
       "        -2.60175794e-01, -6.79913461e-02, -1.54550627e-01,\n",
       "         2.27122307e-01,  2.42440715e-01,  2.43880048e-01,\n",
       "        -4.36746888e-02,  1.22822598e-01, -8.73154728e-04,\n",
       "        -1.90903962e-01,  2.01517895e-01, -7.16266185e-02,\n",
       "        -2.21701652e-01, -2.25953832e-01, -1.12072907e-01,\n",
       "         3.67525578e-01, -3.29595283e-02, -4.77020517e-02,\n",
       "        -8.56921300e-02,  1.64460450e-01, -1.89745963e-01,\n",
       "        -3.78141850e-02,  1.38819918e-01,  1.29249990e-01,\n",
       "        -1.17594056e-01, -1.93668038e-01,  1.70324251e-01,\n",
       "        -8.69433358e-02, -1.14201292e-01, -2.22551316e-01,\n",
       "        -2.75756806e-01, -2.67673045e-01,  1.09501474e-01,\n",
       "        -5.58311753e-02, -2.11387798e-01, -1.13315120e-01,\n",
       "         9.09064710e-03, -3.32707465e-01,  3.60726386e-01,\n",
       "        -6.05321266e-02, -3.62500772e-02,  2.85505593e-01,\n",
       "        -1.11621462e-01, -5.18982291e-01, -2.90244043e-01,\n",
       "         1.52144521e-01,  3.48815043e-03,  4.24980447e-02,\n",
       "        -2.62511641e-01,  3.37994784e-01, -6.77977324e-01,\n",
       "        -1.35032400e-01,  1.08704530e-01,  2.29963027e-02,\n",
       "         3.97401527e-02, -1.68199241e-01, -4.45508659e-01,\n",
       "         9.95834023e-02, -1.06979050e-01, -4.44412977e-02,\n",
       "         3.53648365e-01, -1.23816028e-01, -1.21520922e-01,\n",
       "         2.51343638e-01,  1.70265853e-01, -1.12078175e-01,\n",
       "         1.99764088e-01,  7.28228465e-02,  1.99300796e-01,\n",
       "         2.73916900e-01,  4.66120988e-02,  1.96100846e-01,\n",
       "        -7.00492039e-02,  1.20809913e-01, -2.96614915e-01,\n",
       "        -2.86795408e-01, -4.36652862e-02, -2.86414266e-01,\n",
       "         1.78785250e-02, -8.64645913e-02,  1.80978373e-01,\n",
       "         1.12009853e-01,  8.45068768e-02,  2.29096636e-01,\n",
       "        -3.19910794e-02, -3.33878887e-03,  3.09911996e-01,\n",
       "         9.57127437e-02, -3.04662049e-01,  1.91077054e-01,\n",
       "        -3.93151432e-01, -1.04142398e-01, -3.39233756e-01,\n",
       "        -1.50532752e-01,  3.46878558e-01,  1.33758500e-01,\n",
       "        -4.01212871e-01,  1.00343078e-01, -4.98409390e-01,\n",
       "        -4.10120368e-01, -2.51704007e-01,  1.55912012e-01,\n",
       "        -4.23744582e-02, -8.30255002e-02, -5.24716139e-01,\n",
       "        -9.66108888e-02, -3.36991213e-02,  7.57768452e-02,\n",
       "        -2.29395613e-01,  2.63105005e-01, -6.04060851e-03,\n",
       "        -2.13373750e-01, -2.16942489e-01, -6.53850213e-02,\n",
       "         2.09767595e-01,  3.40670437e-01,  4.94081557e-01,\n",
       "         3.46636251e-02, -5.37216514e-02, -1.77239805e-01,\n",
       "        -9.74605456e-02,  3.11042458e-01, -1.81897660e-03,\n",
       "        -1.05209537e-01,  1.38199925e-01,  2.81631529e-01,\n",
       "        -5.46048939e-01, -4.52673376e-01, -2.27953017e-01,\n",
       "        -2.09265456e-01, -6.55836463e-02,  5.91816783e-01,\n",
       "        -2.31691808e-01, -1.28542677e-01, -1.68958321e-01,\n",
       "        -1.91565335e-01,  6.25524893e-02, -1.82560429e-01,\n",
       "         2.00580284e-01,  2.85266578e-01,  3.32950294e-01,\n",
       "         7.02109933e-01,  8.04753602e-02,  2.17374578e-01,\n",
       "         1.85326919e-01,  2.69116312e-01, -1.39314130e-01,\n",
       "        -6.32418171e-02,  5.82476437e-01, -8.91526937e-02,\n",
       "        -3.31639573e-02, -5.05830795e-02,  3.41995925e-01,\n",
       "         5.19922934e-02, -6.88176695e-03, -1.55581474e-01,\n",
       "         3.11533511e-01, -9.37278792e-02, -1.82481706e-01,\n",
       "         1.07536666e-01,  1.24614507e-01,  2.61824727e-01,\n",
       "         2.48544142e-01,  3.34936470e-01,  1.18493482e-01,\n",
       "         1.69809788e-01, -8.45752060e-02,  5.85813642e-01,\n",
       "         3.84979516e-01,  2.96224475e-01,  7.35094817e-03,\n",
       "        -4.38976288e-02,  1.37421876e-01, -3.72334570e-02,\n",
       "         1.36291370e-01,  4.85675335e-01,  2.96589166e-01,\n",
       "        -1.04794219e-01,  6.28389120e-01, -1.54738739e-01,\n",
       "         4.50237542e-01,  4.33925897e-01, -1.51525840e-01,\n",
       "        -2.70822287e-01, -4.37145457e-02,  3.28398585e-01,\n",
       "        -2.34636769e-01, -1.07996747e-01, -2.43010204e-02,\n",
       "        -6.56947494e-02,  2.11925969e-01, -5.39065413e-02,\n",
       "        -3.19148481e-01, -8.02269429e-02,  5.24709940e-01,\n",
       "        -1.91837072e-01, -2.45199680e-01, -7.08113760e-02,\n",
       "         9.11366846e-03, -3.38114411e-01,  2.18557399e-02,\n",
       "        -6.71589300e-02, -7.60240667e-03, -2.70893484e-01,\n",
       "         6.78933114e-02, -2.29759187e-01, -2.02667162e-01,\n",
       "        -1.36386484e-01, -2.47401893e-02,  2.69352555e-01,\n",
       "        -1.07066192e-01,  3.79647225e-01, -2.90743381e-01,\n",
       "        -9.32668820e-02,  1.42601589e-02,  2.86033034e-01,\n",
       "        -1.41862988e-01,  7.36664653e-01,  1.56683903e-02,\n",
       "        -1.64495096e-01,  1.48017220e-02,  1.13051739e-02,\n",
       "         7.22498968e-02,  2.77113616e-01, -9.02795792e-02,\n",
       "        -1.05193593e-02,  4.23161238e-01, -1.77763384e-02,\n",
       "        -1.16250489e-03,  1.42121390e-01,  3.15769970e-01,\n",
       "        -3.47012967e-01,  8.50106403e-02,  2.57164123e-03,\n",
       "        -9.45146754e-03,  5.20821251e-02,  3.52893844e-02,\n",
       "        -2.44960412e-01, -2.29306400e-01, -4.10760731e-01,\n",
       "        -3.67445409e-01,  1.39139816e-01, -1.28857002e-01,\n",
       "        -3.53494436e-01,  7.88582675e-03,  3.23954910e-01,\n",
       "         3.20759833e-01, -5.03708124e-02, -2.26087477e-02,\n",
       "        -1.62836239e-01,  2.11172089e-01,  2.25261357e-02,\n",
       "         1.61833599e-01, -9.72243026e-02, -3.37970555e-01,\n",
       "        -2.89601564e-01,  2.63131261e-01, -4.02400762e-01,\n",
       "         3.55156213e-01,  3.73626411e-01,  2.51960695e-01,\n",
       "        -4.63530188e-03, -1.26095742e-01,  7.54761577e-01,\n",
       "        -2.36243322e-01,  4.87416945e-02, -3.90643120e-01,\n",
       "        -2.57880539e-01, -4.21479523e-01, -2.53620565e-01,\n",
       "        -5.44614159e-02,  4.36561517e-02, -1.00731105e-01,\n",
       "        -1.81603163e-01, -5.75831175e-01, -7.09936991e-02,\n",
       "         1.37517387e-02, -7.09303468e-02,  6.83754757e-02]], dtype=float32)"
      ]
     },
     "execution_count": 72,
     "metadata": {},
     "output_type": "execute_result"
    }
   ],
   "source": [
    "%%time\n",
    "get_emb(data.text.iloc[0])"
   ]
  },
  {
   "cell_type": "code",
   "execution_count": 9,
   "metadata": {},
   "outputs": [
    {
     "data": {
      "text/html": [
       "<div>\n",
       "<style scoped>\n",
       "    .dataframe tbody tr th:only-of-type {\n",
       "        vertical-align: middle;\n",
       "    }\n",
       "\n",
       "    .dataframe tbody tr th {\n",
       "        vertical-align: top;\n",
       "    }\n",
       "\n",
       "    .dataframe thead th {\n",
       "        text-align: right;\n",
       "    }\n",
       "</style>\n",
       "<table border=\"1\" class=\"dataframe\">\n",
       "  <thead>\n",
       "    <tr style=\"text-align: right;\">\n",
       "      <th></th>\n",
       "      <th>0</th>\n",
       "      <th>1</th>\n",
       "      <th>2</th>\n",
       "      <th>3</th>\n",
       "      <th>4</th>\n",
       "      <th>5</th>\n",
       "      <th>6</th>\n",
       "      <th>7</th>\n",
       "      <th>8</th>\n",
       "      <th>9</th>\n",
       "      <th>...</th>\n",
       "      <th>758</th>\n",
       "      <th>759</th>\n",
       "      <th>760</th>\n",
       "      <th>761</th>\n",
       "      <th>762</th>\n",
       "      <th>763</th>\n",
       "      <th>764</th>\n",
       "      <th>765</th>\n",
       "      <th>766</th>\n",
       "      <th>767</th>\n",
       "    </tr>\n",
       "  </thead>\n",
       "  <tbody>\n",
       "    <tr>\n",
       "      <th>0</th>\n",
       "      <td>-0.162581</td>\n",
       "      <td>-0.085848</td>\n",
       "      <td>0.090509</td>\n",
       "      <td>-0.033752</td>\n",
       "      <td>0.205265</td>\n",
       "      <td>-0.092159</td>\n",
       "      <td>0.196569</td>\n",
       "      <td>0.056438</td>\n",
       "      <td>-0.022002</td>\n",
       "      <td>0.002166</td>\n",
       "      <td>...</td>\n",
       "      <td>0.110439</td>\n",
       "      <td>0.091388</td>\n",
       "      <td>-0.033890</td>\n",
       "      <td>-0.060766</td>\n",
       "      <td>-0.038924</td>\n",
       "      <td>-0.231480</td>\n",
       "      <td>-0.066054</td>\n",
       "      <td>-0.134102</td>\n",
       "      <td>0.009384</td>\n",
       "      <td>0.162927</td>\n",
       "    </tr>\n",
       "    <tr>\n",
       "      <th>1</th>\n",
       "      <td>-0.265050</td>\n",
       "      <td>0.095692</td>\n",
       "      <td>0.135171</td>\n",
       "      <td>-0.086902</td>\n",
       "      <td>0.249834</td>\n",
       "      <td>-0.162833</td>\n",
       "      <td>0.207181</td>\n",
       "      <td>0.063791</td>\n",
       "      <td>-0.035453</td>\n",
       "      <td>0.042912</td>\n",
       "      <td>...</td>\n",
       "      <td>0.004523</td>\n",
       "      <td>-0.086509</td>\n",
       "      <td>-0.077419</td>\n",
       "      <td>0.047831</td>\n",
       "      <td>-0.000789</td>\n",
       "      <td>-0.161356</td>\n",
       "      <td>-0.080066</td>\n",
       "      <td>-0.219771</td>\n",
       "      <td>-0.158743</td>\n",
       "      <td>0.156257</td>\n",
       "    </tr>\n",
       "    <tr>\n",
       "      <th>2</th>\n",
       "      <td>-0.166210</td>\n",
       "      <td>0.062096</td>\n",
       "      <td>0.107915</td>\n",
       "      <td>-0.107182</td>\n",
       "      <td>0.246159</td>\n",
       "      <td>-0.354403</td>\n",
       "      <td>0.203445</td>\n",
       "      <td>0.108149</td>\n",
       "      <td>-0.060827</td>\n",
       "      <td>0.160299</td>\n",
       "      <td>...</td>\n",
       "      <td>0.100083</td>\n",
       "      <td>-0.054048</td>\n",
       "      <td>-0.067550</td>\n",
       "      <td>0.100403</td>\n",
       "      <td>-0.060425</td>\n",
       "      <td>-0.228944</td>\n",
       "      <td>0.074979</td>\n",
       "      <td>-0.221526</td>\n",
       "      <td>-0.134613</td>\n",
       "      <td>0.175024</td>\n",
       "    </tr>\n",
       "    <tr>\n",
       "      <th>3</th>\n",
       "      <td>-0.080290</td>\n",
       "      <td>-0.089464</td>\n",
       "      <td>0.147005</td>\n",
       "      <td>-0.102658</td>\n",
       "      <td>0.062539</td>\n",
       "      <td>-0.139725</td>\n",
       "      <td>0.139354</td>\n",
       "      <td>0.091616</td>\n",
       "      <td>0.164334</td>\n",
       "      <td>-0.152841</td>\n",
       "      <td>...</td>\n",
       "      <td>0.244334</td>\n",
       "      <td>0.109327</td>\n",
       "      <td>-0.017169</td>\n",
       "      <td>-0.176257</td>\n",
       "      <td>0.157510</td>\n",
       "      <td>-0.316807</td>\n",
       "      <td>-0.154248</td>\n",
       "      <td>-0.075818</td>\n",
       "      <td>0.154728</td>\n",
       "      <td>0.151226</td>\n",
       "    </tr>\n",
       "    <tr>\n",
       "      <th>4</th>\n",
       "      <td>-0.129327</td>\n",
       "      <td>-0.073031</td>\n",
       "      <td>0.098141</td>\n",
       "      <td>-0.090344</td>\n",
       "      <td>0.093056</td>\n",
       "      <td>-0.121724</td>\n",
       "      <td>0.147562</td>\n",
       "      <td>0.054889</td>\n",
       "      <td>0.116375</td>\n",
       "      <td>-0.114047</td>\n",
       "      <td>...</td>\n",
       "      <td>0.185564</td>\n",
       "      <td>0.062140</td>\n",
       "      <td>-0.037500</td>\n",
       "      <td>-0.160846</td>\n",
       "      <td>0.057113</td>\n",
       "      <td>-0.277370</td>\n",
       "      <td>-0.115096</td>\n",
       "      <td>-0.105955</td>\n",
       "      <td>0.096991</td>\n",
       "      <td>0.130266</td>\n",
       "    </tr>\n",
       "    <tr>\n",
       "      <th>...</th>\n",
       "      <td>...</td>\n",
       "      <td>...</td>\n",
       "      <td>...</td>\n",
       "      <td>...</td>\n",
       "      <td>...</td>\n",
       "      <td>...</td>\n",
       "      <td>...</td>\n",
       "      <td>...</td>\n",
       "      <td>...</td>\n",
       "      <td>...</td>\n",
       "      <td>...</td>\n",
       "      <td>...</td>\n",
       "      <td>...</td>\n",
       "      <td>...</td>\n",
       "      <td>...</td>\n",
       "      <td>...</td>\n",
       "      <td>...</td>\n",
       "      <td>...</td>\n",
       "      <td>...</td>\n",
       "      <td>...</td>\n",
       "      <td>...</td>\n",
       "    </tr>\n",
       "    <tr>\n",
       "      <th>2997</th>\n",
       "      <td>-0.139089</td>\n",
       "      <td>0.053157</td>\n",
       "      <td>0.050308</td>\n",
       "      <td>-0.051250</td>\n",
       "      <td>0.168996</td>\n",
       "      <td>-0.141922</td>\n",
       "      <td>0.067989</td>\n",
       "      <td>0.083257</td>\n",
       "      <td>0.025823</td>\n",
       "      <td>0.002579</td>\n",
       "      <td>...</td>\n",
       "      <td>0.057098</td>\n",
       "      <td>0.044541</td>\n",
       "      <td>-0.226393</td>\n",
       "      <td>-0.337473</td>\n",
       "      <td>-0.125724</td>\n",
       "      <td>-0.265817</td>\n",
       "      <td>-0.054392</td>\n",
       "      <td>-0.181950</td>\n",
       "      <td>0.046370</td>\n",
       "      <td>0.086473</td>\n",
       "    </tr>\n",
       "    <tr>\n",
       "      <th>2998</th>\n",
       "      <td>-0.249892</td>\n",
       "      <td>0.013647</td>\n",
       "      <td>0.019110</td>\n",
       "      <td>-0.042661</td>\n",
       "      <td>0.135654</td>\n",
       "      <td>-0.072846</td>\n",
       "      <td>0.202105</td>\n",
       "      <td>0.088568</td>\n",
       "      <td>0.003533</td>\n",
       "      <td>0.085708</td>\n",
       "      <td>...</td>\n",
       "      <td>-0.107333</td>\n",
       "      <td>-0.032451</td>\n",
       "      <td>-0.174745</td>\n",
       "      <td>-0.074873</td>\n",
       "      <td>-0.033087</td>\n",
       "      <td>-0.225026</td>\n",
       "      <td>-0.204773</td>\n",
       "      <td>-0.278338</td>\n",
       "      <td>-0.034773</td>\n",
       "      <td>0.020825</td>\n",
       "    </tr>\n",
       "    <tr>\n",
       "      <th>2999</th>\n",
       "      <td>-0.184074</td>\n",
       "      <td>-0.093682</td>\n",
       "      <td>0.027090</td>\n",
       "      <td>-0.083272</td>\n",
       "      <td>0.284870</td>\n",
       "      <td>0.029592</td>\n",
       "      <td>0.185686</td>\n",
       "      <td>0.190774</td>\n",
       "      <td>0.024570</td>\n",
       "      <td>-0.015983</td>\n",
       "      <td>...</td>\n",
       "      <td>0.036028</td>\n",
       "      <td>0.085632</td>\n",
       "      <td>-0.068538</td>\n",
       "      <td>-0.255393</td>\n",
       "      <td>-0.059604</td>\n",
       "      <td>-0.255831</td>\n",
       "      <td>-0.174241</td>\n",
       "      <td>-0.175819</td>\n",
       "      <td>0.098475</td>\n",
       "      <td>0.064971</td>\n",
       "    </tr>\n",
       "    <tr>\n",
       "      <th>3000</th>\n",
       "      <td>-0.063675</td>\n",
       "      <td>0.029488</td>\n",
       "      <td>0.035511</td>\n",
       "      <td>-0.063895</td>\n",
       "      <td>0.450002</td>\n",
       "      <td>-0.122640</td>\n",
       "      <td>0.158073</td>\n",
       "      <td>0.174713</td>\n",
       "      <td>0.009652</td>\n",
       "      <td>-0.030548</td>\n",
       "      <td>...</td>\n",
       "      <td>-0.017369</td>\n",
       "      <td>0.037358</td>\n",
       "      <td>-0.029856</td>\n",
       "      <td>-0.017334</td>\n",
       "      <td>-0.168212</td>\n",
       "      <td>-0.231745</td>\n",
       "      <td>-0.052308</td>\n",
       "      <td>-0.154873</td>\n",
       "      <td>-0.091601</td>\n",
       "      <td>0.136982</td>\n",
       "    </tr>\n",
       "    <tr>\n",
       "      <th>3001</th>\n",
       "      <td>-0.177170</td>\n",
       "      <td>-0.029327</td>\n",
       "      <td>0.119568</td>\n",
       "      <td>-0.039308</td>\n",
       "      <td>0.158167</td>\n",
       "      <td>0.008605</td>\n",
       "      <td>0.206632</td>\n",
       "      <td>0.099556</td>\n",
       "      <td>0.087689</td>\n",
       "      <td>-0.074154</td>\n",
       "      <td>...</td>\n",
       "      <td>0.063741</td>\n",
       "      <td>-0.062041</td>\n",
       "      <td>-0.051877</td>\n",
       "      <td>-0.265463</td>\n",
       "      <td>-0.079427</td>\n",
       "      <td>-0.251122</td>\n",
       "      <td>-0.175231</td>\n",
       "      <td>-0.123115</td>\n",
       "      <td>0.048007</td>\n",
       "      <td>0.135635</td>\n",
       "    </tr>\n",
       "  </tbody>\n",
       "</table>\n",
       "<p>3002 rows × 768 columns</p>\n",
       "</div>"
      ],
      "text/plain": [
       "             0         1         2         3         4         5         6  \\\n",
       "0    -0.162581 -0.085848  0.090509 -0.033752  0.205265 -0.092159  0.196569   \n",
       "1    -0.265050  0.095692  0.135171 -0.086902  0.249834 -0.162833  0.207181   \n",
       "2    -0.166210  0.062096  0.107915 -0.107182  0.246159 -0.354403  0.203445   \n",
       "3    -0.080290 -0.089464  0.147005 -0.102658  0.062539 -0.139725  0.139354   \n",
       "4    -0.129327 -0.073031  0.098141 -0.090344  0.093056 -0.121724  0.147562   \n",
       "...        ...       ...       ...       ...       ...       ...       ...   \n",
       "2997 -0.139089  0.053157  0.050308 -0.051250  0.168996 -0.141922  0.067989   \n",
       "2998 -0.249892  0.013647  0.019110 -0.042661  0.135654 -0.072846  0.202105   \n",
       "2999 -0.184074 -0.093682  0.027090 -0.083272  0.284870  0.029592  0.185686   \n",
       "3000 -0.063675  0.029488  0.035511 -0.063895  0.450002 -0.122640  0.158073   \n",
       "3001 -0.177170 -0.029327  0.119568 -0.039308  0.158167  0.008605  0.206632   \n",
       "\n",
       "             7         8         9  ...       758       759       760  \\\n",
       "0     0.056438 -0.022002  0.002166  ...  0.110439  0.091388 -0.033890   \n",
       "1     0.063791 -0.035453  0.042912  ...  0.004523 -0.086509 -0.077419   \n",
       "2     0.108149 -0.060827  0.160299  ...  0.100083 -0.054048 -0.067550   \n",
       "3     0.091616  0.164334 -0.152841  ...  0.244334  0.109327 -0.017169   \n",
       "4     0.054889  0.116375 -0.114047  ...  0.185564  0.062140 -0.037500   \n",
       "...        ...       ...       ...  ...       ...       ...       ...   \n",
       "2997  0.083257  0.025823  0.002579  ...  0.057098  0.044541 -0.226393   \n",
       "2998  0.088568  0.003533  0.085708  ... -0.107333 -0.032451 -0.174745   \n",
       "2999  0.190774  0.024570 -0.015983  ...  0.036028  0.085632 -0.068538   \n",
       "3000  0.174713  0.009652 -0.030548  ... -0.017369  0.037358 -0.029856   \n",
       "3001  0.099556  0.087689 -0.074154  ...  0.063741 -0.062041 -0.051877   \n",
       "\n",
       "           761       762       763       764       765       766       767  \n",
       "0    -0.060766 -0.038924 -0.231480 -0.066054 -0.134102  0.009384  0.162927  \n",
       "1     0.047831 -0.000789 -0.161356 -0.080066 -0.219771 -0.158743  0.156257  \n",
       "2     0.100403 -0.060425 -0.228944  0.074979 -0.221526 -0.134613  0.175024  \n",
       "3    -0.176257  0.157510 -0.316807 -0.154248 -0.075818  0.154728  0.151226  \n",
       "4    -0.160846  0.057113 -0.277370 -0.115096 -0.105955  0.096991  0.130266  \n",
       "...        ...       ...       ...       ...       ...       ...       ...  \n",
       "2997 -0.337473 -0.125724 -0.265817 -0.054392 -0.181950  0.046370  0.086473  \n",
       "2998 -0.074873 -0.033087 -0.225026 -0.204773 -0.278338 -0.034773  0.020825  \n",
       "2999 -0.255393 -0.059604 -0.255831 -0.174241 -0.175819  0.098475  0.064971  \n",
       "3000 -0.017334 -0.168212 -0.231745 -0.052308 -0.154873 -0.091601  0.136982  \n",
       "3001 -0.265463 -0.079427 -0.251122 -0.175231 -0.123115  0.048007  0.135635  \n",
       "\n",
       "[3002 rows x 768 columns]"
      ]
     },
     "execution_count": 9,
     "metadata": {},
     "output_type": "execute_result"
    }
   ],
   "source": [
    "pd.read_csv('data_embs.csv')"
   ]
  },
  {
   "cell_type": "code",
   "execution_count": 15,
   "metadata": {},
   "outputs": [],
   "source": [
    "from sklearn.cluster import DBSCAN"
   ]
  },
  {
   "cell_type": "code",
   "execution_count": 16,
   "metadata": {},
   "outputs": [],
   "source": [
    "dbscan = DBSCAN()"
   ]
  },
  {
   "cell_type": "code",
   "execution_count": 15,
   "metadata": {},
   "outputs": [
    {
     "name": "stdout",
     "output_type": "stream",
     "text": [
      "CPU times: user 9.97 s, sys: 86.5 ms, total: 10.1 s\n",
      "Wall time: 10.1 s\n"
     ]
    }
   ],
   "source": [
    "%%time\n",
    "preds = dbscan.fit_predict(pd.read_csv('data_embs.csv').values)"
   ]
  },
  {
   "cell_type": "code",
   "execution_count": 17,
   "metadata": {},
   "outputs": [],
   "source": [
    "from sklearn.cluster import KMeans"
   ]
  },
  {
   "cell_type": "code",
   "execution_count": 27,
   "metadata": {},
   "outputs": [],
   "source": [
    "kmeans = KMeans(2)"
   ]
  },
  {
   "cell_type": "code",
   "execution_count": 4,
   "metadata": {},
   "outputs": [],
   "source": [
    "X = pd.read_csv('data_embs.csv').values"
   ]
  },
  {
   "cell_type": "code",
   "execution_count": 28,
   "metadata": {},
   "outputs": [],
   "source": [
    "preds = kmeans.fit_predict(pd.read_csv('data_embs.csv').values)"
   ]
  },
  {
   "cell_type": "code",
   "execution_count": 29,
   "metadata": {},
   "outputs": [
    {
     "name": "stdout",
     "output_type": "stream",
     "text": [
      "1472\n",
      "1530\n",
      "3002\n"
     ]
    }
   ],
   "source": [
    "for i in range(2):\n",
    "    print((preds==i).sum())\n",
    "print(len(preds))"
   ]
  },
  {
   "cell_type": "code",
   "execution_count": 30,
   "metadata": {},
   "outputs": [
    {
     "data": {
      "text/plain": [
       "Biomedicine                 1857\n",
       "Medicine & Public Health    1145\n",
       "Name: discipline, dtype: int64"
      ]
     },
     "execution_count": 30,
     "metadata": {},
     "output_type": "execute_result"
    }
   ],
   "source": [
    "data.discipline.value_counts()"
   ]
  },
  {
   "cell_type": "code",
   "execution_count": 31,
   "metadata": {},
   "outputs": [],
   "source": [
    "from sklearn.cluster import spectral_clustering"
   ]
  },
  {
   "cell_type": "code",
   "execution_count": 35,
   "metadata": {},
   "outputs": [],
   "source": [
    "from sklearn import metrics"
   ]
  },
  {
   "cell_type": "code",
   "execution_count": 5,
   "metadata": {},
   "outputs": [],
   "source": [
    "y = data.discipline.astype('category').cat.codes"
   ]
  },
  {
   "cell_type": "code",
   "execution_count": 42,
   "metadata": {},
   "outputs": [
    {
     "data": {
      "text/plain": [
       "-0.00015787016253032387"
      ]
     },
     "execution_count": 42,
     "metadata": {},
     "output_type": "execute_result"
    }
   ],
   "source": [
    "metrics.adjusted_rand_score(y, preds)"
   ]
  },
  {
   "cell_type": "code",
   "execution_count": 6,
   "metadata": {},
   "outputs": [],
   "source": [
    "from sklearn.cluster import AgglomerativeClustering"
   ]
  },
  {
   "cell_type": "code",
   "execution_count": null,
   "metadata": {},
   "outputs": [],
   "source": []
  },
  {
   "cell_type": "code",
   "execution_count": 9,
   "metadata": {},
   "outputs": [],
   "source": [
    "model = AgglomerativeClustering(affinity='cosine', linkage='complete')"
   ]
  },
  {
   "cell_type": "code",
   "execution_count": 10,
   "metadata": {},
   "outputs": [
    {
     "data": {
      "text/plain": [
       "AgglomerativeClustering(affinity='cosine', linkage='complete')"
      ]
     },
     "execution_count": 10,
     "metadata": {},
     "output_type": "execute_result"
    }
   ],
   "source": [
    "model.fit(X)"
   ]
  },
  {
   "cell_type": "code",
   "execution_count": 12,
   "metadata": {},
   "outputs": [],
   "source": [
    "preds = model.fit_predict(X)"
   ]
  },
  {
   "cell_type": "code",
   "execution_count": 14,
   "metadata": {},
   "outputs": [
    {
     "name": "stdout",
     "output_type": "stream",
     "text": [
      "2619\n",
      "383\n",
      "3002\n"
     ]
    }
   ],
   "source": [
    "for i in range(2):\n",
    "    print((preds==i).sum())\n",
    "print(len(preds))"
   ]
  },
  {
   "cell_type": "code",
   "execution_count": 17,
   "metadata": {},
   "outputs": [],
   "source": [
    "preds = DBSCAN(metric='cosine').fit_predict(X)"
   ]
  },
  {
   "cell_type": "code",
   "execution_count": 4,
   "metadata": {},
   "outputs": [],
   "source": [
    "texts = data.text.tolist()"
   ]
  },
  {
   "cell_type": "code",
   "execution_count": 8,
   "metadata": {},
   "outputs": [
    {
     "data": {
      "text/plain": [
       "7192"
      ]
     },
     "execution_count": 8,
     "metadata": {},
     "output_type": "execute_result"
    }
   ],
   "source": [
    "len(texts[0].replace('\\n', ' ').split())"
   ]
  },
  {
   "cell_type": "code",
   "execution_count": 9,
   "metadata": {},
   "outputs": [
    {
     "data": {
      "text/plain": [
       "4629.128914057295"
      ]
     },
     "execution_count": 9,
     "metadata": {},
     "output_type": "execute_result"
    }
   ],
   "source": [
    "lenghts = [len(text.replace('\\n', ' ').split()) for text in texts]\n",
    "sum(lenghts) / len(lenghts)"
   ]
  },
  {
   "cell_type": "code",
   "execution_count": 10,
   "metadata": {},
   "outputs": [
    {
     "data": {
      "text/plain": [
       "(1549, 26309)"
      ]
     },
     "execution_count": 10,
     "metadata": {},
     "output_type": "execute_result"
    }
   ],
   "source": [
    "min(lenghts), max(lenghts)"
   ]
  },
  {
   "cell_type": "code",
   "execution_count": 12,
   "metadata": {},
   "outputs": [
    {
     "data": {
      "text/plain": [
       "'Introduction\\nApproximately 7% of the world’s population suffers from neuropathic pain in their lifetime [ ]. Although there are multiple drugs for the treatment of this disorder, opioids remain the last option of prescribed management for moderate to severe neuropathic pain. However, most of neuropathic pain patients require high doses of opioids as well as repeated and prolonged administration of opioids to alleviate pain. The side effects of opioids significantly limit their use in neuropathic pain patients. Increasing evidence demonstrated that unsatisfactory pain relief under neuropathic pain conditions may result, at least in part, from nerve injury–induced changes in gene transcription and translation of receptors (e.g., opioid receptor downregulation), voltage-dependent channels (e.g., voltage-gated potassium channel subunit Kv1.2 downregulation), and enzymes in the first-order sensory neurons of the ipsilateral dorsal root ganglion (DRG) [ , ]. Therefore, targeting the molecules and/or pathways that participate in nerve injury–induced changes of DRG gene expression may open a new avenue for treatment of neuropathic pain.\\nEpigenetic modification, such as DNA methylation, is a key mechanism for gene regulation [ ]. DNA methylation represses gene transcription through several mechanisms, including serving as a docking site for transcription repressors/corepressors, such as the family of methyl-CpG-binding domain proteins [ , ]. DNA methylation is catalyzed primarily by members of the DNA methyltransferase (DNMT) family, including DNMT1, DNMT3a, and DNMT3b [ ], whereas ten-eleven translocation (TET) methylcytosine dioxygenases (TETs including TET1–3) mediate the conversion of 5-methylcytosine (5mC) to 5-hydroxymethylcytosine (5hmC), hence promoting DNA demethylation [ ].\\nOur recent studies showed that DNMT3a-triggered epigenetic silencing of Oprm1 (encoding μ-opioid receptor (MOR)) and Kcna2 (encoding Kv1.2) genes in the DRG ipsilateral to nerve injury contributes to neuropathic pain development. MOR downregulation in the DRG ipsilateral to nerve injury enhances the release of primary afferent neurotransmitters after peripheral nerve injury [ , ]. MOR knockout mice exhibited increased mechanical pain hypersensitivity under neuropathic pain conditions [ ]. This evidence suggests that nerve injury–induced MOR downregulation in the DRG ipsilateral to nerve injury may participate in mechanisms of neuropathic pain through a loss of tonic MOR-mediated inhibition at the central terminals of the primary afferents [ , , , ]. In addition, nerve injury–induced Kv1.2 downregulation in the DRG ipsilateral to nerve injury participates in neuropathic pain genesis, as evidenced by the fact that this downregulation produced DRG neuronal hyperexcitability and that rescuing this downregulation attenuated nerve injury–induced pain hypersensitivity [ , ]. Further studies revealed that peripheral nerve injury increased the expression of DNMT3a (but not DNMT3b) without altering the expression of TET1–3 in the DRG ipsilateral to nerve injury [ ]. This increase contributed to nerve injury–induced downregulation of MOR and Kv1.2 through elevation of DNA methylation in their gene promoter regions in the DRG ipsilateral to nerve injury [ , ]. Thus, blocking nerve injury–induced increase of DNA methylation in DRG Oprm1 and Kcna2 gene promoters may have an antinociceptive effect under neuropathic pain conditions.\\nTET1, one of the TET family of proteins (TET1–3), catalyzes the oxidation of 5mC to 5hmC by direct enzymatic removal of the 5-hydroxylated methyl group and replacement of the methylated cytosine base via DNA base excision repair pathway, resulting in DNA demethylation and gene expression induction [ ]. In this study, we constructed herpes simplex virus (HSV) expressing full-length rat TET1 (HSV-TET1). We first observed whether DRG TET1 overexpression, through the microinjection of HSV-TET1 into the DRG ipsilateral to nerve injury, affected the fifth lumbar (L5) spinal nerve ligation (SNL)–induced neuropathic pain in Sprague-Dawley rats, a well-established and characterized preclinical rat model that mimics trauma-induced neuropathic pain in the clinic. Then, we examined whether this microinjection improved morphine analgesia and prevented morphine analgesic tolerance under SNL-induced neuropathic pain conditions. Finally, we unveiled the mechanisms of how DRG TET1 overexpression produced these effects.\\nMaterials and Methods\\nAnimal Preparation\\nMale Sprague-Dawley rats (8–10 weeks) weighing 250 to 300 g, purchased from Charles River Laboratories, Inc., USA, were used. Rats were housed in a standard 12-h light/dark cycle at 20–25 °C and 60% humidity, with water and food pellets available ad libitum in specific-pathogen-free cages. Before the experiments, all the animals were allowed to habituate to the animal facility for at least 3 days. All procedures used were approved by the Animal Care and Use Committee at the Rutgers New Jersey Medical School (Newark, New Jersey) and consistent with the ethical guidelines of the US National Institutes of Health and the International Association for the Study of Pain. The experimenters were blind to viral treatment or drug treatment condition. All rats were finally euthanized with overdose of isoflurane for tissue collection.\\nNeuropathic Pain Model\\nSNL model of neuropathic pain in rats was carried out according to previously published methods with minor modification [ , , ]. In brief, the animals were anesthetized with isoflurane, and adequate anesthesia was ascertained by the lack of a withdrawal response to a nociceptive stimulus. After an incision on the lower back was made, the L5 spinal nerve was exposed and isolated from the adjacent nerves carefully. The L5 spinal nerve was then tightly ligated with 3–0 silk thread and transacted distal to the ligature. In sham-operated groups, the L5 spinal nerve was isolated, but was neither ligated nor transacted. The surgical field was irrigated with sterile saline, and the skin incision was closed with wound clips. Only rats without any abnormality (e.g., normal activity and body weight, normal gait, and no wound infection) were included in this study.\\nDRG Microinjection\\nDRG microinjection was carried out as described in detail in our previous publications [ , , , ]. Briefly, the rats were anesthetized with isoflurane, and adequate anesthesia was ascertained as described above. A midline incision was made in the lower lumbar back region. After the unilateral L5 DRG was exposed, the virus (1–1.5 μl; 3–5 × 10 8 units/ml) or phosphate buffer saline (PBS; 1–1.5 μl) was injected into the DRG through a glass micropipette (tip diameter, 20 to 40 μm) that was connected to a Hamilton syringe. The pipette was kept in place for 10 min after injection. The surgical field was irrigated with sterile saline, and the skin incision was closed with wound clips.\\nBehavioral Tests\\nThermal test was carried out as previously described [ , ]. Briefly, paw withdrawal latencies to noxious heat were measured with Model 336 Analgesia Meter (IITC Inc./Life Science Instruments, USA). A beam of light that provided radiant heat was aimed at the middle of the plantar surface of each hind paw. When the animal lifted its foot, the light beam turned off. Paw withdrawal latency was defined as the number of seconds between the start of the light beam and the foot response. The cut-off time was 20 s to avoid tissue damage. Each trial was repeated 5 times at 5-min intervals for each side.\\nMechanical test was performed as described [ , ]. Briefly, paw withdrawal thresholds in response to mechanical stimuli were measured with the up–down testing paradigm. The rats were placed in an individual Plexiglas chamber on an elevated mesh screen. Von Frey filaments in log increments of force (0.69, 1.20, 2.04, 3.63, 5.50, 8.51, 15.14, and 26 g) were applied to the plantar surface of the rats’ left and right hind paws. The 3.63-g stimulus was applied first. If a positive response occurred, the next smaller von Frey hair was used; if a negative response was observed, the next larger von Frey hair was used. The test was terminated when i) a negative response was obtained with the 26-g hair or ii) 3 stimuli were applied after the first positive response. Paw withdrawal latency was determined by converting the pattern of positive and negative responses to the von Frey filament stimulation to a 50% threshold value based on a formula provided by Dixon [ ].\\nThe locomotor function test was carried out according to the methods described previously [ ]. The following tests were performed before tissue collection or rat euthanization: 1) placing reflex—the rat was held with the hind limbs slightly lower than the forelimbs, and the dorsal surfaces of the hind paws were brought into contact with the edge of a table. The experimenter recorded whether the hind paws were placed on the table surface reflexively; 2) grasping reflex—the rat was placed on a wire grid, and the experimenter recorded whether the hind paws grasped the wire on contact; 3) righting reflex—the rat was placed on its back on a flat surface, and the experimenter noted whether it immediately assumed the normal upright position. Scores for placing, grasping, and righting reflexes were based on counts of each normal reflex exhibited in 5 trials.\\nDRG Neuronal Culture and Transfection\\nBriefly, 3–4-week-old rats were euthanized with isoflurane. The DRG was collected in cold Neurobasal Medium (Gibco/ThermoFisher Scientific) that contained 10% fetal bovine serum (JR Scientific, Woodland, CA), 100 units/ml penicillin, and 100 mg/ml streptomycin (Quality Biological, Gaithersburg, MD). The DRG was then treated with enzyme solution (5 mg/ml dispase, 1 mg/ml collagenase type I in Hanks’ balanced salt solution (HBSS) without Ca 2+ and Mg 2+ (Gibco/ThermoFisher Scientific). After trituration and centrifugation, dissociated cells were resuspended in mixed Neurobasal Medium and plated in a 6-well plate coated with 50 mg/ml poly- d -lysine (Sigma, St. Louis, MO). The cells were incubated at 37 °C in a humidified incubator with 5% CO 2 . One day later, 0.5 μl of each virus (titer 5 × 10 12 /ml) was added to each 2-ml well. Neurons were collected 2 to 3 days later.\\nWestern Blotting Analysis\\nUnilateral L5 DRGs of 2 rats were pooled together to obtain enough proteins. The tissues were homogenized in chilled lysis buffer (10 mM Tris, 1 mM phenylmethylsulfonyl fluoride, 5 mM MgCl 2 , 5 mM EGTA, 1 mM EDTA, 1 mM DTT, 40 μM leupeptin, and 250 mM sucrose). After centrifugation at 4 °C for 15 min at 1000 g , the supernatant was collected for cytosolic proteins, and the pellet was collected for nuclear proteins. The protein concentration in the samples was measured using the Bio-Rad protein assay (Bio-Rad). Then, the samples (20 μg/sample) were heated at 99 °C for 5 min and loaded onto a 4 to 15% stacking/7.5% separating sodium dodecyl sulfate polyacrylamide gel (Bio-Rad Laboratories). The proteins were electrophoretically transferred onto a polyvinylidene difluoride membrane (Bio-Rad Laboratories). According to molecular weight sizes of target proteins and housekeepers, the membrane was cut into different pieces. After being blocked with 3% nonfat milk in Tris-buffered saline containing 0.1% Tween 20 for 1 h, each piece of the membrane was incubated with the following primary antibodies, respectively, overnight at 4 °C. The primary antibodies used include rabbit anti-TET1 (1:1000, Abcam), mouse anti-Kv1.2 (1:1000, NeuroMab), rabbit anti-histone H3 (1:1000; Cell Signaling), rabbit anti-phosphorylated extracellular signal–regulated kinase (p-ERK1/2, 1:1000; Cell Signaling), goat anti-Nav1.9 (1:200; Santa Cruz), rabbit anti-S6K (1:1000, Cell Signaling), rabbit anti-TET2 (1:3000, EMD Millipore), rabbit anti-ERK1/2 (1:1000; Cell Signaling), mouse anti-α-tubulin (1:1000, Santa Cruz), rabbit anti-glial fibrillary acidic protein (GFAP, 1:1000; Cell Signaling), rabbit anti-MOR (1:500, Immunostar, USA), and rabbit anti-GAPDH (1:1000; Santa Cruz). The selectivity of the anti-MOR or anti-Kv1.2 was characterized in our previous work [ ] or by the vendor. The proteins were detected by horseradish peroxidase–conjugated anti-mouse, anti-rabbit, or anti-goat secondary antibody (1:3000, Jackson ImmunoResearch), visualized by western peroxide reagent and luminol/enhancer reagent (Clarity Western ECL Substrate, Bio-Rad), and exposed by the ChemiDoc XRS System with Image Lab software (Bio-Rad). The intensity of the blots was quantified with densitometry using Image Lab software (Bio-Rad). Based on our previous studies [ , , , ], the AAV-GFP-microinjected sham group showed no changes of targeting protein expression in the DRG. Therefore, the expression level in the DRG from this group is considered basal expression and set as 100%. The relative density values from the remaining treated groups were determined by dividing the optical density values from these groups by the value of the AAV-GFP-microinjected sham group after each was normalized to the corresponding housekeeper protein density (normalized to either α-tubulin or GAPDH for cytosol proteins or to total histone H3 for nucleus proteins).\\nImmunohistochemistry\\nMice were anesthetized with isoflurane and perfused with 4% paraformaldehyde before being analyzed by single- or double-labeled immunohistochemistry. L4/5 DRGs, L5 spinal cord, L5 spinal nerve, L5 dorsal root, and brain were removed, post-fixed, and dehydrated before frozen sectioning at 20 μm. After the sections were blocked for 1 h at room temperature in 0.01 M PBS containing 10% goat serum and 0.3% Triton X-100, they were incubated with chicken anti-green fluorescent protein (GFP, 1:1000, Abcam, Cambridge, MA) alone or with a mixture of chicken anti-GFP plus mouse anti-neurofilament-200 (NF200, 1:500, Sigma), biotinylated isolectin B4 (IB4, 1:100, Sigma), mouse anti-calcitonin gene-related peptide (CGRP, 1:50, Abcam), rabbit anti-MOR (1:500, Neuromics), or mouse anti-glutamine synthetase (GS, 1:500, EMD Millipore) overnight at 4 °C. The sections were then incubated with goat anti-chicken antibody conjugated to Cy2 (1:200, Jackson ImmunoResearch, West Grove, PA) alone or with a mixture of goat anti-chicken antibody conjugated to Cy2 or Cy3 (1:200, Jackson ImmunoResearch) plus donkey anti-mouse antibody conjugated to Cy3 (1:200, Jackson ImmunoResearch) or avidin labeled with Cy2 (1:200, Life Technologies) for 2 h at room temperature. Control experiments included substitution of normal mouse or chicken serum for the primary antiserum and omission of the primary antiserum. All immunofluorescence-labeled images were examined using a Leica DMI4000 fluorescence microscope and captured with a DFC365FX camera (Leica, Germany).\\nChromatin Immunoprecipitation Assay\\nGenomic DNA was extracted from DRG using DNeasy Blood and Tissue Kit (Qiagen) according to the manufacturer’s instructions, and then sonicated to 100–500-bp fragments. Immunoprecipitation for 5hmC was performed using Thermo Scientific EpiJET 5hmC Enrichment Kit (Thermo Scientific) [ ]. Briefly, 5hmC in 500 ng fragmented genomic DNA was modified by the linker via modification enzyme. After purification, 40 μl DNA with 5hmC linker was chemically modified by biotin moiety using 50 μl biotin reagent at 50 °C for 5 min, and then mixed with 20 μl streptavidin-coated magnetic beads and 40 μl streptavidin binding buffer. Finally, DNA with 5hmC was separated from beads after washing and incubated at 70 °C for 5 min. Immunoprecipitation for 5mC was carried out using the Methylated-DNA Immunoprecipitation Kit (D5101, Zymo Research) [ ]. Briefly, 160 ng fragmented DNA in 50 μl DNA denaturing buffer was denatured at 98 °C for 5 min. The 250 μl MIP buffer containing 15 μl of ZymoMag Protein A and 1.6 μl mouse anti-5-methylcytosine was added at 37 °C for 1 h on a rotator. After the beads were suspended with 500 μl MIP buffer, DNA was precipitated and resuspended in 200 μl of water for real-time polymerase chain reaction (PCR) analysis as described below. The no enzyme group in the reaction was used as a negative control. The equal genomic DNA was used as input control.\\nRNA Extraction and Quantitative Real-Time PCR\\nBriefly, the bilateral L 5 DRGs of rats were collected in RNAlater (Ambion, Austin, TX) and subjected to total RNA extraction using the miRNeasy kit (QIAGEN, Valencia, CA) according to the manufacturer’s instructions. RNA then was reverse-transcribed using the SuperScript IV First-Strand Synthesis System (Invitrogen) and oligo (dT) primers. The cDNA (1 μl), the immunoprecipitated DNAs (4 μl) from the treated groups above, or the DNA (4 μl) from the inputs (used as the reference controls) of the corresponding treated groups was amplified by real-time PCR using the primers listed in Table 1 . Each sample was run in triplicate in a 20-μl reaction volume containing 250 nM forward and reverse primers, 10 μl of SsoAdvanced Universal SYBR Green Supermix (Bio-Rad Laboratories, Hercules, CA), and 20 ng of cDNA. The PCR amplification consisted of an initial 1-min incubation at 95 °C, followed by 45 cycles at 95 °C for 10 s, 60 °C for 20 s, and 72 °C for 30 s. Ratios of the remaining treated groups to the PBS plus sham group or ratios of ipsilateral-side mRNA levels to contralateral-side mRNA levels were calculated using the ΔCt method (2 −ΔΔCt ). Table 1 All primers used Names Sequences (5′-3′) Real-time PCR Oprm1-F (− 449/− 289) 5′-TTCTTGTTTCAGATACGCGGA-3′ Oprm1-R (− 449/− 289) 5′-GGTCGGTGTTTTCATCAGTTAGG-3′ Oprm1-F (+ 239/+ 439) 5′-GCGACTGCTCAGACCCCTTA-3′ Oprm1-R (+ 239/+ 439) 5′-CGATAGAGTAGAGGGCCATGATG-3′ Kcna2-F (− 136/+ 138) 5′-GGGGCAAAGACAACAGTGAAT-3′ Kcna2-R (− 136/+ 138) 5′-CCAACATAATGAAGT AGGCAGG-3′ Proenkephalin-F 5′-ATGCAGATGAGGGAGACACC-3′ Proenkephalin-R 5′-GTTGGTGCTTTCCTGTTGGT-3′ Proopiomelanocortin-F 5′-GCTTCATGACCTCCGAGAAG-3′ Proopiomelanocortin-F 5′-GAGTGAGAAGACCCCTGCAC-3′ Plasmid construct Tet1-F (1st fragment) 5′-CCACACCTCATGTGACCAAG-3′ Tet1-R (1st fragment) 5′-CTGTCTTGGATGGGGAGGAG-3′ Tet1-F (2nd fragment) 5′- CACC TGTAAGAAACGGCATGAA-3′ Tet1-R (2nd fragment) 5′-TGATGGCAATGATTGGAAGA-3′ Tet1-n-F (1st fragment) 5′- CACC ACCATGTCTCGGTCCCGCC-3′ Tet1-n-R (1st fragment) 5′-CTGTCTTGGATGGGGAGGAG-3′ Tet1-n-F (2nd fragment) 5′- CACC TGTAAGAAACGGCATGAA-3′ Tet1-n-R (2nd fragment) 5′-TTAGACCCAACGGTTGTAGG-3′ Single-cell RT-PCR Gfp-F 5′-ACGTAAACGGCCACAAGTTC-3′ Gfp-R 5′-AAGTCGTGCTGCTTCATGTG-3′ Gapdh-F 5′-TCGGTGTGAACGGATTTGGC-3′ Gapdh-R 5′-CCTTCAGGTGAGCCCCAGC-3′ Oprm1-F 5′-TTCCTGGTCATGTATGTGATTGTA-3′ Oprm1-R 5′-GGCAGTGTACTGGTCGCTAA-3′ F = forward; R = reverse; n = nested\\nSingle-cell real-time RT-PCR was performed as described previously [ ]. Briefly, the freshly cultured DRG neurons were prepared as described before [ ]. Four hours after plating, under an inverted microscope fit with a micromanipulator and microinjector, a single living large (> 35 μm), medium (25–35 μm), and small (< 25 μm) DRG neuron was harvested in a PCR tube with 10 μl of cell lysis buffer (Signosis, Sunnyvale, CA). After centrifugation, the supernatants were collected and divided into 3 PCR tubes for Gif , Oprm1 , and Gapdh mRNAs. The remaining real-time RT-PCR procedure was performed based on the manufacturer’s instructions with the single-cell real-time RT-PCR assay kit (Signosis). All primers used are listed in Table 1 , and 40 PCR cycles were run.\\nPlasmid Constructs and Virus Production\\nTwo segments of rat Tet1 coding sequences were amplified separately from total RNA of rat DRG using the SuperScript III One-Step RT-PCR System with the Platinum Taq High Fidelity Kit (Invitrogen) and the primers (Table 1 ). After nested PCR of each product using Platinum Pfx DNA Polymerase (Invitrogen) and the primers (Table 1 ) respectively, the PCR products were inserted into the pENTR/D-TOPO vector (Invitrogen) and validated by sequencing. Two plasmids harboring each end of the coding sequences of rat Tet1 were combined into 1 plasmid using Kpn I and Asc I restriction sites to get the full-length TET1 plasmid. The resulting vector was submitted to Viral Gene Transfer Core at MIT for the LR recombination reaction and HSV p1005 package. The HSV-GFP used as a control was provided by Dr. Eric J Nestler (Icahn School of Medicine at Mount Sinai, New York). AAV5-DNMT3a (that expresses rat full-length DNMT3a) and AAV5-GFP were packaged as described before [ ].\\nStatistical Analysis\\nAll results are presented as means ± SEM. The data from the behavioral tests, RT-PCR, and Western blot were statistically analyzed with 1-way or 2-way analysis of variance (ANOVA). When ANOVA showed a significant difference, pairwise comparisons between means were tested by the post hoc Tukey method. The data were analyzed by SigmaPlot 12.5 (USA). All probability values were 2 tailed and significance was set at P < 0.05.\\nResults\\nThe Microinjected HSV Is Limited to the Ipsilateral DRG Neurons and Their Fibers\\nBefore the effect of DRG viral microinjection on behavioral responses was examined, we first observed the distribution of HSV in the DRG and spinal cord after microinjection of HSV-GFP into unilateral L5 DRG. GFP-labeled HSV was detected in the ipsilateral L5 DRG neurons (Fig. 1 A), ipsilateral L5 spinal nerve (Fig. 1 B), and ipsilateral L5 dorsal root (data not shown). GFP-labeled HSV was not distributed in the ipsilateral L5 DRG GS (a marker for satellite cells)–labeled cells (Data not shown). GFP expression occurred on days 4–5 post-microinjection and persisted at least for 10 days post-microinjection. No GFP expression was detected in the contralateral L5 DRG (Fig. 1 C), ipsilateral L4 DRG (data not shown), ipsilateral L5 spinal cord dorsal horn (Fig. 1 D), or brain regions (data not shown). Approximately 47% (78/166) of DRG neurons were positive for GFP. Among these GFP-positive neurons, about 43.5% (40/92) were labeled by CGRP (a marker for small DRG peptidergic neurons), 31.7% (33/104) by IB4 (a marker for small DRG non-peptidergic neurons), and 26.8% (33/123) by NF200 (a marker for large/medium cells and myelinated A fibers) (Fig. 1 E). In addition, we found that about 38.3% (49/128) of GFP-positive neurons are labeled for MOR (Fig. 1 E). We also carried out a single-cell real-time RT-PCR assay to further verify the subpopulation distribution of the GFP-positive neurons in the DRG. Gapdh mRNA was used as a positive control of viral transduction. Gfp mRNA was detected in approximately 64.2% (43/67) of Gapdh mRNA-expressed DRG neurons randomly collected (Fig. 1 F–H). In these DRG neurons, Gfp mRNA was expressed in 86.3% (19/22) of small DRG transduced neurons, 54.6% (12/22) of medium DRG transduced neurons, and 53.2% (12/23) of large DRG transduced neurons (Fig. 1 F–H). Moreover, Oprm1 mRNA was detected in 30.2% (13/43) of Gfp mRNA-expressed DRG transduced neurons, in which 52.6% (10/19) of small DRG transduced neurons and 25% (3/12) of medium DRG transduced neurons expressed Oprm1 mRNA (Fig. 1 F and G). None of the large DRG transduced neurons expressed Oprm1 mRNA (Fig. 1 H). Fig. 1 GFP-labeled HSV is limited in the ipsilateral L5 DRG neurons and their fibers on day 7 after microinjection of HSV-GFP into the unilateral L5 DRG. (A–D) GFP expression in the L5 DRG (A) and L5 spinal nerve (B) on the ipsilateral side. No GFP expression in the contralateral L5 DRG (C) and ipsilateral L5 spinal cord dorsal horn (D). Scale bars, 50 μm. (E) GFP-labeled neurons are positive for CGRP (43.5%), IB4 (31.7%), NF200 (26.8%), and MOR (38.3%) (arrows). n = 3 biological repeats (3 rats). Scale bars, 50 μm. (F–H) Co-expression of Oprm1 mRNA with Gfp mRNA in small (F) and medium (G) DRG neurons, but not in large DRG neurons (H). A representative gel of a single-cell real-time RT-PCR assay (left) and a Venn diagram of Oprm1 mRNA-, Gfp mRNA-, or Gapdh mRNA-expressed neurons in the L5 DRG (right) are shown in (F), (G), and (H)\\nConsistent with previous studies in mice [ , ], the microinjected rats revealed no signs of paresis or other abnormalities. The injected DRG, stained with hematoxylin/eosin, retained their structural integrity and contained no visible leukocytes (data not shown) indicating that the immune responses from viral injection were minimal.\\nEffects of DRG Microinjection of HSV-TET1 on the Development of SNL-Induced Nociceptive Hypersensitivity\\nSNL produced mechanical allodynia and thermal hyperalgesia on the ipsilateral (but not contralateral) side of the PBS- or HSV-GFP-microinjected groups from days 3 to 5 after SNL (Fig. 2 A–D). These pain hypersensitivities were significantly blocked or abolished on the ipsilateral side after microinjection of HSV-TET1 into the injured L5 DRG (Fig. 2 A and B). Paw withdrawal latency to thermal stimulation was not altered compared to baseline, but paw withdrawal threshold to mechanical stimulation was higher compared to the PBS- or HSV-GFP-microinjected groups during the observation period (Fig. 2 A and B). Basal paw withdrawal responses to mechanical and thermal stimuli on the contralateral side of SNL rats, and on both ipsilateral and contralateral sides of sham, rats were not affected after microinjection of either PBS or virus into the injured L5 DRG (Fig. 2 A–D). As expected, microinjection of either PBS or virus into intact (ipsilateral) L4 DRG did not alter basal paw withdrawal responses or SNL-induced pain hypersensitivities (data not shown). Fig. 2 Effect of pre-microinjection of HSV-TET1 into the ipsilateral L5 DRG on the SNL-induced pain hypersensitivity during the development period. HSV or PBS was microinjected 3 days before SNL or sham surgery. Paw withdrawal latency to heat stimulation (A, C) and paw withdrawal threshold to mechanical stimulation (B, D) on the ipsilateral (A, B) and contralateral (C, D) sides. n = 5 rats per group. ** p < 0.01 versus the PBS plus HSV-TET1 group at the corresponding time point\\nThen, methylnaltrexone (MNTX), a peripheral MOR antagonist, was injected intraperitoneally on day 5 after SNL or sham surgery in DRG microinjected rats (Fig. 3 A–D). As expected, before the MNTX injection, HSV-TET1-microinjected rats displayed the attenuations of SNL-induced decreases in paw withdrawal latency to thermal stimulation (Fig. 3 A) and in paw withdrawal threshold to mechanical stimulation on the ipsilateral side (Fig. 3 C). However, these attenuations were absent after intraperitoneal MNTX administration (Fig. 3 A and C). MNTX at the dose used did not affect basal thermal or mechanical responses on the contralateral side (Fig. 3 B and D). Fig. 3 Effect of intraperitoneal injection with MNTX on the HSV-TET1-produced antinociceptive effect on day 5 post-SNL on the ipsilateral side. Paw withdrawal latency to heat stimulation (A, B) and paw withdrawal threshold to mechanical stimulation (C, D) on the ipsilateral (A, C) and contralateral (B, D) sides. n = 5 rats per group. * p < 0.05 or ** p < 0.01 versus the HSV-GFP plus sham group at the corresponding time point. # p < 0.05 or ## p < 0.01 versus the HSV-GFP plus SNL group at the corresponding time point\\nWe also determined that overexpressing TET1 in ipsilateral L5 DRG affected nerve injury–induced dorsal horn central sensitization, as evidenced by the increases in p-ERK1/2, a marker for neuronal hyperactivity, and GFAP, a marker for astrocyte hyperactivity, in the dorsal horn after SNL. The amounts of p-ERK1/2 (not total ERK1/2) and GFAP were significantly increased on day 5 post-SNL compared to those after sham surgery in the ipsilateral L5 dorsal horn of the HSV-GFP-microinjected rats (Fig. 4 A and B). These increases were not seen in the HSV-TET1-microinjected SNL rats (Fig. 4 A and B). Consistent with our previous study [ ], SNL did not markedly alter basal expression of TET1 in the ipsilateral L5 DRG of the PBS- or HSV-GFP-microinjected rats (Fig. 4 C). As expected, DRG microinjection of HSV-TET1 increased the levels of TET1 in the ipsilateral L5 DRG by 3-fold and 3.2-fold, respectively, on day 5 post-SNL and sham surgery compared to the HSV-GFP-microinjected sham rats (Fig. 4 C). Fig. 4 Effect of microinjection of HSV-TET1 into ipsilateral L5 DRG on the SNL-induced dorsal horn central sensitization. Data are shown as the mean and SD. One-way ANOVA followed by post hoc Tukey test. (A, B) Pre-microinjection of HSV-TET1, but not HSV-GFP, into the ipsilateral L5 DRG significantly blocked SNL-induced increases in the levels of phosphorylated extracellular signal–regulated kinases 1/2 (p-ERK1/2) and glial fibrillary acidic protein (GFAP) in the ipsilateral L5 dorsal horn post-SNL. Representative Western blots (A) and a summary of densitometric analysis (B) are shown. n = 3 biological repeats (6 rats) per group. ** p < 0.01 versus the corresponding HSV-GFP (GFP) plus sham group. ## p < 0.01 versus the corresponding HSV-GFP plus SNL group. (C) The level of TET1 in ipsilateral L5 DRG was markedly increased from the HSV-TET1 plus SNL or sham group, not from the SNL plus PBS or HSV-GFP group, on day 5 post-SNL. Representative Western blots (top) and a summary of densitometric analysis (bottom) are shown. n = 4 biological repeats (8 rats) per group. ** p < 0.01 versus the HSV-GFP plus sham group\\nEffects of DRG Microinjection of HSV-TET1 on the Maintenance of SNL-Induced Nociceptive Hypersensitivity\\nPost-microinjection of HSV-TET1, but not HSV-GFP, significantly reduced SNL-induced pain hypersensitivities on the ipsilateral side during the maintenance period (Fig. 5 A and B). On days 10 and 12 post-SNL, paw withdrawal latency in response to thermal stimuli increased by 1.2-fold and 1.2-fold, respectively (Fig. 5 A), and paw withdrawal threshold in response to mechanical stimuli increased by 1.8-fold and 2.4-fold, respectively (Fig. 5 B), in the HSV-TET1-microinjected group compared with the corresponding GFP-microinjected group. As expected, post-microinjection of HSV-GFP or HSV-TET1 did not alter basal paw withdrawal responses to mechanical or thermal stimuli applied to the contralateral hind paw during the maintenance period (Fig. 5 C and D). Fig. 5 Effects of post-microinjection of HSV-TET1 into ipsilateral L5 DRG on SNL-induced pain hypersensitivity during the maintenance period. HSV was microinjected on day 6 after SNL or sham surgery. Paw withdrawal latency to heat stimulation (A, C) and paw withdrawal threshold to mechanical stimulation (B, D) on the ipsilateral (A, B) and contralateral (C, D) sides. Data are shown as the mean and SD. n = 5 rats per group. * p < 0.05 or ** p < 0.01 versus the HSV-GFP (GFP) plus SNL group at the corresponding time points\\nDRG Microinjection of HSV-TET1 Improves Morphine Analgesia and Prevents Its Tolerance Under Neuropathic Pain Conditions\\nAdditionally, we tested if morphine analgesia could be improved after DRG TET1 overexpression in SNL rats. Morphine (3 mg/kg) was subcutaneously injected on day 3 after SNL or sham surgery in DRG microinjected rats. The maximal possible analgesic effect (MPAE) of morphine on day 3 post-SNL was dramatically reduced by 58% of the value on day 3 post-sham surgery on the ipsilateral side of the HSV-GFP-microinjected rats (Fig. 6 A). This reduction was significantly prevented on the ipsilateral side of HSV-TET1-microinjected SNL rats, as evidenced by an increase by 1.84-fold compared to the corresponding HSV-GFP-microinjected SNL rats (Fig. 6 A). As expected, morphine led to robust analgesia on the contralateral side of all microinjected groups (Fig. 6 A). Fig. 6 Microinjection of HSV-TET1 into ipsilateral L5 DRG rescued morphine analgesia and attenuated morphine analgesic tolerance in SNL rats. (A). Morphine maximal possible analgesic effects (MPAEs) on the ipsilateral and contralateral sides on day 3 post-SNL or sham surgery. n = 5 rats per group. ** p < 0.01 versus the HSV-GFP plus sham group. ## p < 0.01 versus the HSV-GFP plus SNL group. (B, C) Morphine analgesic tolerance on the ipsilateral (B) and contralateral (C) sides post-SNL or sham surgery. n = 5 rats per group. * p < 0.05 versus the HSV-TET1 plus SNL group at the corresponding time point. (D) Dose–response curve of morphine on the ipsilateral side on day 11 post-SNL or post-sham surgery. EC 50 values—4.99 for the HSV-TET1 plus SNL group, 4.84 for the HSV-GFP plus sham group, and 6.41 for the HSV-GFP plus SNL group. n = 5 rats/group\\nWe also observed if overexpressing TET1 in the DRG mitigated the development of morphine analgesic tolerance under neuropathic pain conditions. Morphine (10 mg/kg twice daily) was subcutaneously injected for 5 days starting on day 7 post-SNL or sham surgery in microinjection rats (Fig. 6 B and C). Repeated injection of morphine led to morphine analgesic tolerance, as indicated by time-dependent decreases in morphine MPAEs on both ipsilateral and contralateral sides of all treated groups (Fig. 6 B and C). As expected, the values of morphine MPAEs in the HSV-GFP-microinjected SNL rats were markedly lower than those in the HSV-GFP-microinjected sham rats on the ipsilateral side on days 7, 9, and 11 post-SNL or sham surgery (Fig. 6 B). However, these SNL-evoked enhancing reductions in morphine MPAEs were not seen in the HSV-TET1-microinjected SNL rats (Fig. 6 B). This effect of DRG TET1 overexpression was also confirmed by a significant leftward shift in the cumulative dose–response curve of morphine in the HSV-TET1-microinjected SNL rats as compared to the HSV-GFP-microinjected SNL rats on the last day after repeated morphine administration (Fig. 6 D). The EC 50 values of morphine were 6.41 mg/kg in the HSV-GFP-microinjected SNL rats, 4.99 mg/kg in the HSV-TET1-microinjected SNL rats, and 4.84 mg/kg in the HSV-GFP-microinjected sham rats (Fig. 6 D).\\nEffects of DRG Microinjection of HSV-TET1 on Locomotor Activities\\nTo exclude the possibility that the observed effects described above were affected by impairing locomotor activities, we observed locomotor functions including placing, grasping, and righting reflexes in the microinjected rats. None of the microinjected rats produced any effects on placing, grasping, or righting reflexes (Table 2 ). Hypermobility and convulsions were not seen in any of the microinjected rats. No marked differences in general behaviors, including gait and spontaneous activity, were observed among the microinjected groups. Table 2 Locomotor tests after microinjection Treated groups Placing Grasping Righting GFP + Sham 5 (0) 5 (0) 5 (0) PBS + SNL 5 (0) 5 (0) 5 (0) GFP + SNL 5 (0) 5 (0) 5 (0) TET1 + SNL 5 (0) 5 (0) 5 (0) TET1 + Sham 5 (0) 5 (0) 5 (0) N = 5/group; 5 trials; mean (SD)\\nDRG Microinjection of HSV-TET1 Rescues MOR and Kv1.2 Expression in Ipsilateral L5 DRG After SNL\\nFinally, we examined if the antinociceptive effect of DRG TET1 overexpression was mediated by rescuing DNMT3a-triggered MOR and Kv1.2 downregulation in the ipsilateral L5 DRG after peripheral nerve injury. We first carried out in vitro DRG neuronal culture to examine direct effect of TET1 overexpression on DNMT3a-triggered MOR and Kv1.2 downregulation in the DRG neurons. Overexpression of DNMT3a through transduction of AAV5-DNMT3a decreased the levels of MOR and Kv1.2 proteins (Fig. 7 A). This decrease could be restored by co-transduction of HSV-TET1 and AAV5-DNMT3a (Fig. 7 A). Co-transduction of HSV-TET1 and AAV5-GFP did not alter basal expression of MOR and Kv1.2 (Fig. 7 A). In our in vivo study, microinjection of HSV-TET1, but not PBS and HSV-GFP, significantly reversed the reduction of MOR and Kv1.2 protein in the ipsilateral L5 DRG on day 5 post-SNL (Fig. 7 B). As expected, no basal changes in MOR and Kv1.2 expression were observed in the contralateral L5 DRG among the treated groups (data not shown). Interestingly, microinjection of HSV-TET1 did not rescue the SNL-induced downregulation of Nav1.9 protein in the ipsilateral L5 DRG (Fig. 7 C). This microinjection also did not affect basal expression of cytosolic protein S6K, nuclear protein TET2 (Fig. 7 C), or the basal expression of proenkephalin mRNA and proopiomelanocortin mRNA in ipsilateral L5 DRG of SNL rats (Fig. 7 D). Fig. 7 Microinjection of HSV-TET1 into ipsilateral L5 DRG rescued the expression of MOR and Kv1.2 from the ipsilateral L5 DRG after SNL. (A) The expression of MOR and Kv1.2 in cultured DRG neurons from adult rats. Representative Western blots (left) and a summary of densitometric analysis (right) are shown. n = 3 biological replicates (6 rats) per group. * p < 0.05 or ** p < 0.01 versus the corresponding AAV5-GFP plus HSV-GFP group. # p < 0.05 versus the corresponding AAV5-DNMT3a plus HSV-GFP group. (B, C) The expression of MOR (B), Kv1.2 (B), Nav1.9 (C), S6K (C), and TET2 (C) in ipsilateral L5 DRG 5 days after SNL or sham surgery. Representative Western blots (top) and a summary of densitometric analysis (bottom) are shown. n = 3–5 biological replicates (6–10 rats) per group. * p < 0.05 or ** p < 0.01 versus the corresponding HSV-GFP plus sham group. ## p < 0.01 versus the corresponding PBS plus SNL group. (D) The expression of endogenous opioid ligand precursors, proenkephalin mRNA and proopiomelanocortin mRNA, in ipsilateral L5 DRG 5 days after SNL or sham surgery. Ipsi = ipsilateral; Cont = contralateral. n = 3 biological replicates (6 rats) per group\\nFurthermore, SNL produced a substantial increase in the amounts of 5mC and a corresponding decrease in the level of 5hmC in 2 regions (− 450 to − 288 and + 238 to + 439) of the Oprm1 gene and 1 region (− 663 to − 389) of the Kcna2 gene in the ipsilateral L5 DRG of the HSV-GFP-microinjected rats on day 5 post-SNL (Fig. 8 A–C). However, in the ipsilateral L5 DRG of HSV-TET1-microinjeced SNL rats, an increase in 5mC was not found, and the level of 5hmC was conversely increased in these regions (Fig. 8 A–C). As expected, microinjection of HSV-TET1 into sham DRG did not affect either basal expression of MOR and Kv1.2 or basal amounts of 5mC and 5hmC in 2 regions (− 450 to − 288 and + 238 to + 439) of the Oprm1 gene (Fig. 8 A and B) and 1 region (− 663 to − 389) of the Kcna2 gene in the injected DRG (Fig. 8 C). Fig. 8 Microinjection of HSV-TET1 into ipsilateral L5 DRG blocked SNL-induced increase in 5mC and decrease in 5hmC in the Oprm1 and Kcna2 genes from the ipsilateral L5 DRG 5 days after SNL. One-way ANOVA followed by post hoc Tukey test. (A, B) The levels of 5mC (A) and 5hmC (B) in the 2 regions (− 450/− 288, + 238/+ 439) of the Oprm1 gene. n = 3 biological replicates (6 rats) per group. ** p < 0.01 versus the corresponding PBS plus sham group. ## p < 0.01 versus the corresponding HSV-GFP plus SNL group. (C) The levels of 5mC and 5hmC in the region (− 663/− 389) of the Kcna2 gene. n = 3 biological replicates (6 rats) per group. ** p < 0.01 versus the corresponding PBS plus sham group. # p < 0.05 or ## p < 0.01 versus the corresponding HSV-GFP plus SNL group\\nDiscussion\\nThe present study demonstrated that DRG TET1 overexpression alleviated pain hypersensitivity during the development and maintenance periods of neuropathic pain. This overexpression also rescued morphine analgesia and prevented morphine analgesic tolerance development under neuropathic pain conditions. Mechanistically, DRG TET1 overexpression rescued the expression of MOR and Kv1.2 in the ipsilateral L5 DRG through blocking peripheral nerve injury–induced increases in DNA methylation in the Oprm1 and Kcna2 genes. Given that DRG TET1 overexpression did not alter acute pain or locomotor function, our data suggest that overexpressing TET1 in the DRG may open a new avenue for chronic neuropathic pain management.\\nHSV has been used as the delivery vehicle for the transduction of targeted genes, particularly for those that are more than 3 kb in molecular weight, in the preclinical animal models [ , , , , ] and clinical trials [ ]. However, it is unknown which types of DRG cells are transduced by HSV after either subcutaneous injection or nerve/DRG microinjection of HSV-GFP, as the injected HSV-GFP, unlike the injected AAV-GFP, cannot be observed in the DRG directly under the fluorescent microscope [ , , , , ]. The present study used the immunostaining of anti-GFP antibody and a single-cell real-time RT-PCR assay of Gfp mRNA to firstly report that the microinjected HSV is limited to the microinjected DRG neurons and their fibers. About 50% of DRG neurons were transduced by HSV. A majority of these transduced DRG neurons were small in size. MOR was detected in more than 30% of the transduced DRG neurons, predominantly in small DRG neurons, which is consistent with the fact that MOR is expressed predominantly in small DRG neurons [ , ].\\nRecent work suggests the involvement of TET1 in pathological pain. TET1 is expressed exclusively in the neurons of the DRG and spinal cord dorsal horn [ , ], 2 major pain-related regions in the nervous system. Peripheral SNL and paw injection of formalin or complete Freund’s adjuvant (CFA) increased TET1 expression in ipsilateral spinal cord dorsal horn, but not in the DRG [ , , , , , ]. Knockdown of spinal TET1 alleviated the formalin-, CFA-, and SNL-induced nociceptive behaviors through blocking TET1-triggered expression of dorsal horn miR-365, Stat3, and BDNF, respectively [ , , ]. Overexpression of TET1 in the spinal cord led to pain-like behaviors [ , , ]. These findings suggest that endogenous TET1 in the spinal cord may contribute to the genesis of both neuropathic pain and inflammatory pain. However, directly targeting spinal cord TET1 is impractical in clinical neuropathic pain management, as surgically opening vertebrate is required. In addition, selective and specific TET1 inhibitors are unavailable currently.\\nRecent studies demonstrated that DNMT3a-triggered epigenetic silencing of the Oprm1 and Kcna2 genes in the DRG ipsilateral to nerve injury contributes to neuropathic pain genesis. SNL increased expression of DNMT3a in ipsilateral L5 DRG neurons [ , ]. This increase participated in SNL-induced DRG MOR and Kv1.2 downregulation and pain hypersensitivity likely through DNMT3a-triggered elevations in DNA methylation at sites − 365 and + 387 of the Oprm1 gene and at sites − 457 and − 444 of the Kcna2 gene in ipsilateral L5 DRG [ , ]. These findings suggest that targeting elevated DNA methylation in the DRG ipsilateral to nerve injury could be a new approach to treat neuropathic pain. Given that TET1 was reported to possibly regulate opioid receptors [ ], we overexpressed TET1 in ipsilateral L5 DRG through microinjection of HSV-TET1 in the present study. As expected, this microinjection blocked the SNL-induced increase in the level of 5mC and restored the SNL-induced decrease in the amount of 5hmC in the regions of the Oprm1 (− 450/− 288 and + 238/+ 439) and Kcna2 (− 663/− 389) genes from ipsilateral L5 DRG. This suggests that overexpression of TET1 in the DRG likely attenuates the DNMT3a-induced increases in DNA methylation at sites − 365 and + 387 of the Oprm1 gene and at sites − 457 and − 444 of the Kcna2 gene in the injured DRG. More importantly, DRG microinjection of HSV-TET1 rescued MOR and Kv1.2 expression in the ipsilateral L5 DRG, mitigated pain hypersensitivity, restored morphine analgesia, and attenuated morphine analgesic tolerance development under SNL-induced neuropathic pain conditions. Given that DRG microinjection of HSV-TET1 did not affect the expression of endogenous MOR ligand precursors proenkephalin mRNA and proopiomelanocortin mRNA in the ipsilateral L5 DRG of sham or SNL rats, our data suggest that overexpression of exogenous TET1 in DRG produces an antinociceptive effect under SNL-induced neuropathic pain conditions at least through its triggered demethylation of the Oprm1 and Kcna2 genes and subsequent rescue of MOR and Kv1.2 expression in ipsilateral L5 DRG. Nevertheless, demethylation of other genes, promoted by overexpression of exogenous TET1 in DRG under neuropathic pain conditions, cannot be ruled out. Previous studies reported TET1-dependent demethylation at the promoter of the mGluR5 and bdnf genes, resulting in promotion in expression of mGluR5 and BNNF in dorsal horn neurons following peripheral nerve injury [ , ]. Whether HSV-TET1 microinjection affects mGluR5 and BDNF expression in the DRG ipsilateral to nerve injury still remains to be determined. Overexpression of TET1 in the DRG may selectively affect nerve injury–induced changes in some gene expression since SNL-induced downregulation of DRG Nav1.9 was not rescued through microinjection of HSV-TET1 into ipsilateral L5 DRG. DRG microinjection of HSV-TET1 also did not alter basal expression of S6K and TET2 proteins in ipsilateral L5 DRG of SNL rats, further demonstrating selectivity of TET1 targeting genes. It is very likely that TET1-triggered demethylation in the promoter regions of some specific genes makes them accessible to the transcription factors, leading to gene transcriptional activation [ ]. In addition, TET1-triggered demethylation possibly inhibits DNMT3a from binding to the promoter regions of the gene [ ], even though DNMT3a expression is increased in the DRG ipsilateral nerve injury [ , ]. Given that the HSV-mediated transgene is expressed exclusively in the neurons and their fibers [ ], exogenous TET1, through microinjection of HSV-TET1 into the DRG ipsilateral to nerve injury, may directly regulate the expression of some specific pain-associated genes, including Oprm1 and Kcna2 , in individual DRG neurons.\\nConclusions\\nThe present study demonstrated that DRG TET1 overexpression, through microinjection of HSV-TET1, significantly alleviated pain hypersensitivity, rescued opioid analgesia, and prevented opioid tolerance development under neuropathic pain conditions. The present study may provide a potential avenue in neuropathic pain prevention and treatment given that this microinjection produced local effects on gene expression and did not alter acute pain or motor function, and that HSV-mediated gene therapy has been used in clinical trial [ , ].'"
      ]
     },
     "execution_count": 12,
     "metadata": {},
     "output_type": "execute_result"
    }
   ],
   "source": [
    "texts[0]"
   ]
  },
  {
   "cell_type": "code",
   "execution_count": null,
   "metadata": {},
   "outputs": [],
   "source": []
  }
 ],
 "metadata": {
  "kernelspec": {
   "display_name": "Python 3",
   "language": "python",
   "name": "python3"
  },
  "language_info": {
   "codemirror_mode": {
    "name": "ipython",
    "version": 3
   },
   "file_extension": ".py",
   "mimetype": "text/x-python",
   "name": "python",
   "nbconvert_exporter": "python",
   "pygments_lexer": "ipython3",
   "version": "3.8.3"
  }
 },
 "nbformat": 4,
 "nbformat_minor": 4
}
