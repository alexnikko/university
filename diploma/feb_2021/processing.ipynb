{
 "cells": [
  {
   "cell_type": "code",
   "execution_count": 51,
   "metadata": {
    "ExecuteTime": {
     "end_time": "2021-02-09T14:32:18.095818Z",
     "start_time": "2021-02-09T14:32:18.093508Z"
    }
   },
   "outputs": [],
   "source": [
    "import pandas as pd\n",
    "import numpy as np\n",
    "import os\n",
    "from glob import glob"
   ]
  },
  {
   "cell_type": "code",
   "execution_count": 70,
   "metadata": {
    "ExecuteTime": {
     "end_time": "2021-02-09T14:39:57.088136Z",
     "start_time": "2021-02-09T14:39:56.527277Z"
    }
   },
   "outputs": [],
   "source": [
    "article_nos = []\n",
    "abstracts = []\n",
    "for file in os.listdir('SpringerAD/springermad/abstracts/'):\n",
    "    with open('SpringerAD/springermad/abstracts/' + file, 'r') as f:\n",
    "        article_no = int(file.split('.')[0])\n",
    "        abstract = f.read()\n",
    "    article_nos.append(article_no)\n",
    "    abstracts.append(abstract)"
   ]
  },
  {
   "cell_type": "code",
   "execution_count": 71,
   "metadata": {
    "ExecuteTime": {
     "end_time": "2021-02-09T14:39:57.205231Z",
     "start_time": "2021-02-09T14:39:57.202485Z"
    }
   },
   "outputs": [
    {
     "data": {
      "text/plain": [
       "'Recent advances in the techniques that differentiate induced pluripotent stem cells (iPSCs) into specific types of cells enabled us to establish in vitro cell-based models as a platform for drug discovery. iPSC-derived disease models are advantageous to generation of a large number of cells required for high-throughput screening. Furthermore, disease-relevant cells differentiated from patient-derived iPSCs are expected to recapitulate the disorder-specific pathogenesis and physiology in vitro. Such disease-relevant cells will be useful for developing effective therapies. We demonstrated that cerebellar tissues are generated from human PSCs (hPSCs) in 3D culture systems that recapitulate the in vivo microenvironments associated with the isthmic organizer. Recently, we have succeeded in generation of spinocerebellar ataxia (SCA) patient-derived Purkinje cells by combining the iPSC technology and the self-organizing stem cell 3D culture technology. We demonstrated that SCA6-derived Purkinje cells exhibit vulnerability to triiodothyronine depletion, which is suppressed by treatment with thyrotropin-releasing hormone and Riluzole. We further discuss applications of patient-specific iPSCs to intractable cerebellar disease.'"
      ]
     },
     "execution_count": 71,
     "metadata": {},
     "output_type": "execute_result"
    }
   ],
   "source": [
    "abstracts[0]"
   ]
  },
  {
   "cell_type": "code",
   "execution_count": 72,
   "metadata": {
    "ExecuteTime": {
     "end_time": "2021-02-09T14:40:08.782484Z",
     "start_time": "2021-02-09T14:40:08.607582Z"
    }
   },
   "outputs": [],
   "source": [
    "tmp_df = pd.DataFrame([article_nos, texts], index=['article_no', 'abstract']).T"
   ]
  },
  {
   "cell_type": "code",
   "execution_count": 73,
   "metadata": {
    "ExecuteTime": {
     "end_time": "2021-02-09T14:40:08.997737Z",
     "start_time": "2021-02-09T14:40:08.971085Z"
    }
   },
   "outputs": [],
   "source": [
    "df = pd.read_csv('SpringerAD/springermad/articles_meta.csv')"
   ]
  },
  {
   "cell_type": "code",
   "execution_count": 74,
   "metadata": {
    "ExecuteTime": {
     "end_time": "2021-02-09T14:40:10.016522Z",
     "start_time": "2021-02-09T14:40:10.011231Z"
    }
   },
   "outputs": [
    {
     "data": {
      "text/plain": [
       "(3002, 13)"
      ]
     },
     "execution_count": 74,
     "metadata": {},
     "output_type": "execute_result"
    }
   ],
   "source": [
    "df.shape"
   ]
  },
  {
   "cell_type": "code",
   "execution_count": 75,
   "metadata": {
    "ExecuteTime": {
     "end_time": "2021-02-09T14:40:10.776455Z",
     "start_time": "2021-02-09T14:40:10.763343Z"
    }
   },
   "outputs": [],
   "source": [
    "df = pd.merge(df, tmp_df, on='article_no')"
   ]
  },
  {
   "cell_type": "code",
   "execution_count": 78,
   "metadata": {
    "ExecuteTime": {
     "end_time": "2021-02-09T14:40:55.399402Z",
     "start_time": "2021-02-09T14:40:55.277451Z"
    }
   },
   "outputs": [],
   "source": [
    "df.to_csv('data.csv', index=False)"
   ]
  },
  {
   "cell_type": "code",
   "execution_count": null,
   "metadata": {},
   "outputs": [],
   "source": []
  }
 ],
 "metadata": {
  "kernelspec": {
   "display_name": "Python 3",
   "language": "python",
   "name": "python3"
  },
  "language_info": {
   "codemirror_mode": {
    "name": "ipython",
    "version": 3
   },
   "file_extension": ".py",
   "mimetype": "text/x-python",
   "name": "python",
   "nbconvert_exporter": "python",
   "pygments_lexer": "ipython3",
   "version": "3.8.3"
  },
  "toc": {
   "base_numbering": 1,
   "nav_menu": {},
   "number_sections": true,
   "sideBar": true,
   "skip_h1_title": false,
   "title_cell": "Table of Contents",
   "title_sidebar": "Contents",
   "toc_cell": false,
   "toc_position": {},
   "toc_section_display": true,
   "toc_window_display": false
  },
  "varInspector": {
   "cols": {
    "lenName": 16,
    "lenType": 16,
    "lenVar": 40
   },
   "kernels_config": {
    "python": {
     "delete_cmd_postfix": "",
     "delete_cmd_prefix": "del ",
     "library": "var_list.py",
     "varRefreshCmd": "print(var_dic_list())"
    },
    "r": {
     "delete_cmd_postfix": ") ",
     "delete_cmd_prefix": "rm(",
     "library": "var_list.r",
     "varRefreshCmd": "cat(var_dic_list()) "
    }
   },
   "types_to_exclude": [
    "module",
    "function",
    "builtin_function_or_method",
    "instance",
    "_Feature"
   ],
   "window_display": false
  }
 },
 "nbformat": 4,
 "nbformat_minor": 4
}
