{
 "cells": [
  {
   "cell_type": "markdown",
   "metadata": {},
   "source": [
    "# Лабораторная работа №3\n",
    "# Поиск ассоциативных правил"
   ]
  },
  {
   "cell_type": "markdown",
   "metadata": {},
   "source": [
    "Поиск ассоциативных правил представляет собой весьма часто применяемый метод выявления зависимостей между записями в больших наборах данных.\n",
    "\n",
    "Ассоциативные правила обычно используются при анализе продуктовых корреляций (Market Basket Analysis) и выглядят примерно так: «если в чеке клиента есть молоко, то в 80% случаев там будет и хлеб». "
   ]
  },
  {
   "cell_type": "markdown",
   "metadata": {},
   "source": [
    "## Набор транзакций Instacart"
   ]
  },
  {
   "cell_type": "markdown",
   "metadata": {},
   "source": [
    "Компания Instacart (сайт https://www.instacart.com) – розничный продавец овощей в США и Канаде (слоган «Groceries delivered in as little as 1 hour»). \n",
    "\n",
    "Для исследователей на сайте Instacart был выложен набор данных “The Instacart Online Grocery Shopping Dataset 2017”, адрес набора\n",
    "https://www.instacart.com/datasets/grocery-shopping-2017.\n",
    "\n",
    "Набор данных анонимизирован и состоит из следующих таблиц."
   ]
  },
  {
   "cell_type": "markdown",
   "metadata": {},
   "source": [
    "`orders` (3.4m rows, 206k users):\n",
    "* `order_id`: order identifier\n",
    "* `user_id`: customer identifier\n",
    "* `eval_set`: which evaluation set this order belongs in (see `SET` described below)\n",
    "* `order_number`: the order sequence number for this user (1 = first, n = nth)\n",
    "* `order_dow`: the day of the week the order was placed on\n",
    "* `order_hour_of_day`: the hour of the day the order was placed on\n",
    "* `days_since_prior`: days since the last order, capped at 30 (with NAs for `order_number` = 1)"
   ]
  },
  {
   "cell_type": "markdown",
   "metadata": {},
   "source": [
    "`products` (50k rows):\n",
    "* `product_id`: product identifier\n",
    "* `product_name`: name of the product\n",
    "* `aisle_id`: foreign key\n",
    "* `department_id`: foreign key"
   ]
  },
  {
   "cell_type": "markdown",
   "metadata": {},
   "source": [
    "`aisles` (134 rows):\n",
    "* `aisle_id`: aisle identifier\n",
    "* `aisle`: the name of the aisle"
   ]
  },
  {
   "cell_type": "markdown",
   "metadata": {},
   "source": [
    "`deptartments` (21 rows):\n",
    "* `department_id`: department identifier\n",
    "* `department`: the name of the department"
   ]
  },
  {
   "cell_type": "markdown",
   "metadata": {},
   "source": [
    "`order_products__SET` (30m+ rows):\n",
    "* `order_id`: foreign key\n",
    "* `product_id`: foreign key\n",
    "* `add_to_cart_order`: order in which each product was added to cart\n",
    "* `reordered`: 1 if this product has been ordered by this user in the past, 0 otherwise\n",
    "\n",
    "где `SET` - один из следующих наборов (`eval_set` в таблице `orders`):\n",
    "* `\"prior\"`: orders prior to that users most recent order (~3.2m orders)\n",
    "* `\"train\"`: training data supplied to participants (~131k orders)\n",
    "* `\"test\"`: test data reserved for machine learning competitions (~75k orders)"
   ]
  },
  {
   "cell_type": "markdown",
   "metadata": {},
   "source": [
    "Для работы с набором данных Instacart будем использовать встроенную в Python СУБД `sqlite`."
   ]
  },
  {
   "cell_type": "markdown",
   "metadata": {},
   "source": [
    "## SQL"
   ]
  },
  {
   "cell_type": "markdown",
   "metadata": {},
   "source": [
    "База данных (БД) - это данные, которые хранятся в соответствии с определенной схемой, описывающей соотношения между данными.\n",
    "\n",
    "Язык БД SQL (structured query language) - используется для описания структуры БД, управления данными (добавление, изменение, удаление, получение), управления правами доступа к БД и ее объектам, управления транзакциями.\n",
    "\n",
    "Система управления базами данных (СУБД) - это программные средства, которые дают возможность управлять БД, поддерживая соответствующий язык (языки) для управления БД."
   ]
  },
  {
   "cell_type": "markdown",
   "metadata": {},
   "source": [
    "Язык SQL подразделяется на следующие категории:\n",
    "\n",
    "`DDL` (Data Definition Language) - язык описания данных\n",
    "* `CREATE` - создание новой таблицы, СУБД, схемы\n",
    "* `ALTER` - изменение существующей таблицы, колонки \n",
    "* `DROP` - удаление существующих объектов из СУБД\n",
    "\n",
    "`DML` (Data Manipulation Language) - язык манипулирования данными \n",
    "* `SELECT` - выбор данных\n",
    "* `INSERT` - добавление новых данных\n",
    "* `UPDATE` - обновление существующих данных \n",
    "* `DELETE` - удаление данных\n",
    "\n",
    "`DCL` (Data Control Language) - язык определения доступа к данным \n",
    "* `GRANT` - предоставление пользователям разрешения на чтение/запись определенных объектов в СУБД\n",
    "* `REVOKE` - отзыв ранее предоставленных разрешений\n",
    "\n",
    "`TCL` (Transaction Control Language) - язык управления транзакциями\n",
    "* `COMMIT` - применение транзакции\n",
    "* `ROLLBACK` - откат всех изменений, сделанных в текущей транзакции\n"
   ]
  },
  {
   "cell_type": "markdown",
   "metadata": {},
   "source": [
    "## SQLite"
   ]
  },
  {
   "cell_type": "markdown",
   "metadata": {},
   "source": [
    "SQLite — компактная встраиваемая СУБД с открытым исходным кодом, написанная на языке C.\n",
    "\n",
    "SQLite не использует парадигму клиент-сервер, а именно, SQLite представляет собой библиотеку, с которой компонуется программа, использующая SQLite. SQLite является составной частью Python."
   ]
  },
  {
   "cell_type": "markdown",
   "metadata": {},
   "source": [
    "### Утилита sqlite3"
   ]
  },
  {
   "cell_type": "markdown",
   "metadata": {},
   "source": [
    "В комплект поставки SQLite входит утилита sqlite3 для работы с SQLite в командной строке. С помощью sqlite3 можно вручную выполнять команды SQL.\n",
    "\n",
    "Для доступа к базе данных Instacart при помощи sqlite3 нужно выполнить следующую команду в окне терминала:\n",
    "\n",
    "`sqlite3 instacart.db`\n"
   ]
  },
  {
   "cell_type": "markdown",
   "metadata": {},
   "source": [
    "В sqlite3 можно выполнять команды SQL или так называемые метакоманды (или dot-команды).\n",
    "\n",
    "К метакомандам относятся несколько специальных команд для работы с SQLite. Они относятся только к утилите sqlite3, а не к SQL языку. В конце этих команд ; ставить не нужно.\n",
    "Примеры метакоманд:\n",
    "\n",
    "* .help - подсказка со списком всех метакоманд \n",
    "* .exit или .quit - выход из сессии sqlite3\n",
    "* .databases - показывает присоединенные БД \n",
    "* .tables - показывает доступные таблицы"
   ]
  },
  {
   "cell_type": "markdown",
   "metadata": {},
   "source": [
    "При выполнении в sqlite3 команды SQL ее нужно завершить символом `;`, например:\n",
    "\n",
    "`select count(*) from orders;`"
   ]
  },
  {
   "cell_type": "markdown",
   "metadata": {},
   "source": [
    "### Модуль sqlite3"
   ]
  },
  {
   "cell_type": "markdown",
   "metadata": {},
   "source": [
    "Для работы с SQLite в Python используется модуль sqlite3.\n",
    "\n",
    "Объект `Connection` - это подключение к конкретной БД. \n",
    "Пример создания подключения:"
   ]
  },
  {
   "cell_type": "code",
   "execution_count": 1,
   "metadata": {
    "ExecuteTime": {
     "end_time": "2020-10-11T15:18:05.072006Z",
     "start_time": "2020-10-11T15:18:05.067343Z"
    }
   },
   "outputs": [],
   "source": [
    "import sqlite3\n",
    "\n",
    "conn = sqlite3.connect('temp.db')"
   ]
  },
  {
   "cell_type": "code",
   "execution_count": 2,
   "metadata": {
    "ExecuteTime": {
     "end_time": "2020-10-11T15:18:05.771353Z",
     "start_time": "2020-10-11T15:18:05.760559Z"
    }
   },
   "outputs": [
    {
     "data": {
      "text/plain": [
       "sqlite3.Connection"
      ]
     },
     "execution_count": 2,
     "metadata": {},
     "output_type": "execute_result"
    }
   ],
   "source": [
    "type(conn)"
   ]
  },
  {
   "cell_type": "markdown",
   "metadata": {},
   "source": [
    "Если база данных temp.db не существует, то она будет создана. После создания соединения надо создать объект Cursor - это основной способ работы с БД. Создается курсор из соединения с БД:\n"
   ]
  },
  {
   "cell_type": "code",
   "execution_count": 3,
   "metadata": {
    "ExecuteTime": {
     "end_time": "2020-10-11T15:18:06.558278Z",
     "start_time": "2020-10-11T15:18:06.551503Z"
    }
   },
   "outputs": [
    {
     "data": {
      "text/plain": [
       "sqlite3.Cursor"
      ]
     },
     "execution_count": 3,
     "metadata": {},
     "output_type": "execute_result"
    }
   ],
   "source": [
    "cursor = conn.cursor()\n",
    "\n",
    "type(cursor)"
   ]
  },
  {
   "cell_type": "markdown",
   "metadata": {},
   "source": [
    "### Выполнение команд SQL"
   ]
  },
  {
   "cell_type": "markdown",
   "metadata": {},
   "source": [
    "Для выполнения команд SQL в модуле есть несколько методов:\n",
    "\n",
    "* `execute()` - метод для выполнения одного выражения SQL\n",
    "* `executemany()` - метод позволяет выполнить одно выражение SQL для последовательности параметров (или для итератора)\n",
    "* `executescript()` - метод позволяет выполнить несколько выражений SQL за один раз"
   ]
  },
  {
   "cell_type": "markdown",
   "metadata": {},
   "source": [
    "#### Метод execute()"
   ]
  },
  {
   "cell_type": "markdown",
   "metadata": {},
   "source": [
    "Метод execute() позволяет выполнить одну команду SQL (при условии, что уже созданы соединение и курсор). \n",
    "\n",
    "Создадим таблицу user с помощью метода execute():"
   ]
  },
  {
   "cell_type": "code",
   "execution_count": 4,
   "metadata": {
    "ExecuteTime": {
     "end_time": "2020-10-11T15:18:09.192849Z",
     "start_time": "2020-10-11T15:18:09.127984Z"
    }
   },
   "outputs": [
    {
     "ename": "OperationalError",
     "evalue": "table user already exists",
     "output_type": "error",
     "traceback": [
      "\u001b[1;31m---------------------------------------------------------------------------\u001b[0m",
      "\u001b[1;31mOperationalError\u001b[0m                          Traceback (most recent call last)",
      "\u001b[1;32m<ipython-input-4-fd4f9ea78e0e>\u001b[0m in \u001b[0;36m<module>\u001b[1;34m\u001b[0m\n\u001b[0;32m      3\u001b[0m     \u001b[0musername\u001b[0m \u001b[0mtext\u001b[0m\u001b[1;33m,\u001b[0m\u001b[1;33m\u001b[0m\u001b[1;33m\u001b[0m\u001b[0m\n\u001b[0;32m      4\u001b[0m     \u001b[0mroom\u001b[0m \u001b[0mtext\u001b[0m\u001b[1;33m,\u001b[0m\u001b[1;33m\u001b[0m\u001b[1;33m\u001b[0m\u001b[0m\n\u001b[1;32m----> 5\u001b[1;33m     phone text)\"\"\")\n\u001b[0m",
      "\u001b[1;31mOperationalError\u001b[0m: table user already exists"
     ]
    }
   ],
   "source": [
    "cursor.execute(\"\"\"create table user \n",
    "    (userid text not NULL primary key, \n",
    "    username text, \n",
    "    room text, \n",
    "    phone text)\"\"\")"
   ]
  },
  {
   "cell_type": "markdown",
   "metadata": {},
   "source": [
    "Выражения SQL могут быть параметризированы - вместо данных можно подставлять специальные значения. За счет этого можно использовать одну и ту же команду SQL для передачи разных данных.\n",
    "\n",
    "Например, таблицу user нужно заполнить данными из списка data:"
   ]
  },
  {
   "cell_type": "code",
   "execution_count": 5,
   "metadata": {
    "ExecuteTime": {
     "end_time": "2020-10-11T15:18:13.597694Z",
     "start_time": "2020-10-11T15:18:13.592724Z"
    }
   },
   "outputs": [],
   "source": [
    "data = [\n",
    "    ('001', 'Иванов И.И.',  '123', '(985)1234567'), \n",
    "    ('002', 'Петров П.П.',  '234', '(903)9876543'), \n",
    "    ('003', 'Сидоров С.С.', '345', '(495)1357900')] "
   ]
  },
  {
   "cell_type": "markdown",
   "metadata": {},
   "source": [
    "Для этого можно использовать запрос вида:"
   ]
  },
  {
   "cell_type": "code",
   "execution_count": 6,
   "metadata": {
    "ExecuteTime": {
     "end_time": "2020-10-11T15:18:15.358407Z",
     "start_time": "2020-10-11T15:18:15.354309Z"
    }
   },
   "outputs": [],
   "source": [
    "query = \"INSERT into user values (?, ?, ?, ?)\""
   ]
  },
  {
   "cell_type": "markdown",
   "metadata": {},
   "source": [
    "Знаки вопроса в команде используются для подстановки данных, которые будут передаваться методу execute.\n",
    "\n",
    "Теперь можно передать данные таким образом:"
   ]
  },
  {
   "cell_type": "code",
   "execution_count": 7,
   "metadata": {
    "ExecuteTime": {
     "end_time": "2020-10-11T15:18:18.111330Z",
     "start_time": "2020-10-11T15:18:18.106379Z"
    }
   },
   "outputs": [],
   "source": [
    "for row in data:\n",
    "    cursor.execute(query, row)"
   ]
  },
  {
   "cell_type": "markdown",
   "metadata": {},
   "source": [
    "Второй аргумент, который передается методу execute, должен быть кортежем. Если нужно передать кортеж с одним элементом, используется запись вида (value, ).\n",
    "\n",
    "Чтобы изменения были применены, нужно выполнить commit() (обратите внимание, что метод commit() вызывается у соединения):"
   ]
  },
  {
   "cell_type": "code",
   "execution_count": 8,
   "metadata": {
    "ExecuteTime": {
     "end_time": "2020-10-11T15:18:24.297676Z",
     "start_time": "2020-10-11T15:18:24.288700Z"
    }
   },
   "outputs": [],
   "source": [
    "conn.commit()"
   ]
  },
  {
   "cell_type": "markdown",
   "metadata": {},
   "source": [
    "Обратимся к сохраненным данным:"
   ]
  },
  {
   "cell_type": "code",
   "execution_count": 9,
   "metadata": {
    "ExecuteTime": {
     "end_time": "2020-10-11T15:18:26.169211Z",
     "start_time": "2020-10-11T15:18:26.162196Z"
    }
   },
   "outputs": [
    {
     "name": "stdout",
     "output_type": "stream",
     "text": [
      "('001', 'Иванов И.И.', '123', '(985)1234567')\n",
      "('002', 'Петров П.П.', '234', '(903)9876543')\n",
      "('003', 'Сидоров С.С.', '345', '(495)1357900')\n"
     ]
    }
   ],
   "source": [
    "for row in cursor.execute(\"SELECT * FROM user\"):\n",
    "    print(row)"
   ]
  },
  {
   "cell_type": "markdown",
   "metadata": {},
   "source": [
    "#### Метод executemany()"
   ]
  },
  {
   "cell_type": "markdown",
   "metadata": {},
   "source": [
    "Метод executemany() позволяет выполнить одну команду SQL для последовательности параметров (или для итератора).\n",
    "\n",
    "С помощью метода executemany() в таблицу user можно добавить аналогичный список данных одной командой.\n",
    "\n",
    "Например, в таблицу user надо добавить данные из списка data2:"
   ]
  },
  {
   "cell_type": "code",
   "execution_count": 10,
   "metadata": {
    "ExecuteTime": {
     "end_time": "2020-10-11T15:18:29.501259Z",
     "start_time": "2020-10-11T15:18:29.497272Z"
    }
   },
   "outputs": [],
   "source": [
    "data2 = [\n",
    "    ('004', 'Васильев В.В.', '456', '(901)1112233'),\n",
    "    ('005', 'Сергеев С.С.',  '567', '(905)1231212')]"
   ]
  },
  {
   "cell_type": "markdown",
   "metadata": {},
   "source": [
    "Для этого нужно использовать аналогичный запрос вида:"
   ]
  },
  {
   "cell_type": "code",
   "execution_count": 11,
   "metadata": {
    "ExecuteTime": {
     "end_time": "2020-10-11T15:18:30.197658Z",
     "start_time": "2020-10-11T15:18:30.193670Z"
    }
   },
   "outputs": [],
   "source": [
    "query = \"INSERT into user values (?, ?, ?, ?)\""
   ]
  },
  {
   "cell_type": "markdown",
   "metadata": {},
   "source": [
    "Теперь можно передать данные методу executemany():"
   ]
  },
  {
   "cell_type": "code",
   "execution_count": 12,
   "metadata": {
    "ExecuteTime": {
     "end_time": "2020-10-11T15:18:31.987181Z",
     "start_time": "2020-10-11T15:18:31.977210Z"
    }
   },
   "outputs": [],
   "source": [
    "cursor.executemany(query, data2) \n",
    "\n",
    "conn.commit()"
   ]
  },
  {
   "cell_type": "markdown",
   "metadata": {},
   "source": [
    "Метод executemany() подставил соответствующие кортежи в команду SQL, и все данные добавились в таблицу."
   ]
  },
  {
   "cell_type": "code",
   "execution_count": 13,
   "metadata": {
    "ExecuteTime": {
     "end_time": "2020-10-11T15:18:32.798978Z",
     "start_time": "2020-10-11T15:18:32.792997Z"
    }
   },
   "outputs": [
    {
     "name": "stdout",
     "output_type": "stream",
     "text": [
      "('001', 'Иванов И.И.', '123', '(985)1234567')\n",
      "('002', 'Петров П.П.', '234', '(903)9876543')\n",
      "('003', 'Сидоров С.С.', '345', '(495)1357900')\n",
      "('004', 'Васильев В.В.', '456', '(901)1112233')\n",
      "('005', 'Сергеев С.С.', '567', '(905)1231212')\n"
     ]
    }
   ],
   "source": [
    "for row in cursor.execute(\"SELECT * FROM user\"):\n",
    "    print(row)"
   ]
  },
  {
   "cell_type": "markdown",
   "metadata": {},
   "source": [
    "#### Метод executescript()"
   ]
  },
  {
   "cell_type": "markdown",
   "metadata": {},
   "source": [
    "Метод executescript() позволяет выполнить несколько выражений SQL за один раз:"
   ]
  },
  {
   "cell_type": "code",
   "execution_count": 14,
   "metadata": {
    "ExecuteTime": {
     "end_time": "2020-10-11T15:18:44.399265Z",
     "start_time": "2020-10-11T15:18:44.383312Z"
    }
   },
   "outputs": [],
   "source": [
    "cursor.executescript('''\n",
    "delete from user;\n",
    "drop table user;\n",
    "''')\n",
    "conn.close()"
   ]
  },
  {
   "cell_type": "markdown",
   "metadata": {},
   "source": [
    "### Получение результатов запроса"
   ]
  },
  {
   "cell_type": "markdown",
   "metadata": {},
   "source": [
    "Для получения результатов запроса в sqlite3 есть несколько способов:\n",
    "\n",
    "* использование методов fetch...() - в зависимости от метода возвращаются одна, несколько или все строки\n",
    "* использование курсора как итератора - возвращается итератор"
   ]
  },
  {
   "cell_type": "markdown",
   "metadata": {},
   "source": [
    "#### Метод fetchone()"
   ]
  },
  {
   "cell_type": "markdown",
   "metadata": {},
   "source": [
    "Метод fetchone() возвращает одну строку данных.\n",
    "\n",
    "Пример получения информации из базы данных instacart.db:"
   ]
  },
  {
   "cell_type": "code",
   "execution_count": 15,
   "metadata": {
    "ExecuteTime": {
     "end_time": "2020-10-11T15:18:57.354785Z",
     "start_time": "2020-10-11T15:18:57.345775Z"
    }
   },
   "outputs": [
    {
     "data": {
      "text/plain": [
       "('1', 'frozen')"
      ]
     },
     "execution_count": 15,
     "metadata": {},
     "output_type": "execute_result"
    }
   ],
   "source": [
    "conn = sqlite3.connect('instacart.db')\n",
    "\n",
    "cursor = conn.cursor()\n",
    "\n",
    "cursor.execute('select * from departments') \n",
    "\n",
    "cursor.fetchone()"
   ]
  },
  {
   "cell_type": "markdown",
   "metadata": {},
   "source": [
    "Обратите внимание, что хотя запрос SQL подразумевает, что запрашивалось всё содержимое таблицы, метод fetchone() вернул только одну строку.\n",
    "\n",
    "Если повторно вызвать метод, он вернет следующую строку:"
   ]
  },
  {
   "cell_type": "code",
   "execution_count": 20,
   "metadata": {
    "ExecuteTime": {
     "end_time": "2020-10-11T15:19:27.006060Z",
     "start_time": "2020-10-11T15:19:27.002073Z"
    }
   },
   "outputs": [],
   "source": [
    "cursor.fetchone()"
   ]
  },
  {
   "cell_type": "markdown",
   "metadata": {},
   "source": [
    "Аналогичным образом метод будет возвращать следующие строки. После обработки всех строк метод начинает возвращать None.\n",
    "\n",
    "За счет этого метод можно использовать в цикле, например, так:"
   ]
  },
  {
   "cell_type": "code",
   "execution_count": 19,
   "metadata": {
    "ExecuteTime": {
     "end_time": "2020-10-11T15:19:20.461456Z",
     "start_time": "2020-10-11T15:19:20.448469Z"
    }
   },
   "outputs": [
    {
     "name": "stdout",
     "output_type": "stream",
     "text": [
      "('1', 'frozen')\n",
      "('2', 'other')\n",
      "('3', 'bakery')\n",
      "('4', 'produce')\n",
      "('5', 'alcohol')\n",
      "('6', 'international')\n",
      "('7', 'beverages')\n",
      "('8', 'pets')\n",
      "('9', 'dry goods pasta')\n",
      "('10', 'bulk')\n",
      "('11', 'personal care')\n",
      "('12', 'meat seafood')\n",
      "('13', 'pantry')\n",
      "('14', 'breakfast')\n",
      "('15', 'canned goods')\n",
      "('16', 'dairy eggs')\n",
      "('17', 'household')\n",
      "('18', 'babies')\n",
      "('19', 'snacks')\n",
      "('20', 'deli')\n",
      "('21', 'missing')\n"
     ]
    }
   ],
   "source": [
    "cursor.execute('select * from departments')\n",
    "\n",
    "while True:\n",
    "    next_row = cursor.fetchone() \n",
    "    if next_row:\n",
    "        print(next_row) \n",
    "    else:\n",
    "        break"
   ]
  },
  {
   "cell_type": "markdown",
   "metadata": {},
   "source": [
    "#### Метод fetchmany()"
   ]
  },
  {
   "cell_type": "markdown",
   "metadata": {},
   "source": [
    "Метод fetchmany() возвращает список строк данных. Синтаксис метода:\n",
    "\n",
    "`cursor.fetchmany([size=cursor.arraysize])`\n",
    "\n",
    "С помощью параметра size можно указывать, какое количество строк возвращается. По умолчанию параметр size равен значению cursor.arraysize:"
   ]
  },
  {
   "cell_type": "code",
   "execution_count": 21,
   "metadata": {
    "ExecuteTime": {
     "end_time": "2020-10-11T15:20:54.311360Z",
     "start_time": "2020-10-11T15:20:54.307332Z"
    }
   },
   "outputs": [
    {
     "name": "stdout",
     "output_type": "stream",
     "text": [
      "1\n"
     ]
    }
   ],
   "source": [
    "print(cursor.arraysize)"
   ]
  },
  {
   "cell_type": "markdown",
   "metadata": {},
   "source": [
    "Например, таким образом можно возвращать по три строки из запроса:"
   ]
  },
  {
   "cell_type": "code",
   "execution_count": 22,
   "metadata": {
    "ExecuteTime": {
     "end_time": "2020-10-11T15:20:55.649899Z",
     "start_time": "2020-10-11T15:20:55.634941Z"
    }
   },
   "outputs": [
    {
     "name": "stdout",
     "output_type": "stream",
     "text": [
      "[('1', 'prepared soups salads'), ('2', 'specialty cheeses'), ('3', 'energy granola bars')]\n",
      "[('4', 'instant foods'), ('5', 'marinades meat preparation'), ('6', 'other')]\n",
      "[('7', 'packaged meat'), ('8', 'bakery desserts'), ('9', 'pasta sauce')]\n",
      "[('10', 'kitchen supplies'), ('11', 'cold flu allergy'), ('12', 'fresh pasta')]\n",
      "[('13', 'prepared meals'), ('14', 'tofu meat alternatives'), ('15', 'packaged seafood')]\n",
      "[('16', 'fresh herbs'), ('17', 'baking ingredients'), ('18', 'bulk dried fruits vegetables')]\n",
      "[('19', 'oils vinegars'), ('20', 'oral hygiene'), ('21', 'packaged cheese')]\n",
      "[('22', 'hair care'), ('23', 'popcorn jerky'), ('24', 'fresh fruits')]\n",
      "[('25', 'soap'), ('26', 'coffee'), ('27', 'beers coolers')]\n",
      "[('28', 'red wines'), ('29', 'honeys syrups nectars'), ('30', 'latino foods')]\n",
      "[('31', 'refrigerated'), ('32', 'packaged produce'), ('33', 'kosher foods')]\n",
      "[('34', 'frozen meat seafood'), ('35', 'poultry counter'), ('36', 'butter')]\n",
      "[('37', 'ice cream ice'), ('38', 'frozen meals'), ('39', 'seafood counter')]\n",
      "[('40', 'dog food care'), ('41', 'cat food care'), ('42', 'frozen vegan vegetarian')]\n",
      "[('43', 'buns rolls'), ('44', 'eye ear care'), ('45', 'candy chocolate')]\n",
      "[('46', 'mint gum'), ('47', 'vitamins supplements'), ('48', 'breakfast bars pastries')]\n",
      "[('49', 'packaged poultry'), ('50', 'fruit vegetable snacks'), ('51', 'preserved dips spreads')]\n",
      "[('52', 'frozen breakfast'), ('53', 'cream'), ('54', 'paper goods')]\n",
      "[('55', 'shave needs'), ('56', 'diapers wipes'), ('57', 'granola')]\n",
      "[('58', 'frozen breads doughs'), ('59', 'canned meals beans'), ('60', 'trash bags liners')]\n",
      "[('61', 'cookies cakes'), ('62', 'white wines'), ('63', 'grains rice dried goods')]\n",
      "[('64', 'energy sports drinks'), ('65', 'protein meal replacements'), ('66', 'asian foods')]\n",
      "[('67', 'fresh dips tapenades'), ('68', 'bulk grains rice dried goods'), ('69', 'soup broth bouillon')]\n",
      "[('70', 'digestion'), ('71', 'refrigerated pudding desserts'), ('72', 'condiments')]\n",
      "[('73', 'facial care'), ('74', 'dish detergents'), ('75', 'laundry')]\n",
      "[('76', 'indian foods'), ('77', 'soft drinks'), ('78', 'crackers')]\n",
      "[('79', 'frozen pizza'), ('80', 'deodorants'), ('81', 'canned jarred vegetables')]\n",
      "[('82', 'baby accessories'), ('83', 'fresh vegetables'), ('84', 'milk')]\n",
      "[('85', 'food storage'), ('86', 'eggs'), ('87', 'more household')]\n",
      "[('88', 'spreads'), ('89', 'salad dressing toppings'), ('90', 'cocoa drink mixes')]\n",
      "[('91', 'soy lactosefree'), ('92', 'baby food formula'), ('93', 'breakfast bakery')]\n",
      "[('94', 'tea'), ('95', 'canned meat seafood'), ('96', 'lunch meat')]\n",
      "[('97', 'baking supplies decor'), ('98', 'juice nectars'), ('99', 'canned fruit applesauce')]\n",
      "[('100', 'missing'), ('101', 'air fresheners candles'), ('102', 'baby bath body care')]\n",
      "[('103', 'ice cream toppings'), ('104', 'spices seasonings'), ('105', 'doughs gelatins bake mixes')]\n",
      "[('106', 'hot dogs bacon sausage'), ('107', 'chips pretzels'), ('108', 'other creams cheeses')]\n",
      "[('109', 'skin care'), ('110', 'pickled goods olives'), ('111', 'plates bowls cups flatware')]\n",
      "[('112', 'bread'), ('113', 'frozen juice'), ('114', 'cleaning products')]\n",
      "[('115', 'water seltzer sparkling water'), ('116', 'frozen produce'), ('117', 'nuts seeds dried fruit')]\n",
      "[('118', 'first aid'), ('119', 'frozen dessert'), ('120', 'yogurt')]\n",
      "[('121', 'cereal'), ('122', 'meat counter'), ('123', 'packaged vegetables fruits')]\n",
      "[('124', 'spirits'), ('125', 'trail mix snack mix'), ('126', 'feminine care')]\n",
      "[('127', 'body lotions soap'), ('128', 'tortillas flat bread'), ('129', 'frozen appetizers sides')]\n",
      "[('130', 'hot cereal pancake mixes'), ('131', 'dry pasta'), ('132', 'beauty')]\n",
      "[('133', 'muscles joints pain relief'), ('134', 'specialty wines champagnes')]\n"
     ]
    }
   ],
   "source": [
    "cursor.execute('select * from aisles')\n",
    "\n",
    "while True:\n",
    "    three_rows = cursor.fetchmany(3) \n",
    "    if three_rows:\n",
    "        print(three_rows) \n",
    "    else:\n",
    "        break"
   ]
  },
  {
   "cell_type": "markdown",
   "metadata": {},
   "source": [
    "Метод выдает нужное количество строк, а если строк осталось меньше, чем параметр size, то оставшиеся строки."
   ]
  },
  {
   "cell_type": "markdown",
   "metadata": {},
   "source": [
    "#### Метод fetchall()"
   ]
  },
  {
   "cell_type": "markdown",
   "metadata": {},
   "source": [
    "Метод fetchall() возвращает все строки в виде списка:"
   ]
  },
  {
   "cell_type": "code",
   "execution_count": 23,
   "metadata": {
    "ExecuteTime": {
     "end_time": "2020-10-11T15:21:11.954992Z",
     "start_time": "2020-10-11T15:21:11.946988Z"
    }
   },
   "outputs": [
    {
     "data": {
      "text/plain": [
       "[('1', 'frozen'),\n",
       " ('2', 'other'),\n",
       " ('3', 'bakery'),\n",
       " ('4', 'produce'),\n",
       " ('5', 'alcohol'),\n",
       " ('6', 'international'),\n",
       " ('7', 'beverages'),\n",
       " ('8', 'pets'),\n",
       " ('9', 'dry goods pasta'),\n",
       " ('10', 'bulk'),\n",
       " ('11', 'personal care'),\n",
       " ('12', 'meat seafood'),\n",
       " ('13', 'pantry'),\n",
       " ('14', 'breakfast'),\n",
       " ('15', 'canned goods'),\n",
       " ('16', 'dairy eggs'),\n",
       " ('17', 'household'),\n",
       " ('18', 'babies'),\n",
       " ('19', 'snacks'),\n",
       " ('20', 'deli'),\n",
       " ('21', 'missing')]"
      ]
     },
     "execution_count": 23,
     "metadata": {},
     "output_type": "execute_result"
    }
   ],
   "source": [
    "cursor.execute('select * from departments')\n",
    "\n",
    "cursor.fetchall()"
   ]
  },
  {
   "cell_type": "markdown",
   "metadata": {},
   "source": [
    "Важный аспект работы метода - он возвращает все оставшиеся строки.\n",
    "\n",
    "То есть, если до метода fetchall() использовался, например, метод fetchone(), то метод fetchall() вернет оставшиеся строки запроса."
   ]
  },
  {
   "cell_type": "markdown",
   "metadata": {},
   "source": [
    "#### Cursor как итератор"
   ]
  },
  {
   "cell_type": "markdown",
   "metadata": {},
   "source": [
    "Если нужно построчно обрабатывать результирующие строки, лучше использовать курсор как итератор. При этом не нужно использовать методы fetch.\n",
    "\n",
    "При использовании методов execute возвращается курсор. А, так как курсор можно использовать как итератор, можно использовать его, например, в цикле for:"
   ]
  },
  {
   "cell_type": "code",
   "execution_count": 24,
   "metadata": {
    "ExecuteTime": {
     "end_time": "2020-10-11T15:21:18.301855Z",
     "start_time": "2020-10-11T15:21:18.290886Z"
    }
   },
   "outputs": [
    {
     "name": "stdout",
     "output_type": "stream",
     "text": [
      "('1', 'frozen')\n",
      "('2', 'other')\n",
      "('3', 'bakery')\n",
      "('4', 'produce')\n",
      "('5', 'alcohol')\n",
      "('6', 'international')\n",
      "('7', 'beverages')\n",
      "('8', 'pets')\n",
      "('9', 'dry goods pasta')\n",
      "('10', 'bulk')\n",
      "('11', 'personal care')\n",
      "('12', 'meat seafood')\n",
      "('13', 'pantry')\n",
      "('14', 'breakfast')\n",
      "('15', 'canned goods')\n",
      "('16', 'dairy eggs')\n",
      "('17', 'household')\n",
      "('18', 'babies')\n",
      "('19', 'snacks')\n",
      "('20', 'deli')\n",
      "('21', 'missing')\n"
     ]
    }
   ],
   "source": [
    "result = cursor.execute('select * from departments')\n",
    "\n",
    "for row in result: \n",
    "    print(row)"
   ]
  },
  {
   "cell_type": "markdown",
   "metadata": {},
   "source": [
    "Аналогичный вариант отработает и без присваивания переменной:"
   ]
  },
  {
   "cell_type": "code",
   "execution_count": 25,
   "metadata": {
    "ExecuteTime": {
     "end_time": "2020-10-11T15:21:21.787566Z",
     "start_time": "2020-10-11T15:21:21.778589Z"
    }
   },
   "outputs": [
    {
     "name": "stdout",
     "output_type": "stream",
     "text": [
      "('1', 'frozen')\n",
      "('2', 'other')\n",
      "('3', 'bakery')\n",
      "('4', 'produce')\n",
      "('5', 'alcohol')\n",
      "('6', 'international')\n",
      "('7', 'beverages')\n",
      "('8', 'pets')\n",
      "('9', 'dry goods pasta')\n",
      "('10', 'bulk')\n",
      "('11', 'personal care')\n",
      "('12', 'meat seafood')\n",
      "('13', 'pantry')\n",
      "('14', 'breakfast')\n",
      "('15', 'canned goods')\n",
      "('16', 'dairy eggs')\n",
      "('17', 'household')\n",
      "('18', 'babies')\n",
      "('19', 'snacks')\n",
      "('20', 'deli')\n",
      "('21', 'missing')\n"
     ]
    }
   ],
   "source": [
    "for row in cursor.execute('select * from departments'): \n",
    "    print(row)"
   ]
  },
  {
   "cell_type": "markdown",
   "metadata": {},
   "source": [
    "### Использование sqlite3 без создания курсора\n"
   ]
  },
  {
   "cell_type": "markdown",
   "metadata": {},
   "source": [
    "Методы execute доступны и в объекте Connection, и в объекте Cursor, а методы fetch доступны только в объекте Cursor.\n",
    "При использовании методов execute с объектом Connection курсор возвращается как результат выполнения метода execute. Его можно использовать как итератор и получать данные без методов fetch. За счет этого при работе с модулем sqlite3 можно не создавать курсор."
   ]
  },
  {
   "cell_type": "code",
   "execution_count": 26,
   "metadata": {
    "ExecuteTime": {
     "end_time": "2020-10-11T15:21:40.585609Z",
     "start_time": "2020-10-11T15:21:40.562645Z"
    }
   },
   "outputs": [
    {
     "name": "stdout",
     "output_type": "stream",
     "text": [
      "('001', 'Иванов И.И.', '123', '(985)1234567')\n",
      "('002', 'Петров П.П.', '234', '(903)9876543')\n",
      "('003', 'Сидоров С.С.', '345', '(495)1357900')\n",
      "('004', 'Васильев В.В.', '456', '(901)1112233')\n",
      "('005', 'Сергеев С.С.', '567', '(905)1231212')\n"
     ]
    }
   ],
   "source": [
    "data = [\n",
    "    ('001', 'Иванов И.И.', '123', '(985)1234567'),\n",
    "    ('002', 'Петров П.П.', '234', '(903)9876543'),\n",
    "    ('003', 'Сидоров С.С.', '345', '(495)1357900'),\n",
    "    ('004', 'Васильев В.В.', '456', '(901)1112233'),\n",
    "    ('005', 'Сергеев С.С.', '567', '(905)1231212'),\n",
    "]\n",
    "conn2 = sqlite3.connect('temp.db') \n",
    "conn2.execute('''\n",
    "    create table user \n",
    "        (userid text not NULL primary key, \n",
    "        username text, \n",
    "        room text, \n",
    "        phone text)\n",
    "    '''\n",
    ")\n",
    "query = 'INSERT into user values (?, ?, ?, ?)' \n",
    "conn2.executemany(query, data)\n",
    "conn2.commit()\n",
    "for row in conn2.execute('select * from user'):\n",
    "    print(row) \n",
    "#conn2.close()"
   ]
  },
  {
   "cell_type": "markdown",
   "metadata": {},
   "source": [
    "### Обработка исключений"
   ]
  },
  {
   "cell_type": "markdown",
   "metadata": {},
   "source": [
    "Посмотрим на пример использования метода execute при возникновении ошибки.\n",
    "В таблице user поле mac должно быть уникальным. И, если попытаться записать пересекающийся MAC-адрес, возникнет ошибка:"
   ]
  },
  {
   "cell_type": "code",
   "execution_count": 27,
   "metadata": {
    "ExecuteTime": {
     "end_time": "2020-10-11T15:21:42.052246Z",
     "start_time": "2020-10-11T15:21:42.041239Z"
    }
   },
   "outputs": [
    {
     "ename": "IntegrityError",
     "evalue": "UNIQUE constraint failed: user.userid",
     "output_type": "error",
     "traceback": [
      "\u001b[1;31m---------------------------------------------------------------------------\u001b[0m",
      "\u001b[1;31mIntegrityError\u001b[0m                            Traceback (most recent call last)",
      "\u001b[1;32m<ipython-input-27-2e93948b3e21>\u001b[0m in \u001b[0;36m<module>\u001b[1;34m\u001b[0m\n\u001b[0;32m      1\u001b[0m \u001b[0mquery\u001b[0m \u001b[1;33m=\u001b[0m \u001b[1;34m\"INSERT into user values ('005', 'Антонов А.А.', '678', '(979)9779977')\"\u001b[0m\u001b[1;33m\u001b[0m\u001b[1;33m\u001b[0m\u001b[0m\n\u001b[0;32m      2\u001b[0m \u001b[1;33m\u001b[0m\u001b[0m\n\u001b[1;32m----> 3\u001b[1;33m \u001b[0mconn2\u001b[0m\u001b[1;33m.\u001b[0m\u001b[0mexecute\u001b[0m\u001b[1;33m(\u001b[0m\u001b[0mquery\u001b[0m\u001b[1;33m)\u001b[0m\u001b[1;33m\u001b[0m\u001b[1;33m\u001b[0m\u001b[0m\n\u001b[0m",
      "\u001b[1;31mIntegrityError\u001b[0m: UNIQUE constraint failed: user.userid"
     ]
    }
   ],
   "source": [
    "query = \"INSERT into user values ('005', 'Антонов А.А.', '678', '(979)9779977')\"\n",
    "\n",
    "conn2.execute(query)"
   ]
  },
  {
   "cell_type": "markdown",
   "metadata": {},
   "source": [
    "Соответственно, можно перехватить исключение:"
   ]
  },
  {
   "cell_type": "code",
   "execution_count": 28,
   "metadata": {
    "ExecuteTime": {
     "end_time": "2020-10-11T15:21:45.263299Z",
     "start_time": "2020-10-11T15:21:45.248724Z"
    }
   },
   "outputs": [
    {
     "name": "stdout",
     "output_type": "stream",
     "text": [
      "Произошла ошибка:  UNIQUE constraint failed: user.userid\n"
     ]
    }
   ],
   "source": [
    "try:\n",
    "    conn2.execute(query)\n",
    "except sqlite3.IntegrityError as e:\n",
    "    print(\"Произошла ошибка: \", e)\n",
    "    \n",
    "conn2.close()   "
   ]
  },
  {
   "cell_type": "markdown",
   "metadata": {},
   "source": [
    "Обратите внимание, что надо перехватывать исключение sqlite3.IntegrityError, а не IntegrityError."
   ]
  },
  {
   "cell_type": "markdown",
   "metadata": {},
   "source": [
    "## SQL запросы к базе данных Instacart"
   ]
  },
  {
   "cell_type": "markdown",
   "metadata": {},
   "source": [
    "SQL запросы к базе данных Instacart будут предусматривать соединение различных таблиц базы данных. Например, подсчитаем количество заказов в разбивке по департаментам:"
   ]
  },
  {
   "cell_type": "code",
   "execution_count": 29,
   "metadata": {
    "ExecuteTime": {
     "end_time": "2020-10-11T15:22:00.387223Z",
     "start_time": "2020-10-11T15:21:53.924861Z"
    }
   },
   "outputs": [
    {
     "name": "stdout",
     "output_type": "stream",
     "text": [
      "(3105, 'alcohol')\n",
      "(6362, 'babies')\n",
      "(36424, 'bakery')\n",
      "(61482, 'beverages')\n",
      "(21879, 'breakfast')\n",
      "(1323, 'bulk')\n",
      "(29416, 'canned goods')\n",
      "(87400, 'dairy eggs')\n",
      "(32281, 'deli')\n",
      "(25876, 'dry goods pasta')\n",
      "(51071, 'frozen')\n",
      "(21647, 'household')\n",
      "(9716, 'international')\n",
      "(24286, 'meat seafood')\n",
      "(6933, 'missing')\n",
      "(1725, 'other')\n",
      "(47599, 'pantry')\n",
      "(14908, 'personal care')\n",
      "(2729, 'pets')\n",
      "(96927, 'produce')\n",
      "(57302, 'snacks')\n"
     ]
    }
   ],
   "source": [
    "for row in cursor.execute(\"\"\"\n",
    "        SELECT count(DISTINCT ord.order_id),dept.department \n",
    "        FROM order_products__train as ord,products as prod,departments as dept \n",
    "        WHERE ord.product_id=prod.product_id AND prod.department_id=dept.department_id \n",
    "        GROUP BY dept.department\n",
    "        \"\"\"):\n",
    "    print(row)"
   ]
  },
  {
   "cell_type": "markdown",
   "metadata": {},
   "source": [
    "Получим количество заказов в разбивке по дням недели:"
   ]
  },
  {
   "cell_type": "code",
   "execution_count": 30,
   "metadata": {
    "ExecuteTime": {
     "end_time": "2020-10-11T15:23:39.636520Z",
     "start_time": "2020-10-11T15:23:35.451134Z"
    }
   },
   "outputs": [
    {
     "name": "stdout",
     "output_type": "stream",
     "text": [
      "(600905, 'Sunday')\n",
      "(587478, 'Monday')\n",
      "(467260, 'Tuesday')\n",
      "(453368, 'Friday')\n",
      "(448761, 'Saturday')\n",
      "(436972, 'Wednesday')\n",
      "(426339, 'Thursday')\n"
     ]
    }
   ],
   "source": [
    "for row in cursor.execute(\"\"\"\n",
    "    select \n",
    "      count(order_id) as total_orders, \n",
    "      (case \n",
    "         when order_dow = '0' then 'Sunday'\n",
    "         when order_dow = '1' then 'Monday'\n",
    "         when order_dow = '2' then 'Tuesday'\n",
    "         when order_dow = '3' then 'Wednesday'\n",
    "         when order_dow = '4' then 'Thursday'\n",
    "         when order_dow = '5' then 'Friday'\n",
    "         when order_dow = '6' then 'Saturday'              \n",
    "       end) as day_of_week \n",
    "      from orders  \n",
    "     group by order_dow \n",
    "     order by total_orders desc\n",
    "     \"\"\"):\n",
    "    print(row)"
   ]
  },
  {
   "cell_type": "markdown",
   "metadata": {},
   "source": [
    "Получим количество заказов в разбивке по часам дня:"
   ]
  },
  {
   "cell_type": "code",
   "execution_count": 31,
   "metadata": {
    "ExecuteTime": {
     "end_time": "2020-10-11T15:23:46.139383Z",
     "start_time": "2020-10-11T15:23:41.729897Z"
    }
   },
   "outputs": [
    {
     "name": "stdout",
     "output_type": "stream",
     "text": [
      "(22758, '00')\n",
      "(12398, '01')\n",
      "(7539, '02')\n",
      "(5474, '03')\n",
      "(5527, '04')\n",
      "(9569, '05')\n",
      "(30529, '06')\n",
      "(91868, '07')\n",
      "(178201, '08')\n",
      "(257812, '09')\n",
      "(288418, '10')\n",
      "(284728, '11')\n",
      "(272841, '12')\n",
      "(277999, '13')\n",
      "(283042, '14')\n",
      "(283639, '15')\n",
      "(272553, '16')\n",
      "(228795, '17')\n",
      "(182912, '18')\n",
      "(140569, '19')\n",
      "(104292, '20')\n",
      "(78109, '21')\n",
      "(61468, '22')\n",
      "(40043, '23')\n"
     ]
    }
   ],
   "source": [
    "for row in cursor.execute(\"\"\"\n",
    "    select \n",
    "      count(order_id) as total_orders, \n",
    "      order_hour_of_day as hour \n",
    "      from orders \n",
    "     group by order_hour_of_day \n",
    "     order by order_hour_of_day\n",
    "          \"\"\"):\n",
    "    print(row)"
   ]
  },
  {
   "cell_type": "markdown",
   "metadata": {},
   "source": [
    "Получим 10 наиболее популярных продуктов:"
   ]
  },
  {
   "cell_type": "code",
   "execution_count": 32,
   "metadata": {
    "ExecuteTime": {
     "end_time": "2020-10-11T15:23:51.853230Z",
     "start_time": "2020-10-11T15:23:46.142375Z"
    }
   },
   "outputs": [
    {
     "name": "stdout",
     "output_type": "stream",
     "text": [
      "(18726, 'Banana')\n",
      "(15480, 'Bag of Organic Bananas')\n",
      "(10894, 'Organic Strawberries')\n",
      "(9784, 'Organic Baby Spinach')\n",
      "(8135, 'Large Lemon')\n",
      "(7409, 'Organic Avocado')\n",
      "(7293, 'Organic Hass Avocado')\n",
      "(6494, 'Strawberries')\n",
      "(6033, 'Limes')\n",
      "(5546, 'Organic Raspberries')\n"
     ]
    }
   ],
   "source": [
    "for row in cursor.execute(\"\"\"\n",
    "    select count(opp.order_id) as orders, p.product_name as popular_product\n",
    "    from order_products__train opp, products p\n",
    "    where p.product_id = opp.product_id \n",
    "    group by popular_product \n",
    "    order by orders desc \n",
    "    limit 10\n",
    "    \"\"\"):\n",
    "    print(row)"
   ]
  },
  {
   "cell_type": "code",
   "execution_count": 33,
   "metadata": {
    "ExecuteTime": {
     "end_time": "2020-10-11T15:23:51.861169Z",
     "start_time": "2020-10-11T15:23:51.855187Z"
    }
   },
   "outputs": [],
   "source": [
    "conn.close()"
   ]
  },
  {
   "cell_type": "markdown",
   "metadata": {},
   "source": [
    "## Модуль itertools"
   ]
  },
  {
   "cell_type": "markdown",
   "metadata": {},
   "source": [
    "Модуль itertools расширяет функционал Python, связанный с созданием последовательностей объектов и манипулированием ими."
   ]
  },
  {
   "cell_type": "markdown",
   "metadata": {},
   "source": [
    "### Функция combinations()"
   ]
  },
  {
   "cell_type": "markdown",
   "metadata": {},
   "source": [
    "Функция combinations() позволяет комбинировать отдельные элементы последовательности и принимает два аргумента. Первый позволяет задать определенный объект, а второй – количество значений, которые будут присутствовать в каждом новом элементе. "
   ]
  },
  {
   "cell_type": "code",
   "execution_count": 34,
   "metadata": {
    "ExecuteTime": {
     "end_time": "2020-10-11T15:24:41.912128Z",
     "start_time": "2020-10-11T15:24:41.906108Z"
    }
   },
   "outputs": [
    {
     "name": "stdout",
     "output_type": "stream",
     "text": [
      "[('Р', 'У'), ('Р', 'Д'), ('Р', 'Н'), ('У', 'Д'), ('У', 'Н'), ('Д', 'Н')]\n"
     ]
    }
   ],
   "source": [
    "from itertools import combinations\n",
    "data = list(combinations('РУДН', 2))\n",
    "print(data)"
   ]
  },
  {
   "cell_type": "markdown",
   "metadata": {},
   "source": [
    "Как видно из кода, функция получает строку `РУДН`, которая впоследствии раскладывается на отдельные символы. Далее происходит группировка по 2 буквы так, чтобы каждая новая выборка отличалась от всех существующих. Функция print выводит полученный список data на экран, отображая все сформированные пары символов `Р`, `У`, `Д`, `Н`."
   ]
  },
  {
   "cell_type": "markdown",
   "metadata": {},
   "source": [
    "Аналогично функция combinations работает и со списками:"
   ]
  },
  {
   "cell_type": "code",
   "execution_count": 35,
   "metadata": {
    "ExecuteTime": {
     "end_time": "2020-10-11T15:24:43.950984Z",
     "start_time": "2020-10-11T15:24:43.945997Z"
    }
   },
   "outputs": [
    {
     "name": "stdout",
     "output_type": "stream",
     "text": [
      "[(1, 2, 3), (1, 2, 4), (1, 2, 5), (1, 3, 4), (1, 3, 5), (1, 4, 5), (2, 3, 4), (2, 3, 5), (2, 4, 5), (3, 4, 5)]\n"
     ]
    }
   ],
   "source": [
    "data2 = list(combinations([1,2,3,4,5], 3))\n",
    "print(data2)"
   ]
  },
  {
   "cell_type": "markdown",
   "metadata": {},
   "source": [
    "### Функция chain()"
   ]
  },
  {
   "cell_type": "markdown",
   "metadata": {},
   "source": [
    "Функция chain() выполняет объединение списков, возвращая итератор, как это показано в следующем примере. Итоговый массив содержит все элементы данных последовательностей."
   ]
  },
  {
   "cell_type": "code",
   "execution_count": 36,
   "metadata": {
    "ExecuteTime": {
     "end_time": "2020-10-11T15:24:49.040990Z",
     "start_time": "2020-10-11T15:24:49.034008Z"
    }
   },
   "outputs": [
    {
     "name": "stdout",
     "output_type": "stream",
     "text": [
      "['Р', 'У', 'Д', 'Н', 1, 2, 3, 4, 5]\n"
     ]
    }
   ],
   "source": [
    "from itertools import chain\n",
    "list1 = ['Р', 'У', 'Д', 'Н']\n",
    "list2 = [1, 2, 3, 4, 5]\n",
    "data = list(chain(list1, list2))\n",
    "print(data)"
   ]
  },
  {
   "cell_type": "markdown",
   "metadata": {},
   "source": [
    "### Функция chain.from_iterable()"
   ]
  },
  {
   "cell_type": "markdown",
   "metadata": {},
   "source": [
    "Функция работает аналогично функции chain, выполняя объединение списков. Отличие заключается в том, что аргумент только один – вложенный список со списками, которые надо объединить."
   ]
  },
  {
   "cell_type": "code",
   "execution_count": 37,
   "metadata": {
    "ExecuteTime": {
     "end_time": "2020-10-11T15:25:10.081193Z",
     "start_time": "2020-10-11T15:25:10.075209Z"
    }
   },
   "outputs": [
    {
     "name": "stdout",
     "output_type": "stream",
     "text": [
      "['Р', 'У', 'Д', 'Н', 1, 2, 3, 4, 5]\n"
     ]
    }
   ],
   "source": [
    "from itertools import chain\n",
    "list0 = [['Р', 'У', 'Д', 'Н'], [1, 2, 3, 4, 5]]\n",
    "data = list(chain.from_iterable(list0))\n",
    "print(data)"
   ]
  },
  {
   "cell_type": "markdown",
   "metadata": {},
   "source": [
    "### Множество всех подмножеств"
   ]
  },
  {
   "cell_type": "markdown",
   "metadata": {},
   "source": [
    "Для построения множества всех подмножеств данного множества (в теоретико-множественном смысле) можем использовать следующую функцию:"
   ]
  },
  {
   "cell_type": "code",
   "execution_count": 38,
   "metadata": {
    "ExecuteTime": {
     "end_time": "2020-10-11T15:25:17.810729Z",
     "start_time": "2020-10-11T15:25:17.802753Z"
    }
   },
   "outputs": [
    {
     "name": "stdout",
     "output_type": "stream",
     "text": [
      "[(), (1,), (2,), (3,), (4,), (1, 2), (1, 3), (1, 4), (2, 3), (2, 4), (3, 4), (1, 2, 3), (1, 2, 4), (1, 3, 4), (2, 3, 4), (1, 2, 3, 4)]\n"
     ]
    }
   ],
   "source": [
    "from itertools import chain, combinations\n",
    "\n",
    "def powerset(iterable):\n",
    "    xs = list(iterable)\n",
    "    # возвращаем итератор, а не список\n",
    "    return chain.from_iterable(combinations(xs,n) for n in range(len(xs)+1))\n",
    "\n",
    "print(list(powerset([1,2,3,4])))"
   ]
  },
  {
   "cell_type": "markdown",
   "metadata": {},
   "source": [
    "## Поиск ассоциативных правил в учебном наборе транзакций"
   ]
  },
  {
   "cell_type": "markdown",
   "metadata": {},
   "source": [
    "Будем использовать следующий учебный набор транзакций:"
   ]
  },
  {
   "cell_type": "code",
   "execution_count": 39,
   "metadata": {
    "ExecuteTime": {
     "end_time": "2020-10-11T15:25:25.955474Z",
     "start_time": "2020-10-11T15:25:25.947532Z"
    }
   },
   "outputs": [],
   "source": [
    "D_train = [\n",
    "    [ 1, {\"A\",\"B\",\"D\",\"E\"} ],\n",
    "    [ 2, {\"B\",\"C\",\"E\"} ],\n",
    "    [ 3, {\"A\",\"B\",\"D\",\"E\"} ],\n",
    "    [ 4, {\"A\",\"B\",\"C\",\"E\"} ],\n",
    "    [ 5, {\"A\",\"B\",\"C\",\"D\",\"E\"} ],\n",
    "    [ 6, {\"B\",\"C\",\"D\"} ],\n",
    "]"
   ]
  },
  {
   "cell_type": "markdown",
   "metadata": {},
   "source": [
    "Чтобы посчитать поддержку заданного набора предметов, будем использовать следуюшую функцию:"
   ]
  },
  {
   "cell_type": "code",
   "execution_count": 40,
   "metadata": {
    "ExecuteTime": {
     "end_time": "2020-10-11T15:25:27.640045Z",
     "start_time": "2020-10-11T15:25:27.634061Z"
    }
   },
   "outputs": [],
   "source": [
    "def ComputeSupport( X, D ):\n",
    "    supX = 0\n",
    "    for _,itemset in D:\n",
    "        if X.issubset( itemset ):\n",
    "            supX += 1\n",
    "    return supX"
   ]
  },
  {
   "cell_type": "markdown",
   "metadata": {},
   "source": [
    "Например,"
   ]
  },
  {
   "cell_type": "code",
   "execution_count": 41,
   "metadata": {
    "ExecuteTime": {
     "end_time": "2020-10-11T15:25:28.754565Z",
     "start_time": "2020-10-11T15:25:28.747586Z"
    }
   },
   "outputs": [
    {
     "name": "stdout",
     "output_type": "stream",
     "text": [
      "\n",
      "sup( {'E', 'C', 'B'} ) = 3\n"
     ]
    }
   ],
   "source": [
    "X = {\"B\",\"C\",\"E\"}\n",
    "\n",
    "print(\"\\nsup(\", X, \") =\", ComputeSupport(X, D_train))"
   ]
  },
  {
   "cell_type": "markdown",
   "metadata": {},
   "source": [
    "Для построения множества всех подмножеств используем функцию powerset():"
   ]
  },
  {
   "cell_type": "code",
   "execution_count": 43,
   "metadata": {
    "ExecuteTime": {
     "end_time": "2020-10-11T15:26:10.573152Z",
     "start_time": "2020-10-11T15:26:10.565176Z"
    }
   },
   "outputs": [
    {
     "name": "stdout",
     "output_type": "stream",
     "text": [
      "\n",
      "Множество всех подмножеств множества {'E', 'B', 'A', 'D', 'C'} :\n",
      "()\n",
      "('E',)\n",
      "('B',)\n",
      "('A',)\n",
      "('D',)\n",
      "('C',)\n",
      "('E', 'B')\n",
      "('E', 'A')\n",
      "('E', 'D')\n",
      "('E', 'C')\n",
      "('B', 'A')\n",
      "('B', 'D')\n",
      "('B', 'C')\n",
      "('A', 'D')\n",
      "('A', 'C')\n",
      "('D', 'C')\n",
      "('E', 'B', 'A')\n",
      "('E', 'B', 'D')\n",
      "('E', 'B', 'C')\n",
      "('E', 'A', 'D')\n",
      "('E', 'A', 'C')\n",
      "('E', 'D', 'C')\n",
      "('B', 'A', 'D')\n",
      "('B', 'A', 'C')\n",
      "('B', 'D', 'C')\n",
      "('A', 'D', 'C')\n",
      "('E', 'B', 'A', 'D')\n",
      "('E', 'B', 'A', 'C')\n",
      "('E', 'B', 'D', 'C')\n",
      "('E', 'A', 'D', 'C')\n",
      "('B', 'A', 'D', 'C')\n",
      "('E', 'B', 'A', 'D', 'C')\n"
     ]
    }
   ],
   "source": [
    "I = {\"A\",\"B\",\"C\", \"D\", \"E\"}\n",
    "\n",
    "print(\"\\nМножество всех подмножеств множества\", I, \":\")  \n",
    "for itemset in powerset( I ):\n",
    "    print( itemset )"
   ]
  },
  {
   "cell_type": "markdown",
   "metadata": {},
   "source": [
    "### Построение популярных наборов предметов"
   ]
  },
  {
   "cell_type": "markdown",
   "metadata": {},
   "source": [
    "Алгоритм BruteForce может быть реализован следующим образом:"
   ]
  },
  {
   "cell_type": "code",
   "execution_count": 44,
   "metadata": {
    "ExecuteTime": {
     "end_time": "2020-10-11T15:26:16.478866Z",
     "start_time": "2020-10-11T15:26:16.473879Z"
    }
   },
   "outputs": [],
   "source": [
    "def BruteForce( D, I, minsup ):\n",
    "    F = []\n",
    "    for X in powerset( I ):\n",
    "        if len( X ) > 0:\n",
    "            supX = ComputeSupport( set( X ), D )\n",
    "            if supX >= minsup:\n",
    "                F.append( [ X, supX ] )\n",
    "    return F"
   ]
  },
  {
   "cell_type": "markdown",
   "metadata": {},
   "source": [
    "Построим популярные наборы для заданного уровня минимальной поддержки:"
   ]
  },
  {
   "cell_type": "code",
   "execution_count": 45,
   "metadata": {
    "ExecuteTime": {
     "end_time": "2020-10-11T15:26:18.880524Z",
     "start_time": "2020-10-11T15:26:18.874541Z"
    }
   },
   "outputs": [
    {
     "name": "stdout",
     "output_type": "stream",
     "text": [
      "\n",
      "Популярные наборы предметов для minsup = 3 :\n",
      "[('E',), 5]\n",
      "[('B',), 6]\n",
      "[('A',), 4]\n",
      "[('D',), 4]\n",
      "[('C',), 4]\n",
      "[('E', 'B'), 5]\n",
      "[('E', 'A'), 4]\n",
      "[('E', 'D'), 3]\n",
      "[('E', 'C'), 3]\n",
      "[('B', 'A'), 4]\n",
      "[('B', 'D'), 4]\n",
      "[('B', 'C'), 4]\n",
      "[('A', 'D'), 3]\n",
      "[('E', 'B', 'A'), 4]\n",
      "[('E', 'B', 'D'), 3]\n",
      "[('E', 'B', 'C'), 3]\n",
      "[('E', 'A', 'D'), 3]\n",
      "[('B', 'A', 'D'), 3]\n",
      "[('E', 'B', 'A', 'D'), 3]\n"
     ]
    }
   ],
   "source": [
    "minsup = 3\n",
    "\n",
    "print(\"\\nПопулярные наборы предметов для minsup =\", minsup, \":\") \n",
    "\n",
    "for itemset in BruteForce( D_train, I, minsup ):\n",
    "    print( itemset )"
   ]
  },
  {
   "cell_type": "markdown",
   "metadata": {},
   "source": [
    "Замечание. При построении дерева префиксов в алгоритмах Apriori, Eclat и dEclat нужно разделять названия предметов (товаров) каким-либо символом (разделителем), который не встречается в названиях."
   ]
  },
  {
   "cell_type": "markdown",
   "metadata": {},
   "source": [
    "### Построение ассоциативных правил"
   ]
  },
  {
   "cell_type": "markdown",
   "metadata": {},
   "source": [
    "Будем считать, что задан популярный набор предметов и задача состоит в получении ассоциативных правил с заданным минимальным уровнем достоверности.  "
   ]
  },
  {
   "cell_type": "code",
   "execution_count": 46,
   "metadata": {
    "ExecuteTime": {
     "end_time": "2020-10-11T15:26:47.144009Z",
     "start_time": "2020-10-11T15:26:47.139023Z"
    }
   },
   "outputs": [
    {
     "data": {
      "text/plain": [
       "('E', 'B', 'A', 'D')"
      ]
     },
     "execution_count": 46,
     "metadata": {},
     "output_type": "execute_result"
    }
   ],
   "source": [
    "F_set, _ = BruteForce( D_train, I, minsup )[-1]\n",
    "F_set"
   ]
  },
  {
   "cell_type": "markdown",
   "metadata": {},
   "source": [
    "Алгоритм AssociationRules для случая построения ассоциативных правил по заданному популярному набору предметов может быть реализован следующим образом:"
   ]
  },
  {
   "cell_type": "code",
   "execution_count": 47,
   "metadata": {
    "ExecuteTime": {
     "end_time": "2020-10-11T15:26:58.809444Z",
     "start_time": "2020-10-11T15:26:58.794482Z"
    }
   },
   "outputs": [
    {
     "data": {
      "text/plain": [
       "[[('B', 'A', 'D'), ['E'], 3, 1.0],\n",
       " [('E', 'A', 'D'), ['B'], 3, 1.0],\n",
       " [('E', 'B', 'D'), ['A'], 3, 1.0],\n",
       " [('A', 'D'), ['B', 'E'], 3, 1.0],\n",
       " [('E', 'D'), ['A', 'B'], 3, 1.0]]"
      ]
     },
     "execution_count": 47,
     "metadata": {},
     "output_type": "execute_result"
    }
   ],
   "source": [
    "def powersetk(iterable,k):\n",
    "    xs = list(iterable)\n",
    "    # возвращаем итератор, а не список\n",
    "    return chain.from_iterable(combinations(xs,n) for n in range(k,len(xs)+1))\n",
    "\n",
    "def AssociationRules(D, Z_set, minconf):\n",
    "    A_rules = []\n",
    "    supZ = ComputeSupport(set(Z_set), D)\n",
    "    A_set = list(powersetk(Z_set,1))[:-1]\n",
    "    # print(\"\\nA_set:\",A_set)\n",
    "    while len(A_set)>0:\n",
    "        X_set = A_set[-1]\n",
    "        #print(\"\\nX_set:\",X_set)\n",
    "        A_set.pop()\n",
    "        conf = supZ/ComputeSupport(set(X_set), D)\n",
    "        if conf >= minconf:\n",
    "            Y_set = sorted(list(set(Z_set)-set(X_set)))\n",
    "            A_rules.append([X_set, Y_set, supZ, conf])\n",
    "        else:\n",
    "            for W_set in powersetk(X_set,1):\n",
    "                if W_set in A_set:\n",
    "                    A_set.remove(W_set)\n",
    "    return A_rules\n",
    "\n",
    "AssociationRules(D_train, F_set, 0.9)"
   ]
  },
  {
   "cell_type": "markdown",
   "metadata": {},
   "source": [
    "### Задание на лабораторную работу №3"
   ]
  },
  {
   "cell_type": "markdown",
   "metadata": {},
   "source": [
    "#### Задание (10 баллов)"
   ]
  },
  {
   "cell_type": "markdown",
   "metadata": {},
   "source": [
    "Для закрепленного за Вами варианта лабораторной работы:\n",
    "\n",
    "1.\tПри помощи модуля sqlite3 откройте базу данных Instacart в файле instacart.db.\n",
    "\n",
    "2.\tПри помощи запроса SELECT извлеките из таблицы order_products__train записи, соответствующие указанным в индивидуальном задании дню недели (поле order_dow таблицы orders) и коду департамента (поле department_id таблицы products). Определите количество записей в полученном наборе и определите количество товаров (поле order_id таблицы order_products__train) в транзакциях набора.\n",
    "\n",
    "3.\tОпределите количество покупок (транзакций) для пяти наиболее популярных товаров в наборе.\n",
    "\n",
    "4.\tПостройте транзакционную базу данных для поиск ассоциативных правил из полученного набора записей таблицы order_products__train, используя в качестве идентификатора транзакции поле order_id, а в качестве названий товаров - поле product_name из таблицы products, соответствующее полю product_id.\n",
    "\n",
    "5.\tРеализуйте указанный в индивидуальном задании метод построения популярных наборов предметов (Apriori/Eclat/Declat) (3 балла) или используйте метод BruteForce (0 баллов). Протестируйте корректность реализации алгоритма на учебном наборе данных из материалов лекции.\n",
    "\n",
    "6.\tПри помощи указанного в индивидуальном задании метода или метода BruteForce постройте популярные наборы товаров с минимальной поддержкой, равной половине среднего количества покупок пяти наиболее популярных товаров. В случае нехватки вычислительных ресурсов (слишком долгой работы программы) при построении популярных наборов товаров оставьте в наборе данных транзакции с 10 наиболее популярными товарами и сокращайте число записей (например, методом деления пополам).\n",
    "\n",
    "7.\tДля какого-либо из полученных популярных наборов товаров постройте набор ассоциативных правил.\n",
    "\n",
    "8.\tДля построенного набора ассоциативных правил вычислите показатели: support, confidence, lift, leverage, conviction и выведите на экран.\n"
   ]
  },
  {
   "cell_type": "code",
   "execution_count": null,
   "metadata": {},
   "outputs": [],
   "source": []
  }
 ],
 "metadata": {
  "kernelspec": {
   "display_name": "Python 3",
   "language": "python",
   "name": "python3"
  },
  "language_info": {
   "codemirror_mode": {
    "name": "ipython",
    "version": 3
   },
   "file_extension": ".py",
   "mimetype": "text/x-python",
   "name": "python",
   "nbconvert_exporter": "python",
   "pygments_lexer": "ipython3",
   "version": "3.7.3"
  }
 },
 "nbformat": 4,
 "nbformat_minor": 4
}
