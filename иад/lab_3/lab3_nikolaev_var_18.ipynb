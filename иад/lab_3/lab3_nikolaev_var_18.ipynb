{
 "cells": [
  {
   "cell_type": "markdown",
   "metadata": {},
   "source": [
    "### РОССИЙСКИЙ УНИВЕРСИТЕТ ДРУЖБЫ НАРОДОВ"
   ]
  },
  {
   "cell_type": "markdown",
   "metadata": {},
   "source": [
    "#### Факультет физико-математических и естественных наук  \n",
    "#### Кафедра информационных технологий "
   ]
  },
  {
   "cell_type": "markdown",
   "metadata": {},
   "source": [
    "## ОТЧЕТ ПО ЛАБОРАТОРНОЙ РАБОТЕ №3"
   ]
  },
  {
   "cell_type": "markdown",
   "metadata": {},
   "source": [
    "#### Дисциплина: Интеллектуальный анализ данных"
   ]
  },
  {
   "cell_type": "markdown",
   "metadata": {},
   "source": [
    "##### Студент:  Николаев Александр Викторович\n",
    "##### Группа:   НФИбд-01-17"
   ]
  },
  {
   "cell_type": "markdown",
   "metadata": {},
   "source": [
    "## Москва 2020\n",
    "***"
   ]
  },
  {
   "cell_type": "markdown",
   "metadata": {},
   "source": [
    "### Вариант №18"
   ]
  },
  {
   "cell_type": "markdown",
   "metadata": {},
   "source": [
    "1.\tПри помощи модуля sqlite3 откроем базу данных Instacart в файле instacart.db."
   ]
  },
  {
   "cell_type": "code",
   "execution_count": 1,
   "metadata": {
    "ExecuteTime": {
     "end_time": "2020-10-11T18:07:18.228577Z",
     "start_time": "2020-10-11T18:07:18.224586Z"
    }
   },
   "outputs": [],
   "source": [
    "import sqlite3\n",
    "\n",
    "conn = sqlite3.connect('instacart.db')"
   ]
  },
  {
   "cell_type": "markdown",
   "metadata": {},
   "source": [
    "2. При помощи запроса SELECT извлекаем из таблицы order_products__train записи, с order_dow = 2 и department_id = 8. Определяем количество записей в полученном наборе и количество товаров в транзакциях набора."
   ]
  },
  {
   "cell_type": "code",
   "execution_count": 2,
   "metadata": {
    "ExecuteTime": {
     "end_time": "2020-10-11T18:07:28.814615Z",
     "start_time": "2020-10-11T18:07:18.231567Z"
    }
   },
   "outputs": [],
   "source": [
    "import pandas as pd\n",
    "\n",
    "query =\\\n",
    "'''\n",
    "select distinct \n",
    "    train.*, products.product_name\n",
    "from\n",
    "    order_products__train as train\n",
    "join\n",
    "    orders\n",
    "on\n",
    "    train.order_id = orders.order_id\n",
    "join\n",
    "    products\n",
    "on\n",
    "    train.product_id = products.product_id\n",
    "where\n",
    "    orders.order_dow = 2\n",
    "and\n",
    "    products.department_id = 8\n",
    "'''\n",
    "data = pd.read_sql(query, conn)"
   ]
  },
  {
   "cell_type": "code",
   "execution_count": 3,
   "metadata": {
    "ExecuteTime": {
     "end_time": "2020-10-11T18:07:28.847903Z",
     "start_time": "2020-10-11T18:07:28.817889Z"
    }
   },
   "outputs": [
    {
     "data": {
      "text/html": [
       "<div>\n",
       "<style scoped>\n",
       "    .dataframe tbody tr th:only-of-type {\n",
       "        vertical-align: middle;\n",
       "    }\n",
       "\n",
       "    .dataframe tbody tr th {\n",
       "        vertical-align: top;\n",
       "    }\n",
       "\n",
       "    .dataframe thead th {\n",
       "        text-align: right;\n",
       "    }\n",
       "</style>\n",
       "<table border=\"1\" class=\"dataframe\">\n",
       "  <thead>\n",
       "    <tr style=\"text-align: right;\">\n",
       "      <th></th>\n",
       "      <th>order_id</th>\n",
       "      <th>product_id</th>\n",
       "      <th>add_to_cart_order</th>\n",
       "      <th>reordered</th>\n",
       "      <th>product_name</th>\n",
       "    </tr>\n",
       "  </thead>\n",
       "  <tbody>\n",
       "    <tr>\n",
       "      <th>0</th>\n",
       "      <td>3088145</td>\n",
       "      <td>377</td>\n",
       "      <td>4</td>\n",
       "      <td>1</td>\n",
       "      <td>Chunky Beef with Vegetables &amp; Brown Rice Dog Food</td>\n",
       "    </tr>\n",
       "    <tr>\n",
       "      <th>1</th>\n",
       "      <td>3174585</td>\n",
       "      <td>49193</td>\n",
       "      <td>1</td>\n",
       "      <td>1</td>\n",
       "      <td>SmartBlend Chicken &amp; Rice Formula Adult Dry Do...</td>\n",
       "    </tr>\n",
       "    <tr>\n",
       "      <th>2</th>\n",
       "      <td>2689040</td>\n",
       "      <td>30464</td>\n",
       "      <td>5</td>\n",
       "      <td>0</td>\n",
       "      <td>Original Beef Flavor Dog Snacks</td>\n",
       "    </tr>\n",
       "    <tr>\n",
       "      <th>3</th>\n",
       "      <td>1995260</td>\n",
       "      <td>17460</td>\n",
       "      <td>1</td>\n",
       "      <td>1</td>\n",
       "      <td>Purina Classic Pate Turkey &amp; Giblets Dinner Ca...</td>\n",
       "    </tr>\n",
       "    <tr>\n",
       "      <th>4</th>\n",
       "      <td>1995260</td>\n",
       "      <td>18489</td>\n",
       "      <td>14</td>\n",
       "      <td>1</td>\n",
       "      <td>Purina Mixed Grill Classic Pate Cat Food</td>\n",
       "    </tr>\n",
       "  </tbody>\n",
       "</table>\n",
       "</div>"
      ],
      "text/plain": [
       "  order_id product_id add_to_cart_order reordered  \\\n",
       "0  3088145        377                 4         1   \n",
       "1  3174585      49193                 1         1   \n",
       "2  2689040      30464                 5         0   \n",
       "3  1995260      17460                 1         1   \n",
       "4  1995260      18489                14         1   \n",
       "\n",
       "                                        product_name  \n",
       "0  Chunky Beef with Vegetables & Brown Rice Dog Food  \n",
       "1  SmartBlend Chicken & Rice Formula Adult Dry Do...  \n",
       "2                    Original Beef Flavor Dog Snacks  \n",
       "3  Purina Classic Pate Turkey & Giblets Dinner Ca...  \n",
       "4           Purina Mixed Grill Classic Pate Cat Food  "
      ]
     },
     "execution_count": 3,
     "metadata": {},
     "output_type": "execute_result"
    }
   ],
   "source": [
    "data.head()"
   ]
  },
  {
   "cell_type": "code",
   "execution_count": 4,
   "metadata": {
    "ExecuteTime": {
     "end_time": "2020-10-11T18:07:28.858867Z",
     "start_time": "2020-10-11T18:07:28.849892Z"
    }
   },
   "outputs": [
    {
     "name": "stdout",
     "output_type": "stream",
     "text": [
      "Количество записей = 459\n",
      "Количество товаров в транзакциях набора = 310\n"
     ]
    }
   ],
   "source": [
    "print(f'Количество записей = {len(data)}')\n",
    "print(f'Количество товаров в транзакциях набора = {data.order_id.nunique()}')"
   ]
  },
  {
   "cell_type": "markdown",
   "metadata": {},
   "source": [
    "3. Определяем количество покупок (транзакций) для пяти наиболее популярных товаров в наборе."
   ]
  },
  {
   "cell_type": "markdown",
   "metadata": {},
   "source": [
    "Посмотрим на 10 самых популярных товаров"
   ]
  },
  {
   "cell_type": "code",
   "execution_count": 5,
   "metadata": {
    "ExecuteTime": {
     "end_time": "2020-10-11T18:07:28.872829Z",
     "start_time": "2020-10-11T18:07:28.861859Z"
    }
   },
   "outputs": [
    {
     "data": {
      "text/plain": [
       "product_id\n",
       "49355    12\n",
       "15175     7\n",
       "16647     6\n",
       "37520     6\n",
       "12905     5\n",
       "16997     5\n",
       "30464     5\n",
       "35412     5\n",
       "48505     5\n",
       "54        5\n",
       "Name: order_id, dtype: int64"
      ]
     },
     "execution_count": 5,
     "metadata": {},
     "output_type": "execute_result"
    }
   ],
   "source": [
    "data.groupby('product_id')['order_id'].count().nlargest(10)"
   ]
  },
  {
   "cell_type": "markdown",
   "metadata": {},
   "source": [
    "Поскольку 5-й по популярности выбрать невозможно, возьмем любой, например 12905"
   ]
  },
  {
   "cell_type": "markdown",
   "metadata": {},
   "source": [
    "Таким образом, 5 самых популярных товаров:"
   ]
  },
  {
   "cell_type": "code",
   "execution_count": 6,
   "metadata": {
    "ExecuteTime": {
     "end_time": "2020-10-11T18:07:28.903749Z",
     "start_time": "2020-10-11T18:07:28.875821Z"
    }
   },
   "outputs": [
    {
     "name": "stdout",
     "output_type": "stream",
     "text": [
      "Топ 5 популярных товаров:\n"
     ]
    },
    {
     "data": {
      "text/html": [
       "<div>\n",
       "<style scoped>\n",
       "    .dataframe tbody tr th:only-of-type {\n",
       "        vertical-align: middle;\n",
       "    }\n",
       "\n",
       "    .dataframe tbody tr th {\n",
       "        vertical-align: top;\n",
       "    }\n",
       "\n",
       "    .dataframe thead th {\n",
       "        text-align: right;\n",
       "    }\n",
       "</style>\n",
       "<table border=\"1\" class=\"dataframe\">\n",
       "  <thead>\n",
       "    <tr style=\"text-align: right;\">\n",
       "      <th></th>\n",
       "      <th>order_count</th>\n",
       "      <th>product_name</th>\n",
       "    </tr>\n",
       "    <tr>\n",
       "      <th>product_id</th>\n",
       "      <th></th>\n",
       "      <th></th>\n",
       "    </tr>\n",
       "  </thead>\n",
       "  <tbody>\n",
       "    <tr>\n",
       "      <th>49355</th>\n",
       "      <td>12</td>\n",
       "      <td>Instant Action Cat Litter</td>\n",
       "    </tr>\n",
       "    <tr>\n",
       "      <th>15175</th>\n",
       "      <td>7</td>\n",
       "      <td>24/7 Performance Light Weight Cat Litter</td>\n",
       "    </tr>\n",
       "    <tr>\n",
       "      <th>16647</th>\n",
       "      <td>6</td>\n",
       "      <td>Double Duty Advanced Odor Control Clumping Cat...</td>\n",
       "    </tr>\n",
       "    <tr>\n",
       "      <th>37520</th>\n",
       "      <td>6</td>\n",
       "      <td>Indoor Cat Food</td>\n",
       "    </tr>\n",
       "    <tr>\n",
       "      <th>12905</th>\n",
       "      <td>5</td>\n",
       "      <td>Adult Indoor Advantage Cat Food</td>\n",
       "    </tr>\n",
       "  </tbody>\n",
       "</table>\n",
       "</div>"
      ],
      "text/plain": [
       "            order_count                                       product_name\n",
       "product_id                                                                \n",
       "49355                12                          Instant Action Cat Litter\n",
       "15175                 7           24/7 Performance Light Weight Cat Litter\n",
       "16647                 6  Double Duty Advanced Odor Control Clumping Cat...\n",
       "37520                 6                                    Indoor Cat Food\n",
       "12905                 5                    Adult Indoor Advantage Cat Food"
      ]
     },
     "execution_count": 6,
     "metadata": {},
     "output_type": "execute_result"
    }
   ],
   "source": [
    "popular_products = (data.groupby('product_id')['order_id'].count().nlargest(5).rename('order_count').\n",
    "                    to_frame().join(data.set_index('product_id')['product_name'].drop_duplicates())\n",
    "                   )\n",
    "print('Топ 5 популярных товаров:')\n",
    "popular_products"
   ]
  },
  {
   "cell_type": "markdown",
   "metadata": {},
   "source": [
    "4. Построем транзакционную базу данных для поиск ассоциативных правил из полученного набора записей таблицы order_products__train, используя в качестве идентификатора транзакции поле order_id, а в качестве названий товаров - поле product_name из таблицы products, соответствующее полю product_id."
   ]
  },
  {
   "cell_type": "code",
   "execution_count": 7,
   "metadata": {
    "ExecuteTime": {
     "end_time": "2020-10-11T18:07:28.931683Z",
     "start_time": "2020-10-11T18:07:28.910728Z"
    }
   },
   "outputs": [
    {
     "data": {
      "text/html": [
       "<div>\n",
       "<style scoped>\n",
       "    .dataframe tbody tr th:only-of-type {\n",
       "        vertical-align: middle;\n",
       "    }\n",
       "\n",
       "    .dataframe tbody tr th {\n",
       "        vertical-align: top;\n",
       "    }\n",
       "\n",
       "    .dataframe thead th {\n",
       "        text-align: right;\n",
       "    }\n",
       "</style>\n",
       "<table border=\"1\" class=\"dataframe\">\n",
       "  <thead>\n",
       "    <tr style=\"text-align: right;\">\n",
       "      <th></th>\n",
       "      <th>order_id</th>\n",
       "      <th>product_id</th>\n",
       "      <th>add_to_cart_order</th>\n",
       "      <th>reordered</th>\n",
       "      <th>product_name</th>\n",
       "    </tr>\n",
       "  </thead>\n",
       "  <tbody>\n",
       "    <tr>\n",
       "      <th>0</th>\n",
       "      <td>3088145</td>\n",
       "      <td>377</td>\n",
       "      <td>4</td>\n",
       "      <td>1</td>\n",
       "      <td>Chunky Beef with Vegetables &amp; Brown Rice Dog Food</td>\n",
       "    </tr>\n",
       "    <tr>\n",
       "      <th>1</th>\n",
       "      <td>3174585</td>\n",
       "      <td>49193</td>\n",
       "      <td>1</td>\n",
       "      <td>1</td>\n",
       "      <td>SmartBlend Chicken &amp; Rice Formula Adult Dry Do...</td>\n",
       "    </tr>\n",
       "    <tr>\n",
       "      <th>2</th>\n",
       "      <td>2689040</td>\n",
       "      <td>30464</td>\n",
       "      <td>5</td>\n",
       "      <td>0</td>\n",
       "      <td>Original Beef Flavor Dog Snacks</td>\n",
       "    </tr>\n",
       "    <tr>\n",
       "      <th>3</th>\n",
       "      <td>1995260</td>\n",
       "      <td>17460</td>\n",
       "      <td>1</td>\n",
       "      <td>1</td>\n",
       "      <td>Purina Classic Pate Turkey &amp; Giblets Dinner Ca...</td>\n",
       "    </tr>\n",
       "    <tr>\n",
       "      <th>4</th>\n",
       "      <td>1995260</td>\n",
       "      <td>18489</td>\n",
       "      <td>14</td>\n",
       "      <td>1</td>\n",
       "      <td>Purina Mixed Grill Classic Pate Cat Food</td>\n",
       "    </tr>\n",
       "    <tr>\n",
       "      <th>...</th>\n",
       "      <td>...</td>\n",
       "      <td>...</td>\n",
       "      <td>...</td>\n",
       "      <td>...</td>\n",
       "      <td>...</td>\n",
       "    </tr>\n",
       "    <tr>\n",
       "      <th>454</th>\n",
       "      <td>1580174</td>\n",
       "      <td>7351</td>\n",
       "      <td>12</td>\n",
       "      <td>0</td>\n",
       "      <td>Multi-Cat Extra Strength Clumping Unscented Ca...</td>\n",
       "    </tr>\n",
       "    <tr>\n",
       "      <th>455</th>\n",
       "      <td>2316225</td>\n",
       "      <td>37068</td>\n",
       "      <td>9</td>\n",
       "      <td>1</td>\n",
       "      <td>24/7 Performance Clumping Litter</td>\n",
       "    </tr>\n",
       "    <tr>\n",
       "      <th>456</th>\n",
       "      <td>2286887</td>\n",
       "      <td>19368</td>\n",
       "      <td>1</td>\n",
       "      <td>1</td>\n",
       "      <td>With Glade Tough Odor Solutions Cat Litter</td>\n",
       "    </tr>\n",
       "    <tr>\n",
       "      <th>457</th>\n",
       "      <td>390836</td>\n",
       "      <td>32635</td>\n",
       "      <td>16</td>\n",
       "      <td>0</td>\n",
       "      <td>Standard Size Pet Waste bags</td>\n",
       "    </tr>\n",
       "    <tr>\n",
       "      <th>458</th>\n",
       "      <td>1345413</td>\n",
       "      <td>45751</td>\n",
       "      <td>4</td>\n",
       "      <td>0</td>\n",
       "      <td>Light Weight Instant Action  Litter</td>\n",
       "    </tr>\n",
       "  </tbody>\n",
       "</table>\n",
       "<p>459 rows × 5 columns</p>\n",
       "</div>"
      ],
      "text/plain": [
       "    order_id product_id add_to_cart_order reordered  \\\n",
       "0    3088145        377                 4         1   \n",
       "1    3174585      49193                 1         1   \n",
       "2    2689040      30464                 5         0   \n",
       "3    1995260      17460                 1         1   \n",
       "4    1995260      18489                14         1   \n",
       "..       ...        ...               ...       ...   \n",
       "454  1580174       7351                12         0   \n",
       "455  2316225      37068                 9         1   \n",
       "456  2286887      19368                 1         1   \n",
       "457   390836      32635                16         0   \n",
       "458  1345413      45751                 4         0   \n",
       "\n",
       "                                          product_name  \n",
       "0    Chunky Beef with Vegetables & Brown Rice Dog Food  \n",
       "1    SmartBlend Chicken & Rice Formula Adult Dry Do...  \n",
       "2                      Original Beef Flavor Dog Snacks  \n",
       "3    Purina Classic Pate Turkey & Giblets Dinner Ca...  \n",
       "4             Purina Mixed Grill Classic Pate Cat Food  \n",
       "..                                                 ...  \n",
       "454  Multi-Cat Extra Strength Clumping Unscented Ca...  \n",
       "455                   24/7 Performance Clumping Litter  \n",
       "456         With Glade Tough Odor Solutions Cat Litter  \n",
       "457                       Standard Size Pet Waste bags  \n",
       "458                Light Weight Instant Action  Litter  \n",
       "\n",
       "[459 rows x 5 columns]"
      ]
     },
     "execution_count": 7,
     "metadata": {},
     "output_type": "execute_result"
    }
   ],
   "source": [
    "data"
   ]
  },
  {
   "cell_type": "code",
   "execution_count": 8,
   "metadata": {
    "ExecuteTime": {
     "end_time": "2020-10-11T18:07:29.134235Z",
     "start_time": "2020-10-11T18:07:28.934665Z"
    }
   },
   "outputs": [],
   "source": [
    "# идём по уникальным заказам и создаём множество из продуктов, содержащихся в нём\n",
    "# полученную пару заказ - множество добавляем в транзакционную базу данных\n",
    "transactions = []\n",
    "for order in data['order_id'].unique():\n",
    "    products = set(data[data['order_id'] == order]['product_name'])\n",
    "    pair = list((order, products))\n",
    "    transactions.append(pair)"
   ]
  },
  {
   "cell_type": "code",
   "execution_count": 9,
   "metadata": {
    "ExecuteTime": {
     "end_time": "2020-10-11T18:07:29.141225Z",
     "start_time": "2020-10-11T18:07:29.136238Z"
    }
   },
   "outputs": [
    {
     "name": "stdout",
     "output_type": "stream",
     "text": [
      "['3088145', {'Chunky Beef with Vegetables & Brown Rice Dog Food'}]\n",
      "['3174585', {'SmartBlend Chicken & Rice Formula Adult Dry Dog Food'}]\n",
      "['2689040', {'Original Beef Flavor Dog Snacks'}]\n",
      "['1995260', {'Chicken & Salmon Dinner in Gravy Savory Shreds Cat Food', 'Savory Shreds Turkey & Cheese Dinner in Gravy Cat Food', 'Tasty Treasures Chicken, Tuna & Cheese In Gravy Cat Food', \"Classic Pate Mariner's Catch Cat Food\", 'Indoor Saucy Seafood Bake in Sauce Cat Food', 'Purina Mixed Grill Classic Pate Cat Food', 'Classic Pate Ocean Whitefish & Tuna Dinner Cat Food', 'Classic Pate Poultry Platter Cat Food', 'Proactive Health Indoor Weight & Hairball Care with Chicken Cat Food', 'Purina Classic Pate Turkey & Giblets Dinner Cat Food'}]\n",
      "['632142', {'SmartBlend Lamb & Rice Formula Adult Dog Food'}]\n"
     ]
    }
   ],
   "source": [
    "# выведем первые пять тразакций\n",
    "for i in range(5):\n",
    "    print(transactions[i])"
   ]
  },
  {
   "cell_type": "markdown",
   "metadata": {},
   "source": [
    "5. Реализуйте указанный в индивидуальном задании метод построения популярных наборов предметов (Apriori/Eclat/Declat) (3 балла) или используйте метод BruteForce (0 баллов). Протестируйте корректность реализации алгоритма на учебном наборе данных из материалов лекции."
   ]
  },
  {
   "cell_type": "markdown",
   "metadata": {},
   "source": [
    "Реализуем Eclat\n",
    "\n",
    "Основная идея алгоритма - поиск в глубину для эффективного подсчета по памяти и скорости"
   ]
  },
  {
   "cell_type": "code",
   "execution_count": 10,
   "metadata": {
    "ExecuteTime": {
     "end_time": "2020-10-11T18:07:29.158181Z",
     "start_time": "2020-10-11T18:07:29.144217Z"
    }
   },
   "outputs": [],
   "source": [
    "def prepare_for_eclat(database):\n",
    "    all_items = set()\n",
    "    for pair in database:\n",
    "        all_items = all_items.union(pair[1])\n",
    "    all_items\n",
    "\n",
    "    res = dict()\n",
    "    for item in all_items:\n",
    "        res[item] = set()\n",
    "        for pair in database:\n",
    "            if item in pair[1]:\n",
    "                res[item].add(pair[0])\n",
    "\n",
    "    res = list(res.items())\n",
    "    return res\n",
    "\n",
    "def eclat(prefix, items):\n",
    "    while items:\n",
    "        i, itids = items.pop()\n",
    "        isupp = len(itids)\n",
    "        if isupp >= minsup:\n",
    "            items_freq[frozenset(prefix + [i])] = isupp\n",
    "            suffix = []\n",
    "            for j, ojtids in items:\n",
    "                jtids = itids & ojtids\n",
    "                if len(jtids) >= minsup:\n",
    "                    suffix.append((j,jtids))\n",
    "            eclat(prefix+[i], sorted(suffix, key=lambda item: len(item[1]), reverse=True))"
   ]
  },
  {
   "cell_type": "markdown",
   "metadata": {},
   "source": [
    "Проверим реализацию на примере с семинара."
   ]
  },
  {
   "cell_type": "code",
   "execution_count": 11,
   "metadata": {
    "ExecuteTime": {
     "end_time": "2020-10-11T18:07:29.174138Z",
     "start_time": "2020-10-11T18:07:29.161172Z"
    }
   },
   "outputs": [
    {
     "name": "stdout",
     "output_type": "stream",
     "text": [
      "[('C',), 4]\n",
      "[('D',), 4]\n",
      "[('A',), 4]\n",
      "[('B',), 6]\n",
      "[('E',), 5]\n",
      "[('E', 'C'), 3]\n",
      "[('B', 'C'), 4]\n",
      "[('D', 'A'), 3]\n",
      "[('E', 'D'), 3]\n",
      "[('B', 'D'), 4]\n",
      "[('B', 'A'), 4]\n",
      "[('E', 'A'), 4]\n",
      "[('B', 'E'), 5]\n",
      "[('B', 'E', 'C'), 3]\n",
      "[('E', 'D', 'A'), 3]\n",
      "[('B', 'D', 'A'), 3]\n",
      "[('B', 'E', 'D'), 3]\n",
      "[('B', 'E', 'A'), 4]\n",
      "[('B', 'E', 'D', 'A'), 3]\n"
     ]
    }
   ],
   "source": [
    "D_train = [\n",
    "    [ 1, {\"A\",\"B\",\"D\",\"E\"} ],\n",
    "    [ 2, {\"B\",\"C\",\"E\"} ],\n",
    "    [ 3, {\"A\",\"B\",\"D\",\"E\"} ],\n",
    "    [ 4, {\"A\",\"B\",\"C\",\"E\"} ],\n",
    "    [ 5, {\"A\",\"B\",\"C\",\"D\",\"E\"} ],\n",
    "    [ 6, {\"B\",\"C\",\"D\"} ],\n",
    "]\n",
    "\n",
    "minsup = 3\n",
    "items_freq = dict()\n",
    "eclat([], prepare_for_eclat(D_train))\n",
    "\n",
    "res_lst = []\n",
    "for key, value in items_freq.items():\n",
    "    tmp = []\n",
    "    tmp.append(tuple(key))\n",
    "    tmp.append(value)\n",
    "    res_lst.append(tmp)\n",
    "res_lst = sorted(res_lst, key=lambda x: len(x[0]))\n",
    "    \n",
    "for result in res_lst:\n",
    "    print(result)"
   ]
  },
  {
   "cell_type": "markdown",
   "metadata": {},
   "source": [
    "Всё совпадает"
   ]
  },
  {
   "cell_type": "markdown",
   "metadata": {},
   "source": [
    "6. При помощи Elcat построим популярные наборы товаров с минимальной поддержкой, равной половине среднего количества покупок пяти наиболее популярных товаров."
   ]
  },
  {
   "cell_type": "markdown",
   "metadata": {},
   "source": [
    "Можно по разному округлять minsup, давайте возьмем пополам среднее и математическое округление (можно целочисленно поделить на два, можно брать округление вверх/вниз)"
   ]
  },
  {
   "cell_type": "code",
   "execution_count": 12,
   "metadata": {
    "ExecuteTime": {
     "end_time": "2020-10-11T18:07:29.182116Z",
     "start_time": "2020-10-11T18:07:29.177131Z"
    }
   },
   "outputs": [
    {
     "name": "stdout",
     "output_type": "stream",
     "text": [
      "Среднее количество покупок популярных товаров = 7.2\n",
      "minsup = 4\n"
     ]
    }
   ],
   "source": [
    "minsup = round(popular_products.order_count.mean() / 2)\n",
    "print(f'Среднее количество покупок популярных товаров = {popular_products.order_count.mean()}')\n",
    "print(f'minsup = {minsup}')"
   ]
  },
  {
   "cell_type": "markdown",
   "metadata": {},
   "source": [
    "Получается minsup 3 или 4 в зависимости от стратегии округления и деления.\n",
    "\n",
    "Но поскольку при таких значениях minsup всё множество наборов состоит из одного продукта ассоциативные правила получаются неинтересными, поэтому возьмем minsup = 2, чтобы в 7 пункте посчитать правила поинтереснее, чем просто []"
   ]
  },
  {
   "cell_type": "code",
   "execution_count": 13,
   "metadata": {
    "ExecuteTime": {
     "end_time": "2020-10-11T18:07:29.226998Z",
     "start_time": "2020-10-11T18:07:29.184116Z"
    }
   },
   "outputs": [
    {
     "name": "stdout",
     "output_type": "stream",
     "text": [
      "Полученные популярные наборы:\n",
      "\n",
      "[('Grilled Chicken Feast in Gravy Cat Food',), 4]\n",
      "[('Ocean Whitefish & Tuna Feast in Sauteed Seafood Flavor Gravy Cat Food',), 2]\n",
      "[('Adult Indoor Advantage Cat Food',), 5]\n",
      "[('Jumbone Mini Toy/Small (PS #5129732) Dog Care & Treats',), 2]\n",
      "[('Brushless Dog Toothpaste',), 2]\n",
      "[('Flaked Tuna Feast Cat Food',), 2]\n",
      "[('Multi Cat Scented Scoopable Cat Litter',), 3]\n",
      "[('Original Beef Flavor Dog Snacks',), 5]\n",
      "[('Organic Dog Cookies Peanut Butter',), 2]\n",
      "[('Real Chicken & Veggies Recipe Dog Food',), 2]\n",
      "[('Chicken Jerky Strips Dog Treats',), 2]\n",
      "[('Beyond Grain Free Wild Salmon Recipe Wet Cat Food',), 2]\n",
      "[('Super Scoop Clumping with Odor Eliminating Baking Soda Cat Litter',), 2]\n",
      "[('Beef Feast in Roasted Beef Flavor Gravy Cat Food',), 2]\n",
      "[('Romana Style Medley Dog Food',), 2]\n",
      "[('Multi-Cat Extra Strength Clumping Cat Litter',), 2]\n",
      "[('Grain Free Turkey Formula Cat Food',), 2]\n",
      "[(\"Chicken Lickin' Chicken Pate with Vegetables Cat Food\",), 2]\n",
      "[('Grain Free Turkey & Salmon Formula Cat Food',), 4]\n",
      "[('Grain Free Turkey Canned Cat Food',), 2]\n",
      "[('Pet Fresh Carpet Odor Eliminator + Oxi Clean Dirt Fighters',), 2]\n",
      "[('Organix Butcher & Bushel Chicken Wing & Thigh Grain Free Adult Dog Food',), 3]\n",
      "[('Beef Jerky',), 2]\n",
      "[('Classic Seafood Feast Cat Food',), 2]\n",
      "[('Poultry & Beef Feast Variety Grilled Wet Cat Food',), 5]\n",
      "[('Heavy Duty Jumbo Litter Box Liners',), 2]\n",
      "[('Florentine Collection Cat Food',), 2]\n",
      "[('Original Maximum Odor Control Cat Litter',), 2]\n",
      "[('Adult Health Small Breed Formula Dry Dog Food',), 2]\n",
      "[(\"Classic Pate Mariner's Catch Cat Food\",), 2]\n",
      "[('Chicken & Brown Rice Premium Dog Food',), 2]\n",
      "[('Proactive Health Indoor Weight & Hairball Care with Chicken Cat Food',), 2]\n",
      "[('Original Cat Chow Naturals Plus Vitamins & Minerals Cat Food',), 2]\n",
      "[('Fancy Feast Seafood Feast Variety Classic Wet Cat Food',), 4]\n",
      "[('Non Clumping 24/7 Performance Cat Litter',), 2]\n",
      "[('Double Duty Advanced Odor Control Clumping Cat Litter',), 6]\n",
      "[('With Glade Tough Odor Solutions Cat Litter',), 4]\n",
      "[('Chicken and Liver Canine Cuisine Wet Dog Food',), 2]\n",
      "[('Cat Treats Temptations Seafood Medley',), 2]\n",
      "[('Savory Shreds Turkey & Cheese Dinner in Gravy Cat Food',), 2]\n",
      "[('Indoor Delights Cat Food',), 3]\n",
      "[('Fancy Feast Wet Classic Chicken Feast Cat Food',), 2]\n",
      "[('Super Scoop Instant Clumping Unscented Cat Litter',), 3]\n",
      "[('Purina Classic Pate Turkey & Giblets Dinner Cat Food',), 2]\n",
      "[('Fancy Feast Wet Classic Turkey & Giblets Feast Cat Food',), 2]\n",
      "[('Classic Tender Beef Feast Cat Food',), 2]\n",
      "[('Grain Free Turkey, Sweet Potato & Spinach Recipe in Gravy Cat Food',), 3]\n",
      "[('Temptations Tasty Chicken Flavor Cat Treats',), 3]\n",
      "[('24/7 Performance Light Weight Cat Litter',), 7]\n",
      "[('Grain Free Chicken Formula Cat Food',), 5]\n",
      "[('Classic Poultry & Beef Feast Variety Cat Food',), 2]\n",
      "[('Instant Action Cat Litter',), 12]\n",
      "[('Poultry & Beef Feast Variety  Cat Food',), 2]\n",
      "[('Biscuits for Dogs less than 20 lbs',), 4]\n",
      "[('24/7 Performance Cat Litter',), 5]\n",
      "[('Tasty Chicken Flavor Treats for Cat',), 2]\n",
      "[('Organix Butcher & Bushel Grain-Free Turkey Dinner Canned Dog Food',), 2]\n",
      "[('Grilled Seafood Feast Variety Cat Food',), 3]\n",
      "[('Organic Turn Up Da Turkey Recipe',), 2]\n",
      "[('Classic Chopped Grill Feast Cat Food',), 2]\n",
      "[('Flaked Skipjack Tuna Cat Food',), 2]\n",
      "[('Complete Health Deboned Chicken, Chicken Meal and Rice Cat Food',), 2]\n",
      "[('Elegant Medleys Tuna Recipe Variety Wet Cat Food',), 2]\n",
      "[('Indoor Cat Food',), 6]\n",
      "[('Organix Cat Treats',), 3]\n",
      "[('Prime Filets Meaty Favorites Variety Pack Cat Food',), 2]\n",
      "[('Busy Bone Dog Treats Real Meat Sm & Med 6',), 3]\n",
      "[('Multiple Cat Clumping Formula Cat Litter',), 3]\n",
      "[('Cat Chow Complete Formula',), 3]\n",
      "[('Salmon Feast in Seared Salmon Flavor Gravy Cat Food',), 2]\n",
      "[('Smart Blend Lamb & Rice Dry Dog Food',), 2]\n",
      "[('Organix Chicken & Brown Rice Recipe',), 4]\n",
      "[('Scented Multi-Cat Scoopable Cat Litter',), 2]\n",
      "[('Prepared Meals Simmered Chicken Medley Wet Dog Food',), 2]\n",
      "[('Simply 9 White Meat Chicken & Whole Barley Recipe Dog Food',), 2]\n",
      "[('Friskies Dry Signature Blend Tender & Crunchy Combo Cat Food',), 2]\n",
      "[('24/7 Performance Clumping Litter',), 2]\n",
      "[('SauceSations Chicken Dinner in Garden Sauce Cat Food',), 2]\n",
      "[('Standard Size Pet Waste bags',), 3]\n",
      "[(\"Surfin' & Turfin' Favorites Cat Food\",), 5]\n",
      "[('ProActive Health Adult MiniChunks Premium Dry Dog Food',), 2]\n",
      "[('Small Dog Biscuits',), 2]\n",
      "[('Purina Mixed Grill Classic Pate Cat Food',), 2]\n",
      "[('Turkey Stew With Barley & Carrots Natural Dog Food',), 2]\n",
      "[('Classic Tender Liver & Chicken Feast Cat Food',), 2]\n",
      "[('Wild Mackerel & Whitefish Cat Food',), 2]\n",
      "[('Original Choice Dry Cat Food',), 2]\n",
      "[('Beef Stew Canned Dog Food',), 2]\n",
      "[('Premium Dog Treats Peanut Butter Flavor, Medium Size',), 2]\n",
      "[('Core Original Grain Free Dry Dog Food',), 2]\n",
      "[('Gravy Lovers Chicken Feast Can Cat Food',), 3]\n",
      "[('Canine Cuisine Gourmet Filet Mignon New York Strip Wet Dog Food',), 2]\n",
      "[('Natural Dog Food Turkey & Sweet Potato Formula',), 2]\n",
      "[('Dog Snacks, Medium',), 4]\n",
      "[('Purina Beyond Natural Cat Food Grain Free Ocean Whitefish & Egg Recipe',), 2]\n",
      "[('Organix Chicken & Rice Dry Cat Food',), 2]\n",
      "[('Classic Pate Poultry Platter Cat Food',), 2]\n",
      "[('Good Buddy Beef Jerky Dog Treat',), 2]\n",
      "[('Select Tender Chicken with Vegetables & Brown Rice Dog Food Recipe',), 5]\n",
      "[('Liv A Littles Chicken Cat & Dog Treats',), 2]\n",
      "[('Salmon Feast in Seared Salmon Flavor Gravy Cat Food', 'Ocean Whitefish & Tuna Feast in Sauteed Seafood Flavor Gravy Cat Food'), 2]\n",
      "[('Beef Feast in Roasted Beef Flavor Gravy Cat Food', 'Gravy Lovers Chicken Feast Can Cat Food'), 2]\n",
      "[('Organix Butcher & Bushel Grain-Free Turkey Dinner Canned Dog Food', 'Organix Butcher & Bushel Chicken Wing & Thigh Grain Free Adult Dog Food'), 2]\n",
      "[('Purina Mixed Grill Classic Pate Cat Food', \"Classic Pate Mariner's Catch Cat Food\"), 2]\n",
      "[('Classic Pate Poultry Platter Cat Food', \"Classic Pate Mariner's Catch Cat Food\"), 2]\n",
      "[('Classic Pate Poultry Platter Cat Food', 'Purina Mixed Grill Classic Pate Cat Food'), 2]\n",
      "[('Classic Pate Poultry Platter Cat Food', 'Purina Mixed Grill Classic Pate Cat Food', \"Classic Pate Mariner's Catch Cat Food\"), 2]\n"
     ]
    }
   ],
   "source": [
    "minsup=2\n",
    "items_freq = dict()\n",
    "eclat([], prepare_for_eclat(transactions))\n",
    "\n",
    "res_lst = []\n",
    "for key, value in items_freq.items():\n",
    "    tmp = []\n",
    "    tmp.append(tuple(key))\n",
    "    tmp.append(value)\n",
    "    res_lst.append(tmp)\n",
    "res_lst = sorted(res_lst, key=lambda x: len(x[0]))\n",
    "    \n",
    "print('Полученные популярные наборы:\\n')\n",
    "for result in res_lst:\n",
    "    print(result)"
   ]
  },
  {
   "cell_type": "markdown",
   "metadata": {},
   "source": [
    "7. Для какого-либо из полученных популярных наборов товаров постройте набор ассоциативных правил."
   ]
  },
  {
   "cell_type": "code",
   "execution_count": 14,
   "metadata": {
    "ExecuteTime": {
     "end_time": "2020-10-11T18:07:29.235975Z",
     "start_time": "2020-10-11T18:07:29.229989Z"
    }
   },
   "outputs": [
    {
     "name": "stdout",
     "output_type": "stream",
     "text": [
      "('Classic Pate Poultry Platter Cat Food', 'Purina Mixed Grill Classic Pate Cat Food', \"Classic Pate Mariner's Catch Cat Food\") 3\n"
     ]
    }
   ],
   "source": [
    "sample, _ = res_lst[-1]\n",
    "print(sample, len(sample))"
   ]
  },
  {
   "cell_type": "code",
   "execution_count": 15,
   "metadata": {
    "ExecuteTime": {
     "end_time": "2020-10-11T18:07:29.259911Z",
     "start_time": "2020-10-11T18:07:29.237967Z"
    }
   },
   "outputs": [
    {
     "name": "stdout",
     "output_type": "stream",
     "text": [
      "Полученные ассоциативные правила:\n",
      "\n",
      "rule:\n",
      "('Purina Mixed Grill Classic Pate Cat Food', \"Classic Pate Mariner's Catch Cat Food\")\n",
      "['Classic Pate Poultry Platter Cat Food']\n",
      "\n",
      "rule:\n",
      "('Classic Pate Poultry Platter Cat Food', \"Classic Pate Mariner's Catch Cat Food\")\n",
      "['Purina Mixed Grill Classic Pate Cat Food']\n",
      "\n",
      "rule:\n",
      "('Classic Pate Poultry Platter Cat Food', 'Purina Mixed Grill Classic Pate Cat Food')\n",
      "[\"Classic Pate Mariner's Catch Cat Food\"]\n",
      "\n",
      "rule:\n",
      "(\"Classic Pate Mariner's Catch Cat Food\",)\n",
      "['Classic Pate Poultry Platter Cat Food', 'Purina Mixed Grill Classic Pate Cat Food']\n",
      "\n",
      "rule:\n",
      "('Purina Mixed Grill Classic Pate Cat Food',)\n",
      "[\"Classic Pate Mariner's Catch Cat Food\", 'Classic Pate Poultry Platter Cat Food']\n",
      "\n",
      "rule:\n",
      "('Classic Pate Poultry Platter Cat Food',)\n",
      "[\"Classic Pate Mariner's Catch Cat Food\", 'Purina Mixed Grill Classic Pate Cat Food']\n",
      "\n"
     ]
    }
   ],
   "source": [
    "from itertools import chain, combinations\n",
    "\n",
    "def ComputeSupport(X, D):\n",
    "    supX = 0\n",
    "    for _, itemset in D:\n",
    "        if X.issubset(itemset):\n",
    "            supX += 1\n",
    "    return supX\n",
    "\n",
    "def powersetk(iterable, k):\n",
    "    xs = list(iterable)\n",
    "    return list(chain.from_iterable(combinations(xs, n) for n in range(k, len(xs) + 1)))[:-1]\n",
    "\n",
    "def AssociationRules(D, Z_set, minconf):\n",
    "    A_rules = []\n",
    "    supZ = ComputeSupport(set(Z_set), D)\n",
    "    A_set = powersetk(Z_set, 1)\n",
    "    while len(A_set)>0:\n",
    "        X_set = A_set[-1]\n",
    "        A_set.pop()\n",
    "        conf = supZ / ComputeSupport(set(X_set), D)\n",
    "        if conf >= minconf:\n",
    "            Y_set = sorted(list(set(Z_set) - set(X_set)))\n",
    "            A_rules.append([X_set, Y_set])\n",
    "        else:\n",
    "            for W_set in powersetk(X_set, 1):\n",
    "                if W_set in A_set:\n",
    "                    A_set.remove(W_set)\n",
    "    return A_rules\n",
    "\n",
    "rules = AssociationRules(transactions, sample, 0.9)\n",
    "print('Полученные ассоциативные правила:\\n')\n",
    "for rule in rules:\n",
    "    print('rule:')\n",
    "    for x in rule:\n",
    "        print(x)\n",
    "    print()"
   ]
  },
  {
   "cell_type": "markdown",
   "metadata": {},
   "source": [
    "8. Для построенного набора ассоциативных правил вычислим показатели: support, confidence, lift, leverage, conviction и выведите на экран."
   ]
  },
  {
   "cell_type": "code",
   "execution_count": 16,
   "metadata": {
    "ExecuteTime": {
     "end_time": "2020-10-11T18:07:29.279854Z",
     "start_time": "2020-10-11T18:07:29.263897Z"
    }
   },
   "outputs": [],
   "source": [
    "import numpy as np\n",
    "\n",
    "N = len(transactions)\n",
    "supps = []\n",
    "confs = []\n",
    "lifts = []\n",
    "leverages = []\n",
    "convictions = []\n",
    "for rule in rules:\n",
    "    x1 = set(rule[0])\n",
    "    x2 = set(rule[1])\n",
    "    supp_x1_x2 = ComputeSupport(x1.union(x2), transactions) / N # support\n",
    "    supp_x1 = ComputeSupport(x1, transactions) / N\n",
    "    supp_x2 = ComputeSupport(x2, transactions) / N\n",
    "    conf = supp_x1_x2 / supp_x1 # confidence\n",
    "    lift = supp_x1_x2 / (supp_x1 * supp_x2) # lift\n",
    "    leverage = supp_x1_x2 - supp_x1 * supp_x2 # leverage\n",
    "    if conf == 1:\n",
    "        conv = np.inf\n",
    "    else:\n",
    "        conv = (1 - supp_x2) / (1 - conf) # conviction\n",
    "    supps.append(supp_x1_x2)\n",
    "    confs.append(conf)\n",
    "    lifts.append(lift)\n",
    "    leverages.append(leverage)\n",
    "    convictions.append(conv)"
   ]
  },
  {
   "cell_type": "markdown",
   "metadata": {},
   "source": [
    "Полученные правила и показатели:"
   ]
  },
  {
   "cell_type": "code",
   "execution_count": 17,
   "metadata": {
    "ExecuteTime": {
     "end_time": "2020-10-11T18:07:29.300799Z",
     "start_time": "2020-10-11T18:07:29.289830Z"
    }
   },
   "outputs": [
    {
     "name": "stdout",
     "output_type": "stream",
     "text": [
      "rule:\n",
      "('Purina Mixed Grill Classic Pate Cat Food', \"Classic Pate Mariner's Catch Cat Food\")\n",
      "['Classic Pate Poultry Platter Cat Food']\n",
      "Support = 0.0064516129032258064\n",
      "Confidence = 1.0\n",
      "Lift = 155.0\n",
      "Leverage = 0.006409989594172737\n",
      "Conviction = inf\n",
      "\n",
      "rule:\n",
      "('Classic Pate Poultry Platter Cat Food', \"Classic Pate Mariner's Catch Cat Food\")\n",
      "['Purina Mixed Grill Classic Pate Cat Food']\n",
      "Support = 0.0064516129032258064\n",
      "Confidence = 1.0\n",
      "Lift = 155.0\n",
      "Leverage = 0.006409989594172737\n",
      "Conviction = inf\n",
      "\n",
      "rule:\n",
      "('Classic Pate Poultry Platter Cat Food', 'Purina Mixed Grill Classic Pate Cat Food')\n",
      "[\"Classic Pate Mariner's Catch Cat Food\"]\n",
      "Support = 0.0064516129032258064\n",
      "Confidence = 1.0\n",
      "Lift = 155.0\n",
      "Leverage = 0.006409989594172737\n",
      "Conviction = inf\n",
      "\n",
      "rule:\n",
      "(\"Classic Pate Mariner's Catch Cat Food\",)\n",
      "['Classic Pate Poultry Platter Cat Food', 'Purina Mixed Grill Classic Pate Cat Food']\n",
      "Support = 0.0064516129032258064\n",
      "Confidence = 1.0\n",
      "Lift = 155.0\n",
      "Leverage = 0.006409989594172737\n",
      "Conviction = inf\n",
      "\n",
      "rule:\n",
      "('Purina Mixed Grill Classic Pate Cat Food',)\n",
      "[\"Classic Pate Mariner's Catch Cat Food\", 'Classic Pate Poultry Platter Cat Food']\n",
      "Support = 0.0064516129032258064\n",
      "Confidence = 1.0\n",
      "Lift = 155.0\n",
      "Leverage = 0.006409989594172737\n",
      "Conviction = inf\n",
      "\n",
      "rule:\n",
      "('Classic Pate Poultry Platter Cat Food',)\n",
      "[\"Classic Pate Mariner's Catch Cat Food\", 'Purina Mixed Grill Classic Pate Cat Food']\n",
      "Support = 0.0064516129032258064\n",
      "Confidence = 1.0\n",
      "Lift = 155.0\n",
      "Leverage = 0.006409989594172737\n",
      "Conviction = inf\n",
      "\n"
     ]
    }
   ],
   "source": [
    "for i in range(len(rules)):\n",
    "    print('rule:')\n",
    "    for x in rules[i]:\n",
    "        print(x)\n",
    "    print(f'Support = {supps[i]}')\n",
    "    print(f'Confidence = {confs[i]}')\n",
    "    print(f'Lift = {lifts[i]}')\n",
    "    print(f'Leverage = {leverages[i]}')\n",
    "    print(f'Conviction = {convictions[i]}')\n",
    "    print()"
   ]
  },
  {
   "cell_type": "code",
   "execution_count": null,
   "metadata": {},
   "outputs": [],
   "source": []
  }
 ],
 "metadata": {
  "kernelspec": {
   "display_name": "Python 3",
   "language": "python",
   "name": "python3"
  },
  "language_info": {
   "codemirror_mode": {
    "name": "ipython",
    "version": 3
   },
   "file_extension": ".py",
   "mimetype": "text/x-python",
   "name": "python",
   "nbconvert_exporter": "python",
   "pygments_lexer": "ipython3",
   "version": "3.8.5"
  },
  "toc": {
   "base_numbering": 1,
   "nav_menu": {},
   "number_sections": true,
   "sideBar": true,
   "skip_h1_title": false,
   "title_cell": "Table of Contents",
   "title_sidebar": "Contents",
   "toc_cell": false,
   "toc_position": {},
   "toc_section_display": true,
   "toc_window_display": false
  },
  "varInspector": {
   "cols": {
    "lenName": 16,
    "lenType": 16,
    "lenVar": 40
   },
   "kernels_config": {
    "python": {
     "delete_cmd_postfix": "",
     "delete_cmd_prefix": "del ",
     "library": "var_list.py",
     "varRefreshCmd": "print(var_dic_list())"
    },
    "r": {
     "delete_cmd_postfix": ") ",
     "delete_cmd_prefix": "rm(",
     "library": "var_list.r",
     "varRefreshCmd": "cat(var_dic_list()) "
    }
   },
   "types_to_exclude": [
    "module",
    "function",
    "builtin_function_or_method",
    "instance",
    "_Feature"
   ],
   "window_display": false
  }
 },
 "nbformat": 4,
 "nbformat_minor": 4
}
