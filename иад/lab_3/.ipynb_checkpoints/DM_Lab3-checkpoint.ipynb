{
 "cells": [
  {
   "cell_type": "markdown",
   "metadata": {},
   "source": [
    "# Лабораторная работа №3\n",
    "# Поиск ассоциативных правил"
   ]
  },
  {
   "cell_type": "markdown",
   "metadata": {},
   "source": [
    "Поиск ассоциативных правил представляет собой весьма часто применяемый метод выявления зависимостей между записями в больших наборах данных.\n",
    "\n",
    "Ассоциативные правила обычно используются при анализе продуктовых корреляций (Market Basket Analysis) и выглядят примерно так: «если в чеке клиента есть молоко, то в 80% случаев там будет и хлеб». "
   ]
  },
  {
   "cell_type": "markdown",
   "metadata": {},
   "source": [
    "## Набор транзакций Instacart"
   ]
  },
  {
   "cell_type": "markdown",
   "metadata": {},
   "source": [
    "Компания Instacart (сайт https://www.instacart.com) – розничный продавец овощей в США и Канаде (слоган «Groceries delivered in as little as 1 hour»). \n",
    "\n",
    "Для исследователей на сайте Instacart был выложен набор данных “The Instacart Online Grocery Shopping Dataset 2017”, адрес набора\n",
    "https://www.instacart.com/datasets/grocery-shopping-2017.\n",
    "\n",
    "Набор данных анонимизирован и состоит из следующих таблиц."
   ]
  },
  {
   "cell_type": "markdown",
   "metadata": {},
   "source": [
    "`orders` (3.4m rows, 206k users):\n",
    "* `order_id`: order identifier\n",
    "* `user_id`: customer identifier\n",
    "* `eval_set`: which evaluation set this order belongs in (see `SET` described below)\n",
    "* `order_number`: the order sequence number for this user (1 = first, n = nth)\n",
    "* `order_dow`: the day of the week the order was placed on\n",
    "* `order_hour_of_day`: the hour of the day the order was placed on\n",
    "* `days_since_prior`: days since the last order, capped at 30 (with NAs for `order_number` = 1)"
   ]
  },
  {
   "cell_type": "markdown",
   "metadata": {},
   "source": [
    "`products` (50k rows):\n",
    "* `product_id`: product identifier\n",
    "* `product_name`: name of the product\n",
    "* `aisle_id`: foreign key\n",
    "* `department_id`: foreign key"
   ]
  },
  {
   "cell_type": "markdown",
   "metadata": {},
   "source": [
    "`aisles` (134 rows):\n",
    "* `aisle_id`: aisle identifier\n",
    "* `aisle`: the name of the aisle"
   ]
  },
  {
   "cell_type": "markdown",
   "metadata": {},
   "source": [
    "`deptartments` (21 rows):\n",
    "* `department_id`: department identifier\n",
    "* `department`: the name of the department"
   ]
  },
  {
   "cell_type": "markdown",
   "metadata": {},
   "source": [
    "`order_products__SET` (30m+ rows):\n",
    "* `order_id`: foreign key\n",
    "* `product_id`: foreign key\n",
    "* `add_to_cart_order`: order in which each product was added to cart\n",
    "* `reordered`: 1 if this product has been ordered by this user in the past, 0 otherwise\n",
    "\n",
    "где `SET` - один из следующих наборов (`eval_set` в таблице `orders`):\n",
    "* `\"prior\"`: orders prior to that users most recent order (~3.2m orders)\n",
    "* `\"train\"`: training data supplied to participants (~131k orders)\n",
    "* `\"test\"`: test data reserved for machine learning competitions (~75k orders)"
   ]
  },
  {
   "cell_type": "markdown",
   "metadata": {},
   "source": [
    "Для работы с набором данных Instacart будем использовать встроенную в Python СУБД `sqlite`."
   ]
  },
  {
   "cell_type": "markdown",
   "metadata": {},
   "source": [
    "## SQL"
   ]
  },
  {
   "cell_type": "markdown",
   "metadata": {},
   "source": [
    "База данных (БД) - это данные, которые хранятся в соответствии с определенной схемой, описывающей соотношения между данными.\n",
    "\n",
    "Язык БД SQL (structured query language) - используется для описания структуры БД, управления данными (добавление, изменение, удаление, получение), управления правами доступа к БД и ее объектам, управления транзакциями.\n",
    "\n",
    "Система управления базами данных (СУБД) - это программные средства, которые дают возможность управлять БД, поддерживая соответствующий язык (языки) для управления БД."
   ]
  },
  {
   "cell_type": "markdown",
   "metadata": {},
   "source": [
    "Язык SQL подразделяется на следующие категории:\n",
    "\n",
    "`DDL` (Data Definition Language) - язык описания данных\n",
    "* `CREATE` - создание новой таблицы, СУБД, схемы\n",
    "* `ALTER` - изменение существующей таблицы, колонки \n",
    "* `DROP` - удаление существующих объектов из СУБД\n",
    "\n",
    "`DML` (Data Manipulation Language) - язык манипулирования данными \n",
    "* `SELECT` - выбор данных\n",
    "* `INSERT` - добавление новых данных\n",
    "* `UPDATE` - обновление существующих данных \n",
    "* `DELETE` - удаление данных\n",
    "\n",
    "`DCL` (Data Control Language) - язык определения доступа к данным \n",
    "* `GRANT` - предоставление пользователям разрешения на чтение/запись определенных объектов в СУБД\n",
    "* `REVOKE` - отзыв ранее предоставленных разрешений\n",
    "\n",
    "`TCL` (Transaction Control Language) - язык управления транзакциями\n",
    "* `COMMIT` - применение транзакции\n",
    "* `ROLLBACK` - откат всех изменений, сделанных в текущей транзакции\n"
   ]
  },
  {
   "cell_type": "markdown",
   "metadata": {},
   "source": [
    "## SQLite"
   ]
  },
  {
   "cell_type": "markdown",
   "metadata": {},
   "source": [
    "SQLite — компактная встраиваемая СУБД с открытым исходным кодом, написанная на языке C.\n",
    "\n",
    "SQLite не использует парадигму клиент-сервер, а именно, SQLite представляет собой библиотеку, с которой компонуется программа, использующая SQLite. SQLite является составной частью Python."
   ]
  },
  {
   "cell_type": "markdown",
   "metadata": {},
   "source": [
    "### Утилита sqlite3"
   ]
  },
  {
   "cell_type": "markdown",
   "metadata": {},
   "source": [
    "В комплект поставки SQLite входит утилита sqlite3 для работы с SQLite в командной строке. С помощью sqlite3 можно вручную выполнять команды SQL.\n",
    "\n",
    "Для доступа к базе данных Instacart при помощи sqlite3 нужно выполнить следующую команду в окне терминала:\n",
    "\n",
    "`sqlite3 instacart.db`\n"
   ]
  },
  {
   "cell_type": "markdown",
   "metadata": {},
   "source": [
    "В sqlite3 можно выполнять команды SQL или так называемые метакоманды (или dot-команды).\n",
    "\n",
    "К метакомандам относятся несколько специальных команд для работы с SQLite. Они относятся только к утилите sqlite3, а не к SQL языку. В конце этих команд ; ставить не нужно.\n",
    "Примеры метакоманд:\n",
    "\n",
    "* .help - подсказка со списком всех метакоманд \n",
    "* .exit или .quit - выход из сессии sqlite3\n",
    "* .databases - показывает присоединенные БД \n",
    "* .tables - показывает доступные таблицы"
   ]
  },
  {
   "cell_type": "markdown",
   "metadata": {},
   "source": [
    "При выполнении в sqlite3 команды SQL ее нужно завершить символом `;`, например:\n",
    "\n",
    "`select count(*) from orders;`"
   ]
  },
  {
   "cell_type": "markdown",
   "metadata": {},
   "source": [
    "### Модуль sqlite3"
   ]
  },
  {
   "cell_type": "markdown",
   "metadata": {},
   "source": [
    "Для работы с SQLite в Python используется модуль sqlite3.\n",
    "\n",
    "Объект `Connection` - это подключение к конкретной БД. \n",
    "Пример создания подключения:"
   ]
  },
  {
   "cell_type": "code",
   "execution_count": null,
   "metadata": {},
   "outputs": [],
   "source": [
    "import sqlite3\n",
    "\n",
    "conn = sqlite3.connect('temp.db')"
   ]
  },
  {
   "cell_type": "code",
   "execution_count": null,
   "metadata": {},
   "outputs": [],
   "source": [
    "type(conn)"
   ]
  },
  {
   "cell_type": "markdown",
   "metadata": {},
   "source": [
    "Если база данных temp.db не существует, то она будет создана. После создания соединения надо создать объект Cursor - это основной способ работы с БД. Создается курсор из соединения с БД:\n"
   ]
  },
  {
   "cell_type": "code",
   "execution_count": null,
   "metadata": {},
   "outputs": [],
   "source": [
    "cursor = conn.cursor()\n",
    "\n",
    "type(cursor)"
   ]
  },
  {
   "cell_type": "markdown",
   "metadata": {},
   "source": [
    "### Выполнение команд SQL"
   ]
  },
  {
   "cell_type": "markdown",
   "metadata": {},
   "source": [
    "Для выполнения команд SQL в модуле есть несколько методов:\n",
    "\n",
    "* `execute()` - метод для выполнения одного выражения SQL\n",
    "* `executemany()` - метод позволяет выполнить одно выражение SQL для последовательности параметров (или для итератора)\n",
    "* `executescript()` - метод позволяет выполнить несколько выражений SQL за один раз"
   ]
  },
  {
   "cell_type": "markdown",
   "metadata": {},
   "source": [
    "#### Метод execute()"
   ]
  },
  {
   "cell_type": "markdown",
   "metadata": {},
   "source": [
    "Метод execute() позволяет выполнить одну команду SQL (при условии, что уже созданы соединение и курсор). \n",
    "\n",
    "Создадим таблицу user с помощью метода execute():"
   ]
  },
  {
   "cell_type": "code",
   "execution_count": null,
   "metadata": {},
   "outputs": [],
   "source": [
    "cursor.execute(\"\"\"create table user \n",
    "    (userid text not NULL primary key, \n",
    "    username text, \n",
    "    room text, \n",
    "    phone text)\"\"\")"
   ]
  },
  {
   "cell_type": "markdown",
   "metadata": {},
   "source": [
    "Выражения SQL могут быть параметризированы - вместо данных можно подставлять специальные значения. За счет этого можно использовать одну и ту же команду SQL для передачи разных данных.\n",
    "\n",
    "Например, таблицу user нужно заполнить данными из списка data:"
   ]
  },
  {
   "cell_type": "code",
   "execution_count": null,
   "metadata": {},
   "outputs": [],
   "source": [
    "data = [\n",
    "    ('001', 'Иванов И.И.',  '123', '(985)1234567'), \n",
    "    ('002', 'Петров П.П.',  '234', '(903)9876543'), \n",
    "    ('003', 'Сидоров С.С.', '345', '(495)1357900')] "
   ]
  },
  {
   "cell_type": "markdown",
   "metadata": {},
   "source": [
    "Для этого можно использовать запрос вида:"
   ]
  },
  {
   "cell_type": "code",
   "execution_count": null,
   "metadata": {},
   "outputs": [],
   "source": [
    "query = \"INSERT into user values (?, ?, ?, ?)\""
   ]
  },
  {
   "cell_type": "markdown",
   "metadata": {},
   "source": [
    "Знаки вопроса в команде используются для подстановки данных, которые будут передаваться методу execute.\n",
    "\n",
    "Теперь можно передать данные таким образом:"
   ]
  },
  {
   "cell_type": "code",
   "execution_count": null,
   "metadata": {},
   "outputs": [],
   "source": [
    "for row in data:\n",
    "    cursor.execute(query, row)"
   ]
  },
  {
   "cell_type": "markdown",
   "metadata": {},
   "source": [
    "Второй аргумент, который передается методу execute, должен быть кортежем. Если нужно передать кортеж с одним элементом, используется запись вида (value, ).\n",
    "\n",
    "Чтобы изменения были применены, нужно выполнить commit() (обратите внимание, что метод commit() вызывается у соединения):"
   ]
  },
  {
   "cell_type": "code",
   "execution_count": null,
   "metadata": {},
   "outputs": [],
   "source": [
    "conn.commit()"
   ]
  },
  {
   "cell_type": "markdown",
   "metadata": {},
   "source": [
    "Обратимся к сохраненным данным:"
   ]
  },
  {
   "cell_type": "code",
   "execution_count": null,
   "metadata": {},
   "outputs": [],
   "source": [
    "for row in cursor.execute(\"SELECT * FROM user\"):\n",
    "    print(row)"
   ]
  },
  {
   "cell_type": "markdown",
   "metadata": {},
   "source": [
    "#### Метод executemany()"
   ]
  },
  {
   "cell_type": "markdown",
   "metadata": {},
   "source": [
    "Метод executemany() позволяет выполнить одну команду SQL для последовательности параметров (или для итератора).\n",
    "\n",
    "С помощью метода executemany() в таблицу user можно добавить аналогичный список данных одной командой.\n",
    "\n",
    "Например, в таблицу user надо добавить данные из списка data2:"
   ]
  },
  {
   "cell_type": "code",
   "execution_count": null,
   "metadata": {},
   "outputs": [],
   "source": [
    "data2 = [\n",
    "    ('004', 'Васильев В.В.', '456', '(901)1112233'),\n",
    "    ('005', 'Сергеев С.С.',  '567', '(905)1231212')]"
   ]
  },
  {
   "cell_type": "markdown",
   "metadata": {},
   "source": [
    "Для этого нужно использовать аналогичный запрос вида:"
   ]
  },
  {
   "cell_type": "code",
   "execution_count": null,
   "metadata": {},
   "outputs": [],
   "source": [
    "query = \"INSERT into user values (?, ?, ?, ?)\""
   ]
  },
  {
   "cell_type": "markdown",
   "metadata": {},
   "source": [
    "Теперь можно передать данные методу executemany():"
   ]
  },
  {
   "cell_type": "code",
   "execution_count": null,
   "metadata": {},
   "outputs": [],
   "source": [
    "cursor.executemany(query, data2) \n",
    "\n",
    "conn.commit()"
   ]
  },
  {
   "cell_type": "markdown",
   "metadata": {},
   "source": [
    "Метод executemany() подставил соответствующие кортежи в команду SQL, и все данные добавились в таблицу."
   ]
  },
  {
   "cell_type": "code",
   "execution_count": null,
   "metadata": {},
   "outputs": [],
   "source": [
    "for row in cursor.execute(\"SELECT * FROM user\"):\n",
    "    print(row)"
   ]
  },
  {
   "cell_type": "markdown",
   "metadata": {},
   "source": [
    "#### Метод executescript()"
   ]
  },
  {
   "cell_type": "markdown",
   "metadata": {},
   "source": [
    "Метод executescript() позволяет выполнить несколько выражений SQL за один раз:"
   ]
  },
  {
   "cell_type": "code",
   "execution_count": null,
   "metadata": {},
   "outputs": [],
   "source": [
    "cursor.executescript('''\n",
    "delete from user;\n",
    "drop table user;\n",
    "''')\n",
    "conn.close()"
   ]
  },
  {
   "cell_type": "markdown",
   "metadata": {},
   "source": [
    "### Получение результатов запроса"
   ]
  },
  {
   "cell_type": "markdown",
   "metadata": {},
   "source": [
    "Для получения результатов запроса в sqlite3 есть несколько способов:\n",
    "\n",
    "* использование методов fetch...() - в зависимости от метода возвращаются одна, несколько или все строки\n",
    "* использование курсора как итератора - возвращается итератор"
   ]
  },
  {
   "cell_type": "markdown",
   "metadata": {},
   "source": [
    "#### Метод fetchone()"
   ]
  },
  {
   "cell_type": "markdown",
   "metadata": {},
   "source": [
    "Метод fetchone() возвращает одну строку данных.\n",
    "\n",
    "Пример получения информации из базы данных instacart.db:"
   ]
  },
  {
   "cell_type": "code",
   "execution_count": null,
   "metadata": {},
   "outputs": [],
   "source": [
    "conn = sqlite3.connect('instacart.db')\n",
    "\n",
    "cursor = conn.cursor()\n",
    "\n",
    "cursor.execute('select * from departments') \n",
    "\n",
    "cursor.fetchone()"
   ]
  },
  {
   "cell_type": "markdown",
   "metadata": {},
   "source": [
    "Обратите внимание, что хотя запрос SQL подразумевает, что запрашивалось всё содержимое таблицы, метод fetchone() вернул только одну строку.\n",
    "\n",
    "Если повторно вызвать метод, он вернет следующую строку:"
   ]
  },
  {
   "cell_type": "code",
   "execution_count": null,
   "metadata": {},
   "outputs": [],
   "source": [
    "cursor.fetchone()"
   ]
  },
  {
   "cell_type": "markdown",
   "metadata": {},
   "source": [
    "Аналогичным образом метод будет возвращать следующие строки. После обработки всех строк метод начинает возвращать None.\n",
    "\n",
    "За счет этого метод можно использовать в цикле, например, так:"
   ]
  },
  {
   "cell_type": "code",
   "execution_count": null,
   "metadata": {},
   "outputs": [],
   "source": [
    "cursor.execute('select * from departments')\n",
    "\n",
    "while True:\n",
    "    next_row = cursor.fetchone() \n",
    "    if next_row:\n",
    "        print(next_row) \n",
    "    else:\n",
    "        break"
   ]
  },
  {
   "cell_type": "markdown",
   "metadata": {},
   "source": [
    "#### Метод fetchmany()"
   ]
  },
  {
   "cell_type": "markdown",
   "metadata": {},
   "source": [
    "Метод fetchmany() возвращает список строк данных. Синтаксис метода:\n",
    "\n",
    "`cursor.fetchmany([size=cursor.arraysize])`\n",
    "\n",
    "С помощью параметра size можно указывать, какое количество строк возвращается. По умолчанию параметр size равен значению cursor.arraysize:"
   ]
  },
  {
   "cell_type": "code",
   "execution_count": null,
   "metadata": {},
   "outputs": [],
   "source": [
    "print(cursor.arraysize)"
   ]
  },
  {
   "cell_type": "markdown",
   "metadata": {},
   "source": [
    "Например, таким образом можно возвращать по три строки из запроса:"
   ]
  },
  {
   "cell_type": "code",
   "execution_count": null,
   "metadata": {},
   "outputs": [],
   "source": [
    "cursor.execute('select * from aisles')\n",
    "\n",
    "while True:\n",
    "    three_rows = cursor.fetchmany(3) \n",
    "    if three_rows:\n",
    "        print(three_rows) \n",
    "    else:\n",
    "        break"
   ]
  },
  {
   "cell_type": "markdown",
   "metadata": {},
   "source": [
    "Метод выдает нужное количество строк, а если строк осталось меньше, чем параметр size, то оставшиеся строки."
   ]
  },
  {
   "cell_type": "markdown",
   "metadata": {},
   "source": [
    "#### Метод fetchall()"
   ]
  },
  {
   "cell_type": "markdown",
   "metadata": {},
   "source": [
    "Метод fetchall() возвращает все строки в виде списка:"
   ]
  },
  {
   "cell_type": "code",
   "execution_count": null,
   "metadata": {},
   "outputs": [],
   "source": [
    "cursor.execute('select * from departments')\n",
    "\n",
    "cursor.fetchall()"
   ]
  },
  {
   "cell_type": "markdown",
   "metadata": {},
   "source": [
    "Важный аспект работы метода - он возвращает все оставшиеся строки.\n",
    "\n",
    "То есть, если до метода fetchall() использовался, например, метод fetchone(), то метод fetchall() вернет оставшиеся строки запроса."
   ]
  },
  {
   "cell_type": "markdown",
   "metadata": {},
   "source": [
    "#### Cursor как итератор"
   ]
  },
  {
   "cell_type": "markdown",
   "metadata": {},
   "source": [
    "Если нужно построчно обрабатывать результирующие строки, лучше использовать курсор как итератор. При этом не нужно использовать методы fetch.\n",
    "\n",
    "При использовании методов execute возвращается курсор. А, так как курсор можно использовать как итератор, можно использовать его, например, в цикле for:"
   ]
  },
  {
   "cell_type": "code",
   "execution_count": null,
   "metadata": {},
   "outputs": [],
   "source": [
    "result = cursor.execute('select * from departments')\n",
    "\n",
    "for row in result: \n",
    "    print(row)"
   ]
  },
  {
   "cell_type": "markdown",
   "metadata": {},
   "source": [
    "Аналогичный вариант отработает и без присваивания переменной:"
   ]
  },
  {
   "cell_type": "code",
   "execution_count": null,
   "metadata": {},
   "outputs": [],
   "source": [
    "for row in cursor.execute('select * from departments'): \n",
    "    print(row)"
   ]
  },
  {
   "cell_type": "markdown",
   "metadata": {},
   "source": [
    "### Использование sqlite3 без создания курсора\n"
   ]
  },
  {
   "cell_type": "markdown",
   "metadata": {},
   "source": [
    "Методы execute доступны и в объекте Connection, и в объекте Cursor, а методы fetch доступны только в объекте Cursor.\n",
    "При использовании методов execute с объектом Connection курсор возвращается как результат выполнения метода execute. Его можно использовать как итератор и получать данные без методов fetch. За счет этого при работе с модулем sqlite3 можно не создавать курсор."
   ]
  },
  {
   "cell_type": "code",
   "execution_count": null,
   "metadata": {},
   "outputs": [],
   "source": [
    "data = [\n",
    "    ('001', 'Иванов И.И.', '123', '(985)1234567'),\n",
    "    ('002', 'Петров П.П.', '234', '(903)9876543'),\n",
    "    ('003', 'Сидоров С.С.', '345', '(495)1357900'),\n",
    "    ('004', 'Васильев В.В.', '456', '(901)1112233'),\n",
    "    ('005', 'Сергеев С.С.', '567', '(905)1231212'),\n",
    "]\n",
    "conn2 = sqlite3.connect('temp.db') \n",
    "conn2.execute('''\n",
    "    create table user \n",
    "        (userid text not NULL primary key, \n",
    "        username text, \n",
    "        room text, \n",
    "        phone text)\n",
    "    '''\n",
    ")\n",
    "query = 'INSERT into user values (?, ?, ?, ?)' \n",
    "conn2.executemany(query, data)\n",
    "conn2.commit()\n",
    "for row in conn2.execute('select * from user'):\n",
    "    print(row) \n",
    "#conn2.close()"
   ]
  },
  {
   "cell_type": "markdown",
   "metadata": {},
   "source": [
    "### Обработка исключений"
   ]
  },
  {
   "cell_type": "markdown",
   "metadata": {},
   "source": [
    "Посмотрим на пример использования метода execute при возникновении ошибки.\n",
    "В таблице user поле mac должно быть уникальным. И, если попытаться записать пересекающийся MAC-адрес, возникнет ошибка:"
   ]
  },
  {
   "cell_type": "code",
   "execution_count": null,
   "metadata": {},
   "outputs": [],
   "source": [
    "query = \"INSERT into user values ('005', 'Антонов А.А.', '678', '(979)9779977')\"\n",
    "\n",
    "conn2.execute(query)"
   ]
  },
  {
   "cell_type": "markdown",
   "metadata": {},
   "source": [
    "Соответственно, можно перехватить исключение:"
   ]
  },
  {
   "cell_type": "code",
   "execution_count": null,
   "metadata": {},
   "outputs": [],
   "source": [
    "try:\n",
    "    conn2.execute(query)\n",
    "except sqlite3.IntegrityError as e:\n",
    "    print(\"Произошла ошибка: \", e)\n",
    "    \n",
    "conn2.close()   "
   ]
  },
  {
   "cell_type": "markdown",
   "metadata": {},
   "source": [
    "Обратите внимание, что надо перехватывать исключение sqlite3.IntegrityError, а не IntegrityError."
   ]
  },
  {
   "cell_type": "markdown",
   "metadata": {},
   "source": [
    "## SQL запросы к базе данных Instacart"
   ]
  },
  {
   "cell_type": "markdown",
   "metadata": {},
   "source": [
    "SQL запросы к базе данных Instacart будут предусматривать соединение различных таблиц базы данных. Например, подсчитаем количество заказов в разбивке по департаментам:"
   ]
  },
  {
   "cell_type": "code",
   "execution_count": null,
   "metadata": {},
   "outputs": [],
   "source": [
    "for row in cursor.execute(\"\"\"\n",
    "        SELECT count(DISTINCT ord.order_id),dept.department \n",
    "        FROM order_products__train as ord,products as prod,departments as dept \n",
    "        WHERE ord.product_id=prod.product_id AND prod.department_id=dept.department_id \n",
    "        GROUP BY dept.department\n",
    "        \"\"\"):\n",
    "    print(row)"
   ]
  },
  {
   "cell_type": "markdown",
   "metadata": {},
   "source": [
    "Получим количество заказов в разбивке по дням недели:"
   ]
  },
  {
   "cell_type": "code",
   "execution_count": null,
   "metadata": {},
   "outputs": [],
   "source": [
    "for row in cursor.execute(\"\"\"\n",
    "    select \n",
    "      count(order_id) as total_orders, \n",
    "      (case \n",
    "         when order_dow = '0' then 'Sunday'\n",
    "         when order_dow = '1' then 'Monday'\n",
    "         when order_dow = '2' then 'Tuesday'\n",
    "         when order_dow = '3' then 'Wednesday'\n",
    "         when order_dow = '4' then 'Thursday'\n",
    "         when order_dow = '5' then 'Friday'\n",
    "         when order_dow = '6' then 'Saturday'              \n",
    "       end) as day_of_week \n",
    "      from orders  \n",
    "     group by order_dow \n",
    "     order by total_orders desc\n",
    "     \"\"\"):\n",
    "    print(row)"
   ]
  },
  {
   "cell_type": "markdown",
   "metadata": {},
   "source": [
    "Получим количество заказов в разбивке по часам дня:"
   ]
  },
  {
   "cell_type": "code",
   "execution_count": null,
   "metadata": {},
   "outputs": [],
   "source": [
    "for row in cursor.execute(\"\"\"\n",
    "    select \n",
    "      count(order_id) as total_orders, \n",
    "      order_hour_of_day as hour \n",
    "      from orders \n",
    "     group by order_hour_of_day \n",
    "     order by order_hour_of_day\n",
    "          \"\"\"):\n",
    "    print(row)"
   ]
  },
  {
   "cell_type": "markdown",
   "metadata": {},
   "source": [
    "Получим 10 наиболее популярных продуктов:"
   ]
  },
  {
   "cell_type": "code",
   "execution_count": null,
   "metadata": {},
   "outputs": [],
   "source": [
    "for row in cursor.execute(\"\"\"\n",
    "    select count(opp.order_id) as orders, p.product_name as popular_product\n",
    "    from order_products__train opp, products p\n",
    "    where p.product_id = opp.product_id \n",
    "    group by popular_product \n",
    "    order by orders desc \n",
    "    limit 10\n",
    "    \"\"\"):\n",
    "    print(row)"
   ]
  },
  {
   "cell_type": "code",
   "execution_count": null,
   "metadata": {},
   "outputs": [],
   "source": [
    "conn.close()"
   ]
  },
  {
   "cell_type": "markdown",
   "metadata": {},
   "source": [
    "## Модуль itertools"
   ]
  },
  {
   "cell_type": "markdown",
   "metadata": {},
   "source": [
    "Модуль itertools расширяет функционал Python, связанный с созданием последовательностей объектов и манипулированием ими."
   ]
  },
  {
   "cell_type": "markdown",
   "metadata": {},
   "source": [
    "### Функция combinations()"
   ]
  },
  {
   "cell_type": "markdown",
   "metadata": {},
   "source": [
    "Функция combinations() позволяет комбинировать отдельные элементы последовательности и принимает два аргумента. Первый позволяет задать определенный объект, а второй – количество значений, которые будут присутствовать в каждом новом элементе. "
   ]
  },
  {
   "cell_type": "code",
   "execution_count": null,
   "metadata": {},
   "outputs": [],
   "source": [
    "from itertools import combinations\n",
    "data = list(combinations('РУДН', 2))\n",
    "print(data)"
   ]
  },
  {
   "cell_type": "markdown",
   "metadata": {},
   "source": [
    "Как видно из кода, функция получает строку `РУДН`, которая впоследствии раскладывается на отдельные символы. Далее происходит группировка по 2 буквы так, чтобы каждая новая выборка отличалась от всех существующих. Функция print выводит полученный список data на экран, отображая все сформированные пары символов `Р`, `У`, `Д`, `Н`."
   ]
  },
  {
   "cell_type": "markdown",
   "metadata": {},
   "source": [
    "Аналогично функция combinations работает и со списками:"
   ]
  },
  {
   "cell_type": "code",
   "execution_count": null,
   "metadata": {},
   "outputs": [],
   "source": [
    "data2 = list(combinations([1,2,3,4,5], 3))\n",
    "print(data2)"
   ]
  },
  {
   "cell_type": "markdown",
   "metadata": {},
   "source": [
    "### Функция chain()"
   ]
  },
  {
   "cell_type": "markdown",
   "metadata": {},
   "source": [
    "Функция chain() выполняет объединение списков, возвращая итератор, как это показано в следующем примере. Итоговый массив содержит все элементы данных последовательностей."
   ]
  },
  {
   "cell_type": "code",
   "execution_count": null,
   "metadata": {},
   "outputs": [],
   "source": [
    "from itertools import chain\n",
    "list1 = ['Р', 'У', 'Д', 'Н']\n",
    "list2 = [1, 2, 3, 4, 5]\n",
    "data = list(chain(list1, list2))\n",
    "print(data)"
   ]
  },
  {
   "cell_type": "markdown",
   "metadata": {},
   "source": [
    "### Функция chain.from_iterable()"
   ]
  },
  {
   "cell_type": "markdown",
   "metadata": {},
   "source": [
    "Функция работает аналогично функции chain, выполняя объединение списков. Отличие заключается в том, что аргумент только один – вложенный список со списками, которые надо объединить."
   ]
  },
  {
   "cell_type": "code",
   "execution_count": null,
   "metadata": {},
   "outputs": [],
   "source": [
    "from itertools import chain\n",
    "list0 = [['Р', 'У', 'Д', 'Н'], [1, 2, 3, 4, 5]]\n",
    "data = list(chain.from_iterable(list0))\n",
    "print(data)"
   ]
  },
  {
   "cell_type": "markdown",
   "metadata": {},
   "source": [
    "### Множество всех подмножеств"
   ]
  },
  {
   "cell_type": "markdown",
   "metadata": {},
   "source": [
    "Для построения множества всех подмножеств данного множества (в теоретико-множественном смысле) можем использовать следующую функцию:"
   ]
  },
  {
   "cell_type": "code",
   "execution_count": null,
   "metadata": {},
   "outputs": [],
   "source": [
    "from itertools import chain, combinations\n",
    "\n",
    "def powerset(iterable):\n",
    "    xs = list(iterable)\n",
    "    # возвращаем итератор, а не список\n",
    "    return chain.from_iterable(combinations(xs,n) for n in range(len(xs)+1))\n",
    "\n",
    "print(list(powerset([1,2,3,4])))"
   ]
  },
  {
   "cell_type": "markdown",
   "metadata": {},
   "source": [
    "## Поиск ассоциативных правил в учебном наборе транзакций"
   ]
  },
  {
   "cell_type": "markdown",
   "metadata": {},
   "source": [
    "Будем использовать следующий учебный набор транзакций:"
   ]
  },
  {
   "cell_type": "code",
   "execution_count": null,
   "metadata": {},
   "outputs": [],
   "source": [
    "D_train = [\n",
    "    [ 1, {\"A\",\"B\",\"D\",\"E\"} ],\n",
    "    [ 2, {\"B\",\"C\",\"E\"} ],\n",
    "    [ 3, {\"A\",\"B\",\"D\",\"E\"} ],\n",
    "    [ 4, {\"A\",\"B\",\"C\",\"E\"} ],\n",
    "    [ 5, {\"A\",\"B\",\"C\",\"D\",\"E\"} ],\n",
    "    [ 6, {\"B\",\"C\",\"D\"} ],\n",
    "]"
   ]
  },
  {
   "cell_type": "markdown",
   "metadata": {},
   "source": [
    "Чтобы посчитать поддержку заданного набора предметов, будем использовать следуюшую функцию:"
   ]
  },
  {
   "cell_type": "code",
   "execution_count": null,
   "metadata": {},
   "outputs": [],
   "source": [
    "def ComputeSupport( X, D ):\n",
    "    supX = 0\n",
    "    for _,itemset in D:\n",
    "        if X.issubset( itemset ):\n",
    "            supX += 1\n",
    "    return supX"
   ]
  },
  {
   "cell_type": "markdown",
   "metadata": {},
   "source": [
    "Например,"
   ]
  },
  {
   "cell_type": "code",
   "execution_count": null,
   "metadata": {},
   "outputs": [],
   "source": [
    "X = {\"B\",\"C\",\"E\"}\n",
    "\n",
    "print(\"\\nsup(\", X, \") =\", ComputeSupport(X, D_train))"
   ]
  },
  {
   "cell_type": "markdown",
   "metadata": {},
   "source": [
    "Для построения множества всех подмножеств используем функцию powerset():"
   ]
  },
  {
   "cell_type": "code",
   "execution_count": null,
   "metadata": {},
   "outputs": [],
   "source": [
    "I = {\"A\",\"B\",\"C\", \"D\", \"E\"}\n",
    "\n",
    "print(\"\\nМножество всех подмножеств множества\", I, \":\")  \n",
    "for itemset in powerset( I ):\n",
    "    print( itemset )"
   ]
  },
  {
   "cell_type": "markdown",
   "metadata": {},
   "source": [
    "### Построение популярных наборов предметов"
   ]
  },
  {
   "cell_type": "markdown",
   "metadata": {},
   "source": [
    "Алгоритм BruteForce может быть реализован следующим образом:"
   ]
  },
  {
   "cell_type": "code",
   "execution_count": null,
   "metadata": {},
   "outputs": [],
   "source": [
    "def BruteForce( D, I, minsup ):\n",
    "    F = []\n",
    "    for X in powerset( I ):\n",
    "        if len( X ) > 0:\n",
    "            supX = ComputeSupport( set( X ), D )\n",
    "            if supX >= minsup:\n",
    "                F.append( [ X, supX ] )\n",
    "    return F"
   ]
  },
  {
   "cell_type": "markdown",
   "metadata": {},
   "source": [
    "Построим популярные наборы для заданного уровня минимальной поддержки:"
   ]
  },
  {
   "cell_type": "code",
   "execution_count": null,
   "metadata": {},
   "outputs": [],
   "source": [
    "minsup = 3\n",
    "\n",
    "print(\"\\nПопулярные наборы предметов для minsup =\", minsup, \":\") \n",
    "\n",
    "for itemset in BruteForce( D_train, I, minsup ):\n",
    "    print( itemset )"
   ]
  },
  {
   "cell_type": "markdown",
   "metadata": {},
   "source": [
    "Замечание. При построении дерева префиксов в алгоритмах Apriori, Eclat и dEclat нужно разделять названия предметов (товаров) каким-либо символом (разделителем), который не встречается в названиях."
   ]
  },
  {
   "cell_type": "markdown",
   "metadata": {},
   "source": [
    "### Построение ассоциативных правил"
   ]
  },
  {
   "cell_type": "markdown",
   "metadata": {},
   "source": [
    "Будем считать, что задан популярный набор предметов и задача состоит в получении ассоциативных правил с заданным минимальным уровнем достоверности.  "
   ]
  },
  {
   "cell_type": "code",
   "execution_count": null,
   "metadata": {},
   "outputs": [],
   "source": [
    "F_set, _ = BruteForce( D_train, I, minsup )[-1]\n",
    "F_set"
   ]
  },
  {
   "cell_type": "markdown",
   "metadata": {},
   "source": [
    "Алгоритм AssociationRules для случая построения ассоциативных правил по заданному популярному набору предметов может быть реализован следующим образом:"
   ]
  },
  {
   "cell_type": "code",
   "execution_count": null,
   "metadata": {},
   "outputs": [],
   "source": [
    "def powersetk(iterable,k):\n",
    "    xs = list(iterable)\n",
    "    # возвращаем итератор, а не список\n",
    "    return chain.from_iterable(combinations(xs,n) for n in range(k,len(xs)+1))\n",
    "\n",
    "def AssociationRules(D, Z_set, minconf):\n",
    "    A_rules = []\n",
    "    supZ = ComputeSupport(set(Z_set), D)\n",
    "    A_set = list(powersetk(Z_set,1))[:-1]\n",
    "    # print(\"\\nA_set:\",A_set)\n",
    "    while len(A_set)>0:\n",
    "        X_set = A_set[-1]\n",
    "        #print(\"\\nX_set:\",X_set)\n",
    "        A_set.pop()\n",
    "        conf = supZ/ComputeSupport(set(X_set), D)\n",
    "        if conf >= minconf:\n",
    "            Y_set = sorted(list(set(Z_set)-set(X_set)))\n",
    "            A_rules.append([X_set, Y_set, supZ, conf])\n",
    "        else:\n",
    "            for W_set in powersetk(X_set,1):\n",
    "                if W_set in A_set:\n",
    "                    A_set.remove(W_set)\n",
    "    return A_rules\n",
    "\n",
    "AssociationRules(D_train, F_set, 0.9)"
   ]
  },
  {
   "cell_type": "markdown",
   "metadata": {},
   "source": [
    "### Задание на лабораторную работу №3"
   ]
  },
  {
   "cell_type": "markdown",
   "metadata": {},
   "source": [
    "#### Задание (10 баллов)"
   ]
  },
  {
   "cell_type": "markdown",
   "metadata": {},
   "source": [
    "Для закрепленного за Вами варианта лабораторной работы:\n",
    "\n",
    "1.\tПри помощи модуля sqlite3 откройте базу данных Instacart в файле instacart.db.\n",
    "\n",
    "2.\tПри помощи запроса SELECT извлеките из таблицы order_products__train записи, соответствующие указанным в индивидуальном задании дню недели (поле order_dow таблицы orders) и коду департамента (поле department_id таблицы products). Определите количество записей в полученном наборе и определите количество товаров (поле order_id таблицы order_products__train) в транзакциях набора.\n",
    "\n",
    "3.\tОпределите количество покупок (транзакций) для пяти наиболее популярных товаров в наборе.\n",
    "\n",
    "4.\tПостройте транзакционную базу данных для поиск ассоциативных правил из полученного набора записей таблицы order_products__train, используя в качестве идентификатора транзакции поле order_id, а в качестве названий товаров - поле product_name из таблицы products, соответствующее полю product_id.\n",
    "\n",
    "5.\tРеализуйте указанный в индивидуальном задании метод построения популярных наборов предметов (Apriori/Eclat/Declat) (3 балла) или используйте метод BruteForce (0 баллов). Протестируйте корректность реализации алгоритма на учебном наборе данных из материалов лекции.\n",
    "\n",
    "6.\tПри помощи указанного в индивидуальном задании метода или метода BruteForce постройте популярные наборы товаров с минимальной поддержкой, равной половине среднего количества покупок пяти наиболее популярных товаров. В случае нехватки вычислительных ресурсов (слишком долгой работы программы) при построении популярных наборов товаров оставьте в наборе данных транзакции с 10 наиболее популярными товарами и сокращайте число записей (например, методом деления пополам).\n",
    "\n",
    "7.\tДля какого-либо из полученных популярных наборов товаров постройте набор ассоциативных правил.\n",
    "\n",
    "8.\tДля построенного набора ассоциативных правил вычислите показатели: support, confidence, lift, leverage, conviction и выведите на экран.\n"
   ]
  },
  {
   "cell_type": "code",
   "execution_count": null,
   "metadata": {},
   "outputs": [],
   "source": []
  }
 ],
 "metadata": {
  "kernelspec": {
   "display_name": "Python 3",
   "language": "python",
   "name": "python3"
  },
  "language_info": {
   "codemirror_mode": {
    "name": "ipython",
    "version": 3
   },
   "file_extension": ".py",
   "mimetype": "text/x-python",
   "name": "python",
   "nbconvert_exporter": "python",
   "pygments_lexer": "ipython3",
   "version": "3.7.3"
  }
 },
 "nbformat": 4,
 "nbformat_minor": 4
}
