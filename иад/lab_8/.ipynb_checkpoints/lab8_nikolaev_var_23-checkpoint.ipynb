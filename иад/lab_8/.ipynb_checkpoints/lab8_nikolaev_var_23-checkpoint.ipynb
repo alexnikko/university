{
 "cells": [
  {
   "cell_type": "markdown",
   "metadata": {},
   "source": [
    "### РОССИЙСКИЙ УНИВЕРСИТЕТ ДРУЖБЫ НАРОДОВ"
   ]
  },
  {
   "cell_type": "markdown",
   "metadata": {},
   "source": [
    "#### Факультет физико-математических и естественных наук  \n",
    "#### Кафедра информационных технологий "
   ]
  },
  {
   "cell_type": "markdown",
   "metadata": {},
   "source": [
    "## ОТЧЕТ ПО ЛАБОРАТОРНОЙ РАБОТЕ №8"
   ]
  },
  {
   "cell_type": "markdown",
   "metadata": {},
   "source": [
    "#### Дисциплина: Интеллектуальный анализ данных"
   ]
  },
  {
   "cell_type": "markdown",
   "metadata": {},
   "source": [
    "##### Студент:  Николаев Александр Викторович\n",
    "##### Группа:   НФИбд-01-17"
   ]
  },
  {
   "cell_type": "markdown",
   "metadata": {},
   "source": [
    "## Москва 2020\n",
    "***"
   ]
  },
  {
   "cell_type": "markdown",
   "metadata": {},
   "source": [
    "### Вариант №23"
   ]
  },
  {
   "cell_type": "markdown",
   "metadata": {},
   "source": [
    "Coil 1999 Competition Data Data Set  \n",
    "\n",
    "Название файла: analysis.data \n",
    "\n",
    "Ссылка: http://archive.ics.uci.edu/ml/datasets/Coil+1999+Competition+Data  \n",
    "\n",
    "Предиктор: столбец No 4 \n",
    "\n",
    "Зависимая переменная: столбец No 5 "
   ]
  },
  {
   "cell_type": "markdown",
   "metadata": {},
   "source": [
    "Импорт необходимых библиотек"
   ]
  },
  {
   "cell_type": "code",
   "execution_count": 1,
   "metadata": {},
   "outputs": [],
   "source": [
    "import numpy as np\n",
    "import pandas as pd\n",
    "import matplotlib.pyplot as plt\n",
    "%matplotlib inline\n",
    "\n",
    "from sklearn.preprocessing import MinMaxScaler, StandardScaler, PolynomialFeatures\n",
    "from sklearn.model_selection import train_test_split, GridSearchCV\n",
    "\n",
    "from sklearn.linear_model import LinearRegression, SGDRegressor, Ridge, Lasso, ElasticNet\n",
    "from sklearn.neighbors import KNeighborsRegressor\n",
    "from sklearn.tree import DecisionTreeRegressor\n",
    "from sklearn.svm import SVR\n",
    "\n",
    "from sklearn.pipeline import Pipeline\n",
    "from sklearn.metrics import r2_score\n",
    "\n",
    "import warnings\n",
    "warnings.filterwarnings('ignore')"
   ]
  },
  {
   "cell_type": "markdown",
   "metadata": {},
   "source": [
    "Считываем данные"
   ]
  },
  {
   "cell_type": "code",
   "execution_count": 2,
   "metadata": {},
   "outputs": [
    {
     "data": {
      "text/html": [
       "<div>\n",
       "<style scoped>\n",
       "    .dataframe tbody tr th:only-of-type {\n",
       "        vertical-align: middle;\n",
       "    }\n",
       "\n",
       "    .dataframe tbody tr th {\n",
       "        vertical-align: top;\n",
       "    }\n",
       "\n",
       "    .dataframe thead th {\n",
       "        text-align: right;\n",
       "    }\n",
       "</style>\n",
       "<table border=\"1\" class=\"dataframe\">\n",
       "  <thead>\n",
       "    <tr style=\"text-align: right;\">\n",
       "      <th></th>\n",
       "      <th>x</th>\n",
       "      <th>y</th>\n",
       "    </tr>\n",
       "  </thead>\n",
       "  <tbody>\n",
       "    <tr>\n",
       "      <th>0</th>\n",
       "      <td>8.00</td>\n",
       "      <td>9.8</td>\n",
       "    </tr>\n",
       "    <tr>\n",
       "      <th>1</th>\n",
       "      <td>8.35</td>\n",
       "      <td>8.0</td>\n",
       "    </tr>\n",
       "    <tr>\n",
       "      <th>2</th>\n",
       "      <td>8.10</td>\n",
       "      <td>11.4</td>\n",
       "    </tr>\n",
       "    <tr>\n",
       "      <th>3</th>\n",
       "      <td>8.07</td>\n",
       "      <td>4.8</td>\n",
       "    </tr>\n",
       "    <tr>\n",
       "      <th>4</th>\n",
       "      <td>8.06</td>\n",
       "      <td>9.0</td>\n",
       "    </tr>\n",
       "    <tr>\n",
       "      <th>...</th>\n",
       "      <td>...</td>\n",
       "      <td>...</td>\n",
       "    </tr>\n",
       "    <tr>\n",
       "      <th>195</th>\n",
       "      <td>8.40</td>\n",
       "      <td>8.4</td>\n",
       "    </tr>\n",
       "    <tr>\n",
       "      <th>196</th>\n",
       "      <td>8.30</td>\n",
       "      <td>10.6</td>\n",
       "    </tr>\n",
       "    <tr>\n",
       "      <th>197</th>\n",
       "      <td>8.20</td>\n",
       "      <td>7.0</td>\n",
       "    </tr>\n",
       "    <tr>\n",
       "      <th>198</th>\n",
       "      <td>8.00</td>\n",
       "      <td>7.6</td>\n",
       "    </tr>\n",
       "    <tr>\n",
       "      <th>199</th>\n",
       "      <td>8.50</td>\n",
       "      <td>6.7</td>\n",
       "    </tr>\n",
       "  </tbody>\n",
       "</table>\n",
       "<p>197 rows × 2 columns</p>\n",
       "</div>"
      ],
      "text/plain": [
       "        x     y\n",
       "0    8.00   9.8\n",
       "1    8.35   8.0\n",
       "2    8.10  11.4\n",
       "3    8.07   4.8\n",
       "4    8.06   9.0\n",
       "..    ...   ...\n",
       "195  8.40   8.4\n",
       "196  8.30  10.6\n",
       "197  8.20   7.0\n",
       "198  8.00   7.6\n",
       "199  8.50   6.7\n",
       "\n",
       "[197 rows x 2 columns]"
      ]
     },
     "execution_count": 2,
     "metadata": {},
     "output_type": "execute_result"
    }
   ],
   "source": [
    "# read data\n",
    "data = pd.read_csv('http://archive.ics.uci.edu/ml/machine-learning-databases/coil-mld/analysis.data', header=None)\n",
    "data = data.iloc[:, [3, 4]]\n",
    "\n",
    "# drop rows with XXXXXX values\n",
    "data.drop(index=data[(data == 'XXXXXXX').any(axis=1)].index, inplace=True)\n",
    "\n",
    "# rename columns\n",
    "data.columns = ['x', 'y']\n",
    "\n",
    "# change dtype to float\n",
    "for col in data.columns:\n",
    "    data[col] = data[col].astype(float)\n",
    "    \n",
    "# show data\n",
    "data"
   ]
  },
  {
   "cell_type": "code",
   "execution_count": 3,
   "metadata": {},
   "outputs": [
    {
     "data": {
      "text/plain": [
       "x    0\n",
       "y    0\n",
       "dtype: int64"
      ]
     },
     "execution_count": 3,
     "metadata": {},
     "output_type": "execute_result"
    }
   ],
   "source": [
    "data.isna().sum() + (data == '?').sum()"
   ]
  },
  {
   "cell_type": "markdown",
   "metadata": {},
   "source": [
    "Пропусков нет."
   ]
  },
  {
   "cell_type": "markdown",
   "metadata": {},
   "source": [
    "Масштабируем переменные на отрезок [0, 1] с помощью MinMaxScaler"
   ]
  },
  {
   "cell_type": "code",
   "execution_count": 4,
   "metadata": {},
   "outputs": [],
   "source": [
    "scaler = MinMaxScaler()\n",
    "data = scaler.fit_transform(data)"
   ]
  },
  {
   "cell_type": "code",
   "execution_count": 5,
   "metadata": {},
   "outputs": [],
   "source": [
    "x = data[:, 0].reshape(-1, 1)\n",
    "y = data[:, 1]"
   ]
  },
  {
   "cell_type": "code",
   "execution_count": 6,
   "metadata": {},
   "outputs": [
    {
     "data": {
      "image/png": "[encoded data removed]",
      "text/plain": [
       "<Figure size 432x288 with 1 Axes>"
      ]
     },
     "metadata": {
      "needs_background": "light"
     },
     "output_type": "display_data"
    }
   ],
   "source": [
    "plt.title('plot x and y')\n",
    "plt.ylabel('y')\n",
    "plt.xlabel('x')\n",
    "plt.scatter(x, y);"
   ]
  },
  {
   "cell_type": "markdown",
   "metadata": {},
   "source": [
    "По ощущениям слабая корреляция между независимой и зависимой переменной, поэтому хорошей модели построить не получится по одному предиктору. Возможно, полиномиальные фичи дадут прирост."
   ]
  },
  {
   "cell_type": "markdown",
   "metadata": {},
   "source": [
    "Разобьём данные на трейн и тест"
   ]
  },
  {
   "cell_type": "code",
   "execution_count": 7,
   "metadata": {},
   "outputs": [],
   "source": [
    "seed = 42\n",
    "x_train, x_test, y_train, y_test = train_test_split(x, y, test_size=0.2, random_state=seed)"
   ]
  },
  {
   "cell_type": "markdown",
   "metadata": {},
   "source": [
    "Построим регрессоры на основе:\n",
    "- линейной регрессии (LinearRegression)\n",
    "- полиномиальной регрессии (PolynomialFeatures+LinearRegression)\n",
    "- стохастического градиентного спуска (SGDRegressor)\n",
    "- гребневой регрессии (Ridge)\n",
    "- лассо регрессии (Lasso)\n",
    "- регрессии эластичная сеть (ElasticNet)\n",
    "- регрессии на основе метода ближайших соседей (KNeighborsRegressor)\n",
    "- регрессии на основе деревьев решений (DecisionTreeRegressor)\n",
    "- регрессии на основе метода опорных векторов (SVR)"
   ]
  },
  {
   "cell_type": "code",
   "execution_count": 8,
   "metadata": {},
   "outputs": [],
   "source": [
    "degree = 2\n",
    "lr = LinearRegression()\n",
    "plr = Pipeline([\n",
    "    ('poly', PolynomialFeatures(degree)),\n",
    "    ('scaler', StandardScaler()),\n",
    "    ('LR', LinearRegression())])\n",
    "sgd = SGDRegressor()\n",
    "ridge = Ridge()\n",
    "lasso = Lasso()\n",
    "enet = ElasticNet()\n",
    "knn = KNeighborsRegressor()\n",
    "tree = DecisionTreeRegressor()\n",
    "svm = SVR()\n",
    "\n",
    "models = [lr, plr, sgd, ridge, lasso, enet, knn, tree, svm]\n",
    "names = ['Linear Regression', 'Polynomial Regression', 'SGDRegression', 'Ridge',\n",
    "        'Lasso', 'ElasticNet', 'KNNRegression', 'DecisionTreeRegression', 'SVM']"
   ]
  },
  {
   "cell_type": "code",
   "execution_count": 9,
   "metadata": {},
   "outputs": [],
   "source": [
    "preds = []\n",
    "scores = []\n",
    "for model in models:\n",
    "    model.fit(x_train, y_train)\n",
    "    pred = model.predict(x_test)\n",
    "    score = r2_score(y_test, pred)\n",
    "    \n",
    "    preds.append(preds)\n",
    "    scores.append(score)"
   ]
  },
  {
   "cell_type": "code",
   "execution_count": 10,
   "metadata": {},
   "outputs": [
    {
     "name": "stdout",
     "output_type": "stream",
     "text": [
      "             SVM               R^2 SCORE = 0.0313412358925681\n",
      "    Polynomial Regression      R^2 SCORE = 0.018245999434477023\n",
      "            Ridge              R^2 SCORE = 0.010545222362461804\n",
      "      Linear Regression        R^2 SCORE = 0.006664661849033582\n",
      "            Lasso              R^2 SCORE = -0.00023620926624179361\n",
      "          ElasticNet           R^2 SCORE = -0.00023620926624179361\n",
      "        SGDRegression          R^2 SCORE = -0.06775503345593159\n",
      "        KNNRegression          R^2 SCORE = -0.09634853525955478\n",
      "    DecisionTreeRegression     R^2 SCORE = -0.3678804819498167\n"
     ]
    }
   ],
   "source": [
    "for score, name in sorted(zip(scores, names), reverse=True):\n",
    "    print(f'{name:^30} R^2 SCORE = {score}')"
   ]
  },
  {
   "cell_type": "markdown",
   "metadata": {},
   "source": [
    "Подберем параметры для каждой модели кроме LR"
   ]
  },
  {
   "cell_type": "code",
   "execution_count": 11,
   "metadata": {},
   "outputs": [],
   "source": [
    "# задаем сетку для каждой модели\n",
    "params_poly = {'poly__degree': [deg for deg in range(2, 11)]}\n",
    "params_sgd = {\n",
    "    'loss': ['squared_loss', 'huber', 'epsilon_insensitive', 'squared_epsilon_insensitive'],\n",
    "    'penalty': ['l1', 'l2', 'elasticnet'],}\n",
    "params_ridge = {\n",
    "    'fit_intercept': [True, False],\n",
    "    'alpha': [i / 1000 for i in range(1, 100001, 200)]}\n",
    "params_lasso = {\n",
    "    'fit_intercept': [True, False],\n",
    "    'alpha': [i / 1000 for i in range(1, 100001, 200)]}\n",
    "params_enet = {\n",
    "    'fit_intercept': [True, False],\n",
    "    'alpha': [i / 1000 for i in range(1, 10001, 500)],\n",
    "    'l1_ratio': [i / 1000 for i in range(1, 10001, 500)]}\n",
    "params_knn = {\n",
    "    'n_neighbors': [i for i in range(1, 31)],\n",
    "    'weights': ['uniform', 'distance'],\n",
    "    'p': [0.5, 1, 2, 3]}\n",
    "params_tree = {\n",
    "    'criterion': ['mse', 'friedman_mse', 'mae'],\n",
    "    'splitter': ['best', 'random'],\n",
    "    'max_depth': [None, 2, 3, 4, 5, 6, 7, 8, 9, 10, 11],\n",
    "    'min_samples_leaf': [i for i in range(1, 11)]}\n",
    "params_svm = {\n",
    "    'kernel': ['linear', 'rbf', 'sigmoid'],\n",
    "    'gamma': ['scale', 'auto'],\n",
    "    'C': [0.001, 0.01, 0.1, 1, 10, 100]}\n",
    "\n",
    "# Будем фитить на трейне только.\n",
    "params_models = [params_poly, params_sgd, params_ridge, params_lasso, params_enet, params_knn, params_tree, params_svm]\n",
    "best_models = [LinearRegression().fit(x_train, y_train)]\n",
    "for model, params in zip(models[1:], params_models):\n",
    "    clf = GridSearchCV(model, params, scoring='r2', cv=5)\n",
    "    clf.fit(x_train, y_train)\n",
    "    best_models.append(clf.best_estimator_)"
   ]
  },
  {
   "cell_type": "markdown",
   "metadata": {},
   "source": [
    "Нарисуем результаты."
   ]
  },
  {
   "cell_type": "code",
   "execution_count": 12,
   "metadata": {},
   "outputs": [
    {
     "data": {
      "image/png": "[encoded data removed]",
      "text/plain": [
       "<Figure size 1440x720 with 1 Axes>"
      ]
     },
     "metadata": {
      "needs_background": "light"
     },
     "output_type": "display_data"
    }
   ],
   "source": [
    "plt.figure(figsize=(20, 10))\n",
    "plt.scatter(x_test, y_test)\n",
    "x_space = np.linspace(0, 1, 1000).reshape(-1, 1)\n",
    "color = iter(plt.cm.rainbow(np.linspace(0, 1, len(best_models))))\n",
    "for model, name in zip(best_models, names):\n",
    "    c = next(color)\n",
    "    y_pred = model.predict(x_space)\n",
    "    plt.plot(x_space, y_pred, c=c, label=name)\n",
    "plt.legend()\n",
    "plt.show()"
   ]
  },
  {
   "cell_type": "markdown",
   "metadata": {},
   "source": [
    "Посчитаем $R^2$ на отложенной выборке и выберим наилучший эстиматор."
   ]
  },
  {
   "cell_type": "code",
   "execution_count": 13,
   "metadata": {},
   "outputs": [
    {
     "name": "stdout",
     "output_type": "stream",
     "text": [
      "    Polynomial Regression      R^2 SCORE = 0.018245999434477023\n",
      "        KNNRegression          R^2 SCORE = 0.010354218644382684\n",
      "            Lasso              R^2 SCORE = 0.010060334736222698\n",
      "          ElasticNet           R^2 SCORE = 0.007695316884713366\n",
      "            Ridge              R^2 SCORE = 0.006671955300546539\n",
      "      Linear Regression        R^2 SCORE = 0.006664661849033582\n",
      "             SVM               R^2 SCORE = -0.00042561306302735247\n",
      "    DecisionTreeRegression     R^2 SCORE = -0.03271709809891554\n",
      "        SGDRegression          R^2 SCORE = -0.06463214573449139\n"
     ]
    }
   ],
   "source": [
    "scores_of_best = [r2_score(y_test, best_model.predict(x_test)) for best_model in best_models]\n",
    "for score, name in sorted(zip(scores_of_best, names), reverse=True):\n",
    "    print(f'{name:^30} R^2 SCORE = {score}')"
   ]
  },
  {
   "cell_type": "markdown",
   "metadata": {},
   "source": [
    "Лучшим на тесте оказалась полиномиальная регрессия.\n",
    "Вторым по результатам оказался KNN (метод ближайших соседей). Что на самом деле очень логично, т.к. точки на плоскости по сути представляют собой плотное облоко и довольно логично было бы делать предсказание на основе ближайших точек, в силу как раз плотности."
   ]
  }
 ],
 "metadata": {
  "kernelspec": {
   "display_name": "Python 3",
   "language": "python",
   "name": "python3"
  },
  "language_info": {
   "codemirror_mode": {
    "name": "ipython",
    "version": 3
   },
   "file_extension": ".py",
   "mimetype": "text/x-python",
   "name": "python",
   "nbconvert_exporter": "python",
   "pygments_lexer": "ipython3",
   "version": "3.8.5"
  },
  "toc": {
   "base_numbering": 1,
   "nav_menu": {},
   "number_sections": true,
   "sideBar": true,
   "skip_h1_title": false,
   "title_cell": "Table of Contents",
   "title_sidebar": "Contents",
   "toc_cell": false,
   "toc_position": {},
   "toc_section_display": true,
   "toc_window_display": false
  },
  "varInspector": {
   "cols": {
    "lenName": 16,
    "lenType": 16,
    "lenVar": 40
   },
   "kernels_config": {
    "python": {
     "delete_cmd_postfix": "",
     "delete_cmd_prefix": "del ",
     "library": "var_list.py",
     "varRefreshCmd": "print(var_dic_list())"
    },
    "r": {
     "delete_cmd_postfix": ") ",
     "delete_cmd_prefix": "rm(",
     "library": "var_list.r",
     "varRefreshCmd": "cat(var_dic_list()) "
    }
   },
   "types_to_exclude": [
    "module",
    "function",
    "builtin_function_or_method",
    "instance",
    "_Feature"
   ],
   "window_display": false
  }
 },
 "nbformat": 4,
 "nbformat_minor": 4
}
