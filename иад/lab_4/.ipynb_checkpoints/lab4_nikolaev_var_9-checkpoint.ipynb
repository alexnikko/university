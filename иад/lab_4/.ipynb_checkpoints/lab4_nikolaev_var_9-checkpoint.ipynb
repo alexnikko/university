{
 "cells": [
  {
   "cell_type": "markdown",
   "metadata": {},
   "source": [
    "### РОССИЙСКИЙ УНИВЕРСИТЕТ ДРУЖБЫ НАРОДОВ"
   ]
  },
  {
   "cell_type": "markdown",
   "metadata": {},
   "source": [
    "#### Факультет физико-математических и естественных наук  \n",
    "#### Кафедра информационных технологий "
   ]
  },
  {
   "cell_type": "markdown",
   "metadata": {},
   "source": [
    "## ОТЧЕТ ПО ЛАБОРАТОРНОЙ РАБОТЕ №4"
   ]
  },
  {
   "cell_type": "markdown",
   "metadata": {},
   "source": [
    "#### Дисциплина: Интеллектуальный анализ данных"
   ]
  },
  {
   "cell_type": "markdown",
   "metadata": {},
   "source": [
    "##### Студент:  Николаев Александр Викторович\n",
    "##### Группа:   НФИбд-01-17"
   ]
  },
  {
   "cell_type": "markdown",
   "metadata": {},
   "source": [
    "## Москва 2020\n",
    "***"
   ]
  },
  {
   "cell_type": "markdown",
   "metadata": {},
   "source": [
    "### Вариант №9"
   ]
  },
  {
   "cell_type": "code",
   "execution_count": 1,
   "metadata": {},
   "outputs": [],
   "source": [
    "import numpy as np\n",
    "import pandas as pd\n",
    "import matplotlib.pyplot as plt\n",
    "%matplotlib inline"
   ]
  },
  {
   "cell_type": "markdown",
   "metadata": {},
   "source": [
    "1. Считаем из [заданного набора данных](http://archive.ics.uci.edu/ml/machine-learning-databases/abalone/abalone.data) репозитария UCI значения двух признаков (Length - столбец с индексом 1 и Diameter - столбец с индексом 2) и метки класса (Sex - столбец с индексом 0)."
   ]
  },
  {
   "cell_type": "code",
   "execution_count": 2,
   "metadata": {},
   "outputs": [
    {
     "data": {
      "text/html": [
       "<div>\n",
       "<style scoped>\n",
       "    .dataframe tbody tr th:only-of-type {\n",
       "        vertical-align: middle;\n",
       "    }\n",
       "\n",
       "    .dataframe tbody tr th {\n",
       "        vertical-align: top;\n",
       "    }\n",
       "\n",
       "    .dataframe thead th {\n",
       "        text-align: right;\n",
       "    }\n",
       "</style>\n",
       "<table border=\"1\" class=\"dataframe\">\n",
       "  <thead>\n",
       "    <tr style=\"text-align: right;\">\n",
       "      <th></th>\n",
       "      <th>sex</th>\n",
       "      <th>length</th>\n",
       "      <th>diameter</th>\n",
       "    </tr>\n",
       "  </thead>\n",
       "  <tbody>\n",
       "    <tr>\n",
       "      <th>0</th>\n",
       "      <td>2</td>\n",
       "      <td>0.455</td>\n",
       "      <td>0.365</td>\n",
       "    </tr>\n",
       "    <tr>\n",
       "      <th>1</th>\n",
       "      <td>2</td>\n",
       "      <td>0.350</td>\n",
       "      <td>0.265</td>\n",
       "    </tr>\n",
       "    <tr>\n",
       "      <th>2</th>\n",
       "      <td>0</td>\n",
       "      <td>0.530</td>\n",
       "      <td>0.420</td>\n",
       "    </tr>\n",
       "    <tr>\n",
       "      <th>3</th>\n",
       "      <td>2</td>\n",
       "      <td>0.440</td>\n",
       "      <td>0.365</td>\n",
       "    </tr>\n",
       "    <tr>\n",
       "      <th>4</th>\n",
       "      <td>1</td>\n",
       "      <td>0.330</td>\n",
       "      <td>0.255</td>\n",
       "    </tr>\n",
       "  </tbody>\n",
       "</table>\n",
       "</div>"
      ],
      "text/plain": [
       "   sex  length  diameter\n",
       "0    2   0.455     0.365\n",
       "1    2   0.350     0.265\n",
       "2    0   0.530     0.420\n",
       "3    2   0.440     0.365\n",
       "4    1   0.330     0.255"
      ]
     },
     "execution_count": 2,
     "metadata": {},
     "output_type": "execute_result"
    }
   ],
   "source": [
    "#read data\n",
    "data = pd.read_csv('http://archive.ics.uci.edu/ml/machine-learning-databases/abalone/abalone.data',\n",
    "                   header=None,\n",
    "                   usecols=[0, 1, 2],\n",
    "                   names=['sex', 'length', 'diameter'])\n",
    "#transform category to int\n",
    "data['sex'] = data['sex'].astype('category').cat.codes\n",
    "match_class = {\n",
    "    2: 'Male',\n",
    "    0: 'Female',\n",
    "    1: 'Infant'\n",
    "}\n",
    "data.head()"
   ]
  },
  {
   "cell_type": "markdown",
   "metadata": {},
   "source": [
    "2. Проверим данные на наличие пропусков."
   ]
  },
  {
   "cell_type": "code",
   "execution_count": 3,
   "metadata": {},
   "outputs": [
    {
     "data": {
      "text/plain": [
       "sex         0\n",
       "length      0\n",
       "diameter    0\n",
       "dtype: int64"
      ]
     },
     "execution_count": 3,
     "metadata": {},
     "output_type": "execute_result"
    }
   ],
   "source": [
    "data.isna().sum()"
   ]
  },
  {
   "cell_type": "markdown",
   "metadata": {},
   "source": [
    "Пропусков нет."
   ]
  },
  {
   "cell_type": "markdown",
   "metadata": {},
   "source": [
    "3. Посмотрим количество меток класса и заодно их распределение."
   ]
  },
  {
   "cell_type": "code",
   "execution_count": 4,
   "metadata": {},
   "outputs": [
    {
     "data": {
      "text/plain": [
       "2    0.365813\n",
       "1    0.321283\n",
       "0    0.312904\n",
       "Name: sex, dtype: float64"
      ]
     },
     "execution_count": 4,
     "metadata": {},
     "output_type": "execute_result"
    }
   ],
   "source": [
    "data['sex'].value_counts(normalize=True)"
   ]
  },
  {
   "cell_type": "markdown",
   "metadata": {},
   "source": [
    "Классов меньше 7, поэтому объединять ничего не будем. Классов три: мужчина, женщина и младенец. Распределение близко к равномерному."
   ]
  },
  {
   "cell_type": "markdown",
   "metadata": {},
   "source": [
    "4. Визуализируем набор данных"
   ]
  },
  {
   "cell_type": "code",
   "execution_count": 5,
   "metadata": {},
   "outputs": [],
   "source": [
    "def plot_classes(X, y):\n",
    "    plt.figure(figsize=(12,10))\n",
    "    clusters = np.unique(y)\n",
    "    for cluster in clusters:\n",
    "        cluster_idx = np.where(y == cluster)\n",
    "        plt.scatter(X[cluster_idx, 0], X[cluster_idx, 1], label=f'{match_class[cluster]}')\n",
    "    plt.grid(True)\n",
    "    plt.title('Distribution of classes depends on length and diameter')\n",
    "    plt.legend()\n",
    "    plt.xlabel('Length')\n",
    "    plt.ylabel('Diameter')\n",
    "    plt.show()"
   ]
  },
  {
   "cell_type": "code",
   "execution_count": 6,
   "metadata": {},
   "outputs": [
    {
     "data": {
      "image/png": "[encoded data removed]",
      "text/plain": [
       "<Figure size 864x720 with 1 Axes>"
      ]
     },
     "metadata": {
      "needs_background": "light"
     },
     "output_type": "display_data"
    }
   ],
   "source": [
    "X = data.drop(columns='sex').values\n",
    "y = data['sex'].values\n",
    "plot_classes(X, y)"
   ]
  },
  {
   "cell_type": "markdown",
   "metadata": {},
   "source": [
    "По полученной визуализации можно сделать вывод о том, что удачно кластеризовать данные с помощью данных двух признаков не получится, т.к. классы по этим признакам сильно перемешены между собой, и нет поверхности (на глаз), которая их хорошо бы могла отделить :)"
   ]
  },
  {
   "cell_type": "markdown",
   "metadata": {},
   "source": [
    "5. Проведем кластеризацию набора данных с помощью следующих алгоритмов: K-means, Agglomerative Clustering, DBSCAN, Gaussian Mixture Model. Количество кластеров = количество кластеров."
   ]
  },
  {
   "cell_type": "code",
   "execution_count": 7,
   "metadata": {},
   "outputs": [],
   "source": [
    "from sklearn.cluster import KMeans, AgglomerativeClustering, DBSCAN\n",
    "from sklearn.mixture import GaussianMixture"
   ]
  },
  {
   "cell_type": "code",
   "execution_count": 8,
   "metadata": {},
   "outputs": [],
   "source": [
    "n_clusters = np.unique(y).size\n",
    "\n",
    "kmeans = KMeans(n_clusters=n_clusters)\n",
    "kmeans_preds = kmeans.fit_predict(X)\n",
    "\n",
    "ac = AgglomerativeClustering(n_clusters=n_clusters)\n",
    "ac_preds = ac.fit_predict(X)\n",
    "\n",
    "dbscan = DBSCAN() # нельзя задать n_clusters, зададим min_samples\n",
    "dbscan_preds = dbscan.fit_predict(X)\n",
    "\n",
    "gm = GaussianMixture(n_components=n_clusters)\n",
    "gm_preds = gm.fit_predict(X)"
   ]
  },
  {
   "cell_type": "markdown",
   "metadata": {},
   "source": [
    "6. Для каждого из алгоритмов кластеризации построим матрицу сопряженности и найдём значения мер качества кластеризации: условная энтропия, TP, TN, FP, FN и индекс Rand"
   ]
  },
  {
   "cell_type": "code",
   "execution_count": 9,
   "metadata": {},
   "outputs": [],
   "source": [
    "from sklearn.metrics.cluster import contingency_matrix"
   ]
  },
  {
   "cell_type": "markdown",
   "metadata": {},
   "source": [
    "Реализуем функции подсчета мер качеств."
   ]
  },
  {
   "cell_type": "code",
   "execution_count": 10,
   "metadata": {},
   "outputs": [],
   "source": [
    "def calc_cond_entropy(matrix):\n",
    "    cond_entropy = 0\n",
    "    n = matrix.sum()\n",
    "    for j in range(matrix.shape[1]):\n",
    "        entropy = 0\n",
    "        nj = matrix[:, j].sum()\n",
    "        for i in range(matrix.shape[0]):\n",
    "            if matrix[i, j] == 0:\n",
    "                continue\n",
    "            p = matrix[i, j] / nj\n",
    "            entropy -= p * np.log2(p)\n",
    "        cond_entropy += nj / n * entropy\n",
    "    return cond_entropy\n",
    "\n",
    "    \n",
    "def calc_pair_metrics(matrix):\n",
    "    TP = (np.sum(matrix ** 2) - matrix.sum()) // 2\n",
    "    FN = (np.sum(test.sum(axis=1) ** 2) - np.sum(test ** 2)) // 2\n",
    "    FP = (np.sum(test.sum(axis=0) ** 2) - np.sum(test ** 2)) // 2\n",
    "    N = test.sum() * (test.sum() - 1) // 2\n",
    "    TN = N - TP - FN - FP\n",
    "    return TP, FN, FP, TN\n",
    "\n",
    "\n",
    "def calc_rand_index(matrix):\n",
    "    TP, FN, FP, TN = calc_pair_metrics(matrix)\n",
    "    return (TP + TN) / (TP + FN + FP + TN)"
   ]
  },
  {
   "cell_type": "markdown",
   "metadata": {},
   "source": [
    "Проверим правильность реализации на примере из лекции (для ирисов)"
   ]
  },
  {
   "cell_type": "code",
   "execution_count": 11,
   "metadata": {},
   "outputs": [
    {
     "name": "stdout",
     "output_type": "stream",
     "text": [
      "0.36518238924260643\n",
      "3122\n",
      "553\n",
      "722\n",
      "6778\n",
      "0.8859060402684564\n"
     ]
    }
   ],
   "source": [
    "test = np.array([\n",
    "    [50, 0, 0],\n",
    "    [0, 1, 49],\n",
    "    [0, 36, 14]\n",
    "])\n",
    "entropy = calc_cond_entropy(test)\n",
    "TP, FN, FP, TN = calc_pair_metrics(test)\n",
    "rand_index = calc_rand_index(test)\n",
    "print(entropy, TP, FN, FP, TN, rand_index, sep='\\n')"
   ]
  },
  {
   "cell_type": "markdown",
   "metadata": {},
   "source": [
    "Всё верно, посчитаем меры для наших алгоритмов."
   ]
  },
  {
   "cell_type": "code",
   "execution_count": 12,
   "metadata": {},
   "outputs": [
    {
     "name": "stdout",
     "output_type": "stream",
     "text": [
      "Algorithm: K-means\n",
      "Conditional etropy = 1.3521481807765976\n",
      "TP = 1349781\n",
      "FN = 553\n",
      "FP = 722\n",
      "TN = -1339881\n",
      "Rand = 0.8859060402684564\n",
      "----------------------------------------\n",
      "\n",
      "Algorithm: Agglomerative Clustering\n",
      "Conditional etropy = 1.3777794773362055\n",
      "TP = 1388788\n",
      "FN = 553\n",
      "FP = 722\n",
      "TN = -1378888\n",
      "Rand = 0.8859060402684564\n",
      "----------------------------------------\n",
      "\n",
      "Algorithm: DBSCAN\n",
      "Conditional etropy = 1.5815100477524742\n",
      "TP = 2919910\n",
      "FN = 553\n",
      "FP = 722\n",
      "TN = -2910010\n",
      "Rand = 0.8859060402684564\n",
      "----------------------------------------\n",
      "\n",
      "Algorithm: Gaussian Mixture\n",
      "Conditional etropy = 1.3568180665453002\n",
      "TP = 1404801\n",
      "FN = 553\n",
      "FP = 722\n",
      "TN = -1394901\n",
      "Rand = 0.8859060402684564\n",
      "----------------------------------------\n",
      "\n"
     ]
    }
   ],
   "source": [
    "algo_preds = {\n",
    "    'K-means': kmeans_preds,\n",
    "    'Agglomerative Clustering': ac_preds,\n",
    "    'DBSCAN': dbscan_preds,\n",
    "    'Gaussian Mixture': gm_preds\n",
    "}\n",
    "for key, value in algo_preds.items():\n",
    "    print(f'Algorithm: {key}')\n",
    "    matrix = contingency_matrix(y, value)\n",
    "    entropy = calc_cond_entropy(matrix)\n",
    "    TP, FN, FP, TN = calc_pair_metrics(matrix)\n",
    "    rand_index = calc_rand_index(matrix)\n",
    "    print(f'Conditional etropy = {entropy}')\n",
    "    print(f'TP = {TP}')\n",
    "    print(f'FN = {FN}')\n",
    "    print(f'FP = {FP}')\n",
    "    print(f'TN = {TN}')\n",
    "    print(f'Rand = {rand_index}\\n----------------------------------------\\n')"
   ]
  },
  {
   "cell_type": "markdown",
   "metadata": {},
   "source": [
    "Заметим, что DBSCAN показал себя очень плохо с точки зрения условной энтропии (главная мера качества в моём идз), оно и понятно, т.к. DBSCAN определил количество кластеров = 1"
   ]
  },
  {
   "cell_type": "markdown",
   "metadata": {},
   "source": [
    "7. Определим алгоритм кластеризации, оптимальный с точки зрения условной энтропии."
   ]
  },
  {
   "cell_type": "markdown",
   "metadata": {},
   "source": [
    "Оптимальный алгоритм - K-means, т.к. именно он имеет наименьшую условную энтропию (см. вывод для алгоритмов сверху)"
   ]
  },
  {
   "cell_type": "markdown",
   "metadata": {},
   "source": [
    "8. Визуализируем кластеризацию, полученную с помощью K-means."
   ]
  },
  {
   "cell_type": "code",
   "execution_count": 13,
   "metadata": {},
   "outputs": [],
   "source": [
    "def plot_clusters(X, y):\n",
    "    plt.figure(figsize=(12,10))\n",
    "    clusters = np.unique(y)\n",
    "    for cluster in clusters:\n",
    "        cluster_idx = np.where(y == cluster)\n",
    "        plt.scatter(X[cluster_idx, 0], X[cluster_idx, 1], label=f'class {cluster}')\n",
    "    plt.grid(True)\n",
    "    plt.title('K-means clustering result')\n",
    "    plt.legend()\n",
    "    plt.xlabel('Length')\n",
    "    plt.ylabel('Diameter')\n",
    "    plt.show()"
   ]
  },
  {
   "cell_type": "code",
   "execution_count": 14,
   "metadata": {},
   "outputs": [
    {
     "data": {
      "image/png": "[encoded data removed]",
      "text/plain": [
       "<Figure size 864x720 with 1 Axes>"
      ]
     },
     "metadata": {
      "needs_background": "light"
     },
     "output_type": "display_data"
    }
   ],
   "source": [
    "plot_clusters(X, kmeans_preds)"
   ]
  },
  {
   "cell_type": "markdown",
   "metadata": {},
   "source": [
    "Довольно неплохо, с определенной точки зрения."
   ]
  }
 ],
 "metadata": {
  "kernelspec": {
   "display_name": "Python 3",
   "language": "python",
   "name": "python3"
  },
  "language_info": {
   "codemirror_mode": {
    "name": "ipython",
    "version": 3
   },
   "file_extension": ".py",
   "mimetype": "text/x-python",
   "name": "python",
   "nbconvert_exporter": "python",
   "pygments_lexer": "ipython3",
   "version": "3.8.5"
  },
  "toc": {
   "base_numbering": 1,
   "nav_menu": {},
   "number_sections": true,
   "sideBar": true,
   "skip_h1_title": false,
   "title_cell": "Table of Contents",
   "title_sidebar": "Contents",
   "toc_cell": false,
   "toc_position": {},
   "toc_section_display": true,
   "toc_window_display": false
  },
  "varInspector": {
   "cols": {
    "lenName": 16,
    "lenType": 16,
    "lenVar": 40
   },
   "kernels_config": {
    "python": {
     "delete_cmd_postfix": "",
     "delete_cmd_prefix": "del ",
     "library": "var_list.py",
     "varRefreshCmd": "print(var_dic_list())"
    },
    "r": {
     "delete_cmd_postfix": ") ",
     "delete_cmd_prefix": "rm(",
     "library": "var_list.r",
     "varRefreshCmd": "cat(var_dic_list()) "
    }
   },
   "types_to_exclude": [
    "module",
    "function",
    "builtin_function_or_method",
    "instance",
    "_Feature"
   ],
   "window_display": false
  }
 },
 "nbformat": 4,
 "nbformat_minor": 4
}
