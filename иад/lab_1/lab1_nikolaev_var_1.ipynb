{
 "cells": [
  {
   "cell_type": "markdown",
   "metadata": {},
   "source": [
    "### РОССИЙСКИЙ УНИВЕРСИТЕТ ДРУЖБЫ НАРОДОВ"
   ]
  },
  {
   "cell_type": "markdown",
   "metadata": {},
   "source": [
    "#### Факультет физико-математических и естественных наук  \n",
    "#### Кафедра информационных технологий "
   ]
  },
  {
   "cell_type": "markdown",
   "metadata": {},
   "source": [
    "## ОТЧЕТ ПО ЛАБОРАТОРНОЙ РАБОТЕ №1"
   ]
  },
  {
   "cell_type": "markdown",
   "metadata": {},
   "source": [
    "#### Дисциплина: Интеллектуальный анализ данных"
   ]
  },
  {
   "cell_type": "markdown",
   "metadata": {},
   "source": [
    "##### Студент:  Николаев Александр Викторович\n",
    "##### Группа:   НФИбд-01-17"
   ]
  },
  {
   "cell_type": "markdown",
   "metadata": {},
   "source": [
    "## Москва 2020\n",
    "***"
   ]
  },
  {
   "cell_type": "markdown",
   "metadata": {},
   "source": [
    "### Вариант №1"
   ]
  },
  {
   "cell_type": "code",
   "execution_count": 1,
   "metadata": {
    "ExecuteTime": {
     "end_time": "2020-09-12T23:48:47.923600Z",
     "start_time": "2020-09-12T23:48:47.176873Z"
    }
   },
   "outputs": [],
   "source": [
    "import numpy as np\n",
    "import pandas as pd\n",
    "import matplotlib.pyplot as plt\n",
    "%matplotlib inline"
   ]
  },
  {
   "cell_type": "markdown",
   "metadata": {},
   "source": [
    "#### Задание 1"
   ]
  },
  {
   "cell_type": "markdown",
   "metadata": {},
   "source": [
    "1. Построим два распределения с.в. x и y на основе средних значений и матрицы ковариации"
   ]
  },
  {
   "cell_type": "code",
   "execution_count": 2,
   "metadata": {
    "ExecuteTime": {
     "end_time": "2020-09-12T23:48:47.940668Z",
     "start_time": "2020-09-12T23:48:47.926706Z"
    }
   },
   "outputs": [],
   "source": [
    "n = 100\n",
    "a = [-1, -1]\n",
    "r = [[1, 0.5], [0.5, 2]]\n",
    "x, y = np.random.multivariate_normal(mean=a, cov=r, size=n).T"
   ]
  },
  {
   "cell_type": "markdown",
   "metadata": {},
   "source": [
    "2. Выведем мат. ожидания и дисперсии с.в., а также корреляцию между ними"
   ]
  },
  {
   "cell_type": "code",
   "execution_count": 3,
   "metadata": {
    "ExecuteTime": {
     "end_time": "2020-09-12T23:48:47.957624Z",
     "start_time": "2020-09-12T23:48:47.944658Z"
    }
   },
   "outputs": [
    {
     "name": "stdout",
     "output_type": "stream",
     "text": [
      "Математическое ожидание X = -0.9660098887055507\n",
      "Математическое ожидание Y = -1.1590578218220915\n",
      "Дисперсия (несмещенная) X = 1.0888794310355603\n",
      "Дисперсия (несмещенная) Y = 1.5094901512948296\n",
      "Корреляция между X и Y = 0.4789655336743657\n"
     ]
    }
   ],
   "source": [
    "print(f'Математическое ожидание X = {x.mean()}')\n",
    "print(f'Математическое ожидание Y = {y.mean()}')\n",
    "print(f'Дисперсия (несмещенная) X = {x.var(ddof=1)}') # несмещенная дисперсия\n",
    "print(f'Дисперсия (несмещенная) Y = {y.var(ddof=1)}')\n",
    "print(f'Корреляция между X и Y = {np.corrcoef(x, y)[0, 1]}')"
   ]
  },
  {
   "cell_type": "markdown",
   "metadata": {},
   "source": [
    "3. Построим диаграмму рассеивания наших с.в., а также выделим красным крестиком точку с координатами средних значений"
   ]
  },
  {
   "cell_type": "code",
   "execution_count": 4,
   "metadata": {
    "ExecuteTime": {
     "end_time": "2020-09-12T23:48:48.130162Z",
     "start_time": "2020-09-12T23:48:47.960615Z"
    }
   },
   "outputs": [
    {
     "data": {
      "image/png": "[encoded data removed]",
      "text/plain": [
       "<Figure size 432x288 with 1 Axes>"
      ]
     },
     "metadata": {
      "needs_background": "light"
     },
     "output_type": "display_data"
    }
   ],
   "source": [
    "plt.scatter(x, y)\n",
    "plt.scatter(x.mean(), y.mean(), c='r', marker='x')\n",
    "plt.show()"
   ]
  },
  {
   "cell_type": "markdown",
   "metadata": {},
   "source": [
    "#### Задание 2"
   ]
  },
  {
   "cell_type": "markdown",
   "metadata": {},
   "source": [
    "1. Считаем датасет Annealing Data Set"
   ]
  },
  {
   "cell_type": "code",
   "execution_count": 5,
   "metadata": {
    "ExecuteTime": {
     "end_time": "2020-09-12T23:48:49.395736Z",
     "start_time": "2020-09-12T23:48:48.132156Z"
    }
   },
   "outputs": [],
   "source": [
    "url = 'https://archive.ics.uci.edu/ml/machine-learning-databases/annealing/anneal.data'\n",
    "data = pd.read_csv(url, header=None, prefix='V')\n",
    "data.replace('?', np.nan, inplace=True)"
   ]
  },
  {
   "cell_type": "markdown",
   "metadata": {},
   "source": [
    "2. Проведем небольшое исследование данных"
   ]
  },
  {
   "cell_type": "markdown",
   "metadata": {},
   "source": [
    "Найдем категориальный признаки и числовые. Удалим колонки, состоящие из одних только пропущенных значений."
   ]
  },
  {
   "cell_type": "code",
   "execution_count": 6,
   "metadata": {
    "ExecuteTime": {
     "end_time": "2020-09-12T23:48:49.429666Z",
     "start_time": "2020-09-12T23:48:49.398390Z"
    }
   },
   "outputs": [],
   "source": [
    "numeric_features = []\n",
    "cat_features = []\n",
    "nan_cols = []\n",
    "for col in data.columns:\n",
    "    if data[col].isna().sum() == data.shape[0]:\n",
    "        nan_cols.append(col)\n",
    "    elif pd.api.types.is_numeric_dtype(data[col]):\n",
    "        numeric_features.append(col)\n",
    "    else:\n",
    "        cat_features.append(col)"
   ]
  },
  {
   "cell_type": "code",
   "execution_count": 7,
   "metadata": {
    "ExecuteTime": {
     "end_time": "2020-09-12T23:48:49.445402Z",
     "start_time": "2020-09-12T23:48:49.435389Z"
    }
   },
   "outputs": [
    {
     "name": "stdout",
     "output_type": "stream",
     "text": [
      "Признаки, которые полностью пропущены: ['V18', 'V22', 'V25', 'V28', 'V29', 'V30'], количество = 6\n",
      "Числовые признаки: ['V3', 'V4', 'V8', 'V32', 'V33', 'V34', 'V36'], количество = 7\n",
      "Категориальные признаки: ['V0', 'V1', 'V2', 'V5', 'V6', 'V7', 'V9', 'V10', 'V11', 'V12', 'V13', 'V14', 'V15', 'V16', 'V17', 'V19', 'V20', 'V21', 'V23', 'V24', 'V26', 'V27', 'V31', 'V35', 'V37', 'V38'], количество = 26\n"
     ]
    }
   ],
   "source": [
    "print(f'Признаки, которые полностью пропущены: {nan_cols}, количество = {len(nan_cols)}')\n",
    "print(f'Числовые признаки: {numeric_features}, количество = {len(numeric_features)}')\n",
    "print(f'Категориальные признаки: {cat_features}, количество = {len(cat_features)}')"
   ]
  },
  {
   "cell_type": "code",
   "execution_count": 8,
   "metadata": {
    "ExecuteTime": {
     "end_time": "2020-09-12T23:48:49.463312Z",
     "start_time": "2020-09-12T23:48:49.448365Z"
    }
   },
   "outputs": [],
   "source": [
    "data.drop(columns=nan_cols, inplace=True)"
   ]
  },
  {
   "cell_type": "markdown",
   "metadata": {},
   "source": [
    "3. Найдем числовой признак с наибольшей дисперсии и построим для него CDF"
   ]
  },
  {
   "cell_type": "code",
   "execution_count": 9,
   "metadata": {
    "ExecuteTime": {
     "end_time": "2020-09-12T23:48:49.480270Z",
     "start_time": "2020-09-12T23:48:49.465309Z"
    }
   },
   "outputs": [
    {
     "name": "stdout",
     "output_type": "stream",
     "text": [
      "Числовой признак с наибольшей дисперсией: V34, дисперсия = 3559894.008622569\n"
     ]
    }
   ],
   "source": [
    "max_var_feat = numeric_features[data[numeric_features].var().argmax()]\n",
    "print(f'Числовой признак с наибольшей дисперсией: {max_var_feat}, дисперсия = {data[numeric_features].var().max()}')"
   ]
  },
  {
   "cell_type": "code",
   "execution_count": 10,
   "metadata": {
    "ExecuteTime": {
     "end_time": "2020-09-12T23:48:49.846288Z",
     "start_time": "2020-09-12T23:48:49.487253Z"
    }
   },
   "outputs": [
    {
     "data": {
      "image/png": "[encoded data removed]",
      "text/plain": [
       "<Figure size 432x288 with 1 Axes>"
      ]
     },
     "metadata": {
      "needs_background": "light"
     },
     "output_type": "display_data"
    }
   ],
   "source": [
    "# def ECDF(data, x):\n",
    "#     counter = 0\n",
    "#     for v in data:\n",
    "#         if v <= x:\n",
    "#             counter += 1\n",
    "#     return counter / len(data)\n",
    "\n",
    "# npoints = 500\n",
    "# samples = data[max_var_feat]\n",
    "# xlist = [samples.min() + (samples.max() - samples.min()) * i / npoints\n",
    "#         for i in range(npoints)]\n",
    "# ylist = [ECDF(samples, x) for x in xlist]\n",
    "# plt.plot(xlist, ylist);"
   ]
  },
  {
   "cell_type": "code",
   "execution_count": 11,
   "metadata": {
    "ExecuteTime": {
     "end_time": "2020-09-12T23:48:50.007856Z",
     "start_time": "2020-09-12T23:48:49.849281Z"
    }
   },
   "outputs": [
    {
     "data": {
      "image/png": "[encoded data removed]",
      "text/plain": [
       "<Figure size 432x288 with 1 Axes>"
      ]
     },
     "metadata": {
      "needs_background": "light"
     },
     "output_type": "display_data"
    }
   ],
   "source": [
    "xlist = np.sort(samples)\n",
    "ylist = np.arange(len(xlist)) / float(len(xlist))\n",
    "plt.plot(xlist, ylist)\n",
    "plt.title(f'Emperical CDF of {max_var_feat}');"
   ]
  },
  {
   "cell_type": "markdown",
   "metadata": {},
   "source": [
    "4. Найдем числово признак, наименее коррелированный с предыдущим"
   ]
  },
  {
   "cell_type": "code",
   "execution_count": 12,
   "metadata": {
    "ExecuteTime": {
     "end_time": "2020-09-12T23:48:50.020822Z",
     "start_time": "2020-09-12T23:48:50.009887Z"
    }
   },
   "outputs": [
    {
     "name": "stdout",
     "output_type": "stream",
     "text": [
      "Корреляция между признаками и признаком V34:\n",
      "V3    -0.135093\n",
      "V4    -0.107630\n",
      "V8    -0.042030\n",
      "V32   -0.087135\n",
      "V33    0.129924\n",
      "V34    1.000000\n",
      "V36   -0.152613\n",
      "Name: V34, dtype: float64\n"
     ]
    }
   ],
   "source": [
    "print('Корреляция между признаками и признаком V34:\\n', data[numeric_features].corr()[max_var_feat], sep='')"
   ]
  },
  {
   "cell_type": "code",
   "execution_count": 13,
   "metadata": {
    "ExecuteTime": {
     "end_time": "2020-09-12T23:48:50.038774Z",
     "start_time": "2020-09-12T23:48:50.022816Z"
    }
   },
   "outputs": [
    {
     "name": "stdout",
     "output_type": "stream",
     "text": [
      "Наименее кореллированный признак: V8, корреляция = -0.042030017146262505\n"
     ]
    }
   ],
   "source": [
    "min_corr_idx = min(enumerate(data[numeric_features].corr()[max_var_feat]), key=lambda x: abs(x[1]))[0]\n",
    "min_corr_feat = numeric_features[min_corr_idx]\n",
    "min_corr = data[numeric_features].corr()[max_var_feat][min_corr_idx]\n",
    "print(f'Наименее кореллированный признак: {min_corr_feat}, корреляция = {min_corr}')"
   ]
  },
  {
   "cell_type": "markdown",
   "metadata": {},
   "source": [
    "5. Построим для него PDF"
   ]
  },
  {
   "cell_type": "code",
   "execution_count": 14,
   "metadata": {
    "ExecuteTime": {
     "end_time": "2020-09-12T23:48:50.254199Z",
     "start_time": "2020-09-12T23:48:50.040770Z"
    }
   },
   "outputs": [
    {
     "data": {
      "text/plain": [
       "Text(0.5, 1.0, 'Emperical PDF of V8')"
      ]
     },
     "execution_count": 14,
     "metadata": {},
     "output_type": "execute_result"
    },
    {
     "data": {
      "image/png": "[encoded data removed]",
      "text/plain": [
       "<Figure size 432x288 with 1 Axes>"
      ]
     },
     "metadata": {
      "needs_background": "light"
     },
     "output_type": "display_data"
    }
   ],
   "source": [
    "plt.hist(data[min_corr_feat], edgecolor = 'black',\n",
    "         bins = 20, density=True)\n",
    "plt.title(f'Emperical PDF of {min_corr_feat}')"
   ]
  },
  {
   "cell_type": "markdown",
   "metadata": {},
   "source": [
    "6. Выведим для указанных выше признаком мат. ожидания, дисперсию и корреляцию между ними"
   ]
  },
  {
   "cell_type": "code",
   "execution_count": 15,
   "metadata": {
    "ExecuteTime": {
     "end_time": "2020-09-12T23:48:50.265172Z",
     "start_time": "2020-09-12T23:48:50.256190Z"
    }
   },
   "outputs": [
    {
     "name": "stdout",
     "output_type": "stream",
     "text": [
      "Математическое ожидание V34 = 1273.0375939849623\n",
      "Математическое ожидание V8 = 30.852130325814535\n",
      "Дисперсия (несмещенная) V34 = 3559894.008622569\n",
      "Дисперсия (несмещенная) V8 = 13352.096049408181\n",
      "Корреляция между V34 и V8 = -0.04203001714626174\n"
     ]
    }
   ],
   "source": [
    "print(f'Математическое ожидание {max_var_feat} = {data[max_var_feat].mean()}')\n",
    "print(f'Математическое ожидание {min_corr_feat} = {data[min_corr_feat].mean()}')\n",
    "print(f'Дисперсия (несмещенная) {max_var_feat} = {data[max_var_feat].var(ddof=1)}') # несмещенная дисперсия\n",
    "print(f'Дисперсия (несмещенная) {min_corr_feat} = {data[min_corr_feat].var(ddof=1)}')\n",
    "print(f'Корреляция между {max_var_feat} и {min_corr_feat} = {np.corrcoef(data[max_var_feat], data[min_corr_feat])[0, 1]}')"
   ]
  }
 ],
 "metadata": {
  "kernelspec": {
   "display_name": "Python 3",
   "language": "python",
   "name": "python3"
  },
  "language_info": {
   "codemirror_mode": {
    "name": "ipython",
    "version": 3
   },
   "file_extension": ".py",
   "mimetype": "text/x-python",
   "name": "python",
   "nbconvert_exporter": "python",
   "pygments_lexer": "ipython3",
   "version": "3.7.3"
  }
 },
 "nbformat": 4,
 "nbformat_minor": 2
}
