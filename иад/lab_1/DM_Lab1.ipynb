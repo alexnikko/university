{
 "cells": [
  {
   "cell_type": "markdown",
   "metadata": {},
   "source": [
    "# Лабораторная работа №1\n",
    "# Моделирование и исследование данных"
   ]
  },
  {
   "cell_type": "markdown",
   "metadata": {},
   "source": [
    "## Порядок сдачи лабораторной работы"
   ]
  },
  {
   "cell_type": "markdown",
   "metadata": {},
   "source": [
    "Для каждой группы в MS Teams будет создана отдельная команда, а для каждой лабораторной работы в рамках команды будет создан отдельный канал. Варианты заданий будут направляться каждому студенту через записную книжку команды. \n",
    "\n",
    "Отчет по лабораторной работы должен быть представлен в виде файла Word или PDF, содержащего титульный лист, вариант задания, тексты программ, а также скриншоты экрана, подтверждающие, что программа функционирует и выполняет поставленную задачу. Отчет и файлы с исходными текстами (файлы .py или .ipynb) передаются через MS Teams. Моментом сдачи задания является дата и время выкладки файлов в MS Teams. \n",
    "\n",
    "Лабораторная работа оценивается с максимальной оценкой 10 баллов, если программа корректно решает поставленную задачу и отчет сдан не позднее 23:59 субботы, следующей за днем проведения занятия.\n",
    "\n",
    "В случае просрочки оценка снижается на 1 балл за каждый день просрочки, но не более чем на 5 баллов (воскресенье -1, понедельник -2, вторник -3, среда -4, четверг -5). Отчеты, отправленные позднее четверга, следующего за днем занятия, оцениваются в конце семестра не более 5 количества баллов."
   ]
  },
  {
   "cell_type": "markdown",
   "metadata": {},
   "source": [
    "## Работа с языком программирования Python"
   ]
  },
  {
   "cell_type": "markdown",
   "metadata": {},
   "source": [
    "Python – это простой в освоении и мощный современный язык программирования. Имеются следующие варианты работы с языком Python:"
   ]
  },
  {
   "cell_type": "markdown",
   "metadata": {},
   "source": [
    "1. Для того, чтобы использовать бесплатный онлайн редактор и интерпретатор языка Python, зайдите на сайт www.repl.it, выберите в качестве языка Python и зарегистрируйтесь.Язык Python можно использовать в режиме командной строки интерпретатора, когда интерпретатор Python сразу выполняет введенные команды (правая секция экрана в repl.it), или в режиме редактирования и последующего исполнения программных файлов Python (средняя секция экрана в repl.it, запуск программы нажатием на кнопку “Run”)."
   ]
  },
  {
   "cell_type": "markdown",
   "metadata": {},
   "source": [
    "2. Для работы с языком Python на ноутбуке скачайте с сайта https://www.anaconda.com и установите на ноутбук дистрибутив Anaconda. В качестве редактора/оболочки можно использовать Jupiter Notebook, Spyder, VS Code."
   ]
  },
  {
   "cell_type": "markdown",
   "metadata": {},
   "source": [
    "3. Установите на ноутбук Python 3 и интегрированную среду разработки PyCharm компании JetBrains (https://www.jetbrains.com), а также необходимые библиотеки Python."
   ]
  },
  {
   "cell_type": "markdown",
   "metadata": {},
   "source": [
    "## Библиотека NumPy"
   ]
  },
  {
   "cell_type": "markdown",
   "metadata": {},
   "source": [
    "NumPy (Numerical Python) — это библиотека Python с поддержкой многомерных массивов (включая матрицы) и математических функций, предназначенных для работы с многомерными массивами. NumPy является основой для многих других библиотек Python, в т.ч. библиотек машинного обучения.\n",
    "\n",
    "Для использования NumPy импортируем библиотеку командой `import`."
   ]
  },
  {
   "cell_type": "code",
   "execution_count": null,
   "metadata": {},
   "outputs": [],
   "source": [
    "import numpy as np"
   ]
  },
  {
   "cell_type": "markdown",
   "metadata": {},
   "source": [
    "### Создание объекта ndarray"
   ]
  },
  {
   "cell_type": "markdown",
   "metadata": {},
   "source": [
    "Объект `ndarray` (многомерный массив) может быть создан из списка или кортежа."
   ]
  },
  {
   "cell_type": "code",
   "execution_count": null,
   "metadata": {},
   "outputs": [],
   "source": [
    "oneDim = np.array([1.,2,3,4,5]) # одномерный массивa (вектор)\n",
    "print(oneDim)\n",
    "print(\"Ранг =\", oneDim.ndim) \n",
    "print(\"Размеры =\", oneDim.shape) \n",
    "print(\"Число элементов =\", oneDim.size) \n",
    "print(\"Тип массива =\", oneDim.dtype)"
   ]
  },
  {
   "cell_type": "code",
   "execution_count": null,
   "metadata": {},
   "outputs": [],
   "source": [
    "twoDim = np.array([[1,2],[3,4],[5,6],[7,8]]) # двумерный массив (матрица) \n",
    "print(twoDim)\n",
    "print(\"Ранг =\", twoDim.ndim)\n",
    "print(\"Размеры =\", twoDim.shape)\n",
    "print(\"Число элементов =\", twoDim.size) \n",
    "print(\"Тип массива =\", twoDim.dtype)"
   ]
  },
  {
   "cell_type": "code",
   "execution_count": null,
   "metadata": {},
   "outputs": [],
   "source": [
    "arrFromTuple = np.array([(1,'a',3.0),(2,'b',3.5)]) # создание ndarray из кортежа \n",
    "print(arrFromTuple)\n",
    "print(\"Ранг =\", arrFromTuple.ndim)\n",
    "print(\"Размеры =\", arrFromTuple.shape)\n",
    "print(\"Число элементов =\", arrFromTuple.size)\n",
    "print(\"Тип массива =\", arrFromTuple.dtype)"
   ]
  },
  {
   "cell_type": "markdown",
   "metadata": {},
   "source": [
    "Объект `ndarray` имеет такие свойства как:\n",
    "\n",
    "• `ndim` – ранг (число осей или измерений) массива \n",
    "\n",
    "• `shape` – кортеж, показывающий длину массива по каждой из осей (размеры массива). Для матрицы из `n` строк и `m` столбов, свойство shape равно `(n,m)`. Число элементов в кортеже `shape` равно рангу массива, то есть свойству `ndim`.\n",
    "\n",
    "• `size` – число элементов в массиве, равное произведению всех элементов кортежа `shape`.\n",
    "\n",
    "• `dtype` – тип элементов массива. Тип `dtype` можно определить явно, используя стандартные типы данных Python или типы, предусмотренные библиотекой NumPy, например, `dtype=np.int8`. Тип `dtype` также может быть составным, например, целое число и число с плавающей точкой.\n",
    "\n",
    "В NumPy имеется ряд встроенных функций для создания объектов `ndarray`. "
   ]
  },
  {
   "cell_type": "code",
   "execution_count": null,
   "metadata": {},
   "outputs": [],
   "source": [
    "print(np.random.rand(5))         # случайные числа с равномерным распределением на [0,1]"
   ]
  },
  {
   "cell_type": "code",
   "execution_count": null,
   "metadata": {},
   "outputs": [],
   "source": [
    "print(np.random.randn(5))        # случайные числа со стандартным нормальным распределением"
   ]
  },
  {
   "cell_type": "code",
   "execution_count": null,
   "metadata": {},
   "outputs": [],
   "source": [
    "print(np.arange(-10,10,2))       # аналогично range, возвращается объект ndarray вместо списка"
   ]
  },
  {
   "cell_type": "code",
   "execution_count": null,
   "metadata": {},
   "outputs": [],
   "source": [
    "print(np.arange(12).reshape(3,4))# преобразование вектора в матрицу"
   ]
  },
  {
   "cell_type": "code",
   "execution_count": null,
   "metadata": {},
   "outputs": [],
   "source": [
    "print(np.linspace(0,1,101))       # разбиение интервала [0,1] на 11 равноудаленных значений"
   ]
  },
  {
   "cell_type": "code",
   "execution_count": null,
   "metadata": {},
   "outputs": [],
   "source": [
    "print(np.logspace(-3,3,7))       # объект ndarray со значениями от 10^-3 до 10^3"
   ]
  },
  {
   "cell_type": "code",
   "execution_count": null,
   "metadata": {},
   "outputs": [],
   "source": [
    "print(np.zeros((2,3)))           # матрица из нулей"
   ]
  },
  {
   "cell_type": "code",
   "execution_count": null,
   "metadata": {},
   "outputs": [],
   "source": [
    "print(np.ones((3,2),dtype=int))  # матрица из единиц"
   ]
  },
  {
   "cell_type": "code",
   "execution_count": null,
   "metadata": {},
   "outputs": [],
   "source": [
    "print(np.eye(4,dtype=np.int16))  # единичная матрица размером 4 x 4 (со значениями типа np.int16)"
   ]
  },
  {
   "cell_type": "markdown",
   "metadata": {},
   "source": [
    "### Поэлементные операции"
   ]
  },
  {
   "cell_type": "markdown",
   "metadata": {},
   "source": [
    "Можно применять стандартные операции, такие как сложение и умножение, к каждому элементу объекта `ndarray`, при этом создается новый массив, который заполняется результатами действия оператора."
   ]
  },
  {
   "cell_type": "code",
   "execution_count": null,
   "metadata": {},
   "outputs": [],
   "source": [
    "x = np.array([1,2,3,4,5]) # ndarray из списка Python\n",
    "\n",
    "print(x + 1)      # сложение\n",
    "print(x - 1)      # вычитание\n",
    "print(x * 2)      # умножение\n",
    "print(x // 2)     # целая часть от деления\n",
    "print(x ** 2)     # возведение в квадрат\n",
    "print(x % 2)      # остаток от деления  \n",
    "print(1 / x)      # деление"
   ]
  },
  {
   "cell_type": "code",
   "execution_count": null,
   "metadata": {},
   "outputs": [],
   "source": [
    "x = np.array([2,4,6,8,10])\n",
    "y = np.array([1,2,3,4,5])\n",
    "\n",
    "print(x + y)\n",
    "print(x - y)\n",
    "print(x * y)\n",
    "print(x / y)\n",
    "print(x // y)\n",
    "print(x ** y)"
   ]
  },
  {
   "cell_type": "markdown",
   "metadata": {},
   "source": [
    "### Индексы и срезы"
   ]
  },
  {
   "cell_type": "markdown",
   "metadata": {},
   "source": [
    "Существуют различные способы выбрать определенные элементы в массиве `ndarray`. Нумерация элементов в массиве (как и в других структурах данных) начинается с нуля."
   ]
  },
  {
   "cell_type": "code",
   "execution_count": null,
   "metadata": {},
   "outputs": [],
   "source": [
    "x = np.arange(-5,5)\n",
    "print(x)"
   ]
  },
  {
   "cell_type": "code",
   "execution_count": null,
   "metadata": {},
   "outputs": [],
   "source": [
    "y = x[3:5]     # y - это срез или указатель на подмассив в x\n",
    "print(\"y =\",y)\n",
    "y[:] = 1000    # изменение y приведет к изменению x\n",
    "print(\"y =\",y)\n",
    "print(\"x =\",x)"
   ]
  },
  {
   "cell_type": "code",
   "execution_count": null,
   "metadata": {},
   "outputs": [],
   "source": [
    "z = x[3:5].copy()   # делаем копию подмассива\n",
    "print(\"z =\",z)\n",
    "z[:] = 500          # изменение z не влияет на x\n",
    "print(\"z =\",z)\n",
    "print(\"x =\",x)"
   ]
  },
  {
   "cell_type": "markdown",
   "metadata": {},
   "source": [
    "Срез массива представляет собой представление тех же самых данных (ссылку на данные), а для создания копии данных массива можно воспользоваться методом `copy()`. \n",
    "\n",
    "Срезы в массивах обладают более высокой функциональностью по сравнению со срезами в списках. При использовании срезов для двумерного массива (матрицы) можно получать доступ как к строкам, так и к столбцам (что не работает для списков):"
   ]
  },
  {
   "cell_type": "code",
   "execution_count": null,
   "metadata": {},
   "outputs": [],
   "source": [
    "my2dlist = [[1,2,3,4],[5,6,7,8],[9,10,11,12]]   # двумерный список\n",
    "print(my2dlist)\n",
    "print(my2dlist[2])        # третий подсписок\n",
    "# print(my2dlist[:][2])   # нельзя получить доступ к третьему элементу каждого подсписка\n",
    "# print(my2dlist[:,2])    # получим синтаксическую ошибку"
   ]
  },
  {
   "cell_type": "code",
   "execution_count": null,
   "metadata": {},
   "outputs": [],
   "source": [
    "my2darr = np.array(my2dlist)\n",
    "print(my2darr)\n",
    "print(my2darr[2][:])      # третья строка\n",
    "print(my2darr[2,:])       # третья строка\n",
    "# print(my2darr[:][2])    # аналогично двумерному списку\n",
    "print(my2darr[:,2])       # третий столбец\n",
    "print(my2darr[:2,2:])     # первые две строки и последние два столбца"
   ]
  },
  {
   "cell_type": "markdown",
   "metadata": {},
   "source": [
    "Объект `ndarray` также поддерживает булево индексирование:"
   ]
  },
  {
   "cell_type": "code",
   "execution_count": null,
   "metadata": {},
   "outputs": [],
   "source": [
    "my2darr = np.arange(1,13,1).reshape(3,4)\n",
    "print(my2darr)"
   ]
  },
  {
   "cell_type": "code",
   "execution_count": null,
   "metadata": {},
   "outputs": [],
   "source": [
    "divBy3 = my2darr[my2darr % 3 == 0]\n",
    "print(\"Тип =\",type(divBy3),\"  Ранг =\",divBy3.ndim,\"  Размеры =\",divBy3.shape)\n",
    "print(divBy3)"
   ]
  },
  {
   "cell_type": "code",
   "execution_count": null,
   "metadata": {},
   "outputs": [],
   "source": [
    "divBy3LastRow = my2darr[1:, my2darr[2,:] % 3 == 0]\n",
    "print(divBy3LastRow)"
   ]
  },
  {
   "cell_type": "markdown",
   "metadata": {},
   "source": [
    "Также объект `ndarray` допускает индексирование массивами или списками целых чисел:"
   ]
  },
  {
   "cell_type": "code",
   "execution_count": null,
   "metadata": {},
   "outputs": [],
   "source": [
    "my2darr = np.arange(1,13,1).reshape(4,3)\n",
    "print(my2darr)"
   ]
  },
  {
   "cell_type": "code",
   "execution_count": null,
   "metadata": {},
   "outputs": [],
   "source": [
    "indices = [2,1,0,3]    # выбранные индексы строк\n",
    "print(my2darr[indices,:])"
   ]
  },
  {
   "cell_type": "code",
   "execution_count": null,
   "metadata": {},
   "outputs": [],
   "source": [
    "rowIndex = [0,0,1,2,3]     # индексы строк\n",
    "columnIndex = [0,2,0,1,2]  # индексы столбцов\n",
    "print(my2darr[rowIndex,columnIndex])"
   ]
  },
  {
   "cell_type": "markdown",
   "metadata": {},
   "source": [
    "### Арифметические и статистические функции Numpy"
   ]
  },
  {
   "cell_type": "markdown",
   "metadata": {},
   "source": [
    "В NumPy встроены многие математические функции для манипулирования элементами `ndarray`."
   ]
  },
  {
   "cell_type": "code",
   "execution_count": null,
   "metadata": {},
   "outputs": [],
   "source": [
    "y = np.array([-1.4, 0.4, -3.2, 2.5, 3.4])    # массив чисел\n",
    "print(y)"
   ]
  },
  {
   "cell_type": "code",
   "execution_count": null,
   "metadata": {},
   "outputs": [],
   "source": [
    "print(np.abs(y))          # абсолютные значения"
   ]
  },
  {
   "cell_type": "code",
   "execution_count": null,
   "metadata": {},
   "outputs": [],
   "source": [
    "print(np.sqrt(abs(y)))    # квадратный корень из абсолютных значений"
   ]
  },
  {
   "cell_type": "code",
   "execution_count": null,
   "metadata": {},
   "outputs": [],
   "source": [
    "print(np.sign(y))         # знак каждого элемента"
   ]
  },
  {
   "cell_type": "code",
   "execution_count": null,
   "metadata": {},
   "outputs": [],
   "source": [
    "print(np.exp(y))          # экспонента"
   ]
  },
  {
   "cell_type": "code",
   "execution_count": null,
   "metadata": {},
   "outputs": [],
   "source": [
    "print(np.sort(y))         # сортировка"
   ]
  },
  {
   "cell_type": "code",
   "execution_count": null,
   "metadata": {},
   "outputs": [],
   "source": [
    "y = np.array([-3.2, -1.4, 0.4, 2.5, 3.4])    # массив чисел\n",
    "print(y)\n",
    "\n",
    "print(\"Минимум  =\", np.min(y))           \n",
    "print(\"Максимум =\", np.max(y))          \n",
    "print(\"Среднее  =\", np.mean(y))        \n",
    "print(\"Стандартное отклонение =\", np.std(y))   \n",
    "print(\"Сумма =\", np.sum(y))              "
   ]
  },
  {
   "cell_type": "markdown",
   "metadata": {},
   "source": [
    "### Линейная алгебра в Numpy"
   ]
  },
  {
   "cell_type": "markdown",
   "metadata": {},
   "source": [
    "Numpy поддерживает многие операции линейной алгебры, например, транспонирование матрицы и матричное умножение."
   ]
  },
  {
   "cell_type": "code",
   "execution_count": null,
   "metadata": {},
   "outputs": [],
   "source": [
    "X = np.random.randn(2,4) # случайная матрица 2 x 4 \n",
    "print(X)\n",
    "print(X.T)               # транспонирование матрицы X^T "
   ]
  },
  {
   "cell_type": "code",
   "execution_count": null,
   "metadata": {},
   "outputs": [],
   "source": [
    "y = np.random.randn(4) # случайный вектор\n",
    "print(y)"
   ]
  },
  {
   "cell_type": "code",
   "execution_count": null,
   "metadata": {},
   "outputs": [],
   "source": [
    "print(X.dot(y))        # умножение матрицы на вектор   X * y"
   ]
  },
  {
   "cell_type": "code",
   "execution_count": null,
   "metadata": {},
   "outputs": [],
   "source": [
    "print(X.dot(X.T))      # умножение матрицы на матрицу  X * X^T"
   ]
  },
  {
   "cell_type": "code",
   "execution_count": null,
   "metadata": {},
   "outputs": [],
   "source": [
    "print(X.T.dot(X))      # умножение матрицы на матрицу  X^T * X"
   ]
  },
  {
   "cell_type": "markdown",
   "metadata": {},
   "source": [
    "Также поддерживается вычисление определителя, обратной матрицы, собственных значений и собственных векторов матрицы."
   ]
  },
  {
   "cell_type": "code",
   "execution_count": null,
   "metadata": {},
   "outputs": [],
   "source": [
    "X = np.random.randn(5,3)     # матрица 5 x 3\n",
    "print(X)"
   ]
  },
  {
   "cell_type": "code",
   "execution_count": null,
   "metadata": {},
   "outputs": [],
   "source": [
    "C = X.T.dot(X)               # C = X^T * X - это квадратная матрица\n",
    "print(C)"
   ]
  },
  {
   "cell_type": "code",
   "execution_count": null,
   "metadata": {},
   "outputs": [],
   "source": [
    "invC = np.linalg.inv(C)      # обратная матрица \n",
    "print(invC)"
   ]
  },
  {
   "cell_type": "code",
   "execution_count": null,
   "metadata": {},
   "outputs": [],
   "source": [
    "detC = np.linalg.det(C)      # определитель\n",
    "print(detC)"
   ]
  },
  {
   "cell_type": "code",
   "execution_count": null,
   "metadata": {},
   "outputs": [],
   "source": [
    "S, U = np.linalg.eig(C)      # собственные значения S и собственные вектора U \n",
    "print(S)\n",
    "print(U)"
   ]
  },
  {
   "cell_type": "markdown",
   "metadata": {},
   "source": [
    "## Библиотека Pandas"
   ]
  },
  {
   "cell_type": "markdown",
   "metadata": {},
   "source": [
    "Библиотека Pandas содержит две удобных структуры данных для хранения и манипуляций с данными – объекты `Series` и `DataFrame`. Объект `Series` подобен одномерному массиву, в то время, как объект `DataFrame` более напоминает матрицу или таблицу."
   ]
  },
  {
   "cell_type": "markdown",
   "metadata": {},
   "source": [
    "### Объект Series "
   ]
  },
  {
   "cell_type": "markdown",
   "metadata": {},
   "source": [
    "Объект `Series` состоит из одномерного массива значений (свойство `values`), к элементам которого можно обращаться при помощи массива индексов (свойство `index`). Все элементы в объекте `Series` имеют один и тот же тип. Объект `Series` может быть создан из списка, массива NumPy или словаря Python. "
   ]
  },
  {
   "cell_type": "code",
   "execution_count": null,
   "metadata": {},
   "outputs": [],
   "source": [
    "from pandas import Series\n",
    "\n",
    "s = Series([3.1, 2.4, -1.7, 0.2, -2.9, 4.5])   # объект Series из списка\n",
    "print(s)\n",
    "print('Values =', s.values)     # значения объекта Series\n",
    "print('Index =', s.index)       # индексы объекта Series"
   ]
  },
  {
   "cell_type": "code",
   "execution_count": null,
   "metadata": {},
   "outputs": [],
   "source": [
    "s2 = Series(np.random.randn(6))  # объект Series из массива numpy\n",
    "print(s2)\n",
    "print('Values =', s2.values)   # значения объекта Series\n",
    "print('Index =', s2.index)     # индексы объекта Series"
   ]
  },
  {
   "cell_type": "code",
   "execution_count": null,
   "metadata": {},
   "outputs": [],
   "source": [
    "s3 = Series([1.2,2.5,-2.2,3.1,-0.8,-3.2], \n",
    "            index = ['Jan 1','Jan 2','Jan 3','Jan 4','Jan 5','Jan 6',])\n",
    "print(s3)\n",
    "print('Values=', s3.values)   # значения объекта Series\n",
    "print('Index=', s3.index)     # индексы объекта Series"
   ]
  },
  {
   "cell_type": "code",
   "execution_count": null,
   "metadata": {},
   "outputs": [],
   "source": [
    "capitals = {'MI': 'Lansing', 'CA': 'Sacramento', 'TX': 'Austin', 'MN': 'St Paul'}\n",
    "\n",
    "s4 = Series(capitals)   # объект Series из словаря\n",
    "print(s4)\n",
    "print('Values=', s4.values)   # значения объекта Series\n",
    "print('Index=', s4.index)     # индексы объекта Series"
   ]
  },
  {
   "cell_type": "markdown",
   "metadata": {},
   "source": [
    "Доступ к элементам объекта `Series` возможен по номеру объекта или по ключу:"
   ]
  },
  {
   "cell_type": "code",
   "execution_count": null,
   "metadata": {},
   "outputs": [],
   "source": [
    "print('\\ns3[2]=', s3[2])             # доступ по номеру\n",
    "print('s3[\\'Jan 3\\']=', s3['Jan 3']) # доступ по индексу\n",
    "\n",
    "print('\\ns3[1:3]=')                  # срез объекта Series\n",
    "print(s3[1:3])"
   ]
  },
  {
   "cell_type": "markdown",
   "metadata": {},
   "source": [
    "Большинство функций NumPy могут применяться к объекту `Series`."
   ]
  },
  {
   "cell_type": "code",
   "execution_count": null,
   "metadata": {},
   "outputs": [],
   "source": [
    "print('shape =', s3.shape)  # размеры Series\n",
    "print('size =', s3.size)    # число элементов в Series"
   ]
  },
  {
   "cell_type": "code",
   "execution_count": null,
   "metadata": {},
   "outputs": [],
   "source": [
    "print(s3[s3 > 0])   # фильтр для выбора элементов Series"
   ]
  },
  {
   "cell_type": "code",
   "execution_count": null,
   "metadata": {},
   "outputs": [],
   "source": [
    "print(s3 + 4)       # операции числового объекта Series со скалярными величинами\n",
    "print(s3 / 4)    "
   ]
  },
  {
   "cell_type": "code",
   "execution_count": null,
   "metadata": {},
   "outputs": [],
   "source": [
    "print(np.log(s3 + 4))    # функция numpy от числового объекта Series"
   ]
  },
  {
   "cell_type": "markdown",
   "metadata": {},
   "source": [
    "## Объект DataFrame"
   ]
  },
  {
   "cell_type": "markdown",
   "metadata": {},
   "source": [
    "Объект `DataFrame` представляет собой табличную структуру данных, содержащую набор столбцов, каждый из которых может иметь различный тип (числовой, строковый, логический и т.п.). В отличие от объекта `Series` объект `DataFrame` имеет различные индексы для строк и столбцов. Существуют различные способы создания объекта `DataFrame` (например, из словаря, списка кортежей или массивов ndarray)."
   ]
  },
  {
   "cell_type": "code",
   "execution_count": null,
   "metadata": {},
   "outputs": [],
   "source": [
    "from pandas import DataFrame\n",
    "\n",
    "cars = {'make': ['Ford', 'Honda', 'Toyota', 'Tesla'],\n",
    "       'model': ['Taurus', 'Accord', 'Camry', 'Model S'],\n",
    "       'MSRP': [27595, 23570, 23495, 68000]}          \n",
    "carData = DataFrame(cars)   # объект DataFrame из словаря\n",
    "print(carData)              "
   ]
  },
  {
   "cell_type": "code",
   "execution_count": null,
   "metadata": {},
   "outputs": [],
   "source": [
    "print(carData.index)       # индексы строк\n",
    "print(carData.columns)     # индексы столбцов"
   ]
  },
  {
   "cell_type": "code",
   "execution_count": null,
   "metadata": {},
   "outputs": [],
   "source": [
    "carData2 = DataFrame(cars, index = [1,2,3,4])  # изменяем индексы строк\n",
    "carData2['year'] = 2020    # добавляем столбец с одним и тем же значением\n",
    "carData2['dealership'] = ['Courtesy Ford','Capital Honda','Spartan Toyota','N/A']\n",
    "print(carData2)                  "
   ]
  },
  {
   "cell_type": "markdown",
   "metadata": {},
   "source": [
    "Объект `DataFrame` может быть создан из списка кортежей:"
   ]
  },
  {
   "cell_type": "code",
   "execution_count": null,
   "metadata": {},
   "outputs": [],
   "source": [
    "tuplelist = [(2015,7.3,32.4),(2016,5.8,34.5),(2017,8.4,39.2),\n",
    "              (2018,6.8,31.4),(2019,4.4,29.8),(2020,5.3,36.7)]\n",
    "columnNames = ['Год','Темп','Осадки']\n",
    "weatherData = DataFrame(tuplelist, columns=columnNames)\n",
    "print(weatherData)"
   ]
  },
  {
   "cell_type": "markdown",
   "metadata": {},
   "source": [
    "Объект `DataFrame` может быть создан из массива numpy (объекта `ndarray`):"
   ]
  },
  {
   "cell_type": "code",
   "execution_count": null,
   "metadata": {},
   "outputs": [],
   "source": [
    "npdata = np.random.randn(5,3)  # случайная матрица 5 на 3\n",
    "columnNames = ['x1','x2','x3']\n",
    "data = DataFrame(npdata, columns=columnNames)\n",
    "print(data)"
   ]
  },
  {
   "cell_type": "markdown",
   "metadata": {},
   "source": [
    "Для обращения к столбцу объекта `DataFrame` можно использовать имя столбца: "
   ]
  },
  {
   "cell_type": "code",
   "execution_count": null,
   "metadata": {},
   "outputs": [],
   "source": [
    "# при обращении к столбцу получаем объект Series\n",
    "print(data['x2'])\n",
    "print(type(data['x2']))"
   ]
  },
  {
   "cell_type": "markdown",
   "metadata": {},
   "source": [
    "При выборе строк и/или столбцов объекта `DataFrame` можно использовать индексаторы `.loc` и `.iloc`. Индексатор `.loc` выбирает данные по метке строк и столбцов, а индексатор `.iloc` использует номера строк и столбцов, которые необходимо выбрать."
   ]
  },
  {
   "cell_type": "code",
   "execution_count": null,
   "metadata": {},
   "outputs": [],
   "source": [
    "# при обращении к строке получаем объект Series\n",
    "print('Строка 3 набора data:')\n",
    "print(data.iloc[2])       # возвращает 3 строку объекта DataFrame\n",
    "print(type(data.iloc[2]))\n",
    "print('\\nСтрока 3 набора carData2:')\n",
    "print(carData2.iloc[2])   # строка содержит данные различных типов\n",
    "print(type(carData2.iloc[2]))"
   ]
  },
  {
   "cell_type": "code",
   "execution_count": null,
   "metadata": {},
   "outputs": [],
   "source": [
    "# обращаемся к конкретным элементам объекта DataFrame\n",
    "\n",
    "print(carData2.iloc[1,2])      # извлекаем вторую строку, третий столбец\n",
    "print(carData2.loc[1,'model']) # извлекаем вторую строку, столбец с именем 'model'\n",
    "\n",
    "# обращаемся к срезу объекта DataFrame\n",
    "\n",
    "print('carData2.iloc[1:3,1:3]=')\n",
    "print(carData2.iloc[1:3,1:3])\n",
    "print(type(carData2.iloc[1:3,1:3]))"
   ]
  },
  {
   "cell_type": "code",
   "execution_count": null,
   "metadata": {},
   "outputs": [],
   "source": [
    "print('carData2.shape =', carData2.shape)\n",
    "print('carData2.size =', carData2.size)"
   ]
  },
  {
   "cell_type": "code",
   "execution_count": null,
   "metadata": {},
   "outputs": [],
   "source": [
    "# выбор и фильтрация\n",
    "print('carData2[carData2.MSRP > 25000]')  \n",
    "print(carData2[carData2.MSRP > 25000])"
   ]
  },
  {
   "cell_type": "markdown",
   "metadata": {},
   "source": [
    "## Арифметические операции"
   ]
  },
  {
   "cell_type": "code",
   "execution_count": null,
   "metadata": {},
   "outputs": [],
   "source": [
    "print(\"Данные:\\n\",data)"
   ]
  },
  {
   "cell_type": "code",
   "execution_count": null,
   "metadata": {},
   "outputs": [],
   "source": [
    "print('Транспонированные данные:')\n",
    "print(data.T)    # транспонирование"
   ]
  },
  {
   "cell_type": "code",
   "execution_count": null,
   "metadata": {},
   "outputs": [],
   "source": [
    "print('Сложение:')\n",
    "print(data + 4)    # операция сложения"
   ]
  },
  {
   "cell_type": "code",
   "execution_count": null,
   "metadata": {},
   "outputs": [],
   "source": [
    "print('Умножение:')\n",
    "print(data * 10)   # операция умножения"
   ]
  },
  {
   "cell_type": "code",
   "execution_count": null,
   "metadata": {},
   "outputs": [],
   "source": [
    "columnNames = ['x1','x2','x3']\n",
    "data2 = DataFrame(np.random.randn(5,3), columns=columnNames)\n",
    "print('\\ndata2 =')\n",
    "print(data2)"
   ]
  },
  {
   "cell_type": "code",
   "execution_count": null,
   "metadata": {},
   "outputs": [],
   "source": [
    "print('\\ndata + data2 = ')\n",
    "print(data+data2) # data.add(data2)\n",
    "\n",
    "print('\\ndata * data2 = ')\n",
    "print(data*data2) # data.mul(data2)"
   ]
  },
  {
   "cell_type": "code",
   "execution_count": null,
   "metadata": {},
   "outputs": [],
   "source": [
    "print(data.abs())    # абсолютное значение по каждому элементу"
   ]
  },
  {
   "cell_type": "code",
   "execution_count": null,
   "metadata": {},
   "outputs": [],
   "source": [
    "print('\\nМаксимальное значение по столбцам:')\n",
    "print(data.max()) # максимальное значение по каждому столбцу (axis=0)"
   ]
  },
  {
   "cell_type": "code",
   "execution_count": null,
   "metadata": {},
   "outputs": [],
   "source": [
    "print('\\nМинимальное значение по строкам:')\n",
    "print(data.min(axis=1)) # минимальное значение по каждой строке"
   ]
  },
  {
   "cell_type": "code",
   "execution_count": null,
   "metadata": {},
   "outputs": [],
   "source": [
    "print('\\nСумма значений по столбцам:')\n",
    "print(data.sum()) # найти сумму значений для каждого столбца"
   ]
  },
  {
   "cell_type": "code",
   "execution_count": null,
   "metadata": {},
   "outputs": [],
   "source": [
    "print('\\nСреднее значение по строкам:')\n",
    "print(data.mean(axis=1)) # найти среднее значение для каждой строки"
   ]
  },
  {
   "cell_type": "code",
   "execution_count": null,
   "metadata": {},
   "outputs": [],
   "source": [
    "print('\\nВычислить max - min по столбцам')\n",
    "f = lambda x: x.max() - x.min()\n",
    "print(data.apply(f))\n",
    "\n",
    "print('\\nВычислить max - min по строкам')\n",
    "f = lambda x: x.max() - x.min()\n",
    "print(data.apply(f, axis=1))"
   ]
  },
  {
   "cell_type": "markdown",
   "metadata": {},
   "source": [
    "## Встроенные средства визуализации в Pandas"
   ]
  },
  {
   "cell_type": "markdown",
   "metadata": {},
   "source": [
    "В Pandas имеются встроенные функции для отображения данных объектов `Series` и `DataFrame`:"
   ]
  },
  {
   "cell_type": "code",
   "execution_count": null,
   "metadata": {},
   "outputs": [],
   "source": [
    "%matplotlib inline\n",
    "\n",
    "s3 = Series([1.2,2.5,-2.2,3.1,-0.8,-3.2,1.4], \n",
    "            index = ['Янв 1','Янв 2','Янв 3','Янв 4','Янв 5','Янв 6','Янв 7'])\n",
    "s3.plot(kind='line', title='Линейный график');"
   ]
  },
  {
   "cell_type": "code",
   "execution_count": null,
   "metadata": {},
   "outputs": [],
   "source": [
    "s3.plot(kind='bar', title='Столбцовая диаграмма')"
   ]
  },
  {
   "cell_type": "code",
   "execution_count": null,
   "metadata": {},
   "outputs": [],
   "source": [
    "s3.plot(kind='hist', title = 'Гистограмма')"
   ]
  },
  {
   "cell_type": "code",
   "execution_count": null,
   "metadata": {},
   "outputs": [],
   "source": [
    "tuplelist = [(2015,7.3,32.4),(2016,5.8,34.5),(2017,8.4,39.2),\n",
    "              (2018,6.8,31.4),(2019,4.4,29.8),(2020,5.3,36.7)]\n",
    "columnNames = ['Год','Температура','Осадки']\n",
    "weatherData = DataFrame(tuplelist, columns=columnNames)\n",
    "weatherData[['Температура','Осадки']].plot(kind='box', title='Диаграмма размаха')"
   ]
  },
  {
   "cell_type": "markdown",
   "metadata": {},
   "source": [
    "## Загрузка данных из файла"
   ]
  },
  {
   "cell_type": "markdown",
   "metadata": {},
   "source": [
    "Считаем набор данных “Ирисы” из репозитария UCI (http://archive.ics.uci.edu/), выведем данные на экран и проанализируем размерность данных (количество записей и признаков):"
   ]
  },
  {
   "cell_type": "code",
   "execution_count": null,
   "metadata": {},
   "outputs": [],
   "source": [
    "import urllib.request\n",
    "\n",
    "# чтение данных из репозитария UCI\n",
    "target_url = \\\n",
    "    \"https://archive.ics.uci.edu/ml/\"+\\\n",
    "    \"machine-learning-databases/iris/iris.data\"\n",
    "\n",
    "data = urllib.request.urlopen(target_url) # объект типа 'HTTPResponse'\n",
    "\n",
    "print('##### Набор данных Ирисы #####')\n",
    "xList = []\n",
    "for line in data:    \n",
    "    row = line.strip().decode().split(\",\") # сплит по запятой\n",
    "    if len(row) > 1:\n",
    "        print(row)\n",
    "        xList.append(row)\n",
    "\n",
    "print(\"Число строк в данных = \", len(xList))\n",
    "print(\"Число столбцов в данных = \", len(xList[1]))"
   ]
  },
  {
   "cell_type": "markdown",
   "metadata": {},
   "source": [
    "Считаем набор данных “Ирисы” из репозитария UCI при помощи функции `genfromtxt` библиотеки NumPy и рассчитаем средние значения признаков, матрицы ковариаций и корреляций признаков:"
   ]
  },
  {
   "cell_type": "code",
   "execution_count": null,
   "metadata": {},
   "outputs": [],
   "source": [
    "from urllib.request import urlopen\n",
    "from contextlib import closing\n",
    "import numpy as np\n",
    "\n",
    "url = \\\n",
    "\"https://archive.ics.uci.edu/ml/machine-learning-databases/iris/iris.data\"\n",
    "\n",
    "with closing(urlopen(url)) as u, open(\"iris.csv\", \"w\") as f:\n",
    "    f.write(u.read().decode())\n",
    "\n",
    "data = np.genfromtxt( \"iris.csv\", delimiter=\",\", usecols=(0,1,2,3), dtype=float ) \n",
    "target = np.genfromtxt( \"iris.csv\", delimiter=\",\", usecols=(4), dtype=str )\n",
    "\n",
    "iris_mean = np.mean( data, axis=0 )\n",
    "iris_cov = np.cov( data.T )\n",
    "iris_corr = np.corrcoef( data.T ) \n",
    "\n",
    "print( \"*** Средние значения:\\n\", iris_mean )\n",
    "print( \"*** Матрица ковариаций:\\n\", iris_cov )\n",
    "print( \"*** Матрица корреляций:\\n\", iris_corr )"
   ]
  },
  {
   "cell_type": "markdown",
   "metadata": {},
   "source": [
    "Считаем теперь набор данных “Ирисы” при помощи пакета Pandas:"
   ]
  },
  {
   "cell_type": "code",
   "execution_count": null,
   "metadata": {},
   "outputs": [],
   "source": [
    "import pandas as pd\n",
    "\n",
    "url = \\\n",
    "\"https://archive.ics.uci.edu/ml/machine-learning-databases/iris/iris.data\"\n",
    "\n",
    "# считываем данные в объект DataFrame\n",
    "my_data = pd.read_csv( url, header=None, prefix=\"V\" )\n",
    "\n",
    "print( \"\\n*** Начало данных:\\n\", my_data.head() ) # начальные данные\n",
    "print( \"\\n*** Конец данных:\\n\",  my_data.tail() ) # конечные данные\n",
    "\n",
    "summary = my_data.describe()                      # сводка данных \n",
    "print( \"\\n*** Сводка данных:\\n\", summary)"
   ]
  },
  {
   "cell_type": "markdown",
   "metadata": {},
   "source": [
    "Если набор данных не содержит названий признаков, то считываем его с параметром `header=None`. Если указан параметр `prefix=\"V\"`, то признаки будут иметь индексы (метки) `V0,...,Vn`. Для присвоения значений индексам признаков можно использовать свойство `my_data.columns`.\n",
    "\n",
    "Для получения различной информации о наборе данных можно также использовать следующие методы и свойства:"
   ]
  },
  {
   "cell_type": "code",
   "execution_count": null,
   "metadata": {},
   "outputs": [],
   "source": [
    "my_data.info() # различная информация о наборе данных"
   ]
  },
  {
   "cell_type": "code",
   "execution_count": null,
   "metadata": {},
   "outputs": [],
   "source": [
    "len(my_data) # число строк (записей)"
   ]
  },
  {
   "cell_type": "code",
   "execution_count": null,
   "metadata": {},
   "outputs": [],
   "source": [
    "len(my_data.columns) # число признаков (столбцов)"
   ]
  },
  {
   "cell_type": "code",
   "execution_count": null,
   "metadata": {},
   "outputs": [],
   "source": [
    "my_data.shape # число строк и столбцов"
   ]
  },
  {
   "cell_type": "markdown",
   "metadata": {},
   "source": [
    "Для удаления строк/столбцов в объекте DataFrame можно использовать метод drop(), при этом возвращается новый объект DataFrame с удаленными строками/столбцами:"
   ]
  },
  {
   "cell_type": "code",
   "execution_count": null,
   "metadata": {},
   "outputs": [],
   "source": [
    "my_data.drop([0, 1, 149]) # удаляем строки"
   ]
  },
  {
   "cell_type": "code",
   "execution_count": null,
   "metadata": {},
   "outputs": [],
   "source": [
    "my_data.drop(['V0', 'V4'],axis=1) # удаляем признаки"
   ]
  },
  {
   "cell_type": "code",
   "execution_count": null,
   "metadata": {},
   "outputs": [],
   "source": [
    "my_data.drop(columns=['V1', 'V2']) # удаляем признаки по-другому"
   ]
  },
  {
   "cell_type": "markdown",
   "metadata": {},
   "source": [
    "Для отбора строк, удовлетворяющих некоторому критерию, можно использовать булево индексирование:"
   ]
  },
  {
   "cell_type": "code",
   "execution_count": null,
   "metadata": {},
   "outputs": [],
   "source": [
    "my_data[my_data.V4 != 'Iris-virginica']"
   ]
  },
  {
   "cell_type": "markdown",
   "metadata": {},
   "source": [
    "Для преобразования признака `X` в объекте `df` в числовой можно использовать метод `astype(тип)` или метод `to_numeric`:\n",
    "\n",
    "`df['X'] = df['X'].astype(float)`  \n",
    "`df['X'] = pd.to_numeric(df['X'], errors='coerce')`  "
   ]
  },
  {
   "cell_type": "markdown",
   "metadata": {},
   "source": [
    "Здесь параметр `errors=’coerce’` означает, что нечисловые данные будут преобразованы в значение `NaN` (Not a Number)."
   ]
  },
  {
   "cell_type": "markdown",
   "metadata": {},
   "source": [
    "## Визуализация данных"
   ]
  },
  {
   "cell_type": "markdown",
   "metadata": {},
   "source": [
    "Для визуализации данных наиболее часто используется библиотека Matplotlib или встроенные средства библиотеки Pandas, представляющие собой вызовы функций Matplotlib."
   ]
  },
  {
   "cell_type": "markdown",
   "metadata": {},
   "source": [
    "Нарисуем при помощи пакета Matplotlib график функции $y=x^{2}$ на отрезке $\\left[-1,\\,1\\right]$:"
   ]
  },
  {
   "cell_type": "code",
   "execution_count": null,
   "metadata": {},
   "outputs": [],
   "source": [
    "%matplotlib inline\n",
    "import matplotlib.pyplot as plt \n",
    "\n",
    "n = 50 \n",
    "dx = 1.0/n \n",
    "xlist = [i*dx for i in range(-n,n+1)] \n",
    "ylist = [x**2 for x in xlist] \n",
    "plt.plot(xlist, ylist) "
   ]
  },
  {
   "cell_type": "markdown",
   "metadata": {},
   "source": [
    "Создадим 2000 точек на плоскости, где первая координата распределена равномерно на $\\left[0,\\,1\\right]$, а вторая координата имеет стандартное нормальное распределение (с математическим ожиданием $0$ и дисперсией $1$) и отобразим  полученные точки на плоскости:"
   ]
  },
  {
   "cell_type": "code",
   "execution_count": null,
   "metadata": {},
   "outputs": [],
   "source": [
    "import random\n",
    "import matplotlib.pyplot as plt\n",
    "\n",
    "npoints = 2000\n",
    "xlist = [random.random() for _ in range(0,npoints)]\n",
    "ylist = [random.normalvariate(0., 1.) for _ in range(0,npoints)]\n",
    "\n",
    "plt.plot(xlist, ylist,'g.') # color green, marker \".\""
   ]
  },
  {
   "cell_type": "markdown",
   "metadata": {},
   "source": [
    "Создадим 1000 точек, имеющих двумерное нормальное распределение с заданными параметрами и отобразим полученные точки на плоскости:"
   ]
  },
  {
   "cell_type": "code",
   "execution_count": null,
   "metadata": {},
   "outputs": [],
   "source": [
    "import numpy as np\n",
    "import matplotlib.pyplot as plt\n",
    "\n",
    "mean = [1., 1.]\n",
    "cov = [[2., 1.5], [1.5, 2.]]\n",
    "x, y = np.random.multivariate_normal(mean, cov, 1000).T\n",
    "\n",
    "plt.plot(x, y, 'o') # marker 'o'\n",
    "plt.axis('equal') # to equalize the scales of axis"
   ]
  },
  {
   "cell_type": "markdown",
   "metadata": {},
   "source": [
    "Вместо транспонирования массива `ndarray` можно использовать срезы:  \n",
    "`data = np.random.multivariate_normal(mean, cov, 1000)` \n",
    "`plt.plot(data[:,0], data[:,1], 'o') # marker 'o'`  "
   ]
  },
  {
   "cell_type": "markdown",
   "metadata": {},
   "source": [
    "Рассмотрим варианты визуализации набора данных Ирисы."
   ]
  },
  {
   "cell_type": "code",
   "execution_count": null,
   "metadata": {},
   "outputs": [],
   "source": [
    "import pandas as pd\n",
    "\n",
    "df = pd.read_csv(\"iris.csv\",header=None)\n",
    "df.columns = ['sepal length', 'sepal width', 'petal length', 'petal width', 'class']\n",
    "print(df.head())"
   ]
  },
  {
   "cell_type": "markdown",
   "metadata": {},
   "source": [
    "### Гистограмма"
   ]
  },
  {
   "cell_type": "code",
   "execution_count": null,
   "metadata": {},
   "outputs": [],
   "source": [
    "df['sepal length'].hist(bins=10)"
   ]
  },
  {
   "cell_type": "code",
   "execution_count": null,
   "metadata": {},
   "outputs": [],
   "source": [
    "plt.hist(df['sepal width'], color = 'yellow', edgecolor = 'black',\n",
    "         bins = 20, density=True)\n",
    "\n",
    "plt.title('Эмпирическая PDF признака sepal width')\n",
    "plt.xlabel('Sepal width')\n",
    "plt.ylabel('PDF')"
   ]
  },
  {
   "cell_type": "markdown",
   "metadata": {},
   "source": [
    "### Диаграмма рассеяния (scatter plot)"
   ]
  },
  {
   "cell_type": "code",
   "execution_count": null,
   "metadata": {},
   "outputs": [],
   "source": [
    "#Plots in matplotlib reside within a figure object, use plt.figure to create new figure \n",
    "fig=plt.figure()\n",
    "#Create one or more subplots using add_subplot, because you can't create blank figure\n",
    "ax = fig.add_subplot(1,1,1)\n",
    "#Variable\n",
    "ax.scatter(df['sepal length'],df['sepal width'])\n",
    "#Labels and Tit\n",
    "plt.title('Распределение признаков sepal length и sepal width')\n",
    "plt.xlabel('sepal length')\n",
    "plt.ylabel('sepal width')\n"
   ]
  },
  {
   "cell_type": "code",
   "execution_count": null,
   "metadata": {},
   "outputs": [],
   "source": [
    "fig, axes = plt.subplots(3, 2, figsize=(12,12))\n",
    "index = 0\n",
    "for i in range(3):\n",
    "    for j in range(i+1,4):\n",
    "        ax1 = int(index/2)\n",
    "        ax2 = index % 2\n",
    "        axes[ax1][ax2].scatter(df[df.columns[i]], df[df.columns[j]], color='red')\n",
    "        axes[ax1][ax2].set_xlabel(df.columns[i])\n",
    "        axes[ax1][ax2].set_ylabel(df.columns[j])\n",
    "        index = index + 1"
   ]
  },
  {
   "cell_type": "markdown",
   "metadata": {},
   "source": [
    "### Диаграмма размаха (box plot)"
   ]
  },
  {
   "cell_type": "markdown",
   "metadata": {},
   "source": [
    "Диаграмма размаха в удобной форме показывает медиану (среднее), первый (25%) и третий (75%) квартили, края статистически значимой выборки (минимальное и максимальное значения) и, возможно, выбросы. "
   ]
  },
  {
   "cell_type": "code",
   "execution_count": null,
   "metadata": {},
   "outputs": [],
   "source": [
    "df.boxplot(column='petal length')"
   ]
  },
  {
   "cell_type": "code",
   "execution_count": null,
   "metadata": {},
   "outputs": [],
   "source": [
    "df.boxplot()"
   ]
  },
  {
   "cell_type": "code",
   "execution_count": null,
   "metadata": {},
   "outputs": [],
   "source": [
    "df.boxplot(column='sepal length', by = 'class')"
   ]
  },
  {
   "cell_type": "markdown",
   "metadata": {},
   "source": [
    "### Задание на лабораторную работу №1"
   ]
  },
  {
   "cell_type": "markdown",
   "metadata": {},
   "source": [
    "#### Задание №1 (4 балла)"
   ]
  },
  {
   "cell_type": "markdown",
   "metadata": {},
   "source": [
    "Для закрепленного за Вами варианта лабораторной работы:\n",
    "\n",
    "1. Используя функционал библиотеки NumPy, постройте $n$ значений случайных признаков $X$ и $Y$, имеющих (двумерное) гауссовское распределение с математическим ожиданием $a$ и корреляционной матрицей $R$. \n",
    "\n",
    "2. Вычислите и выведите на экран для построенных значений признаков $X$ и $Y$ математические ожидания $\\mu_{X}$, $\\mu_{Y}$, дисперсии $\\sigma_{X}^{2}$, $\\sigma_{Y}^{2}$, а также корреляцию между признаками $\\rho_{X,Y}$.\n",
    "\n",
    "3. Визуализируйте построенные данные $\\left\\{ x_{i}\\right\\} _{i=1}^{n}$ и $\\left\\{ y_{i}\\right\\} _{i=1}^{n}$ на плоскости в виде точек с координатами $\\left\\{ \\left(x_{i},\\,y_{i}\\right)\\right\\} _{i=1}^{n}$. Визуализируйте математическое ожидание $\\left(\\mu_{X},\\mu_{Y}\\right)$ на плоскости в виде точки другого цвета и с другим маркером."
   ]
  },
  {
   "cell_type": "markdown",
   "metadata": {},
   "source": [
    "#### Задание №2 (6 баллов)"
   ]
  },
  {
   "cell_type": "markdown",
   "metadata": {},
   "source": [
    "Для закрепленного за Вами варианта лабораторной работы:\n",
    "\n",
    "1. Используя функционал библиотеки Pandas, cчитайте заданный набор данных из репозитария UCI. \n",
    "\n",
    "2. Проведите исследование набора данных, выявляя числовые и категориальные признаки. Если какие-то из признаков были неправильно классифицированы как категориальные, то преобразуйте их в числовые. Если в наборе присутствуют незаполненные значения, то игнорируйте такие записи.\n",
    "\n",
    "3. Для числового признака, имеющего наибольшую дисперсию, постройте эмпирическую функцию распределения (CDF) и визуализируйте ее в виде графика на плоскости. \n",
    "\n",
    "4. Найдите числовой признак, наименее коррелированный с числовым признаком, имеющим наибольшую дисперсию. \n",
    "\n",
    "5. Для этого признака постройте эмпирическую плотность распределения (PDF) и визуализируйте ее в виде гистограммы.\n",
    "\n",
    "6. Вычислите и выведите на экран для указанных выше двух признаков математические ожидания, дисперсии, а также корреляцию между признаками."
   ]
  },
  {
   "cell_type": "code",
   "execution_count": null,
   "metadata": {},
   "outputs": [],
   "source": []
  }
 ],
 "metadata": {
  "kernelspec": {
   "display_name": "Python 3",
   "language": "python",
   "name": "python3"
  },
  "language_info": {
   "codemirror_mode": {
    "name": "ipython",
    "version": 3
   },
   "file_extension": ".py",
   "mimetype": "text/x-python",
   "name": "python",
   "nbconvert_exporter": "python",
   "pygments_lexer": "ipython3",
   "version": "3.7.3"
  }
 },
 "nbformat": 4,
 "nbformat_minor": 4
}
