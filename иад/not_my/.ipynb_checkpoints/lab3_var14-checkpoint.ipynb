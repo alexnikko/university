{
 "cells": [
  {
   "cell_type": "markdown",
   "metadata": {},
   "source": [
    "### РОССИЙСКИЙ УНИВЕРСИТЕТ ДРУЖБЫ НАРОДОВ"
   ]
  },
  {
   "cell_type": "markdown",
   "metadata": {},
   "source": [
    "#### Факультет физико-математических и естественных наук  \n",
    "#### Кафедра информационных технологий "
   ]
  },
  {
   "cell_type": "markdown",
   "metadata": {},
   "source": [
    "## ОТЧЕТ ПО ЛАБОРАТОРНОЙ РАБОТЕ №3"
   ]
  },
  {
   "cell_type": "markdown",
   "metadata": {},
   "source": [
    "#### Дисциплина: Интеллектуальный анализ данных"
   ]
  },
  {
   "cell_type": "markdown",
   "metadata": {},
   "source": [
    "##### Студент:  Гусейнов Вахид Азерович\n",
    "##### Группа:   НБИбд-01-17"
   ]
  },
  {
   "cell_type": "markdown",
   "metadata": {},
   "source": [
    "## Москва 2020\n",
    "***"
   ]
  },
  {
   "cell_type": "markdown",
   "metadata": {},
   "source": [
    "### Вариант № 14"
   ]
  },
  {
   "cell_type": "markdown",
   "metadata": {},
   "source": [
    "Алгоритм: Eclat\n",
    "\n",
    "День недели (поле order_dow таблицы orders): “4”\n",
    "\n",
    "Код департамента (поле department_id таблицы products): “5”"
   ]
  },
  {
   "cell_type": "markdown",
   "metadata": {},
   "source": [
    "1. При помощи модуля sqlite3 откройте базу данных Instacart в файле instacart.db."
   ]
  },
  {
   "cell_type": "code",
   "execution_count": 1,
   "metadata": {
    "ExecuteTime": {
     "end_time": "2021-02-13T12:55:33.556922Z",
     "start_time": "2021-02-13T12:55:33.548921Z"
    }
   },
   "outputs": [],
   "source": [
    "import sqlite3\n",
    "\n",
    "conn = sqlite3.connect('instacart.db')"
   ]
  },
  {
   "cell_type": "markdown",
   "metadata": {},
   "source": [
    "2. При помощи запроса SELECT извлеките из таблицы order_products__train записи, соответствующие указанным в индивидуальном задании дню недели (поле order_dow таблицы orders) и коду департамента (поле department_id таблицы products). Определите количество записей в полученном наборе и определите количество товаров (поле order_id таблицы order_products__train) в транзакциях набора."
   ]
  },
  {
   "cell_type": "code",
   "execution_count": 2,
   "metadata": {
    "ExecuteTime": {
     "end_time": "2021-02-13T12:57:14.347262Z",
     "start_time": "2021-02-13T12:57:04.724423Z"
    }
   },
   "outputs": [],
   "source": [
    "import pandas as pd\n",
    "\n",
    "query =\\\n",
    "'''\n",
    "SELECT DISTINCT train.*, products.product_name\n",
    "FROM order_products__train as train\n",
    "JOIN orders\n",
    "    ON train.order_id = orders.order_id\n",
    "JOIN products\n",
    "    ON train.product_id = products.product_id\n",
    "WHERE orders.order_dow = 4\n",
    "AND   products.department_id = 5\n",
    "'''\n",
    "data = pd.read_sql(query, conn)"
   ]
  },
  {
   "cell_type": "code",
   "execution_count": 3,
   "metadata": {
    "ExecuteTime": {
     "end_time": "2021-02-13T12:57:22.874319Z",
     "start_time": "2021-02-13T12:57:22.852315Z"
    }
   },
   "outputs": [
    {
     "data": {
      "text/html": [
       "<div>\n",
       "<style scoped>\n",
       "    .dataframe tbody tr th:only-of-type {\n",
       "        vertical-align: middle;\n",
       "    }\n",
       "\n",
       "    .dataframe tbody tr th {\n",
       "        vertical-align: top;\n",
       "    }\n",
       "\n",
       "    .dataframe thead th {\n",
       "        text-align: right;\n",
       "    }\n",
       "</style>\n",
       "<table border=\"1\" class=\"dataframe\">\n",
       "  <thead>\n",
       "    <tr style=\"text-align: right;\">\n",
       "      <th></th>\n",
       "      <th>order_id</th>\n",
       "      <th>product_id</th>\n",
       "      <th>add_to_cart_order</th>\n",
       "      <th>reordered</th>\n",
       "      <th>product_name</th>\n",
       "    </tr>\n",
       "  </thead>\n",
       "  <tbody>\n",
       "    <tr>\n",
       "      <th>0</th>\n",
       "      <td>877974</td>\n",
       "      <td>1808</td>\n",
       "      <td>1</td>\n",
       "      <td>0</td>\n",
       "      <td>Champagne</td>\n",
       "    </tr>\n",
       "    <tr>\n",
       "      <th>1</th>\n",
       "      <td>1859940</td>\n",
       "      <td>15511</td>\n",
       "      <td>1</td>\n",
       "      <td>1</td>\n",
       "      <td>Draft Sake</td>\n",
       "    </tr>\n",
       "    <tr>\n",
       "      <th>2</th>\n",
       "      <td>3409264</td>\n",
       "      <td>2120</td>\n",
       "      <td>3</td>\n",
       "      <td>1</td>\n",
       "      <td>Sauvignon Blanc</td>\n",
       "    </tr>\n",
       "    <tr>\n",
       "      <th>3</th>\n",
       "      <td>1881604</td>\n",
       "      <td>10607</td>\n",
       "      <td>6</td>\n",
       "      <td>1</td>\n",
       "      <td>Prosecco</td>\n",
       "    </tr>\n",
       "    <tr>\n",
       "      <th>4</th>\n",
       "      <td>1881604</td>\n",
       "      <td>29509</td>\n",
       "      <td>2</td>\n",
       "      <td>1</td>\n",
       "      <td>80  Vodka Holiday Edition</td>\n",
       "    </tr>\n",
       "  </tbody>\n",
       "</table>\n",
       "</div>"
      ],
      "text/plain": [
       "  order_id product_id add_to_cart_order reordered               product_name\n",
       "0   877974       1808                 1         0                  Champagne\n",
       "1  1859940      15511                 1         1                 Draft Sake\n",
       "2  3409264       2120                 3         1            Sauvignon Blanc\n",
       "3  1881604      10607                 6         1                   Prosecco\n",
       "4  1881604      29509                 2         1  80  Vodka Holiday Edition"
      ]
     },
     "execution_count": 3,
     "metadata": {},
     "output_type": "execute_result"
    }
   ],
   "source": [
    "data.head()"
   ]
  },
  {
   "cell_type": "markdown",
   "metadata": {},
   "source": [
    "3. Определите количество покупок (транзакций) для пяти наиболее популярных товаров в наборе."
   ]
  },
  {
   "cell_type": "code",
   "execution_count": 13,
   "metadata": {
    "ExecuteTime": {
     "end_time": "2021-02-13T13:01:55.831646Z",
     "start_time": "2021-02-13T13:01:55.812642Z"
    }
   },
   "outputs": [
    {
     "data": {
      "text/plain": [
       "product_name\n",
       "Beer                  45\n",
       "Cabernet Sauvignon    43\n",
       "Sauvignon Blanc       38\n",
       "Chardonnay            36\n",
       "India Pale Ale        31\n",
       "Name: order_id, dtype: int64"
      ]
     },
     "execution_count": 13,
     "metadata": {},
     "output_type": "execute_result"
    }
   ],
   "source": [
    "popular = data.groupby('product_name')['order_id'].count().nlargest(5)\n",
    "popular"
   ]
  },
  {
   "cell_type": "markdown",
   "metadata": {},
   "source": [
    "4. Постройте транзакционную базу данных для поиск ассоциативных правил из полученного набора записей таблицы order_products__train, используя в качестве идентификатора транзакции поле order_id, а в качестве названий товаров - поле product_name из таблицы products, соответствующее полю product_id."
   ]
  },
  {
   "cell_type": "code",
   "execution_count": 7,
   "metadata": {
    "ExecuteTime": {
     "end_time": "2021-02-13T12:59:16.887710Z",
     "start_time": "2021-02-13T12:59:16.724161Z"
    }
   },
   "outputs": [],
   "source": [
    "transactions = []\n",
    "for order in data['order_id'].unique():\n",
    "    products = set(data[data['order_id'] == order]['product_name'])\n",
    "    pair = list((order, products))\n",
    "    transactions.append(pair)"
   ]
  },
  {
   "cell_type": "code",
   "execution_count": 8,
   "metadata": {
    "ExecuteTime": {
     "end_time": "2021-02-13T12:59:24.163627Z",
     "start_time": "2021-02-13T12:59:24.148623Z"
    }
   },
   "outputs": [
    {
     "name": "stdout",
     "output_type": "stream",
     "text": [
      "['877974', {'Champagne'}]\n",
      "['1859940', {'Draft Sake'}]\n",
      "['3409264', {'Sauvignon Blanc'}]\n"
     ]
    }
   ],
   "source": [
    "for i in range(3):\n",
    "    print(transactions[i])"
   ]
  },
  {
   "cell_type": "markdown",
   "metadata": {},
   "source": [
    "5. Реализуйте указанный в индивидуальном задании метод построения популярных наборов предметов (Apriori/Eclat/Declat) (3 балла) или используйте метод BruteForce (0 баллов). Протестируйте корректность"
   ]
  },
  {
   "cell_type": "code",
   "execution_count": 9,
   "metadata": {
    "ExecuteTime": {
     "end_time": "2021-02-13T13:00:10.726966Z",
     "start_time": "2021-02-13T13:00:10.708954Z"
    }
   },
   "outputs": [],
   "source": [
    "def prep(database):\n",
    "    all_items = set()\n",
    "    for pair in database:\n",
    "        all_items = all_items.union(pair[1])\n",
    "    all_items\n",
    "\n",
    "    res = dict()\n",
    "    for item in all_items:\n",
    "        res[item] = set()\n",
    "        for pair in database:\n",
    "            if item in pair[1]:\n",
    "                res[item].add(pair[0])\n",
    "\n",
    "    res = list(res.items())\n",
    "    return res\n",
    "\n",
    "def eclat(prefix, items):\n",
    "    while items:\n",
    "        i, itids = items.pop()\n",
    "        isupp = len(itids)\n",
    "        if isupp >= minsup:\n",
    "            items_freq[frozenset(prefix + [i])] = isupp\n",
    "            suffix = []\n",
    "            for j, ojtids in items:\n",
    "                jtids = itids&ojtids\n",
    "                if len(jtids)>=minsup:\n",
    "                    suffix.append((j,jtids))\n",
    "            eclat(prefix+[i], sorted(suffix, key=lambda item: len(item[1]), reverse=True))"
   ]
  },
  {
   "cell_type": "markdown",
   "metadata": {},
   "source": [
    "Проверка"
   ]
  },
  {
   "cell_type": "code",
   "execution_count": 11,
   "metadata": {
    "ExecuteTime": {
     "end_time": "2021-02-13T13:00:31.769463Z",
     "start_time": "2021-02-13T13:00:31.748457Z"
    }
   },
   "outputs": [
    {
     "name": "stdout",
     "output_type": "stream",
     "text": [
      "[('E',), 5]\n",
      "[('D',), 4]\n",
      "[('B',), 6]\n",
      "[('C',), 4]\n",
      "[('A',), 4]\n",
      "[('D', 'E'), 3]\n",
      "[('C', 'E'), 3]\n",
      "[('A', 'E'), 4]\n",
      "[('B', 'E'), 5]\n",
      "[('A', 'D'), 3]\n",
      "[('D', 'B'), 4]\n",
      "[('C', 'B'), 4]\n",
      "[('A', 'B'), 4]\n",
      "[('A', 'D', 'E'), 3]\n",
      "[('D', 'B', 'E'), 3]\n",
      "[('C', 'B', 'E'), 3]\n",
      "[('A', 'B', 'E'), 4]\n",
      "[('A', 'D', 'B'), 3]\n",
      "[('A', 'D', 'B', 'E'), 3]\n"
     ]
    }
   ],
   "source": [
    "D_train = [\n",
    "    [ 1, {\"A\",\"B\",\"D\",\"E\"} ],\n",
    "    [ 2, {\"B\",\"C\",\"E\"} ],\n",
    "    [ 3, {\"A\",\"B\",\"D\",\"E\"} ],\n",
    "    [ 4, {\"A\",\"B\",\"C\",\"E\"} ],\n",
    "    [ 5, {\"A\",\"B\",\"C\",\"D\",\"E\"} ],\n",
    "    [ 6, {\"B\",\"C\",\"D\"} ],\n",
    "]\n",
    "\n",
    "minsup = 3\n",
    "items_freq = dict()\n",
    "eclat([], prep(D_train))\n",
    "\n",
    "res_lst = []\n",
    "for key, value in items_freq.items():\n",
    "    tmp = []\n",
    "    tmp.append(tuple(key))\n",
    "    tmp.append(value)\n",
    "    res_lst.append(tmp)\n",
    "res_lst = sorted(res_lst, key=lambda x: len(x[0]))\n",
    "    \n",
    "for result in res_lst:\n",
    "    print(result)"
   ]
  },
  {
   "cell_type": "markdown",
   "metadata": {},
   "source": [
    "6. При помощи указанного в индивидуальном задании метода или метода BruteForce постройте популярные наборы товаров с минимальной поддержкой, равной половине среднего количества покупок пяти наиболее популярных товаров. В случае нехватки вычислительных ресурсов (слишком долгой работы программы) при построении популярных наборов товаров оставьте в наборе данных транзакции с 10 наиболее популярными товарами и сокращайте число записей (например, методом деления пополам)."
   ]
  },
  {
   "cell_type": "code",
   "execution_count": 14,
   "metadata": {
    "ExecuteTime": {
     "end_time": "2021-02-13T13:02:27.334651Z",
     "start_time": "2021-02-13T13:02:27.316645Z"
    }
   },
   "outputs": [
    {
     "data": {
      "text/plain": [
       "19"
      ]
     },
     "execution_count": 14,
     "metadata": {},
     "output_type": "execute_result"
    }
   ],
   "source": [
    "minsup = round(popular.mean() / 2)\n",
    "minsup"
   ]
  },
  {
   "cell_type": "markdown",
   "metadata": {},
   "source": [
    "Возьмем minsup = 2 иначе не получим никаких ассоциативных правил"
   ]
  },
  {
   "cell_type": "code",
   "execution_count": 24,
   "metadata": {
    "ExecuteTime": {
     "end_time": "2021-02-13T13:04:08.762347Z",
     "start_time": "2021-02-13T13:04:08.724339Z"
    }
   },
   "outputs": [
    {
     "name": "stdout",
     "output_type": "stream",
     "text": [
      "Полученные популярные наборы:\n",
      "\n",
      "[('Silver Tequila',), 4]\n",
      "[('Pils',), 3]\n",
      "[('Mighty Dry Hard Cider',), 3]\n",
      "[('Brut Cuvee Sparkling Champagne',), 3]\n",
      "[('India Pale Ale',), 31]\n",
      "[('Cabernet Sauvignon Wine',), 6]\n",
      "[('12 Oz Lager',), 3]\n",
      "[('Frontier Straight 95% Rye Mash Whiskey',), 3]\n",
      "[('Summer Pack Variety Bottles',), 4]\n",
      "[('312 Urban Wheat Ale',), 3]\n",
      "[('Chardonnay Wine',), 12]\n",
      "[('Coronita Beer Extra',), 3]\n",
      "[('Bottled Imported Premium Light Lager Beer',), 2]\n",
      "[('Claret, Black Label, 2006',), 2]\n",
      "[('Brut Sparkling Wine',), 6]\n",
      "[('Clara',), 11]\n",
      "[('Belgium Beer',), 9]\n",
      "[('Extra Beer Bottles',), 9]\n",
      "[('Belgian White Wheat Ale',), 11]\n",
      "[('Pale Ale',), 2]\n",
      "[('Scrimshaw Pilsner Style Beer',), 4]\n",
      "[('Crisp Hard Cider Crisp Apple',), 8]\n",
      "[('Gruner Veltliner',), 2]\n",
      "[('Original Belgian Wheat Beer',), 4]\n",
      "[('London Dry Gin England',), 2]\n",
      "[('Light Beer Cans',), 2]\n",
      "[('Blonde Ale',), 2]\n",
      "[('Blended Scotch Whiskey Black Label',), 2]\n",
      "[('Original Spiced Rum',), 2]\n",
      "[('Ale, Amber',), 3]\n",
      "[('Smokestack Mixed Four',), 2]\n",
      "[('Brut Champagne',), 2]\n",
      "[('Pinot Grigio Wine',), 3]\n",
      "[('California Merlot',), 2]\n",
      "[('Sauvignon Blanc Wine',), 3]\n",
      "[('Reserve Shiraz Wine',), 2]\n",
      "[('Cabernet Sauvignon',), 43]\n",
      "[('Moscato',), 2]\n",
      "[(\"Mixed 12 Pack Lion's Share Ale\",), 5]\n",
      "[('Coffee Liqueur',), 2]\n",
      "[('Distilled London Dry Gin',), 3]\n",
      "[('Sonoma Pinot Noir Wine',), 2]\n",
      "[('Riverstone Chardonnay',), 2]\n",
      "[('Pinot Grigio',), 12]\n",
      "[('Tequila, Silver',), 4]\n",
      "[('IPA',), 6]\n",
      "[('Champagne',), 2]\n",
      "[('Irish Whiskey',), 3]\n",
      "[('Draft Sake',), 2]\n",
      "[('Brut California Champagne',), 3]\n",
      "[('Sauvignon Blanc, Napa County',), 2]\n",
      "[('Merlot',), 7]\n",
      "[('Sauvignon Blanc, Mendocino, 2007',), 2]\n",
      "[('Whiskey',), 2]\n",
      "[('Original Tequila Reposado',), 2]\n",
      "[('Lager',), 5]\n",
      "[('Rose',), 6]\n",
      "[('Handmade Vodka',), 10]\n",
      "[('Lager Beer',), 4]\n",
      "[('Cabernet Sauvignon Sonoma County',), 3]\n",
      "[('Pinot Noir, California',), 2]\n",
      "[('Belgian White Beer',), 3]\n",
      "[('Valdobbiadene Prosecco',), 2]\n",
      "[('Merlot, Columbia Valley, 2007',), 2]\n",
      "[('California Red Wine',), 7]\n",
      "[('Icelandic White Ale 6 Pack',), 3]\n",
      "[('Triple Distilled Vodka',), 8]\n",
      "[('Vodka',), 27]\n",
      "[('Sparking Brut Classic Wine',), 2]\n",
      "[('Bitters Liqueur',), 3]\n",
      "[('India Pale Ale Racer 5',), 4]\n",
      "[('Nuestro Tequila',), 2]\n",
      "[('Verry Special Cognac',), 2]\n",
      "[('Liqueur',), 2]\n",
      "[('Brut Rosé',), 2]\n",
      "[('Amber Ale',), 9]\n",
      "[('Robert Mondavi',), 3]\n",
      "[('Extra Dry California Champagne',), 2]\n",
      "[('Monterey County Pinot Noir',), 2]\n",
      "[('The Original Irish Creme Liquer',), 7]\n",
      "[('Cabernet Sauvignon, Central Coast, 2007',), 2]\n",
      "[('Pale Ale Beer',), 2]\n",
      "[('805 Blond Ale',), 2]\n",
      "[('Beer',), 45]\n",
      "[('Fat Tire Amber Ale - 12 CT',), 2]\n",
      "[('Brown Ale',), 5]\n",
      "[('London Dry Gin',), 3]\n",
      "[('Prosecco Sparkling Wine',), 18]\n",
      "[('90 Minute Imperial Ipa',), 3]\n",
      "[('Brut',), 6]\n",
      "[('Draught',), 3]\n",
      "[('Premium Belgian Lager',), 7]\n",
      "[('Sauvignon Blanc',), 38]\n",
      "[(\"Brewmaster's Seasonal Sampler\",), 3]\n",
      "[('California Pinot Noir',), 3]\n",
      "[('Red Wine, Dark, California, 2013',), 2]\n",
      "[('Coastal Pinot Noir',), 2]\n",
      "[('Vintners Reserve Sauvignon Blanc',), 2]\n",
      "[('Tennessee Whiskey',), 2]\n",
      "[('Handmade Vodka From Austin, Texas',), 3]\n",
      "[('Pinot Noir Wine',), 10]\n",
      "[('Prosecco',), 8]\n",
      "[('California Chardonnay',), 2]\n",
      "[('Tequila Silver',), 5]\n",
      "[('Ale, India Pale, Brew Free! Or Die IPA',), 5]\n",
      "[('Pinot Noir',), 22]\n",
      "[('Alto Adige Pinot Grigio',), 3]\n",
      "[('Down To Earth IPA',), 2]\n",
      "[('Old Rasputin Stout Beer',), 3]\n",
      "[('Orange Liqueur',), 2]\n",
      "[('Diamond Collection Silver Label Pinot Noir Wine',), 2]\n",
      "[('Especial',), 3]\n",
      "[('Extra Stout Beer',), 3]\n",
      "[('Bourbon Kentucky Frontier Whiskey',), 3]\n",
      "[('Variety Pack Beer',), 2]\n",
      "[('Cabernet Sauvignon, Central Coast, 2011',), 4]\n",
      "[('Chenin Blanc',), 3]\n",
      "[('Brandy',), 2]\n",
      "[('Chardonnay',), 36]\n",
      "[('Fume Blanc Sonoma County',), 2]\n",
      "[('Fresh Squeezed IPA',), 3]\n",
      "[('Private Selection Pinot Noir',), 2]\n",
      "[('Malbec',), 7]\n",
      "[('Potato Vodka',), 3]\n",
      "[('Belgian Style Wheat Ale',), 5]\n",
      "[('Draft Beer',), 3]\n",
      "[('Zinfandel',), 3]\n",
      "[('Tequila Reposado with Glass',), 2]\n",
      "[('Old Vine Zinfandel',), 4]\n",
      "[('Villager Ipa',), 3]\n",
      "[('312 Urban Wheat',), 2]\n",
      "[('Variety Pack Hard Cider',), 8]\n",
      "[('Light',), 3]\n",
      "[('Longboard Island Lager',), 6]\n",
      "[('80  Vodka Holiday Edition',), 7]\n",
      "[('Kentucky Straight Bourbon Whiskey',), 4]\n",
      "[('Ksa Ko?Lsch Style Ale',), 3]\n",
      "[('Ranger India Pale Ale Bottles',), 2]\n",
      "[(\"Little Sumpin' Sumpin' Ale\",), 10]\n",
      "[('Frontier Whiskey',), 6]\n",
      "[(\"Vintner's Reserve Chardonnay\",), 2]\n",
      "[('Red Blend',), 5]\n",
      "[('Premium Lager Beer',), 16]\n",
      "[('Vodka', 'Silver Tequila'), 2]\n",
      "[('Belgian White Wheat Ale', 'Pils'), 2]\n",
      "[('Belgian White Wheat Ale', 'India Pale Ale'), 2]\n",
      "[('India Pale Ale', \"Mixed 12 Pack Lion's Share Ale\"), 2]\n",
      "[('Lager Beer', 'India Pale Ale'), 2]\n",
      "[('India Pale Ale', 'Belgian White Beer'), 2]\n",
      "[('India Pale Ale', 'Sauvignon Blanc'), 2]\n",
      "[(\"Brewmaster's Seasonal Sampler\", 'India Pale Ale'), 2]\n",
      "[('India Pale Ale', 'Chardonnay'), 2]\n",
      "[('India Pale Ale', 'Longboard Island Lager'), 2]\n",
      "[('India Pale Ale', 'Clara'), 3]\n",
      "[('Cabernet Sauvignon', 'India Pale Ale'), 3]\n",
      "[('India Pale Ale', 'Prosecco Sparkling Wine'), 3]\n",
      "[('India Pale Ale', 'Premium Belgian Lager'), 3]\n",
      "[('Pinot Noir Wine', 'India Pale Ale'), 3]\n",
      "[(\"Little Sumpin' Sumpin' Ale\", 'India Pale Ale'), 3]\n",
      "[('Frontier Whiskey', 'India Pale Ale'), 3]\n",
      "[('Extra Beer Bottles', 'India Pale Ale'), 4]\n",
      "[('India Pale Ale', 'Amber Ale'), 4]\n",
      "[('India Pale Ale', 'Variety Pack Hard Cider'), 5]\n",
      "[('Premium Lager Beer', 'India Pale Ale'), 6]\n",
      "[('India Pale Ale', 'Beer'), 10]\n",
      "[('Cabernet Sauvignon Wine', 'California Red Wine'), 2]\n",
      "[('Chardonnay Wine', 'Cabernet Sauvignon'), 2]\n",
      "[('Vodka', 'Chardonnay Wine'), 2]\n",
      "[('Chardonnay Wine', 'Sauvignon Blanc'), 2]\n",
      "[('Chardonnay Wine', 'Pinot Noir'), 3]\n",
      "[('Premium Belgian Lager', 'Clara'), 2]\n",
      "[('Beer', 'Clara'), 3]\n",
      "[('Belgium Beer', 'Beer'), 3]\n",
      "[('Extra Beer Bottles', 'Belgian White Beer'), 2]\n",
      "[('Belgian Style Wheat Ale', 'Extra Beer Bottles'), 2]\n",
      "[('Belgian White Wheat Ale', 'Scrimshaw Pilsner Style Beer'), 2]\n",
      "[('Belgian White Wheat Ale', 'Premium Belgian Lager'), 2]\n",
      "[('Belgian White Wheat Ale', \"Little Sumpin' Sumpin' Ale\"), 2]\n",
      "[('Belgian White Wheat Ale', 'Cabernet Sauvignon'), 3]\n",
      "[('Belgian White Wheat Ale', 'Beer'), 5]\n",
      "[('Crisp Hard Cider Crisp Apple', 'Scrimshaw Pilsner Style Beer'), 2]\n",
      "[(\"Little Sumpin' Sumpin' Ale\", 'Scrimshaw Pilsner Style Beer'), 2]\n",
      "[(\"Little Sumpin' Sumpin' Ale\", 'Crisp Hard Cider Crisp Apple'), 2]\n",
      "[('Premium Lager Beer', 'Crisp Hard Cider Crisp Apple'), 2]\n",
      "[('IPA', 'Crisp Hard Cider Crisp Apple'), 3]\n",
      "[('Crisp Hard Cider Crisp Apple', 'Beer'), 3]\n",
      "[('Ale, Amber', 'Beer'), 2]\n",
      "[('Cabernet Sauvignon', 'Pinot Grigio Wine'), 2]\n",
      "[('Handmade Vodka', 'Cabernet Sauvignon'), 2]\n",
      "[('Cabernet Sauvignon', 'California Red Wine'), 2]\n",
      "[('Vodka', 'Cabernet Sauvignon'), 2]\n",
      "[('Cabernet Sauvignon', 'Premium Belgian Lager'), 2]\n",
      "[('Cabernet Sauvignon', \"Brewmaster's Seasonal Sampler\"), 2]\n",
      "[('Cabernet Sauvignon', 'Red Wine, Dark, California, 2013'), 2]\n",
      "[('Cabernet Sauvignon', 'Longboard Island Lager'), 2]\n",
      "[('Cabernet Sauvignon', 'Cabernet Sauvignon Sonoma County'), 3]\n",
      "[('Cabernet Sauvignon', 'Beer'), 3]\n",
      "[('Cabernet Sauvignon', 'Prosecco Sparkling Wine'), 3]\n",
      "[('Cabernet Sauvignon', 'Pinot Noir Wine'), 3]\n",
      "[('Cabernet Sauvignon', 'Variety Pack Hard Cider'), 3]\n",
      "[('Cabernet Sauvignon', 'Merlot'), 4]\n",
      "[('Cabernet Sauvignon', \"Little Sumpin' Sumpin' Ale\"), 4]\n",
      "[('Cabernet Sauvignon', 'Pinot Noir'), 6]\n",
      "[('Cabernet Sauvignon', 'Sauvignon Blanc'), 7]\n",
      "[('Cabernet Sauvignon', 'Chardonnay'), 8]\n",
      "[('Beer', \"Mixed 12 Pack Lion's Share Ale\"), 3]\n",
      "[('Vodka', 'Pinot Grigio'), 2]\n",
      "[('Belgian White Beer', 'Lager'), 2]\n",
      "[('Lager', 'Beer'), 2]\n",
      "[('Belgian White Beer', 'Beer'), 2]\n",
      "[('California Red Wine', 'Sauvignon Blanc'), 3]\n",
      "[('Vodka', 'Chardonnay'), 2]\n",
      "[('Bitters Liqueur', 'Ale, India Pale, Brew Free! Or Die IPA'), 2]\n",
      "[('Premium Lager Beer', 'Amber Ale'), 2]\n",
      "[('Amber Ale', 'Beer'), 4]\n",
      "[('Premium Belgian Lager', 'Beer'), 2]\n",
      "[('Sauvignon Blanc', 'Beer'), 2]\n",
      "[('Variety Pack Hard Cider', 'Beer'), 2]\n",
      "[(\"Little Sumpin' Sumpin' Ale\", 'Beer'), 2]\n",
      "[('Chardonnay', 'Beer'), 3]\n",
      "[('Premium Lager Beer', 'Beer'), 3]\n",
      "[('Brown Ale', 'Chardonnay'), 2]\n",
      "[('Pinot Noir Wine', 'Prosecco Sparkling Wine'), 2]\n",
      "[('Prosecco Sparkling Wine', 'Pinot Noir'), 2]\n",
      "[('Prosecco Sparkling Wine', 'Chardonnay'), 2]\n",
      "[('Prosecco Sparkling Wine', 'Sauvignon Blanc'), 3]\n",
      "[('Pinot Noir Wine', 'Premium Belgian Lager'), 2]\n",
      "[('Premium Belgian Lager', 'Variety Pack Hard Cider'), 2]\n",
      "[(\"Little Sumpin' Sumpin' Ale\", 'Premium Belgian Lager'), 2]\n",
      "[('Pinot Noir Wine', 'Sauvignon Blanc'), 2]\n",
      "[('Sauvignon Blanc', 'Pinot Noir'), 2]\n",
      "[('Chenin Blanc', 'Sauvignon Blanc'), 2]\n",
      "[('Fresh Squeezed IPA', 'Sauvignon Blanc'), 2]\n",
      "[('Sauvignon Blanc', 'Chardonnay'), 3]\n",
      "[(\"Brewmaster's Seasonal Sampler\", 'Variety Pack Hard Cider'), 2]\n",
      "[(\"Brewmaster's Seasonal Sampler\", 'Longboard Island Lager'), 2]\n",
      "[('Pinot Noir Wine', 'Variety Pack Hard Cider'), 2]\n",
      "[(\"Little Sumpin' Sumpin' Ale\", 'Pinot Noir Wine'), 2]\n",
      "[('Tequila Silver', 'Chardonnay'), 3]\n",
      "[('Chardonnay', 'Malbec'), 2]\n",
      "[('Premium Lager Beer', 'Chardonnay'), 2]\n",
      "[('Belgian Style Wheat Ale', '312 Urban Wheat'), 2]\n",
      "[(\"Little Sumpin' Sumpin' Ale\", 'Variety Pack Hard Cider'), 2]\n",
      "[(\"Little Sumpin' Sumpin' Ale\", 'Longboard Island Lager'), 3]\n",
      "[('Premium Lager Beer', \"Little Sumpin' Sumpin' Ale\"), 2]\n",
      "[('Belgian White Wheat Ale', 'India Pale Ale', 'Beer'), 2]\n",
      "[('Beer', 'India Pale Ale', \"Mixed 12 Pack Lion's Share Ale\"), 2]\n",
      "[('India Pale Ale', 'Belgian White Beer', 'Beer'), 2]\n",
      "[(\"Brewmaster's Seasonal Sampler\", 'India Pale Ale', 'Longboard Island Lager'), 2]\n",
      "[('India Pale Ale', 'Premium Belgian Lager', 'Clara'), 2]\n",
      "[('Cabernet Sauvignon', 'India Pale Ale', 'Premium Belgian Lager'), 2]\n",
      "[('Pinot Noir Wine', 'Cabernet Sauvignon', 'India Pale Ale'), 2]\n",
      "[('Cabernet Sauvignon', 'India Pale Ale', \"Little Sumpin' Sumpin' Ale\"), 2]\n",
      "[('Cabernet Sauvignon', 'India Pale Ale', 'Variety Pack Hard Cider'), 2]\n",
      "[('Pinot Noir Wine', 'India Pale Ale', 'Premium Belgian Lager'), 2]\n",
      "[(\"Little Sumpin' Sumpin' Ale\", 'India Pale Ale', 'Premium Belgian Lager'), 2]\n",
      "[('India Pale Ale', 'Premium Belgian Lager', 'Variety Pack Hard Cider'), 2]\n",
      "[('Pinot Noir Wine', \"Little Sumpin' Sumpin' Ale\", 'India Pale Ale'), 2]\n",
      "[('Pinot Noir Wine', 'India Pale Ale', 'Variety Pack Hard Cider'), 2]\n",
      "[(\"Little Sumpin' Sumpin' Ale\", 'India Pale Ale', 'Variety Pack Hard Cider'), 2]\n",
      "[(\"Little Sumpin' Sumpin' Ale\", 'India Pale Ale', 'Beer'), 2]\n",
      "[('India Pale Ale', 'Amber Ale', 'Beer'), 2]\n",
      "[('Beer', 'India Pale Ale', 'Variety Pack Hard Cider'), 2]\n",
      "[('Premium Lager Beer', 'India Pale Ale', 'Beer'), 2]\n",
      "[('Belgian White Wheat Ale', 'Premium Belgian Lager', 'Beer'), 2]\n",
      "[('Belgian White Wheat Ale', \"Little Sumpin' Sumpin' Ale\", 'Cabernet Sauvignon'), 2]\n",
      "[(\"Little Sumpin' Sumpin' Ale\", 'Crisp Hard Cider Crisp Apple', 'Scrimshaw Pilsner Style Beer'), 2]\n",
      "[('Cabernet Sauvignon', 'Sauvignon Blanc', 'California Red Wine'), 2]\n",
      "[('Cabernet Sauvignon', 'Pinot Noir Wine', 'Premium Belgian Lager'), 2]\n",
      "[('Cabernet Sauvignon', 'Premium Belgian Lager', 'Variety Pack Hard Cider'), 2]\n",
      "[('Cabernet Sauvignon', \"Little Sumpin' Sumpin' Ale\", 'Premium Belgian Lager'), 2]\n",
      "[('Cabernet Sauvignon', \"Brewmaster's Seasonal Sampler\", 'Variety Pack Hard Cider'), 2]\n",
      "[('Cabernet Sauvignon', \"Little Sumpin' Sumpin' Ale\", 'Longboard Island Lager'), 2]\n",
      "[('Cabernet Sauvignon', 'Chardonnay', 'Beer'), 2]\n",
      "[('Cabernet Sauvignon', 'Pinot Noir Wine', 'Variety Pack Hard Cider'), 2]\n",
      "[('Cabernet Sauvignon', 'Pinot Noir Wine', \"Little Sumpin' Sumpin' Ale\"), 2]\n",
      "[('Cabernet Sauvignon', \"Little Sumpin' Sumpin' Ale\", 'Variety Pack Hard Cider'), 2]\n",
      "[('Pinot Noir Wine', 'Premium Belgian Lager', 'Variety Pack Hard Cider'), 2]\n",
      "[(\"Little Sumpin' Sumpin' Ale\", 'Pinot Noir Wine', 'Premium Belgian Lager'), 2]\n",
      "[(\"Little Sumpin' Sumpin' Ale\", 'Premium Belgian Lager', 'Variety Pack Hard Cider'), 2]\n",
      "[(\"Little Sumpin' Sumpin' Ale\", 'Pinot Noir Wine', 'Variety Pack Hard Cider'), 2]\n",
      "[('Pinot Noir Wine', 'Cabernet Sauvignon', 'India Pale Ale', 'Premium Belgian Lager'), 2]\n",
      "[('Cabernet Sauvignon', 'India Pale Ale', \"Little Sumpin' Sumpin' Ale\", 'Premium Belgian Lager'), 2]\n",
      "[('Cabernet Sauvignon', 'India Pale Ale', 'Premium Belgian Lager', 'Variety Pack Hard Cider'), 2]\n",
      "[('Pinot Noir Wine', 'Cabernet Sauvignon', 'India Pale Ale', \"Little Sumpin' Sumpin' Ale\"), 2]\n",
      "[('Pinot Noir Wine', 'Cabernet Sauvignon', 'India Pale Ale', 'Variety Pack Hard Cider'), 2]\n",
      "[('Cabernet Sauvignon', 'India Pale Ale', \"Little Sumpin' Sumpin' Ale\", 'Variety Pack Hard Cider'), 2]\n",
      "[('Pinot Noir Wine', \"Little Sumpin' Sumpin' Ale\", 'India Pale Ale', 'Premium Belgian Lager'), 2]\n",
      "[('Pinot Noir Wine', 'India Pale Ale', 'Premium Belgian Lager', 'Variety Pack Hard Cider'), 2]\n",
      "[(\"Little Sumpin' Sumpin' Ale\", 'India Pale Ale', 'Premium Belgian Lager', 'Variety Pack Hard Cider'), 2]\n",
      "[('Pinot Noir Wine', \"Little Sumpin' Sumpin' Ale\", 'India Pale Ale', 'Variety Pack Hard Cider'), 2]\n",
      "[('Cabernet Sauvignon', 'Pinot Noir Wine', 'Premium Belgian Lager', 'Variety Pack Hard Cider'), 2]\n",
      "[('Cabernet Sauvignon', 'Pinot Noir Wine', \"Little Sumpin' Sumpin' Ale\", 'Premium Belgian Lager'), 2]\n",
      "[('Cabernet Sauvignon', \"Little Sumpin' Sumpin' Ale\", 'Premium Belgian Lager', 'Variety Pack Hard Cider'), 2]\n",
      "[('Cabernet Sauvignon', 'Pinot Noir Wine', \"Little Sumpin' Sumpin' Ale\", 'Variety Pack Hard Cider'), 2]\n",
      "[(\"Little Sumpin' Sumpin' Ale\", 'Pinot Noir Wine', 'Premium Belgian Lager', 'Variety Pack Hard Cider'), 2]\n",
      "[(\"Little Sumpin' Sumpin' Ale\", 'Cabernet Sauvignon', 'India Pale Ale', 'Premium Belgian Lager', 'Pinot Noir Wine'), 2]\n",
      "[('Cabernet Sauvignon', 'India Pale Ale', 'Premium Belgian Lager', 'Variety Pack Hard Cider', 'Pinot Noir Wine'), 2]\n",
      "[(\"Little Sumpin' Sumpin' Ale\", 'Cabernet Sauvignon', 'India Pale Ale', 'Premium Belgian Lager', 'Variety Pack Hard Cider'), 2]\n",
      "[(\"Little Sumpin' Sumpin' Ale\", 'Cabernet Sauvignon', 'India Pale Ale', 'Variety Pack Hard Cider', 'Pinot Noir Wine'), 2]\n",
      "[(\"Little Sumpin' Sumpin' Ale\", 'India Pale Ale', 'Premium Belgian Lager', 'Variety Pack Hard Cider', 'Pinot Noir Wine'), 2]\n",
      "[(\"Little Sumpin' Sumpin' Ale\", 'Cabernet Sauvignon', 'Premium Belgian Lager', 'Variety Pack Hard Cider', 'Pinot Noir Wine'), 2]\n",
      "[(\"Little Sumpin' Sumpin' Ale\", 'Cabernet Sauvignon', 'India Pale Ale', 'Premium Belgian Lager', 'Variety Pack Hard Cider', 'Pinot Noir Wine'), 2]\n"
     ]
    }
   ],
   "source": [
    "minsup = 2\n",
    "items_freq = dict()\n",
    "eclat([], prep(transactions))\n",
    "\n",
    "res_lst = []\n",
    "for key, value in items_freq.items():\n",
    "    tmp = []\n",
    "    tmp.append(tuple(key))\n",
    "    tmp.append(value)\n",
    "    res_lst.append(tmp)\n",
    "res_lst = sorted(res_lst, key=lambda x: len(x[0]))\n",
    "    \n",
    "print('Полученные популярные наборы:\\n')\n",
    "for result in res_lst:\n",
    "    print(result)"
   ]
  },
  {
   "cell_type": "markdown",
   "metadata": {},
   "source": [
    "7. Для какого-либо из полученных популярных наборов товаров постройте набор ассоциативных правил."
   ]
  },
  {
   "cell_type": "code",
   "execution_count": 25,
   "metadata": {
    "ExecuteTime": {
     "end_time": "2021-02-13T13:04:12.150120Z",
     "start_time": "2021-02-13T13:04:12.132117Z"
    }
   },
   "outputs": [
    {
     "name": "stdout",
     "output_type": "stream",
     "text": [
      "(\"Little Sumpin' Sumpin' Ale\", 'India Pale Ale', 'Premium Belgian Lager', 'Variety Pack Hard Cider', 'Pinot Noir Wine') 5\n"
     ]
    }
   ],
   "source": [
    "sample, _ = res_lst[-3]\n",
    "print(sample, len(sample))"
   ]
  },
  {
   "cell_type": "code",
   "execution_count": 26,
   "metadata": {
    "ExecuteTime": {
     "end_time": "2021-02-13T13:04:13.352694Z",
     "start_time": "2021-02-13T13:04:13.339691Z"
    }
   },
   "outputs": [
    {
     "name": "stdout",
     "output_type": "stream",
     "text": [
      "Полученные ассоциативные правила:\n",
      "\n",
      "rule:\n",
      "('India Pale Ale', 'Premium Belgian Lager', 'Variety Pack Hard Cider', 'Pinot Noir Wine')\n",
      "[\"Little Sumpin' Sumpin' Ale\"]\n",
      "\n",
      "rule:\n",
      "(\"Little Sumpin' Sumpin' Ale\", 'Premium Belgian Lager', 'Variety Pack Hard Cider', 'Pinot Noir Wine')\n",
      "['India Pale Ale']\n",
      "\n",
      "rule:\n",
      "(\"Little Sumpin' Sumpin' Ale\", 'India Pale Ale', 'Variety Pack Hard Cider', 'Pinot Noir Wine')\n",
      "['Premium Belgian Lager']\n",
      "\n",
      "rule:\n",
      "(\"Little Sumpin' Sumpin' Ale\", 'India Pale Ale', 'Premium Belgian Lager', 'Pinot Noir Wine')\n",
      "['Variety Pack Hard Cider']\n",
      "\n",
      "rule:\n",
      "(\"Little Sumpin' Sumpin' Ale\", 'India Pale Ale', 'Premium Belgian Lager', 'Variety Pack Hard Cider')\n",
      "['Pinot Noir Wine']\n",
      "\n",
      "rule:\n",
      "('Premium Belgian Lager', 'Variety Pack Hard Cider', 'Pinot Noir Wine')\n",
      "['India Pale Ale', \"Little Sumpin' Sumpin' Ale\"]\n",
      "\n",
      "rule:\n",
      "('India Pale Ale', 'Variety Pack Hard Cider', 'Pinot Noir Wine')\n",
      "[\"Little Sumpin' Sumpin' Ale\", 'Premium Belgian Lager']\n",
      "\n",
      "rule:\n",
      "('India Pale Ale', 'Premium Belgian Lager', 'Pinot Noir Wine')\n",
      "[\"Little Sumpin' Sumpin' Ale\", 'Variety Pack Hard Cider']\n",
      "\n",
      "rule:\n",
      "('India Pale Ale', 'Premium Belgian Lager', 'Variety Pack Hard Cider')\n",
      "[\"Little Sumpin' Sumpin' Ale\", 'Pinot Noir Wine']\n",
      "\n",
      "rule:\n",
      "(\"Little Sumpin' Sumpin' Ale\", 'Variety Pack Hard Cider', 'Pinot Noir Wine')\n",
      "['India Pale Ale', 'Premium Belgian Lager']\n",
      "\n",
      "rule:\n",
      "(\"Little Sumpin' Sumpin' Ale\", 'Premium Belgian Lager', 'Pinot Noir Wine')\n",
      "['India Pale Ale', 'Variety Pack Hard Cider']\n",
      "\n",
      "rule:\n",
      "(\"Little Sumpin' Sumpin' Ale\", 'Premium Belgian Lager', 'Variety Pack Hard Cider')\n",
      "['India Pale Ale', 'Pinot Noir Wine']\n",
      "\n",
      "rule:\n",
      "(\"Little Sumpin' Sumpin' Ale\", 'India Pale Ale', 'Pinot Noir Wine')\n",
      "['Premium Belgian Lager', 'Variety Pack Hard Cider']\n",
      "\n",
      "rule:\n",
      "(\"Little Sumpin' Sumpin' Ale\", 'India Pale Ale', 'Variety Pack Hard Cider')\n",
      "['Pinot Noir Wine', 'Premium Belgian Lager']\n",
      "\n",
      "rule:\n",
      "(\"Little Sumpin' Sumpin' Ale\", 'India Pale Ale', 'Premium Belgian Lager')\n",
      "['Pinot Noir Wine', 'Variety Pack Hard Cider']\n",
      "\n",
      "rule:\n",
      "('Variety Pack Hard Cider', 'Pinot Noir Wine')\n",
      "['India Pale Ale', \"Little Sumpin' Sumpin' Ale\", 'Premium Belgian Lager']\n",
      "\n",
      "rule:\n",
      "('Premium Belgian Lager', 'Pinot Noir Wine')\n",
      "['India Pale Ale', \"Little Sumpin' Sumpin' Ale\", 'Variety Pack Hard Cider']\n",
      "\n",
      "rule:\n",
      "('Premium Belgian Lager', 'Variety Pack Hard Cider')\n",
      "['India Pale Ale', \"Little Sumpin' Sumpin' Ale\", 'Pinot Noir Wine']\n",
      "\n",
      "rule:\n",
      "(\"Little Sumpin' Sumpin' Ale\", 'Pinot Noir Wine')\n",
      "['India Pale Ale', 'Premium Belgian Lager', 'Variety Pack Hard Cider']\n",
      "\n",
      "rule:\n",
      "(\"Little Sumpin' Sumpin' Ale\", 'Variety Pack Hard Cider')\n",
      "['India Pale Ale', 'Pinot Noir Wine', 'Premium Belgian Lager']\n",
      "\n",
      "rule:\n",
      "(\"Little Sumpin' Sumpin' Ale\", 'Premium Belgian Lager')\n",
      "['India Pale Ale', 'Pinot Noir Wine', 'Variety Pack Hard Cider']\n",
      "\n"
     ]
    }
   ],
   "source": [
    "from itertools import chain, combinations\n",
    "\n",
    "def ComputeSupport(X, D):\n",
    "    supX = 0\n",
    "    for _, itemset in D:\n",
    "        if X.issubset(itemset):\n",
    "            supX += 1\n",
    "    return supX\n",
    "\n",
    "def powersetk(iterable, k):\n",
    "    xs = list(iterable)\n",
    "    return list(chain.from_iterable(combinations(xs, n) for n in range(k, len(xs) + 1)))[:-1]\n",
    "\n",
    "def AssociationRules(D, Z_set, minconf):\n",
    "    A_rules = []\n",
    "    supZ = ComputeSupport(set(Z_set), D)\n",
    "    A_set = powersetk(Z_set, 1)\n",
    "    while len(A_set)>0:\n",
    "        X_set = A_set[-1]\n",
    "        A_set.pop()\n",
    "        conf = supZ / ComputeSupport(set(X_set), D)\n",
    "        if conf >= minconf:\n",
    "            Y_set = sorted(list(set(Z_set) - set(X_set)))\n",
    "            A_rules.append([X_set, Y_set])\n",
    "        else:\n",
    "            for W_set in powersetk(X_set, 1):\n",
    "                if W_set in A_set:\n",
    "                    A_set.remove(W_set)\n",
    "    return A_rules\n",
    "\n",
    "rules = AssociationRules(transactions, sample, 0.9)\n",
    "print('Полученные ассоциативные правила:\\n')\n",
    "for rule in rules:\n",
    "    print('rule:')\n",
    "    for x in rule:\n",
    "        print(x)\n",
    "    print()"
   ]
  },
  {
   "cell_type": "markdown",
   "metadata": {},
   "source": [
    "8. Для построенного набора ассоциативных правил вычислите показатели: support, confidence, lift, leverage, conviction и выведите на экран."
   ]
  },
  {
   "cell_type": "code",
   "execution_count": 27,
   "metadata": {
    "ExecuteTime": {
     "end_time": "2021-02-13T13:05:45.348098Z",
     "start_time": "2021-02-13T13:05:45.333095Z"
    }
   },
   "outputs": [],
   "source": [
    "import numpy as np\n",
    "\n",
    "N = len(transactions)\n",
    "supps = []\n",
    "confs = []\n",
    "lifts = []\n",
    "leverages = []\n",
    "convictions = []\n",
    "for rule in rules:\n",
    "    x1 = set(rule[0])\n",
    "    x2 = set(rule[1])\n",
    "    supp_x1_x2 = ComputeSupport(x1.union(x2), transactions)\n",
    "    supp_x1 = ComputeSupport(x1, transactions)\n",
    "    supp_x2 = ComputeSupport(x2, transactions)\n",
    "    conf = supp_x1_x2 / supp_x1 # confidence\n",
    "    lift = supp_x1_x2 / (supp_x1 * supp_x2) # lift\n",
    "    leverage = supp_x1_x2 - supp_x1 * supp_x2 # leverage\n",
    "    if conf == 1:\n",
    "        conv = np.inf\n",
    "    else:\n",
    "        conv = (1 - supp_x2) / (1 - conf) # conviction\n",
    "    supps.append(supp_x1_x2)\n",
    "    confs.append(conf)\n",
    "    lifts.append(lift)\n",
    "    leverages.append(leverage)\n",
    "    convictions.append(conv)"
   ]
  },
  {
   "cell_type": "code",
   "execution_count": 28,
   "metadata": {
    "ExecuteTime": {
     "end_time": "2021-02-13T13:05:45.693750Z",
     "start_time": "2021-02-13T13:05:45.683748Z"
    }
   },
   "outputs": [
    {
     "name": "stdout",
     "output_type": "stream",
     "text": [
      "rule:\n",
      "('India Pale Ale', 'Premium Belgian Lager', 'Variety Pack Hard Cider', 'Pinot Noir Wine')\n",
      "[\"Little Sumpin' Sumpin' Ale\"]\n",
      "Support = 2\n",
      "Confidence = 1.0\n",
      "Lift = 0.1\n",
      "Leverage = -18\n",
      "Conviction = inf\n",
      "\n",
      "rule:\n",
      "(\"Little Sumpin' Sumpin' Ale\", 'Premium Belgian Lager', 'Variety Pack Hard Cider', 'Pinot Noir Wine')\n",
      "['India Pale Ale']\n",
      "Support = 2\n",
      "Confidence = 1.0\n",
      "Lift = 0.03225806451612903\n",
      "Leverage = -60\n",
      "Conviction = inf\n",
      "\n",
      "rule:\n",
      "(\"Little Sumpin' Sumpin' Ale\", 'India Pale Ale', 'Variety Pack Hard Cider', 'Pinot Noir Wine')\n",
      "['Premium Belgian Lager']\n",
      "Support = 2\n",
      "Confidence = 1.0\n",
      "Lift = 0.14285714285714285\n",
      "Leverage = -12\n",
      "Conviction = inf\n",
      "\n",
      "rule:\n",
      "(\"Little Sumpin' Sumpin' Ale\", 'India Pale Ale', 'Premium Belgian Lager', 'Pinot Noir Wine')\n",
      "['Variety Pack Hard Cider']\n",
      "Support = 2\n",
      "Confidence = 1.0\n",
      "Lift = 0.125\n",
      "Leverage = -14\n",
      "Conviction = inf\n",
      "\n",
      "rule:\n",
      "(\"Little Sumpin' Sumpin' Ale\", 'India Pale Ale', 'Premium Belgian Lager', 'Variety Pack Hard Cider')\n",
      "['Pinot Noir Wine']\n",
      "Support = 2\n",
      "Confidence = 1.0\n",
      "Lift = 0.1\n",
      "Leverage = -18\n",
      "Conviction = inf\n",
      "\n",
      "rule:\n",
      "('Premium Belgian Lager', 'Variety Pack Hard Cider', 'Pinot Noir Wine')\n",
      "['India Pale Ale', \"Little Sumpin' Sumpin' Ale\"]\n",
      "Support = 2\n",
      "Confidence = 1.0\n",
      "Lift = 0.3333333333333333\n",
      "Leverage = -4\n",
      "Conviction = inf\n",
      "\n",
      "rule:\n",
      "('India Pale Ale', 'Variety Pack Hard Cider', 'Pinot Noir Wine')\n",
      "[\"Little Sumpin' Sumpin' Ale\", 'Premium Belgian Lager']\n",
      "Support = 2\n",
      "Confidence = 1.0\n",
      "Lift = 0.5\n",
      "Leverage = -2\n",
      "Conviction = inf\n",
      "\n",
      "rule:\n",
      "('India Pale Ale', 'Premium Belgian Lager', 'Pinot Noir Wine')\n",
      "[\"Little Sumpin' Sumpin' Ale\", 'Variety Pack Hard Cider']\n",
      "Support = 2\n",
      "Confidence = 1.0\n",
      "Lift = 0.5\n",
      "Leverage = -2\n",
      "Conviction = inf\n",
      "\n",
      "rule:\n",
      "('India Pale Ale', 'Premium Belgian Lager', 'Variety Pack Hard Cider')\n",
      "[\"Little Sumpin' Sumpin' Ale\", 'Pinot Noir Wine']\n",
      "Support = 2\n",
      "Confidence = 1.0\n",
      "Lift = 0.5\n",
      "Leverage = -2\n",
      "Conviction = inf\n",
      "\n",
      "rule:\n",
      "(\"Little Sumpin' Sumpin' Ale\", 'Variety Pack Hard Cider', 'Pinot Noir Wine')\n",
      "['India Pale Ale', 'Premium Belgian Lager']\n",
      "Support = 2\n",
      "Confidence = 1.0\n",
      "Lift = 0.3333333333333333\n",
      "Leverage = -4\n",
      "Conviction = inf\n",
      "\n",
      "rule:\n",
      "(\"Little Sumpin' Sumpin' Ale\", 'Premium Belgian Lager', 'Pinot Noir Wine')\n",
      "['India Pale Ale', 'Variety Pack Hard Cider']\n",
      "Support = 2\n",
      "Confidence = 1.0\n",
      "Lift = 0.2\n",
      "Leverage = -8\n",
      "Conviction = inf\n",
      "\n",
      "rule:\n",
      "(\"Little Sumpin' Sumpin' Ale\", 'Premium Belgian Lager', 'Variety Pack Hard Cider')\n",
      "['India Pale Ale', 'Pinot Noir Wine']\n",
      "Support = 2\n",
      "Confidence = 1.0\n",
      "Lift = 0.3333333333333333\n",
      "Leverage = -4\n",
      "Conviction = inf\n",
      "\n",
      "rule:\n",
      "(\"Little Sumpin' Sumpin' Ale\", 'India Pale Ale', 'Pinot Noir Wine')\n",
      "['Premium Belgian Lager', 'Variety Pack Hard Cider']\n",
      "Support = 2\n",
      "Confidence = 1.0\n",
      "Lift = 0.5\n",
      "Leverage = -2\n",
      "Conviction = inf\n",
      "\n",
      "rule:\n",
      "(\"Little Sumpin' Sumpin' Ale\", 'India Pale Ale', 'Variety Pack Hard Cider')\n",
      "['Pinot Noir Wine', 'Premium Belgian Lager']\n",
      "Support = 2\n",
      "Confidence = 1.0\n",
      "Lift = 0.5\n",
      "Leverage = -2\n",
      "Conviction = inf\n",
      "\n",
      "rule:\n",
      "(\"Little Sumpin' Sumpin' Ale\", 'India Pale Ale', 'Premium Belgian Lager')\n",
      "['Pinot Noir Wine', 'Variety Pack Hard Cider']\n",
      "Support = 2\n",
      "Confidence = 1.0\n",
      "Lift = 0.5\n",
      "Leverage = -2\n",
      "Conviction = inf\n",
      "\n",
      "rule:\n",
      "('Variety Pack Hard Cider', 'Pinot Noir Wine')\n",
      "['India Pale Ale', \"Little Sumpin' Sumpin' Ale\", 'Premium Belgian Lager']\n",
      "Support = 2\n",
      "Confidence = 1.0\n",
      "Lift = 0.5\n",
      "Leverage = -2\n",
      "Conviction = inf\n",
      "\n",
      "rule:\n",
      "('Premium Belgian Lager', 'Pinot Noir Wine')\n",
      "['India Pale Ale', \"Little Sumpin' Sumpin' Ale\", 'Variety Pack Hard Cider']\n",
      "Support = 2\n",
      "Confidence = 1.0\n",
      "Lift = 0.5\n",
      "Leverage = -2\n",
      "Conviction = inf\n",
      "\n",
      "rule:\n",
      "('Premium Belgian Lager', 'Variety Pack Hard Cider')\n",
      "['India Pale Ale', \"Little Sumpin' Sumpin' Ale\", 'Pinot Noir Wine']\n",
      "Support = 2\n",
      "Confidence = 1.0\n",
      "Lift = 0.5\n",
      "Leverage = -2\n",
      "Conviction = inf\n",
      "\n",
      "rule:\n",
      "(\"Little Sumpin' Sumpin' Ale\", 'Pinot Noir Wine')\n",
      "['India Pale Ale', 'Premium Belgian Lager', 'Variety Pack Hard Cider']\n",
      "Support = 2\n",
      "Confidence = 1.0\n",
      "Lift = 0.5\n",
      "Leverage = -2\n",
      "Conviction = inf\n",
      "\n",
      "rule:\n",
      "(\"Little Sumpin' Sumpin' Ale\", 'Variety Pack Hard Cider')\n",
      "['India Pale Ale', 'Pinot Noir Wine', 'Premium Belgian Lager']\n",
      "Support = 2\n",
      "Confidence = 1.0\n",
      "Lift = 0.5\n",
      "Leverage = -2\n",
      "Conviction = inf\n",
      "\n",
      "rule:\n",
      "(\"Little Sumpin' Sumpin' Ale\", 'Premium Belgian Lager')\n",
      "['India Pale Ale', 'Pinot Noir Wine', 'Variety Pack Hard Cider']\n",
      "Support = 2\n",
      "Confidence = 1.0\n",
      "Lift = 0.5\n",
      "Leverage = -2\n",
      "Conviction = inf\n",
      "\n"
     ]
    }
   ],
   "source": [
    "for i in range(len(rules)):\n",
    "    print('rule:')\n",
    "    for x in rules[i]:\n",
    "        print(x)\n",
    "    print('Support =', supps[i])\n",
    "    print('Confidence =', confs[i])\n",
    "    print('Lift =', lifts[i])\n",
    "    print('Leverage =', leverages[i])\n",
    "    print('Conviction =', convictions[i])\n",
    "    print()"
   ]
  },
  {
   "cell_type": "code",
   "execution_count": null,
   "metadata": {},
   "outputs": [],
   "source": []
  }
 ],
 "metadata": {
  "kernelspec": {
   "display_name": "Python 3",
   "language": "python",
   "name": "python3"
  },
  "language_info": {
   "codemirror_mode": {
    "name": "ipython",
    "version": 3
   },
   "file_extension": ".py",
   "mimetype": "text/x-python",
   "name": "python",
   "nbconvert_exporter": "python",
   "pygments_lexer": "ipython3",
   "version": "3.8.5"
  },
  "toc": {
   "base_numbering": 1,
   "nav_menu": {},
   "number_sections": true,
   "sideBar": true,
   "skip_h1_title": false,
   "title_cell": "Table of Contents",
   "title_sidebar": "Contents",
   "toc_cell": false,
   "toc_position": {},
   "toc_section_display": true,
   "toc_window_display": false
  },
  "varInspector": {
   "cols": {
    "lenName": 16,
    "lenType": 16,
    "lenVar": 40
   },
   "kernels_config": {
    "python": {
     "delete_cmd_postfix": "",
     "delete_cmd_prefix": "del ",
     "library": "var_list.py",
     "varRefreshCmd": "print(var_dic_list())"
    },
    "r": {
     "delete_cmd_postfix": ") ",
     "delete_cmd_prefix": "rm(",
     "library": "var_list.r",
     "varRefreshCmd": "cat(var_dic_list()) "
    }
   },
   "types_to_exclude": [
    "module",
    "function",
    "builtin_function_or_method",
    "instance",
    "_Feature"
   ],
   "window_display": false
  }
 },
 "nbformat": 4,
 "nbformat_minor": 4
}
