{
 "cells": [
  {
   "cell_type": "markdown",
   "metadata": {},
   "source": [
    "### РОССИЙСКИЙ УНИВЕРСИТЕТ ДРУЖБЫ НАРОДОВ"
   ]
  },
  {
   "cell_type": "markdown",
   "metadata": {},
   "source": [
    "#### Факультет физико-математических и естественных наук  \n",
    "#### Кафедра информационных технологий "
   ]
  },
  {
   "cell_type": "markdown",
   "metadata": {},
   "source": [
    "## ОТЧЕТ ПО ЛАБОРАТОРНОЙ РАБОТЕ №6"
   ]
  },
  {
   "cell_type": "markdown",
   "metadata": {},
   "source": [
    "#### Дисциплина: Интеллектуальный анализ данных"
   ]
  },
  {
   "cell_type": "markdown",
   "metadata": {},
   "source": [
    "##### Студент:  Гусейнов Вахид Азерович\n",
    "##### Группа:   НБИбд-01-17"
   ]
  },
  {
   "cell_type": "markdown",
   "metadata": {},
   "source": [
    "## Москва 2020\n",
    "***"
   ]
  },
  {
   "cell_type": "markdown",
   "metadata": {},
   "source": [
    "### Вариант № 12"
   ]
  },
  {
   "cell_type": "markdown",
   "metadata": {},
   "source": [
    "chocardiogram Data Set\n",
    "\n",
    "Название файла: echocardiogram.data\n",
    "\n",
    "Ссылка: http://archive.ics.uci.edu/ml/datasets/Echocardiogram\n",
    "\n",
    "Класс: still-alive (столбец No 2)"
   ]
  },
  {
   "cell_type": "markdown",
   "metadata": {},
   "source": [
    "1.  Считайте заданный набор данных из репозитария UCI."
   ]
  },
  {
   "cell_type": "code",
   "execution_count": 56,
   "metadata": {
    "ExecuteTime": {
     "end_time": "2021-02-13T14:19:01.387854Z",
     "start_time": "2021-02-13T14:19:01.369850Z"
    }
   },
   "outputs": [],
   "source": [
    "import pandas as pd\n",
    "import numpy as np\n",
    "\n",
    "from sklearn.feature_selection import RFE\n",
    "from sklearn.model_selection import train_test_split\n",
    "\n",
    "from sklearn.linear_model import LogisticRegression\n",
    "from sklearn.svm import SVC\n",
    "from sklearn.discriminant_analysis import LinearDiscriminantAnalysis\n",
    "from sklearn.naive_bayes import GaussianNB\n",
    "from sklearn.preprocessing import MinMaxScaler\n",
    "\n",
    "from sklearn.metrics import plot_precision_recall_curve, plot_roc_curve, roc_auc_score\n",
    "\n",
    "import matplotlib.pyplot as plt\n",
    "from matplotlib.colors import ListedColormap\n",
    "%matplotlib inline\n",
    "\n",
    "import warnings\n",
    "warnings.filterwarnings('ignore')\n",
    "\n",
    "seed = 111"
   ]
  },
  {
   "cell_type": "code",
   "execution_count": 57,
   "metadata": {
    "ExecuteTime": {
     "end_time": "2021-02-13T14:19:01.955944Z",
     "start_time": "2021-02-13T14:19:01.545604Z"
    }
   },
   "outputs": [
    {
     "name": "stderr",
     "output_type": "stream",
     "text": [
      "b'Skipping line 50: expected 13 fields, saw 14\\n'\n"
     ]
    },
    {
     "data": {
      "text/html": [
       "<div>\n",
       "<style scoped>\n",
       "    .dataframe tbody tr th:only-of-type {\n",
       "        vertical-align: middle;\n",
       "    }\n",
       "\n",
       "    .dataframe tbody tr th {\n",
       "        vertical-align: top;\n",
       "    }\n",
       "\n",
       "    .dataframe thead th {\n",
       "        text-align: right;\n",
       "    }\n",
       "</style>\n",
       "<table border=\"1\" class=\"dataframe\">\n",
       "  <thead>\n",
       "    <tr style=\"text-align: right;\">\n",
       "      <th></th>\n",
       "      <th>V0</th>\n",
       "      <th>V1</th>\n",
       "      <th>V2</th>\n",
       "      <th>V3</th>\n",
       "      <th>V4</th>\n",
       "      <th>V5</th>\n",
       "      <th>V6</th>\n",
       "      <th>V7</th>\n",
       "      <th>V8</th>\n",
       "      <th>V9</th>\n",
       "      <th>V10</th>\n",
       "      <th>V11</th>\n",
       "      <th>V12</th>\n",
       "    </tr>\n",
       "  </thead>\n",
       "  <tbody>\n",
       "    <tr>\n",
       "      <th>0</th>\n",
       "      <td>11</td>\n",
       "      <td>0</td>\n",
       "      <td>71</td>\n",
       "      <td>0</td>\n",
       "      <td>0.260</td>\n",
       "      <td>9</td>\n",
       "      <td>4.600</td>\n",
       "      <td>14</td>\n",
       "      <td>1</td>\n",
       "      <td>1</td>\n",
       "      <td>name</td>\n",
       "      <td>1</td>\n",
       "      <td>0</td>\n",
       "    </tr>\n",
       "    <tr>\n",
       "      <th>1</th>\n",
       "      <td>19</td>\n",
       "      <td>0</td>\n",
       "      <td>72</td>\n",
       "      <td>0</td>\n",
       "      <td>0.380</td>\n",
       "      <td>6</td>\n",
       "      <td>4.100</td>\n",
       "      <td>14</td>\n",
       "      <td>1.700</td>\n",
       "      <td>0.588</td>\n",
       "      <td>name</td>\n",
       "      <td>1</td>\n",
       "      <td>0</td>\n",
       "    </tr>\n",
       "    <tr>\n",
       "      <th>2</th>\n",
       "      <td>16</td>\n",
       "      <td>0</td>\n",
       "      <td>55</td>\n",
       "      <td>0</td>\n",
       "      <td>0.260</td>\n",
       "      <td>4</td>\n",
       "      <td>3.420</td>\n",
       "      <td>14</td>\n",
       "      <td>1</td>\n",
       "      <td>1</td>\n",
       "      <td>name</td>\n",
       "      <td>1</td>\n",
       "      <td>0</td>\n",
       "    </tr>\n",
       "    <tr>\n",
       "      <th>3</th>\n",
       "      <td>57</td>\n",
       "      <td>0</td>\n",
       "      <td>60</td>\n",
       "      <td>0</td>\n",
       "      <td>0.253</td>\n",
       "      <td>12.062</td>\n",
       "      <td>4.603</td>\n",
       "      <td>16</td>\n",
       "      <td>1.450</td>\n",
       "      <td>0.788</td>\n",
       "      <td>name</td>\n",
       "      <td>1</td>\n",
       "      <td>0</td>\n",
       "    </tr>\n",
       "    <tr>\n",
       "      <th>4</th>\n",
       "      <td>19</td>\n",
       "      <td>1</td>\n",
       "      <td>57</td>\n",
       "      <td>0</td>\n",
       "      <td>0.160</td>\n",
       "      <td>22</td>\n",
       "      <td>5.750</td>\n",
       "      <td>18</td>\n",
       "      <td>2.250</td>\n",
       "      <td>0.571</td>\n",
       "      <td>name</td>\n",
       "      <td>1</td>\n",
       "      <td>0</td>\n",
       "    </tr>\n",
       "  </tbody>\n",
       "</table>\n",
       "</div>"
      ],
      "text/plain": [
       "   V0  V1  V2  V3     V4      V5     V6  V7     V8     V9   V10 V11 V12\n",
       "0  11   0  71   0  0.260       9  4.600  14      1      1  name   1   0\n",
       "1  19   0  72   0  0.380       6  4.100  14  1.700  0.588  name   1   0\n",
       "2  16   0  55   0  0.260       4  3.420  14      1      1  name   1   0\n",
       "3  57   0  60   0  0.253  12.062  4.603  16  1.450  0.788  name   1   0\n",
       "4  19   1  57   0  0.160      22  5.750  18  2.250  0.571  name   1   0"
      ]
     },
     "execution_count": 57,
     "metadata": {},
     "output_type": "execute_result"
    }
   ],
   "source": [
    "url = 'http://archive.ics.uci.edu/ml/machine-learning-databases/echocardiogram/echocardiogram.data'\n",
    "data = pd.read_csv(url, header=None, error_bad_lines=False, prefix='V')\n",
    "data.head()"
   ]
  },
  {
   "cell_type": "markdown",
   "metadata": {},
   "source": [
    "2. Если среди меток класса имеются пропущенные значения, то удалите записи с\n",
    "пропущенными метками класса. Если в признаках имеются пропущенные\n",
    "значения, то замените их на медианные значения признака. Если какие-либо\n",
    "числовые признаки в наборе были распознаны неверно, то преобразуйте их в\n",
    "числовые. Оставьте в наборе данных только числовые признаки."
   ]
  },
  {
   "cell_type": "code",
   "execution_count": 58,
   "metadata": {
    "ExecuteTime": {
     "end_time": "2021-02-13T14:19:02.435637Z",
     "start_time": "2021-02-13T14:19:02.425627Z"
    }
   },
   "outputs": [
    {
     "data": {
      "text/plain": [
       "V0      1\n",
       "V1      0\n",
       "V2      5\n",
       "V3      0\n",
       "V4      7\n",
       "V5     14\n",
       "V6     10\n",
       "V7      3\n",
       "V8      1\n",
       "V9      3\n",
       "V10     0\n",
       "V11    22\n",
       "V12    57\n",
       "dtype: int64"
      ]
     },
     "execution_count": 58,
     "metadata": {},
     "output_type": "execute_result"
    }
   ],
   "source": [
    "data.replace('?', np.nan, inplace=True)\n",
    "data.isna().sum()"
   ]
  },
  {
   "cell_type": "markdown",
   "metadata": {},
   "source": [
    "В метках класса нет пропусков"
   ]
  },
  {
   "cell_type": "code",
   "execution_count": 59,
   "metadata": {
    "ExecuteTime": {
     "end_time": "2021-02-13T14:19:07.106055Z",
     "start_time": "2021-02-13T14:19:07.090052Z"
    }
   },
   "outputs": [],
   "source": [
    "for col in data:\n",
    "    if col == 'V10':\n",
    "        continue\n",
    "    data[col] = data[col].astype(float)\n",
    "    data[col] = data[col].fillna(np.nanmedian(data[col]))"
   ]
  },
  {
   "cell_type": "code",
   "execution_count": 60,
   "metadata": {
    "ExecuteTime": {
     "end_time": "2021-02-13T14:19:13.335888Z",
     "start_time": "2021-02-13T14:19:13.329887Z"
    }
   },
   "outputs": [
    {
     "data": {
      "text/plain": [
       "V0     0\n",
       "V1     0\n",
       "V2     0\n",
       "V3     0\n",
       "V4     0\n",
       "V5     0\n",
       "V6     0\n",
       "V7     0\n",
       "V8     0\n",
       "V9     0\n",
       "V10    0\n",
       "V11    0\n",
       "V12    0\n",
       "dtype: int64"
      ]
     },
     "execution_count": 60,
     "metadata": {},
     "output_type": "execute_result"
    }
   ],
   "source": [
    "data.isna().sum()"
   ]
  },
  {
   "cell_type": "markdown",
   "metadata": {},
   "source": [
    "3. Вычислите и визуализируйте матрицу корреляций признаков. Удалите из\n",
    "набора признаки, имеющие высокую корреляцию (близкую к +1 или -1) с\n",
    "другими признаками."
   ]
  },
  {
   "cell_type": "code",
   "execution_count": 61,
   "metadata": {
    "ExecuteTime": {
     "end_time": "2021-02-13T14:20:46.764514Z",
     "start_time": "2021-02-13T14:20:46.409490Z"
    }
   },
   "outputs": [
    {
     "data": {
      "image/png": "[encoded data removed]",
      "text/plain": [
       "<Figure size 720x720 with 2 Axes>"
      ]
     },
     "metadata": {
      "needs_background": "light"
     },
     "output_type": "display_data"
    }
   ],
   "source": [
    "X = data.drop(columns=['V1', 'V10'])\n",
    "y = data['V1'].values\n",
    "\n",
    "f = plt.figure(figsize=(10, 10))\n",
    "\n",
    "plt.matshow(X.corr(), fignum=f.number)\n",
    "plt.xticks(range(X.shape[1]), X.columns, fontsize=14, rotation=45)\n",
    "plt.yticks(range(X.shape[1]), X.columns, fontsize=14)\n",
    "cb = plt.colorbar()\n",
    "cb.ax.tick_params(labelsize=14)\n",
    "# plt.title('Correlation Matrix', fontsize=16)\n",
    "plt.show()"
   ]
  },
  {
   "cell_type": "code",
   "execution_count": 62,
   "metadata": {
    "ExecuteTime": {
     "end_time": "2021-02-13T14:20:52.009651Z",
     "start_time": "2021-02-13T14:20:51.986646Z"
    }
   },
   "outputs": [
    {
     "data": {
      "text/html": [
       "<div>\n",
       "<style scoped>\n",
       "    .dataframe tbody tr th:only-of-type {\n",
       "        vertical-align: middle;\n",
       "    }\n",
       "\n",
       "    .dataframe tbody tr th {\n",
       "        vertical-align: top;\n",
       "    }\n",
       "\n",
       "    .dataframe thead th {\n",
       "        text-align: right;\n",
       "    }\n",
       "</style>\n",
       "<table border=\"1\" class=\"dataframe\">\n",
       "  <thead>\n",
       "    <tr style=\"text-align: right;\">\n",
       "      <th></th>\n",
       "      <th>V0</th>\n",
       "      <th>V2</th>\n",
       "      <th>V3</th>\n",
       "      <th>V4</th>\n",
       "      <th>V5</th>\n",
       "      <th>V6</th>\n",
       "      <th>V7</th>\n",
       "      <th>V8</th>\n",
       "      <th>V9</th>\n",
       "      <th>V11</th>\n",
       "      <th>V12</th>\n",
       "    </tr>\n",
       "  </thead>\n",
       "  <tbody>\n",
       "    <tr>\n",
       "      <th>V0</th>\n",
       "      <td>1.000000</td>\n",
       "      <td>-0.202778</td>\n",
       "      <td>-0.153772</td>\n",
       "      <td>0.237187</td>\n",
       "      <td>-0.273620</td>\n",
       "      <td>-0.213141</td>\n",
       "      <td>-0.286370</td>\n",
       "      <td>-0.348752</td>\n",
       "      <td>0.062722</td>\n",
       "      <td>0.080417</td>\n",
       "      <td>-0.580073</td>\n",
       "    </tr>\n",
       "    <tr>\n",
       "      <th>V2</th>\n",
       "      <td>-0.202778</td>\n",
       "      <td>1.000000</td>\n",
       "      <td>0.016331</td>\n",
       "      <td>-0.081707</td>\n",
       "      <td>0.036575</td>\n",
       "      <td>0.163159</td>\n",
       "      <td>0.033146</td>\n",
       "      <td>0.046637</td>\n",
       "      <td>-0.144463</td>\n",
       "      <td>-0.118021</td>\n",
       "      <td>0.258449</td>\n",
       "    </tr>\n",
       "    <tr>\n",
       "      <th>V3</th>\n",
       "      <td>-0.153772</td>\n",
       "      <td>0.016331</td>\n",
       "      <td>1.000000</td>\n",
       "      <td>-0.010711</td>\n",
       "      <td>0.067048</td>\n",
       "      <td>0.060320</td>\n",
       "      <td>0.139984</td>\n",
       "      <td>0.115191</td>\n",
       "      <td>-0.044230</td>\n",
       "      <td>-0.081776</td>\n",
       "      <td>0.183801</td>\n",
       "    </tr>\n",
       "    <tr>\n",
       "      <th>V4</th>\n",
       "      <td>0.237187</td>\n",
       "      <td>-0.081707</td>\n",
       "      <td>-0.010711</td>\n",
       "      <td>1.000000</td>\n",
       "      <td>-0.336740</td>\n",
       "      <td>-0.338129</td>\n",
       "      <td>-0.150135</td>\n",
       "      <td>-0.221665</td>\n",
       "      <td>0.074576</td>\n",
       "      <td>-0.042878</td>\n",
       "      <td>-0.191549</td>\n",
       "    </tr>\n",
       "    <tr>\n",
       "      <th>V5</th>\n",
       "      <td>-0.273620</td>\n",
       "      <td>0.036575</td>\n",
       "      <td>0.067048</td>\n",
       "      <td>-0.336740</td>\n",
       "      <td>1.000000</td>\n",
       "      <td>0.587310</td>\n",
       "      <td>0.344988</td>\n",
       "      <td>0.377927</td>\n",
       "      <td>-0.074369</td>\n",
       "      <td>-0.011056</td>\n",
       "      <td>0.221257</td>\n",
       "    </tr>\n",
       "    <tr>\n",
       "      <th>V6</th>\n",
       "      <td>-0.213141</td>\n",
       "      <td>0.163159</td>\n",
       "      <td>0.060320</td>\n",
       "      <td>-0.338129</td>\n",
       "      <td>0.587310</td>\n",
       "      <td>1.000000</td>\n",
       "      <td>0.133137</td>\n",
       "      <td>0.207389</td>\n",
       "      <td>-0.122431</td>\n",
       "      <td>-0.030866</td>\n",
       "      <td>0.172488</td>\n",
       "    </tr>\n",
       "    <tr>\n",
       "      <th>V7</th>\n",
       "      <td>-0.286370</td>\n",
       "      <td>0.033146</td>\n",
       "      <td>0.139984</td>\n",
       "      <td>-0.150135</td>\n",
       "      <td>0.344988</td>\n",
       "      <td>0.133137</td>\n",
       "      <td>1.000000</td>\n",
       "      <td>0.642867</td>\n",
       "      <td>0.217128</td>\n",
       "      <td>-0.092745</td>\n",
       "      <td>0.397863</td>\n",
       "    </tr>\n",
       "    <tr>\n",
       "      <th>V8</th>\n",
       "      <td>-0.348752</td>\n",
       "      <td>0.046637</td>\n",
       "      <td>0.115191</td>\n",
       "      <td>-0.221665</td>\n",
       "      <td>0.377927</td>\n",
       "      <td>0.207389</td>\n",
       "      <td>0.642867</td>\n",
       "      <td>1.000000</td>\n",
       "      <td>-0.342168</td>\n",
       "      <td>-0.068651</td>\n",
       "      <td>0.413869</td>\n",
       "    </tr>\n",
       "    <tr>\n",
       "      <th>V9</th>\n",
       "      <td>0.062722</td>\n",
       "      <td>-0.144463</td>\n",
       "      <td>-0.044230</td>\n",
       "      <td>0.074576</td>\n",
       "      <td>-0.074369</td>\n",
       "      <td>-0.122431</td>\n",
       "      <td>0.217128</td>\n",
       "      <td>-0.342168</td>\n",
       "      <td>1.000000</td>\n",
       "      <td>-0.044964</td>\n",
       "      <td>-0.080068</td>\n",
       "    </tr>\n",
       "    <tr>\n",
       "      <th>V11</th>\n",
       "      <td>0.080417</td>\n",
       "      <td>-0.118021</td>\n",
       "      <td>-0.081776</td>\n",
       "      <td>-0.042878</td>\n",
       "      <td>-0.011056</td>\n",
       "      <td>-0.030866</td>\n",
       "      <td>-0.092745</td>\n",
       "      <td>-0.068651</td>\n",
       "      <td>-0.044964</td>\n",
       "      <td>1.000000</td>\n",
       "      <td>-0.234813</td>\n",
       "    </tr>\n",
       "    <tr>\n",
       "      <th>V12</th>\n",
       "      <td>-0.580073</td>\n",
       "      <td>0.258449</td>\n",
       "      <td>0.183801</td>\n",
       "      <td>-0.191549</td>\n",
       "      <td>0.221257</td>\n",
       "      <td>0.172488</td>\n",
       "      <td>0.397863</td>\n",
       "      <td>0.413869</td>\n",
       "      <td>-0.080068</td>\n",
       "      <td>-0.234813</td>\n",
       "      <td>1.000000</td>\n",
       "    </tr>\n",
       "  </tbody>\n",
       "</table>\n",
       "</div>"
      ],
      "text/plain": [
       "           V0        V2        V3        V4        V5        V6        V7  \\\n",
       "V0   1.000000 -0.202778 -0.153772  0.237187 -0.273620 -0.213141 -0.286370   \n",
       "V2  -0.202778  1.000000  0.016331 -0.081707  0.036575  0.163159  0.033146   \n",
       "V3  -0.153772  0.016331  1.000000 -0.010711  0.067048  0.060320  0.139984   \n",
       "V4   0.237187 -0.081707 -0.010711  1.000000 -0.336740 -0.338129 -0.150135   \n",
       "V5  -0.273620  0.036575  0.067048 -0.336740  1.000000  0.587310  0.344988   \n",
       "V6  -0.213141  0.163159  0.060320 -0.338129  0.587310  1.000000  0.133137   \n",
       "V7  -0.286370  0.033146  0.139984 -0.150135  0.344988  0.133137  1.000000   \n",
       "V8  -0.348752  0.046637  0.115191 -0.221665  0.377927  0.207389  0.642867   \n",
       "V9   0.062722 -0.144463 -0.044230  0.074576 -0.074369 -0.122431  0.217128   \n",
       "V11  0.080417 -0.118021 -0.081776 -0.042878 -0.011056 -0.030866 -0.092745   \n",
       "V12 -0.580073  0.258449  0.183801 -0.191549  0.221257  0.172488  0.397863   \n",
       "\n",
       "           V8        V9       V11       V12  \n",
       "V0  -0.348752  0.062722  0.080417 -0.580073  \n",
       "V2   0.046637 -0.144463 -0.118021  0.258449  \n",
       "V3   0.115191 -0.044230 -0.081776  0.183801  \n",
       "V4  -0.221665  0.074576 -0.042878 -0.191549  \n",
       "V5   0.377927 -0.074369 -0.011056  0.221257  \n",
       "V6   0.207389 -0.122431 -0.030866  0.172488  \n",
       "V7   0.642867  0.217128 -0.092745  0.397863  \n",
       "V8   1.000000 -0.342168 -0.068651  0.413869  \n",
       "V9  -0.342168  1.000000 -0.044964 -0.080068  \n",
       "V11 -0.068651 -0.044964  1.000000 -0.234813  \n",
       "V12  0.413869 -0.080068 -0.234813  1.000000  "
      ]
     },
     "execution_count": 62,
     "metadata": {},
     "output_type": "execute_result"
    }
   ],
   "source": [
    "X.corr()"
   ]
  },
  {
   "cell_type": "markdown",
   "metadata": {},
   "source": [
    "Нет высокой корреляции."
   ]
  },
  {
   "cell_type": "markdown",
   "metadata": {},
   "source": [
    "4. Если столбец с метками классов содержит более двух классов, то объедините\n",
    "некоторые классы, чтобы получить набор для бинарной классификации.\n",
    "Объединяйте классы таким образом, чтобы положительный и отрицательный\n",
    "классы были сопоставимы по количеству точек."
   ]
  },
  {
   "cell_type": "code",
   "execution_count": 63,
   "metadata": {
    "ExecuteTime": {
     "end_time": "2021-02-13T14:21:39.865009Z",
     "start_time": "2021-02-13T14:21:39.850005Z"
    }
   },
   "outputs": [
    {
     "data": {
      "text/plain": [
       "2"
      ]
     },
     "execution_count": 63,
     "metadata": {},
     "output_type": "execute_result"
    }
   ],
   "source": [
    "np.unique(y).size"
   ]
  },
  {
   "cell_type": "markdown",
   "metadata": {},
   "source": [
    "5. Используя метод рекурсивного исключения признаков (RFE) и логистическую\n",
    "регрессию, определите и оставьте в наборе наиболее значимые признаки (не\n",
    "менее двух). Если в наборе данных осталось более двух признаков, то\n",
    "определите два признака с наибольшей дисперсией для визуализации."
   ]
  },
  {
   "cell_type": "code",
   "execution_count": 64,
   "metadata": {
    "ExecuteTime": {
     "end_time": "2021-02-13T14:22:04.961531Z",
     "start_time": "2021-02-13T14:22:04.802801Z"
    }
   },
   "outputs": [
    {
     "name": "stdout",
     "output_type": "stream",
     "text": [
      "Число признаков: 5\n",
      "Выбранные признаки: [False False  True  True False False False  True  True False  True]\n",
      "Ранг признаков: [2 5 1 1 4 6 3 1 1 7 1]\n"
     ]
    }
   ],
   "source": [
    "model = LogisticRegression(max_iter=1000, random_state=seed)\n",
    "rfe = RFE(model)\n",
    "fit = rfe.fit(X, y)\n",
    "\n",
    "print(\"Число признаков: %d\" % fit.n_features_)\n",
    "print(\"Выбранные признаки: %s\" % fit.support_)\n",
    "print(\"Ранг признаков: %s\" % fit.ranking_)"
   ]
  },
  {
   "cell_type": "code",
   "execution_count": 65,
   "metadata": {
    "ExecuteTime": {
     "end_time": "2021-02-13T14:22:38.584194Z",
     "start_time": "2021-02-13T14:22:38.570191Z"
    }
   },
   "outputs": [],
   "source": [
    "X = X.loc[:, fit.support_]"
   ]
  },
  {
   "cell_type": "code",
   "execution_count": 66,
   "metadata": {
    "ExecuteTime": {
     "end_time": "2021-02-13T14:22:41.670028Z",
     "start_time": "2021-02-13T14:22:41.666026Z"
    }
   },
   "outputs": [
    {
     "data": {
      "text/plain": [
       "V3     0.150793\n",
       "V4     0.010944\n",
       "V8     0.202798\n",
       "V9     0.038720\n",
       "V12    0.150793\n",
       "dtype: float64"
      ]
     },
     "execution_count": 66,
     "metadata": {},
     "output_type": "execute_result"
    }
   ],
   "source": [
    "X.var()"
   ]
  },
  {
   "cell_type": "code",
   "execution_count": 67,
   "metadata": {
    "ExecuteTime": {
     "end_time": "2021-02-13T14:23:05.465628Z",
     "start_time": "2021-02-13T14:23:05.458626Z"
    }
   },
   "outputs": [],
   "source": [
    "X = X.loc[:, ['V3', 'V8']]"
   ]
  },
  {
   "cell_type": "markdown",
   "metadata": {},
   "source": [
    "6. Масштабируйте признаки набора данных на интервал от 0 до 1."
   ]
  },
  {
   "cell_type": "code",
   "execution_count": 68,
   "metadata": {
    "ExecuteTime": {
     "end_time": "2021-02-13T14:23:15.733597Z",
     "start_time": "2021-02-13T14:23:15.721596Z"
    }
   },
   "outputs": [],
   "source": [
    "scaler = MinMaxScaler()\n",
    "X_scaled = scaler.fit_transform(X)"
   ]
  },
  {
   "cell_type": "markdown",
   "metadata": {},
   "source": [
    "7. Используя разделение набора данных на обучающую и тестовую выборки в\n",
    "соотношении 70% на 30%, создайте и обучите классификаторы на основе\n",
    "наивного байесовского классификатора, логистической регрессии, линейного\n",
    "дискриминантного анализа и метода опорных векторов."
   ]
  },
  {
   "cell_type": "code",
   "execution_count": 74,
   "metadata": {
    "ExecuteTime": {
     "end_time": "2021-02-13T14:24:07.038278Z",
     "start_time": "2021-02-13T14:24:07.026276Z"
    }
   },
   "outputs": [],
   "source": [
    "X_train, X_test, y_train, y_test = train_test_split(X.values, y, test_size=0.3, random_state=42)\n",
    "\n",
    "nb = GaussianNB()\n",
    "nb.fit(X_train, y_train)\n",
    "\n",
    "lr = LogisticRegression(max_iter=500, random_state=42)\n",
    "lr.fit(X_train, y_train)\n",
    "\n",
    "lda = LinearDiscriminantAnalysis()\n",
    "lda.fit(X_train, y_train)\n",
    "\n",
    "svm = SVC(kernel='linear', probability=True, random_state=42) # for linear SVC\n",
    "svm.fit(X_train, y_train);"
   ]
  },
  {
   "cell_type": "markdown",
   "metadata": {},
   "source": [
    "8. Визуализируйте для каждого из классификаторов границу решения,\n",
    "подписывая оси и рисунок и создавая легенду для меток классов набора\n",
    "данных."
   ]
  },
  {
   "cell_type": "code",
   "execution_count": 75,
   "metadata": {
    "ExecuteTime": {
     "end_time": "2021-02-13T14:24:10.406641Z",
     "start_time": "2021-02-13T14:24:09.523319Z"
    }
   },
   "outputs": [
    {
     "data": {
      "image/png": "[encoded data removed]",
      "text/plain": [
       "<Figure size 720x576 with 4 Axes>"
      ]
     },
     "metadata": {
      "needs_background": "light"
     },
     "output_type": "display_data"
    }
   ],
   "source": [
    "x_min, x_max = X_train[:, 0].min() - 1, X_train[:, 0].max() + 1\n",
    "y_min, y_max = X_train[:, 1].min() - 1, X_train[:, 1].max() + 1\n",
    "xx, yy = np.meshgrid(np.arange(x_min, x_max, 0.01),\n",
    "                     np.arange(y_min, y_max, 0.01))\n",
    "f, axes = plt.subplots(2, 2, sharex='col', sharey='row', figsize=(10, 8))\n",
    "f.suptitle('Decision boundaries on train set', fontsize=16)\n",
    "\n",
    "for ax, clf, tt in zip(axes.ravel(), [nb, lr, lda, svm], ['GaussianNB', 'Logistic Regression',\n",
    "                                                  'LinearDiscriminantAnalysis', 'SVM']):\n",
    "    Z = clf.predict(np.c_[xx.ravel(), yy.ravel()])\n",
    "    Z = Z.reshape(xx.shape)\n",
    "    ax.contourf(xx, yy, Z, alpha=0.4)\n",
    "    scatter = ax.scatter(X_train[:, 0], X_train[:, 1], c=y_train, s=50, edgecolor='k')\n",
    "    ax.set_title(tt)\n",
    "    ax.set_xlabel('acceleration')\n",
    "    ax.set_ylabel('origin')\n",
    "    legend = ax.legend(*scatter.legend_elements(),\n",
    "                    loc=\"upper right\", title=\"Classes\")\n",
    "    ax.add_artist(legend)\n",
    "plt.show()"
   ]
  },
  {
   "cell_type": "code",
   "execution_count": 76,
   "metadata": {
    "ExecuteTime": {
     "end_time": "2021-02-13T14:24:26.770703Z",
     "start_time": "2021-02-13T14:24:26.050497Z"
    }
   },
   "outputs": [
    {
     "data": {
      "image/png": "[encoded data removed]",
      "text/plain": [
       "<Figure size 720x576 with 4 Axes>"
      ]
     },
     "metadata": {
      "needs_background": "light"
     },
     "output_type": "display_data"
    }
   ],
   "source": [
    "x_min, x_max = X_test[:, 0].min() - 1, X_test[:, 0].max() + 1\n",
    "y_min, y_max = X_test[:, 1].min() - 1, X_test[:, 1].max() + 1\n",
    "xx, yy = np.meshgrid(np.arange(x_min, x_max, 0.01),\n",
    "                     np.arange(y_min, y_max, 0.01))\n",
    "f, axes = plt.subplots(2, 2, sharex='col', sharey='row', figsize=(10, 8))\n",
    "f.suptitle('Decision boundaries on test set', fontsize=16)\n",
    "\n",
    "for ax, clf, tt in zip(axes.ravel(), [nb, lr, lda, svm], ['GaussianNB', 'Logistic Regression',\n",
    "                                                  'LinearDiscriminantAnalysis', 'SVM']):\n",
    "    Z = clf.predict(np.c_[xx.ravel(), yy.ravel()])\n",
    "    Z = Z.reshape(xx.shape)\n",
    "    ax.contourf(xx, yy, Z, alpha=0.4)\n",
    "    scatter = ax.scatter(X_test[:, 0], X_test[:, 1], c=y_test, s=50, edgecolor='k', label=['class 1', 'class 0'])\n",
    "    ax.set_title(tt)\n",
    "    ax.set_xlabel('acceleration')\n",
    "    ax.set_ylabel('origin')\n",
    "    legend = ax.legend(*scatter.legend_elements(),\n",
    "                    loc=\"upper right\", title=\"Classes\")\n",
    "    ax.add_artist(legend)\n",
    "plt.show()"
   ]
  },
  {
   "cell_type": "markdown",
   "metadata": {},
   "source": [
    "9. Визуализируйте на одном рисунке ROC кривые для каждого из\n",
    "классификаторов, подписывая оси и рисунок и создавая легенду для методов\n",
    "бинарной классификации."
   ]
  },
  {
   "cell_type": "code",
   "execution_count": 77,
   "metadata": {
    "ExecuteTime": {
     "end_time": "2021-02-13T14:24:33.363892Z",
     "start_time": "2021-02-13T14:24:33.169923Z"
    }
   },
   "outputs": [
    {
     "data": {
      "image/png": "[encoded data removed]",
      "text/plain": [
       "<Figure size 720x720 with 1 Axes>"
      ]
     },
     "metadata": {
      "needs_background": "light"
     },
     "output_type": "display_data"
    }
   ],
   "source": [
    "fig = plt.figure(figsize=(10, 10))\n",
    "ax = fig.add_subplot()\n",
    "plot_precision_recall_curve(nb, X_test, y_test, ax=ax)\n",
    "plot_precision_recall_curve(lr, X_test, y_test, ax=ax)\n",
    "plot_precision_recall_curve(lda, X_test, y_test, ax=ax)\n",
    "plot_precision_recall_curve(svm, X_test, y_test, ax=ax)\n",
    "ax.set_title('2-class Precision-Recall curve for different clf')\n",
    "plt.legend(loc='lower right');"
   ]
  },
  {
   "cell_type": "code",
   "execution_count": 78,
   "metadata": {
    "ExecuteTime": {
     "end_time": "2021-02-13T14:24:41.651246Z",
     "start_time": "2021-02-13T14:24:41.451350Z"
    }
   },
   "outputs": [
    {
     "data": {
      "image/png": "[encoded data removed]",
      "text/plain": [
       "<Figure size 720x720 with 1 Axes>"
      ]
     },
     "metadata": {
      "needs_background": "light"
     },
     "output_type": "display_data"
    }
   ],
   "source": [
    "fig = plt.figure(figsize=(10, 10))\n",
    "ax = fig.add_subplot()\n",
    "plot_roc_curve(nb, X_test, y_test, ax=ax)\n",
    "plot_roc_curve(lr, X_test, y_test, ax=ax)\n",
    "plot_roc_curve(lda, X_test, y_test, ax=ax)\n",
    "plot_roc_curve(svm, X_test, y_test, ax=ax)\n",
    "ax.set_title('Receiver Operating Characteristic')\n",
    "plt.legend(loc='lower right');"
   ]
  },
  {
   "cell_type": "markdown",
   "metadata": {},
   "source": [
    "10. Определите лучший метод бинарной классификации набора данных по\n",
    "показателю ROC_AUC (площади под ROC кривой)."
   ]
  },
  {
   "cell_type": "code",
   "execution_count": 79,
   "metadata": {
    "ExecuteTime": {
     "end_time": "2021-02-13T14:24:49.126257Z",
     "start_time": "2021-02-13T14:24:49.114255Z"
    }
   },
   "outputs": [
    {
     "name": "stdout",
     "output_type": "stream",
     "text": [
      "Roc-auc scores:\n",
      "\n",
      "GaussianNB                     0.75      \n",
      "Logistic Regression            0.7797619047619048\n",
      "LinearDiscriminantAnalysis     0.7767857142857143\n",
      "SVM                            0.7708333333333333\n"
     ]
    }
   ],
   "source": [
    "models = [nb, lr, lda, svm]\n",
    "names = ['GaussianNB', 'Logistic Regression', 'LinearDiscriminantAnalysis', 'SVM']\n",
    "print('Roc-auc scores:\\n')\n",
    "for model, name in zip(models, names):\n",
    "    preds = model.predict_proba(X_test)[:, 1]\n",
    "    score = roc_auc_score(y_test, preds)\n",
    "    print(f'{name:<30} {score:<10}')"
   ]
  },
  {
   "cell_type": "markdown",
   "metadata": {},
   "source": [
    "Лучший метод - логистическая регрессия."
   ]
  },
  {
   "cell_type": "code",
   "execution_count": null,
   "metadata": {},
   "outputs": [],
   "source": []
  }
 ],
 "metadata": {
  "kernelspec": {
   "display_name": "Python 3",
   "language": "python",
   "name": "python3"
  },
  "language_info": {
   "codemirror_mode": {
    "name": "ipython",
    "version": 3
   },
   "file_extension": ".py",
   "mimetype": "text/x-python",
   "name": "python",
   "nbconvert_exporter": "python",
   "pygments_lexer": "ipython3",
   "version": "3.8.5"
  },
  "toc": {
   "base_numbering": 1,
   "nav_menu": {},
   "number_sections": true,
   "sideBar": true,
   "skip_h1_title": false,
   "title_cell": "Table of Contents",
   "title_sidebar": "Contents",
   "toc_cell": false,
   "toc_position": {},
   "toc_section_display": true,
   "toc_window_display": false
  },
  "varInspector": {
   "cols": {
    "lenName": 16,
    "lenType": 16,
    "lenVar": 40
   },
   "kernels_config": {
    "python": {
     "delete_cmd_postfix": "",
     "delete_cmd_prefix": "del ",
     "library": "var_list.py",
     "varRefreshCmd": "print(var_dic_list())"
    },
    "r": {
     "delete_cmd_postfix": ") ",
     "delete_cmd_prefix": "rm(",
     "library": "var_list.r",
     "varRefreshCmd": "cat(var_dic_list()) "
    }
   },
   "types_to_exclude": [
    "module",
    "function",
    "builtin_function_or_method",
    "instance",
    "_Feature"
   ],
   "window_display": false
  }
 },
 "nbformat": 4,
 "nbformat_minor": 4
}
