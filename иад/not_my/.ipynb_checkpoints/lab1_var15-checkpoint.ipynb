{
 "cells": [
  {
   "cell_type": "markdown",
   "metadata": {},
   "source": [
    "### РОССИЙСКИЙ УНИВЕРСИТЕТ ДРУЖБЫ НАРОДОВ"
   ]
  },
  {
   "cell_type": "markdown",
   "metadata": {},
   "source": [
    "#### Факультет физико-математических и естественных наук  \n",
    "#### Кафедра информационных технологий "
   ]
  },
  {
   "cell_type": "markdown",
   "metadata": {},
   "source": [
    "## ОТЧЕТ ПО ЛАБОРАТОРНОЙ РАБОТЕ №1"
   ]
  },
  {
   "cell_type": "markdown",
   "metadata": {},
   "source": [
    "#### Дисциплина: Интеллектуальный анализ данных"
   ]
  },
  {
   "cell_type": "markdown",
   "metadata": {},
   "source": [
    "##### Студент:  Гусейнов Вахид Азерович\n",
    "##### Группа:   НБИбд-01-17"
   ]
  },
  {
   "cell_type": "markdown",
   "metadata": {},
   "source": [
    "## Москва 2020\n",
    "***"
   ]
  },
  {
   "cell_type": "markdown",
   "metadata": {},
   "source": [
    "### Вариант № 15"
   ]
  },
  {
   "cell_type": "markdown",
   "metadata": {},
   "source": [
    "n = 100\n",
    "\n",
    "a = (1, 0)\n",
    "\n",
    "R = ((1, 1), (1, 2))\n",
    "\n",
    "dataset - http://archive.ics.uci.edu/ml/machine-learning-databases/auto-mpg/auto-mpg.data"
   ]
  },
  {
   "cell_type": "markdown",
   "metadata": {},
   "source": [
    "1. Используя функционал библиотеки NumPy, постройте n значений случайных признаков X и Y , имеющих (двумерное) гауссовское распределение с математическим ожиданием a и корреляционной матрицей R ."
   ]
  },
  {
   "cell_type": "code",
   "execution_count": 1,
   "metadata": {
    "ExecuteTime": {
     "end_time": "2021-02-13T12:10:49.100456Z",
     "start_time": "2021-02-13T12:10:48.281684Z"
    }
   },
   "outputs": [],
   "source": [
    "import numpy as np\n",
    "import pandas as pd\n",
    "import matplotlib.pyplot as plt\n",
    "%matplotlib inline"
   ]
  },
  {
   "cell_type": "code",
   "execution_count": 2,
   "metadata": {
    "ExecuteTime": {
     "end_time": "2021-02-13T12:17:16.569160Z",
     "start_time": "2021-02-13T12:17:16.507505Z"
    }
   },
   "outputs": [],
   "source": [
    "n = 100\n",
    "a = [1, 0]\n",
    "r = [[1, 1], [1, 2]]\n",
    "x, y = np.random.multivariate_normal(mean=a, cov=r, size=n).T"
   ]
  },
  {
   "cell_type": "markdown",
   "metadata": {},
   "source": [
    "2. Вычислите и выведите на экран для построенных значений признаков X и Y математические ожидания, дисперсии, а также корреляцию между признаками."
   ]
  },
  {
   "cell_type": "code",
   "execution_count": 4,
   "metadata": {
    "ExecuteTime": {
     "end_time": "2021-02-13T12:18:54.117620Z",
     "start_time": "2021-02-13T12:18:54.110619Z"
    }
   },
   "outputs": [
    {
     "name": "stdout",
     "output_type": "stream",
     "text": [
      "Математическое ожидание X = 0.9868330061718822\n",
      "Математическое ожидание Y = -0.05238063358884371\n",
      "Дисперсия X = 0.9818629715011741\n",
      "Дисперсия Y = 2.168835332536994\n",
      "Корреляция между X и Y = 0.6980493803246886\n"
     ]
    }
   ],
   "source": [
    "print('Математическое ожидание X =', x.mean())\n",
    "print('Математическое ожидание Y =', y.mean())\n",
    "print('Дисперсия X =', x.var())\n",
    "print('Дисперсия Y =', y.var())\n",
    "print('Корреляция между X и Y =', np.corrcoef(x, y)[0, 1])"
   ]
  },
  {
   "cell_type": "markdown",
   "metadata": {},
   "source": [
    "3. Визуализируйте построенные данные на плоскости в виде точек. Визуализируйте математическое ожидание на плоскости в виде точки другого цвета и с другим маркером."
   ]
  },
  {
   "cell_type": "code",
   "execution_count": 5,
   "metadata": {
    "ExecuteTime": {
     "end_time": "2021-02-13T12:19:04.590746Z",
     "start_time": "2021-02-13T12:19:04.445881Z"
    }
   },
   "outputs": [
    {
     "data": {
      "image/png": "[encoded data removed]",
      "text/plain": [
       "<Figure size 432x288 with 1 Axes>"
      ]
     },
     "metadata": {
      "needs_background": "light"
     },
     "output_type": "display_data"
    }
   ],
   "source": [
    "plt.scatter(x, y)\n",
    "plt.scatter(x.mean(), y.mean(), c='r', marker='x')\n",
    "plt.show()"
   ]
  },
  {
   "cell_type": "markdown",
   "metadata": {},
   "source": [
    "4. Используя функционал библиотеки Pandas, cчитайте заданный набор данных из репозитария UCI."
   ]
  },
  {
   "cell_type": "code",
   "execution_count": 25,
   "metadata": {
    "ExecuteTime": {
     "end_time": "2021-02-13T12:24:37.170565Z",
     "start_time": "2021-02-13T12:24:36.572522Z"
    }
   },
   "outputs": [],
   "source": [
    "url = 'http://archive.ics.uci.edu/ml/machine-learning-databases/auto-mpg/auto-mpg.data'\n",
    "data = pd.read_csv(url, header=None, delim_whitespace=True, prefix='V')\n",
    "data.replace('?', np.nan, inplace=True)"
   ]
  },
  {
   "cell_type": "markdown",
   "metadata": {},
   "source": [
    "5. Проведите исследование набора данных, выявляя числовые и категориальные признаки. Если какие-то из признаков были неправильно классифицированы как категориальные, то преобразуйте их в числовые. Если в наборе присутствуют незаполненные значения, то игнорируйте такие записи."
   ]
  },
  {
   "cell_type": "code",
   "execution_count": 26,
   "metadata": {
    "ExecuteTime": {
     "end_time": "2021-02-13T12:24:37.217596Z",
     "start_time": "2021-02-13T12:24:37.202590Z"
    }
   },
   "outputs": [],
   "source": [
    "data = data.dropna()"
   ]
  },
  {
   "cell_type": "code",
   "execution_count": 27,
   "metadata": {
    "ExecuteTime": {
     "end_time": "2021-02-13T12:24:37.264451Z",
     "start_time": "2021-02-13T12:24:37.250449Z"
    }
   },
   "outputs": [
    {
     "data": {
      "text/html": [
       "<div>\n",
       "<style scoped>\n",
       "    .dataframe tbody tr th:only-of-type {\n",
       "        vertical-align: middle;\n",
       "    }\n",
       "\n",
       "    .dataframe tbody tr th {\n",
       "        vertical-align: top;\n",
       "    }\n",
       "\n",
       "    .dataframe thead th {\n",
       "        text-align: right;\n",
       "    }\n",
       "</style>\n",
       "<table border=\"1\" class=\"dataframe\">\n",
       "  <thead>\n",
       "    <tr style=\"text-align: right;\">\n",
       "      <th></th>\n",
       "      <th>V0</th>\n",
       "      <th>V1</th>\n",
       "      <th>V2</th>\n",
       "      <th>V3</th>\n",
       "      <th>V4</th>\n",
       "      <th>V5</th>\n",
       "      <th>V6</th>\n",
       "      <th>V7</th>\n",
       "      <th>V8</th>\n",
       "    </tr>\n",
       "  </thead>\n",
       "  <tbody>\n",
       "    <tr>\n",
       "      <th>0</th>\n",
       "      <td>18.0</td>\n",
       "      <td>8</td>\n",
       "      <td>307.0</td>\n",
       "      <td>130.0</td>\n",
       "      <td>3504.0</td>\n",
       "      <td>12.0</td>\n",
       "      <td>70</td>\n",
       "      <td>1</td>\n",
       "      <td>chevrolet chevelle malibu</td>\n",
       "    </tr>\n",
       "    <tr>\n",
       "      <th>1</th>\n",
       "      <td>15.0</td>\n",
       "      <td>8</td>\n",
       "      <td>350.0</td>\n",
       "      <td>165.0</td>\n",
       "      <td>3693.0</td>\n",
       "      <td>11.5</td>\n",
       "      <td>70</td>\n",
       "      <td>1</td>\n",
       "      <td>buick skylark 320</td>\n",
       "    </tr>\n",
       "    <tr>\n",
       "      <th>2</th>\n",
       "      <td>18.0</td>\n",
       "      <td>8</td>\n",
       "      <td>318.0</td>\n",
       "      <td>150.0</td>\n",
       "      <td>3436.0</td>\n",
       "      <td>11.0</td>\n",
       "      <td>70</td>\n",
       "      <td>1</td>\n",
       "      <td>plymouth satellite</td>\n",
       "    </tr>\n",
       "    <tr>\n",
       "      <th>3</th>\n",
       "      <td>16.0</td>\n",
       "      <td>8</td>\n",
       "      <td>304.0</td>\n",
       "      <td>150.0</td>\n",
       "      <td>3433.0</td>\n",
       "      <td>12.0</td>\n",
       "      <td>70</td>\n",
       "      <td>1</td>\n",
       "      <td>amc rebel sst</td>\n",
       "    </tr>\n",
       "    <tr>\n",
       "      <th>4</th>\n",
       "      <td>17.0</td>\n",
       "      <td>8</td>\n",
       "      <td>302.0</td>\n",
       "      <td>140.0</td>\n",
       "      <td>3449.0</td>\n",
       "      <td>10.5</td>\n",
       "      <td>70</td>\n",
       "      <td>1</td>\n",
       "      <td>ford torino</td>\n",
       "    </tr>\n",
       "  </tbody>\n",
       "</table>\n",
       "</div>"
      ],
      "text/plain": [
       "     V0  V1     V2     V3      V4    V5  V6  V7                         V8\n",
       "0  18.0   8  307.0  130.0  3504.0  12.0  70   1  chevrolet chevelle malibu\n",
       "1  15.0   8  350.0  165.0  3693.0  11.5  70   1          buick skylark 320\n",
       "2  18.0   8  318.0  150.0  3436.0  11.0  70   1         plymouth satellite\n",
       "3  16.0   8  304.0  150.0  3433.0  12.0  70   1              amc rebel sst\n",
       "4  17.0   8  302.0  140.0  3449.0  10.5  70   1                ford torino"
      ]
     },
     "execution_count": 27,
     "metadata": {},
     "output_type": "execute_result"
    }
   ],
   "source": [
    "data.head()"
   ]
  },
  {
   "cell_type": "code",
   "execution_count": 29,
   "metadata": {
    "ExecuteTime": {
     "end_time": "2021-02-13T12:24:40.183195Z",
     "start_time": "2021-02-13T12:24:40.165190Z"
    }
   },
   "outputs": [
    {
     "name": "stdout",
     "output_type": "stream",
     "text": [
      "<class 'pandas.core.frame.DataFrame'>\n",
      "Int64Index: 392 entries, 0 to 397\n",
      "Data columns (total 9 columns):\n",
      " #   Column  Non-Null Count  Dtype  \n",
      "---  ------  --------------  -----  \n",
      " 0   V0      392 non-null    float64\n",
      " 1   V1      392 non-null    int64  \n",
      " 2   V2      392 non-null    float64\n",
      " 3   V3      392 non-null    object \n",
      " 4   V4      392 non-null    float64\n",
      " 5   V5      392 non-null    float64\n",
      " 6   V6      392 non-null    int64  \n",
      " 7   V7      392 non-null    int64  \n",
      " 8   V8      392 non-null    object \n",
      "dtypes: float64(4), int64(3), object(2)\n",
      "memory usage: 30.6+ KB\n"
     ]
    }
   ],
   "source": [
    "data.info()"
   ]
  },
  {
   "cell_type": "code",
   "execution_count": 30,
   "metadata": {
    "ExecuteTime": {
     "end_time": "2021-02-13T12:24:51.074009Z",
     "start_time": "2021-02-13T12:24:51.061006Z"
    }
   },
   "outputs": [],
   "source": [
    "data['V3'] = data['V3'].astype(float)"
   ]
  },
  {
   "cell_type": "markdown",
   "metadata": {},
   "source": [
    "Числовые признаки V0 - V7\n",
    "\n",
    "Категориальные признак V8"
   ]
  },
  {
   "cell_type": "markdown",
   "metadata": {},
   "source": [
    "6. Для числового признака, имеющего наибольшую дисперсию, постройте эмпирическую функцию распределения (CDF) и визуализируйте ее в виде графика на плоскости."
   ]
  },
  {
   "cell_type": "code",
   "execution_count": 31,
   "metadata": {
    "ExecuteTime": {
     "end_time": "2021-02-13T12:26:30.709436Z",
     "start_time": "2021-02-13T12:26:30.693614Z"
    }
   },
   "outputs": [
    {
     "data": {
      "text/plain": [
       "V0        60.918142\n",
       "V1         2.909696\n",
       "V2     10950.367554\n",
       "V3      1481.569393\n",
       "V4    721484.709008\n",
       "V5         7.611331\n",
       "V6        13.569915\n",
       "V7         0.648860\n",
       "dtype: float64"
      ]
     },
     "execution_count": 31,
     "metadata": {},
     "output_type": "execute_result"
    }
   ],
   "source": [
    "data.var()"
   ]
  },
  {
   "cell_type": "markdown",
   "metadata": {},
   "source": [
    "Наибольшая дисперсия у V4"
   ]
  },
  {
   "cell_type": "code",
   "execution_count": 32,
   "metadata": {
    "ExecuteTime": {
     "end_time": "2021-02-13T12:28:05.819790Z",
     "start_time": "2021-02-13T12:28:05.661123Z"
    }
   },
   "outputs": [
    {
     "data": {
      "image/png": "[encoded data removed]",
      "text/plain": [
       "<Figure size 432x288 with 1 Axes>"
      ]
     },
     "metadata": {
      "needs_background": "light"
     },
     "output_type": "display_data"
    }
   ],
   "source": [
    "def ECDF(data, x):\n",
    "    counter = 0\n",
    "    for v in data:\n",
    "        if v <= x:\n",
    "            counter += 1\n",
    "    return counter / len(data)\n",
    "\n",
    "npoints = 500\n",
    "samples = data['V4'].values\n",
    "xlist = [samples.min() + (samples.max() - samples.min()) * i / npoints\n",
    "        for i in range(npoints)]\n",
    "ylist = [ECDF(samples, x) for x in xlist]\n",
    "plt.plot(xlist, ylist);"
   ]
  },
  {
   "cell_type": "markdown",
   "metadata": {},
   "source": [
    "7. Найдите числовой признак, наименее коррелированный с числовым признаком, имеющим наибольшую дисперсию."
   ]
  },
  {
   "cell_type": "code",
   "execution_count": 37,
   "metadata": {
    "ExecuteTime": {
     "end_time": "2021-02-13T12:28:59.018633Z",
     "start_time": "2021-02-13T12:28:59.014632Z"
    }
   },
   "outputs": [
    {
     "data": {
      "text/plain": [
       "V0    0.565209\n",
       "V1   -0.568932\n",
       "V2   -0.614535\n",
       "V3   -0.455171\n",
       "V4   -0.585005\n",
       "V5    0.212746\n",
       "V6    0.181528\n",
       "V7    1.000000\n",
       "Name: V7, dtype: float64"
      ]
     },
     "execution_count": 37,
     "metadata": {},
     "output_type": "execute_result"
    }
   ],
   "source": [
    "data.corr()['V7']"
   ]
  },
  {
   "cell_type": "markdown",
   "metadata": {},
   "source": [
    "V6 - наименее скореллированный признак"
   ]
  },
  {
   "cell_type": "markdown",
   "metadata": {},
   "source": [
    "8. Для этого признака постройте эмпирическую плотность распределения (PDF) и визуализируйте ее в виде гистограммы."
   ]
  },
  {
   "cell_type": "code",
   "execution_count": 42,
   "metadata": {
    "ExecuteTime": {
     "end_time": "2021-02-13T12:30:36.482283Z",
     "start_time": "2021-02-13T12:30:36.333566Z"
    }
   },
   "outputs": [
    {
     "data": {
      "image/png": "[encoded data removed]",
      "text/plain": [
       "<Figure size 432x288 with 1 Axes>"
      ]
     },
     "metadata": {
      "needs_background": "light"
     },
     "output_type": "display_data"
    }
   ],
   "source": [
    "plt.hist(data['V6'].values, edgecolor = 'black', bins = 20, density=True)\n",
    "plt.title('PDF of V6');"
   ]
  },
  {
   "cell_type": "markdown",
   "metadata": {},
   "source": [
    "9. Вычислите и выведите на экран для указанных выше двух признаков математические ожидания, дисперсии, а также корреляцию между признаками."
   ]
  },
  {
   "cell_type": "code",
   "execution_count": 44,
   "metadata": {
    "ExecuteTime": {
     "end_time": "2021-02-13T12:32:24.599667Z",
     "start_time": "2021-02-13T12:32:24.581664Z"
    }
   },
   "outputs": [
    {
     "name": "stdout",
     "output_type": "stream",
     "text": [
      "Математическое ожидание V4 = 2977.5841836734694\n",
      "Математическое ожидание V6 = 75.9795918367347\n",
      "Дисперсия V4 = 721484.7090075163\n",
      "Дисперсия V6 = 13.569914922490751\n",
      "Корреляция между V4 и V6 = -0.30911988083081604\n"
     ]
    }
   ],
   "source": [
    "print('Математическое ожидание V4 =', data['V4'].mean())\n",
    "print('Математическое ожидание V6 =', data['V6'].mean())\n",
    "print('Дисперсия V4 =', data['V4'].var()) # несмещенная дисперсия\n",
    "print('Дисперсия V6 =', data['V6'].var())\n",
    "print('Корреляция между V4 и V6 =', np.corrcoef(data['V4'], data['V6'])[0, 1])"
   ]
  }
 ],
 "metadata": {
  "kernelspec": {
   "display_name": "Python 3",
   "language": "python",
   "name": "python3"
  },
  "language_info": {
   "codemirror_mode": {
    "name": "ipython",
    "version": 3
   },
   "file_extension": ".py",
   "mimetype": "text/x-python",
   "name": "python",
   "nbconvert_exporter": "python",
   "pygments_lexer": "ipython3",
   "version": "3.8.5"
  },
  "toc": {
   "base_numbering": 1,
   "nav_menu": {},
   "number_sections": true,
   "sideBar": true,
   "skip_h1_title": false,
   "title_cell": "Table of Contents",
   "title_sidebar": "Contents",
   "toc_cell": false,
   "toc_position": {},
   "toc_section_display": true,
   "toc_window_display": false
  },
  "varInspector": {
   "cols": {
    "lenName": 16,
    "lenType": 16,
    "lenVar": 40
   },
   "kernels_config": {
    "python": {
     "delete_cmd_postfix": "",
     "delete_cmd_prefix": "del ",
     "library": "var_list.py",
     "varRefreshCmd": "print(var_dic_list())"
    },
    "r": {
     "delete_cmd_postfix": ") ",
     "delete_cmd_prefix": "rm(",
     "library": "var_list.r",
     "varRefreshCmd": "cat(var_dic_list()) "
    }
   },
   "types_to_exclude": [
    "module",
    "function",
    "builtin_function_or_method",
    "instance",
    "_Feature"
   ],
   "window_display": false
  }
 },
 "nbformat": 4,
 "nbformat_minor": 4
}
