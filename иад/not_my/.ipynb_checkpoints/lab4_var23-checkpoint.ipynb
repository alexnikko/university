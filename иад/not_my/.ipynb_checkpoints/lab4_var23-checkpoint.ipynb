{
 "cells": [
  {
   "cell_type": "markdown",
   "metadata": {},
   "source": [
    "### РОССИЙСКИЙ УНИВЕРСИТЕТ ДРУЖБЫ НАРОДОВ"
   ]
  },
  {
   "cell_type": "markdown",
   "metadata": {},
   "source": [
    "#### Факультет физико-математических и естественных наук  \n",
    "#### Кафедра информационных технологий "
   ]
  },
  {
   "cell_type": "markdown",
   "metadata": {},
   "source": [
    "## ОТЧЕТ ПО ЛАБОРАТОРНОЙ РАБОТЕ №4"
   ]
  },
  {
   "cell_type": "markdown",
   "metadata": {},
   "source": [
    "#### Дисциплина: Интеллектуальный анализ данных"
   ]
  },
  {
   "cell_type": "markdown",
   "metadata": {},
   "source": [
    "##### Студент:  Гусейнов Вахид Азерович\n",
    "##### Группа:   НБИбд-01-17"
   ]
  },
  {
   "cell_type": "markdown",
   "metadata": {},
   "source": [
    "## Москва 2020\n",
    "***"
   ]
  },
  {
   "cell_type": "markdown",
   "metadata": {},
   "source": [
    "### Вариант № 23"
   ]
  },
  {
   "cell_type": "markdown",
   "metadata": {},
   "source": [
    "Coil 1999 Competition Data Data Set\n",
    "\n",
    "Название файла: analysis.data\n",
    "\n",
    "Ссылка: http://archive.ics.uci.edu/ml/datasets/Coil+1999+Competition+Data\n",
    "\n",
    "Первый признак: столбец No 4\n",
    "\n",
    "Второй признак: столбец No 5\n",
    "\n",
    "Класс: season (столбец No 1)\n",
    "\n",
    "Алгоритмы: K-means, Affinity Propagation, Mean Shift, mini-batch K-Means\n",
    "\n",
    "Меры качества: F-мера, парные меры TP, FN, FP, TN, индекс Жаккара\n",
    "\n",
    "Найти лучший алгоритм кластеризации относительно меры качества: индекс Жаккара"
   ]
  },
  {
   "cell_type": "markdown",
   "metadata": {},
   "source": [
    "1. Считайте из заданного набора данных репозитария UCI значения двух признаков и метки класса."
   ]
  },
  {
   "cell_type": "code",
   "execution_count": 2,
   "metadata": {
    "ExecuteTime": {
     "end_time": "2021-02-13T13:14:03.133530Z",
     "start_time": "2021-02-13T13:14:03.123519Z"
    }
   },
   "outputs": [],
   "source": [
    "import numpy as np\n",
    "import pandas as pd\n",
    "import matplotlib.pyplot as plt\n",
    "%matplotlib inline\n",
    "import seaborn as sns"
   ]
  },
  {
   "cell_type": "code",
   "execution_count": 20,
   "metadata": {
    "ExecuteTime": {
     "end_time": "2021-02-13T13:17:36.294089Z",
     "start_time": "2021-02-13T13:17:35.685068Z"
    }
   },
   "outputs": [
    {
     "data": {
      "text/html": [
       "<div>\n",
       "<style scoped>\n",
       "    .dataframe tbody tr th:only-of-type {\n",
       "        vertical-align: middle;\n",
       "    }\n",
       "\n",
       "    .dataframe tbody tr th {\n",
       "        vertical-align: top;\n",
       "    }\n",
       "\n",
       "    .dataframe thead th {\n",
       "        text-align: right;\n",
       "    }\n",
       "</style>\n",
       "<table border=\"1\" class=\"dataframe\">\n",
       "  <thead>\n",
       "    <tr style=\"text-align: right;\">\n",
       "      <th></th>\n",
       "      <th>V0</th>\n",
       "      <th>V1</th>\n",
       "      <th>V2</th>\n",
       "      <th>V3</th>\n",
       "      <th>V4</th>\n",
       "      <th>V5</th>\n",
       "      <th>V6</th>\n",
       "      <th>V7</th>\n",
       "      <th>V8</th>\n",
       "      <th>V9</th>\n",
       "      <th>V10</th>\n",
       "      <th>V11</th>\n",
       "      <th>V12</th>\n",
       "      <th>V13</th>\n",
       "      <th>V14</th>\n",
       "      <th>V15</th>\n",
       "      <th>V16</th>\n",
       "      <th>V17</th>\n",
       "    </tr>\n",
       "  </thead>\n",
       "  <tbody>\n",
       "    <tr>\n",
       "      <th>0</th>\n",
       "      <td>winter</td>\n",
       "      <td>small_</td>\n",
       "      <td>medium</td>\n",
       "      <td>8.00000</td>\n",
       "      <td>9.80000</td>\n",
       "      <td>60.80000</td>\n",
       "      <td>6.23800</td>\n",
       "      <td>578.00000</td>\n",
       "      <td>105.00000</td>\n",
       "      <td>170.00000</td>\n",
       "      <td>50.00000</td>\n",
       "      <td>0.0</td>\n",
       "      <td>0.0</td>\n",
       "      <td>0.0</td>\n",
       "      <td>0.0</td>\n",
       "      <td>34.2</td>\n",
       "      <td>8.3</td>\n",
       "      <td>0.0</td>\n",
       "    </tr>\n",
       "    <tr>\n",
       "      <th>1</th>\n",
       "      <td>spring</td>\n",
       "      <td>small_</td>\n",
       "      <td>medium</td>\n",
       "      <td>8.35000</td>\n",
       "      <td>8.00000</td>\n",
       "      <td>57.75000</td>\n",
       "      <td>1.28800</td>\n",
       "      <td>370.00000</td>\n",
       "      <td>428.75000</td>\n",
       "      <td>558.75000</td>\n",
       "      <td>1.30000</td>\n",
       "      <td>1.4</td>\n",
       "      <td>7.6</td>\n",
       "      <td>4.8</td>\n",
       "      <td>1.9</td>\n",
       "      <td>6.7</td>\n",
       "      <td>0.0</td>\n",
       "      <td>2.1</td>\n",
       "    </tr>\n",
       "    <tr>\n",
       "      <th>2</th>\n",
       "      <td>autumn</td>\n",
       "      <td>small_</td>\n",
       "      <td>medium</td>\n",
       "      <td>8.10000</td>\n",
       "      <td>11.40000</td>\n",
       "      <td>40.02000</td>\n",
       "      <td>5.33000</td>\n",
       "      <td>346.66699</td>\n",
       "      <td>125.66700</td>\n",
       "      <td>187.05701</td>\n",
       "      <td>15.60000</td>\n",
       "      <td>3.3</td>\n",
       "      <td>53.6</td>\n",
       "      <td>1.9</td>\n",
       "      <td>0.0</td>\n",
       "      <td>0.0</td>\n",
       "      <td>0.0</td>\n",
       "      <td>9.7</td>\n",
       "    </tr>\n",
       "    <tr>\n",
       "      <th>3</th>\n",
       "      <td>spring</td>\n",
       "      <td>small_</td>\n",
       "      <td>medium</td>\n",
       "      <td>8.07000</td>\n",
       "      <td>4.80000</td>\n",
       "      <td>77.36400</td>\n",
       "      <td>2.30200</td>\n",
       "      <td>98.18200</td>\n",
       "      <td>61.18200</td>\n",
       "      <td>138.70000</td>\n",
       "      <td>1.40000</td>\n",
       "      <td>3.1</td>\n",
       "      <td>41.0</td>\n",
       "      <td>18.9</td>\n",
       "      <td>0.0</td>\n",
       "      <td>1.4</td>\n",
       "      <td>0.0</td>\n",
       "      <td>1.4</td>\n",
       "    </tr>\n",
       "    <tr>\n",
       "      <th>4</th>\n",
       "      <td>autumn</td>\n",
       "      <td>small_</td>\n",
       "      <td>medium</td>\n",
       "      <td>8.06000</td>\n",
       "      <td>9.00000</td>\n",
       "      <td>55.35000</td>\n",
       "      <td>10.41600</td>\n",
       "      <td>233.70000</td>\n",
       "      <td>58.22200</td>\n",
       "      <td>97.58000</td>\n",
       "      <td>10.50000</td>\n",
       "      <td>9.2</td>\n",
       "      <td>2.9</td>\n",
       "      <td>7.5</td>\n",
       "      <td>0.0</td>\n",
       "      <td>7.5</td>\n",
       "      <td>4.1</td>\n",
       "      <td>1.0</td>\n",
       "    </tr>\n",
       "  </tbody>\n",
       "</table>\n",
       "</div>"
      ],
      "text/plain": [
       "       V0      V1      V2       V3        V4        V5        V6         V7  \\\n",
       "0  winter  small_  medium  8.00000   9.80000  60.80000   6.23800  578.00000   \n",
       "1  spring  small_  medium  8.35000   8.00000  57.75000   1.28800  370.00000   \n",
       "2  autumn  small_  medium  8.10000  11.40000  40.02000   5.33000  346.66699   \n",
       "3  spring  small_  medium  8.07000   4.80000  77.36400   2.30200   98.18200   \n",
       "4  autumn  small_  medium  8.06000   9.00000  55.35000  10.41600  233.70000   \n",
       "\n",
       "          V8         V9       V10  V11   V12   V13  V14   V15  V16  V17  \n",
       "0  105.00000  170.00000  50.00000  0.0   0.0   0.0  0.0  34.2  8.3  0.0  \n",
       "1  428.75000  558.75000   1.30000  1.4   7.6   4.8  1.9   6.7  0.0  2.1  \n",
       "2  125.66700  187.05701  15.60000  3.3  53.6   1.9  0.0   0.0  0.0  9.7  \n",
       "3   61.18200  138.70000   1.40000  3.1  41.0  18.9  0.0   1.4  0.0  1.4  \n",
       "4   58.22200   97.58000  10.50000  9.2   2.9   7.5  0.0   7.5  4.1  1.0  "
      ]
     },
     "execution_count": 20,
     "metadata": {},
     "output_type": "execute_result"
    }
   ],
   "source": [
    "url = 'http://archive.ics.uci.edu/ml/machine-learning-databases/coil-mld/analysis.data'\n",
    "data = pd.read_csv(url, header=None, prefix='V')\n",
    "data.head()"
   ]
  },
  {
   "cell_type": "code",
   "execution_count": 47,
   "metadata": {
    "ExecuteTime": {
     "end_time": "2021-02-13T13:24:03.811252Z",
     "start_time": "2021-02-13T13:24:03.804250Z"
    }
   },
   "outputs": [],
   "source": [
    "data = data.replace('XXXXXXX', np.nan)\n",
    "data = data.dropna()"
   ]
  },
  {
   "cell_type": "code",
   "execution_count": 48,
   "metadata": {
    "ExecuteTime": {
     "end_time": "2021-02-13T13:24:04.219232Z",
     "start_time": "2021-02-13T13:24:04.211222Z"
    }
   },
   "outputs": [],
   "source": [
    "X = data.iloc[:, [3, 4]]\n",
    "y = data.iloc[:, 0].values"
   ]
  },
  {
   "cell_type": "markdown",
   "metadata": {
    "ExecuteTime": {
     "end_time": "2021-02-13T13:10:56.772700Z",
     "start_time": "2021-02-13T13:10:56.756025Z"
    }
   },
   "source": [
    "2. Если среди меток класса имеются пропущенные значения, то удалите записи с пропущенными метками класса. Если в признаках имеются пропущенные значения, то замените их на средние значения для того класса, к которому относится запись с пропущенным значением."
   ]
  },
  {
   "cell_type": "code",
   "execution_count": 49,
   "metadata": {
    "ExecuteTime": {
     "end_time": "2021-02-13T13:24:04.974439Z",
     "start_time": "2021-02-13T13:24:04.955436Z"
    }
   },
   "outputs": [
    {
     "data": {
      "text/plain": [
       "0"
      ]
     },
     "execution_count": 49,
     "metadata": {},
     "output_type": "execute_result"
    }
   ],
   "source": [
    "(y == '?').sum() + (X == '?').sum().sum()"
   ]
  },
  {
   "cell_type": "markdown",
   "metadata": {},
   "source": [
    "Пропусков нет."
   ]
  },
  {
   "cell_type": "markdown",
   "metadata": {},
   "source": [
    "3.  Если количество различных меток класса больше семи, то объедините некоторые классы, чтобы общее количество классов не превышало семь."
   ]
  },
  {
   "cell_type": "code",
   "execution_count": 50,
   "metadata": {
    "ExecuteTime": {
     "end_time": "2021-02-13T13:24:05.742635Z",
     "start_time": "2021-02-13T13:24:05.739637Z"
    }
   },
   "outputs": [
    {
     "data": {
      "text/plain": [
       "4"
      ]
     },
     "execution_count": 50,
     "metadata": {},
     "output_type": "execute_result"
    }
   ],
   "source": [
    "np.unique(y).size"
   ]
  },
  {
   "cell_type": "markdown",
   "metadata": {},
   "source": [
    "Количество классов меньше семи."
   ]
  },
  {
   "cell_type": "markdown",
   "metadata": {},
   "source": [
    "4. Визуализируйте набор данных в виде точек плоскости с координатами, соответствующими двум признакам, отображая точки различных классов разными цветами. Подпишите оси и рисунок, создайте легенду набора данных."
   ]
  },
  {
   "cell_type": "code",
   "execution_count": 51,
   "metadata": {
    "ExecuteTime": {
     "end_time": "2021-02-13T13:24:07.550906Z",
     "start_time": "2021-02-13T13:24:07.531902Z"
    }
   },
   "outputs": [],
   "source": [
    "def plot_classes(X, y):\n",
    "    plt.figure(figsize=(12,10))\n",
    "    clusters = np.unique(y)\n",
    "    for cluster in clusters:\n",
    "        cluster_idx = np.where(y == cluster)\n",
    "        plt.scatter(X.iloc[cluster_idx].iloc[:, 0], X.iloc[cluster_idx].iloc[:, 1], label=cluster)\n",
    "    plt.title('Distribution of classes depends on col 4 and 5')\n",
    "    plt.legend()\n",
    "    plt.xlabel('col 4')\n",
    "    plt.ylabel('col 5')\n",
    "    plt.show()"
   ]
  },
  {
   "cell_type": "code",
   "execution_count": 52,
   "metadata": {
    "ExecuteTime": {
     "end_time": "2021-02-13T13:24:09.910131Z",
     "start_time": "2021-02-13T13:24:07.690945Z"
    }
   },
   "outputs": [
    {
     "data": {
      "image/png": "[encoded data removed]",
      "text/plain": [
       "<Figure size 864x720 with 1 Axes>"
      ]
     },
     "metadata": {
      "needs_background": "light"
     },
     "output_type": "display_data"
    }
   ],
   "source": [
    "plot_classes(X, y)"
   ]
  },
  {
   "cell_type": "markdown",
   "metadata": {},
   "source": [
    "5. Проведите кластеризацию набора данных из двух признаков с помощью алгоритмов, указанных в индивидуальном задании, для случая, когда количество кластеров равно количеству классов в исходном наборе (с учетом корректировки). В случае отсутствия сходимости алгоритма измените аргументы по умолчанию или используйте для кластеризации случайную выборку из набора данных."
   ]
  },
  {
   "cell_type": "code",
   "execution_count": 53,
   "metadata": {
    "ExecuteTime": {
     "end_time": "2021-02-13T13:24:10.803061Z",
     "start_time": "2021-02-13T13:24:10.787058Z"
    }
   },
   "outputs": [],
   "source": [
    "from sklearn.cluster import KMeans, AffinityPropagation, MeanShift, MiniBatchKMeans"
   ]
  },
  {
   "cell_type": "code",
   "execution_count": 55,
   "metadata": {
    "ExecuteTime": {
     "end_time": "2021-02-13T13:24:18.502154Z",
     "start_time": "2021-02-13T13:24:17.779561Z"
    }
   },
   "outputs": [
    {
     "name": "stderr",
     "output_type": "stream",
     "text": [
      "C:\\Anaconda3\\lib\\site-packages\\sklearn\\cluster\\_affinity_propagation.py:146: FutureWarning: 'random_state' has been introduced in 0.23. It will be set to None starting from 0.25 which means that results will differ at every function call. Set 'random_state' to None to silence this warning, or to 0 to keep the behavior of versions <0.23.\n",
      "  warnings.warn((\"'random_state' has been introduced in 0.23. \"\n"
     ]
    }
   ],
   "source": [
    "n_clusters = np.unique(y).size\n",
    "\n",
    "kmeans = KMeans(n_clusters=n_clusters)\n",
    "kmeans_preds = kmeans.fit_predict(X)\n",
    "\n",
    "ap = AffinityPropagation()\n",
    "ap_preds = ap.fit_predict(X)\n",
    "\n",
    "mshift = MeanShift()\n",
    "mshift_preds = mshift.fit_predict(X)\n",
    "\n",
    "minikmeans = MiniBatchKMeans(n_clusters=n_clusters)\n",
    "minikmeans_preds = minikmeans.fit_predict(X)"
   ]
  },
  {
   "cell_type": "markdown",
   "metadata": {},
   "source": [
    "6. Для каждого из алгоритмов кластеризации, указанных в индивидуальном задании, постройте матрицу сопряженности и найдите значения мер качества кластеризации, указанные в индивидуальном задании, не пользуясь функциями из библиотеки scikit-learn."
   ]
  },
  {
   "cell_type": "code",
   "execution_count": 73,
   "metadata": {
    "ExecuteTime": {
     "end_time": "2021-02-13T13:37:02.867564Z",
     "start_time": "2021-02-13T13:37:02.851560Z"
    }
   },
   "outputs": [],
   "source": [
    "from sklearn.metrics.cluster import contingency_matrix\n",
    "\n",
    "def f_measure(matrix):\n",
    "    F = 0\n",
    "    for j in range(matrix.shape[1]):\n",
    "        nij = matrix[:, j].argmax()\n",
    "        prec = matrix[nij, j] / matrix[:, j].sum()\n",
    "        rec = matrix[nij, j] / matrix[nij].sum()\n",
    "\n",
    "        F += 2 * prec * rec / (prec + rec)\n",
    "    return F / matrix.shape[0]\n",
    "\n",
    "def jaccard(TP, FP, FN):\n",
    "    return TP / (TP + FP + FN)\n",
    "\n",
    "def pair_metrics(matrix):\n",
    "    TP = (np.sum(matrix ** 2) - matrix.sum()) // 2\n",
    "    FN = (np.sum(matrix.sum(axis=1) ** 2) - np.sum(matrix ** 2)) // 2\n",
    "    FP = (np.sum(matrix.sum(axis=0) ** 2) - np.sum(matrix ** 2)) // 2\n",
    "    N = matrix.sum() * (matrix.sum() - 1) // 2\n",
    "    TN = N - TP - FN - FP\n",
    "    return TP, FN, FP, TN"
   ]
  },
  {
   "cell_type": "code",
   "execution_count": 74,
   "metadata": {
    "ExecuteTime": {
     "end_time": "2021-02-13T13:37:03.570984Z",
     "start_time": "2021-02-13T13:37:03.555548Z"
    }
   },
   "outputs": [
    {
     "name": "stdout",
     "output_type": "stream",
     "text": [
      "Algorithm: K-means\n",
      "F measure = 0.35546404411083304\n",
      "TP = 1005\n",
      "FN = 2491\n",
      "FP = 2769\n",
      "TN = 7596\n",
      "Jaccard = 0.160415003990423\n",
      "----------------------------------------\n",
      "\n",
      "Algorithm: AffinityPropagation\n",
      "F measure = 0.6055393224344633\n",
      "TP = 407\n",
      "FN = 3089\n",
      "FP = 1065\n",
      "TN = 9300\n",
      "Jaccard = 0.0892348169261127\n",
      "----------------------------------------\n",
      "\n",
      "Algorithm: MeanShift\n",
      "F measure = 0.11697247706422019\n",
      "TP = 3496\n",
      "FN = 0\n",
      "FP = 10365\n",
      "TN = 0\n",
      "Jaccard = 0.25221845465695114\n",
      "----------------------------------------\n",
      "\n",
      "Algorithm: MiniBatchKMeans\n",
      "F measure = 0.3464231480808595\n",
      "TP = 1093\n",
      "FN = 2403\n",
      "FP = 3044\n",
      "TN = 7321\n",
      "Jaccard = 0.16712538226299695\n",
      "----------------------------------------\n",
      "\n"
     ]
    }
   ],
   "source": [
    "algo_preds = {\n",
    "    'K-means': kmeans_preds,\n",
    "    'AffinityPropagation': ap_preds,\n",
    "    'MeanShift': mshift_preds,\n",
    "    'MiniBatchKMeans': minikmeans_preds\n",
    "}\n",
    "for key, value in algo_preds.items():\n",
    "    print(f'Algorithm: {key}')\n",
    "    matrix = contingency_matrix(y, value)\n",
    "    F = f_measure(matrix)\n",
    "    TP, FN, FP, TN = pair_metrics(matrix)\n",
    "    jac = jaccard(TP, FP, FN)\n",
    "    print(f'F measure = {F}')\n",
    "    print(f'TP = {TP}')\n",
    "    print(f'FN = {FN}')\n",
    "    print(f'FP = {FP}')\n",
    "    print(f'TN = {TN}')\n",
    "    print(f'Jaccard = {jac}\\n----------------------------------------\\n')"
   ]
  },
  {
   "cell_type": "markdown",
   "metadata": {
    "ExecuteTime": {
     "end_time": "2021-02-13T13:37:18.836546Z",
     "start_time": "2021-02-13T13:37:18.819847Z"
    }
   },
   "source": [
    "7. Определите алгоритм кластеризации, оптимальный с точки зрения меры качества кластеризации, указанной в индивидуальном задании."
   ]
  },
  {
   "cell_type": "markdown",
   "metadata": {},
   "source": [
    "По индексу Жаккара лучший алгортим - MeanShift"
   ]
  },
  {
   "cell_type": "markdown",
   "metadata": {},
   "source": [
    "8. Для оптимального алгоритма кластеризации из предыдущего пункта визуализируйте набор данных в виде точек плоскости с координатами, соответствующими двум признакам, отображая точки различных кластеров разными цветами. Подпишите оси и рисунок, создайте легенду набора данных."
   ]
  },
  {
   "cell_type": "code",
   "execution_count": 78,
   "metadata": {
    "ExecuteTime": {
     "end_time": "2021-02-13T13:38:54.292208Z",
     "start_time": "2021-02-13T13:38:54.283206Z"
    }
   },
   "outputs": [],
   "source": [
    "def plot_clusters(X, y):\n",
    "    plt.figure(figsize=(12,10))\n",
    "    clusters = np.unique(y)\n",
    "    for cluster in clusters:\n",
    "        cluster_idx = np.where(y == cluster)\n",
    "        plt.scatter(X.iloc[cluster_idx].iloc[:, 0], X.iloc[cluster_idx].iloc[:, 1], label=cluster)\n",
    "    plt.title('MeanShift clustering result')\n",
    "    plt.legend()\n",
    "    plt.xlabel('col 4')\n",
    "    plt.ylabel('col 5')\n",
    "    plt.show()"
   ]
  },
  {
   "cell_type": "code",
   "execution_count": 79,
   "metadata": {
    "ExecuteTime": {
     "end_time": "2021-02-13T13:38:56.952261Z",
     "start_time": "2021-02-13T13:38:54.619773Z"
    }
   },
   "outputs": [
    {
     "data": {
      "image/png": "[encoded data removed]",
      "text/plain": [
       "<Figure size 864x720 with 1 Axes>"
      ]
     },
     "metadata": {
      "needs_background": "light"
     },
     "output_type": "display_data"
    }
   ],
   "source": [
    "plot_clusters(X, kmeans_preds)"
   ]
  }
 ],
 "metadata": {
  "kernelspec": {
   "display_name": "Python 3",
   "language": "python",
   "name": "python3"
  },
  "toc": {
   "base_numbering": 1,
   "nav_menu": {},
   "number_sections": true,
   "sideBar": true,
   "skip_h1_title": false,
   "title_cell": "Table of Contents",
   "title_sidebar": "Contents",
   "toc_cell": false,
   "toc_position": {},
   "toc_section_display": true,
   "toc_window_display": false
  },
  "varInspector": {
   "cols": {
    "lenName": 16,
    "lenType": 16,
    "lenVar": 40
   },
   "kernels_config": {
    "python": {
     "delete_cmd_postfix": "",
     "delete_cmd_prefix": "del ",
     "library": "var_list.py",
     "varRefreshCmd": "print(var_dic_list())"
    },
    "r": {
     "delete_cmd_postfix": ") ",
     "delete_cmd_prefix": "rm(",
     "library": "var_list.r",
     "varRefreshCmd": "cat(var_dic_list()) "
    }
   },
   "types_to_exclude": [
    "module",
    "function",
    "builtin_function_or_method",
    "instance",
    "_Feature"
   ],
   "window_display": false
  }
 },
 "nbformat": 4,
 "nbformat_minor": 4
}
