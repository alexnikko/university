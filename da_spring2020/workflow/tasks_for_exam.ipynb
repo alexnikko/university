{
 "cells": [
  {
   "cell_type": "code",
   "execution_count": 1,
   "metadata": {
    "ExecuteTime": {
     "end_time": "2020-04-12T14:52:54.538068Z",
     "start_time": "2020-04-12T14:52:53.499159Z"
    }
   },
   "outputs": [],
   "source": [
    "import pandas as pd\n",
    "import numpy as np\n",
    "import matplotlib.pyplot as plt\n",
    "%matplotlib inline\n",
    "import seaborn as sns\n",
    "sns.set_style('ticks')\n",
    "from scipy import stats"
   ]
  },
  {
   "cell_type": "markdown",
   "metadata": {},
   "source": [
    "###### Задача 1."
   ]
  },
  {
   "cell_type": "code",
   "execution_count": 2,
   "metadata": {
    "ExecuteTime": {
     "end_time": "2020-04-12T14:52:54.555012Z",
     "start_time": "2020-04-12T14:52:54.542048Z"
    }
   },
   "outputs": [
    {
     "name": "stdout",
     "output_type": "stream",
     "text": [
      "Доверительный интервал (90%) для оценки суммы генеральной совокупности\n",
      "sum = 5080755.555555555 in: [4974152.373259407; 5187358.737851704]\n"
     ]
    }
   ],
   "source": [
    "# Дано\n",
    "N = 8000\n",
    "n = 180\n",
    "y_sum = 114317 # of 180\n",
    "y_sum_squared = 74765381 # of 180\n",
    "confident = 0.9\n",
    "# Для решения задачи\n",
    "alpha = 1 - confident # уровень значимости\n",
    "fpc = np.sqrt(1 - n / N) # поправка на генеральную совокупность\n",
    "left_quant = stats.norm.ppf(alpha / 2) # левый квантиль\n",
    "right_quant = stats.norm.ppf(1 -  alpha / 2) # правый квантиль\n",
    "\n",
    "y_mean = y_sum / n # среднее\n",
    "y_sum_pred = y_mean * N # точечная оценка суммы генеральной совокупности\n",
    "\n",
    "var = (y_sum_squared - n * y_mean ** 2) / (n - 1) # дисперсия (несмещенная)\n",
    "# если смещенная, то формула var = y_sum_squared / n - y_mean ** 2\n",
    "std = np.sqrt(var) # стандартное отклонение\n",
    "\n",
    "std_sum_error = N * std * fpc / np.sqrt(n) # стандартная ошибка оценки суммы\n",
    "left = y_sum_pred + left_quant * std_sum_error\n",
    "right = y_sum_pred + right_quant * std_sum_error\n",
    "print(f'Доверительный интервал (90%) для оценки суммы генеральной совокупности\\nsum = {y_sum_pred} in: [{left}; {right}]')"
   ]
  },
  {
   "cell_type": "markdown",
   "metadata": {},
   "source": [
    "###### Задача 2.\n",
    "Требуется проверить выборки на однородность. Для этого нужно их проверить на равенство средних и дисперсий. Поскольку данные имеют нормальное распределение (по условию), то воспользуемся критерием Фишера для проверки равенства дисперсий, после чего для проверки равенства средних воспользуемся либо критерием Стьюдента, если дисперсии равны, либо критерием Манна-Уитни (или Ансари-Бредли), если дисперсии не равны. Гипотеза $H_0$: средние (дисперсии) выборок равны. Альтернативная гипотеза $H_1$: средние (дисперсии) выборок не равны "
   ]
  },
  {
   "cell_type": "code",
   "execution_count": 3,
   "metadata": {
    "ExecuteTime": {
     "end_time": "2020-04-12T14:52:54.568976Z",
     "start_time": "2020-04-12T14:52:54.558006Z"
    }
   },
   "outputs": [
    {
     "name": "stdout",
     "output_type": "stream",
     "text": [
      "T = 0.22563901982583837 p_value = 0.9902970583645858\n"
     ]
    }
   ],
   "source": [
    "alpha = 0.05\n",
    "x = np.array([12.85, 13.02, 13.73, 13, 14.37, 13.58, 14.48, 13.54, 15, 14.8, 14.8, 14.63, 13.29])\n",
    "y = np.array([13.43, 13.65, 13.62, 13.39, 13.18, 13.09, 13.07, 13.67, 13.6, 13.59, 13.97, 12.59])\n",
    "n = y.size\n",
    "m = x.size\n",
    "x_var = stats.tvar(x)\n",
    "y_var = stats.tvar(y)\n",
    "F = y_var / x_var\n",
    "p_value = 1 - stats.f.cdf(F, n - 1, m - 1)\n",
    "print(f'T = {F}', f'p_value = {p_value}') "
   ]
  },
  {
   "cell_type": "markdown",
   "metadata": {},
   "source": [
    "Поскольку p_value > 0.05, делаем вывод об однородности данных в плане сжатия/растяжения (то есть остаемся в рамках нулевой гипотезы, что дисперсии выборок равны). Теперь можно воспользоваться критерием Стьюдента."
   ]
  },
  {
   "cell_type": "code",
   "execution_count": 4,
   "metadata": {
    "ExecuteTime": {
     "end_time": "2020-04-12T14:52:54.585932Z",
     "start_time": "2020-04-12T14:52:54.576956Z"
    }
   },
   "outputs": [
    {
     "data": {
      "text/plain": [
       "0.043832635777236346"
      ]
     },
     "execution_count": 4,
     "metadata": {},
     "output_type": "execute_result"
    }
   ],
   "source": [
    "T, p_value = stats.ttest_ind(x, y)\n",
    "p_value"
   ]
  },
  {
   "cell_type": "markdown",
   "metadata": {},
   "source": [
    "Поскольку p_value < 0.05, делаем вывод о неоднородности данных в плане смещения (то есть отвергаем нулевую гипотезу в пользу альтернативной, средние не равны)."
   ]
  },
  {
   "cell_type": "markdown",
   "metadata": {},
   "source": [
    "Таким образом, данные не полностью однородны."
   ]
  },
  {
   "cell_type": "markdown",
   "metadata": {},
   "source": [
    "###### Задача 3.\n",
    "Поскольку данные по своей природе представляют собой порядковые значения, лучше выбрать непараметрический критерий для проверки равенства средних (критерий Ансари-Бредли или Манна-Уитни). P.S. Можно проверить данные на нормальность и воспользоваться критерием Стьюдента, если кажется, что порядок не имеет значения в данном контексте.\n",
    "\n",
    "$H_0$: средние равны\n",
    "\n",
    "$H_1$: средние не равны\n",
    "\n",
    "Уровень значимости $\\alpha = 0.05$"
   ]
  },
  {
   "cell_type": "code",
   "execution_count": 5,
   "metadata": {
    "ExecuteTime": {
     "end_time": "2020-04-12T14:52:54.618843Z",
     "start_time": "2020-04-12T14:52:54.598898Z"
    }
   },
   "outputs": [
    {
     "name": "stderr",
     "output_type": "stream",
     "text": [
      "C:\\Users\\Alex\\Anaconda3\\lib\\site-packages\\scipy\\stats\\morestats.py:2130: UserWarning: Ties preclude use of exact statistic.\n",
      "  warnings.warn(\"Ties preclude use of exact statistic.\")\n"
     ]
    },
    {
     "data": {
      "text/plain": [
       "0.17290407138711017"
      ]
     },
     "execution_count": 5,
     "metadata": {},
     "output_type": "execute_result"
    }
   ],
   "source": [
    "x = np.array([72, 91, 82, 86, 100, 65, 67, 86, 81, 86, 80, 79])\n",
    "y = np.array([70, 92, 74, 74, 100, 86, 100, 95, 78, 92, 100, 80, 77, 91])\n",
    "T, p_value = stats.ansari(x, y)\n",
    "p_value"
   ]
  },
  {
   "cell_type": "markdown",
   "metadata": {},
   "source": [
    "Поскольку p_value > 0.05, то остаемся в рамках нулевой гипотезы (средние равны)"
   ]
  },
  {
   "cell_type": "markdown",
   "metadata": {},
   "source": [
    "###### Задача 4.\n",
    "Здесь данные явно заданы порядковой шкалой, поэтому нет сомнений используем непараметрический критерий (Пирсона или Кендалла) для проверки гипотезы о независимости параметров.\n",
    "\n",
    "$H_0$: количество детей в семье не зависит от ее материального благополучия\n",
    "\n",
    "$H_1$: количество детей в семье зависит от ее материального благополучия\n",
    "\n",
    "Уровень значимости $\\alpha = 0.05$"
   ]
  },
  {
   "cell_type": "code",
   "execution_count": 6,
   "metadata": {
    "ExecuteTime": {
     "end_time": "2020-04-12T14:52:54.632806Z",
     "start_time": "2020-04-12T14:52:54.620838Z"
    }
   },
   "outputs": [
    {
     "data": {
      "text/plain": [
       "0.7037814416384003"
      ]
     },
     "execution_count": 6,
     "metadata": {},
     "output_type": "execute_result"
    }
   ],
   "source": [
    "x = np.array([4, 1, 2, 2, 3, 2, 3, 1, 4, 3])\n",
    "y = np.array([5, 3, 1, 4, 2, 5, 1, 3, 4, 2])\n",
    "T, p_value = stats.pearsonr(x, y)\n",
    "p_value"
   ]
  },
  {
   "cell_type": "markdown",
   "metadata": {},
   "source": [
    "Поскольку p_value > 0.05, то остаемся в рамках нулевой гипотезы (параметры независимы)"
   ]
  },
  {
   "cell_type": "markdown",
   "metadata": {},
   "source": [
    "###### Задача 5.\n",
    "Проверим данные на нормальность, в зависимости от этого воспользуемся тем или иным критерием.\n",
    "\n",
    "$H_0$: нет зависимости\n",
    "\n",
    "$H_1$: есть зависимость\n",
    "\n",
    "Уровень значимости $\\alpha = 0.05$"
   ]
  },
  {
   "cell_type": "code",
   "execution_count": 7,
   "metadata": {
    "ExecuteTime": {
     "end_time": "2020-04-12T14:52:54.646768Z",
     "start_time": "2020-04-12T14:52:54.635797Z"
    }
   },
   "outputs": [
    {
     "data": {
      "text/plain": [
       "(0.5909668207168579, 9.027670603245497e-05)"
      ]
     },
     "execution_count": 7,
     "metadata": {},
     "output_type": "execute_result"
    }
   ],
   "source": [
    "x = np.array([1372859000, 1271775000, 318615000, 252812245, 203261122, 189612027, 178516904, 157503337, 146267288, 126910000, 119713203, 101108300])\n",
    "y = np.array([9598962, 3287590, 9519431, 1904556, 8514877, 803940, 923768, 144000, 17125407, 377835, 1972550, 299764])\n",
    "stats.shapiro(x)"
   ]
  },
  {
   "cell_type": "markdown",
   "metadata": {},
   "source": [
    "Население не имеет нормальное распределение, следовательно уже нельзя использовать критерий Пирсона. Воспользуемся критерием Кендалла"
   ]
  },
  {
   "cell_type": "code",
   "execution_count": 8,
   "metadata": {
    "ExecuteTime": {
     "end_time": "2020-04-12T14:52:54.669708Z",
     "start_time": "2020-04-12T14:52:54.650758Z"
    }
   },
   "outputs": [
    {
     "data": {
      "text/plain": [
       "KendalltauResult(correlation=0.4242424242424242, pvalue=0.06286914699241088)"
      ]
     },
     "execution_count": 8,
     "metadata": {},
     "output_type": "execute_result"
    }
   ],
   "source": [
    "stats.kendalltau(x, y)"
   ]
  },
  {
   "cell_type": "code",
   "execution_count": 9,
   "metadata": {
    "ExecuteTime": {
     "end_time": "2020-04-12T14:52:54.941494Z",
     "start_time": "2020-04-12T14:52:54.672700Z"
    }
   },
   "outputs": [
    {
     "data": {
      "text/plain": [
       "<matplotlib.axes._subplots.AxesSubplot at 0x241356b76a0>"
      ]
     },
     "execution_count": 9,
     "metadata": {},
     "output_type": "execute_result"
    },
    {
     "data": {
      "image/png": "[encoded data removed]",
      "text/plain": [
       "<Figure size 432x288 with 1 Axes>"
      ]
     },
     "metadata": {},
     "output_type": "display_data"
    }
   ],
   "source": [
    "sns.scatterplot(x, y)"
   ]
  },
  {
   "cell_type": "markdown",
   "metadata": {},
   "source": [
    "Хотя коэффициент корреляции не такой уж маленький, связь слабая и p_value > 0.05, а значит мы остаемся в рамках нулевой гипотезы (зависимости нет)"
   ]
  },
  {
   "cell_type": "markdown",
   "metadata": {},
   "source": [
    "###### Задача 6.\n",
    "Здесь данные явно заданы таблицей зависимости, что намекает на использование критерия Хи-квадрат + требуется посмотреть меру связи.\n",
    "\n",
    "$H_0$: нет зависимости\n",
    "\n",
    "$H_1$: есть зависимость\n",
    "\n",
    "Уровень значимости $\\alpha = 0.05$"
   ]
  },
  {
   "cell_type": "code",
   "execution_count": 10,
   "metadata": {
    "ExecuteTime": {
     "end_time": "2020-04-12T14:52:54.953461Z",
     "start_time": "2020-04-12T14:52:54.944486Z"
    }
   },
   "outputs": [
    {
     "data": {
      "text/plain": [
       "0.0"
      ]
     },
     "execution_count": 10,
     "metadata": {},
     "output_type": "execute_result"
    }
   ],
   "source": [
    "data = np.array([[63, 1007, 2739, 1191], [805, 2633, 1445, 117]])\n",
    "n = np.sum(data)\n",
    "chi, p_value, df, _ = stats.chi2_contingency(data)\n",
    "p_value"
   ]
  },
  {
   "cell_type": "markdown",
   "metadata": {},
   "source": [
    "p_value < 0.05 значит отвергаем нулевую гипотезу в пользу альтернативно (есть зависимость)"
   ]
  },
  {
   "cell_type": "code",
   "execution_count": 11,
   "metadata": {
    "ExecuteTime": {
     "end_time": "2020-04-12T14:52:54.967424Z",
     "start_time": "2020-04-12T14:52:54.956454Z"
    }
   },
   "outputs": [
    {
     "data": {
      "text/plain": [
       "(0.45719713589651345, 0.5140712087966722)"
      ]
     },
     "execution_count": 11,
     "metadata": {},
     "output_type": "execute_result"
    }
   ],
   "source": [
    "pearson_coef = np.sqrt(chi / (chi + n))\n",
    "kramer_coef = np.sqrt(chi / (n * (min(data.shape[0], data.shape[1]) - 1)))\n",
    "pearson_coef, kramer_coef"
   ]
  },
  {
   "cell_type": "markdown",
   "metadata": {},
   "source": [
    "Мера связи умеренная"
   ]
  },
  {
   "cell_type": "markdown",
   "metadata": {},
   "source": [
    "###### Задача 7.\n",
    "\n",
    "Воспользуемся непараметрическим критерием, посколько часы являются порядковой величиной\n",
    "\n",
    "$H_0$: нет зависимости\n",
    "\n",
    "$H_1$: есть зависимость\n",
    "\n",
    "Уровень значимости $\\alpha = 0.05$"
   ]
  },
  {
   "cell_type": "code",
   "execution_count": 12,
   "metadata": {
    "ExecuteTime": {
     "end_time": "2020-04-12T14:52:54.977400Z",
     "start_time": "2020-04-12T14:52:54.969418Z"
    }
   },
   "outputs": [],
   "source": [
    "x = np.array([1.3, 1.9, 2.2, 3.1, 3.3, 4, 4.1, 4.4, 4.6, 4.7, 4.8, 5.2, 5.3, 5.6, 6.1, 6.2, 6.2, 6.7, 7.4, 8.3])\n",
    "y = np.array([74, 66, 86, 65, 51, 77, 79, 76, 80, 77, 82, 89, 81, 78, 74, 81, 87, 100, 95, 89])"
   ]
  },
  {
   "cell_type": "code",
   "execution_count": 13,
   "metadata": {
    "ExecuteTime": {
     "end_time": "2020-04-12T14:52:55.219931Z",
     "start_time": "2020-04-12T14:52:54.979391Z"
    }
   },
   "outputs": [
    {
     "data": {
      "text/plain": [
       "<matplotlib.axes._subplots.AxesSubplot at 0x2413ab9dfd0>"
      ]
     },
     "execution_count": 13,
     "metadata": {},
     "output_type": "execute_result"
    },
    {
     "data": {
      "image/png": "[encoded data removed]",
      "text/plain": [
       "<Figure size 432x288 with 1 Axes>"
      ]
     },
     "metadata": {},
     "output_type": "display_data"
    }
   ],
   "source": [
    "sns.scatterplot(x, y)"
   ]
  },
  {
   "cell_type": "code",
   "execution_count": 14,
   "metadata": {
    "ExecuteTime": {
     "end_time": "2020-04-12T14:52:55.240337Z",
     "start_time": "2020-04-12T14:52:55.231363Z"
    }
   },
   "outputs": [
    {
     "data": {
      "text/plain": [
       "0.003423987940871321"
      ]
     },
     "execution_count": 14,
     "metadata": {},
     "output_type": "execute_result"
    }
   ],
   "source": [
    "_, p_value = stats.pearsonr(x, y)\n",
    "p_value"
   ]
  },
  {
   "cell_type": "markdown",
   "metadata": {},
   "source": [
    "Поскольку p_value < 0.05, отвергаем нулевую гипотезу в пользу альтернативной, то есть данные зависимы."
   ]
  }
 ],
 "metadata": {
  "kernelspec": {
   "display_name": "Python 3",
   "language": "python",
   "name": "python3"
  },
  "language_info": {
   "codemirror_mode": {
    "name": "ipython",
    "version": 3
   },
   "file_extension": ".py",
   "mimetype": "text/x-python",
   "name": "python",
   "nbconvert_exporter": "python",
   "pygments_lexer": "ipython3",
   "version": "3.7.3"
  }
 },
 "nbformat": 4,
 "nbformat_minor": 4
}
