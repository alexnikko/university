{
 "cells": [
  {
   "cell_type": "code",
   "execution_count": 1,
   "metadata": {
    "ExecuteTime": {
     "end_time": "2020-04-05T17:15:37.635094Z",
     "start_time": "2020-04-05T17:15:37.017816Z"
    }
   },
   "outputs": [],
   "source": [
    "import pandas as pd\n",
    "import numpy as np\n",
    "from scipy import stats\n",
    "from collections import Counter"
   ]
  },
  {
   "cell_type": "markdown",
   "metadata": {},
   "source": [
    "## Теоретическая справка"
   ]
  },
  {
   "cell_type": "markdown",
   "metadata": {},
   "source": [
    "### Критерий Пирсона\n",
    "\n",
    "$$\\hat{r}_{XY} = \\frac{\\hat{k}_{XY}(n)}{\\bar{s}_X \\bar{s}_Y}$$\n",
    "\n",
    "где\n",
    "\n",
    "$$\\hat{k}_{XY}(n) = \\frac{1}{n} \\sum_{i=1}^n X_iY_i - \\overline{X}_n \\overline{Y}_n$$\n",
    "\n",
    "$$\\bar{s}_n^2 = \\frac{1}{n} \\sum_{i=1}^n (X_i - \\overline{X}_n)^2$$\n",
    "\n",
    "Тогда статистика\n",
    "\n",
    "$$T = \\frac{\\sqrt{n - 2}\\hat{r}_{XY}}{\\sqrt{1 - \\hat{r}_{XY}^2}}$$\n",
    "\n",
    "T имеет распределение Стьюдента с $n - 2$ степенями свободы."
   ]
  },
  {
   "cell_type": "markdown",
   "metadata": {},
   "source": [
    "### Критерий Кендалла\n",
    "\n",
    "Если нет связок:\n",
    "\n",
    "$$\\hat{\\tau} = \\frac{2 \\sum\\limits_{i\\leq i < j \\leq n} \\mathrm{sign}\\{(X_i - X_j)(Y_i -  Y_j)\\}}{n(n-1)}$$\n",
    "\n",
    "Если есть связки:\n",
    "\n",
    "$$\\hat{\\tau} = \\frac{\\sum\\limits_{i\\leq i < j \\leq n} \\mathrm{sign}\\{(X_i - X_j)(Y_i -  Y_j)\\}}{\\sqrt{(\\frac{n(n-1)}{2} - u_1)(\\frac{n(n-1)}{2} - u_2)}}$$\n",
    "\n",
    "где\n",
    "\n",
    "$$u_k = \\frac1 2 \\sum_{i=1}^q u_{ki}^2 - u_{ki}$$\n",
    "\n",
    "$q$ - количество связок в выборке $k$ ($X$ или $Y$), $u_{ki}$ - размер этой связки\n",
    "\n",
    "Тогда \n",
    "\n",
    "$$T = \\frac{\\hat{\\tau}}{\\sqrt D} \\sim \\frac{3\\sqrt n \\hat{\\tau}}{2}$$\n",
    "\n",
    "где \n",
    "\n",
    "$$D = \\frac{4n+10}{9n(n-1)}$$\n",
    "\n",
    "\n",
    "T распределена нормально"
   ]
  },
  {
   "cell_type": "markdown",
   "metadata": {},
   "source": [
    "### Критерий Спирмена\n",
    "\n",
    "$$\\hat{\\rho} = \\frac{\\sum\\limits_{i=1}^n (R_i - \\overline R)(S_i - \\overline S)}{\\sqrt{\\sum\\limits_{i=1}^n (R_i - \\overline R)^2 \\times \\sum\\limits_{i=1}^n (S_i - \\overline S)^2}}$$\n",
    "\n",
    "где $R_i$ - ранг элемента $X_i$ в выборке $X_n$, $S_i$ - ранг элемента $Y_i$ в выборке $Y_n$, а $\\overline R$ и $\\overline S$ - средние арифметические рангов\n",
    "\n",
    "тогда $$T = \\sqrt{n-1}\\hat{\\rho}$$\n",
    "\n",
    "T распределена нормально"
   ]
  },
  {
   "cell_type": "code",
   "execution_count": 2,
   "metadata": {
    "ExecuteTime": {
     "end_time": "2020-04-05T17:15:37.639095Z",
     "start_time": "2020-04-05T17:15:37.636094Z"
    }
   },
   "outputs": [],
   "source": [
    "tasks = [6, 19, 21]\n",
    "statisctics = []\n",
    "p_values = []\n",
    "h = []"
   ]
  },
  {
   "cell_type": "markdown",
   "metadata": {},
   "source": [
    "### Задача 6.\n",
    "\n",
    "Поскольку данные распределены нормально и не являются константными ($D\\neq0$), то воспользуемся критерием Пирсона для проверки гипотезы о независимости данных. \n",
    "\n",
    "Основная гипотеза:\n",
    "$H_0:$ данные независимы $\\sim r = 0$\n",
    "\n",
    "Альтернативная гипотеза:\n",
    "$H_3:$ данные зависимы $\\sim r \\neq 0$"
   ]
  },
  {
   "cell_type": "code",
   "execution_count": 3,
   "metadata": {
    "ExecuteTime": {
     "end_time": "2020-04-05T17:15:37.646096Z",
     "start_time": "2020-04-05T17:15:37.640096Z"
    }
   },
   "outputs": [],
   "source": [
    "X = np.array([1.05, 1.06, 0.74, 0.88, 0.92, 1.17, 1.07, 1.12, 1.02, 1.02,\n",
    "              0.65, 1.25, 1.01, 0.69, 1.13])\n",
    "Y = np.array([346.2, 378.3, 330.3, 238.8, 331.1, 431.0, 408.3, 383.5, 341.4,\n",
    "             352.8, 338.1, 446.9, 326.6, 274.7, 381.0])\n",
    "n = 15\n",
    "alpha = 0.05"
   ]
  },
  {
   "cell_type": "markdown",
   "metadata": {},
   "source": [
    "#### Pearson correlation test"
   ]
  },
  {
   "cell_type": "code",
   "execution_count": 4,
   "metadata": {
    "ExecuteTime": {
     "end_time": "2020-04-05T17:15:37.655099Z",
     "start_time": "2020-04-05T17:15:37.648098Z"
    }
   },
   "outputs": [],
   "source": [
    "k = np.sum(X * Y) / n - X.mean() * Y.mean() # Выборочная ковариация\n",
    "r = k / np.sqrt(np.var(X) * np.var(Y)) # Выборочный коэффициент корреляции (статистика)\n",
    "T = np.sqrt(n - 2) * r / np.sqrt(1 - r ** 2) # Статистика с распределением стьюдента\n",
    "p_value = 2 * min(stats.t.cdf(T, n - 2), 1 - stats.t.cdf(T, n - 2))\n",
    "p_values.append(p_value)\n",
    "statisctics.append(r)\n",
    "assert(np.all(np.isclose(stats.pearsonr(X, Y), (r, p_value))))"
   ]
  },
  {
   "cell_type": "code",
   "execution_count": 5,
   "metadata": {
    "ExecuteTime": {
     "end_time": "2020-04-05T17:15:37.661100Z",
     "start_time": "2020-04-05T17:15:37.656099Z"
    }
   },
   "outputs": [
    {
     "name": "stdout",
     "output_type": "stream",
     "text": [
      "p_value = 0.0016793308942941731 < 0.05 => отвергаем Н0 (выборки зависимы)\n"
     ]
    }
   ],
   "source": [
    "if p_value >= alpha:\n",
    "    print(f'p_value = {p_value} > 0.05 => остаемся в Н0 (выборки независимы)')\n",
    "    h.append(0)\n",
    "else:\n",
    "    print(f'p_value = {p_value} < 0.05 => отвергаем Н0 (выборки зависимы)')\n",
    "    h.append(3)"
   ]
  },
  {
   "cell_type": "markdown",
   "metadata": {},
   "source": [
    "### Задача 19.\n",
    "\n",
    "В задаче явно не указано какой критерий использовать. Поскольку баллы за лабораторную работу по сути своей представляют некоторый проранжированный список, то воспользуемся непараметрическим критерием. Я отдам предпочтение критерию Спирмена. Требуется проверить независимость (статистическую) случайных величин. Поэтому\n",
    "\n",
    "Основная гипотеза:\n",
    "$H_0:$ СВ X и Y независимы $\\sim r = 0$\n",
    "\n",
    "Альтернативная гипотеза:\n",
    "$H_3:$ СВ X и Y зависимы $\\sim r \\neq 0$"
   ]
  },
  {
   "cell_type": "code",
   "execution_count": 6,
   "metadata": {
    "ExecuteTime": {
     "end_time": "2020-04-05T17:15:37.667102Z",
     "start_time": "2020-04-05T17:15:37.663101Z"
    }
   },
   "outputs": [],
   "source": [
    "X = np.array([10, 13, 5, 18, 19, 20, 20, 16, 15, 14, 16, 15, 20, 17, 14, 10])\n",
    "Y = np.array([20, 20, 15, 15, 0, 20, 20, 12, 20, 20, 9, 20, 20, 20, 15, 20])\n",
    "n = X.size\n",
    "alpha = 0.05"
   ]
  },
  {
   "cell_type": "markdown",
   "metadata": {},
   "source": [
    "#### Spearman test"
   ]
  },
  {
   "cell_type": "code",
   "execution_count": 7,
   "metadata": {
    "ExecuteTime": {
     "end_time": "2020-04-05T17:15:37.680105Z",
     "start_time": "2020-04-05T17:15:37.668102Z"
    }
   },
   "outputs": [
    {
     "name": "stdout",
     "output_type": "stream",
     "text": [
      "p_value = 0.8041065958627895 > 0.05 => остаемся в Н0 (СВ независимы)\n"
     ]
    }
   ],
   "source": [
    "R = stats.rankdata(X)\n",
    "S = stats.rankdata(Y)\n",
    "r = np.sum((R - R.mean()) * (S - S.mean())) / np.sqrt(np.sum((R - R.mean()) ** 2) * np.sum((S - S.mean()) ** 2))\n",
    "if (n > 50):\n",
    "    T = np.sqrt(n - 1) * r # нормальная апроксимация\n",
    "    p_value = 2 * min(stats.norm.cdf(T), 1 - stats.norm.cdf(T))\n",
    "else:\n",
    "    T = np.sqrt(n - 2) * r / np.sqrt(1 - r ** 2) # апроксимация стьюдента\n",
    "    p_value = 2 * min(stats.t.cdf(T, n - 2), 1 - stats.t.cdf(T, n - 2))\n",
    "p_values.append(p_value)\n",
    "statisctics.append(r)\n",
    "assert(np.all(np.isclose(stats.spearmanr(X, Y), (r, p_value))))\n",
    "if p_value >= alpha:\n",
    "    print(f'p_value = {p_value} > 0.05 => остаемся в Н0 (СВ независимы)')\n",
    "    h.append(0)\n",
    "else:\n",
    "    print(f'p_value = {p_value} < 0.05 => отвергаем Н0 (СВ зависимы)')\n",
    "    h.append(3)"
   ]
  },
  {
   "cell_type": "markdown",
   "metadata": {},
   "source": [
    "### Задача 21.\n",
    "\n",
    "Поскольку в задаче явно указано использовать критерий Кендалла, то воспользуемся им. Требуется проверить независимость, поэтому введем следующие гипотезы.\n",
    "\n",
    "Основная гипотеза:\n",
    "$H_0:$ параметры независимы $\\sim r = 0$\n",
    "\n",
    "Альтернативная гипотеза:\n",
    "$H_3:$ параметры зависимы $\\sim r \\neq 0$"
   ]
  },
  {
   "cell_type": "markdown",
   "metadata": {},
   "source": [
    "#### Kendall test"
   ]
  },
  {
   "cell_type": "code",
   "execution_count": 8,
   "metadata": {
    "ExecuteTime": {
     "end_time": "2020-04-05T17:15:37.692108Z",
     "start_time": "2020-04-05T17:15:37.683105Z"
    }
   },
   "outputs": [],
   "source": [
    "X = np.array([13, 7, 10, 9, 9, 13, 8, 9, 5, 24, 12, 8, 3, 6, 3, 18,\n",
    "             16, 16, 14, 3, 14, 8, 5, 7, 10, 11, 4, 31, 12, 9, 6,\n",
    "             12, 4, 10, 5, 11, 13, 7, 17, 8, 9, 10, 6, 5, 6, 4,\n",
    "             11, 11, 3, 7, 8, 11, 9, 11, 8, 7, 9, 6, 9, 9, 11, 11, 5, 8, 4])\n",
    "Y = np.array([62.4, 69.3, 63.3, 67.8, 69.3, 68.4, 66.3, 60, 66.3, 78, 72.6,\n",
    "             60.9, 61.5, 70.8, 62.1, 65.7, 62.1, 72.6, 70.5, 66.6, 63.3,\n",
    "             72.9, 72.9, 58.2, 68.1, 67.8, 63.3, 72.9, 67.2, 64.8, \n",
    "             68.7, 68.4, 64.5, 74.1, 71.7, 67.8, 68.1, 25.1, 78.9,\n",
    "             64.5, 57.6, 71.7, 52.2, 59.7, 48, 62.1, 81.3, 65.1, 63.9, 54.9,\n",
    "             54.3, 54.6, 62.7, 62.7, 63.9, 64.2, 66.3, 65.4, 67.2, 69,\n",
    "             56.7, 77.7, 57, 61.5, 65.7])\n",
    "n = X.size"
   ]
  },
  {
   "cell_type": "code",
   "execution_count": 9,
   "metadata": {
    "ExecuteTime": {
     "end_time": "2020-04-05T17:15:37.714112Z",
     "start_time": "2020-04-05T17:15:37.693107Z"
    }
   },
   "outputs": [
    {
     "name": "stdout",
     "output_type": "stream",
     "text": [
      "p_value = 0.0024220496764277843 < 0.05 => отвергаем Н0 (параметры зависимы)\n"
     ]
    }
   ],
   "source": [
    "def calc_u(X):\n",
    "    u = 0\n",
    "    for _, count in Counter(X).most_common():\n",
    "        u += count ** 2 - count\n",
    "    return u / 2\n",
    "\n",
    "u_1 = calc_u(stats.rankdata(X))\n",
    "u_2 = calc_u(stats.rankdata(Y))\n",
    "tau = 0\n",
    "for i in range(n-1):\n",
    "    for j in range(i+1, n):\n",
    "        tau += np.sign((X[i] - X[j]) * (Y[i] - Y[j]))\n",
    "tau /= np.sqrt(n * (n-1) / 2 - u_1) * np.sqrt(n * (n-1) / 2 - u_2)\n",
    "D = (4 * n + 10) / (9 * n * (n - 1))\n",
    "T = tau / np.sqrt(D)\n",
    "p_value = 2 * min(stats.norm.cdf(T), 1 - stats.norm.cdf(T))\n",
    "p_values.append(p_value)\n",
    "statisctics.append(tau)\n",
    "if p_value >= alpha:\n",
    "    print(f'p_value = {p_value} > 0.05 => остаемся в Н0 (параметры независимы)')\n",
    "    h.append(0)\n",
    "else:\n",
    "    print(f'p_value = {p_value} < 0.05 => отвергаем Н0 (параметры зависимы)')\n",
    "    h.append(3)"
   ]
  },
  {
   "cell_type": "code",
   "execution_count": 10,
   "metadata": {
    "ExecuteTime": {
     "end_time": "2020-04-05T17:15:37.725114Z",
     "start_time": "2020-04-05T17:15:37.715113Z"
    }
   },
   "outputs": [
    {
     "data": {
      "text/plain": [
       "(0.0024220496764277843, 0.0034475221032775885)"
      ]
     },
     "execution_count": 10,
     "metadata": {},
     "output_type": "execute_result"
    }
   ],
   "source": [
    "assert(np.isclose(tau, stats.kendalltau(X, Y)[0]))\n",
    "p_value, stats.kendalltau(X, Y)[1]"
   ]
  },
  {
   "cell_type": "markdown",
   "metadata": {},
   "source": [
    "Неудивительно, что p_value, посчитанное ручками, отличается от библиотечной, т.к. мы используем нормальную апроксимацию в предположении справедливости $H_0$, а т.к. она несправедлива, то и значение p_value неточное."
   ]
  },
  {
   "cell_type": "code",
   "execution_count": 11,
   "metadata": {
    "ExecuteTime": {
     "end_time": "2020-04-05T17:15:37.732117Z",
     "start_time": "2020-04-05T17:15:37.726115Z"
    }
   },
   "outputs": [],
   "source": [
    "answer = pd.DataFrame()\n",
    "answer['task'] = tasks\n",
    "answer['stat'] = statisctics\n",
    "answer['p'] = p_values\n",
    "answer['h'] = h"
   ]
  },
  {
   "cell_type": "code",
   "execution_count": 12,
   "metadata": {
    "ExecuteTime": {
     "end_time": "2020-04-05T17:15:37.743119Z",
     "start_time": "2020-04-05T17:15:37.733117Z"
    }
   },
   "outputs": [],
   "source": [
    "answer.to_csv('lab4_answer.csv', index=False)"
   ]
  },
  {
   "cell_type": "markdown",
   "metadata": {},
   "source": [
    "check all is written ok"
   ]
  },
  {
   "cell_type": "code",
   "execution_count": 13,
   "metadata": {
    "ExecuteTime": {
     "end_time": "2020-04-05T17:15:37.756121Z",
     "start_time": "2020-04-05T17:15:37.744119Z"
    }
   },
   "outputs": [
    {
     "data": {
      "text/html": [
       "<div>\n",
       "<style scoped>\n",
       "    .dataframe tbody tr th:only-of-type {\n",
       "        vertical-align: middle;\n",
       "    }\n",
       "\n",
       "    .dataframe tbody tr th {\n",
       "        vertical-align: top;\n",
       "    }\n",
       "\n",
       "    .dataframe thead th {\n",
       "        text-align: right;\n",
       "    }\n",
       "</style>\n",
       "<table border=\"1\" class=\"dataframe\">\n",
       "  <thead>\n",
       "    <tr style=\"text-align: right;\">\n",
       "      <th></th>\n",
       "      <th>task</th>\n",
       "      <th>stat</th>\n",
       "      <th>p</th>\n",
       "      <th>h</th>\n",
       "    </tr>\n",
       "  </thead>\n",
       "  <tbody>\n",
       "    <tr>\n",
       "      <td>0</td>\n",
       "      <td>6</td>\n",
       "      <td>0.738096</td>\n",
       "      <td>0.001679</td>\n",
       "      <td>3</td>\n",
       "    </tr>\n",
       "    <tr>\n",
       "      <td>1</td>\n",
       "      <td>19</td>\n",
       "      <td>-0.067407</td>\n",
       "      <td>0.804107</td>\n",
       "      <td>0</td>\n",
       "    </tr>\n",
       "    <tr>\n",
       "      <td>2</td>\n",
       "      <td>21</td>\n",
       "      <td>0.257557</td>\n",
       "      <td>0.002422</td>\n",
       "      <td>3</td>\n",
       "    </tr>\n",
       "  </tbody>\n",
       "</table>\n",
       "</div>"
      ],
      "text/plain": [
       "   task      stat         p  h\n",
       "0     6  0.738096  0.001679  3\n",
       "1    19 -0.067407  0.804107  0\n",
       "2    21  0.257557  0.002422  3"
      ]
     },
     "execution_count": 13,
     "metadata": {},
     "output_type": "execute_result"
    }
   ],
   "source": [
    "pd.read_csv('lab4_answer.csv')"
   ]
  }
 ],
 "metadata": {
  "kernelspec": {
   "display_name": "Python 3",
   "language": "python",
   "name": "python3"
  },
  "language_info": {
   "codemirror_mode": {
    "name": "ipython",
    "version": 3
   },
   "file_extension": ".py",
   "mimetype": "text/x-python",
   "name": "python",
   "nbconvert_exporter": "python",
   "pygments_lexer": "ipython3",
   "version": "3.7.3"
  }
 },
 "nbformat": 4,
 "nbformat_minor": 2
}
