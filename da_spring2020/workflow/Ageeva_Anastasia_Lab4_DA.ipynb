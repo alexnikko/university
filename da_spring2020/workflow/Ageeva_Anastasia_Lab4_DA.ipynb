{
 "cells": [
  {
   "cell_type": "code",
   "execution_count": 1,
   "metadata": {
    "ExecuteTime": {
     "end_time": "2020-04-05T19:50:09.357752Z",
     "start_time": "2020-04-05T19:50:08.672935Z"
    }
   },
   "outputs": [],
   "source": [
    "import pandas as pd\n",
    "import numpy as np\n",
    "from scipy import stats\n",
    "from collections import Counter"
   ]
  },
  {
   "cell_type": "code",
   "execution_count": 2,
   "metadata": {
    "ExecuteTime": {
     "end_time": "2020-04-05T19:50:09.362754Z",
     "start_time": "2020-04-05T19:50:09.358752Z"
    }
   },
   "outputs": [],
   "source": [
    "tasks = [23, 13, 6]\n",
    "statistics = [0, 0, 0]\n",
    "p_vs = [0, 0, 0]\n",
    "h = [0, 0, 0]"
   ]
  },
  {
   "cell_type": "markdown",
   "metadata": {},
   "source": [
    "**Задача №6**\n",
    "\n",
    "Данные имеют нормальное распределение и не являются константными, поэтому воспользуемся *критерием Пирсона*.\n",
    "\n",
    "H0: \"данные независимы, то есть r = 0\"\n",
    "\n",
    "H1: \"данные зависимы, то есть r != 0\""
   ]
  },
  {
   "cell_type": "code",
   "execution_count": 3,
   "metadata": {
    "ExecuteTime": {
     "end_time": "2020-04-05T19:50:09.375757Z",
     "start_time": "2020-04-05T19:50:09.364755Z"
    }
   },
   "outputs": [
    {
     "name": "stdout",
     "output_type": "stream",
     "text": [
      "p_value =  0.0016793308942941731  < 0.05 => отвергаем Н0, данные зависимы\n"
     ]
    }
   ],
   "source": [
    "X = np.array([1.05, 1.06, 0.74, 0.88, 0.92, 1.17, 1.07, 1.12, 1.02, 1.02,\n",
    "              0.65, 1.25, 1.01, 0.69, 1.13])\n",
    "Y = np.array([346.2, 378.3, 330.3, 238.8, 331.1, 431.0, 408.3, 383.5, 341.4,\n",
    "             352.8, 338.1, 446.9, 326.6, 274.7, 381.0])\n",
    "n = 15\n",
    "alpha = 0.05\n",
    "\n",
    "# Выборочная ковариация\n",
    "k = np.sum(X*Y)/n - X.mean()*Y.mean()\n",
    "\n",
    "# Статистика\n",
    "r = k/np.sqrt(np.var(X)*np.var(Y)) \n",
    "statistics[2] = r\n",
    "\n",
    "# Статистика с распределением Стьюдента\n",
    "T = np.sqrt(n - 2)*r/np.sqrt(1 - r**2) \n",
    "\n",
    "p_value = 2*min(stats.t.cdf(T, n - 2), 1 - stats.t.cdf(T, n - 2))\n",
    "p_vs[2] = p_value\n",
    "\n",
    "if p_value >= alpha:\n",
    "    print('p_value = ', p_value, ' > 0.05 => принимаем Н0, данные независимы')\n",
    "else:\n",
    "    print('p_value = ', p_value, ' < 0.05 => отвергаем Н0, данные зависимы')\n",
    "    h[2] = 1"
   ]
  },
  {
   "cell_type": "code",
   "execution_count": 4,
   "metadata": {
    "ExecuteTime": {
     "end_time": "2020-04-05T19:50:09.379758Z",
     "start_time": "2020-04-05T19:50:09.376757Z"
    }
   },
   "outputs": [
    {
     "name": "stdout",
     "output_type": "stream",
     "text": [
      "0.7380957840150532 0.0016793308942941731 1\n"
     ]
    }
   ],
   "source": [
    "print(statistics[2], p_vs[2], h[2])"
   ]
  },
  {
   "cell_type": "code",
   "execution_count": 5,
   "metadata": {
    "ExecuteTime": {
     "end_time": "2020-04-05T19:50:09.391760Z",
     "start_time": "2020-04-05T19:50:09.381759Z"
    }
   },
   "outputs": [
    {
     "data": {
      "text/plain": [
       "(0.7380957840150566, 0.001679330894294085)"
      ]
     },
     "execution_count": 5,
     "metadata": {},
     "output_type": "execute_result"
    }
   ],
   "source": [
    "stats.pearsonr(X, Y)"
   ]
  },
  {
   "cell_type": "markdown",
   "metadata": {},
   "source": [
    "**Задача №23**\n",
    "\n",
    "Нужно проверить гипотезу о независимости параметров с использованием *критерия Спирмена*\n",
    "\n",
    "H0: \"параметры независимы, то есть r = 0\"\n",
    "\n",
    "H1: \"параметры зависимы, то есть r != 0\""
   ]
  },
  {
   "cell_type": "code",
   "execution_count": 6,
   "metadata": {
    "ExecuteTime": {
     "end_time": "2020-04-05T19:50:09.402762Z",
     "start_time": "2020-04-05T19:50:09.392761Z"
    }
   },
   "outputs": [
    {
     "data": {
      "text/plain": [
       "60"
      ]
     },
     "execution_count": 6,
     "metadata": {},
     "output_type": "execute_result"
    }
   ],
   "source": [
    "X = np.array([21, 21, 12, 18, 12, 18, 18, 12, 12, 6, 3, 3, 12, 6, 18, 12, 19, 24, 24, 9, \n",
    "              24, 12, 30, 18, 45, 54, 15, 24, 51, 18, 18, 54, 27, 21, 12, 15, 6, 6, 15, 18,\n",
    "             3, 12, 18, 9, 12, 12, 18, 18, 12, 18, 21, 15, 9, 15, 15, 9, 6, 6, 18, 3])\n",
    "Y = np.array([1.29, 1.14, 1.05, 1.05, 0.84, 0.48, 1.44, 1.2, 0.84, 0.6, 1.11, 0.48, 1.38, 1.26,1.65, \n",
    "             1.32, 0.48, 2.19, 1.38, 1.17, 1.71, 0.21, 1.17, 1.11, 0.66, 0.9, 1.38, 1.2, 1.17,0.87, \n",
    "             1.2, 0.96, 1.47, 1.38, 1.83, 1.53, 1.02, 1.32, 1.23, 1.05, 1.47, 1.35, 0.93, 0.06,0.03, \n",
    "             0.42, 1.77, 1.38, 0.45, 0.09, 0.87, 0.96, 0.96, 0.93, 1.38, 0.3, 0.39, 0.12, 0.33, 0.33])\n",
    "n = len(X)\n",
    "alpha = 0.05\n",
    "n"
   ]
  },
  {
   "cell_type": "code",
   "execution_count": 7,
   "metadata": {
    "ExecuteTime": {
     "end_time": "2020-04-05T19:50:09.411764Z",
     "start_time": "2020-04-05T19:50:09.403763Z"
    }
   },
   "outputs": [
    {
     "name": "stdout",
     "output_type": "stream",
     "text": [
      "p_value =  0.03967402433310441  < 0.05 => отвергаем Н0, параметры зависимы\n"
     ]
    }
   ],
   "source": [
    "# Ранги\n",
    "R = stats.rankdata(X) \n",
    "S = stats.rankdata(Y)\n",
    "\n",
    "# Статистика\n",
    "r = np.sum((R - R.mean())*(S - S.mean()))/np.sqrt(np.sum((R - R.mean())**2)*np.sum((S - S.mean())**2))\n",
    "statistics[0] = r\n",
    "\n",
    "# Нормальная апроксимация, т.к. n > 50\n",
    "T = np.sqrt(n - 1)*r \n",
    "p_value = 2*min(stats.norm.cdf(T), 1 - stats.norm.cdf(T))\n",
    "p_vs[0] = p_value\n",
    "\n",
    "if p_value >= alpha:\n",
    "    print('p_value = ', p_value, ' > 0.05 => принимаем Н0, параметры независимы')\n",
    "else:\n",
    "    print('p_value = ', p_value, ' < 0.05 => отвергаем Н0, параметры зависимы')\n",
    "    h[0] = 1"
   ]
  },
  {
   "cell_type": "code",
   "execution_count": 8,
   "metadata": {
    "ExecuteTime": {
     "end_time": "2020-04-05T19:50:09.418767Z",
     "start_time": "2020-04-05T19:50:09.413766Z"
    }
   },
   "outputs": [
    {
     "name": "stdout",
     "output_type": "stream",
     "text": [
      "0.26781510604919406 0.03967402433310441 1\n"
     ]
    }
   ],
   "source": [
    "print(statistics[0], p_vs[0], h[0])"
   ]
  },
  {
   "cell_type": "code",
   "execution_count": 9,
   "metadata": {
    "ExecuteTime": {
     "end_time": "2020-04-05T19:50:09.444994Z",
     "start_time": "2020-04-05T19:50:09.419766Z"
    }
   },
   "outputs": [
    {
     "data": {
      "text/plain": [
       "SpearmanrResult(correlation=0.267815106049194, pvalue=0.03856436139397096)"
      ]
     },
     "execution_count": 9,
     "metadata": {},
     "output_type": "execute_result"
    }
   ],
   "source": [
    "stats.spearmanr(X, Y)"
   ]
  },
  {
   "cell_type": "markdown",
   "metadata": {},
   "source": [
    "**Задача №13**\n",
    "\n",
    "Проверим независимость данных, используя *критерий Спирмена*\n",
    "\n",
    "H0: \"данные независимы, то есть r = 0\"\n",
    "    \n",
    "H1: \"данные зависимы, то есть r != 0\""
   ]
  },
  {
   "cell_type": "code",
   "execution_count": 10,
   "metadata": {
    "ExecuteTime": {
     "end_time": "2020-04-05T19:50:09.451996Z",
     "start_time": "2020-04-05T19:50:09.445995Z"
    }
   },
   "outputs": [
    {
     "data": {
      "text/plain": [
       "10"
      ]
     },
     "execution_count": 10,
     "metadata": {},
     "output_type": "execute_result"
    }
   ],
   "source": [
    "X = np.array([4, 1, 2, 2, 3, 2, 3, 1, 4, 3])\n",
    "Y = np.array([5, 3, 1, 4, 2, 5, 1, 3, 4, 2])\n",
    "n = len(X)\n",
    "alpha = 0.05\n",
    "n"
   ]
  },
  {
   "cell_type": "code",
   "execution_count": 11,
   "metadata": {
    "ExecuteTime": {
     "end_time": "2020-04-05T19:50:09.459997Z",
     "start_time": "2020-04-05T19:50:09.452995Z"
    }
   },
   "outputs": [
    {
     "name": "stdout",
     "output_type": "stream",
     "text": [
      "p_value =  0.7532095147184963  > 0.05 => принимаем Н0, параметры независимы\n"
     ]
    }
   ],
   "source": [
    "# Ранги\n",
    "R = stats.rankdata(X) \n",
    "S = stats.rankdata(Y)\n",
    "\n",
    "# Статистика\n",
    "r = np.sum((R - R.mean())*(S - S.mean()))/np.sqrt(np.sum((R - R.mean())**2)*np.sum((S - S.mean())**2))\n",
    "statistics[1] = r\n",
    "\n",
    "# Апроксимация Cтьюдента, т.к. n < 50\n",
    "T = np.sqrt(n - 2) * r / np.sqrt(1 - r ** 2) \n",
    "p_value = 2 * min(stats.t.cdf(T, n - 2), 1 - stats.t.cdf(T, n - 2))\n",
    "p_vs[1] = p_value\n",
    "\n",
    "if p_value >= alpha:\n",
    "    print('p_value = ', p_value, ' > 0.05 => принимаем Н0, параметры независимы')\n",
    "else:\n",
    "    print('p_value = ', p_value, ' < 0.05 => отвергаем Н0, параметры зависимы')\n",
    "    h[0] = 1"
   ]
  },
  {
   "cell_type": "code",
   "execution_count": 12,
   "metadata": {
    "ExecuteTime": {
     "end_time": "2020-04-05T19:50:09.464999Z",
     "start_time": "2020-04-05T19:50:09.460998Z"
    }
   },
   "outputs": [
    {
     "name": "stdout",
     "output_type": "stream",
     "text": [
      "0.11430011430017145 0.7532095147184963 0\n"
     ]
    }
   ],
   "source": [
    "print(statistics[1], p_vs[1], h[1])"
   ]
  },
  {
   "cell_type": "code",
   "execution_count": 13,
   "metadata": {
    "ExecuteTime": {
     "end_time": "2020-04-05T19:50:09.472000Z",
     "start_time": "2020-04-05T19:50:09.467000Z"
    }
   },
   "outputs": [
    {
     "data": {
      "text/plain": [
       "SpearmanrResult(correlation=0.11430011430017145, pvalue=0.7532095147184963)"
      ]
     },
     "execution_count": 13,
     "metadata": {},
     "output_type": "execute_result"
    }
   ],
   "source": [
    "stats.spearmanr(X, Y)"
   ]
  },
  {
   "cell_type": "code",
   "execution_count": 14,
   "metadata": {
    "ExecuteTime": {
     "end_time": "2020-04-05T19:50:09.477001Z",
     "start_time": "2020-04-05T19:50:09.473001Z"
    }
   },
   "outputs": [
    {
     "data": {
      "text/plain": [
       "[0.26781510604919406, 0.11430011430017145, 0.7380957840150532]"
      ]
     },
     "execution_count": 14,
     "metadata": {},
     "output_type": "execute_result"
    }
   ],
   "source": [
    "statistics"
   ]
  },
  {
   "cell_type": "markdown",
   "metadata": {},
   "source": [
    "**Запись в файл**"
   ]
  },
  {
   "cell_type": "code",
   "execution_count": 16,
   "metadata": {
    "ExecuteTime": {
     "end_time": "2020-04-05T19:50:46.268678Z",
     "start_time": "2020-04-05T19:50:46.263677Z"
    }
   },
   "outputs": [],
   "source": [
    "answer = pd.DataFrame()\n",
    "answer['task'] = tasks\n",
    "answer['stat'] = statistics\n",
    "answer['p'] = p_vs\n",
    "answer['h'] = h"
   ]
  },
  {
   "cell_type": "code",
   "execution_count": null,
   "metadata": {},
   "outputs": [],
   "source": []
  }
 ],
 "metadata": {
  "kernelspec": {
   "display_name": "Python 3",
   "language": "python",
   "name": "python3"
  },
  "language_info": {
   "codemirror_mode": {
    "name": "ipython",
    "version": 3
   },
   "file_extension": ".py",
   "mimetype": "text/x-python",
   "name": "python",
   "nbconvert_exporter": "python",
   "pygments_lexer": "ipython3",
   "version": "3.7.4"
  }
 },
 "nbformat": 4,
 "nbformat_minor": 2
}
