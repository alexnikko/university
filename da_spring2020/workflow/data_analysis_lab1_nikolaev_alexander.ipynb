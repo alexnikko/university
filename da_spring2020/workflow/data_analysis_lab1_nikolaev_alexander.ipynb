{
 "cells": [
  {
   "cell_type": "markdown",
   "metadata": {},
   "source": [
    "### Николаев Александр НФИбд-01-17. Лабораторная работа № 1. С/б № 1032172712"
   ]
  },
  {
   "cell_type": "code",
   "execution_count": 1,
   "metadata": {
    "ExecuteTime": {
     "end_time": "2020-02-19T18:23:08.259674Z",
     "start_time": "2020-02-19T18:23:06.422443Z"
    }
   },
   "outputs": [],
   "source": [
    "import pandas as pd\n",
    "import numpy as np\n",
    "import matplotlib.pyplot as plt\n",
    "import seaborn as sns\n",
    "from scipy.stats import norm, sem\n",
    "%matplotlib inline"
   ]
  },
  {
   "cell_type": "markdown",
   "metadata": {},
   "source": [
    "Считаем данные и построим распределение"
   ]
  },
  {
   "cell_type": "code",
   "execution_count": 2,
   "metadata": {
    "ExecuteTime": {
     "end_time": "2020-02-19T18:23:08.846955Z",
     "start_time": "2020-02-19T18:23:08.265510Z"
    }
   },
   "outputs": [
    {
     "data": {
      "image/png": "[encoded data removed]",
      "text/plain": [
       "<Figure size 432x288 with 1 Axes>"
      ]
     },
     "metadata": {
      "needs_background": "light"
     },
     "output_type": "display_data"
    }
   ],
   "source": [
    "data = pd.read_csv('data.csv', header=None)\n",
    "data = data.to_numpy().ravel()\n",
    "sns.distplot(data);"
   ]
  },
  {
   "cell_type": "markdown",
   "metadata": {},
   "source": [
    "Реализуем ручками функции поиска основных статистик"
   ]
  },
  {
   "cell_type": "code",
   "execution_count": 3,
   "metadata": {
    "ExecuteTime": {
     "end_time": "2020-02-19T18:23:08.885858Z",
     "start_time": "2020-02-19T18:23:08.854939Z"
    }
   },
   "outputs": [],
   "source": [
    "def mean(a):\n",
    "    n = 0\n",
    "    s = 0\n",
    "    for x in a:\n",
    "        s += x\n",
    "        n += 1\n",
    "    return s / n\n",
    "\n",
    "\n",
    "def median(a):\n",
    "    a = np.sort(a)\n",
    "    n = a.size\n",
    "    return a[n // 2] if n % 2 == 1 else (a[n // 2] + a[n // 2 - 1]) / 2\n",
    "\n",
    "\n",
    "def variance(a):\n",
    "    x_mean = mean(a)\n",
    "    s = 0\n",
    "    for x in a:\n",
    "        s += (x - x_mean) ** 2\n",
    "    return s / (a.size - 1)\n",
    "\n",
    "\n",
    "def std(a):\n",
    "    return np.sqrt(variance(a))\n",
    "\n",
    "\n",
    "def quartile(a, k): # k = 1 or k = 3\n",
    "    m = median(a)\n",
    "    a = np.sort(a)\n",
    "    if k == 1:\n",
    "        a = a[:a.size // 2] if a.size % 2 == 0 else a[:a.size // 2]\n",
    "    else:\n",
    "        a = a[a.size // 2:] \n",
    "    return median(a)"
   ]
  },
  {
   "cell_type": "markdown",
   "metadata": {},
   "source": [
    "Найдем все статистики, который просят в задании"
   ]
  },
  {
   "cell_type": "code",
   "execution_count": 4,
   "metadata": {
    "ExecuteTime": {
     "end_time": "2020-02-19T18:23:08.938708Z",
     "start_time": "2020-02-19T18:23:08.891883Z"
    }
   },
   "outputs": [
    {
     "name": "stdout",
     "output_type": "stream",
     "text": [
      "Среднее = 54.437415881561236\n",
      "Медиана = 51\n",
      "Дисперсия = 432.34344991710543\n",
      "Стандартное отклонение = 20.792870170255608\n",
      "1-й квартиль = 39\n",
      "3-й квартиль = 64.0\n"
     ]
    }
   ],
   "source": [
    "m = mean(data)\n",
    "med = median(data)\n",
    "var = variance(data)\n",
    "s = std(data)\n",
    "q1 = quartile(data, 1)\n",
    "q3 = quartile(data, 3)\n",
    "print(f'''Среднее = {m}\n",
    "Медиана = {med}\n",
    "Дисперсия = {var}\n",
    "Стандартное отклонение = {s}\n",
    "1-й квартиль = {q1}\n",
    "3-й квартиль = {q3}''')"
   ]
  },
  {
   "cell_type": "markdown",
   "metadata": {},
   "source": [
    "Проверим, что все реализованные ручками функции нашли значения такие же, как это сделали бы numpy функции"
   ]
  },
  {
   "cell_type": "code",
   "execution_count": 5,
   "metadata": {
    "ExecuteTime": {
     "end_time": "2020-02-19T18:23:08.965155Z",
     "start_time": "2020-02-19T18:23:08.943696Z"
    }
   },
   "outputs": [],
   "source": [
    "assert(m == np.mean(data))\n",
    "assert(med == np.median(data))\n",
    "assert(q1 == np.quantile(data, 0.25))\n",
    "assert(q3 == np.quantile(data, 0.75))\n",
    "assert(np.isclose(var, np.var(data, ddof=1)))\n",
    "assert(np.isclose(s, np.std(data, ddof=1)))"
   ]
  },
  {
   "cell_type": "markdown",
   "metadata": {},
   "source": [
    "Посчитаем 79.1% доверительный интервал для оценки суммы генеральной совокупности"
   ]
  },
  {
   "cell_type": "code",
   "execution_count": 6,
   "metadata": {
    "ExecuteTime": {
     "end_time": "2020-02-19T18:23:08.990576Z",
     "start_time": "2020-02-19T18:23:08.969625Z"
    }
   },
   "outputs": [
    {
     "name": "stdout",
     "output_type": "stream",
     "text": [
      "sum = 1658327.0 in: [1629491.2653073838; 1687162.7346926162]\n"
     ]
    }
   ],
   "source": [
    "N = 30463\n",
    "n = data.size\n",
    "confidence = 0.791\n",
    "alpha = 1 - confidence\n",
    "fpc = np.sqrt(1 - n / N)\n",
    "left_quantile = norm.ppf(alpha / 2)\n",
    "right_quantile = norm.ppf(1 - alpha / 2)\n",
    "assert(np.isclose(left_quantile,-right_quantile))\n",
    "sum_hat = N * m\n",
    "std_sum_error = N * s * fpc / np.sqrt(n)\n",
    "sum_hat_L = sum_hat + left_quantile * std_sum_error\n",
    "sum_hat_R = sum_hat + right_quantile * std_sum_error\n",
    "print(f'sum = {sum_hat} in: [{sum_hat_L}; {sum_hat_R}]')"
   ]
  },
  {
   "cell_type": "markdown",
   "metadata": {},
   "source": [
    "Он же, только без поправки на FPC (долю популяции)"
   ]
  },
  {
   "cell_type": "code",
   "execution_count": 7,
   "metadata": {
    "ExecuteTime": {
     "end_time": "2020-02-19T18:23:09.013615Z",
     "start_time": "2020-02-19T18:23:08.999210Z"
    },
    "scrolled": true
   },
   "outputs": [
    {
     "data": {
      "text/plain": [
       "(1629133.0436880416, 1687520.9563119581)"
      ]
     },
     "execution_count": 7,
     "metadata": {},
     "output_type": "execute_result"
    }
   ],
   "source": [
    "interval = norm.interval(0.791, loc=np.mean(data), scale=sem(data))\n",
    "interval[0] * N, interval[1] * N"
   ]
  },
  {
   "cell_type": "markdown",
   "metadata": {},
   "source": [
    "very close to our evaluation"
   ]
  },
  {
   "cell_type": "code",
   "execution_count": 37,
   "metadata": {},
   "outputs": [],
   "source": [
    "pd.DataFrame(np.array([m, med, var, s, q1, q3, sum_hat_L, sum_hat_R])).to_csv('result')"
   ]
  },
  {
   "cell_type": "code",
   "execution_count": 38,
   "metadata": {},
   "outputs": [
    {
     "data": {
      "text/html": [
       "<div>\n",
       "<style scoped>\n",
       "    .dataframe tbody tr th:only-of-type {\n",
       "        vertical-align: middle;\n",
       "    }\n",
       "\n",
       "    .dataframe tbody tr th {\n",
       "        vertical-align: top;\n",
       "    }\n",
       "\n",
       "    .dataframe thead th {\n",
       "        text-align: right;\n",
       "    }\n",
       "</style>\n",
       "<table border=\"1\" class=\"dataframe\">\n",
       "  <thead>\n",
       "    <tr style=\"text-align: right;\">\n",
       "      <th></th>\n",
       "      <th>Unnamed: 0</th>\n",
       "      <th>0</th>\n",
       "    </tr>\n",
       "  </thead>\n",
       "  <tbody>\n",
       "    <tr>\n",
       "      <td>0</td>\n",
       "      <td>0</td>\n",
       "      <td>54.437</td>\n",
       "    </tr>\n",
       "    <tr>\n",
       "      <td>1</td>\n",
       "      <td>1</td>\n",
       "      <td>51.000</td>\n",
       "    </tr>\n",
       "    <tr>\n",
       "      <td>2</td>\n",
       "      <td>2</td>\n",
       "      <td>432.343</td>\n",
       "    </tr>\n",
       "    <tr>\n",
       "      <td>3</td>\n",
       "      <td>3</td>\n",
       "      <td>20.793</td>\n",
       "    </tr>\n",
       "    <tr>\n",
       "      <td>4</td>\n",
       "      <td>4</td>\n",
       "      <td>39.000</td>\n",
       "    </tr>\n",
       "    <tr>\n",
       "      <td>5</td>\n",
       "      <td>5</td>\n",
       "      <td>64.000</td>\n",
       "    </tr>\n",
       "    <tr>\n",
       "      <td>6</td>\n",
       "      <td>6</td>\n",
       "      <td>1629491.265</td>\n",
       "    </tr>\n",
       "    <tr>\n",
       "      <td>7</td>\n",
       "      <td>7</td>\n",
       "      <td>1687162.735</td>\n",
       "    </tr>\n",
       "  </tbody>\n",
       "</table>\n",
       "</div>"
      ],
      "text/plain": [
       "   Unnamed: 0            0\n",
       "0           0       54.437\n",
       "1           1       51.000\n",
       "2           2      432.343\n",
       "3           3       20.793\n",
       "4           4       39.000\n",
       "5           5       64.000\n",
       "6           6  1629491.265\n",
       "7           7  1687162.735"
      ]
     },
     "execution_count": 38,
     "metadata": {},
     "output_type": "execute_result"
    }
   ],
   "source": [
    "xd = pd.read_csv('result.csv')\n",
    "xd"
   ]
  },
  {
   "cell_type": "code",
   "execution_count": null,
   "metadata": {},
   "outputs": [],
   "source": []
  }
 ],
 "metadata": {
  "kernelspec": {
   "display_name": "Python 3",
   "language": "python",
   "name": "python3"
  },
  "language_info": {
   "codemirror_mode": {
    "name": "ipython",
    "version": 3
   },
   "file_extension": ".py",
   "mimetype": "text/x-python",
   "name": "python",
   "nbconvert_exporter": "python",
   "pygments_lexer": "ipython3",
   "version": "3.7.3"
  }
 },
 "nbformat": 4,
 "nbformat_minor": 4
}
