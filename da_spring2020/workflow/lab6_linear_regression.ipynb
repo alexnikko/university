{
 "cells": [
  {
   "cell_type": "code",
   "execution_count": 1,
   "metadata": {
    "ExecuteTime": {
     "end_time": "2020-04-12T00:53:11.479906Z",
     "start_time": "2020-04-12T00:53:08.431719Z"
    }
   },
   "outputs": [],
   "source": [
    "import pandas as pd\n",
    "import numpy as np\n",
    "import matplotlib.pyplot as plt\n",
    "%matplotlib inline\n",
    "import seaborn as sns\n",
    "sns.set(style='whitegrid')\n",
    "from scipy import stats\n",
    "from sklearn.linear_model import LinearRegression"
   ]
  },
  {
   "cell_type": "markdown",
   "metadata": {},
   "source": [
    "###### Чуть-чуть справки\n",
    "\n",
    "Пусть необходимо восстановить целевой вектор значений по известным значениям предикторов. Предполагается, что $y_i = f(w, x_i) + \\varepsilon_i$ и $f$ - линейная функция. Тогда такая задача называется задачей линейной (множественной) регрессии.\n",
    "\n",
    "Определим модель, следующим образом:\n",
    "$$y_i = w_1 + wx_i + \\varepsilon_i$$\n",
    "$w = (w_1, w)^T$ - вектор параметров\n",
    "\n",
    "В матричном виде, можно записать так:\n",
    "$$y = WX + E$$\n",
    "\n",
    "Необходимо найти матрицу параметров $W$. Задача имеет следующее решение:\n",
    "\n",
    "$$W = (X^T X)^{-1} X^Ty$$\n",
    "\n",
    "При этом, в $X$ содержится столбец констант, чтобы найти значение свободного члена линейной модели."
   ]
  },
  {
   "cell_type": "markdown",
   "metadata": {},
   "source": [
    "###### Перейдем к решению задания."
   ]
  },
  {
   "cell_type": "markdown",
   "metadata": {},
   "source": [
    "Создадим функцию, которая находит уравнение линейной регрессии"
   ]
  },
  {
   "cell_type": "code",
   "execution_count": 2,
   "metadata": {
    "ExecuteTime": {
     "end_time": "2020-04-12T00:53:11.490857Z",
     "start_time": "2020-04-12T00:53:11.479906Z"
    }
   },
   "outputs": [],
   "source": [
    "def build_linear_regression_model(X, y):\n",
    "    '''\n",
    "    input: numpy.ndarray X - matrix of size (n x k), where n - number of samples and k - number of features\n",
    "           numpy.ndarray y - target vector os size (n)\n",
    "    return:\n",
    "            numpy.ndarray weights: vector of size (k), coefficients\n",
    "            numpy.ndarray intercept\n",
    "    '''\n",
    "    # add intercept to X\n",
    "    X = np.c_[X, np.ones(X.shape[0])]\n",
    "    W_inv = np.linalg.inv(X.T @ X)\n",
    "    model = W_inv @ X.T @ y\n",
    "    return model[:X.shape[1]-1], model[-1]"
   ]
  },
  {
   "cell_type": "markdown",
   "metadata": {},
   "source": [
    "Считаем данные"
   ]
  },
  {
   "cell_type": "code",
   "execution_count": 3,
   "metadata": {
    "ExecuteTime": {
     "end_time": "2020-04-12T00:53:12.163462Z",
     "start_time": "2020-04-12T00:53:11.493849Z"
    }
   },
   "outputs": [],
   "source": [
    "data = pd.read_csv('https://raw.githubusercontent.com/zhukpm/da_spring2020/master/data/lw6/projects/1032172712/task.csv')"
   ]
  },
  {
   "cell_type": "code",
   "execution_count": 4,
   "metadata": {
    "ExecuteTime": {
     "end_time": "2020-04-12T00:53:12.190015Z",
     "start_time": "2020-04-12T00:53:12.163462Z"
    }
   },
   "outputs": [
    {
     "data": {
      "text/html": [
       "<div>\n",
       "<style scoped>\n",
       "    .dataframe tbody tr th:only-of-type {\n",
       "        vertical-align: middle;\n",
       "    }\n",
       "\n",
       "    .dataframe tbody tr th {\n",
       "        vertical-align: top;\n",
       "    }\n",
       "\n",
       "    .dataframe thead th {\n",
       "        text-align: right;\n",
       "    }\n",
       "</style>\n",
       "<table border=\"1\" class=\"dataframe\">\n",
       "  <thead>\n",
       "    <tr style=\"text-align: right;\">\n",
       "      <th></th>\n",
       "      <th>x1</th>\n",
       "      <th>x2</th>\n",
       "      <th>x3</th>\n",
       "      <th>y</th>\n",
       "    </tr>\n",
       "  </thead>\n",
       "  <tbody>\n",
       "    <tr>\n",
       "      <th>0</th>\n",
       "      <td>-169.287181</td>\n",
       "      <td>-31.308543</td>\n",
       "      <td>29.748219</td>\n",
       "      <td>-1791.793095</td>\n",
       "    </tr>\n",
       "    <tr>\n",
       "      <th>1</th>\n",
       "      <td>-72.799979</td>\n",
       "      <td>-15.269879</td>\n",
       "      <td>50.400149</td>\n",
       "      <td>-1340.650872</td>\n",
       "    </tr>\n",
       "    <tr>\n",
       "      <th>2</th>\n",
       "      <td>-7.530038</td>\n",
       "      <td>-24.581447</td>\n",
       "      <td>32.318579</td>\n",
       "      <td>-709.772336</td>\n",
       "    </tr>\n",
       "    <tr>\n",
       "      <th>3</th>\n",
       "      <td>-35.632592</td>\n",
       "      <td>3.536118</td>\n",
       "      <td>28.394709</td>\n",
       "      <td>-107.073871</td>\n",
       "    </tr>\n",
       "    <tr>\n",
       "      <th>4</th>\n",
       "      <td>-137.006100</td>\n",
       "      <td>10.416910</td>\n",
       "      <td>18.953056</td>\n",
       "      <td>-1205.994278</td>\n",
       "    </tr>\n",
       "  </tbody>\n",
       "</table>\n",
       "</div>"
      ],
      "text/plain": [
       "           x1         x2         x3            y\n",
       "0 -169.287181 -31.308543  29.748219 -1791.793095\n",
       "1  -72.799979 -15.269879  50.400149 -1340.650872\n",
       "2   -7.530038 -24.581447  32.318579  -709.772336\n",
       "3  -35.632592   3.536118  28.394709  -107.073871\n",
       "4 -137.006100  10.416910  18.953056 -1205.994278"
      ]
     },
     "execution_count": 4,
     "metadata": {},
     "output_type": "execute_result"
    }
   ],
   "source": [
    "data.head()"
   ]
  },
  {
   "cell_type": "code",
   "execution_count": 5,
   "metadata": {
    "ExecuteTime": {
     "end_time": "2020-04-12T00:53:12.198990Z",
     "start_time": "2020-04-12T00:53:12.193007Z"
    }
   },
   "outputs": [],
   "source": [
    "X = data.iloc[:, :3].values\n",
    "y = data.y.values"
   ]
  },
  {
   "cell_type": "markdown",
   "metadata": {},
   "source": [
    "Построим по данным модель регрессии"
   ]
  },
  {
   "cell_type": "code",
   "execution_count": 6,
   "metadata": {
    "ExecuteTime": {
     "end_time": "2020-04-12T00:53:12.251856Z",
     "start_time": "2020-04-12T00:53:12.200984Z"
    }
   },
   "outputs": [
    {
     "data": {
      "text/plain": [
       "(array([ 8.6012258 , 15.26232043, -9.09064899]), -142.6511717454586)"
      ]
     },
     "execution_count": 6,
     "metadata": {},
     "output_type": "execute_result"
    }
   ],
   "source": [
    "weights, intercept = build_linear_regression_model(X, y)\n",
    "weights, intercept"
   ]
  },
  {
   "cell_type": "markdown",
   "metadata": {},
   "source": [
    "Проверим, что встроенная функция находит такие же коэффициенты и свободный член"
   ]
  },
  {
   "cell_type": "code",
   "execution_count": 7,
   "metadata": {
    "ExecuteTime": {
     "end_time": "2020-04-12T00:53:12.296764Z",
     "start_time": "2020-04-12T00:53:12.254841Z"
    }
   },
   "outputs": [
    {
     "data": {
      "text/plain": [
       "(array([ 8.6012258 , 15.26232043, -9.09064899]), -142.65117174546117)"
      ]
     },
     "execution_count": 7,
     "metadata": {},
     "output_type": "execute_result"
    }
   ],
   "source": [
    "lr = LinearRegression()\n",
    "lr.fit(X, y)\n",
    "lr.coef_, lr.intercept_"
   ]
  },
  {
   "cell_type": "markdown",
   "metadata": {},
   "source": [
    "Построим предсказания с помощью нашей модели"
   ]
  },
  {
   "cell_type": "code",
   "execution_count": 8,
   "metadata": {
    "ExecuteTime": {
     "end_time": "2020-04-12T00:53:12.307734Z",
     "start_time": "2020-04-12T00:53:12.300753Z"
    }
   },
   "outputs": [
    {
     "data": {
      "text/plain": [
       "array([-2347.00007619, -1460.04407135,  -876.38551516])"
      ]
     },
     "execution_count": 8,
     "metadata": {},
     "output_type": "execute_result"
    }
   ],
   "source": [
    "y_pred = X @ weights + intercept\n",
    "y_pred[:3] # first 3 preds"
   ]
  },
  {
   "cell_type": "markdown",
   "metadata": {},
   "source": [
    "Убедимся, что они совпадают со встроенной моделью"
   ]
  },
  {
   "cell_type": "code",
   "execution_count": 9,
   "metadata": {
    "ExecuteTime": {
     "end_time": "2020-04-12T00:53:12.327682Z",
     "start_time": "2020-04-12T00:53:12.311724Z"
    }
   },
   "outputs": [
    {
     "data": {
      "text/plain": [
       "array([-2347.00007619, -1460.04407135,  -876.38551516])"
      ]
     },
     "execution_count": 9,
     "metadata": {},
     "output_type": "execute_result"
    }
   ],
   "source": [
    "y_pred_lr = lr.predict(X)\n",
    "y_pred_lr[:3] # first 3 preds"
   ]
  },
  {
   "cell_type": "markdown",
   "metadata": {},
   "source": [
    "Построим графики совместных распределений предикторов и целевой переменной с нанесением уравнения нашей модели"
   ]
  },
  {
   "cell_type": "code",
   "execution_count": 10,
   "metadata": {
    "ExecuteTime": {
     "end_time": "2020-04-12T00:53:12.338652Z",
     "start_time": "2020-04-12T00:53:12.331679Z"
    }
   },
   "outputs": [],
   "source": [
    "x1 = X[:, 0]\n",
    "x2 = X[:, 1]\n",
    "x3 = X[:, 2]\n",
    "\n",
    "x1_argmin = x1.argmin()\n",
    "x1_argmax = x1.argmax()\n",
    "x2_argmin = x2.argmin()\n",
    "x2_argmax = x2.argmax()\n",
    "x3_argmin = x3.argmin()\n",
    "x3_argmax = x3.argmax()"
   ]
  },
  {
   "cell_type": "code",
   "execution_count": 11,
   "metadata": {
    "ExecuteTime": {
     "end_time": "2020-04-12T00:53:12.787905Z",
     "start_time": "2020-04-12T00:53:12.341643Z"
    }
   },
   "outputs": [
    {
     "data": {
      "image/png": "[encoded data removed]",
      "text/plain": [
       "<Figure size 432x288 with 1 Axes>"
      ]
     },
     "metadata": {},
     "output_type": "display_data"
    }
   ],
   "source": [
    "sns.scatterplot(x1, y)\n",
    "\n",
    "minimax = np.array([x1.min(), x1.max()])\n",
    "plt.plot(minimax, y_pred_lr[[x1_argmin, x1_argmax]], 'r-')\n",
    "plt.xlabel('x1')\n",
    "plt.ylabel('y')\n",
    "\n",
    "plt.show()"
   ]
  },
  {
   "cell_type": "code",
   "execution_count": 12,
   "metadata": {
    "ExecuteTime": {
     "end_time": "2020-04-12T00:53:13.168774Z",
     "start_time": "2020-04-12T00:53:12.790897Z"
    }
   },
   "outputs": [
    {
     "data": {
      "image/png": "[encoded data removed]",
      "text/plain": [
       "<Figure size 432x288 with 1 Axes>"
      ]
     },
     "metadata": {},
     "output_type": "display_data"
    }
   ],
   "source": [
    "sns.scatterplot(x2, y)\n",
    "minimax = np.array([x2.min(), x2.max()])\n",
    "plt.plot(minimax, y_pred_lr[[x2_argmin, x2_argmax]], 'r-')\n",
    "plt.xlabel('x2')\n",
    "plt.ylabel('y')\n",
    "\n",
    "plt.show()"
   ]
  },
  {
   "cell_type": "code",
   "execution_count": 13,
   "metadata": {
    "ExecuteTime": {
     "end_time": "2020-04-12T00:53:13.528907Z",
     "start_time": "2020-04-12T00:53:13.170757Z"
    }
   },
   "outputs": [
    {
     "data": {
      "image/png": "[encoded data removed]",
      "text/plain": [
       "<Figure size 432x288 with 1 Axes>"
      ]
     },
     "metadata": {},
     "output_type": "display_data"
    }
   ],
   "source": [
    "sns.scatterplot(x3, y)\n",
    "\n",
    "minimax = np.array([x3.min(), x3.max()])\n",
    "plt.plot(minimax, y_pred_lr[[x3_argmin, x3_argmax]], 'r-')\n",
    "plt.xlabel('x3')\n",
    "plt.ylabel('y')\n",
    "\n",
    "plt.show()"
   ]
  },
  {
   "cell_type": "markdown",
   "metadata": {},
   "source": [
    "Построим график распределения остатков модели"
   ]
  },
  {
   "cell_type": "code",
   "execution_count": 14,
   "metadata": {
    "ExecuteTime": {
     "end_time": "2020-04-12T00:53:13.886717Z",
     "start_time": "2020-04-12T00:53:13.531905Z"
    }
   },
   "outputs": [
    {
     "data": {
      "image/png": "[encoded data removed]",
      "text/plain": [
       "<Figure size 432x288 with 1 Axes>"
      ]
     },
     "metadata": {},
     "output_type": "display_data"
    }
   ],
   "source": [
    "dy = y - y_pred # остатки\n",
    "sns.distplot(dy)\n",
    "plt.show()"
   ]
  },
  {
   "cell_type": "markdown",
   "metadata": {},
   "source": [
    "Проверим распределение остатков на нормальности. Примем уровень значимости $\\alpha = 0.05$ и сделаем вывод."
   ]
  },
  {
   "cell_type": "code",
   "execution_count": 15,
   "metadata": {
    "ExecuteTime": {
     "end_time": "2020-04-12T00:53:13.905618Z",
     "start_time": "2020-04-12T00:53:13.889665Z"
    }
   },
   "outputs": [
    {
     "name": "stdout",
     "output_type": "stream",
     "text": [
      "p_value = 0.7448436617851257\n"
     ]
    }
   ],
   "source": [
    "_, p_value = stats.shapiro(dy)\n",
    "print('p_value =', p_value)"
   ]
  },
  {
   "cell_type": "markdown",
   "metadata": {},
   "source": [
    "Посколько p_value > 0.05 $\\Rightarrow$ остаемся в рамках гипотезы $H_0$: остатки модели распределены нормально"
   ]
  },
  {
   "cell_type": "markdown",
   "metadata": {},
   "source": [
    "Проверим отсутствие систематической ошибки с помощью критерия Стьюдента. Пример уровень значимости $\\alpha = 0.05$\n",
    "\n",
    "$H_0$: ошибка отсутствует\n",
    "\n",
    "$H_1$ ошибка присутствует."
   ]
  },
  {
   "cell_type": "code",
   "execution_count": 16,
   "metadata": {
    "ExecuteTime": {
     "end_time": "2020-04-12T00:53:13.919586Z",
     "start_time": "2020-04-12T00:53:13.907612Z"
    }
   },
   "outputs": [
    {
     "name": "stdout",
     "output_type": "stream",
     "text": [
      "p_value = 0.9999999999999991\n"
     ]
    }
   ],
   "source": [
    "_, p_value = stats.ttest_1samp(dy, 0)\n",
    "print('p_value =', p_value)"
   ]
  },
  {
   "cell_type": "markdown",
   "metadata": {},
   "source": [
    "Посколько p_value > 0.05 $\\Rightarrow$ остаемся в рамках гипотезы $H_0$: систематическая ошибка отсутствует."
   ]
  },
  {
   "cell_type": "markdown",
   "metadata": {},
   "source": [
    "Построим графики совместных распределений предикторов и эмпирических значений целевой переменной против остатков."
   ]
  },
  {
   "cell_type": "code",
   "execution_count": 17,
   "metadata": {
    "ExecuteTime": {
     "end_time": "2020-04-12T00:53:14.303324Z",
     "start_time": "2020-04-12T00:53:13.921575Z"
    }
   },
   "outputs": [
    {
     "data": {
      "image/png": "[encoded data removed]",
      "text/plain": [
       "<Figure size 432x288 with 1 Axes>"
      ]
     },
     "metadata": {},
     "output_type": "display_data"
    }
   ],
   "source": [
    "sns.scatterplot(x1, dy)\n",
    "plt.xlabel('x1')\n",
    "plt.ylabel('Остатки')\n",
    "plt.show()"
   ]
  },
  {
   "cell_type": "code",
   "execution_count": 18,
   "metadata": {
    "ExecuteTime": {
     "end_time": "2020-04-12T00:53:14.704870Z",
     "start_time": "2020-04-12T00:53:14.305314Z"
    }
   },
   "outputs": [
    {
     "data": {
      "image/png": "[encoded data removed]",
      "text/plain": [
       "<Figure size 432x288 with 1 Axes>"
      ]
     },
     "metadata": {},
     "output_type": "display_data"
    }
   ],
   "source": [
    "sns.scatterplot(x2, dy)\n",
    "plt.xlabel('x2')\n",
    "plt.ylabel('Остатки')\n",
    "plt.show()"
   ]
  },
  {
   "cell_type": "code",
   "execution_count": 19,
   "metadata": {
    "ExecuteTime": {
     "end_time": "2020-04-12T00:53:15.022562Z",
     "start_time": "2020-04-12T00:53:14.706866Z"
    }
   },
   "outputs": [
    {
     "data": {
      "image/png": "[encoded data removed]",
      "text/plain": [
       "<Figure size 432x288 with 1 Axes>"
      ]
     },
     "metadata": {},
     "output_type": "display_data"
    }
   ],
   "source": [
    "sns.scatterplot(x3, dy)\n",
    "plt.xlabel('x3')\n",
    "plt.ylabel('Остатки')\n",
    "plt.show()"
   ]
  },
  {
   "cell_type": "code",
   "execution_count": 20,
   "metadata": {
    "ExecuteTime": {
     "end_time": "2020-04-12T00:53:15.314083Z",
     "start_time": "2020-04-12T00:53:15.022562Z"
    }
   },
   "outputs": [
    {
     "data": {
      "image/png": "[encoded data removed]",
      "text/plain": [
       "<Figure size 432x288 with 1 Axes>"
      ]
     },
     "metadata": {},
     "output_type": "display_data"
    }
   ],
   "source": [
    "sns.scatterplot(y_pred, dy)\n",
    "plt.xlabel('Predictions')\n",
    "plt.ylabel('Остатки')\n",
    "plt.show()"
   ]
  },
  {
   "cell_type": "markdown",
   "metadata": {
    "ExecuteTime": {
     "end_time": "2020-04-11T20:49:50.637232Z",
     "start_time": "2020-04-11T20:49:50.632246Z"
    }
   },
   "source": [
    "Проверим отсутствие линейной зависимости между всеми предикторами и остатками (с помощью критерия Спирмена) и сделаем выводы.\n",
    "\n",
    "Примем уровень значимости $\\alpha = 0.05$, а также введем гипотезы:\n",
    "\n",
    "$H_0$: предиктор и остатки независимы\n",
    "\n",
    "$H_1$: предиктор и остатки зависимы"
   ]
  },
  {
   "cell_type": "code",
   "execution_count": 21,
   "metadata": {
    "ExecuteTime": {
     "end_time": "2020-04-12T00:53:15.328050Z",
     "start_time": "2020-04-12T00:53:15.316076Z"
    }
   },
   "outputs": [],
   "source": [
    "def spearman_test(X, Y):\n",
    "    '''\n",
    "    input:\n",
    "            numpy.ndarray X: first sample of size n\n",
    "            numpy.ndarray Y: second sample of sine n\n",
    "    return:\n",
    "            T = spearman's statistic\n",
    "            p_value\n",
    "    '''\n",
    "    R = stats.rankdata(X)\n",
    "    S = stats.rankdata(Y)\n",
    "    n = X.size\n",
    "    r = np.sum((R - R.mean()) * (S - S.mean())) / np.sqrt(np.sum((R - R.mean()) ** 2) * np.sum((S - S.mean()) ** 2))\n",
    "    if (n > 50):\n",
    "        T = np.sqrt(n - 1) * r # нормальная апроксимация\n",
    "        p_value = 2 * min(stats.norm.cdf(T), 1 - stats.norm.cdf(T))\n",
    "    else:\n",
    "        T = np.sqrt(n - 2) * r / np.sqrt(1 - r ** 2) # апроксимация стьюдента\n",
    "        p_value = 2 * min(stats.t.cdf(T, n - 2), 1 - stats.t.cdf(T, n - 2))\n",
    "    return T, p_value"
   ]
  },
  {
   "cell_type": "code",
   "execution_count": 22,
   "metadata": {
    "ExecuteTime": {
     "end_time": "2020-04-12T00:53:15.345028Z",
     "start_time": "2020-04-12T00:53:15.331039Z"
    }
   },
   "outputs": [
    {
     "name": "stdout",
     "output_type": "stream",
     "text": [
      "p_value for dependence of x1 and dy = 0.8710863249796972\n",
      "p_value for dependence of x2 and dy = 0.8710863249796972\n",
      "p_value for dependence of x3 and dy = 0.990948998701372\n"
     ]
    }
   ],
   "source": [
    "print('p_value for dependence of x1 and dy =', spearman_test(x1, dy)[1])\n",
    "print('p_value for dependence of x2 and dy =', spearman_test(x2, dy)[1])\n",
    "print('p_value for dependence of x3 and dy =', spearman_test(x3, dy)[1])"
   ]
  },
  {
   "cell_type": "markdown",
   "metadata": {},
   "source": [
    "Поскольку для всех трех предикторов получены p_values > 0.05, то мы остаемся в рамках основной гипотезы $H_0$, т.е. считаем, что предикторы и остатки независимы"
   ]
  },
  {
   "cell_type": "markdown",
   "metadata": {},
   "source": [
    "Проверим отсутствие линейной зависимости между эмпирическими значениями и остатками. Уровень значимости и гипотезы аналогичны предикторам"
   ]
  },
  {
   "cell_type": "code",
   "execution_count": 23,
   "metadata": {
    "ExecuteTime": {
     "end_time": "2020-04-12T00:53:15.356967Z",
     "start_time": "2020-04-12T00:53:15.349986Z"
    }
   },
   "outputs": [
    {
     "name": "stdout",
     "output_type": "stream",
     "text": [
      "p_value for dependence of y_pred and dy = 0.9311061943934493\n"
     ]
    }
   ],
   "source": [
    "print('p_value for dependence of y_pred and dy =', spearman_test(y_pred, dy)[1])"
   ]
  },
  {
   "cell_type": "markdown",
   "metadata": {},
   "source": [
    "Поскольку p_value > 0.05, то остаемся в рамках нулевой гипотезы $H_0$, то есть эмпирические значения и остатки независимы."
   ]
  },
  {
   "cell_type": "markdown",
   "metadata": {},
   "source": [
    "Вычислим коэффициент детерминации модели по следующей формуле:\n",
    "$$\n",
    "R^2 = 1 - \\frac{\\sum_{i=1}^n (\\hat\\varepsilon_i)^2}{\\sum_{i=1}^n (y_i - \\overline y)^2}\n",
    "$$\n",
    "\n",
    "где, $R^2$ - коэффициент детерминации, $\\hat\\varepsilon_i$ - остаток $i$-го наблюдения, $y_i$ - значение целевой переменной для $i$-го наблюдения, $\\overline y$ - выборочное среднее целевой переменной, $n$ - число наблюдений"
   ]
  },
  {
   "cell_type": "code",
   "execution_count": 24,
   "metadata": {
    "ExecuteTime": {
     "end_time": "2020-04-12T00:53:15.374931Z",
     "start_time": "2020-04-12T00:53:15.360957Z"
    }
   },
   "outputs": [
    {
     "name": "stdout",
     "output_type": "stream",
     "text": [
      "Коэффициент детерменации = 0.7787246702610732\n"
     ]
    }
   ],
   "source": [
    "R_2 = 1 - np.sum(dy * dy) / np.sum((y - y.mean()) * (y - y.mean()))\n",
    "print('Коэффициент детерменации =', R_2)\n",
    "# R_2 == lr.score(X, y) # проверка, что сошлось"
   ]
  },
  {
   "cell_type": "markdown",
   "metadata": {},
   "source": [
    "Вычислим несмещенный коэффициент детерминации модели по следующей формуле:\n",
    "$$\n",
    "\\tilde R^2 = 1 - \\frac{n-1}{n-p} \\frac{\\sum_{i=1}^n (\\hat\\varepsilon_i)^2}{\\sum_{i=1}^n (y_i - \\overline y)^2}\n",
    "$$\n",
    "\n",
    "Здесь $p$ - количество предикторов (с учетом константы, т.е. если $p = 1$, то модель - константа, если $p = 2$, то модель - линейная функция одной переменной, если $p > 2$, то модель линейная функция многих переменных"
   ]
  },
  {
   "cell_type": "markdown",
   "metadata": {},
   "source": [
    "В нашем случае $p = 4$, т.к. три предиктора + константа"
   ]
  },
  {
   "cell_type": "code",
   "execution_count": 25,
   "metadata": {
    "ExecuteTime": {
     "end_time": "2020-04-12T00:53:15.386889Z",
     "start_time": "2020-04-12T00:53:15.379907Z"
    }
   },
   "outputs": [
    {
     "name": "stdout",
     "output_type": "stream",
     "text": [
      "Несмещенный коэффициент детерменации = 0.7718098162067317\n"
     ]
    }
   ],
   "source": [
    "n = y_pred.size\n",
    "p = 4\n",
    "R_2_super = 1 - (n - 1) / (n - p) * np.sum(dy * dy) / np.sum((y - y.mean()) * (y - y.mean()))\n",
    "print('Несмещенный коэффициент детерменации =', R_2_super)"
   ]
  }
 ],
 "metadata": {
  "kernelspec": {
   "display_name": "Python 3",
   "language": "python",
   "name": "python3"
  },
  "language_info": {
   "codemirror_mode": {
    "name": "ipython",
    "version": 3
   },
   "file_extension": ".py",
   "mimetype": "text/x-python",
   "name": "python",
   "nbconvert_exporter": "python",
   "pygments_lexer": "ipython3",
   "version": "3.7.3"
  }
 },
 "nbformat": 4,
 "nbformat_minor": 4
}
