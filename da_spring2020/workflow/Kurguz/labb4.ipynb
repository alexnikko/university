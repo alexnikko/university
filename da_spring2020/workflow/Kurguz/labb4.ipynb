{
 "cells": [
  {
   "cell_type": "code",
   "execution_count": 1,
   "metadata": {
    "ExecuteTime": {
     "end_time": "2020-04-05T20:45:06.666139Z",
     "start_time": "2020-04-05T20:45:06.052001Z"
    }
   },
   "outputs": [],
   "source": [
    "import pandas as pd\n",
    "import numpy as np\n",
    "from scipy import stats\n",
    "from collections import Counter\n",
    "task = [2, 4, 18]\n",
    "stat = []\n",
    "p = []\n",
    "h = []"
   ]
  },
  {
   "cell_type": "markdown",
   "metadata": {},
   "source": [
    "# Задача 2\n",
    "\n",
    "Проверить с помощью критерия Кенделла наличие зависимости. H0 - нет зависимости, H1 - есть. Уровень значимости 0.05."
   ]
  },
  {
   "cell_type": "code",
   "execution_count": 2,
   "metadata": {
    "ExecuteTime": {
     "end_time": "2020-04-05T20:45:06.672141Z",
     "start_time": "2020-04-05T20:45:06.667139Z"
    }
   },
   "outputs": [],
   "source": [
    "x = np.array([19, 20, 22, 24, 28, 30, 31, 32, 34, 37, 39, 40, 41, 43, 45, 46, 47, 48, 50, 51, 53, 54, 55, 58, 60, 62, 65, 68, 70, 72])\n",
    "y = np.array([8.5, 9.2, 11.2, 10.4, 16.2, 17.4, 14.3, 24.9, 22.8, 20.8, 34.1, 30.4, 28.8, 33.8, 35.3, 34.4, 32.3, 29.4, 31.8, 30.3, 28.7, 31.9, 25.5, 19.9, 22.3, 20.6, 18.3, 14.7, 14.1, 15])\n",
    "n = 30"
   ]
  },
  {
   "cell_type": "code",
   "execution_count": 3,
   "metadata": {
    "ExecuteTime": {
     "end_time": "2020-04-05T20:45:06.681142Z",
     "start_time": "2020-04-05T20:45:06.673141Z"
    }
   },
   "outputs": [
    {
     "data": {
      "text/plain": [
       "True"
      ]
     },
     "execution_count": 3,
     "metadata": {},
     "output_type": "execute_result"
    }
   ],
   "source": [
    "np.unique(x).size == x.size"
   ]
  },
  {
   "cell_type": "code",
   "execution_count": 4,
   "metadata": {
    "ExecuteTime": {
     "end_time": "2020-04-05T20:45:06.687144Z",
     "start_time": "2020-04-05T20:45:06.682142Z"
    }
   },
   "outputs": [
    {
     "data": {
      "text/plain": [
       "True"
      ]
     },
     "execution_count": 4,
     "metadata": {},
     "output_type": "execute_result"
    }
   ],
   "source": [
    "np.unique(y).size == y.size"
   ]
  },
  {
   "cell_type": "markdown",
   "metadata": {},
   "source": [
    "Связок нет!"
   ]
  },
  {
   "cell_type": "code",
   "execution_count": 5,
   "metadata": {
    "ExecuteTime": {
     "end_time": "2020-04-05T20:45:06.699202Z",
     "start_time": "2020-04-05T20:45:06.688145Z"
    }
   },
   "outputs": [
    {
     "name": "stdout",
     "output_type": "stream",
     "text": [
      "Статистика = 0.10344827586206896\n",
      "p_value = 0.3953727271563552\n"
     ]
    }
   ],
   "source": [
    "r = 0\n",
    "for i in range(n-1):\n",
    "    for j in range(i+1, n):\n",
    "        r += np.sign((x[i] - x[j]) * (y[i] - y[j]))\n",
    "r = 2 * r / (n * (n - 1))\n",
    "T = 3 * np.sqrt(n) * r / 2\n",
    "p_val = 2 * min(stats.norm.cdf(T), 1 - stats.norm.cdf(T))\n",
    "stat.append(T)\n",
    "p.append(p_val)\n",
    "print('Статистика =', r)\n",
    "print('p_value =', p_val)"
   ]
  },
  {
   "cell_type": "markdown",
   "metadata": {},
   "source": [
    "p_value > 0.05, значит остаемся в Н0"
   ]
  },
  {
   "cell_type": "markdown",
   "metadata": {},
   "source": [
    "# Задача 4\n",
    "\n",
    "Проверить наличие положительной зависимости. Связки есть. Критерий - Кенделла (по условию). Н0 - независимы, Н1 - есть положительная зависимость. Уровень значимости 0.05."
   ]
  },
  {
   "cell_type": "code",
   "execution_count": 6,
   "metadata": {
    "ExecuteTime": {
     "end_time": "2020-04-05T20:45:06.719362Z",
     "start_time": "2020-04-05T20:45:06.700201Z"
    }
   },
   "outputs": [],
   "source": [
    "x = np.array([1, 1, 5, 3, 2, 2, 2, 3, 1, 3, 1, 8, 5, 1, 1, 5])\n",
    "y = np.array([20, 20, 30, 224, 22, 29, 22, 20, 25, 25, 20, 30, 30, 15, 22, 26])\n",
    "n = x.size"
   ]
  },
  {
   "cell_type": "code",
   "execution_count": 7,
   "metadata": {
    "ExecuteTime": {
     "end_time": "2020-04-05T20:45:06.731127Z",
     "start_time": "2020-04-05T20:45:06.719362Z"
    }
   },
   "outputs": [
    {
     "name": "stdout",
     "output_type": "stream",
     "text": [
      "Статистика = 0.6117362044219903\n",
      "p_value = 0.00012107743940814597\n"
     ]
    }
   ],
   "source": [
    "R = stats.rankdata(x)\n",
    "S = stats.rankdata(y)\n",
    "u1 = 0\n",
    "u2 = 0\n",
    "for v, k in Counter(R).most_common():\n",
    "    u1 += k * (k - 1)\n",
    "for v, k in Counter(S).most_common():\n",
    "    u2 += k * (k - 1)\n",
    "u1 /= 2\n",
    "u2 /= 2\n",
    "\n",
    "r = 0\n",
    "for i in range(n-1):\n",
    "    for j in range(i+1, n):\n",
    "        r += np.sign((x[i] - x[j]) * (y[i] - y[j]))\n",
    "        \n",
    "r /= np.sqrt(n * (n-1) / 2 - u1) * np.sqrt(n * (n-1) / 2 - u2)\n",
    "T = 3 * np.sqrt(n) * r / 2\n",
    "p_val = 1 - stats.norm.cdf(T)\n",
    "stat.append(T)\n",
    "p.append(p_val)\n",
    "print('Статистика =', r)\n",
    "print('p_value =', p_val)"
   ]
  },
  {
   "cell_type": "markdown",
   "metadata": {},
   "source": [
    "p_value < 0.05 поэтому отвергаем Н0 в пользу Н1"
   ]
  },
  {
   "cell_type": "markdown",
   "metadata": {},
   "source": [
    "# Задача 18\n",
    "\n",
    "Проверить с помощью критерия Спирмена гипотезу о независимости параметров против альтернативы, что между ними существует положительная монотонная корреляция. Уровень значимости 0.05."
   ]
  },
  {
   "cell_type": "code",
   "execution_count": 8,
   "metadata": {
    "ExecuteTime": {
     "end_time": "2020-04-05T20:45:06.751495Z",
     "start_time": "2020-04-05T20:45:06.733125Z"
    }
   },
   "outputs": [],
   "source": [
    "x = np.array([ 8.3 ,  8.31,  7.5 ,  9.02,  8.52,  8.41,  8.73,  8.03,  7.48,\n",
    "        8.51,  9.03,  7.65,  7.26,  8.95,  8.52,  8.41,  7.5 ,  8.37,\n",
    "        9.17,  8.6 ,  8.11,  8.98,  9.19,  7.6 ,  8.57,  8.69,  7.98,\n",
    "        8.29,  9.09,  7.99,  8.86,  8.83,  9.63,  8.48,  9.13,  8.73,\n",
    "        8.34,  8.83,  8.49,  8.24,  9.5 ,  8.32,  9.42,  7.05,  7.2 ,\n",
    "        9.22,  8.52,  8.17,  8.74,  9.17,  8.16,  8.75,  8.14,  9.77,\n",
    "        9.56,  9.18,  9.51, 10.2 ,  9.33,  8.13, 10.6 ,  7.98,  8.78,\n",
    "        9.75])\n",
    "y = np.array([134, 126, 129, 132, 132, 131, 128, 130, 134, 127, 139, 135, 137,\n",
    "       137, 131, 130, 126, 121, 133, 129, 122, 130, 133, 117, 130, 132,\n",
    "       122, 111, 136, 120, 128, 128, 132, 125, 134, 131, 127, 129, 126,\n",
    "       128, 145, 127, 138, 108, 109, 134, 133, 126, 126, 134, 118, 129,\n",
    "       123, 139, 144, 131, 137, 139, 144, 122, 154, 117, 127, 142])\n",
    "n = 64"
   ]
  },
  {
   "cell_type": "code",
   "execution_count": 9,
   "metadata": {
    "ExecuteTime": {
     "end_time": "2020-04-05T20:45:06.760953Z",
     "start_time": "2020-04-05T20:45:06.751495Z"
    }
   },
   "outputs": [
    {
     "name": "stdout",
     "output_type": "stream",
     "text": [
      "Статистика = 0.6972675923592164\n",
      "p_value = 1.56156733099877e-08\n"
     ]
    }
   ],
   "source": [
    "R = stats.rankdata(x)\n",
    "S = stats.rankdata(y)\n",
    "R_mean = R.mean()\n",
    "S_mean = S.mean()\n",
    "R_var = np.var(R) * n\n",
    "S_var = np.var(S) * n\n",
    "a = 0\n",
    "for i in range(n):\n",
    "    a += (R[i] - R_mean) * (S[i] - S_mean)\n",
    "b = np.sqrt(R_var * S_var)\n",
    "r = a / b\n",
    "T = np.sqrt(n - 1) * r \n",
    "p_val = 1 - stats.norm.cdf(T)\n",
    "stat.append(r)\n",
    "p.append(p_val)\n",
    "print('Статистика =', r)\n",
    "print('p_value =', p_val)"
   ]
  },
  {
   "cell_type": "markdown",
   "metadata": {},
   "source": [
    "p_value < 0.05 поэтому отвергаем H0"
   ]
  },
  {
   "cell_type": "code",
   "execution_count": 10,
   "metadata": {
    "ExecuteTime": {
     "end_time": "2020-04-05T20:45:06.764953Z",
     "start_time": "2020-04-05T20:45:06.761951Z"
    }
   },
   "outputs": [],
   "source": [
    "h.append(0)\n",
    "h.append(1)\n",
    "h.append(1)"
   ]
  },
  {
   "cell_type": "code",
   "execution_count": 11,
   "metadata": {
    "ExecuteTime": {
     "end_time": "2020-04-05T20:45:06.781899Z",
     "start_time": "2020-04-05T20:45:06.766273Z"
    }
   },
   "outputs": [],
   "source": [
    "ans = pd.DataFrame()\n",
    "ans['task'] = task\n",
    "ans['stat'] = stat\n",
    "ans['p'] = p\n",
    "ans['h'] = h\n",
    "ans.to_csv('result.csv', index=False)"
   ]
  },
  {
   "cell_type": "code",
   "execution_count": 12,
   "metadata": {
    "ExecuteTime": {
     "end_time": "2020-04-05T20:45:06.795219Z",
     "start_time": "2020-04-05T20:45:06.781899Z"
    }
   },
   "outputs": [
    {
     "data": {
      "text/html": [
       "<div>\n",
       "<style scoped>\n",
       "    .dataframe tbody tr th:only-of-type {\n",
       "        vertical-align: middle;\n",
       "    }\n",
       "\n",
       "    .dataframe tbody tr th {\n",
       "        vertical-align: top;\n",
       "    }\n",
       "\n",
       "    .dataframe thead th {\n",
       "        text-align: right;\n",
       "    }\n",
       "</style>\n",
       "<table border=\"1\" class=\"dataframe\">\n",
       "  <thead>\n",
       "    <tr style=\"text-align: right;\">\n",
       "      <th></th>\n",
       "      <th>task</th>\n",
       "      <th>stat</th>\n",
       "      <th>p</th>\n",
       "      <th>h</th>\n",
       "    </tr>\n",
       "  </thead>\n",
       "  <tbody>\n",
       "    <tr>\n",
       "      <td>0</td>\n",
       "      <td>2</td>\n",
       "      <td>0.849914</td>\n",
       "      <td>3.953727e-01</td>\n",
       "      <td>0</td>\n",
       "    </tr>\n",
       "    <tr>\n",
       "      <td>1</td>\n",
       "      <td>4</td>\n",
       "      <td>3.670417</td>\n",
       "      <td>1.210774e-04</td>\n",
       "      <td>1</td>\n",
       "    </tr>\n",
       "    <tr>\n",
       "      <td>2</td>\n",
       "      <td>18</td>\n",
       "      <td>0.697268</td>\n",
       "      <td>1.561567e-08</td>\n",
       "      <td>1</td>\n",
       "    </tr>\n",
       "  </tbody>\n",
       "</table>\n",
       "</div>"
      ],
      "text/plain": [
       "   task      stat             p  h\n",
       "0     2  0.849914  3.953727e-01  0\n",
       "1     4  3.670417  1.210774e-04  1\n",
       "2    18  0.697268  1.561567e-08  1"
      ]
     },
     "execution_count": 12,
     "metadata": {},
     "output_type": "execute_result"
    }
   ],
   "source": [
    "pd.read_csv('result.csv')"
   ]
  }
 ],
 "metadata": {
  "kernelspec": {
   "display_name": "Python 3",
   "language": "python",
   "name": "python3"
  },
  "language_info": {
   "codemirror_mode": {
    "name": "ipython",
    "version": 3
   },
   "file_extension": ".py",
   "mimetype": "text/x-python",
   "name": "python",
   "nbconvert_exporter": "python",
   "pygments_lexer": "ipython3",
   "version": "3.7.4"
  }
 },
 "nbformat": 4,
 "nbformat_minor": 2
}
