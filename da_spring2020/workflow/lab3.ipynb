{
 "cells": [
  {
   "cell_type": "markdown",
   "metadata": {},
   "source": [
    "## Теоретическая справка"
   ]
  },
  {
   "cell_type": "markdown",
   "metadata": {},
   "source": [
    "Пусть даны две выборки:$$X_m = {x_1, x_2, \\ldots, x_m}\\\\Y_n = {y_1, y_2, \\ldots, y_n}$$\n",
    "\n",
    "Здесь и далее будем предполагать независимость выборок, иначе критерии не имеют смысла."
   ]
  },
  {
   "cell_type": "markdown",
   "metadata": {},
   "source": [
    "### Критерий Стьюдента\n",
    "\n",
    "**Используется** для проверки гипотезы о смещении (равенстве средних).\n",
    "\n",
    "**Предположение:** Обе выборки получены из нормального распределения, при этом их дисперсии равны.\n",
    "\n",
    "**Статистика:** $$T = \\frac{\\overline{Y_n} - \\overline{X_m}}{S_N \\sqrt{\\frac1n + \\frac1m}}$$\n",
    "$$S_N = \\frac{1}{N-2}\\left[\\sum_{i=1}^m(x_i-\\overline x)^2 + \\sum_{i=1}^n(y_i-\\overline y)^2\\right]$$\n",
    "\n",
    "Имеет распределение Стьюдента с $N-2$ степенями свободы. Однако при большом $N$ ($>50$ точно) можно использовать нормальное распределение.\n",
    "\n",
    "**p_value:** Если альтернативная гипотеза имеет вид $E[X] \\neq E[Y]$, то критическая область двусторонняя и p уровень значимости равен удвоенной вероятности отклонится от $|T|$ вправо (или от -|T| влево). Если другая альтернативная гипотеза, то p уровень значимости не удваивается."
   ]
  },
  {
   "cell_type": "markdown",
   "metadata": {},
   "source": [
    "### Критерий Вилконсона\n",
    "\n",
    "**Используется** для проверки равенства средних, если выборки не имеют нормальное распределение. Реализовывать самому не надо, используем встроенный критерий **Манна-Уитни**"
   ]
  },
  {
   "cell_type": "markdown",
   "metadata": {},
   "source": [
    "### Критерий Фишера\n",
    "\n",
    "**Используется** для проверки гипотезы о равенстве дисперсий.\n",
    "\n",
    "**Предположение:** Обе выборки получены из нормального распределения.\n",
    "\n",
    "**Статистика:** $$T = \\frac{s^2_y}{s^2_x} \\sim F(n-1, m-1)$$\n",
    "\n",
    "**p_value:** Если альтернативная гипотеза имеет вид $D[X] \\neq D[Y]$, то статистика имеет распределение $F(n-1, m-1)$, если $s^2_y > s^2_x$ и распределение $F(m-1, n-1)$ иначе. p уровень значимости равен вероятности отклониться от $T$ вправо"
   ]
  },
  {
   "cell_type": "markdown",
   "metadata": {},
   "source": [
    "### Критерий Ансари-Бредли\n",
    "\n",
    "**Используется** для проверки гипотезы о равенстве дисперсий.\n",
    "\n",
    "**Статистика:**\n",
    "$$A_{m,n} = \\sum_{i=1}^m\\left(\\frac{N+1}{2} - \\left|R_i - \\frac{N+1}{2}\\right|\\right)$$\n",
    "\n",
    "Эта статистика при малых $m$ и $n$ имеет своё собственное специальное распределение и соответствующую таблицу для уровней значимости, но нас интересует нормальная апроксимация.\n",
    "\n",
    "**Стандартизация:**\n",
    "\n",
    "$$\\mu (A_{m,n}) = \n",
    "\\begin{cases}\n",
    "\\frac{m(N+2)}{4}, & \\text{если N - четное} \\\\\n",
    "\\frac{m(N+2)^2}{4N},& \\text{если N - нечетное}\n",
    "\\end{cases}$$\n",
    "\n",
    "Если нет связок, то дисперсия:\n",
    "$$\n",
    "D(A_{m,n}) =\n",
    "\\begin{cases}\n",
    "\\frac{mn(N+2)(N-2)}{48(N-1)}, & \\text{если N - четное} \\\\\n",
    "\\frac{mn(N^2+3)(N+1)}{48N^2}, & \\text{если N - нечетное}\n",
    "\\end{cases}$$\n",
    "\n",
    "Если есть связки, то дисперсия:\n",
    "$$\n",
    "D(A_{m,n}) =\n",
    "\\begin{cases}\n",
    "\\frac{mn\\left(16\\sum\\limits_{j=1}^k (t_jR_j^2)-N(N+2)^2)    \\right)}{16N(N-1)}, & \\text{если N - четное} \\\\\n",
    "\\frac{mn\\left(16N\\sum\\limits_{j=1}^k (t_jR_j^2)- (N+1)^4)    \\right)}{16N^2(N-1)}, & \\text{если N - нечетное}\n",
    "\\end{cases}$$\n",
    "\n",
    "Тогда нормальная статистика:\n",
    "\n",
    "$$A_{m, n}^* = \\frac{A_{m,n} - \\mu(A_{m,n})}{\\sqrt{D(A_{m,n})}}$$\n",
    "\n",
    "Стандартизованная статистика имеет нормальное распределение.\n",
    "\n",
    "**p_value:** Если альтернативная гипотеза имеет вид $D[X] \\neq D[Y]$, то имеем дело с двусторонним тестом и p уровень значимости вычисляется так же, как в критерии Стьюдента, только используется нормальное распределение, а не распределение Стьюдента"
   ]
  },
  {
   "cell_type": "markdown",
   "metadata": {},
   "source": [
    "### Критерий Шапиро-Уилка\n",
    "\n",
    "Используется для проверки гипотезы о нормальном распределении. Самому реализовывать не надо, используем встроенный."
   ]
  },
  {
   "cell_type": "markdown",
   "metadata": {},
   "source": [
    "### План проверки гипотез\n",
    "\n",
    "1. Проверяем выборки на нормальность. Если хотя бы одна из выборок не имеет нормального распределения, то используем критерий **Манна-Уитни** для проверки гипотезы о смещении и критерий **Ансари-Бредли** для проверки гипотезы о сжатии.\n",
    "2. Если обе выборки имеют нормальное распределение, то для проверки гипотезы о сжатии используем критерий **Фишера** (F-test). Если по результатам F-test дисперсии оказались равны, то используем критерий **Стьюдента** для проверки гипотезы о смещении, если не равны, то используем критерий **Ансари-Бредли**"
   ]
  },
  {
   "cell_type": "markdown",
   "metadata": {},
   "source": [
    "#### Считаем данные"
   ]
  },
  {
   "cell_type": "code",
   "execution_count": 1,
   "metadata": {
    "ExecuteTime": {
     "end_time": "2020-03-28T12:56:41.664529Z",
     "start_time": "2020-03-28T12:56:40.868350Z"
    }
   },
   "outputs": [],
   "source": [
    "import pandas as pd\n",
    "import numpy as np\n",
    "import matplotlib.pyplot as plt\n",
    "%matplotlib inline\n",
    "import seaborn as sns\n",
    "from scipy import stats\n",
    "from collections import Counter"
   ]
  },
  {
   "cell_type": "code",
   "execution_count": 2,
   "metadata": {
    "ExecuteTime": {
     "end_time": "2020-03-28T12:56:42.359496Z",
     "start_time": "2020-03-28T12:56:41.665529Z"
    }
   },
   "outputs": [],
   "source": [
    "X = pd.read_csv('https://raw.githubusercontent.com/zhukpm/da_spring2020/master/data/lw3/projects/1032172712/sample1.csv',\n",
    "                header=None).to_numpy().ravel()\n",
    "Y = pd.read_csv('https://raw.githubusercontent.com/zhukpm/da_spring2020/master/data/lw3/projects/1032172712/sample2.csv',\n",
    "                header=None).to_numpy().ravel()\n",
    "alpha = 0.05\n",
    "m = X.size\n",
    "n = Y.size\n",
    "N = m + n\n",
    "answer = []"
   ]
  },
  {
   "cell_type": "markdown",
   "metadata": {},
   "source": [
    "#### Проверим на нормальность"
   ]
  },
  {
   "cell_type": "code",
   "execution_count": 3,
   "metadata": {
    "ExecuteTime": {
     "end_time": "2020-03-28T12:56:42.495526Z",
     "start_time": "2020-03-28T12:56:42.361497Z"
    }
   },
   "outputs": [
    {
     "data": {
      "text/plain": [
       "<matplotlib.axes._subplots.AxesSubplot at 0x25fe56f0708>"
      ]
     },
     "execution_count": 3,
     "metadata": {},
     "output_type": "execute_result"
    },
    {
     "data": {
      "image/png": "[encoded data removed]",
      "text/plain": [
       "<Figure size 432x288 with 1 Axes>"
      ]
     },
     "metadata": {
      "needs_background": "light"
     },
     "output_type": "display_data"
    }
   ],
   "source": [
    "sns.distplot(X)"
   ]
  },
  {
   "cell_type": "code",
   "execution_count": 4,
   "metadata": {
    "ExecuteTime": {
     "end_time": "2020-03-28T12:56:42.629557Z",
     "start_time": "2020-03-28T12:56:42.496527Z"
    }
   },
   "outputs": [
    {
     "data": {
      "text/plain": [
       "<matplotlib.axes._subplots.AxesSubplot at 0x25fe1b9ca48>"
      ]
     },
     "execution_count": 4,
     "metadata": {},
     "output_type": "execute_result"
    },
    {
     "data": {
      "image/png": "[encoded data removed]",
      "text/plain": [
       "<Figure size 432x288 with 1 Axes>"
      ]
     },
     "metadata": {
      "needs_background": "light"
     },
     "output_type": "display_data"
    }
   ],
   "source": [
    "sns.distplot(Y)"
   ]
  },
  {
   "cell_type": "code",
   "execution_count": 5,
   "metadata": {
    "ExecuteTime": {
     "end_time": "2020-03-28T12:56:42.636558Z",
     "start_time": "2020-03-28T12:56:42.630557Z"
    }
   },
   "outputs": [
    {
     "name": "stdout",
     "output_type": "stream",
     "text": [
      "p_value = 0.8807798624038696 > 0.05 => остаемся в Н0 (выборка X нормальная)\n"
     ]
    }
   ],
   "source": [
    "T, p_val = stats.shapiro(X)\n",
    "if p_val >= alpha:\n",
    "    print(f'p_value = {p_val} > 0.05 => остаемся в Н0 (выборка X нормальная)')\n",
    "else:\n",
    "    print(f'p_value = {p_val} <= 0.05 => отвергаем Н0 (выборка X ненормальная)')"
   ]
  },
  {
   "cell_type": "code",
   "execution_count": 6,
   "metadata": {
    "ExecuteTime": {
     "end_time": "2020-03-28T12:56:42.641560Z",
     "start_time": "2020-03-28T12:56:42.637558Z"
    }
   },
   "outputs": [
    {
     "name": "stdout",
     "output_type": "stream",
     "text": [
      "p_value = 0.040780242532491684 <= 0.05 => отвергаем Н0 (выборка Y ненормальная)\n"
     ]
    }
   ],
   "source": [
    "T, p_val = stats.shapiro(Y)\n",
    "if p_val >= alpha:\n",
    "    print(f'p_value = {p_val} > 0.05 => остаемся в Н0 (выборка Y нормальная)')\n",
    "else:\n",
    "    print(f'p_value = {p_val} <= 0.05 => отвергаем Н0 (выборка Y ненормальная)')"
   ]
  },
  {
   "cell_type": "markdown",
   "metadata": {},
   "source": [
    "#### Поскольку одна из выборок ненормальная, воспользуемся непараметрическими критериями для проверки остальных гипотез"
   ]
  },
  {
   "cell_type": "markdown",
   "metadata": {},
   "source": [
    "#### Проверим равенство средних при помощи критерия Манна-Уитни"
   ]
  },
  {
   "cell_type": "code",
   "execution_count": 7,
   "metadata": {
    "ExecuteTime": {
     "end_time": "2020-03-28T12:56:42.648562Z",
     "start_time": "2020-03-28T12:56:42.642559Z"
    }
   },
   "outputs": [
    {
     "name": "stdout",
     "output_type": "stream",
     "text": [
      "p_value = 0.9946527970806632 > 0.05 => остаемся в Н0 (средние равны)\n"
     ]
    }
   ],
   "source": [
    "T, p_val = stats.mannwhitneyu(X, Y, alternative='two-sided')\n",
    "answer.append(T)\n",
    "answer.append(p_val)\n",
    "if p_val >= alpha:\n",
    "    print(f'p_value = {p_val} > 0.05 => остаемся в Н0 (средние равны)')\n",
    "    answer.append(0)\n",
    "else:\n",
    "    print(f'p_value = {p_val} <= 0.05 => отвергаем Н0 (средние не равны)')\n",
    "    answer.append(1)"
   ]
  },
  {
   "cell_type": "markdown",
   "metadata": {},
   "source": [
    "#### Проверим равенство средних при помощи критерия Ансари-Бредли"
   ]
  },
  {
   "cell_type": "markdown",
   "metadata": {},
   "source": [
    "##### Сначала проверим равенство выборочных медиан\n",
    "\n",
    "Если не равны, то преобразуем выборки."
   ]
  },
  {
   "cell_type": "code",
   "execution_count": 8,
   "metadata": {
    "ExecuteTime": {
     "end_time": "2020-03-28T12:56:42.656564Z",
     "start_time": "2020-03-28T12:56:42.650563Z"
    }
   },
   "outputs": [
    {
     "name": "stdout",
     "output_type": "stream",
     "text": [
      "Медианы не равны, выборки преобразованы.\n"
     ]
    }
   ],
   "source": [
    "X_new = np.copy(X)\n",
    "Y_new = np.copy(Y)\n",
    "if np.median(X) != np.median(Y):\n",
    "    print('Медианы не равны, выборки преобразованы.')\n",
    "    X_new = X_new - np.median(X)\n",
    "    Y_new = Y_new - np.median(Y)"
   ]
  },
  {
   "cell_type": "code",
   "execution_count": 9,
   "metadata": {
    "ExecuteTime": {
     "end_time": "2020-03-28T12:56:42.673567Z",
     "start_time": "2020-03-28T12:56:42.658565Z"
    }
   },
   "outputs": [
    {
     "name": "stdout",
     "output_type": "stream",
     "text": [
      "by hands: T = 3125.0 p_value = 0.44521187272454654\n",
      "by scipy: T = 3125.0 p_value = 0.44521187272454654\n",
      "p_value = 0.44521187272454654 > 0.05 => остаемся в Н0 (дисперсии равны)\n"
     ]
    }
   ],
   "source": [
    "Z = np.r_[X_new, Y_new] # объединенная выборка\n",
    "R = stats.rankdata(Z) # ранги элементов в выборке\n",
    "# статистика\n",
    "A = 0\n",
    "for i in range(m):\n",
    "    A += (N + 1) / 2 - np.abs(R[i] - (N + 1) / 2)\n",
    "# мат. ожидание статистики\n",
    "A_mean = m * (N + 2) / 4 if N % 2 == 0 else m * (N + 1) ** 2 / (4 * N)\n",
    "# дисперсия статистики\n",
    "# если нет связок, то всё легко\n",
    "if np.unique(Z).size == Z.size:\n",
    "    A_var = m * n * (N + 2) * (N - 2) / (48 * (N - 1)) if N % 2 == 0 else m * n * ((N ** 2) + 3) * (N + 1) / (48 * (N ** 2))\n",
    "else:\n",
    "    # если есть связки\n",
    "    # поправка чуть другая (по-другому считаем ранги)\n",
    "    R_sym = np.copy(R)\n",
    "    for i in range(N):\n",
    "        R_sym[i] = min(R_sym[i], N - R_sym[i] + 1)\n",
    "    sum_of_ties = 0\n",
    "    for val, count in Counter(R_sym).most_common():\n",
    "        sum_of_ties += count * val ** 2\n",
    "    if N % 2 == 0:\n",
    "        A_var = m * n * (16 * sum_of_ties -  N * (N + 2) ** 2) / 16 / N / (N - 1)\n",
    "    else:\n",
    "        A_var = m * n * (16 * N * sum_of_ties - (N + 1) ** 4) / (16 * N ** 2 * (N - 1))\n",
    "A_std = (A - A_mean) / np.sqrt(A_var)\n",
    "p_value = 2 * min(stats.norm.cdf(A_std), 1 - stats.norm.cdf(A_std))\n",
    "print('by hands:', f'T = {A}', f'p_value = {p_value}') \n",
    "print('by scipy:', f'T = {stats.ansari(X_new, Y_new)[0]}', f'p_value = {stats.ansari(X_new, Y_new)[1]}')\n",
    "answer.append(A)\n",
    "answer.append(p_value)\n",
    "if p_value >= alpha:\n",
    "    print(f'p_value = {p_value} > 0.05 => остаемся в Н0 (дисперсии равны)')\n",
    "    answer.append(0)\n",
    "else:\n",
    "    print(f'p_value = {p_value} <= 0.05 => отвергаем Н0 (дисперсии не равны)')\n",
    "    answer.append(1)"
   ]
  },
  {
   "cell_type": "markdown",
   "metadata": {},
   "source": [
    "#### Код для критерия Стьюдента (T-test)"
   ]
  },
  {
   "cell_type": "code",
   "execution_count": 10,
   "metadata": {
    "ExecuteTime": {
     "end_time": "2020-03-28T12:56:42.682570Z",
     "start_time": "2020-03-28T12:56:42.674566Z"
    }
   },
   "outputs": [
    {
     "name": "stdout",
     "output_type": "stream",
     "text": [
      "by hands: T = 0.340210192837632 p_value = 0.734144478072972\n",
      "by scipy: T = 0.3402101928376321 p_value = 0.7341444780729718\n"
     ]
    }
   ],
   "source": [
    "x_mean = X.mean()\n",
    "y_mean = Y.mean()\n",
    "s1, s2 = 0, 0\n",
    "for x in X:\n",
    "    s1 += (x - x_mean) ** 2\n",
    "for y in Y:\n",
    "    s2 += (y - y_mean) ** 2\n",
    "s_n = np.sqrt((s1 + s2) / (N - 2))\n",
    "T = (y_mean - x_mean) / (s_n * np.sqrt(1 / n + 1 / m))\n",
    "p_value = 2 * min(stats.t.cdf(T, N - 2), 1 - stats.t.cdf(T, N - 2))\n",
    "print('by hands:', f'T = {T}', f'p_value = {p_value}') \n",
    "print('by scipy:', f'T = {stats.ttest_ind(Y, X)[0]}', f'p_value = {stats.ttest_ind(Y, X)[1]}')"
   ]
  },
  {
   "cell_type": "markdown",
   "metadata": {},
   "source": [
    "#### Код для критерия Фишера (F-test)"
   ]
  },
  {
   "cell_type": "code",
   "execution_count": 11,
   "metadata": {
    "ExecuteTime": {
     "end_time": "2020-03-28T12:56:42.694571Z",
     "start_time": "2020-03-28T12:56:42.685570Z"
    }
   },
   "outputs": [
    {
     "name": "stdout",
     "output_type": "stream",
     "text": [
      "T = 1.031547480323786 p_value = 0.44569718250918855\n"
     ]
    }
   ],
   "source": [
    "x_var = stats.tvar(X)\n",
    "y_var = stats.tvar(Y)\n",
    "F = y_var / x_var\n",
    "p_value = 1 - stats.f.cdf(F, n - 1, m - 1)\n",
    "print(f'T = {F}', f'p_value = {p_value}') "
   ]
  },
  {
   "cell_type": "markdown",
   "metadata": {},
   "source": [
    "#### answer: \n",
    "* значение статистики при проверке гипотезы об однородности вида смещение\n",
    "* p-значение статистики при проверке гипотезы об однородности вида смещение\n",
    "* итоговая гипотеза при проверке гипотезы об однородности вида смещение (0 или 1)\n",
    "* значение статистики при проверке гипотезы об однородности вида сжатие/растяжение\n",
    "* p-значение статистики при проверке гипотезы об однородности вида сжатие/растяжение\n",
    "* итоговая гипотеза при проверке гипотезы об однородности вида сжатие/растяжение (0 или 1)"
   ]
  },
  {
   "cell_type": "markdown",
   "metadata": {},
   "source": [
    "#### save answer"
   ]
  },
  {
   "cell_type": "code",
   "execution_count": 12,
   "metadata": {
    "ExecuteTime": {
     "end_time": "2020-03-28T12:56:42.712577Z",
     "start_time": "2020-03-28T12:56:42.697573Z"
    }
   },
   "outputs": [
    {
     "data": {
      "text/html": [
       "<div>\n",
       "<style scoped>\n",
       "    .dataframe tbody tr th:only-of-type {\n",
       "        vertical-align: middle;\n",
       "    }\n",
       "\n",
       "    .dataframe tbody tr th {\n",
       "        vertical-align: top;\n",
       "    }\n",
       "\n",
       "    .dataframe thead th {\n",
       "        text-align: right;\n",
       "    }\n",
       "</style>\n",
       "<table border=\"1\" class=\"dataframe\">\n",
       "  <thead>\n",
       "    <tr style=\"text-align: right;\">\n",
       "      <th></th>\n",
       "      <th>mt_s</th>\n",
       "      <th>mt_p</th>\n",
       "      <th>mt_h</th>\n",
       "      <th>vt_s</th>\n",
       "      <th>vt_p</th>\n",
       "      <th>vt_h</th>\n",
       "    </tr>\n",
       "  </thead>\n",
       "  <tbody>\n",
       "    <tr>\n",
       "      <td>0</td>\n",
       "      <td>3281.0</td>\n",
       "      <td>0.994653</td>\n",
       "      <td>0</td>\n",
       "      <td>3125.0</td>\n",
       "      <td>0.445212</td>\n",
       "      <td>0</td>\n",
       "    </tr>\n",
       "  </tbody>\n",
       "</table>\n",
       "</div>"
      ],
      "text/plain": [
       "     mt_s      mt_p  mt_h    vt_s      vt_p  vt_h\n",
       "0  3281.0  0.994653     0  3125.0  0.445212     0"
      ]
     },
     "execution_count": 12,
     "metadata": {},
     "output_type": "execute_result"
    }
   ],
   "source": [
    "keys = ['mt_s', 'mt_p', 'mt_h', 'vt_s', 'vt_p', 'vt_h']\n",
    "ans = dict()\n",
    "for key, val in zip(keys, answer):\n",
    "    ans[key] = val\n",
    "\n",
    "pd.DataFrame(ans, index=[0]).to_csv('answer.csv', index=False)\n",
    "# check right write\n",
    "data = pd.read_csv('answer.csv')\n",
    "data"
   ]
  },
  {
   "cell_type": "markdown",
   "metadata": {},
   "source": [
    "&copy; **Alexander Nikolaev**"
   ]
  }
 ],
 "metadata": {
  "kernelspec": {
   "display_name": "Python 3",
   "language": "python",
   "name": "python3"
  },
  "language_info": {
   "codemirror_mode": {
    "name": "ipython",
    "version": 3
   },
   "file_extension": ".py",
   "mimetype": "text/x-python",
   "name": "python",
   "nbconvert_exporter": "python",
   "pygments_lexer": "ipython3",
   "version": "3.7.4"
  }
 },
 "nbformat": 4,
 "nbformat_minor": 4
}
