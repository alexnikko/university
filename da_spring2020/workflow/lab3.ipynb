{
 "cells": [
  {
   "cell_type": "markdown",
   "metadata": {},
   "source": [
    "p_value = 0.05\n",
    "\n",
    "answer: \n",
    "* значение статистики при проверке гипотезы об однородности вида смещение\n",
    "* p-значение статистики при проверке гипотезы об однородности вида смещение\n",
    "* итоговая гипотеза при проверке гипотезы об однородности вида смещение (0 или 1)\n",
    "* значение статистики при проверке гипотезы об однородности вида сжатие/растяжение\n",
    "* p-значение статистики при проверке гипотезы об однородности вида сжатие/растяжение\n",
    "* итоговая гипотеза при проверке гипотезы об однородности вида сжатие/растяжение (0 или 1)"
   ]
  },
  {
   "cell_type": "markdown",
   "metadata": {},
   "source": [
    "## Теоретическая справка"
   ]
  },
  {
   "cell_type": "markdown",
   "metadata": {},
   "source": [
    "Пусть даны две выборки:$$X_m = {x_1, x_2, \\ldots, x_m}\\\\Y_n = {y_1, y_2, \\ldots, y_n}$$\n",
    "\n",
    "Здесь и далее будем предполагать независимость выборок, иначе критерии не имеют смысла."
   ]
  },
  {
   "cell_type": "markdown",
   "metadata": {},
   "source": [
    "### Критерий Стьюдента\n",
    "\n",
    "**Используется** для проверки гипотезы о смещении (равенстве средних).\n",
    "\n",
    "**Предположение:** Обе выборки получены из нормального распределения, при этом их дисперсии равны.\n",
    "\n",
    "**Статистика:** $$T = \\frac{\\overline{Y_n} - \\overline{X_m}}{S_N \\sqrt{\\frac1n + \\frac1m}}$$\n",
    "$$S_N = \\frac{1}{N-2}\\left[\\sum_{i=1}^m(x_i-\\overline x)^2 + \\sum_{i=1}^n(y_i-\\overline y)^2\\right]$$\n",
    "\n",
    "Имеет распределение Стьюдента с $N-2$ степенями свободы. Однако при большом $N$ ($>50$ точно) можно использовать нормальное распределение.\n",
    "\n",
    "**p_value:** Если альтернативная гипотеза имеет вид $E[X] \\neq E[Y]$, то критическая область двусторонняя и p уровень значимости равен удвоенной вероятности отклонится от $|T|$ вправо (или от -|T| влево). Если другая альтернативная гипотеза, то p уровень значимости не удваивается."
   ]
  },
  {
   "cell_type": "markdown",
   "metadata": {},
   "source": [
    "### Критерий Вилконсона\n",
    "\n",
    "**Используется** для проверки равенства средних, если выборки не имеют нормальное распределение. Реализовывать самому не надо, используем встроенный критерий **Манна-Уитни**"
   ]
  },
  {
   "cell_type": "markdown",
   "metadata": {},
   "source": [
    "### Критерий Фишера\n",
    "\n",
    "**Используется** для проверки гипотезы о равенстве дисперсий.\n",
    "\n",
    "**Предположение:** Обе выборки получены из нормального распределения.\n",
    "\n",
    "**Статистика:** $$T = \\frac{s^2_y}{s^2_x} \\sim F(n-1, m-1)$$\n",
    "\n",
    "**p_value:** Если альтернативная гипотеза имеет вид $D[X] \\neq D[Y]$, то статистика имеет распределение $F(n-1, m-1)$, если $s^2_y > s^2_x$ и распределение $F(m-1, n-1)$ иначе. o уровень значимости равен вероятности отклониться от $T$ вправо"
   ]
  },
  {
   "cell_type": "markdown",
   "metadata": {},
   "source": [
    "### Критерий Ансари-Бредли\n",
    "\n",
    "**Используется** для проверки гипотезы о равенстве дисперсий.\n",
    "\n",
    "**Статистика:**\n",
    "$$A_{m,n} = \\sum_{i=1}^m\\left(\\frac{N+1}{2} - \\left|R_i - \\frac{N+1}{2}\\right|\\right)$$\n",
    "\n",
    "Эта статистика при малых $m$ и $n$ имеет своё собственное специальное распределение и соответствующую таблицу для уровней значимости, но нас интересует нормальная апроксимация.\n",
    "\n",
    "**Стандартизация:**\n",
    "\n",
    "$$\\mu (A_{m,n}) = \n",
    "\\begin{cases}\n",
    "\\frac{m(N+2)}{4}, & \\text{если N - четное} \\\\\n",
    "\\frac{m(N+2)^2}{4N},& \\text{если N - нечетное}\n",
    "\\end{cases}$$\n",
    "\n",
    "Если нет связок, то дисперсия:\n",
    "$$\n",
    "D(A_{m,n}) =\n",
    "\\begin{cases}\n",
    "\\frac{mn(N+2)(N-2)}{48(N-1)}, & \\text{если N - четное} \\\\\n",
    "\\frac{mn(N^2+3)(N+1)}{48N^2}, & \\text{если N - нечетное}\n",
    "\\end{cases}$$\n",
    "\n",
    "Если есть связки, то дисперсия:\n",
    "$$\n",
    "D(A_{m,n}) =\n",
    "\\begin{cases}\n",
    "\\frac{mn\\left(16\\sum\\limits_{j=1}^k (t_jR_j^2)-N(N+2)^2)    \\right)}{16N(N-1)}, & \\text{если N - четное} \\\\\n",
    "\\frac{mn\\left(16N\\sum\\limits_{j=1}^k (t_jR_j^2)- (N+1)^4)    \\right)}{16N^2(N-1)}, & \\text{если N - нечетное}\n",
    "\\end{cases}$$\n",
    "\n",
    "Тогда нормальная статистика:\n",
    "\n",
    "$$A_{m, n}^* = \\frac{A_{m,n} - \\mu(A_{m,n})}{\\sqrt{D(A_{m,n})}}$$\n",
    "\n",
    "Стандартизованная статистика имеет нормальное распределение.\n",
    "\n",
    "**p_value:** Если альтернативная гипотеза имеет вид $D[X] \\neq D[Y]$, то имеем дело с двусторонним тестом и p уровень значимости вычисляется так же, как в критерии Стьюдента, только используется нормальное распределение, а не распределение Стьюдента"
   ]
  },
  {
   "cell_type": "markdown",
   "metadata": {},
   "source": [
    "### Критерий Шапиро-Уилка\n",
    "\n",
    "Используется для проверки гипотезы о нормальном распределении. Самому реализовывать не надо, используем встроенный."
   ]
  },
  {
   "cell_type": "code",
   "execution_count": 1,
   "metadata": {
    "ExecuteTime": {
     "end_time": "2020-03-27T22:09:05.637424Z",
     "start_time": "2020-03-27T22:09:04.655042Z"
    }
   },
   "outputs": [],
   "source": [
    "import pandas as pd\n",
    "import numpy as np\n",
    "import matplotlib.pyplot as plt\n",
    "%matplotlib inline\n",
    "import seaborn as sns\n",
    "from scipy import stats"
   ]
  },
  {
   "cell_type": "code",
   "execution_count": 2,
   "metadata": {
    "ExecuteTime": {
     "end_time": "2020-03-27T22:09:05.653494Z",
     "start_time": "2020-03-27T22:09:05.637424Z"
    }
   },
   "outputs": [],
   "source": [
    "X = pd.read_csv('../data/lw3/projects/1032172712/sample1.csv', header=None).to_numpy().ravel()\n",
    "Y = pd.read_csv('../data/lw3/projects/1032172712/sample2.csv', header=None).to_numpy().ravel()"
   ]
  },
  {
   "cell_type": "code",
   "execution_count": 3,
   "metadata": {
    "ExecuteTime": {
     "end_time": "2020-03-27T22:09:05.886575Z",
     "start_time": "2020-03-27T22:09:05.656462Z"
    }
   },
   "outputs": [
    {
     "data": {
      "text/plain": [
       "<matplotlib.axes._subplots.AxesSubplot at 0x18e1a89b0b8>"
      ]
     },
     "execution_count": 3,
     "metadata": {},
     "output_type": "execute_result"
    },
    {
     "data": {
      "image/png": "[encoded data removed]",
      "text/plain": [
       "<Figure size 432x288 with 1 Axes>"
      ]
     },
     "metadata": {
      "needs_background": "light"
     },
     "output_type": "display_data"
    }
   ],
   "source": [
    "sns.distplot(X)"
   ]
  },
  {
   "cell_type": "code",
   "execution_count": 4,
   "metadata": {
    "ExecuteTime": {
     "end_time": "2020-03-27T22:09:06.290573Z",
     "start_time": "2020-03-27T22:09:06.068253Z"
    }
   },
   "outputs": [
    {
     "data": {
      "text/plain": [
       "<matplotlib.axes._subplots.AxesSubplot at 0x18e1bfec588>"
      ]
     },
     "execution_count": 4,
     "metadata": {},
     "output_type": "execute_result"
    },
    {
     "data": {
      "image/png": "[encoded data removed]",
      "text/plain": [
       "<Figure size 432x288 with 1 Axes>"
      ]
     },
     "metadata": {
      "needs_background": "light"
     },
     "output_type": "display_data"
    }
   ],
   "source": [
    "sns.distplot(Y)"
   ]
  },
  {
   "cell_type": "code",
   "execution_count": 5,
   "metadata": {
    "ExecuteTime": {
     "end_time": "2020-03-27T22:09:08.353427Z",
     "start_time": "2020-03-27T22:09:08.347442Z"
    }
   },
   "outputs": [
    {
     "data": {
      "text/plain": [
       "(0.9914084672927856, 0.8807798624038696)"
      ]
     },
     "execution_count": 5,
     "metadata": {},
     "output_type": "execute_result"
    }
   ],
   "source": [
    "stats.shapiro(X)"
   ]
  },
  {
   "cell_type": "code",
   "execution_count": 6,
   "metadata": {
    "ExecuteTime": {
     "end_time": "2020-03-27T22:09:09.329849Z",
     "start_time": "2020-03-27T22:09:09.323866Z"
    }
   },
   "outputs": [
    {
     "data": {
      "text/plain": [
       "(0.9687540531158447, 0.040780242532491684)"
      ]
     },
     "execution_count": 6,
     "metadata": {},
     "output_type": "execute_result"
    }
   ],
   "source": [
    "stats.shapiro(Y)"
   ]
  },
  {
   "cell_type": "code",
   "execution_count": 7,
   "metadata": {
    "ExecuteTime": {
     "end_time": "2020-03-27T22:09:11.355832Z",
     "start_time": "2020-03-27T22:09:11.340226Z"
    }
   },
   "outputs": [
    {
     "data": {
      "text/plain": [
       "MannwhitneyuResult(statistic=3281.0, pvalue=0.9946527970806632)"
      ]
     },
     "execution_count": 7,
     "metadata": {},
     "output_type": "execute_result"
    }
   ],
   "source": [
    "stats.mannwhitneyu(X, Y, alternative='two-sided')"
   ]
  },
  {
   "cell_type": "code",
   "execution_count": 8,
   "metadata": {
    "ExecuteTime": {
     "end_time": "2020-03-27T22:09:12.936853Z",
     "start_time": "2020-03-27T22:09:12.930870Z"
    }
   },
   "outputs": [
    {
     "data": {
      "text/plain": [
       "(870.1084337349398, 865.5316455696203)"
      ]
     },
     "execution_count": 8,
     "metadata": {},
     "output_type": "execute_result"
    }
   ],
   "source": [
    "Y.mean(), X.mean()"
   ]
  },
  {
   "cell_type": "code",
   "execution_count": 9,
   "metadata": {
    "ExecuteTime": {
     "end_time": "2020-03-27T22:09:16.250010Z",
     "start_time": "2020-03-27T22:09:16.243029Z"
    }
   },
   "outputs": [
    {
     "data": {
      "text/plain": [
       "Ttest_indResult(statistic=-0.3402101928376321, pvalue=0.7341444780729718)"
      ]
     },
     "execution_count": 9,
     "metadata": {},
     "output_type": "execute_result"
    }
   ],
   "source": [
    "stats.ttest_ind(X, Y)"
   ]
  },
  {
   "cell_type": "code",
   "execution_count": 20,
   "metadata": {
    "ExecuteTime": {
     "end_time": "2020-03-27T22:33:34.628146Z",
     "start_time": "2020-03-27T22:33:34.622164Z"
    }
   },
   "outputs": [
    {
     "data": {
      "text/plain": [
       "-1.6759050245283318"
      ]
     },
     "execution_count": 20,
     "metadata": {},
     "output_type": "execute_result"
    }
   ],
   "source": [
    "stats.t.ppf(0.05, 50)"
   ]
  },
  {
   "cell_type": "code",
   "execution_count": 10,
   "metadata": {
    "ExecuteTime": {
     "end_time": "2020-03-27T22:09:21.041346Z",
     "start_time": "2020-03-27T22:09:20.931691Z"
    }
   },
   "outputs": [
    {
     "ename": "TypeError",
     "evalue": "ttest_ind() missing 2 required positional arguments: 'a' and 'b'",
     "output_type": "error",
     "traceback": [
      "\u001b[1;31m---------------------------------------------------------------------------\u001b[0m",
      "\u001b[1;31mTypeError\u001b[0m                                 Traceback (most recent call last)",
      "\u001b[1;32m<ipython-input-10-43831b504b26>\u001b[0m in \u001b[0;36m<module>\u001b[1;34m\u001b[0m\n\u001b[1;32m----> 1\u001b[1;33m \u001b[0mstats\u001b[0m\u001b[1;33m.\u001b[0m\u001b[0mttest_ind\u001b[0m\u001b[1;33m(\u001b[0m\u001b[1;33m)\u001b[0m\u001b[1;33m\u001b[0m\u001b[1;33m\u001b[0m\u001b[0m\n\u001b[0m",
      "\u001b[1;31mTypeError\u001b[0m: ttest_ind() missing 2 required positional arguments: 'a' and 'b'"
     ]
    }
   ],
   "source": [
    "stats.ttest_ind()"
   ]
  },
  {
   "cell_type": "markdown",
   "metadata": {},
   "source": [
    "### T-test"
   ]
  },
  {
   "cell_type": "code",
   "execution_count": 11,
   "metadata": {
    "ExecuteTime": {
     "end_time": "2020-03-27T22:09:22.672431Z",
     "start_time": "2020-03-27T22:09:22.658466Z"
    }
   },
   "outputs": [
    {
     "data": {
      "text/plain": [
       "(0.340210192837632, 0.734144478072972)"
      ]
     },
     "execution_count": 11,
     "metadata": {},
     "output_type": "execute_result"
    }
   ],
   "source": [
    "m = X.size\n",
    "n = Y.size\n",
    "N = m + n\n",
    "x_mean = X.mean()\n",
    "y_mean = Y.mean()\n",
    "s1, s2 = 0, 0\n",
    "for x in X:\n",
    "    s1 += (x - x_mean) ** 2\n",
    "for y in Y:\n",
    "    s2 += (y - y_mean) ** 2\n",
    "s_n = np.sqrt((s1 + s2) / (N - 2))\n",
    "T = (y_mean - x_mean) / (s_n * np.sqrt(1 / n + 1 / m))\n",
    "p_value = 2 * (1 - stats.t.cdf(T, N - 2))\n",
    "T, p_value"
   ]
  },
  {
   "cell_type": "markdown",
   "metadata": {},
   "source": [
    "### F-test"
   ]
  },
  {
   "cell_type": "code",
   "execution_count": 25,
   "metadata": {
    "ExecuteTime": {
     "end_time": "2020-03-27T23:02:30.910723Z",
     "start_time": "2020-03-27T23:02:30.902742Z"
    }
   },
   "outputs": [
    {
     "data": {
      "text/plain": [
       "0.4442072702286284"
      ]
     },
     "execution_count": 25,
     "metadata": {},
     "output_type": "execute_result"
    }
   ],
   "source": [
    "fdistribution = stats.f(m-1,n-1)\n",
    "1 - fdistribution.cdf(F)"
   ]
  },
  {
   "cell_type": "code",
   "execution_count": 27,
   "metadata": {
    "ExecuteTime": {
     "end_time": "2020-03-27T23:06:21.618937Z",
     "start_time": "2020-03-27T23:06:21.602228Z"
    }
   },
   "outputs": [
    {
     "data": {
      "text/plain": [
       "0.4059429188793833"
      ]
     },
     "execution_count": 27,
     "metadata": {},
     "output_type": "execute_result"
    }
   ],
   "source": [
    "1 - stats.f.cdf(1.07, 50, 50)"
   ]
  },
  {
   "cell_type": "code",
   "execution_count": 32,
   "metadata": {
    "ExecuteTime": {
     "end_time": "2020-03-27T23:22:32.371920Z",
     "start_time": "2020-03-27T23:22:32.363941Z"
    }
   },
   "outputs": [
    {
     "data": {
      "text/plain": [
       "(1.031547480323786, 0.44569718250918855)"
      ]
     },
     "execution_count": 32,
     "metadata": {},
     "output_type": "execute_result"
    }
   ],
   "source": [
    "x_var = stats.tvar(X)\n",
    "y_var = stats.tvar(Y)\n",
    "F = y_var / x_var\n",
    "p_value = 1 - stats.f.cdf(F, n - 1, m - 1)\n",
    "F, p_value"
   ]
  },
  {
   "cell_type": "code",
   "execution_count": 35,
   "metadata": {
    "ExecuteTime": {
     "end_time": "2020-03-27T23:23:21.447188Z",
     "start_time": "2020-03-27T23:23:21.440243Z"
    }
   },
   "outputs": [
    {
     "data": {
      "text/plain": [
       "0.5543028174908115"
      ]
     },
     "execution_count": 35,
     "metadata": {},
     "output_type": "execute_result"
    }
   ],
   "source": [
    "stats.f.sf(x_var/y_var, m - 1, n - 1)"
   ]
  },
  {
   "cell_type": "code",
   "execution_count": 29,
   "metadata": {
    "ExecuteTime": {
     "end_time": "2020-03-27T23:19:37.724231Z",
     "start_time": "2020-03-27T23:19:37.718282Z"
    }
   },
   "outputs": [
    {
     "data": {
      "text/plain": [
       "F_onewayResult(statistic=0.11574297531061915, pvalue=0.7341444780729839)"
      ]
     },
     "execution_count": 29,
     "metadata": {},
     "output_type": "execute_result"
    }
   ],
   "source": [
    "stats.f_oneway(Y, X)"
   ]
  },
  {
   "cell_type": "markdown",
   "metadata": {},
   "source": [
    "### Ansari-bradley test"
   ]
  },
  {
   "cell_type": "code",
   "execution_count": 59,
   "metadata": {
    "ExecuteTime": {
     "end_time": "2020-03-27T14:40:28.403144Z",
     "start_time": "2020-03-27T14:40:28.396198Z"
    }
   },
   "outputs": [
    {
     "data": {
      "text/plain": [
       "AnsariResult(statistic=3114.0, pvalue=0.40210918494512027)"
      ]
     },
     "execution_count": 59,
     "metadata": {},
     "output_type": "execute_result"
    }
   ],
   "source": [
    "stats.ansari(X, Y)"
   ]
  },
  {
   "cell_type": "code",
   "execution_count": 108,
   "metadata": {
    "ExecuteTime": {
     "end_time": "2020-03-27T18:42:02.617888Z",
     "start_time": "2020-03-27T18:42:02.610904Z"
    }
   },
   "outputs": [
    {
     "data": {
      "text/plain": [
       "(869.0, 863.0)"
      ]
     },
     "execution_count": 108,
     "metadata": {},
     "output_type": "execute_result"
    }
   ],
   "source": [
    "np.median(X), np.median(Y)"
   ]
  },
  {
   "cell_type": "code",
   "execution_count": 63,
   "metadata": {
    "ExecuteTime": {
     "end_time": "2020-03-27T14:41:14.280762Z",
     "start_time": "2020-03-27T14:41:14.274780Z"
    }
   },
   "outputs": [
    {
     "data": {
      "text/plain": [
       "(False, False)"
      ]
     },
     "execution_count": 63,
     "metadata": {},
     "output_type": "execute_result"
    }
   ],
   "source": [
    "np.unique(X).size == X.size, np.unique(Y).size == Y.size"
   ]
  },
  {
   "cell_type": "code",
   "execution_count": 211,
   "metadata": {
    "ExecuteTime": {
     "end_time": "2020-03-27T19:37:34.583376Z",
     "start_time": "2020-03-27T19:37:34.578389Z"
    }
   },
   "outputs": [],
   "source": [
    "Z = np.hstack([X, Y])\n",
    "R = stats.rankdata(Z)"
   ]
  },
  {
   "cell_type": "code",
   "execution_count": 212,
   "metadata": {
    "ExecuteTime": {
     "end_time": "2020-03-27T19:37:35.600382Z",
     "start_time": "2020-03-27T19:37:35.593401Z"
    }
   },
   "outputs": [
    {
     "data": {
      "text/plain": [
       "3114.0"
      ]
     },
     "execution_count": 212,
     "metadata": {},
     "output_type": "execute_result"
    }
   ],
   "source": [
    "A = 0\n",
    "for i in range(m):\n",
    "    A += (N + 1) / 2 - np.abs(R[i] - (N + 1) / 2)\n",
    "A"
   ]
  },
  {
   "cell_type": "code",
   "execution_count": 213,
   "metadata": {
    "ExecuteTime": {
     "end_time": "2020-03-27T19:37:36.976463Z",
     "start_time": "2020-03-27T19:37:36.969482Z"
    }
   },
   "outputs": [
    {
     "data": {
      "text/plain": [
       "3239.0"
      ]
     },
     "execution_count": 213,
     "metadata": {},
     "output_type": "execute_result"
    }
   ],
   "source": [
    "A_mean = m * (N + 2) / 4 if N % 2 == 0 else m * (N + 1) ** 2 / (4 * N)\n",
    "A_mean"
   ]
  },
  {
   "cell_type": "code",
   "execution_count": 229,
   "metadata": {
    "ExecuteTime": {
     "end_time": "2020-03-27T19:42:11.448175Z",
     "start_time": "2020-03-27T19:42:11.433218Z"
    }
   },
   "outputs": [
    {
     "data": {
      "text/plain": [
       "[(100.5, 4),\n",
       " (57.0, 3),\n",
       " (80.0, 3),\n",
       " (139.0, 3),\n",
       " (37.0, 3),\n",
       " (45.5, 2),\n",
       " (8.5, 2),\n",
       " (32.5, 2),\n",
       " (89.5, 2),\n",
       " (124.5, 2),\n",
       " (108.5, 2),\n",
       " (61.5, 2),\n",
       " (67.5, 2),\n",
       " (71.5, 2),\n",
       " (75.5, 2),\n",
       " (103.5, 2),\n",
       " (128.5, 2),\n",
       " (121.5, 2),\n",
       " (119.5, 2),\n",
       " (97.5, 2),\n",
       " (22.5, 2),\n",
       " (24.5, 2),\n",
       " (110.5, 2),\n",
       " (77.5, 2),\n",
       " (42.5, 2),\n",
       " (39.5, 2),\n",
       " (106.5, 2),\n",
       " (134.5, 2),\n",
       " (114.5, 2),\n",
       " (26.5, 2),\n",
       " (137.0, 1),\n",
       " (136.0, 1),\n",
       " (127.0, 1),\n",
       " (87.0, 1),\n",
       " (54.0, 1),\n",
       " (156.0, 1),\n",
       " (160.0, 1),\n",
       " (34.0, 1),\n",
       " (41.0, 1),\n",
       " (51.0, 1),\n",
       " (17.0, 1),\n",
       " (126.0, 1),\n",
       " (20.0, 1),\n",
       " (4.0, 1),\n",
       " (53.0, 1),\n",
       " (144.0, 1),\n",
       " (95.0, 1),\n",
       " (5.0, 1),\n",
       " (146.0, 1),\n",
       " (15.0, 1),\n",
       " (153.0, 1),\n",
       " (1.0, 1),\n",
       " (92.0, 1),\n",
       " (65.0, 1),\n",
       " (131.0, 1),\n",
       " (151.0, 1),\n",
       " (150.0, 1),\n",
       " (29.0, 1),\n",
       " (64.0, 1),\n",
       " (74.0, 1),\n",
       " (147.0, 1),\n",
       " (28.0, 1),\n",
       " (10.0, 1),\n",
       " (49.0, 1),\n",
       " (118.0, 1),\n",
       " (116.0, 1),\n",
       " (148.0, 1),\n",
       " (18.0, 1),\n",
       " (96.0, 1),\n",
       " (141.0, 1),\n",
       " (155.0, 1),\n",
       " (105.0, 1),\n",
       " (55.0, 1),\n",
       " (19.0, 1),\n",
       " (145.0, 1),\n",
       " (73.0, 1),\n",
       " (85.0, 1),\n",
       " (16.0, 1),\n",
       " (152.0, 1),\n",
       " (113.0, 1),\n",
       " (7.0, 1),\n",
       " (60.0, 1),\n",
       " (21.0, 1),\n",
       " (86.0, 1),\n",
       " (50.0, 1),\n",
       " (88.0, 1),\n",
       " (44.0, 1),\n",
       " (159.0, 1),\n",
       " (35.0, 1),\n",
       " (14.0, 1),\n",
       " (69.0, 1),\n",
       " (83.0, 1),\n",
       " (91.0, 1),\n",
       " (157.0, 1),\n",
       " (117.0, 1),\n",
       " (6.0, 1),\n",
       " (112.0, 1),\n",
       " (70.0, 1),\n",
       " (82.0, 1),\n",
       " (63.0, 1),\n",
       " (59.0, 1),\n",
       " (130.0, 1),\n",
       " (13.0, 1),\n",
       " (11.0, 1),\n",
       " (123.0, 1),\n",
       " (47.0, 1),\n",
       " (158.0, 1),\n",
       " (3.0, 1),\n",
       " (132.0, 1),\n",
       " (52.0, 1),\n",
       " (133.0, 1),\n",
       " (94.0, 1),\n",
       " (48.0, 1),\n",
       " (149.0, 1),\n",
       " (154.0, 1),\n",
       " (93.0, 1),\n",
       " (162.0, 1),\n",
       " (84.0, 1),\n",
       " (143.0, 1),\n",
       " (142.0, 1),\n",
       " (2.0, 1),\n",
       " (66.0, 1),\n",
       " (12.0, 1),\n",
       " (31.0, 1),\n",
       " (161.0, 1),\n",
       " (30.0, 1)]"
      ]
     },
     "execution_count": 229,
     "metadata": {},
     "output_type": "execute_result"
    }
   ],
   "source": [
    "Counter(R).most_common()"
   ]
  },
  {
   "cell_type": "code",
   "execution_count": 249,
   "metadata": {
    "ExecuteTime": {
     "end_time": "2020-03-27T19:48:04.215854Z",
     "start_time": "2020-03-27T19:48:04.209869Z"
    }
   },
   "outputs": [],
   "source": [
    "ttt = 0\n",
    "for val, count in Counter(R).most_common():\n",
    "    if count == 1:\n",
    "        break\n",
    "    ttt = ttt + (count * val * val)"
   ]
  },
  {
   "cell_type": "code",
   "execution_count": 272,
   "metadata": {
    "ExecuteTime": {
     "end_time": "2020-03-27T20:03:39.516787Z",
     "start_time": "2020-03-27T20:03:39.509808Z"
    }
   },
   "outputs": [
    {
     "data": {
      "text/plain": [
       "1430299.5"
      ]
     },
     "execution_count": 272,
     "metadata": {},
     "output_type": "execute_result"
    }
   ],
   "source": [
    "special_s = 0\n",
    "k = 0\n",
    "for x, t in Counter(R).most_common():\n",
    "    special_s += t * x ** 2\n",
    "    k += 1\n",
    "special_s"
   ]
  },
  {
   "cell_type": "code",
   "execution_count": 222,
   "metadata": {
    "ExecuteTime": {
     "end_time": "2020-03-27T19:38:27.296389Z",
     "start_time": "2020-03-27T19:38:27.290405Z"
    }
   },
   "outputs": [
    {
     "data": {
      "text/plain": [
       "(79, 83)"
      ]
     },
     "execution_count": 222,
     "metadata": {},
     "output_type": "execute_result"
    }
   ],
   "source": [
    "m, n"
   ]
  },
  {
   "cell_type": "code",
   "execution_count": 224,
   "metadata": {
    "ExecuteTime": {
     "end_time": "2020-03-27T19:40:04.455808Z",
     "start_time": "2020-03-27T19:40:04.450822Z"
    }
   },
   "outputs": [
    {
     "data": {
      "text/plain": [
       "162"
      ]
     },
     "execution_count": 224,
     "metadata": {},
     "output_type": "execute_result"
    }
   ],
   "source": [
    "N"
   ]
  },
  {
   "cell_type": "code",
   "execution_count": 231,
   "metadata": {
    "ExecuteTime": {
     "end_time": "2020-03-27T19:43:12.199112Z",
     "start_time": "2020-03-27T19:43:12.193130Z"
    }
   },
   "outputs": [
    {
     "data": {
      "text/plain": [
       "30"
      ]
     },
     "execution_count": 231,
     "metadata": {},
     "output_type": "execute_result"
    }
   ],
   "source": [
    "k"
   ]
  },
  {
   "cell_type": "code",
   "execution_count": 271,
   "metadata": {
    "ExecuteTime": {
     "end_time": "2020-03-27T20:03:34.331936Z",
     "start_time": "2020-03-27T20:03:34.325954Z"
    }
   },
   "outputs": [
    {
     "data": {
      "text/plain": [
       "(22884792.0, 4357152)"
      ]
     },
     "execution_count": 271,
     "metadata": {},
     "output_type": "execute_result"
    }
   ],
   "source": [
    "16 * special_s, N * (N + 2) ** 2"
   ]
  },
  {
   "cell_type": "code",
   "execution_count": 273,
   "metadata": {
    "ExecuteTime": {
     "end_time": "2020-03-27T20:03:42.012263Z",
     "start_time": "2020-03-27T20:03:42.006279Z"
    }
   },
   "outputs": [
    {
     "data": {
      "text/plain": [
       "291114.886415919"
      ]
     },
     "execution_count": 273,
     "metadata": {},
     "output_type": "execute_result"
    }
   ],
   "source": [
    "A_var = m * n * (16 * special_s -  N * (N + 2) ** 2) / 16 / N / (N - 1)\n",
    "A_var"
   ]
  },
  {
   "cell_type": "code",
   "execution_count": 255,
   "metadata": {
    "ExecuteTime": {
     "end_time": "2020-03-27T19:54:08.727727Z",
     "start_time": "2020-03-27T19:54:08.720747Z"
    }
   },
   "outputs": [],
   "source": [
    "A_var = 0\n",
    "if (np.unique(X).size == X.size and np.unique(Y).size == Y.size):\n",
    "    A_var = m * n * (N + 2) * (N - 2) / (48 * (N - 1)) if N % 2 == 0 else m * n * ((N ** 2) + 3) * (N + 1) / (48 * (N ** 2))\n",
    "else:\n",
    "    A_var = m * n * (16 * special_s - N * (N + 2) ** 2) / (16 * N * (N - 1)) if N % 2 == 0 else m * n * (16 * N * special_s - (N + 1) ** 4) / (16 * N ** 2 * (N - 1))"
   ]
  },
  {
   "cell_type": "code",
   "execution_count": 256,
   "metadata": {
    "ExecuteTime": {
     "end_time": "2020-03-27T19:54:09.053085Z",
     "start_time": "2020-03-27T19:54:09.048087Z"
    }
   },
   "outputs": [
    {
     "data": {
      "text/plain": [
       "59776.87717583007"
      ]
     },
     "execution_count": 256,
     "metadata": {},
     "output_type": "execute_result"
    }
   ],
   "source": [
    "A_var"
   ]
  },
  {
   "cell_type": "code",
   "execution_count": 217,
   "metadata": {
    "ExecuteTime": {
     "end_time": "2020-03-27T19:38:01.729310Z",
     "start_time": "2020-03-27T19:38:01.723327Z"
    }
   },
   "outputs": [
    {
     "data": {
      "text/plain": [
       "3114.0"
      ]
     },
     "execution_count": 217,
     "metadata": {},
     "output_type": "execute_result"
    }
   ],
   "source": [
    "A"
   ]
  },
  {
   "cell_type": "code",
   "execution_count": 260,
   "metadata": {
    "ExecuteTime": {
     "end_time": "2020-03-27T20:01:31.495859Z",
     "start_time": "2020-03-27T20:01:31.487881Z"
    }
   },
   "outputs": [],
   "source": [
    "bb = 0\n",
    "for i in range(N):\n",
    "    bb += min(R[i], N + 1 - R[i]) ** 2\n",
    "A_var = m * n * (16 * bb - N * (N + 2) ** 2) / 16 / N / (N - 1)"
   ]
  },
  {
   "cell_type": "code",
   "execution_count": 261,
   "metadata": {
    "ExecuteTime": {
     "end_time": "2020-03-27T20:01:32.398185Z",
     "start_time": "2020-03-27T20:01:32.391239Z"
    }
   },
   "outputs": [
    {
     "data": {
      "text/plain": [
       "-0.8378602692922401"
      ]
     },
     "execution_count": 261,
     "metadata": {},
     "output_type": "execute_result"
    }
   ],
   "source": [
    "A_new = (A - A_mean) / np.sqrt(A_var)\n",
    "A_new"
   ]
  },
  {
   "cell_type": "code",
   "execution_count": 263,
   "metadata": {
    "ExecuteTime": {
     "end_time": "2020-03-27T20:01:50.032231Z",
     "start_time": "2020-03-27T20:01:50.023256Z"
    }
   },
   "outputs": [
    {
     "data": {
      "text/plain": [
       "(0.40210918494512027, 0.40210918494512027)"
      ]
     },
     "execution_count": 263,
     "metadata": {},
     "output_type": "execute_result"
    }
   ],
   "source": [
    "2 * stats.norm.cdf(A_new), stats.ansari(X, Y)[1]"
   ]
  },
  {
   "cell_type": "markdown",
   "metadata": {},
   "source": [
    "....."
   ]
  },
  {
   "cell_type": "code",
   "execution_count": 203,
   "metadata": {
    "ExecuteTime": {
     "end_time": "2020-03-27T19:36:55.361763Z",
     "start_time": "2020-03-27T19:36:55.354781Z"
    }
   },
   "outputs": [
    {
     "data": {
      "text/plain": [
       "AnsariResult(statistic=3114.0, pvalue=0.40210918494512027)"
      ]
     },
     "execution_count": 203,
     "metadata": {},
     "output_type": "execute_result"
    }
   ],
   "source": [
    "stats.ansari(X, Y)"
   ]
  },
  {
   "cell_type": "code",
   "execution_count": 240,
   "metadata": {
    "ExecuteTime": {
     "end_time": "2020-03-27T19:46:16.573419Z",
     "start_time": "2020-03-27T19:46:16.569429Z"
    }
   },
   "outputs": [],
   "source": [
    "Z = np.hstack([X, Y])\n",
    "R = stats.rankdata(Z)"
   ]
  },
  {
   "cell_type": "code",
   "execution_count": 241,
   "metadata": {
    "ExecuteTime": {
     "end_time": "2020-03-27T19:46:17.281011Z",
     "start_time": "2020-03-27T19:46:17.273035Z"
    }
   },
   "outputs": [
    {
     "data": {
      "text/plain": [
       "3114.0"
      ]
     },
     "execution_count": 241,
     "metadata": {},
     "output_type": "execute_result"
    }
   ],
   "source": [
    "A = 0\n",
    "for i in range(m):\n",
    "    A += ((N + 1) / 2 - np.abs(R[i] - (N + 1) / 2))\n",
    "A"
   ]
  },
  {
   "cell_type": "code",
   "execution_count": 242,
   "metadata": {
    "ExecuteTime": {
     "end_time": "2020-03-27T19:46:18.023450Z",
     "start_time": "2020-03-27T19:46:18.017466Z"
    }
   },
   "outputs": [
    {
     "data": {
      "text/plain": [
       "162"
      ]
     },
     "execution_count": 242,
     "metadata": {},
     "output_type": "execute_result"
    }
   ],
   "source": [
    "N"
   ]
  },
  {
   "cell_type": "code",
   "execution_count": 243,
   "metadata": {
    "ExecuteTime": {
     "end_time": "2020-03-27T19:46:20.061989Z",
     "start_time": "2020-03-27T19:46:20.057004Z"
    }
   },
   "outputs": [
    {
     "data": {
      "text/plain": [
       "3239.0"
      ]
     },
     "execution_count": 243,
     "metadata": {},
     "output_type": "execute_result"
    }
   ],
   "source": [
    "A_mean = m * (N + 2) / 4\n",
    "A_mean"
   ]
  },
  {
   "cell_type": "code",
   "execution_count": 244,
   "metadata": {
    "ExecuteTime": {
     "end_time": "2020-03-27T19:46:21.103003Z",
     "start_time": "2020-03-27T19:46:21.097021Z"
    }
   },
   "outputs": [
    {
     "data": {
      "text/plain": [
       "22263.933747412008"
      ]
     },
     "execution_count": 244,
     "metadata": {},
     "output_type": "execute_result"
    }
   ],
   "source": [
    "A_var = m * n * (N + 2) * (N - 2) / 48 / (N - 1)\n",
    "A_var"
   ]
  },
  {
   "cell_type": "code",
   "execution_count": 245,
   "metadata": {
    "ExecuteTime": {
     "end_time": "2020-03-27T19:46:23.247068Z",
     "start_time": "2020-03-27T19:46:23.241085Z"
    }
   },
   "outputs": [
    {
     "data": {
      "text/plain": [
       "-0.8377396337057371"
      ]
     },
     "execution_count": 245,
     "metadata": {},
     "output_type": "execute_result"
    }
   ],
   "source": [
    "A_new = (A - A_mean) / np.sqrt(A_var)\n",
    "A_new"
   ]
  },
  {
   "cell_type": "code",
   "execution_count": 246,
   "metadata": {
    "ExecuteTime": {
     "end_time": "2020-03-27T19:46:24.518652Z",
     "start_time": "2020-03-27T19:46:24.512668Z"
    }
   },
   "outputs": [
    {
     "data": {
      "text/plain": [
       "0.4021769487761775"
      ]
     },
     "execution_count": 246,
     "metadata": {},
     "output_type": "execute_result"
    }
   ],
   "source": [
    "2 * stats.norm.cdf(A_new)"
   ]
  },
  {
   "cell_type": "code",
   "execution_count": 167,
   "metadata": {
    "ExecuteTime": {
     "end_time": "2020-03-27T19:11:56.295190Z",
     "start_time": "2020-03-27T19:11:56.291201Z"
    }
   },
   "outputs": [],
   "source": [
    "rank = stats.rankdata(Z)\n",
    "#symrank = amin(array((rank,N-rank+1)),0)"
   ]
  },
  {
   "cell_type": "code",
   "execution_count": 274,
   "metadata": {
    "ExecuteTime": {
     "end_time": "2020-03-27T20:07:09.782033Z",
     "start_time": "2020-03-27T20:07:09.774058Z"
    }
   },
   "outputs": [
    {
     "data": {
      "text/plain": [
       "array([False, False, False, False, False, False, False, False,  True,\n",
       "       False, False, False,  True,  True,  True,  True, False,  True,\n",
       "        True,  True, False, False,  True, False,  True, False, False,\n",
       "       False, False, False,  True, False,  True, False, False, False,\n",
       "       False,  True,  True,  True, False, False,  True,  True,  True,\n",
       "       False, False, False, False, False,  True, False, False, False,\n",
       "       False, False, False, False,  True, False, False,  True,  True,\n",
       "       False, False, False,  True, False, False,  True, False, False,\n",
       "        True, False, False, False,  True,  True, False, False,  True,\n",
       "        True, False, False, False,  True, False, False, False, False,\n",
       "       False, False, False, False, False,  True, False,  True,  True,\n",
       "        True, False, False, False, False, False, False, False, False,\n",
       "       False, False,  True, False, False, False,  True, False,  True,\n",
       "        True, False, False, False, False,  True, False,  True, False,\n",
       "       False, False, False, False,  True, False, False,  True, False,\n",
       "       False,  True, False, False, False, False,  True, False, False,\n",
       "       False, False, False, False, False, False, False, False, False,\n",
       "        True,  True, False, False,  True,  True, False, False,  True])"
      ]
     },
     "execution_count": 274,
     "metadata": {},
     "output_type": "execute_result"
    }
   ],
   "source": [
    "np.amin(np.array((rank, N - rank + 1)), 0) == stats.rankdata(Z, method='ordinal')"
   ]
  },
  {
   "cell_type": "code",
   "execution_count": 275,
   "metadata": {
    "ExecuteTime": {
     "end_time": "2020-03-27T20:07:20.266768Z",
     "start_time": "2020-03-27T20:07:20.254798Z"
    }
   },
   "outputs": [
    {
     "data": {
      "text/plain": [
       "array([45.5, 57. , 26. , 27. , 80. , 36. , 76. ,  8.5, 54. , 32.5,  7. ,\n",
       "        3. , 34. , 41. , 51. , 17. , 37. , 20. ,  4. , 53. , 19. , 68. ,\n",
       "        5. , 17. , 15. , 73.5, 38.5, 54.5, 24. , 10. ,  1. , 71. , 65. ,\n",
       "       32. , 12. , 13. , 73.5, 29. , 64. , 74. , 16. , 61.5, 28. , 10. ,\n",
       "       49. , 32.5, 45. , 47. , 37. , 15. , 18. , 62.5, 67. , 22. ,  8. ,\n",
       "       67.5, 71.5, 58. , 55. , 75.5, 62.5, 57. , 19. ,  8.5, 62.5, 18. ,\n",
       "       73. , 59.5, 78. , 16. , 11. , 50. ,  7. , 34.5, 41.5, 43.5, 60. ,\n",
       "       21. , 77. , 65.5, 50. , 37. , 75. , 65.5, 22.5, 44. , 24.5, 52.5,\n",
       "       77.5, 22.5,  4. , 42.5, 54.5, 24.5, 77.5, 35. , 61.5, 14. , 80. ,\n",
       "       69. , 80. , 72. ,  6. , 39.5, 75.5, 39.5, 43.5, 46. , 67.5, 71.5,\n",
       "        6. , 41.5, 51. , 45.5, 70. , 81. , 63. , 59. , 24. , 33. , 56.5,\n",
       "       28.5, 13. , 52.5, 11. , 34.5, 37. , 40. , 59.5, 57. , 47. ,  5. ,\n",
       "       48.5,  3. , 26.5, 31. , 52. , 62.5, 42.5, 30. , 69. , 48. , 14. ,\n",
       "        9. , 70. , 48.5, 26.5,  1. , 38.5, 79. , 20. , 56.5, 21. ,  2. ,\n",
       "       66. , 28.5, 80. , 12. , 31. ,  2. , 24. , 30. ])"
      ]
     },
     "execution_count": 275,
     "metadata": {},
     "output_type": "execute_result"
    }
   ],
   "source": [
    "np.amin(np.array((rank, N - rank + 1)), 0)"
   ]
  },
  {
   "cell_type": "code",
   "execution_count": 282,
   "metadata": {
    "ExecuteTime": {
     "end_time": "2020-03-27T20:13:12.776487Z",
     "start_time": "2020-03-27T20:13:12.769510Z"
    }
   },
   "outputs": [
    {
     "data": {
      "text/plain": [
       "array([22. , 28.5, 65. , 64. , 39. , 61. , 42. ,  5.5, 26. , 17.5, 78. ,\n",
       "       79. , 19. , 21. , 24. , 10. , 60. , 13. ,  2. , 25. , 68. , 46. ,\n",
       "        3. , 70. ,  8. , 43.5, 59. , 53. , 66. , 76. ,  1. , 45. , 33. ,\n",
       "       63. , 74. , 73. , 43.5, 16. , 32. , 37. , 71. , 31. , 15. ,  7. ,\n",
       "       23. , 17.5, 56. , 55. , 20. , 72. , 11. , 49. , 47. , 67. , 77. ,\n",
       "       34. , 35. , 52. , 27. , 38. , 49. , 28.5, 12. ,  5.5, 49. , 69. ,\n",
       "       36. , 51. , 40. ,  9. , 75. , 54. ,  4. , 62. , 58. , 57. , 30. ,\n",
       "       14. , 41. ])"
      ]
     },
     "execution_count": 282,
     "metadata": {},
     "output_type": "execute_result"
    }
   ],
   "source": [
    "stats.rankdata(X)"
   ]
  },
  {
   "cell_type": "code",
   "execution_count": 281,
   "metadata": {
    "ExecuteTime": {
     "end_time": "2020-03-27T20:13:08.600357Z",
     "start_time": "2020-03-27T20:13:08.593341Z"
    }
   },
   "outputs": [
    {
     "data": {
      "text/plain": [
       "array([50.5, 27. , 17.5, 46. , 50.5,  8.5, 23. , 10.5, 57.5, 39.5,  8.5,\n",
       "       81. , 21.5, 56. , 10.5, 39.5, 16. , 31. ,  7. , 41.5, 35. , 44. ,\n",
       "       47. , 79. , 19.5, 38. , 19.5, 63. , 62. , 34. , 37. ,  3. , 64. ,\n",
       "       59. , 24. , 36. , 43. , 32. , 30. , 73.5, 68. , 54.5, 71.5,  6. ,\n",
       "       57.5,  4. , 67. , 17.5, 65. , 53. , 29. , 25. , 80. , 60.5,  2. ,\n",
       "       12.5, 69. , 28. , 52. , 21.5, 70. , 49. , 26. , 77. , 78. , 48. ,\n",
       "       60.5, 12.5, 83. , 66. , 45. , 76. , 54.5, 75. ,  1. , 33. , 71.5,\n",
       "       41.5,  5. , 15. , 82. , 73.5, 14. ])"
      ]
     },
     "execution_count": 281,
     "metadata": {},
     "output_type": "execute_result"
    }
   ],
   "source": [
    "stats.rankdata(Y)"
   ]
  },
  {
   "cell_type": "code",
   "execution_count": 276,
   "metadata": {
    "ExecuteTime": {
     "end_time": "2020-03-27T20:08:34.385221Z",
     "start_time": "2020-03-27T20:08:34.375250Z"
    }
   },
   "outputs": [
    {
     "data": {
      "text/plain": [
       "array([[ 45.5,  57. , 137. , 136. ,  80. , 127. ,  87. ,   8.5,  54. ,\n",
       "         32.5, 156. , 160. ,  34. ,  41. ,  51. ,  17. , 126. ,  20. ,\n",
       "          4. ,  53. , 144. ,  95. ,   5. , 146. ,  15. ,  89.5, 124.5,\n",
       "        108.5, 139. , 153. ,   1. ,  92. ,  65. , 131. , 151. , 150. ,\n",
       "         89.5,  29. ,  64. ,  74. , 147. ,  61.5,  28. ,  10. ,  49. ,\n",
       "         32.5, 118. , 116. ,  37. , 148. ,  18. , 100.5,  96. , 141. ,\n",
       "        155. ,  67.5,  71.5, 105. ,  55. ,  75.5, 100.5,  57. ,  19. ,\n",
       "          8.5, 100.5, 145. ,  73. , 103.5,  85. ,  16. , 152. , 113. ,\n",
       "          7. , 128.5, 121.5, 119.5,  60. ,  21. ,  86. ,  97.5,  50. ,\n",
       "         37. ,  88. ,  97.5,  22.5,  44. ,  24.5, 110.5,  77.5,  22.5,\n",
       "        159. ,  42.5, 108.5,  24.5,  77.5,  35. ,  61.5,  14. ,  80. ,\n",
       "         69. ,  83. ,  91. , 157. ,  39.5,  75.5,  39.5, 119.5, 117. ,\n",
       "         67.5,  71.5,   6. , 121.5, 112. ,  45.5,  70. ,  82. ,  63. ,\n",
       "         59. , 139. , 130. , 106.5, 134.5,  13. , 110.5,  11. , 128.5,\n",
       "         37. , 123. , 103.5,  57. ,  47. , 158. , 114.5,   3. ,  26.5,\n",
       "        132. ,  52. , 100.5,  42.5, 133. ,  94. ,  48. , 149. , 154. ,\n",
       "         93. , 114.5,  26.5, 162. , 124.5,  84. , 143. , 106.5, 142. ,\n",
       "          2. ,  66. , 134.5,  80. ,  12. ,  31. , 161. , 139. ,  30. ],\n",
       "       [117.5, 106. ,  26. ,  27. ,  83. ,  36. ,  76. , 154.5, 109. ,\n",
       "        130.5,   7. ,   3. , 129. , 122. , 112. , 146. ,  37. , 143. ,\n",
       "        159. , 110. ,  19. ,  68. , 158. ,  17. , 148. ,  73.5,  38.5,\n",
       "         54.5,  24. ,  10. , 162. ,  71. ,  98. ,  32. ,  12. ,  13. ,\n",
       "         73.5, 134. ,  99. ,  89. ,  16. , 101.5, 135. , 153. , 114. ,\n",
       "        130.5,  45. ,  47. , 126. ,  15. , 145. ,  62.5,  67. ,  22. ,\n",
       "          8. ,  95.5,  91.5,  58. , 108. ,  87.5,  62.5, 106. , 144. ,\n",
       "        154.5,  62.5,  18. ,  90. ,  59.5,  78. , 147. ,  11. ,  50. ,\n",
       "        156. ,  34.5,  41.5,  43.5, 103. , 142. ,  77. ,  65.5, 113. ,\n",
       "        126. ,  75. ,  65.5, 140.5, 119. , 138.5,  52.5,  85.5, 140.5,\n",
       "          4. , 120.5,  54.5, 138.5,  85.5, 128. , 101.5, 149. ,  83. ,\n",
       "         94. ,  80. ,  72. ,   6. , 123.5,  87.5, 123.5,  43.5,  46. ,\n",
       "         95.5,  91.5, 157. ,  41.5,  51. , 117.5,  93. ,  81. , 100. ,\n",
       "        104. ,  24. ,  33. ,  56.5,  28.5, 150. ,  52.5, 152. ,  34.5,\n",
       "        126. ,  40. ,  59.5, 106. , 116. ,   5. ,  48.5, 160. , 136.5,\n",
       "         31. , 111. ,  62.5, 120.5,  30. ,  69. , 115. ,  14. ,   9. ,\n",
       "         70. ,  48.5, 136.5,   1. ,  38.5,  79. ,  20. ,  56.5,  21. ,\n",
       "        161. ,  97. ,  28.5,  83. , 151. , 132. ,   2. ,  24. , 133. ]])"
      ]
     },
     "execution_count": 276,
     "metadata": {},
     "output_type": "execute_result"
    }
   ],
   "source": [
    "np.array((rank, N - rank + 1))"
   ]
  },
  {
   "cell_type": "code",
   "execution_count": 170,
   "metadata": {
    "ExecuteTime": {
     "end_time": "2020-03-27T19:12:25.313363Z",
     "start_time": "2020-03-27T19:12:25.306384Z"
    }
   },
   "outputs": [
    {
     "data": {
      "text/plain": [
       "array([ 45.5,  57. , 137. , 136. ,  80. , 127. ,  87. ,   8.5,  54. ,\n",
       "        32.5, 156. , 160. ,  34. ,  41. ,  51. ,  17. , 126. ,  20. ,\n",
       "         4. ,  53. , 144. ,  95. ,   5. , 146. ,  15. ,  89.5, 124.5,\n",
       "       108.5, 139. , 153. ,   1. ,  92. ,  65. , 131. , 151. , 150. ,\n",
       "        89.5,  29. ,  64. ,  74. , 147. ,  61.5,  28. ,  10. ,  49. ,\n",
       "        32.5, 118. , 116. ,  37. , 148. ,  18. , 100.5,  96. , 141. ,\n",
       "       155. ,  67.5,  71.5, 105. ,  55. ,  75.5, 100.5,  57. ,  19. ,\n",
       "         8.5, 100.5, 145. ,  73. , 103.5,  85. ,  16. , 152. , 113. ,\n",
       "         7. , 128.5, 121.5, 119.5,  60. ,  21. ,  86. ,  97.5,  50. ,\n",
       "        37. ,  88. ,  97.5,  22.5,  44. ,  24.5, 110.5,  77.5,  22.5,\n",
       "       159. ,  42.5, 108.5,  24.5,  77.5,  35. ,  61.5,  14. ,  80. ,\n",
       "        69. ,  83. ,  91. , 157. ,  39.5,  75.5,  39.5, 119.5, 117. ,\n",
       "        67.5,  71.5,   6. , 121.5, 112. ,  45.5,  70. ,  82. ,  63. ,\n",
       "        59. , 139. , 130. , 106.5, 134.5,  13. , 110.5,  11. , 128.5,\n",
       "        37. , 123. , 103.5,  57. ,  47. , 158. , 114.5,   3. ,  26.5,\n",
       "       132. ,  52. , 100.5,  42.5, 133. ,  94. ,  48. , 149. , 154. ,\n",
       "        93. , 114.5,  26.5, 162. , 124.5,  84. , 143. , 106.5, 142. ,\n",
       "         2. ,  66. , 134.5,  80. ,  12. ,  31. , 161. , 139. ,  30. ])"
      ]
     },
     "execution_count": 170,
     "metadata": {},
     "output_type": "execute_result"
    }
   ],
   "source": [
    "rank"
   ]
  },
  {
   "cell_type": "code",
   "execution_count": 191,
   "metadata": {
    "ExecuteTime": {
     "end_time": "2020-03-27T19:27:13.399830Z",
     "start_time": "2020-03-27T19:27:13.394841Z"
    }
   },
   "outputs": [],
   "source": [
    "ranks_new = np.zeros(Z.size)"
   ]
  },
  {
   "cell_type": "code",
   "execution_count": 283,
   "metadata": {
    "ExecuteTime": {
     "end_time": "2020-03-27T20:13:43.970927Z",
     "start_time": "2020-03-27T20:13:43.955959Z"
    }
   },
   "outputs": [
    {
     "data": {
      "text/plain": [
       "array([ 1.,  2.,  3.,  4.,  5.,  6.,  7.,  8.,  9., 10., 11., 12., 13.,\n",
       "       14., 15., 16., 17., 18., 19., 20., 21., 22., 23., 24., 25., 26.,\n",
       "       27., 28., 29., 30., 31., 32., 33., 34., 35., 36., 37., 38., 39.,\n",
       "       40., 41., 42., 43., 44., 45., 46., 47., 48., 49., 50., 51., 52.,\n",
       "       53., 54., 55., 56., 57., 58., 59., 60., 61., 62., 63., 64., 65.,\n",
       "       66., 67., 68., 69., 70., 71., 72., 73., 74., 75., 76., 77., 78.,\n",
       "       79., 80., 81., 81., 80., 79., 78., 77., 76., 75., 74., 73., 72.,\n",
       "       71., 70., 69., 68., 67., 66., 65., 64., 63., 62., 61., 60., 59.,\n",
       "       58., 57., 56., 55., 54., 53., 52., 51., 50., 49., 48., 47., 46.,\n",
       "       45., 44., 43., 42., 41., 40., 39., 38., 37., 36., 35., 34., 33.,\n",
       "       32., 31., 30., 29., 28., 27., 26., 25., 24., 23., 22., 21., 20.,\n",
       "       19., 18., 17., 16., 15., 14., 13., 12., 11., 10.,  9.,  8.,  7.,\n",
       "        6.,  5.,  4.,  3.,  2.,  1.])"
      ]
     },
     "execution_count": 283,
     "metadata": {},
     "output_type": "execute_result"
    }
   ],
   "source": [
    "if N % 2 == 0:\n",
    "    for i in range(N // 2):\n",
    "        ranks_new[i] = i + 1\n",
    "        ranks_new[-i-1] = i + 1\n",
    "else:\n",
    "    for i in range((N - 1) // 2):\n",
    "        ranks_new[i] = i + 1\n",
    "        ranks_new[-i-1] = i + 1\n",
    "    ranks_new[N // 2] = (N + 1) // 2\n",
    "ranks_new"
   ]
  },
  {
   "cell_type": "code",
   "execution_count": 198,
   "metadata": {
    "ExecuteTime": {
     "end_time": "2020-03-27T19:28:11.232758Z",
     "start_time": "2020-03-27T19:28:11.226809Z"
    }
   },
   "outputs": [
    {
     "data": {
      "text/plain": [
       "3160.0"
      ]
     },
     "execution_count": 198,
     "metadata": {},
     "output_type": "execute_result"
    }
   ],
   "source": [
    "A = np.sum(ranks_new[:m])\n",
    "A"
   ]
  },
  {
   "cell_type": "code",
   "execution_count": 286,
   "metadata": {
    "ExecuteTime": {
     "end_time": "2020-03-27T20:33:25.286095Z",
     "start_time": "2020-03-27T20:33:25.275128Z"
    }
   },
   "outputs": [
    {
     "data": {
      "text/plain": [
       "array([ 45.5,  57. , 137. , 136. ,  80. , 127. ,  87. ,   8.5,  54. ,\n",
       "        32.5, 156. , 160. ,  34. ,  41. ,  51. ,  17. , 126. ,  20. ,\n",
       "         4. ,  53. , 144. ,  95. ,   5. , 146. ,  15. ,  89.5, 124.5,\n",
       "       108.5, 139. , 153. ,   1. ,  92. ,  65. , 131. , 151. , 150. ,\n",
       "        89.5,  29. ,  64. ,  74. , 147. ,  61.5,  28. ,  10. ,  49. ,\n",
       "        32.5, 118. , 116. ,  37. , 148. ,  18. , 100.5,  96. , 141. ,\n",
       "       155. ,  67.5,  71.5, 105. ,  55. ,  75.5, 100.5,  57. ,  19. ,\n",
       "         8.5, 100.5, 145. ,  73. , 103.5,  85. ,  16. , 152. , 113. ,\n",
       "         7. , 128.5, 121.5, 119.5,  60. ,  21. ,  86. ,  97.5,  50. ,\n",
       "        37. ,  88. ,  97.5,  22.5,  44. ,  24.5, 110.5,  77.5,  22.5,\n",
       "       159. ,  42.5, 108.5,  24.5,  77.5,  35. ,  61.5,  14. ,  80. ,\n",
       "        69. ,  83. ,  91. , 157. ,  39.5,  75.5,  39.5, 119.5, 117. ,\n",
       "        67.5,  71.5,   6. , 121.5, 112. ,  45.5,  70. ,  82. ,  63. ,\n",
       "        59. , 139. , 130. , 106.5, 134.5,  13. , 110.5,  11. , 128.5,\n",
       "        37. , 123. , 103.5,  57. ,  47. , 158. , 114.5,   3. ,  26.5,\n",
       "       132. ,  52. , 100.5,  42.5, 133. ,  94. ,  48. , 149. , 154. ,\n",
       "        93. , 114.5,  26.5, 162. , 124.5,  84. , 143. , 106.5, 142. ,\n",
       "         2. ,  66. , 134.5,  80. ,  12. ,  31. , 161. , 139. ,  30. ])"
      ]
     },
     "execution_count": 286,
     "metadata": {},
     "output_type": "execute_result"
    }
   ],
   "source": [
    "stats.rankdata(np.r_[X, Y])"
   ]
  },
  {
   "cell_type": "code",
   "execution_count": 287,
   "metadata": {
    "ExecuteTime": {
     "end_time": "2020-03-27T20:33:31.211598Z",
     "start_time": "2020-03-27T20:33:31.203618Z"
    }
   },
   "outputs": [
    {
     "data": {
      "text/plain": [
       "array([ 45.5,  57. , 137. , 136. ,  80. , 127. ,  87. ,   8.5,  54. ,\n",
       "        32.5, 156. , 160. ,  34. ,  41. ,  51. ,  17. , 126. ,  20. ,\n",
       "         4. ,  53. , 144. ,  95. ,   5. , 146. ,  15. ,  89.5, 124.5,\n",
       "       108.5, 139. , 153. ,   1. ,  92. ,  65. , 131. , 151. , 150. ,\n",
       "        89.5,  29. ,  64. ,  74. , 147. ,  61.5,  28. ,  10. ,  49. ,\n",
       "        32.5, 118. , 116. ,  37. , 148. ,  18. , 100.5,  96. , 141. ,\n",
       "       155. ,  67.5,  71.5, 105. ,  55. ,  75.5, 100.5,  57. ,  19. ,\n",
       "         8.5, 100.5, 145. ,  73. , 103.5,  85. ,  16. , 152. , 113. ,\n",
       "         7. , 128.5, 121.5, 119.5,  60. ,  21. ,  86. ,  97.5,  50. ,\n",
       "        37. ,  88. ,  97.5,  22.5,  44. ,  24.5, 110.5,  77.5,  22.5,\n",
       "       159. ,  42.5, 108.5,  24.5,  77.5,  35. ,  61.5,  14. ,  80. ,\n",
       "        69. ,  83. ,  91. , 157. ,  39.5,  75.5,  39.5, 119.5, 117. ,\n",
       "        67.5,  71.5,   6. , 121.5, 112. ,  45.5,  70. ,  82. ,  63. ,\n",
       "        59. , 139. , 130. , 106.5, 134.5,  13. , 110.5,  11. , 128.5,\n",
       "        37. , 123. , 103.5,  57. ,  47. , 158. , 114.5,   3. ,  26.5,\n",
       "       132. ,  52. , 100.5,  42.5, 133. ,  94. ,  48. , 149. , 154. ,\n",
       "        93. , 114.5,  26.5, 162. , 124.5,  84. , 143. , 106.5, 142. ,\n",
       "         2. ,  66. , 134.5,  80. ,  12. ,  31. , 161. , 139. ,  30. ])"
      ]
     },
     "execution_count": 287,
     "metadata": {},
     "output_type": "execute_result"
    }
   ],
   "source": [
    "stats.rankdata(Z)"
   ]
  },
  {
   "cell_type": "code",
   "execution_count": 290,
   "metadata": {
    "ExecuteTime": {
     "end_time": "2020-03-27T20:43:01.690197Z",
     "start_time": "2020-03-27T20:43:01.683218Z"
    }
   },
   "outputs": [
    {
     "data": {
      "text/plain": [
       "(869.0, 863.0)"
      ]
     },
     "execution_count": 290,
     "metadata": {},
     "output_type": "execute_result"
    }
   ],
   "source": [
    "np.median(X), np.median(Y)"
   ]
  },
  {
   "cell_type": "code",
   "execution_count": 295,
   "metadata": {
    "ExecuteTime": {
     "end_time": "2020-03-27T20:44:37.968871Z",
     "start_time": "2020-03-27T20:44:37.963884Z"
    }
   },
   "outputs": [],
   "source": [
    "X_new = X - (np.median(X) - np.median(Y))\n",
    "R_new = stats.rankdata(np.hstack([X_new, Y]))"
   ]
  },
  {
   "cell_type": "code",
   "execution_count": 296,
   "metadata": {
    "ExecuteTime": {
     "end_time": "2020-03-27T20:45:02.380008Z",
     "start_time": "2020-03-27T20:45:02.371033Z"
    }
   },
   "outputs": [
    {
     "data": {
      "text/plain": [
       "68713.12140556706"
      ]
     },
     "execution_count": 296,
     "metadata": {},
     "output_type": "execute_result"
    }
   ],
   "source": [
    "ttt = 0\n",
    "for val, count in Counter(R_new).most_common():\n",
    "    if count == 1:\n",
    "        break\n",
    "    ttt = ttt + (count * val * val)\n",
    "A_var = m * n * (16 * ttt -  N * (N + 2) ** 2) / 16 / N / (N - 1)\n",
    "A_var"
   ]
  },
  {
   "cell_type": "code",
   "execution_count": 298,
   "metadata": {
    "ExecuteTime": {
     "end_time": "2020-03-27T20:53:46.621904Z",
     "start_time": "2020-03-27T20:53:46.615919Z"
    }
   },
   "outputs": [
    {
     "data": {
      "text/plain": [
       "(79, 83, 162)"
      ]
     },
     "execution_count": 298,
     "metadata": {},
     "output_type": "execute_result"
    }
   ],
   "source": [
    "m, n, N"
   ]
  },
  {
   "cell_type": "code",
   "execution_count": 299,
   "metadata": {
    "ExecuteTime": {
     "end_time": "2020-03-27T20:57:24.499603Z",
     "start_time": "2020-03-27T20:57:24.492647Z"
    }
   },
   "outputs": [
    {
     "data": {
      "text/plain": [
       "162"
      ]
     },
     "execution_count": 299,
     "metadata": {},
     "output_type": "execute_result"
    }
   ],
   "source": [
    "N"
   ]
  },
  {
   "cell_type": "code",
   "execution_count": 302,
   "metadata": {
    "ExecuteTime": {
     "end_time": "2020-03-27T20:57:44.054723Z",
     "start_time": "2020-03-27T20:57:44.048739Z"
    }
   },
   "outputs": [
    {
     "data": {
      "text/plain": [
       "array([ 820,  835,  950,  949,  863,  927,  871,  729,  829,  796, 1019,\n",
       "       1057,  798,  814,  825,  759,  926,  770,  702,  828,  967,  889,\n",
       "        708,  972,  753,  878,  925,  899,  954,  995,  655,  880,  845,\n",
       "        937,  991,  988,  878,  790,  844,  857,  974,  839,  789,  732,\n",
       "        823,  796,  918,  914,  808,  981,  763,  893,  890,  955, 1000,\n",
       "        852,  855,  896,  834,  861,  893,  835,  766,  729,  893,  971,\n",
       "        856,  894,  869,  756,  994,  908,  720,  929,  921,  919,  838,\n",
       "        771,  870,  892,  824,  808,  874,  892,  774,  816,  781,  902,\n",
       "        862,  774, 1043,  815,  899,  781,  862,  801,  839,  752,  863,\n",
       "        853,  865,  879, 1020,  812,  861,  812,  919,  916,  852,  855,\n",
       "        709,  921,  907,  820,  854,  864,  841,  836,  954,  932,  897,\n",
       "        945,  748,  902,  737,  929,  808,  924,  894,  835,  821, 1030,\n",
       "        913,  701,  783,  939,  826,  893,  815,  943,  884,  822,  986,\n",
       "        999,  882,  913,  783, 1176,  925,  868,  964,  897,  961,  682,\n",
       "        847,  945,  863,  743,  793, 1122,  954,  791], dtype=int64)"
      ]
     },
     "execution_count": 302,
     "metadata": {},
     "output_type": "execute_result"
    }
   ],
   "source": [
    "ZZ = np.r_[X, Y]\n",
    "ZZ"
   ]
  },
  {
   "cell_type": "code",
   "execution_count": 303,
   "metadata": {
    "ExecuteTime": {
     "end_time": "2020-03-27T20:58:11.332306Z",
     "start_time": "2020-03-27T20:58:11.329280Z"
    }
   },
   "outputs": [],
   "source": [
    "ZZ_ranks = []\n",
    "for i in range(N//2):\n",
    "    ZZ_ranks.append(i+1)"
   ]
  },
  {
   "cell_type": "code",
   "execution_count": 304,
   "metadata": {
    "ExecuteTime": {
     "end_time": "2020-03-27T20:58:13.377022Z",
     "start_time": "2020-03-27T20:58:13.370037Z"
    }
   },
   "outputs": [
    {
     "data": {
      "text/plain": [
       "[1,\n",
       " 2,\n",
       " 3,\n",
       " 4,\n",
       " 5,\n",
       " 6,\n",
       " 7,\n",
       " 8,\n",
       " 9,\n",
       " 10,\n",
       " 11,\n",
       " 12,\n",
       " 13,\n",
       " 14,\n",
       " 15,\n",
       " 16,\n",
       " 17,\n",
       " 18,\n",
       " 19,\n",
       " 20,\n",
       " 21,\n",
       " 22,\n",
       " 23,\n",
       " 24,\n",
       " 25,\n",
       " 26,\n",
       " 27,\n",
       " 28,\n",
       " 29,\n",
       " 30,\n",
       " 31,\n",
       " 32,\n",
       " 33,\n",
       " 34,\n",
       " 35,\n",
       " 36,\n",
       " 37,\n",
       " 38,\n",
       " 39,\n",
       " 40,\n",
       " 41,\n",
       " 42,\n",
       " 43,\n",
       " 44,\n",
       " 45,\n",
       " 46,\n",
       " 47,\n",
       " 48,\n",
       " 49,\n",
       " 50,\n",
       " 51,\n",
       " 52,\n",
       " 53,\n",
       " 54,\n",
       " 55,\n",
       " 56,\n",
       " 57,\n",
       " 58,\n",
       " 59,\n",
       " 60,\n",
       " 61,\n",
       " 62,\n",
       " 63,\n",
       " 64,\n",
       " 65,\n",
       " 66,\n",
       " 67,\n",
       " 68,\n",
       " 69,\n",
       " 70,\n",
       " 71,\n",
       " 72,\n",
       " 73,\n",
       " 74,\n",
       " 75,\n",
       " 76,\n",
       " 77,\n",
       " 78,\n",
       " 79,\n",
       " 80,\n",
       " 81]"
      ]
     },
     "execution_count": 304,
     "metadata": {},
     "output_type": "execute_result"
    }
   ],
   "source": [
    "ZZ_ranks"
   ]
  },
  {
   "cell_type": "code",
   "execution_count": 305,
   "metadata": {
    "ExecuteTime": {
     "end_time": "2020-03-27T20:59:32.486620Z",
     "start_time": "2020-03-27T20:59:32.482631Z"
    }
   },
   "outputs": [],
   "source": [
    "ZZ_ranks += ZZ_ranks[::-1]"
   ]
  },
  {
   "cell_type": "code",
   "execution_count": 307,
   "metadata": {
    "ExecuteTime": {
     "end_time": "2020-03-27T20:59:43.960889Z",
     "start_time": "2020-03-27T20:59:43.953907Z"
    }
   },
   "outputs": [
    {
     "data": {
      "text/plain": [
       "6642"
      ]
     },
     "execution_count": 307,
     "metadata": {},
     "output_type": "execute_result"
    }
   ],
   "source": [
    "sum(ZZ_ranks)"
   ]
  },
  {
   "cell_type": "code",
   "execution_count": 308,
   "metadata": {
    "ExecuteTime": {
     "end_time": "2020-03-27T20:59:46.702637Z",
     "start_time": "2020-03-27T20:59:46.697653Z"
    }
   },
   "outputs": [
    {
     "data": {
      "text/plain": [
       "3114.0"
      ]
     },
     "execution_count": 308,
     "metadata": {},
     "output_type": "execute_result"
    }
   ],
   "source": [
    "A"
   ]
  },
  {
   "cell_type": "code",
   "execution_count": 321,
   "metadata": {
    "ExecuteTime": {
     "end_time": "2020-03-27T21:06:13.371183Z",
     "start_time": "2020-03-27T21:06:13.365174Z"
    }
   },
   "outputs": [],
   "source": [
    "xy = np.r_[X, Y]\n",
    "rank = stats.rankdata(xy)\n",
    "symrank = np.amin(np.array((rank,N-rank+1)),0)\n",
    "AB = np.sum(symrank[:m],axis=0)"
   ]
  },
  {
   "cell_type": "code",
   "execution_count": 323,
   "metadata": {
    "ExecuteTime": {
     "end_time": "2020-03-27T21:06:20.734671Z",
     "start_time": "2020-03-27T21:06:20.729684Z"
    }
   },
   "outputs": [
    {
     "data": {
      "text/plain": [
       "3114.0"
      ]
     },
     "execution_count": 323,
     "metadata": {},
     "output_type": "execute_result"
    }
   ],
   "source": [
    "AB"
   ]
  },
  {
   "cell_type": "code",
   "execution_count": 336,
   "metadata": {
    "ExecuteTime": {
     "end_time": "2020-03-27T21:20:01.035724Z",
     "start_time": "2020-03-27T21:20:01.029740Z"
    }
   },
   "outputs": [
    {
     "data": {
      "text/plain": [
       "array([ 45.5,  57. , 137. , 136. ,  80. , 127. ,  87. ,   8.5,  54. ,\n",
       "        32.5, 156. , 160. ,  34. ,  41. ,  51. ,  17. , 126. ,  20. ,\n",
       "         4. ,  53. , 144. ,  95. ,   5. , 146. ,  15. ,  89.5, 124.5,\n",
       "       108.5, 139. , 153. ,   1. ,  92. ,  65. , 131. , 151. , 150. ,\n",
       "        89.5,  29. ,  64. ,  74. , 147. ,  61.5,  28. ,  10. ,  49. ,\n",
       "        32.5, 118. , 116. ,  37. , 148. ,  18. , 100.5,  96. , 141. ,\n",
       "       155. ,  67.5,  71.5, 105. ,  55. ,  75.5, 100.5,  57. ,  19. ,\n",
       "         8.5, 100.5, 145. ,  73. , 103.5,  85. ,  16. , 152. , 113. ,\n",
       "         7. , 128.5, 121.5, 119.5,  60. ,  21. ,  86. ])"
      ]
     },
     "execution_count": 336,
     "metadata": {},
     "output_type": "execute_result"
    }
   ],
   "source": [
    "rank[:m]"
   ]
  },
  {
   "cell_type": "code",
   "execution_count": 340,
   "metadata": {
    "ExecuteTime": {
     "end_time": "2020-03-27T21:20:48.653498Z",
     "start_time": "2020-03-27T21:20:48.640569Z"
    }
   },
   "outputs": [
    {
     "data": {
      "text/plain": [
       "[(100.5, 3),\n",
       " (57.0, 2),\n",
       " (8.5, 2),\n",
       " (32.5, 2),\n",
       " (89.5, 2),\n",
       " (45.5, 1),\n",
       " (137.0, 1),\n",
       " (136.0, 1),\n",
       " (80.0, 1),\n",
       " (127.0, 1),\n",
       " (87.0, 1),\n",
       " (54.0, 1),\n",
       " (156.0, 1),\n",
       " (160.0, 1),\n",
       " (34.0, 1),\n",
       " (41.0, 1),\n",
       " (51.0, 1),\n",
       " (17.0, 1),\n",
       " (126.0, 1),\n",
       " (20.0, 1),\n",
       " (4.0, 1),\n",
       " (53.0, 1),\n",
       " (144.0, 1),\n",
       " (95.0, 1),\n",
       " (5.0, 1),\n",
       " (146.0, 1),\n",
       " (15.0, 1),\n",
       " (124.5, 1),\n",
       " (108.5, 1),\n",
       " (139.0, 1),\n",
       " (153.0, 1),\n",
       " (1.0, 1),\n",
       " (92.0, 1),\n",
       " (65.0, 1),\n",
       " (131.0, 1),\n",
       " (151.0, 1),\n",
       " (150.0, 1),\n",
       " (29.0, 1),\n",
       " (64.0, 1),\n",
       " (74.0, 1),\n",
       " (147.0, 1),\n",
       " (61.5, 1),\n",
       " (28.0, 1),\n",
       " (10.0, 1),\n",
       " (49.0, 1),\n",
       " (118.0, 1),\n",
       " (116.0, 1),\n",
       " (37.0, 1),\n",
       " (148.0, 1),\n",
       " (18.0, 1),\n",
       " (96.0, 1),\n",
       " (141.0, 1),\n",
       " (155.0, 1),\n",
       " (67.5, 1),\n",
       " (71.5, 1),\n",
       " (105.0, 1),\n",
       " (55.0, 1),\n",
       " (75.5, 1),\n",
       " (19.0, 1),\n",
       " (145.0, 1),\n",
       " (73.0, 1),\n",
       " (103.5, 1),\n",
       " (85.0, 1),\n",
       " (16.0, 1),\n",
       " (152.0, 1),\n",
       " (113.0, 1),\n",
       " (7.0, 1),\n",
       " (128.5, 1),\n",
       " (121.5, 1),\n",
       " (119.5, 1),\n",
       " (60.0, 1),\n",
       " (21.0, 1),\n",
       " (86.0, 1)]"
      ]
     },
     "execution_count": 340,
     "metadata": {},
     "output_type": "execute_result"
    }
   ],
   "source": [
    "Counter(rank[:m]).most_common()"
   ]
  },
  {
   "cell_type": "code",
   "execution_count": 344,
   "metadata": {
    "ExecuteTime": {
     "end_time": "2020-03-27T21:24:56.112538Z",
     "start_time": "2020-03-27T21:24:56.107552Z"
    }
   },
   "outputs": [],
   "source": [
    "for i in range(N):\n",
    "    rank[i] = min(rank[i], N - rank[i] + 1)"
   ]
  },
  {
   "cell_type": "code",
   "execution_count": 345,
   "metadata": {
    "ExecuteTime": {
     "end_time": "2020-03-27T21:25:02.250219Z",
     "start_time": "2020-03-27T21:25:02.240245Z"
    }
   },
   "outputs": [
    {
     "data": {
      "text/plain": [
       "22257.52306188176"
      ]
     },
     "execution_count": 345,
     "metadata": {},
     "output_type": "execute_result"
    }
   ],
   "source": [
    "ttt = 0\n",
    "for val, count in Counter(rank).most_common():\n",
    "    ttt = ttt + (count * val * val)\n",
    "A_var = m * n * (16 * ttt -  N * (N + 2) ** 2) / 16 / N / (N - 1)\n",
    "A_var"
   ]
  },
  {
   "cell_type": "code",
   "execution_count": 343,
   "metadata": {
    "ExecuteTime": {
     "end_time": "2020-03-27T21:21:18.126252Z",
     "start_time": "2020-03-27T21:21:18.120273Z"
    }
   },
   "outputs": [
    {
     "data": {
      "text/plain": [
       "709100.0"
      ]
     },
     "execution_count": 343,
     "metadata": {},
     "output_type": "execute_result"
    }
   ],
   "source": [
    "ttt"
   ]
  },
  {
   "cell_type": "code",
   "execution_count": 335,
   "metadata": {
    "ExecuteTime": {
     "end_time": "2020-03-27T21:11:56.396826Z",
     "start_time": "2020-03-27T21:11:56.392834Z"
    }
   },
   "outputs": [
    {
     "data": {
      "text/plain": [
       "360856.5"
      ]
     },
     "execution_count": 335,
     "metadata": {},
     "output_type": "execute_result"
    }
   ],
   "source": [
    "ttt"
   ]
  },
  {
   "cell_type": "code",
   "execution_count": 316,
   "metadata": {
    "ExecuteTime": {
     "end_time": "2020-03-27T21:03:34.760021Z",
     "start_time": "2020-03-27T21:03:34.753040Z"
    }
   },
   "outputs": [
    {
     "data": {
      "text/plain": [
       "AnsariResult(statistic=3114.0, pvalue=0.40210918494512027)"
      ]
     },
     "execution_count": 316,
     "metadata": {},
     "output_type": "execute_result"
    }
   ],
   "source": [
    "stats.ansari(X, Y)"
   ]
  },
  {
   "cell_type": "code",
   "execution_count": 346,
   "metadata": {
    "ExecuteTime": {
     "end_time": "2020-03-27T21:25:32.674705Z",
     "start_time": "2020-03-27T21:25:32.665730Z"
    }
   },
   "outputs": [
    {
     "data": {
      "text/plain": [
       "0.40210918494512027"
      ]
     },
     "execution_count": 346,
     "metadata": {},
     "output_type": "execute_result"
    }
   ],
   "source": [
    "2 * stats.norm.cdf((A - A_mean) / np.sqrt(A_var))"
   ]
  },
  {
   "cell_type": "code",
   "execution_count": 354,
   "metadata": {
    "ExecuteTime": {
     "end_time": "2020-03-27T21:29:32.280714Z",
     "start_time": "2020-03-27T21:29:32.270742Z"
    }
   },
   "outputs": [
    {
     "data": {
      "text/plain": [
       "59776.87717583007"
      ]
     },
     "execution_count": 354,
     "metadata": {},
     "output_type": "execute_result"
    }
   ],
   "source": [
    "ttt = 0\n",
    "for val, count in Counter(stats.rankdata(np.r_[X, Y])).most_common():\n",
    "    if count == 1:\n",
    "        break\n",
    "    ttt = ttt + (count * val * val)\n",
    "A_var = m * n * (16 * ttt -  N * (N + 2) ** 2) / 16 / N / (N - 1)\n",
    "A_var"
   ]
  },
  {
   "cell_type": "code",
   "execution_count": null,
   "metadata": {},
   "outputs": [],
   "source": []
  }
 ],
 "metadata": {
  "kernelspec": {
   "display_name": "Python 3",
   "language": "python",
   "name": "python3"
  },
  "language_info": {
   "codemirror_mode": {
    "name": "ipython",
    "version": 3
   },
   "file_extension": ".py",
   "mimetype": "text/x-python",
   "name": "python",
   "nbconvert_exporter": "python",
   "pygments_lexer": "ipython3",
   "version": "3.7.3"
  }
 },
 "nbformat": 4,
 "nbformat_minor": 4
}
