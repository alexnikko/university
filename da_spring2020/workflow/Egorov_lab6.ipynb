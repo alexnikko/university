{
 "cells": [
  {
   "cell_type": "code",
   "execution_count": 1,
   "metadata": {},
   "outputs": [],
   "source": [
    "import pandas as pd\n",
    "import numpy as np\n",
    "import matplotlib.pyplot as plt\n",
    "import seaborn as sns\n",
    "from scipy import stats\n",
    "from sklearn.linear_model import LinearRegression"
   ]
  },
  {
   "cell_type": "code",
   "execution_count": 3,
   "metadata": {},
   "outputs": [
    {
     "data": {
      "text/html": [
       "<div>\n",
       "<style scoped>\n",
       "    .dataframe tbody tr th:only-of-type {\n",
       "        vertical-align: middle;\n",
       "    }\n",
       "\n",
       "    .dataframe tbody tr th {\n",
       "        vertical-align: top;\n",
       "    }\n",
       "\n",
       "    .dataframe thead th {\n",
       "        text-align: right;\n",
       "    }\n",
       "</style>\n",
       "<table border=\"1\" class=\"dataframe\">\n",
       "  <thead>\n",
       "    <tr style=\"text-align: right;\">\n",
       "      <th></th>\n",
       "      <th>x1</th>\n",
       "      <th>x2</th>\n",
       "      <th>x3</th>\n",
       "      <th>y</th>\n",
       "    </tr>\n",
       "  </thead>\n",
       "  <tbody>\n",
       "    <tr>\n",
       "      <td>0</td>\n",
       "      <td>26.936784</td>\n",
       "      <td>93.051662</td>\n",
       "      <td>-57.724979</td>\n",
       "      <td>-103906.268958</td>\n",
       "    </tr>\n",
       "    <tr>\n",
       "      <td>1</td>\n",
       "      <td>25.882914</td>\n",
       "      <td>-15.956548</td>\n",
       "      <td>4.629428</td>\n",
       "      <td>36660.778731</td>\n",
       "    </tr>\n",
       "    <tr>\n",
       "      <td>2</td>\n",
       "      <td>72.325565</td>\n",
       "      <td>-36.363453</td>\n",
       "      <td>51.612948</td>\n",
       "      <td>52458.669419</td>\n",
       "    </tr>\n",
       "    <tr>\n",
       "      <td>3</td>\n",
       "      <td>25.721162</td>\n",
       "      <td>48.964314</td>\n",
       "      <td>-104.454286</td>\n",
       "      <td>281385.144662</td>\n",
       "    </tr>\n",
       "    <tr>\n",
       "      <td>4</td>\n",
       "      <td>-65.889293</td>\n",
       "      <td>-23.420170</td>\n",
       "      <td>-19.125384</td>\n",
       "      <td>-199078.713629</td>\n",
       "    </tr>\n",
       "  </tbody>\n",
       "</table>\n",
       "</div>"
      ],
      "text/plain": [
       "          x1         x2          x3              y\n",
       "0  26.936784  93.051662  -57.724979 -103906.268958\n",
       "1  25.882914 -15.956548    4.629428   36660.778731\n",
       "2  72.325565 -36.363453   51.612948   52458.669419\n",
       "3  25.721162  48.964314 -104.454286  281385.144662\n",
       "4 -65.889293 -23.420170  -19.125384 -199078.713629"
      ]
     },
     "execution_count": 3,
     "metadata": {},
     "output_type": "execute_result"
    }
   ],
   "source": [
    "data = pd.read_csv('task.csv')\n",
    "data.head()"
   ]
  },
  {
   "cell_type": "code",
   "execution_count": 18,
   "metadata": {},
   "outputs": [],
   "source": [
    "def regression(X, y):\n",
    "    X = np.hstack((X,np.ones((1,X.shape[0])).T))\n",
    "    W_inv = np.linalg.inv(X.T @ X)\n",
    "    return W_inv@X.T@y"
   ]
  },
  {
   "cell_type": "code",
   "execution_count": 19,
   "metadata": {},
   "outputs": [],
   "source": [
    "X,y = data.drop('y', axis = 1).values, data['y'].values"
   ]
  },
  {
   "cell_type": "code",
   "execution_count": 21,
   "metadata": {},
   "outputs": [],
   "source": [
    "answ = regression(X,y)"
   ]
  },
  {
   "cell_type": "code",
   "execution_count": 26,
   "metadata": {},
   "outputs": [
    {
     "data": {
      "text/plain": [
       "(array([ 717.41146317,   54.0762867 , 1069.58945972]), 122927.77385685255)"
      ]
     },
     "execution_count": 26,
     "metadata": {},
     "output_type": "execute_result"
    }
   ],
   "source": [
    "coefs, intercept = answ[:-1], answ[-1]\n",
    "coefs, intercept"
   ]
  },
  {
   "cell_type": "code",
   "execution_count": 23,
   "metadata": {},
   "outputs": [],
   "source": [
    "linear = LinearRegression()"
   ]
  },
  {
   "cell_type": "code",
   "execution_count": 25,
   "metadata": {},
   "outputs": [
    {
     "data": {
      "text/plain": [
       "(array([ 717.41146317,   54.0762867 , 1069.58945972]), 122927.77385685257)"
      ]
     },
     "execution_count": 25,
     "metadata": {},
     "output_type": "execute_result"
    }
   ],
   "source": [
    "linear.fit(X,y)\n",
    "linear.coef_, linear.intercept_"
   ]
  },
  {
   "cell_type": "code",
   "execution_count": 39,
   "metadata": {},
   "outputs": [],
   "source": [
    "preds = linear.predict(X)"
   ]
  },
  {
   "cell_type": "code",
   "execution_count": 40,
   "metadata": {},
   "outputs": [
    {
     "data": {
      "text/plain": [
       "array([ True,  True,  True,  True,  True,  True,  True,  True,  True,\n",
       "        True,  True,  True,  True,  True,  True,  True,  True,  True,\n",
       "        True,  True,  True,  True,  True,  True,  True,  True,  True,\n",
       "        True,  True,  True,  True,  True,  True,  True,  True,  True,\n",
       "        True,  True,  True,  True,  True,  True,  True,  True,  True,\n",
       "        True,  True,  True,  True,  True,  True,  True,  True,  True,\n",
       "        True,  True,  True,  True,  True,  True,  True,  True,  True,\n",
       "        True,  True,  True,  True,  True,  True,  True,  True,  True,\n",
       "        True,  True,  True,  True,  True,  True,  True,  True,  True,\n",
       "        True,  True,  True,  True,  True,  True,  True,  True,  True,\n",
       "        True,  True,  True,  True,  True,  True,  True,  True,  True,\n",
       "        True])"
      ]
     },
     "execution_count": 40,
     "metadata": {},
     "output_type": "execute_result"
    }
   ],
   "source": [
    "(X@coefs+intercept).astype('float32')== preds.astype('float32')\n",
    "# Реализация sclearn предскала так же, как и мы"
   ]
  },
  {
   "cell_type": "code",
   "execution_count": 42,
   "metadata": {},
   "outputs": [
    {
     "data": {
      "image/png": "[encoded data removed]",
      "text/plain": [
       "<Figure size 432x288 with 1 Axes>"
      ]
     },
     "metadata": {
      "needs_background": "light"
     },
     "output_type": "display_data"
    }
   ],
   "source": [
    "x_1 = X[:,0]\n",
    "sns.scatterplot(x_1, y)\n",
    "\n",
    "plt.plot(np.array([x_1.min(), x_1.max()]), preds[[x_1.argmin(), x_1.argmax()]], 'r-')\n",
    "plt.xlabel('x1')\n",
    "plt.ylabel('y')\n",
    "\n",
    "plt.show()"
   ]
  },
  {
   "cell_type": "code",
   "execution_count": 44,
   "metadata": {},
   "outputs": [
    {
     "data": {
      "image/png": "[encoded data removed]",
      "text/plain": [
       "<Figure size 432x288 with 1 Axes>"
      ]
     },
     "metadata": {
      "needs_background": "light"
     },
     "output_type": "display_data"
    }
   ],
   "source": [
    "x_2 = X[:,1]\n",
    "sns.scatterplot(x_2, y)\n",
    "\n",
    "plt.plot(np.array([x_2.min(), x_2.max()]), preds[[x_2.argmin(), x_2.argmax()]], 'r-')\n",
    "plt.xlabel('x2')\n",
    "plt.ylabel('y')\n",
    "\n",
    "plt.show()"
   ]
  },
  {
   "cell_type": "code",
   "execution_count": 45,
   "metadata": {},
   "outputs": [
    {
     "data": {
      "image/png": "[encoded data removed]",
      "text/plain": [
       "<Figure size 432x288 with 1 Axes>"
      ]
     },
     "metadata": {
      "needs_background": "light"
     },
     "output_type": "display_data"
    }
   ],
   "source": [
    "x_3 = X[:,2]\n",
    "sns.scatterplot(x_3, y)\n",
    "\n",
    "plt.plot(np.array([x_3.min(), x_3.max()]), preds[[x_3.argmin(), x_3.argmax()]], 'r-')\n",
    "plt.xlabel('x3')\n",
    "plt.ylabel('y')\n",
    "\n",
    "plt.show()"
   ]
  },
  {
   "cell_type": "code",
   "execution_count": null,
   "metadata": {},
   "outputs": [],
   "source": []
  },
  {
   "cell_type": "code",
   "execution_count": null,
   "metadata": {},
   "outputs": [],
   "source": []
  },
  {
   "cell_type": "code",
   "execution_count": 67,
   "metadata": {},
   "outputs": [
    {
     "data": {
      "image/png": "[encoded data removed]",
      "text/plain": [
       "<Figure size 432x288 with 1 Axes>"
      ]
     },
     "metadata": {
      "needs_background": "light"
     },
     "output_type": "display_data"
    }
   ],
   "source": [
    "dy = y - preds\n",
    "sns.distplot(dy);"
   ]
  },
  {
   "cell_type": "code",
   "execution_count": 68,
   "metadata": {},
   "outputs": [
    {
     "name": "stdout",
     "output_type": "stream",
     "text": [
      "Остатки распределены не нормально, p_val = 0.031199295073747635\n"
     ]
    }
   ],
   "source": [
    "_, p_value = stats.shapiro(dy)\n",
    "if p_value>=0.05:\n",
    "    print('Остатки имеют нормальное распределение, p_val =', p_value)\n",
    "else:\n",
    "    print('Остатки распределены не нормально, p_val =', p_value)"
   ]
  },
  {
   "cell_type": "code",
   "execution_count": 69,
   "metadata": {},
   "outputs": [],
   "source": [
    "# видим, что остатки не имеют нормальное распределение, что означает, что модель плохо решает задачу"
   ]
  },
  {
   "cell_type": "code",
   "execution_count": 70,
   "metadata": {},
   "outputs": [
    {
     "name": "stdout",
     "output_type": "stream",
     "text": [
      "Систематическая ошибка отсутствует, p_val = 0.9999999999999998\n"
     ]
    }
   ],
   "source": [
    "_, p_value = stats.ttest_1samp(dy, 0)\n",
    "if p_value>=0.05:\n",
    "    print('Систематическая ошибка отсутствует, p_val =', p_value)\n",
    "else:\n",
    "    print('Систематическая ошибка присутствует, p_val =', p_value)"
   ]
  },
  {
   "cell_type": "code",
   "execution_count": 71,
   "metadata": {},
   "outputs": [
    {
     "data": {
      "image/png": "[encoded data removed]",
      "text/plain": [
       "<Figure size 432x288 with 1 Axes>"
      ]
     },
     "metadata": {
      "needs_background": "light"
     },
     "output_type": "display_data"
    }
   ],
   "source": [
    "sns.scatterplot(x_1, dy)\n",
    "plt.xlabel('x1')\n",
    "plt.ylabel('Остатки')\n",
    "plt.show()"
   ]
  },
  {
   "cell_type": "code",
   "execution_count": 72,
   "metadata": {},
   "outputs": [
    {
     "data": {
      "image/png": "[encoded data removed]",
      "text/plain": [
       "<Figure size 432x288 with 1 Axes>"
      ]
     },
     "metadata": {
      "needs_background": "light"
     },
     "output_type": "display_data"
    }
   ],
   "source": [
    "sns.scatterplot(x_2, dy)\n",
    "plt.xlabel('x2')\n",
    "plt.ylabel('Остатки')\n",
    "plt.show()"
   ]
  },
  {
   "cell_type": "code",
   "execution_count": 73,
   "metadata": {},
   "outputs": [
    {
     "data": {
      "image/png": "[encoded data removed]",
      "text/plain": [
       "<Figure size 432x288 with 1 Axes>"
      ]
     },
     "metadata": {
      "needs_background": "light"
     },
     "output_type": "display_data"
    }
   ],
   "source": [
    "sns.scatterplot(x_3, dy)\n",
    "plt.xlabel('x3')\n",
    "plt.ylabel('Остатки')\n",
    "plt.show()"
   ]
  },
  {
   "cell_type": "code",
   "execution_count": 74,
   "metadata": {},
   "outputs": [
    {
     "data": {
      "image/png": "[encoded data removed]",
      "text/plain": [
       "<Figure size 432x288 with 1 Axes>"
      ]
     },
     "metadata": {
      "needs_background": "light"
     },
     "output_type": "display_data"
    }
   ],
   "source": [
    "sns.scatterplot(preds, dy)\n",
    "plt.xlabel('Предсказания')\n",
    "plt.ylabel('Остатки')\n",
    "plt.show()"
   ]
  },
  {
   "cell_type": "code",
   "execution_count": null,
   "metadata": {},
   "outputs": [],
   "source": []
  },
  {
   "cell_type": "code",
   "execution_count": 80,
   "metadata": {},
   "outputs": [],
   "source": [
    "def spearman(X,Y):\n",
    "    n = X.shape[0]\n",
    "    R_1 = stats.rankdata(X)\n",
    "    R_2 = stats.rankdata(Y)\n",
    "    R_1_mean = R_1.mean()\n",
    "    R_2_mean = R_2.mean()\n",
    "    sum_1 = 0\n",
    "    for i in range(n):\n",
    "        sum_1 += (R_1[i]-R_1_mean)*(R_2[i]-R_2_mean)\n",
    "    sum_2 = 0\n",
    "    sum_3 = 0\n",
    "    for i in range(n):\n",
    "        sum_2 += (R_1[i]-R_1_mean)**2\n",
    "        sum_3 += (R_2[i]-R_2_mean)**2\n",
    "    r = sum_1/np.sqrt(sum_2*sum_3)\n",
    "    T = np.sqrt(n-2)*r / np.sqrt(1-r**2)\n",
    "    p_val = 2 * min(stats.t.cdf(T, n - 2), 1 - stats.t.cdf(T, n - 2))\n",
    "    return T, p_val"
   ]
  },
  {
   "cell_type": "code",
   "execution_count": 85,
   "metadata": {},
   "outputs": [
    {
     "name": "stdout",
     "output_type": "stream",
     "text": [
      "Остатки и x1 независимы, p_val = 0.9473722648783016\n"
     ]
    }
   ],
   "source": [
    "_, p_value = spearman(x_1,dy)\n",
    "if p_value>=0.05:\n",
    "    print('Остатки и x1 независимы, p_val =', p_value)\n",
    "else:\n",
    "    print('Остатки и x1 зависимы, p_val =', p_value)"
   ]
  },
  {
   "cell_type": "code",
   "execution_count": 86,
   "metadata": {},
   "outputs": [
    {
     "name": "stdout",
     "output_type": "stream",
     "text": [
      "Остатки и x2 независимы, p_val = 0.8721422686260343\n"
     ]
    }
   ],
   "source": [
    "_, p_value = spearman(x_2,dy)\n",
    "if p_value>=0.05:\n",
    "    print('Остатки и x2 независимы, p_val =', p_value)\n",
    "else:\n",
    "    print('Остатки и x2 зависимы, p_val =', p_value)"
   ]
  },
  {
   "cell_type": "code",
   "execution_count": 87,
   "metadata": {},
   "outputs": [
    {
     "name": "stdout",
     "output_type": "stream",
     "text": [
      "Остатки и x3 независимы, p_val = 0.5524318734104716\n"
     ]
    }
   ],
   "source": [
    "_, p_value = spearman(x_3,dy)\n",
    "if p_value>=0.05:\n",
    "    print('Остатки и x3 независимы, p_val =', p_value)\n",
    "else:\n",
    "    print('Остатки и x3 зависимы, p_val =', p_value)"
   ]
  },
  {
   "cell_type": "code",
   "execution_count": 90,
   "metadata": {},
   "outputs": [
    {
     "name": "stdout",
     "output_type": "stream",
     "text": [
      "Остатки и предсказания независимы, p_val = 0.5894783018743857\n"
     ]
    }
   ],
   "source": [
    "_, p_value = spearman(preds,dy)\n",
    "if p_value>=0.05:\n",
    "    print('Остатки и предсказания независимы, p_val =', p_value)\n",
    "else:\n",
    "    print('Остатки и предсказания зависимы, p_val =', p_value)"
   ]
  },
  {
   "cell_type": "code",
   "execution_count": null,
   "metadata": {},
   "outputs": [],
   "source": [
    "# Предикторы и остатки и предикторы и предсказания независимы"
   ]
  },
  {
   "cell_type": "code",
   "execution_count": null,
   "metadata": {},
   "outputs": [],
   "source": []
  },
  {
   "cell_type": "code",
   "execution_count": 97,
   "metadata": {},
   "outputs": [
    {
     "name": "stdout",
     "output_type": "stream",
     "text": [
      "Коэффициент детерменации = 0.3204316662383543\n"
     ]
    }
   ],
   "source": [
    "R_2 = 1 - (dy**2).sum() / ((y - y.mean()) **2 ).sum()\n",
    "print('Коэффициент детерменации =', R_2)"
   ]
  },
  {
   "cell_type": "code",
   "execution_count": 107,
   "metadata": {},
   "outputs": [
    {
     "name": "stdout",
     "output_type": "stream",
     "text": [
      "Несмещенный коэффициент детерменации = 0.2991951558083029\n"
     ]
    }
   ],
   "source": [
    "n = preds.shape[0]\n",
    "p = 4 # учитываем байес\n",
    "R_2_unshifted = 1 - (n - 1) / (n - p) * (dy**2).sum() / ((y - y.mean()) **2).sum()\n",
    "print('Несмещенный коэффициент детерменации =', R_2_unshifted)"
   ]
  },
  {
   "cell_type": "code",
   "execution_count": null,
   "metadata": {},
   "outputs": [],
   "source": []
  }
 ],
 "metadata": {
  "kernelspec": {
   "display_name": "Python 3",
   "language": "python",
   "name": "python3"
  },
  "language_info": {
   "codemirror_mode": {
    "name": "ipython",
    "version": 3
   },
   "file_extension": ".py",
   "mimetype": "text/x-python",
   "name": "python",
   "nbconvert_exporter": "python",
   "pygments_lexer": "ipython3",
   "version": "3.7.3"
  }
 },
 "nbformat": 4,
 "nbformat_minor": 2
}
