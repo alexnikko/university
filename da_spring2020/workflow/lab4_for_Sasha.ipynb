{
 "cells": [
  {
   "cell_type": "code",
   "execution_count": 1,
   "metadata": {
    "ExecuteTime": {
     "end_time": "2020-04-05T19:40:48.014982Z",
     "start_time": "2020-04-05T19:40:47.380387Z"
    }
   },
   "outputs": [],
   "source": [
    "import pandas as pd\n",
    "import numpy as np\n",
    "from scipy import stats\n",
    "from collections import Counter"
   ]
  },
  {
   "cell_type": "code",
   "execution_count": 2,
   "metadata": {
    "ExecuteTime": {
     "end_time": "2020-04-05T19:40:48.018984Z",
     "start_time": "2020-04-05T19:40:48.015982Z"
    }
   },
   "outputs": [],
   "source": [
    "task = [6, 21, 22]\n",
    "stat = []\n",
    "p = []\n",
    "h = []"
   ]
  },
  {
   "cell_type": "markdown",
   "metadata": {},
   "source": [
    "#### Задача 6\n",
    "\n",
    "В задаче сказано, что данные распределены нормально, поэтому воспользуемся критерием Пирсона, предварительно убедимся, что дисперсии выборок не равны нулю. Нулевая гипотеза $H_0$ - данные независимы, альтернативная $H_3$ - данные зависимы"
   ]
  },
  {
   "cell_type": "code",
   "execution_count": 3,
   "metadata": {
    "ExecuteTime": {
     "end_time": "2020-04-05T19:40:48.028986Z",
     "start_time": "2020-04-05T19:40:48.020984Z"
    }
   },
   "outputs": [
    {
     "name": "stdout",
     "output_type": "stream",
     "text": [
      "дисперсии: 0.029224888888888894 2771.1875555555553\n"
     ]
    }
   ],
   "source": [
    "x = np.array([1.05, 1.06, 0.74, 0.88, 0.92, 1.17, 1.07, 1.12, 1.02, 1.02, 0.65, 1.25, 1.01, 0.69, 1.13])\n",
    "y = np.array([346.2, 378.3, 330.3, 238.8, 331.1, 431.0, 408.3, 383.5, 341.4, 352.8, 338.1, 446.9, 326.6, 274.7, 381.0])\n",
    "n = 15\n",
    "alpha = 0.05\n",
    "print('дисперсии:', np.var(x), np.var(y))"
   ]
  },
  {
   "cell_type": "code",
   "execution_count": 4,
   "metadata": {
    "ExecuteTime": {
     "end_time": "2020-04-05T19:40:48.037987Z",
     "start_time": "2020-04-05T19:40:48.029985Z"
    }
   },
   "outputs": [
    {
     "name": "stdout",
     "output_type": "stream",
     "text": [
      "Статистика = 0.7380957840150532\n",
      "p_value = 0.0016793308942941731\n",
      "Библиотека: (0.7380957840150566, 0.001679330894294085)\n"
     ]
    }
   ],
   "source": [
    "x_mean = x.mean()\n",
    "y_mean = y.mean()\n",
    "x_var = np.var(x)\n",
    "y_var = np.var(y)\n",
    "k = 0\n",
    "for i in range(n):\n",
    "    k += x[i] * y[i]\n",
    "k = k / n\n",
    "k = k - x_mean * y_mean\n",
    "r = k / np.sqrt(x_var * y_var)\n",
    "T = np.sqrt(n - 2) * r / np.sqrt(1 - r ** 2)\n",
    "p_val = 2 * min(stats.t.cdf(T, n - 2), 1 - stats.t.cdf(T, n - 2))\n",
    "stat.append(r)\n",
    "p.append(p_val)\n",
    "print('Статистика =', r)\n",
    "print('p_value =', p_val)\n",
    "print('Библиотека:', stats.pearsonr(x, y))"
   ]
  },
  {
   "cell_type": "markdown",
   "metadata": {},
   "source": [
    "Поскольку p_value < 0.05, то отвергаем нулевую гипотезу"
   ]
  },
  {
   "cell_type": "code",
   "execution_count": 5,
   "metadata": {
    "ExecuteTime": {
     "end_time": "2020-04-05T19:40:48.042989Z",
     "start_time": "2020-04-05T19:40:48.039989Z"
    }
   },
   "outputs": [],
   "source": [
    "h.append(3)"
   ]
  },
  {
   "cell_type": "markdown",
   "metadata": {},
   "source": [
    "#### Задача 21\n",
    "\n",
    "В задаче написано использовать критерий Кендалла. Гипотезы те же, что и в задаче 6."
   ]
  },
  {
   "cell_type": "code",
   "execution_count": 6,
   "metadata": {
    "ExecuteTime": {
     "end_time": "2020-04-05T19:40:48.052991Z",
     "start_time": "2020-04-05T19:40:48.043989Z"
    }
   },
   "outputs": [],
   "source": [
    "x = np.array([13, 7, 10, 9, 9, 13, 8, 9, 5, 24, 12, 8, 3, 6, 3, 18, 16, 16, 14, 3, 14, 8, 5, 7, 10, 11, 4, 31, 12, 9, 6,\n",
    "             12, 4, 10, 5, 11, 13, 7, 17, 8, 9, 10, 6, 5, 6, 4, 11, 11, 3, 7, 8, 11, 9, 11, 8, 7, 9, 6, 9, 9, 11, 11, 5, 8, 4])\n",
    "y = np.array([62.4, 69.3, 63.3, 67.8, 69.3, 68.4, 66.3, 60, 66.3, 78, 72.6, 60.9, 61.5, 70.8, 62.1, 65.7, 62.1, 72.6,\n",
    "              70.5, 66.6, 63.3, 72.9, 72.9, 58.2, 68.1, 67.8, 63.3, 72.9, 67.2, 64.8, 68.7, 68.4, 64.5, 74.1, 71.7,\n",
    "              67.8, 68.1, 25.1, 78.9, 64.5, 57.6, 71.7, 52.2, 59.7, 48, 62.1, 81.3, 65.1, 63.9, 54.9, 54.3, 54.6,\n",
    "              62.7, 62.7, 63.9, 64.2, 66.3, 65.4, 67.2, 69, 56.7, 77.7, 57, 61.5, 65.7])\n",
    "n = x.shape[0]"
   ]
  },
  {
   "cell_type": "code",
   "execution_count": 7,
   "metadata": {
    "ExecuteTime": {
     "end_time": "2020-04-05T19:40:48.074996Z",
     "start_time": "2020-04-05T19:40:48.053991Z"
    }
   },
   "outputs": [
    {
     "name": "stdout",
     "output_type": "stream",
     "text": [
      "Статистика = 0.2575573777696812\n",
      "p_value = 0.001841065226333205\n",
      "Библиотека: KendalltauResult(correlation=0.2575573777696812, pvalue=0.0034475221032775885)\n"
     ]
    }
   ],
   "source": [
    "R = stats.rankdata(x)\n",
    "S = stats.rankdata(y)\n",
    "u1 = 0\n",
    "u2 = 0\n",
    "for value, amount in Counter(R).most_common():\n",
    "    u1 += amount * (amount - 1)\n",
    "u1 = u1 / 2\n",
    "for value, amount in Counter(S).most_common():\n",
    "    u2 += amount * (amount - 1)\n",
    "u2 = u2 / 2\n",
    "tau = 0\n",
    "for i in range(n-1):\n",
    "    for j in range(i+1, n):\n",
    "        tau += np.sign((x[i] - x[j]) * (y[i] - y[j]))\n",
    "tau = tau / (np.sqrt(n * (n-1) / 2 - u1) * np.sqrt(n * (n-1) / 2 - u2))\n",
    "T = 3 * np.sqrt(n) * tau / 2\n",
    "p_val = 2 * min(stats.norm.cdf(T), 1 - stats.norm.cdf(T))\n",
    "stat.append(tau)\n",
    "p.append(p_val)\n",
    "print('Статистика =', tau)\n",
    "print('p_value =', p_val)\n",
    "print('Библиотека:', stats.kendalltau(x, y))"
   ]
  },
  {
   "cell_type": "markdown",
   "metadata": {},
   "source": [
    "Поскольку p_value < 0.05, то отвергаем нулевую гипотезу"
   ]
  },
  {
   "cell_type": "code",
   "execution_count": 8,
   "metadata": {
    "ExecuteTime": {
     "end_time": "2020-04-05T19:40:48.079997Z",
     "start_time": "2020-04-05T19:40:48.076998Z"
    }
   },
   "outputs": [],
   "source": [
    "h.append(3)"
   ]
  },
  {
   "cell_type": "markdown",
   "metadata": {},
   "source": [
    "#### Задача 22\n",
    "\n",
    "В условие сказано, что данные распределены нормально, поэтому как и в случае 6й задачи будем использовать критерий Пирсона (также проверив, что дисперсия не ноль). Альтернативная гипотеза явно задана в задаче (отрицательная зависимость) поэтому основная гипотеза $H_0$ - данные независимы, альтернативная $H_1$ - данные отрицательно зависимы"
   ]
  },
  {
   "cell_type": "code",
   "execution_count": 9,
   "metadata": {
    "ExecuteTime": {
     "end_time": "2020-04-05T19:40:48.085998Z",
     "start_time": "2020-04-05T19:40:48.081998Z"
    }
   },
   "outputs": [],
   "source": [
    "x = np.array([67.3, 73.1, 72.6, 73.9, 74.7, 75, 77.1, 90.4, 70.9, 74.7, 80.2])\n",
    "y = np.array([8828, 8332, 7101, 8127, 5985, 10827, 8565, 4295, 4750, 6379, 10103])\n",
    "n = x.shape[0]"
   ]
  },
  {
   "cell_type": "markdown",
   "metadata": {},
   "source": [
    "К сожалению, в х есть одна связка......."
   ]
  },
  {
   "cell_type": "code",
   "execution_count": 10,
   "metadata": {
    "ExecuteTime": {
     "end_time": "2020-04-05T19:40:48.097001Z",
     "start_time": "2020-04-05T19:40:48.086998Z"
    }
   },
   "outputs": [
    {
     "name": "stdout",
     "output_type": "stream",
     "text": [
      "Статистика = 0.03669879217087869\n",
      "p_value = 0.5724339297076471\n"
     ]
    }
   ],
   "source": [
    "R = stats.rankdata(x)\n",
    "S = stats.rankdata(y)\n",
    "u1 = 0\n",
    "u2 = 0\n",
    "for value, amount in Counter(R).most_common():\n",
    "    u1 += amount * (amount - 1)\n",
    "u1 = u1 / 2\n",
    "for value, amount in Counter(S).most_common():\n",
    "    u2 += amount * (amount - 1)\n",
    "u2 = u2 / 2\n",
    "tau = 0\n",
    "for i in range(n-1):\n",
    "    for j in range(i+1, n):\n",
    "        tau += np.sign((x[i] - x[j]) * (y[i] - y[j]))\n",
    "tau = tau / (np.sqrt(n * (n-1) / 2 - u1) * np.sqrt(n * (n-1) / 2 - u2))\n",
    "T = 3 * np.sqrt(n) * tau / 2\n",
    "p_val = stats.norm.cdf(T) # левосторонняя область\n",
    "stat.append(tau)\n",
    "p.append(p_val)\n",
    "print('Статистика =', tau)\n",
    "print('p_value =', p_val)\n",
    "# библиотека для двухсторонней области и из нее нельзя получить одностороннюю"
   ]
  },
  {
   "cell_type": "markdown",
   "metadata": {},
   "source": [
    "Поскольку p_value > 0.05, то остаемся в рамках нулевой гипотезы"
   ]
  },
  {
   "cell_type": "code",
   "execution_count": 11,
   "metadata": {
    "ExecuteTime": {
     "end_time": "2020-04-05T19:40:48.102003Z",
     "start_time": "2020-04-05T19:40:48.098001Z"
    }
   },
   "outputs": [],
   "source": [
    "h.append(0)"
   ]
  },
  {
   "cell_type": "markdown",
   "metadata": {},
   "source": [
    "Запишем ответы"
   ]
  },
  {
   "cell_type": "code",
   "execution_count": 12,
   "metadata": {
    "ExecuteTime": {
     "end_time": "2020-04-05T19:40:48.112005Z",
     "start_time": "2020-04-05T19:40:48.104003Z"
    }
   },
   "outputs": [],
   "source": [
    "ans = pd.DataFrame()\n",
    "ans['task'] = task\n",
    "ans['stat'] = stat\n",
    "ans['p'] = p\n",
    "ans['h'] = h\n",
    "ans.to_csv('result.csv', index=False)"
   ]
  },
  {
   "cell_type": "code",
   "execution_count": null,
   "metadata": {},
   "outputs": [],
   "source": []
  }
 ],
 "metadata": {
  "kernelspec": {
   "display_name": "Python 3",
   "language": "python",
   "name": "python3"
  },
  "language_info": {
   "codemirror_mode": {
    "name": "ipython",
    "version": 3
   },
   "file_extension": ".py",
   "mimetype": "text/x-python",
   "name": "python",
   "nbconvert_exporter": "python",
   "pygments_lexer": "ipython3",
   "version": "3.7.4"
  }
 },
 "nbformat": 4,
 "nbformat_minor": 2
}
