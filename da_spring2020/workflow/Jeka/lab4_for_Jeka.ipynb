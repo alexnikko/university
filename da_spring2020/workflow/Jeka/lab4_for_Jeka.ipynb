{
 "cells": [
  {
   "cell_type": "code",
   "execution_count": 1,
   "metadata": {
    "ExecuteTime": {
     "end_time": "2020-04-05T20:15:19.145364Z",
     "start_time": "2020-04-05T20:15:18.510615Z"
    }
   },
   "outputs": [],
   "source": [
    "import pandas as pd\n",
    "import numpy as np\n",
    "from scipy import stats\n",
    "from collections import Counter"
   ]
  },
  {
   "cell_type": "code",
   "execution_count": null,
   "metadata": {
    "ExecuteTime": {
     "start_time": "2020-04-05T20:19:47.936Z"
    }
   },
   "outputs": [],
   "source": [
    "task = [14, 18, 9]\n",
    "stat = []\n",
    "p = []\n",
    "h = []"
   ]
  },
  {
   "cell_type": "markdown",
   "metadata": {},
   "source": [
    "#### Задача 14\n",
    "\n",
    "Проверить независимость веса от возраста. H0 - независимы, H1 - зависимы"
   ]
  },
  {
   "cell_type": "code",
   "execution_count": 3,
   "metadata": {
    "ExecuteTime": {
     "end_time": "2020-04-05T20:15:19.157367Z",
     "start_time": "2020-04-05T20:15:19.151366Z"
    }
   },
   "outputs": [],
   "source": [
    "x = pd.read_csv('Task14Data1.csv', header=None)\n",
    "y = pd.read_csv('Task14Data2.csv', header=None)\n",
    "x = x.to_numpy()\n",
    "x = x.ravel()\n",
    "y = y.to_numpy()\n",
    "y = y.ravel()\n",
    "n = x.size"
   ]
  },
  {
   "cell_type": "markdown",
   "metadata": {},
   "source": [
    "Проверим нормальность"
   ]
  },
  {
   "cell_type": "code",
   "execution_count": 4,
   "metadata": {
    "ExecuteTime": {
     "end_time": "2020-04-05T20:15:19.168370Z",
     "start_time": "2020-04-05T20:15:19.158367Z"
    }
   },
   "outputs": [
    {
     "data": {
      "text/plain": [
       "(0.9479873776435852, 0.2079697698354721)"
      ]
     },
     "execution_count": 4,
     "metadata": {},
     "output_type": "execute_result"
    }
   ],
   "source": [
    "stats.shapiro(x)"
   ]
  },
  {
   "cell_type": "code",
   "execution_count": 5,
   "metadata": {
    "ExecuteTime": {
     "end_time": "2020-04-05T20:15:19.172372Z",
     "start_time": "2020-04-05T20:15:19.169370Z"
    }
   },
   "outputs": [
    {
     "data": {
      "text/plain": [
       "(0.9777888059616089, 0.8238779306411743)"
      ]
     },
     "execution_count": 5,
     "metadata": {},
     "output_type": "execute_result"
    }
   ],
   "source": [
    "stats.shapiro(y)"
   ]
  },
  {
   "cell_type": "markdown",
   "metadata": {},
   "source": [
    "Поскольку данные распределены нормально (тест Шапиро дал p_value больше 0.05 для обеих выборок), то воспользуемся критерием Пирсона"
   ]
  },
  {
   "cell_type": "code",
   "execution_count": 6,
   "metadata": {
    "ExecuteTime": {
     "end_time": "2020-04-05T20:15:19.183373Z",
     "start_time": "2020-04-05T20:15:19.173371Z"
    }
   },
   "outputs": [
    {
     "name": "stdout",
     "output_type": "stream",
     "text": [
      "Статистика = 0.08028590778543081\n",
      "p_value = 0.6966281966470536\n"
     ]
    }
   ],
   "source": [
    "x_mean = x.mean()\n",
    "y_mean = y.mean()\n",
    "x_var = np.var(x)\n",
    "y_var = np.var(y)\n",
    "k = 0\n",
    "for i in range(n):\n",
    "    k += x[i] * y[i]\n",
    "k = k / n\n",
    "k = k - x_mean * y_mean\n",
    "r = k / np.sqrt(x_var * y_var)\n",
    "T = np.sqrt(n - 2) * r / np.sqrt(1 - r ** 2)\n",
    "p_val = 2 * min(stats.t.cdf(T, n - 2), 1 - stats.t.cdf(T, n - 2))\n",
    "stat.append(r)\n",
    "p.append(p_val)\n",
    "print('Статистика =', r)\n",
    "print('p_value =', p_val)"
   ]
  },
  {
   "cell_type": "markdown",
   "metadata": {},
   "source": [
    "Поскольку p_value > 0.05, то остаемся в рамках H0"
   ]
  },
  {
   "cell_type": "markdown",
   "metadata": {},
   "source": [
    "#### Задача 18\n",
    "\n",
    "Проверить что есть положительная зависимость с помощью критерия Спирмена. То есть основная гипотеза H0 - данные независимы, а H1 - существует положительная (монотонная) зависимость"
   ]
  },
  {
   "cell_type": "code",
   "execution_count": 7,
   "metadata": {
    "ExecuteTime": {
     "end_time": "2020-04-05T20:15:19.192375Z",
     "start_time": "2020-04-05T20:15:19.184373Z"
    }
   },
   "outputs": [],
   "source": [
    "x = pd.read_csv('Task18Data1.csv', header=None)\n",
    "y = pd.read_csv('Task18Data2.csv', header=None)\n",
    "x = x.to_numpy()\n",
    "x = x.ravel()\n",
    "y = y.to_numpy()\n",
    "y = y.ravel()\n",
    "n = x.size"
   ]
  },
  {
   "cell_type": "code",
   "execution_count": 8,
   "metadata": {
    "ExecuteTime": {
     "end_time": "2020-04-05T20:15:19.201377Z",
     "start_time": "2020-04-05T20:15:19.194377Z"
    }
   },
   "outputs": [
    {
     "name": "stdout",
     "output_type": "stream",
     "text": [
      "Статистика = 0.6972675923592164\n",
      "p_value = 1.56156733099877e-08\n"
     ]
    }
   ],
   "source": [
    "R = stats.rankdata(x)\n",
    "S = stats.rankdata(y)\n",
    "r = np.sum((R - R.mean()) * (S - S.mean())) / np.sqrt(np.sum((R - R.mean()) ** 2) * np.sum((S - S.mean()) ** 2))\n",
    "T = np.sqrt(n - 1) * r # нормальная апроксимация\n",
    "p_val = 1 - stats.norm.cdf(T)\n",
    "stat.append(r)\n",
    "p.append(p_val)\n",
    "print('Статистика =', r)\n",
    "print('p_value =', p_val)"
   ]
  },
  {
   "cell_type": "markdown",
   "metadata": {},
   "source": [
    "Поскольку p_value < 0.05, то отвергаем основную гипотезу в пользу альтернативной, то есть наблюдается монотонная положительная зависимость в данных"
   ]
  },
  {
   "cell_type": "markdown",
   "metadata": {},
   "source": [
    "#### Задача 9\n",
    "\n",
    "Поскольку данные представляют собой 12 самых населенных стран, то логично использовать непараметрический критерий. Я отдам предпочтение Спирмену."
   ]
  },
  {
   "cell_type": "code",
   "execution_count": 9,
   "metadata": {
    "ExecuteTime": {
     "end_time": "2020-04-05T20:15:19.210379Z",
     "start_time": "2020-04-05T20:15:19.203378Z"
    }
   },
   "outputs": [],
   "source": [
    "x = pd.read_csv('Task9Data1.csv', header=None)\n",
    "y = pd.read_csv('Task9Data2.csv', header=None)\n",
    "x = x.to_numpy()\n",
    "x = x.ravel()\n",
    "y = y.to_numpy()\n",
    "y = y.ravel()\n",
    "n = 12"
   ]
  },
  {
   "cell_type": "code",
   "execution_count": 10,
   "metadata": {
    "ExecuteTime": {
     "end_time": "2020-04-05T20:15:19.218381Z",
     "start_time": "2020-04-05T20:15:19.211379Z"
    }
   },
   "outputs": [
    {
     "name": "stdout",
     "output_type": "stream",
     "text": [
      "Статистика = 0.46153846153846156\n",
      "p_value = 0.1258312151565515\n"
     ]
    }
   ],
   "source": [
    "R = stats.rankdata(x)\n",
    "S = stats.rankdata(y)\n",
    "r = np.sum((R - R.mean()) * (S - S.mean())) / np.sqrt(np.sum((R - R.mean()) ** 2) * np.sum((S - S.mean()) ** 2))\n",
    "T = np.sqrt(n - 1) * r # нормальная апроксимация\n",
    "p_val = min(2 * (1 - stats.norm.cdf(T)), 2 * stats.norm.cdf(T))\n",
    "stat.append(r)\n",
    "p.append(p_val)\n",
    "print('Статистика =', r)\n",
    "print('p_value =', p_val)"
   ]
  },
  {
   "cell_type": "markdown",
   "metadata": {},
   "source": [
    "Поскольку p_value > 0.05, то остаемся в рамках Н0, то есть население страны и её площадь независимы друг от друга."
   ]
  },
  {
   "cell_type": "code",
   "execution_count": 11,
   "metadata": {
    "ExecuteTime": {
     "end_time": "2020-04-05T20:15:19.223382Z",
     "start_time": "2020-04-05T20:15:19.220381Z"
    }
   },
   "outputs": [],
   "source": [
    "h.append(0)\n",
    "h.append(1)\n",
    "h.append(0)"
   ]
  },
  {
   "cell_type": "code",
   "execution_count": 12,
   "metadata": {
    "ExecuteTime": {
     "end_time": "2020-04-05T20:15:19.233385Z",
     "start_time": "2020-04-05T20:15:19.224382Z"
    }
   },
   "outputs": [],
   "source": [
    "ans = pd.DataFrame()\n",
    "ans['task'] = task\n",
    "ans['stat'] = stat\n",
    "ans['p'] = p\n",
    "ans['h'] = h\n",
    "ans.to_csv('result.csv', index=False)"
   ]
  },
  {
   "cell_type": "code",
   "execution_count": 14,
   "metadata": {
    "ExecuteTime": {
     "end_time": "2020-04-05T20:15:24.606445Z",
     "start_time": "2020-04-05T20:15:24.597443Z"
    }
   },
   "outputs": [
    {
     "data": {
      "text/html": [
       "<div>\n",
       "<style scoped>\n",
       "    .dataframe tbody tr th:only-of-type {\n",
       "        vertical-align: middle;\n",
       "    }\n",
       "\n",
       "    .dataframe tbody tr th {\n",
       "        vertical-align: top;\n",
       "    }\n",
       "\n",
       "    .dataframe thead th {\n",
       "        text-align: right;\n",
       "    }\n",
       "</style>\n",
       "<table border=\"1\" class=\"dataframe\">\n",
       "  <thead>\n",
       "    <tr style=\"text-align: right;\">\n",
       "      <th></th>\n",
       "      <th>task</th>\n",
       "      <th>stat</th>\n",
       "      <th>p</th>\n",
       "      <th>h</th>\n",
       "    </tr>\n",
       "  </thead>\n",
       "  <tbody>\n",
       "    <tr>\n",
       "      <td>0</td>\n",
       "      <td>14</td>\n",
       "      <td>0.080286</td>\n",
       "      <td>6.966282e-01</td>\n",
       "      <td>0</td>\n",
       "    </tr>\n",
       "    <tr>\n",
       "      <td>1</td>\n",
       "      <td>18</td>\n",
       "      <td>0.697268</td>\n",
       "      <td>1.561567e-08</td>\n",
       "      <td>1</td>\n",
       "    </tr>\n",
       "    <tr>\n",
       "      <td>2</td>\n",
       "      <td>9</td>\n",
       "      <td>0.461538</td>\n",
       "      <td>1.258312e-01</td>\n",
       "      <td>0</td>\n",
       "    </tr>\n",
       "  </tbody>\n",
       "</table>\n",
       "</div>"
      ],
      "text/plain": [
       "   task      stat             p  h\n",
       "0    14  0.080286  6.966282e-01  0\n",
       "1    18  0.697268  1.561567e-08  1\n",
       "2     9  0.461538  1.258312e-01  0"
      ]
     },
     "execution_count": 14,
     "metadata": {},
     "output_type": "execute_result"
    }
   ],
   "source": [
    "pd.read_csv('result.csv')"
   ]
  }
 ],
 "metadata": {
  "kernelspec": {
   "display_name": "Python 3",
   "language": "python",
   "name": "python3"
  },
  "language_info": {
   "codemirror_mode": {
    "name": "ipython",
    "version": 3
   },
   "file_extension": ".py",
   "mimetype": "text/x-python",
   "name": "python",
   "nbconvert_exporter": "python",
   "pygments_lexer": "ipython3",
   "version": "3.7.4"
  }
 },
 "nbformat": 4,
 "nbformat_minor": 2
}
