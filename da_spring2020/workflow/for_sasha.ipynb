{
 "cells": [
  {
   "cell_type": "code",
   "execution_count": 1,
   "metadata": {
    "ExecuteTime": {
     "end_time": "2020-03-28T12:57:52.700994Z",
     "start_time": "2020-03-28T12:57:52.073853Z"
    }
   },
   "outputs": [],
   "source": [
    "import pandas as pd\n",
    "import numpy as np\n",
    "from scipy import stats"
   ]
  },
  {
   "cell_type": "code",
   "execution_count": 2,
   "metadata": {
    "ExecuteTime": {
     "end_time": "2020-03-28T12:57:53.401073Z",
     "start_time": "2020-03-28T12:57:52.701994Z"
    }
   },
   "outputs": [],
   "source": [
    "X = pd.read_csv('https://raw.githubusercontent.com/zhukpm/da_spring2020/master/data/lw3/projects/1032172729/sample1.csv', header=None).to_numpy().ravel()\n",
    "Y = pd.read_csv('https://raw.githubusercontent.com/zhukpm/da_spring2020/master/data/lw3/projects/1032172729/sample2.csv', header=None).to_numpy().ravel()\n",
    "alpha = 0.05\n",
    "m = X.size\n",
    "n = Y.size\n",
    "N = m + n\n",
    "results = []"
   ]
  },
  {
   "cell_type": "markdown",
   "metadata": {},
   "source": [
    "Проверим выборки на нормальность"
   ]
  },
  {
   "cell_type": "code",
   "execution_count": 3,
   "metadata": {
    "ExecuteTime": {
     "end_time": "2020-03-28T12:57:53.414075Z",
     "start_time": "2020-03-28T12:57:53.404073Z"
    }
   },
   "outputs": [
    {
     "data": {
      "text/plain": [
       "(0.8301942348480225, 4.97118506359584e-08)"
      ]
     },
     "execution_count": 3,
     "metadata": {},
     "output_type": "execute_result"
    }
   ],
   "source": [
    "T, p_val = stats.shapiro(X)\n",
    "T, p_val"
   ]
  },
  {
   "cell_type": "markdown",
   "metadata": {},
   "source": [
    "Поскольку p уровень значимости < 0.05, то выборка Х ненормальная и следует использовать непараметрические критерии"
   ]
  },
  {
   "cell_type": "markdown",
   "metadata": {},
   "source": [
    "Проверим на равенство средних при помощи манна-уитни (его реализовывать не надо, используем встроенный)"
   ]
  },
  {
   "cell_type": "code",
   "execution_count": 4,
   "metadata": {
    "ExecuteTime": {
     "end_time": "2020-03-28T12:57:53.422077Z",
     "start_time": "2020-03-28T12:57:53.415076Z"
    }
   },
   "outputs": [
    {
     "name": "stdout",
     "output_type": "stream",
     "text": [
      "H1\n"
     ]
    }
   ],
   "source": [
    "stat, p_val = stats.mannwhitneyu(X, Y, alternative='two-sided')\n",
    "results.append(stat)\n",
    "results.append(p_val)\n",
    "if p_val > alpha:\n",
    "    print('H0')\n",
    "    results.append(0)\n",
    "else:\n",
    "    print('H1')\n",
    "    results.append(1)"
   ]
  },
  {
   "cell_type": "markdown",
   "metadata": {},
   "source": [
    "Проверим на равенство средних при помощи ансари-бредли (реализуем ручками, без поправки на связки)"
   ]
  },
  {
   "cell_type": "code",
   "execution_count": 5,
   "metadata": {
    "ExecuteTime": {
     "end_time": "2020-03-28T12:57:53.434079Z",
     "start_time": "2020-03-28T12:57:53.423077Z"
    }
   },
   "outputs": [
    {
     "name": "stdout",
     "output_type": "stream",
     "text": [
      "H1\n"
     ]
    }
   ],
   "source": [
    "Z = np.r_[X, Y]\n",
    "R = stats.rankdata(Z)\n",
    "A = 0\n",
    "for i in range(m):\n",
    "    A += (N + 1) / 2 - np.abs(R[i] - (N + 1) / 2)\n",
    "if N % 2 == 0:\n",
    "    A_m = m * (N + 2) / 4\n",
    "    A_v = m * n * (N + 2) * (N - 2) / (48 * (N - 1))\n",
    "else:\n",
    "    A_m = m * (N + 1) ** 2 / (4 * N)\n",
    "    A_v = m * n * ((N ** 2) + 3) * (N + 1) / (48 * (N ** 2))\n",
    "A_s = (A - A_m) / np.sqrt(A_v)\n",
    "p_value = 2 * min(stats.norm.cdf(A_s), 1 - stats.norm.cdf(A_s))\n",
    "results.append(A)\n",
    "results.append(p_value)\n",
    "if p_value > alpha:\n",
    "    print('H0')\n",
    "    results.append(0)\n",
    "else:\n",
    "    print('H1')\n",
    "    results.append(1)"
   ]
  },
  {
   "cell_type": "code",
   "execution_count": 6,
   "metadata": {
    "ExecuteTime": {
     "end_time": "2020-03-28T12:57:53.439082Z",
     "start_time": "2020-03-28T12:57:53.435081Z"
    }
   },
   "outputs": [
    {
     "data": {
      "text/plain": [
       "[3602.0, 0.021208364245730117, 1, 3466.0, 0.002178574317640125, 1]"
      ]
     },
     "execution_count": 6,
     "metadata": {},
     "output_type": "execute_result"
    }
   ],
   "source": [
    "results"
   ]
  },
  {
   "cell_type": "code",
   "execution_count": 7,
   "metadata": {
    "ExecuteTime": {
     "end_time": "2020-03-28T12:57:53.450083Z",
     "start_time": "2020-03-28T12:57:53.441082Z"
    }
   },
   "outputs": [],
   "source": [
    "results = pd.DataFrame({'mt_s':results[0], 'mt_p':results[1], 'mt_h':results[2],\n",
    "             'vt_s':results[3], 'vt_p':results[4], 'vt_h':results[5]}, index=[0])\n",
    "results.to_csv('result.csv', index=False)"
   ]
  },
  {
   "cell_type": "code",
   "execution_count": 8,
   "metadata": {
    "ExecuteTime": {
     "end_time": "2020-03-28T12:57:53.461085Z",
     "start_time": "2020-03-28T12:57:53.451083Z"
    }
   },
   "outputs": [
    {
     "data": {
      "text/html": [
       "<div>\n",
       "<style scoped>\n",
       "    .dataframe tbody tr th:only-of-type {\n",
       "        vertical-align: middle;\n",
       "    }\n",
       "\n",
       "    .dataframe tbody tr th {\n",
       "        vertical-align: top;\n",
       "    }\n",
       "\n",
       "    .dataframe thead th {\n",
       "        text-align: right;\n",
       "    }\n",
       "</style>\n",
       "<table border=\"1\" class=\"dataframe\">\n",
       "  <thead>\n",
       "    <tr style=\"text-align: right;\">\n",
       "      <th></th>\n",
       "      <th>mt_s</th>\n",
       "      <th>mt_p</th>\n",
       "      <th>mt_h</th>\n",
       "      <th>vt_s</th>\n",
       "      <th>vt_p</th>\n",
       "      <th>vt_h</th>\n",
       "    </tr>\n",
       "  </thead>\n",
       "  <tbody>\n",
       "    <tr>\n",
       "      <td>0</td>\n",
       "      <td>3602.0</td>\n",
       "      <td>0.021208</td>\n",
       "      <td>1</td>\n",
       "      <td>3466.0</td>\n",
       "      <td>0.002179</td>\n",
       "      <td>1</td>\n",
       "    </tr>\n",
       "  </tbody>\n",
       "</table>\n",
       "</div>"
      ],
      "text/plain": [
       "     mt_s      mt_p  mt_h    vt_s      vt_p  vt_h\n",
       "0  3602.0  0.021208     1  3466.0  0.002179     1"
      ]
     },
     "execution_count": 8,
     "metadata": {},
     "output_type": "execute_result"
    }
   ],
   "source": [
    "results"
   ]
  },
  {
   "cell_type": "code",
   "execution_count": null,
   "metadata": {},
   "outputs": [],
   "source": []
  }
 ],
 "metadata": {
  "kernelspec": {
   "display_name": "Python 3",
   "language": "python",
   "name": "python3"
  },
  "language_info": {
   "codemirror_mode": {
    "name": "ipython",
    "version": 3
   },
   "file_extension": ".py",
   "mimetype": "text/x-python",
   "name": "python",
   "nbconvert_exporter": "python",
   "pygments_lexer": "ipython3",
   "version": "3.7.4"
  }
 },
 "nbformat": 4,
 "nbformat_minor": 2
}
