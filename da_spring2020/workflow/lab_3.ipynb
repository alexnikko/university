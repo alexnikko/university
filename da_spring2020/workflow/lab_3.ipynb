{
 "cells": [
  {
   "cell_type": "code",
   "execution_count": 1,
   "metadata": {
    "ExecuteTime": {
     "end_time": "2020-03-27T21:40:28.628525Z",
     "start_time": "2020-03-27T21:40:27.767431Z"
    }
   },
   "outputs": [],
   "source": [
    "import numpy as np\n",
    "import pandas as pd\n",
    "import matplotlib.pyplot as plt\n",
    "from scipy import stats\n",
    "from scipy.stats import shapiro\n",
    "%matplotlib inline"
   ]
  },
  {
   "cell_type": "code",
   "execution_count": 2,
   "metadata": {
    "ExecuteTime": {
     "end_time": "2020-03-27T21:40:31.749344Z",
     "start_time": "2020-03-27T21:40:31.292792Z"
    }
   },
   "outputs": [
    {
     "data": {
      "text/html": [
       "<div>\n",
       "<style scoped>\n",
       "    .dataframe tbody tr th:only-of-type {\n",
       "        vertical-align: middle;\n",
       "    }\n",
       "\n",
       "    .dataframe tbody tr th {\n",
       "        vertical-align: top;\n",
       "    }\n",
       "\n",
       "    .dataframe thead th {\n",
       "        text-align: right;\n",
       "    }\n",
       "</style>\n",
       "<table border=\"1\" class=\"dataframe\">\n",
       "  <thead>\n",
       "    <tr style=\"text-align: right;\">\n",
       "      <th></th>\n",
       "      <th>0</th>\n",
       "    </tr>\n",
       "  </thead>\n",
       "  <tbody>\n",
       "    <tr>\n",
       "      <th>0</th>\n",
       "      <td>687</td>\n",
       "    </tr>\n",
       "    <tr>\n",
       "      <th>1</th>\n",
       "      <td>581</td>\n",
       "    </tr>\n",
       "    <tr>\n",
       "      <th>2</th>\n",
       "      <td>563</td>\n",
       "    </tr>\n",
       "    <tr>\n",
       "      <th>3</th>\n",
       "      <td>644</td>\n",
       "    </tr>\n",
       "    <tr>\n",
       "      <th>4</th>\n",
       "      <td>686</td>\n",
       "    </tr>\n",
       "  </tbody>\n",
       "</table>\n",
       "</div>"
      ],
      "text/plain": [
       "     0\n",
       "0  687\n",
       "1  581\n",
       "2  563\n",
       "3  644\n",
       "4  686"
      ]
     },
     "execution_count": 2,
     "metadata": {},
     "output_type": "execute_result"
    }
   ],
   "source": [
    "data1 = pd.read_csv('https://raw.githubusercontent.com/zhukpm/da_spring2020/master/data/lw3/projects/1032169280/sample1.csv', header=None)\n",
    "x = data1[0]\n",
    "data1.head()"
   ]
  },
  {
   "cell_type": "code",
   "execution_count": 3,
   "metadata": {
    "ExecuteTime": {
     "end_time": "2020-03-27T21:40:32.298508Z",
     "start_time": "2020-03-27T21:40:31.752336Z"
    }
   },
   "outputs": [
    {
     "data": {
      "text/html": [
       "<div>\n",
       "<style scoped>\n",
       "    .dataframe tbody tr th:only-of-type {\n",
       "        vertical-align: middle;\n",
       "    }\n",
       "\n",
       "    .dataframe tbody tr th {\n",
       "        vertical-align: top;\n",
       "    }\n",
       "\n",
       "    .dataframe thead th {\n",
       "        text-align: right;\n",
       "    }\n",
       "</style>\n",
       "<table border=\"1\" class=\"dataframe\">\n",
       "  <thead>\n",
       "    <tr style=\"text-align: right;\">\n",
       "      <th></th>\n",
       "      <th>0</th>\n",
       "    </tr>\n",
       "  </thead>\n",
       "  <tbody>\n",
       "    <tr>\n",
       "      <th>0</th>\n",
       "      <td>555</td>\n",
       "    </tr>\n",
       "    <tr>\n",
       "      <th>1</th>\n",
       "      <td>598</td>\n",
       "    </tr>\n",
       "    <tr>\n",
       "      <th>2</th>\n",
       "      <td>651</td>\n",
       "    </tr>\n",
       "    <tr>\n",
       "      <th>3</th>\n",
       "      <td>639</td>\n",
       "    </tr>\n",
       "    <tr>\n",
       "      <th>4</th>\n",
       "      <td>581</td>\n",
       "    </tr>\n",
       "  </tbody>\n",
       "</table>\n",
       "</div>"
      ],
      "text/plain": [
       "     0\n",
       "0  555\n",
       "1  598\n",
       "2  651\n",
       "3  639\n",
       "4  581"
      ]
     },
     "execution_count": 3,
     "metadata": {},
     "output_type": "execute_result"
    }
   ],
   "source": [
    "data2 = pd.read_csv('https://raw.githubusercontent.com/zhukpm/da_spring2020/master/data/lw3/projects/1032169280/sample2.csv', header=None)\n",
    "y = data2[0]\n",
    "data2.head()"
   ]
  },
  {
   "cell_type": "code",
   "execution_count": 4,
   "metadata": {
    "ExecuteTime": {
     "end_time": "2020-03-27T21:40:35.274434Z",
     "start_time": "2020-03-27T21:40:35.258786Z"
    }
   },
   "outputs": [],
   "source": [
    "x.name, y.name = 'набор данных 1', 'набор данных 2'"
   ]
  },
  {
   "cell_type": "code",
   "execution_count": 5,
   "metadata": {
    "ExecuteTime": {
     "end_time": "2020-03-27T21:40:49.522517Z",
     "start_time": "2020-03-27T21:40:49.514538Z"
    }
   },
   "outputs": [],
   "source": [
    "def two_histograms(x, y):\n",
    "    \"\"\"\n",
    "    Функция, которая построит 2 гистограммы на одной картинке.\n",
    "    Дополнительно пунктирными линиями указывается средние значения выборки.\n",
    "     x, y: вектор pd.Series\n",
    "    \"\"\" \n",
    "    x.hist(alpha=0.5, weights=[1./len(x)]*len(x))\n",
    "    y.hist(alpha=0.5, weights=[1./len(y)]*len(y))\n",
    "    plt.axvline(x.mean(), color='red', alpha=0.8, linestyle='dashed')\n",
    "    plt.axvline(y.mean(), color='blue', alpha=0.8, linestyle='dashed')\n",
    "    plt.legend([x.name, y.name])"
   ]
  },
  {
   "cell_type": "code",
   "execution_count": 6,
   "metadata": {
    "ExecuteTime": {
     "end_time": "2020-03-27T21:40:51.942337Z",
     "start_time": "2020-03-27T21:40:51.691574Z"
    }
   },
   "outputs": [
    {
     "data": {
      "image/png": "[encoded data removed]",
      "text/plain": [
       "<Figure size 432x288 with 1 Axes>"
      ]
     },
     "metadata": {
      "needs_background": "light"
     },
     "output_type": "display_data"
    }
   ],
   "source": [
    "two_histograms(x, y)"
   ]
  },
  {
   "cell_type": "code",
   "execution_count": 7,
   "metadata": {
    "ExecuteTime": {
     "end_time": "2020-03-27T21:40:58.501111Z",
     "start_time": "2020-03-27T21:40:58.492137Z"
    }
   },
   "outputs": [
    {
     "name": "stdout",
     "output_type": "stream",
     "text": [
      "Statistics = 0.974, p = 0.137\n",
      "Stay in H0\n"
     ]
    }
   ],
   "source": [
    "stat, p = shapiro(data1)\n",
    "print('Statistics = %.3f, p = %.3f'%(stat, p))\n",
    "alpha = 0.05\n",
    "if p > alpha/2:\n",
    "    print('Stay in H0')\n",
    "else:\n",
    "    print('Reject H0')"
   ]
  },
  {
   "cell_type": "code",
   "execution_count": 8,
   "metadata": {
    "ExecuteTime": {
     "end_time": "2020-03-27T21:40:59.033069Z",
     "start_time": "2020-03-27T21:40:59.026091Z"
    }
   },
   "outputs": [
    {
     "name": "stdout",
     "output_type": "stream",
     "text": [
      "Statistics = 0.981, p = 0.344\n",
      "Stay in H0\n"
     ]
    }
   ],
   "source": [
    "stat, p = shapiro(data2)\n",
    "print('Statistics = %.3f, p = %.3f'%(stat, p))\n",
    "if p > alpha/2:\n",
    "    print('Stay in H0')\n",
    "else:\n",
    "    print('Reject H0')"
   ]
  },
  {
   "cell_type": "markdown",
   "metadata": {},
   "source": [
    "Критерий Фишера"
   ]
  },
  {
   "cell_type": "code",
   "execution_count": 9,
   "metadata": {
    "ExecuteTime": {
     "end_time": "2020-03-27T21:41:03.760839Z",
     "start_time": "2020-03-27T21:41:03.754830Z"
    }
   },
   "outputs": [
    {
     "name": "stdout",
     "output_type": "stream",
     "text": [
      "629.1111111111111 632.1917808219179\n",
      "1413.7621283255082 1495.4071537290708\n"
     ]
    }
   ],
   "source": [
    "print(y.mean(), x.mean())\n",
    "print(y.var(), x.var())"
   ]
  },
  {
   "cell_type": "code",
   "execution_count": 10,
   "metadata": {
    "ExecuteTime": {
     "end_time": "2020-03-27T21:41:04.916522Z",
     "start_time": "2020-03-27T21:41:04.909539Z"
    }
   },
   "outputs": [
    {
     "data": {
      "text/plain": [
       "1.057750185669682"
      ]
     },
     "execution_count": 10,
     "metadata": {},
     "output_type": "execute_result"
    }
   ],
   "source": [
    "F = stats.tvar(x) / stats.tvar(y)\n",
    "F"
   ]
  },
  {
   "cell_type": "code",
   "execution_count": 39,
   "metadata": {},
   "outputs": [
    {
     "data": {
      "text/plain": [
       "0.40673442511073143"
      ]
     },
     "execution_count": 39,
     "metadata": {},
     "output_type": "execute_result"
    }
   ],
   "source": [
    "p_value = 1 - stats.f.cdf(F, len(x) - 1, len(y) - 1)\n",
    "p_value"
   ]
  },
  {
   "cell_type": "code",
   "execution_count": 40,
   "metadata": {},
   "outputs": [
    {
     "name": "stdout",
     "output_type": "stream",
     "text": [
      "Stay in H0\n"
     ]
    }
   ],
   "source": [
    "if p_value > alpha/2:\n",
    "    print('Stay in H0')\n",
    "else:\n",
    "    print('Reject H0')"
   ]
  },
  {
   "cell_type": "markdown",
   "metadata": {},
   "source": [
    "### Поскольку дисперсии равны и обе выборки имеют нормальное распределение, для проверки гипотезы о смещении мы можем воспользоваться критерием Стьюдента"
   ]
  },
  {
   "cell_type": "markdown",
   "metadata": {},
   "source": [
    "Критерий Стьюдента"
   ]
  },
  {
   "cell_type": "code",
   "execution_count": 13,
   "metadata": {
    "ExecuteTime": {
     "end_time": "2020-03-27T21:45:31.234356Z",
     "start_time": "2020-03-27T21:45:31.226382Z"
    }
   },
   "outputs": [
    {
     "name": "stdout",
     "output_type": "stream",
     "text": [
      "Ttest_indResult(statistic=0.4862691351368066, pvalue=0.6275207262084103)\n"
     ]
    },
    {
     "data": {
      "text/plain": [
       "(629.1111111111111, 632.1917808219179)"
      ]
     },
     "execution_count": 13,
     "metadata": {},
     "output_type": "execute_result"
    }
   ],
   "source": [
    "print(stats.ttest_ind(x, y)) # H3 y_mean <> x_mean\n",
    "y.mean(), x.mean()"
   ]
  },
  {
   "cell_type": "code",
   "execution_count": 16,
   "metadata": {
    "ExecuteTime": {
     "end_time": "2020-03-27T21:46:09.262271Z",
     "start_time": "2020-03-27T21:46:09.247311Z"
    }
   },
   "outputs": [
    {
     "data": {
      "text/plain": [
       "(-0.48626913513680664, 0.6275207262084104)"
      ]
     },
     "execution_count": 16,
     "metadata": {},
     "output_type": "execute_result"
    }
   ],
   "source": [
    "m = x.size\n",
    "n = y.size\n",
    "N = m + n\n",
    "x_mean = x.mean()\n",
    "y_mean = y.mean()\n",
    "s1, s2 = 0, 0\n",
    "for x_i in x:\n",
    "    s1 += (x_i - x_mean) ** 2\n",
    "for y_i in y:\n",
    "    s2 += (y_i - y_mean) ** 2\n",
    "s_n = np.sqrt((s1 + s2) / (N - 2))\n",
    "T = (y_mean - x_mean) / (s_n * np.sqrt(1 / n + 1 / m))\n",
    "p_value = 2 * (1 - stats.t.cdf(np.abs(T), N - 2))\n",
    "T, p_value"
   ]
  },
  {
   "cell_type": "code",
   "execution_count": 17,
   "metadata": {
    "ExecuteTime": {
     "end_time": "2020-03-27T21:46:40.991904Z",
     "start_time": "2020-03-27T21:46:40.986920Z"
    }
   },
   "outputs": [
    {
     "name": "stdout",
     "output_type": "stream",
     "text": [
      "Stay in H0\n"
     ]
    }
   ],
   "source": [
    "if p_value > alpha/2:\n",
    "    print('Stay in H0')\n",
    "else:\n",
    "    print('Reject H0')"
   ]
  },
  {
   "cell_type": "code",
   "execution_count": null,
   "metadata": {},
   "outputs": [],
   "source": []
  }
 ],
 "metadata": {
  "kernelspec": {
   "display_name": "Python 3",
   "language": "python",
   "name": "python3"
  },
  "language_info": {
   "codemirror_mode": {
    "name": "ipython",
    "version": 3
   },
   "file_extension": ".py",
   "mimetype": "text/x-python",
   "name": "python",
   "nbconvert_exporter": "python",
   "pygments_lexer": "ipython3",
   "version": "3.7.3"
  }
 },
 "nbformat": 4,
 "nbformat_minor": 2
}
