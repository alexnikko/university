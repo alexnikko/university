{
 "cells": [
  {
   "cell_type": "code",
   "execution_count": 1,
   "metadata": {
    "ExecuteTime": {
     "end_time": "2020-03-27T19:03:28.384809Z",
     "start_time": "2020-03-27T19:03:27.397669Z"
    }
   },
   "outputs": [],
   "source": [
    "import numpy as np\n",
    "import scipy as sp\n",
    "import scipy.stats as stats\n",
    "import numpy as np\n",
    "import matplotlib as mpl\n",
    "import matplotlib.pyplot as plt\n",
    "%matplotlib inline\n",
    "import seaborn as sns; sns.set()"
   ]
  },
  {
   "cell_type": "markdown",
   "metadata": {},
   "source": [
    "# Sample variance"
   ]
  },
  {
   "cell_type": "code",
   "execution_count": 2,
   "metadata": {
    "ExecuteTime": {
     "end_time": "2020-03-27T19:03:28.400740Z",
     "start_time": "2020-03-27T19:03:28.384809Z"
    }
   },
   "outputs": [
    {
     "data": {
      "text/plain": [
       "1.0464456405856764"
      ]
     },
     "execution_count": 2,
     "metadata": {},
     "output_type": "execute_result"
    }
   ],
   "source": [
    "a = sp.random.normal(size=1000)\n",
    "stats.tvar(a) # Sample variance"
   ]
  },
  {
   "cell_type": "code",
   "execution_count": 3,
   "metadata": {
    "ExecuteTime": {
     "end_time": "2020-03-27T19:03:28.702369Z",
     "start_time": "2020-03-27T19:03:28.695388Z"
    }
   },
   "outputs": [
    {
     "data": {
      "text/plain": [
       "1.0453991949450905"
      ]
     },
     "execution_count": 3,
     "metadata": {},
     "output_type": "execute_result"
    }
   ],
   "source": [
    "a.var()"
   ]
  },
  {
   "cell_type": "code",
   "execution_count": 4,
   "metadata": {
    "ExecuteTime": {
     "end_time": "2020-03-27T19:03:29.102139Z",
     "start_time": "2020-03-27T19:03:29.096156Z"
    }
   },
   "outputs": [
    {
     "data": {
      "text/plain": [
       "1.0464456405856764"
      ]
     },
     "execution_count": 4,
     "metadata": {},
     "output_type": "execute_result"
    }
   ],
   "source": [
    "a.var() * a.size / (a.size - 1)"
   ]
  },
  {
   "cell_type": "markdown",
   "metadata": {},
   "source": [
    "# Shapiro-Wilk"
   ]
  },
  {
   "cell_type": "code",
   "execution_count": 5,
   "metadata": {
    "ExecuteTime": {
     "end_time": "2020-03-27T19:03:29.803401Z",
     "start_time": "2020-03-27T19:03:29.799410Z"
    }
   },
   "outputs": [],
   "source": [
    "norm1 = sp.random.normal(size=1000)"
   ]
  },
  {
   "cell_type": "code",
   "execution_count": 6,
   "metadata": {
    "ExecuteTime": {
     "end_time": "2020-03-27T19:03:30.341008Z",
     "start_time": "2020-03-27T19:03:29.985868Z"
    }
   },
   "outputs": [
    {
     "data": {
      "text/plain": [
       "<matplotlib.axes._subplots.AxesSubplot at 0x20f8c2bd4a8>"
      ]
     },
     "execution_count": 6,
     "metadata": {},
     "output_type": "execute_result"
    },
    {
     "data": {
      "image/png": "[encoded data removed]",
      "text/plain": [
       "<Figure size 432x288 with 1 Axes>"
      ]
     },
     "metadata": {},
     "output_type": "display_data"
    }
   ],
   "source": [
    "sns.distplot(norm1)"
   ]
  },
  {
   "cell_type": "code",
   "execution_count": 7,
   "metadata": {
    "ExecuteTime": {
     "end_time": "2020-03-27T19:03:30.349985Z",
     "start_time": "2020-03-27T19:03:30.343004Z"
    }
   },
   "outputs": [
    {
     "data": {
      "text/plain": [
       "array([ 0.74372623,  1.68478422,  0.2497119 ,  0.88077263,  1.38431839,\n",
       "        0.05969471,  0.9131871 , -1.18847971,  0.70599136, -0.87672698])"
      ]
     },
     "execution_count": 7,
     "metadata": {},
     "output_type": "execute_result"
    }
   ],
   "source": [
    "norm1[:10]"
   ]
  },
  {
   "cell_type": "code",
   "execution_count": 8,
   "metadata": {
    "ExecuteTime": {
     "end_time": "2020-03-27T19:03:30.357962Z",
     "start_time": "2020-03-27T19:03:30.352976Z"
    }
   },
   "outputs": [],
   "source": [
    "exp1 = sp.random.exponential(size=1000)"
   ]
  },
  {
   "cell_type": "code",
   "execution_count": 9,
   "metadata": {
    "ExecuteTime": {
     "end_time": "2020-03-27T19:03:30.939461Z",
     "start_time": "2020-03-27T19:03:30.538007Z"
    }
   },
   "outputs": [
    {
     "data": {
      "text/plain": [
       "<matplotlib.axes._subplots.AxesSubplot at 0x20f9178c7f0>"
      ]
     },
     "execution_count": 9,
     "metadata": {},
     "output_type": "execute_result"
    },
    {
     "data": {
      "image/png": "[encoded data removed]",
      "text/plain": [
       "<Figure size 432x288 with 1 Axes>"
      ]
     },
     "metadata": {},
     "output_type": "display_data"
    }
   ],
   "source": [
    "sns.distplot(exp1)"
   ]
  },
  {
   "cell_type": "code",
   "execution_count": 10,
   "metadata": {
    "ExecuteTime": {
     "end_time": "2020-03-27T19:03:30.950430Z",
     "start_time": "2020-03-27T19:03:30.941457Z"
    }
   },
   "outputs": [
    {
     "name": "stdout",
     "output_type": "stream",
     "text": [
      "(0.998319149017334, 0.4425372779369354)\n",
      "(0.7997354865074158, 2.190768637956505e-33)\n"
     ]
    }
   ],
   "source": [
    "print(stats.shapiro(norm1))\n",
    "print(stats.shapiro(exp1))"
   ]
  },
  {
   "cell_type": "markdown",
   "metadata": {},
   "source": [
    "# Student"
   ]
  },
  {
   "cell_type": "code",
   "execution_count": 11,
   "metadata": {
    "ExecuteTime": {
     "end_time": "2020-03-27T19:03:31.183145Z",
     "start_time": "2020-03-27T19:03:31.171176Z"
    }
   },
   "outputs": [
    {
     "name": "stdout",
     "output_type": "stream",
     "text": [
      "Ttest_indResult(statistic=-3.44187000084148, pvalue=0.0007199892901390361)\n"
     ]
    },
    {
     "data": {
      "text/plain": [
       "(0.8593550293724225, 1.315954316183412)"
      ]
     },
     "execution_count": 11,
     "metadata": {},
     "output_type": "execute_result"
    }
   ],
   "source": [
    "y = np.random.normal(1, 1, size=90)\n",
    "x = np.random.normal(1.3, 1, size=90)\n",
    "print(stats.ttest_ind(y, x)) # H3 y_mean <> x_mean\n",
    "y.mean(), x.mean()"
   ]
  },
  {
   "cell_type": "code",
   "execution_count": 12,
   "metadata": {
    "ExecuteTime": {
     "end_time": "2020-03-27T19:03:31.366737Z",
     "start_time": "2020-03-27T19:03:31.358425Z"
    }
   },
   "outputs": [
    {
     "data": {
      "text/plain": [
       "(-3.44187000084148, 0.0007199892901390361)"
      ]
     },
     "execution_count": 12,
     "metadata": {},
     "output_type": "execute_result"
    }
   ],
   "source": [
    "# H1: y < x\n",
    "# 1. T-statistic < 0\n",
    "s, p = stats.ttest_ind(y, x)\n",
    "s, p"
   ]
  },
  {
   "cell_type": "code",
   "execution_count": 13,
   "metadata": {
    "ExecuteTime": {
     "end_time": "2020-03-27T19:03:31.533643Z",
     "start_time": "2020-03-27T19:03:31.526662Z"
    }
   },
   "outputs": [
    {
     "data": {
      "text/plain": [
       "0.0003599946450695181"
      ]
     },
     "execution_count": 13,
     "metadata": {},
     "output_type": "execute_result"
    }
   ],
   "source": [
    "one_sided_p_value = p / 2\n",
    "one_sided_p_value"
   ]
  },
  {
   "cell_type": "code",
   "execution_count": null,
   "metadata": {},
   "outputs": [],
   "source": []
  },
  {
   "cell_type": "code",
   "execution_count": null,
   "metadata": {
    "ExecuteTime": {
     "end_time": "2020-03-16T08:45:13.766786Z",
     "start_time": "2020-03-16T08:45:13.759802Z"
    }
   },
   "outputs": [],
   "source": []
  },
  {
   "cell_type": "markdown",
   "metadata": {},
   "source": [
    "# Wilcoxon\n",
    "# Mann–Whitney U test"
   ]
  },
  {
   "cell_type": "code",
   "execution_count": 14,
   "metadata": {
    "ExecuteTime": {
     "end_time": "2020-03-27T19:03:32.261367Z",
     "start_time": "2020-03-27T19:03:32.246835Z"
    }
   },
   "outputs": [],
   "source": [
    "x = np.array([\n",
    "    10043, 9596, 10305, 8354, 9413, 19776, 9815, 11311, 11253, 10856, 11389\n",
    "])\n",
    "\n",
    "y = np.array([\n",
    "    14253, 7843, 9581, 8594, 16119, 10112, 10173, 9756\n",
    "])"
   ]
  },
  {
   "cell_type": "code",
   "execution_count": 15,
   "metadata": {
    "ExecuteTime": {
     "end_time": "2020-03-27T19:03:32.428833Z",
     "start_time": "2020-03-27T19:03:32.421853Z"
    }
   },
   "outputs": [
    {
     "data": {
      "text/plain": [
       "(10803.875, 11101.0)"
      ]
     },
     "execution_count": 15,
     "metadata": {},
     "output_type": "execute_result"
    }
   ],
   "source": [
    "y.mean(), x.mean()"
   ]
  },
  {
   "cell_type": "code",
   "execution_count": 16,
   "metadata": {
    "ExecuteTime": {
     "end_time": "2020-03-27T19:03:32.608823Z",
     "start_time": "2020-03-27T19:03:32.600806Z"
    }
   },
   "outputs": [
    {
     "data": {
      "text/plain": [
       "array([ 9.,  6., 12.,  2.,  4., 19.,  8., 15., 14., 13., 16., 17.,  1.,\n",
       "        5.,  3., 18., 10., 11.,  7.])"
      ]
     },
     "execution_count": 16,
     "metadata": {},
     "output_type": "execute_result"
    }
   ],
   "source": [
    "ranks = stats.rankdata(np.hstack([x, y]))\n",
    "ranks"
   ]
  },
  {
   "cell_type": "code",
   "execution_count": 17,
   "metadata": {
    "ExecuteTime": {
     "end_time": "2020-03-27T19:03:32.750035Z",
     "start_time": "2020-03-27T19:03:32.742412Z"
    }
   },
   "outputs": [
    {
     "data": {
      "text/plain": [
       "array([17.,  1.,  5.,  3., 18., 10., 11.,  7.])"
      ]
     },
     "execution_count": 17,
     "metadata": {},
     "output_type": "execute_result"
    }
   ],
   "source": [
    "y_ranks = ranks[x.size:]\n",
    "y_ranks"
   ]
  },
  {
   "cell_type": "code",
   "execution_count": 18,
   "metadata": {
    "ExecuteTime": {
     "end_time": "2020-03-27T19:03:32.935588Z",
     "start_time": "2020-03-27T19:03:32.925460Z"
    }
   },
   "outputs": [
    {
     "data": {
      "text/plain": [
       "72.0"
      ]
     },
     "execution_count": 18,
     "metadata": {},
     "output_type": "execute_result"
    }
   ],
   "source": [
    "np.sum(y_ranks)"
   ]
  },
  {
   "cell_type": "code",
   "execution_count": 19,
   "metadata": {
    "ExecuteTime": {
     "end_time": "2020-03-27T19:03:33.107780Z",
     "start_time": "2020-03-27T19:03:33.102795Z"
    }
   },
   "outputs": [
    {
     "data": {
      "text/plain": [
       "8"
      ]
     },
     "execution_count": 19,
     "metadata": {},
     "output_type": "execute_result"
    }
   ],
   "source": [
    "y.size"
   ]
  },
  {
   "cell_type": "code",
   "execution_count": 20,
   "metadata": {
    "ExecuteTime": {
     "end_time": "2020-03-27T19:03:33.287805Z",
     "start_time": "2020-03-27T19:03:33.280823Z"
    }
   },
   "outputs": [
    {
     "data": {
      "text/plain": [
       "36.0"
      ]
     },
     "execution_count": 20,
     "metadata": {},
     "output_type": "execute_result"
    }
   ],
   "source": [
    "y.size * (y.size + 1) / 2"
   ]
  },
  {
   "cell_type": "code",
   "execution_count": 21,
   "metadata": {
    "ExecuteTime": {
     "end_time": "2020-03-27T19:03:33.437865Z",
     "start_time": "2020-03-27T19:03:33.431885Z"
    }
   },
   "outputs": [
    {
     "data": {
      "text/plain": [
       "66.0"
      ]
     },
     "execution_count": 21,
     "metadata": {},
     "output_type": "execute_result"
    }
   ],
   "source": [
    "x.size * (x.size + 1) / 2"
   ]
  },
  {
   "cell_type": "code",
   "execution_count": 22,
   "metadata": {
    "ExecuteTime": {
     "end_time": "2020-03-27T19:03:33.623699Z",
     "start_time": "2020-03-27T19:03:33.615723Z"
    }
   },
   "outputs": [
    {
     "data": {
      "text/plain": [
       "MannwhitneyuResult(statistic=36.0, pvalue=0.5357239360626169)"
      ]
     },
     "execution_count": 22,
     "metadata": {},
     "output_type": "execute_result"
    }
   ],
   "source": [
    "stats.mannwhitneyu(y, x, alternative='two-sided')"
   ]
  },
  {
   "cell_type": "code",
   "execution_count": null,
   "metadata": {},
   "outputs": [],
   "source": []
  },
  {
   "cell_type": "code",
   "execution_count": 23,
   "metadata": {
    "ExecuteTime": {
     "end_time": "2020-03-27T19:03:34.094546Z",
     "start_time": "2020-03-27T19:03:34.087562Z"
    }
   },
   "outputs": [
    {
     "data": {
      "text/plain": [
       "array([17.,  1.,  5.,  3., 18., 10., 11.,  7.])"
      ]
     },
     "execution_count": 23,
     "metadata": {},
     "output_type": "execute_result"
    }
   ],
   "source": [
    "y_ranks"
   ]
  },
  {
   "cell_type": "code",
   "execution_count": 24,
   "metadata": {
    "ExecuteTime": {
     "end_time": "2020-03-27T19:03:34.335645Z",
     "start_time": "2020-03-27T19:03:34.325368Z"
    }
   },
   "outputs": [
    {
     "data": {
      "text/plain": [
       "array([ 9.,  6., 12.,  2.,  4., 19.,  8., 15., 14., 13., 16.])"
      ]
     },
     "execution_count": 24,
     "metadata": {},
     "output_type": "execute_result"
    }
   ],
   "source": [
    "x_ranks = ranks[:x.size]\n",
    "x_ranks"
   ]
  },
  {
   "cell_type": "code",
   "execution_count": 25,
   "metadata": {
    "ExecuteTime": {
     "end_time": "2020-03-27T19:03:34.510570Z",
     "start_time": "2020-03-27T19:03:34.503626Z"
    }
   },
   "outputs": [
    {
     "data": {
      "text/plain": [
       "52.0"
      ]
     },
     "execution_count": 25,
     "metadata": {},
     "output_type": "execute_result"
    }
   ],
   "source": [
    "u1 = x_ranks.sum() - x.size * (x.size + 1) / 2\n",
    "u1"
   ]
  },
  {
   "cell_type": "code",
   "execution_count": 26,
   "metadata": {
    "ExecuteTime": {
     "end_time": "2020-03-27T19:03:34.691238Z",
     "start_time": "2020-03-27T19:03:34.675589Z"
    }
   },
   "outputs": [
    {
     "data": {
      "text/plain": [
       "36.0"
      ]
     },
     "execution_count": 26,
     "metadata": {},
     "output_type": "execute_result"
    }
   ],
   "source": [
    "u2 = y_ranks.sum() - y.size * (y.size + 1) / 2\n",
    "u2"
   ]
  },
  {
   "cell_type": "markdown",
   "metadata": {},
   "source": [
    "# Fisher"
   ]
  },
  {
   "cell_type": "markdown",
   "metadata": {},
   "source": [
    "**Greater / Lesser**"
   ]
  },
  {
   "cell_type": "code",
   "execution_count": 27,
   "metadata": {
    "ExecuteTime": {
     "end_time": "2020-03-27T19:03:35.551723Z",
     "start_time": "2020-03-27T19:03:35.543747Z"
    }
   },
   "outputs": [
    {
     "name": "stdout",
     "output_type": "stream",
     "text": [
      "-0.00948505477764567 0.541584958965819\n",
      "1.1602218791502192 2.1316525542325055\n"
     ]
    }
   ],
   "source": [
    "y = np.random.normal(0, 1, size=100)\n",
    "x = np.random.normal(0.5, 1.5, size=100)\n",
    "\n",
    "print(y.mean(), x.mean())\n",
    "print(y.var(), x.var())"
   ]
  },
  {
   "cell_type": "code",
   "execution_count": 28,
   "metadata": {
    "ExecuteTime": {
     "end_time": "2020-03-27T19:03:35.740735Z",
     "start_time": "2020-03-27T19:03:35.735751Z"
    }
   },
   "outputs": [
    {
     "data": {
      "text/plain": [
       "1.837280086282971"
      ]
     },
     "execution_count": 28,
     "metadata": {},
     "output_type": "execute_result"
    }
   ],
   "source": [
    "F = stats.tvar(x) / stats.tvar(y)\n",
    "F"
   ]
  },
  {
   "cell_type": "code",
   "execution_count": 29,
   "metadata": {
    "ExecuteTime": {
     "end_time": "2020-03-27T19:03:35.924474Z",
     "start_time": "2020-03-27T19:03:35.902831Z"
    }
   },
   "outputs": [
    {
     "data": {
      "text/plain": [
       "0.0013685620644021679"
      ]
     },
     "execution_count": 29,
     "metadata": {},
     "output_type": "execute_result"
    }
   ],
   "source": [
    "p_value = 1 - stats.f.cdf(F, len(x) - 1, len(y) - 1)\n",
    "p_value"
   ]
  },
  {
   "cell_type": "markdown",
   "metadata": {},
   "source": [
    "# Ansari-Bradley test"
   ]
  },
  {
   "cell_type": "code",
   "execution_count": 30,
   "metadata": {
    "ExecuteTime": {
     "end_time": "2020-03-27T19:03:36.847087Z",
     "start_time": "2020-03-27T19:03:36.840143Z"
    }
   },
   "outputs": [
    {
     "data": {
      "text/plain": [
       "AnsariResult(statistic=4853.0, pvalue=0.3356823720474522)"
      ]
     },
     "execution_count": 30,
     "metadata": {},
     "output_type": "execute_result"
    }
   ],
   "source": [
    "stats.ansari(x, y)"
   ]
  },
  {
   "cell_type": "code",
   "execution_count": 31,
   "metadata": {
    "ExecuteTime": {
     "end_time": "2020-03-27T19:03:37.260387Z",
     "start_time": "2020-03-27T19:03:37.249417Z"
    }
   },
   "outputs": [
    {
     "name": "stdout",
     "output_type": "stream",
     "text": [
      "200\n"
     ]
    },
    {
     "data": {
      "text/plain": [
       "4853.0"
      ]
     },
     "execution_count": 31,
     "metadata": {},
     "output_type": "execute_result"
    }
   ],
   "source": [
    "N = x.size + y.size\n",
    "print(N)\n",
    "A = 0\n",
    "for r in stats.rankdata(np.hstack([x, y]))[:x.size]:\n",
    "    A += (N + 1) / 2 - np.abs(r - (N + 1) / 2)\n",
    "A"
   ]
  },
  {
   "cell_type": "code",
   "execution_count": 32,
   "metadata": {
    "ExecuteTime": {
     "end_time": "2020-03-27T19:03:38.128706Z",
     "start_time": "2020-03-27T19:03:38.119730Z"
    }
   },
   "outputs": [
    {
     "data": {
      "text/plain": [
       "-0.9627313255319555"
      ]
     },
     "execution_count": 32,
     "metadata": {},
     "output_type": "execute_result"
    }
   ],
   "source": [
    "M = x.size * (N + 2) / 4\n",
    "D = x.size * y.size * (N + 2) * (N - 2) / (48 * (N - 1))\n",
    "\n",
    "A_std = (A - M) / np.sqrt(D)\n",
    "A_std"
   ]
  },
  {
   "cell_type": "code",
   "execution_count": 33,
   "metadata": {
    "ExecuteTime": {
     "end_time": "2020-03-27T19:03:39.166306Z",
     "start_time": "2020-03-27T19:03:39.159328Z"
    }
   },
   "outputs": [
    {
     "data": {
      "text/plain": [
       "0.3356823720474522"
      ]
     },
     "execution_count": 33,
     "metadata": {},
     "output_type": "execute_result"
    }
   ],
   "source": [
    "p_value = 2 * stats.norm.cdf(A_std)\n",
    "p_value"
   ]
  },
  {
   "cell_type": "code",
   "execution_count": null,
   "metadata": {},
   "outputs": [],
   "source": []
  }
 ],
 "metadata": {
  "kernelspec": {
   "display_name": "Python 3",
   "language": "python",
   "name": "python3"
  },
  "language_info": {
   "codemirror_mode": {
    "name": "ipython",
    "version": 3
   },
   "file_extension": ".py",
   "mimetype": "text/x-python",
   "name": "python",
   "nbconvert_exporter": "python",
   "pygments_lexer": "ipython3",
   "version": "3.7.3"
  },
  "toc": {
   "base_numbering": 1,
   "nav_menu": {},
   "number_sections": true,
   "sideBar": true,
   "skip_h1_title": false,
   "title_cell": "Table of Contents",
   "title_sidebar": "Contents",
   "toc_cell": false,
   "toc_position": {},
   "toc_section_display": true,
   "toc_window_display": false
  },
  "varInspector": {
   "cols": {
    "lenName": 16,
    "lenType": 16,
    "lenVar": 40
   },
   "kernels_config": {
    "python": {
     "delete_cmd_postfix": "",
     "delete_cmd_prefix": "del ",
     "library": "var_list.py",
     "varRefreshCmd": "print(var_dic_list())"
    },
    "r": {
     "delete_cmd_postfix": ") ",
     "delete_cmd_prefix": "rm(",
     "library": "var_list.r",
     "varRefreshCmd": "cat(var_dic_list()) "
    }
   },
   "position": {
    "height": "144.183px",
    "left": "848.667px",
    "right": "20px",
    "top": "120px",
    "width": "350px"
   },
   "types_to_exclude": [
    "module",
    "function",
    "builtin_function_or_method",
    "instance",
    "_Feature"
   ],
   "window_display": false
  }
 },
 "nbformat": 4,
 "nbformat_minor": 1
}
